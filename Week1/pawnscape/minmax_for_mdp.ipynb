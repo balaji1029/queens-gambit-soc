{
  "cells": [
    {
      "cell_type": "markdown",
      "metadata": {
        "colab_type": "text",
        "id": "view-in-github"
      },
      "source": [
        "<a href=\"https://colab.research.google.com/github/balaji2005/queens-gambit-soc/blob/main/pawnscape/minmax_for_mdp.ipynb\" target=\"_parent\"><img src=\"https://colab.research.google.com/assets/colab-badge.svg\" alt=\"Open In Colab\"/></a>"
      ]
    },
    {
      "cell_type": "code",
      "execution_count": 49,
      "metadata": {
        "id": "eapTTg70gKDt"
      },
      "outputs": [],
      "source": [
        "import copy\n",
        "\n",
        "white_options = dict()\n",
        "black_options = dict()\n",
        "\n",
        "class State:\n",
        "    def __init__(self):\n",
        "        self.board = [\n",
        "            ['B', 'B', 'B', 'B'],\n",
        "            ['.', '.', '.', '.'],\n",
        "            ['.', '.', '.', '.'],\n",
        "            ['W', 'W', 'W', 'W']\n",
        "        ]\n",
        "        self.player = 'W'\n",
        "        self.value = None\n",
        "\n",
        "    def __init__(self, board, player):\n",
        "        self.board = board\n",
        "        self.player = player\n",
        "        if self.is_terminal():\n",
        "            if self.is_terminal() == 'W':\n",
        "                self.value = 1\n",
        "            elif self.is_terminal() == 'B':\n",
        "                self.value = -1\n",
        "            else:\n",
        "                self.value = 0\n",
        "        else:\n",
        "            if self.player == 'W':\n",
        "                children = list(self.get_children())\n",
        "                value = max([child.value for child in children])\n",
        "                for child in children:\n",
        "                  if child.value == value:\n",
        "                    white_options[str(self.board)] = child.board\n",
        "                self.value = value\n",
        "            else:\n",
        "                children = list(self.get_children())\n",
        "                value = min([child.value for child in children])\n",
        "                for child in children:\n",
        "                  if child.value == value:\n",
        "                    black_options[str(self.board)] = child.board\n",
        "                self.value = value\n",
        "\n",
        "    def get_children(self):\n",
        "        for move in legal_moves(self.board, self.player):\n",
        "            board_copy = make_move(self.board, move)\n",
        "            yield State(board_copy, 'W' if self.player == 'B' else 'B')\n",
        "\n",
        "    def is_terminal(self):\n",
        "        if 'W' in self.board[0]:\n",
        "            return 'W'\n",
        "        if 'B' in self.board[3]:\n",
        "            return 'B'\n",
        "        if len(list(legal_moves(self.board, self.player))) == 0:\n",
        "            return 'draw'\n",
        "        return None\n",
        "\n",
        "\n",
        "def legal_moves(board, player):\n",
        "    for i in range(4):\n",
        "        for j in range(4):\n",
        "            if player == 'W':\n",
        "                if board[i][j] == 'W':\n",
        "                    if i - 1 >= 0 and board[i-1][j] == '.':\n",
        "                        yield f'{i-1}{j}{i}{j}'\n",
        "                    if i - 1 >= 0 and j + 1 < 4 and board[i-1][j+1] == 'B':\n",
        "                        yield f'{i-1}{j+1}{i}{j}'\n",
        "                    if i - 1 >= 0 and j - 1 >= 0 and board[i-1][j-1] == 'B':\n",
        "                        yield f'{i-1}{j-1}{i}{j}'\n",
        "            if player == 'B':\n",
        "                if board[i][j] == 'B':\n",
        "                    if i + 1 < 4 and board[i+1][j] == '.':\n",
        "                        yield f'{i+1}{j}{i}{j}'\n",
        "                    if i + 1 < 4 and j - 1 >= 0 and board[i+1][j-1] == 'W':\n",
        "                        yield f'{i+1}{j-1}{i}{j}'\n",
        "                    if i + 1 < 4 and j + 1 < 4 and board[i+1][j+1] == 'W':\n",
        "                        yield f'{i+1}{j+1}{i}{j}'\n",
        "    return []\n",
        "\n",
        "def make_move(board, move):\n",
        "    i1, j1, i2, j2 = int(move[0]), int(move[1]), int(move[2]), int(move[3])\n",
        "    new_board = copy.deepcopy(board)\n",
        "    if board[i2][j2] == '.':\n",
        "        return None\n",
        "    if move in legal_moves(board, board[i2][j2]):\n",
        "        new_board[i1][j1] = board[i2][j2]\n",
        "        new_board[i2][j2] = '.'\n",
        "        return new_board\n",
        "    return None"
      ]
    },
    {
      "cell_type": "code",
      "execution_count": null,
      "metadata": {
        "colab": {
          "base_uri": "https://localhost:8080/"
        },
        "id": "b7_P6IiugZOF",
        "outputId": "06f6ae28-ce3e-4f15-f4fc-a789d9c51586"
      },
      "outputs": [
        {
          "name": "stdout",
          "output_type": "stream",
          "text": [
            "-1\n"
          ]
        }
      ],
      "source": [
        "board2 = [\n",
        "    ['B', 'B', 'B', 'B'],\n",
        "    ['.', '.', '.', '.'],\n",
        "    ['.', '.', '.', '.'],\n",
        "    ['W', 'W', 'W', 'W']\n",
        "]\n",
        "state2 = State(board2, 'B')\n",
        "print(state2.value)"
      ]
    },
    {
      "cell_type": "code",
      "execution_count": null,
      "metadata": {
        "colab": {
          "base_uri": "https://localhost:8080/"
        },
        "id": "MmniNJMfhRSC",
        "outputId": "d1e0672c-c70e-41c4-ef7c-72db2c413148"
      },
      "outputs": [
        {
          "name": "stdout",
          "output_type": "stream",
          "text": [
            "0\n"
          ]
        }
      ],
      "source": [
        "board = [\n",
        "    ['B', 'B', 'B', 'B'],\n",
        "    ['.', '.', '.', '.'],\n",
        "    ['.', '.', '.', 'W'],\n",
        "    ['W', 'W', 'W', '.']\n",
        "]\n",
        "state = State(board, 'B')\n",
        "print(state.value)"
      ]
    },
    {
      "cell_type": "code",
      "execution_count": 34,
      "metadata": {
        "colab": {
          "base_uri": "https://localhost:8080/"
        },
        "id": "IoML3Japhex5",
        "outputId": "28bcff20-f6a4-44ea-d514-3a96cdf88a8d"
      },
      "outputs": [
        {
          "name": "stdout",
          "output_type": "stream",
          "text": [
            "1\n"
          ]
        }
      ],
      "source": [
        "board = [\n",
        "    ['B', 'B', 'B', '.'],\n",
        "    ['.', '.', '.', 'B'],\n",
        "    ['.', '.', '.', 'W'],\n",
        "    ['W', 'W', 'W', '.']\n",
        "]\n",
        "\n",
        "state = State(board, 'W')\n",
        "print(state.value)"
      ]
    },
    {
      "cell_type": "code",
      "execution_count": 35,
      "metadata": {
        "colab": {
          "base_uri": "https://localhost:8080/"
        },
        "id": "KHkxogAui1o-",
        "outputId": "f0f29399-a504-41e3-cdea-6adaf4e74c5d"
      },
      "outputs": [
        {
          "data": {
            "text/plain": [
              "1425"
            ]
          },
          "execution_count": 35,
          "metadata": {},
          "output_type": "execute_result"
        }
      ],
      "source": [
        "len(options)"
      ]
    },
    {
      "cell_type": "code",
      "execution_count": 37,
      "metadata": {
        "colab": {
          "base_uri": "https://localhost:8080/"
        },
        "id": "mjWdNUdZ5USl",
        "outputId": "8c22c1d2-4b64-4a2a-e877-2036493f5392"
      },
      "outputs": [
        {
          "name": "stdout",
          "output_type": "stream",
          "text": [
            "0\n"
          ]
        }
      ],
      "source": [
        "board = [\n",
        "    ['B', 'B', '.', 'B'],\n",
        "    ['.', '.', 'B', '.'],\n",
        "    ['.', '.', '.', 'W'],\n",
        "    ['W', 'W', 'W', '.']\n",
        "]\n",
        "\n",
        "state = State(board, 'W')\n",
        "print(state.value)"
      ]
    },
    {
      "cell_type": "code",
      "execution_count": 38,
      "metadata": {
        "colab": {
          "base_uri": "https://localhost:8080/"
        },
        "id": "ripdxd2G5VV3",
        "outputId": "525236c3-fc09-469e-94f0-ba0ceec7e61f"
      },
      "outputs": [
        {
          "data": {
            "text/plain": [
              "2482"
            ]
          },
          "execution_count": 38,
          "metadata": {},
          "output_type": "execute_result"
        }
      ],
      "source": [
        "len(options)"
      ]
    },
    {
      "cell_type": "code",
      "execution_count": 39,
      "metadata": {
        "colab": {
          "base_uri": "https://localhost:8080/"
        },
        "id": "pjZfskQg5ltV",
        "outputId": "bd41d83a-d2d4-43f0-cd93-7165d683c105"
      },
      "outputs": [
        {
          "name": "stdout",
          "output_type": "stream",
          "text": [
            "0\n"
          ]
        }
      ],
      "source": [
        "board = [\n",
        "    ['B', '.', 'B', 'B'],\n",
        "    ['.', 'B', '.', '.'],\n",
        "    ['.', '.', '.', 'W'],\n",
        "    ['W', 'W', 'W', '.']\n",
        "]\n",
        "\n",
        "state = State(board, 'W')\n",
        "print(state.value)"
      ]
    },
    {
      "cell_type": "code",
      "execution_count": 40,
      "metadata": {
        "colab": {
          "base_uri": "https://localhost:8080/"
        },
        "id": "JM2eQlgc6xFh",
        "outputId": "11a77b98-c965-401a-9203-3f627dedc110"
      },
      "outputs": [
        {
          "data": {
            "text/plain": [
              "3132"
            ]
          },
          "execution_count": 40,
          "metadata": {},
          "output_type": "execute_result"
        }
      ],
      "source": [
        "len(options)"
      ]
    },
    {
      "cell_type": "code",
      "execution_count": 41,
      "metadata": {
        "colab": {
          "base_uri": "https://localhost:8080/"
        },
        "id": "9XfQqpWO61Xj",
        "outputId": "ef5222ef-840e-4ab5-9053-ee4a947b420d"
      },
      "outputs": [
        {
          "name": "stdout",
          "output_type": "stream",
          "text": [
            "1\n"
          ]
        }
      ],
      "source": [
        "board = [\n",
        "    ['.', 'B', 'B', 'B'],\n",
        "    ['B', '.', '.', '.'],\n",
        "    ['.', '.', '.', 'W'],\n",
        "    ['W', 'W', 'W', '.']\n",
        "]\n",
        "\n",
        "state = State(board, 'W')\n",
        "print(state.value)"
      ]
    },
    {
      "cell_type": "code",
      "execution_count": 44,
      "metadata": {
        "colab": {
          "base_uri": "https://localhost:8080/"
        },
        "id": "Ipaf1qP964no",
        "outputId": "92a566a0-6489-4f88-a410-b72cd4ae1e08"
      },
      "outputs": [
        {
          "data": {
            "text/plain": [
              "3342"
            ]
          },
          "execution_count": 44,
          "metadata": {},
          "output_type": "execute_result"
        }
      ],
      "source": [
        "len(options)"
      ]
    },
    {
      "cell_type": "code",
      "execution_count": 47,
      "metadata": {
        "id": "M2Bo5Ufl69Um"
      },
      "outputs": [],
      "source": [
        "import json\n",
        "\n",
        "file = open('data.json', 'w')\n",
        "file.write(json.dumps(options))\n",
        "file.close()"
      ]
    },
    {
      "cell_type": "code",
      "execution_count": 45,
      "metadata": {
        "id": "kliwvyM37dtf"
      },
      "outputs": [],
      "source": [
        "!touch data.json"
      ]
    },
    {
      "cell_type": "code",
      "execution_count": 48,
      "metadata": {
        "colab": {
          "base_uri": "https://localhost:8080/"
        },
        "id": "Fk1Wg_Gx7jdW",
        "outputId": "f5ac9e79-4c92-4db3-9706-723271ad4102"
      },
      "outputs": [
        {
          "name": "stdout",
          "output_type": "stream",
          "text": [
            "/content\n"
          ]
        }
      ],
      "source": [
        "!pwd"
      ]
    },
    {
      "cell_type": "code",
      "execution_count": 50,
      "metadata": {
        "colab": {
          "base_uri": "https://localhost:8080/"
        },
        "id": "eN50FMJB7wyY",
        "outputId": "6aa6b90e-d7b2-41c5-ec87-0dae93b51ff0"
      },
      "outputs": [
        {
          "name": "stdout",
          "output_type": "stream",
          "text": [
            "0\n"
          ]
        }
      ],
      "source": [
        "board = [\n",
        "    ['B', 'B', 'B', 'B'],\n",
        "    ['.', '.', '.', '.'],\n",
        "    ['.', '.', '.', '.'],\n",
        "    ['W', 'W', 'W', 'W']\n",
        "]\n",
        "\n",
        "state = State(board, 'W')\n",
        "print(state.value)"
      ]
    },
    {
      "cell_type": "code",
      "execution_count": 51,
      "metadata": {
        "colab": {
          "base_uri": "https://localhost:8080/"
        },
        "id": "qYoos7UH1-3M",
        "outputId": "1d8e53b1-341c-45eb-c648-c9080657bcee"
      },
      "outputs": [
        {
          "data": {
            "text/plain": [
              "5855"
            ]
          },
          "execution_count": 51,
          "metadata": {},
          "output_type": "execute_result"
        }
      ],
      "source": [
        "len(white_options)"
      ]
    },
    {
      "cell_type": "code",
      "execution_count": 52,
      "metadata": {
        "colab": {
          "base_uri": "https://localhost:8080/"
        },
        "id": "q6ZQAzzZ2lZc",
        "outputId": "7555b538-3264-4146-a2ce-ef5572e14f7e"
      },
      "outputs": [
        {
          "data": {
            "text/plain": [
              "5565"
            ]
          },
          "execution_count": 52,
          "metadata": {},
          "output_type": "execute_result"
        }
      ],
      "source": [
        "len(black_options)"
      ]
    },
    {
      "cell_type": "code",
      "execution_count": 54,
      "metadata": {
        "id": "2DI2Qr5A2naL"
      },
      "outputs": [],
      "source": [
        "black = open('black-mdp.json', 'w')\n",
        "black.write(json.dumps(black_options))\n",
        "black.close()\n",
        "white = open('white-mdp.json', 'w')\n",
        "white.write(json.dumps(white_options))\n",
        "white.close()"
      ]
    },
    {
      "cell_type": "code",
      "execution_count": null,
      "metadata": {
        "id": "7PEHddrn2zsN"
      },
      "outputs": [],
      "source": []
    }
  ],
  "metadata": {
    "colab": {
      "authorship_tag": "ABX9TyN50LnHVSsXSw5o/bIrA7Xw",
      "include_colab_link": true,
      "provenance": []
    },
    "kernelspec": {
      "display_name": "Python 3",
      "name": "python3"
    },
    "language_info": {
      "name": "python",
      "version": "3.10.12"
    }
  },
  "nbformat": 4,
  "nbformat_minor": 0
}
