{
 "cells": [
  {
   "cell_type": "markdown",
   "id": "b42831d6",
   "metadata": {},
   "source": [
    "# Reinforcementally(Is it right?? Idk) Learning Pawnscape"
   ]
  },
  {
   "cell_type": "code",
   "execution_count": 3,
   "id": "c843c62d",
   "metadata": {},
   "outputs": [],
   "source": [
    "from engine import Engine, Board, State"
   ]
  },
  {
   "cell_type": "code",
   "execution_count": 4,
   "id": "82cbe8b4",
   "metadata": {},
   "outputs": [],
   "source": [
    "engine = Engine()"
   ]
  },
  {
   "cell_type": "code",
   "execution_count": 6,
   "id": "6cd93017",
   "metadata": {
    "collapsed": true
   },
   "outputs": [
    {
     "name": "stdout",
     "output_type": "stream",
     "text": [
      "\n",
      "  0 1 2 3\n",
      "0 B B B B \n",
      "1 . . . . \n",
      "2 . . . . \n",
      "3 W W W W \n",
      "\n",
      "\n",
      "W's turn\n",
      "\n",
      "Computer moved:  2333\n",
      "\n",
      "  0 1 2 3\n",
      "0 B B B B \n",
      "1 . . . . \n",
      "2 . . . W \n",
      "3 W W W . \n",
      "\n",
      "\n",
      "B's turn\n",
      "\n",
      "Computer moved:  1202\n",
      "\n",
      "\n",
      "  0 1 2 3\n",
      "0 B B . B \n",
      "1 . . B . \n",
      "2 . . . W \n",
      "3 W W W . \n",
      "\n",
      "\n",
      "W's turn\n",
      "\n",
      "Computer moved:  2131\n",
      "\n",
      "  0 1 2 3\n",
      "0 B B . B \n",
      "1 . . B . \n",
      "2 . W . W \n",
      "3 W . W . \n",
      "\n",
      "\n",
      "B's turn\n",
      "\n",
      "Computer moved:  2312\n",
      "\n",
      "\n",
      "  0 1 2 3\n",
      "0 B B . B \n",
      "1 . . . . \n",
      "2 . W . B \n",
      "3 W . W . \n",
      "\n",
      "\n",
      "W's turn\n",
      "\n",
      "Computer moved:  2332\n",
      "\n",
      "  0 1 2 3\n",
      "0 B B . B \n",
      "1 . . . . \n",
      "2 . W . W \n",
      "3 W . . . \n",
      "\n",
      "\n",
      "B's turn\n",
      "\n",
      "Computer moved:  1303\n",
      "\n",
      "\n",
      "  0 1 2 3\n",
      "0 B B . . \n",
      "1 . . . B \n",
      "2 . W . W \n",
      "3 W . . . \n",
      "\n",
      "\n",
      "W's turn\n",
      "\n",
      "Computer moved:  2030\n",
      "\n",
      "  0 1 2 3\n",
      "0 B B . . \n",
      "1 . . . B \n",
      "2 W W . W \n",
      "3 . . . . \n",
      "\n",
      "\n",
      "B's turn\n",
      "\n",
      "Computer moved:  1101\n",
      "\n",
      "\n",
      "  0 1 2 3\n",
      "0 B . . . \n",
      "1 . B . B \n",
      "2 W W . W \n",
      "3 . . . . \n",
      "\n",
      "\n",
      "W's turn\n",
      "\n",
      "Computer moved:  1120\n",
      "\n",
      "  0 1 2 3\n",
      "0 B . . . \n",
      "1 . W . B \n",
      "2 . W . W \n",
      "3 . . . . \n",
      "\n",
      "\n",
      "B's turn\n",
      "\n",
      "Computer moved:  1100\n",
      "\n",
      "  0 1 2 3\n",
      "0 . . . . \n",
      "1 . B . B \n",
      "2 . W . W \n",
      "3 . . . . \n",
      "\n",
      "\n",
      "It's a draw!\n"
     ]
    }
   ],
   "source": [
    "engine.run_with_strategy()"
   ]
  },
  {
   "cell_type": "code",
   "execution_count": 8,
   "id": "d0723142",
   "metadata": {
    "collapsed": true
   },
   "outputs": [
    {
     "data": {
      "text/plain": [
       "['2333',\n",
       " '1202',\n",
       " '2131',\n",
       " '2312',\n",
       " '2332',\n",
       " '1303',\n",
       " '2030',\n",
       " '1101',\n",
       " '1120',\n",
       " '1100']"
      ]
     },
     "execution_count": 8,
     "metadata": {},
     "output_type": "execute_result"
    }
   ],
   "source": [
    "engine.move_history"
   ]
  },
  {
   "cell_type": "code",
   "execution_count": 9,
   "id": "8f239d4f",
   "metadata": {},
   "outputs": [],
   "source": [
    "white_mdp = dict()"
   ]
  },
  {
   "cell_type": "markdown",
   "id": "7b4c0034",
   "metadata": {},
   "source": [
    "This function should take in the state, return a state, random basically...."
   ]
  },
  {
   "cell_type": "code",
   "execution_count": 1,
   "id": "dd0a9985",
   "metadata": {},
   "outputs": [
    {
     "ename": "NameError",
     "evalue": "name 'Board' is not defined",
     "output_type": "error",
     "traceback": [
      "\u001b[0;31m---------------------------------------------------------------------------\u001b[0m",
      "\u001b[0;31mNameError\u001b[0m                                 Traceback (most recent call last)",
      "\u001b[0;32m/tmp/ipykernel_37508/3685356344.py\u001b[0m in \u001b[0;36m<module>\u001b[0;34m\u001b[0m\n\u001b[1;32m      1\u001b[0m \u001b[0;32mfor\u001b[0m \u001b[0mi\u001b[0m \u001b[0;32min\u001b[0m \u001b[0mrange\u001b[0m\u001b[0;34m(\u001b[0m\u001b[0;36m10\u001b[0m\u001b[0;34m**\u001b[0m\u001b[0;36m6\u001b[0m\u001b[0;34m)\u001b[0m\u001b[0;34m:\u001b[0m\u001b[0;34m\u001b[0m\u001b[0;34m\u001b[0m\u001b[0m\n\u001b[0;32m----> 2\u001b[0;31m     \u001b[0mboard\u001b[0m \u001b[0;34m=\u001b[0m \u001b[0mBoard\u001b[0m\u001b[0;34m(\u001b[0m\u001b[0;34m)\u001b[0m\u001b[0;34m\u001b[0m\u001b[0;34m\u001b[0m\u001b[0m\n\u001b[0m\u001b[1;32m      3\u001b[0m     \u001b[0;32mif\u001b[0m \u001b[0mboard\u001b[0m\u001b[0;34m.\u001b[0m\u001b[0mturn\u001b[0m \u001b[0;34m==\u001b[0m \u001b[0;34m'w'\u001b[0m\u001b[0;34m:\u001b[0m\u001b[0;34m\u001b[0m\u001b[0;34m\u001b[0m\u001b[0m\n\u001b[1;32m      4\u001b[0m         \u001b[0;32mfor\u001b[0m \u001b[0mchild\u001b[0m \u001b[0;32min\u001b[0m \u001b[0mboard\u001b[0m\u001b[0;34m.\u001b[0m\u001b[0mget_children\u001b[0m\u001b[0;34m(\u001b[0m\u001b[0;34m)\u001b[0m\u001b[0;34m:\u001b[0m\u001b[0;34m\u001b[0m\u001b[0;34m\u001b[0m\u001b[0m\n\u001b[1;32m      5\u001b[0m             \u001b[0;32mif\u001b[0m \u001b[0mstr\u001b[0m\u001b[0;34m(\u001b[0m\u001b[0mchild\u001b[0m\u001b[0;34m.\u001b[0m\u001b[0mboard\u001b[0m\u001b[0;34m)\u001b[0m \u001b[0;32mnot\u001b[0m \u001b[0;32min\u001b[0m \u001b[0mwhite_mdp\u001b[0m\u001b[0;34m:\u001b[0m\u001b[0;34m\u001b[0m\u001b[0;34m\u001b[0m\u001b[0m\n",
      "\u001b[0;31mNameError\u001b[0m: name 'Board' is not defined"
     ]
    }
   ],
   "source": [
    "for i in range(10**6):\n",
    "    board = Board()\n",
    "    if board.turn == 'w':\n",
    "        for child in board.get_children():\n",
    "            if str(child.board) not in white_mdp:\n",
    "                if child.check_win() is None:\n",
    "                    white_mdp[str(child.board)] = 0.5\n",
    "                elif child.check_win() == 'w':\n",
    "                    white_mdp[str(child.board)] = 1\n",
    "                elif child.check_win() == 'b':\n",
    "                    white_mdp[str(child.board)] = 0\n",
    "                else:\n",
    "                    white_mdp[str(child.board)] = 0.5\n",
    "            "
   ]
  },
  {
   "cell_type": "code",
   "execution_count": 17,
   "id": "e2346c90",
   "metadata": {},
   "outputs": [],
   "source": [
    "m = 10**9 + 7\n",
    "s = [0, 0, 0, 0, 0, 0, 1, 0, 0, 1]\n",
    "for i in range(169420):\n",
    "    x = s[9] % m\n",
    "    for i in range(1, 10):\n",
    "        s[10-i] = s[9-i] % m\n",
    "    s[0] = x % m\n",
    "    s[1] += x\n",
    "    s[1] %= m"
   ]
  },
  {
   "cell_type": "code",
   "execution_count": 16,
   "id": "63a17f19",
   "metadata": {},
   "outputs": [
    {
     "data": {
      "text/plain": [
       "5448750394"
      ]
     },
     "execution_count": 16,
     "metadata": {},
     "output_type": "execute_result"
    }
   ],
   "source": [
    "sum(s)"
   ]
  },
  {
   "cell_type": "code",
   "execution_count": 18,
   "id": "6a42e601",
   "metadata": {},
   "outputs": [
    {
     "data": {
      "text/plain": [
       "[193785449,\n",
       " 695135275,\n",
       " 697356621,\n",
       " 252682606,\n",
       " 213315305,\n",
       " 843356658,\n",
       " 992581475,\n",
       " 353640276,\n",
       " 917829077,\n",
       " 289067652]"
      ]
     },
     "execution_count": 18,
     "metadata": {},
     "output_type": "execute_result"
    }
   ],
   "source": [
    "s"
   ]
  },
  {
   "cell_type": "code",
   "execution_count": 22,
   "id": "ebe5b20f",
   "metadata": {},
   "outputs": [
    {
     "ename": "TypeError",
     "evalue": "unsupported operand type(s) for &: 'str' and 'float'",
     "output_type": "error",
     "traceback": [
      "\u001b[0;31m---------------------------------------------------------------------------\u001b[0m",
      "\u001b[0;31mTypeError\u001b[0m                                 Traceback (most recent call last)",
      "\u001b[0;32m/tmp/ipykernel_37508/801939327.py\u001b[0m in \u001b[0;36m<module>\u001b[0;34m\u001b[0m\n\u001b[0;32m----> 1\u001b[0;31m \u001b[0;34m'%.20f'\u001b[0m \u001b[0;34m&\u001b[0m \u001b[0;36m7\u001b[0m\u001b[0;34m/\u001b[0m\u001b[0;34m(\u001b[0m\u001b[0;36m7\u001b[0m\u001b[0;34m+\u001b[0m\u001b[0;36m10\u001b[0m\u001b[0;34m**\u001b[0m\u001b[0;36m9\u001b[0m\u001b[0;34m)\u001b[0m\u001b[0;34m\u001b[0m\u001b[0;34m\u001b[0m\u001b[0m\n\u001b[0m",
      "\u001b[0;31mTypeError\u001b[0m: unsupported operand type(s) for &: 'str' and 'float'"
     ]
    }
   ],
   "source": [
    "'%.20f'  7/(7+10**9)"
   ]
  },
  {
   "cell_type": "code",
   "execution_count": null,
   "id": "adc9dad8",
   "metadata": {},
   "outputs": [],
   "source": []
  }
 ],
 "metadata": {
  "kernelspec": {
   "display_name": "Python 3 (ipykernel)",
   "language": "python",
   "name": "python3"
  },
  "language_info": {
   "codemirror_mode": {
    "name": "ipython",
    "version": 3
   },
   "file_extension": ".py",
   "mimetype": "text/x-python",
   "name": "python",
   "nbconvert_exporter": "python",
   "pygments_lexer": "ipython3",
   "version": "3.10.12"
  }
 },
 "nbformat": 4,
 "nbformat_minor": 5
}
