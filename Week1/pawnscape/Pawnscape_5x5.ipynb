{
  "nbformat": 4,
  "nbformat_minor": 0,
  "metadata": {
    "colab": {
      "provenance": [],
      "authorship_tag": "ABX9TyMAfxiV6W3tMqlxIbBtRn2j",
      "include_colab_link": true
    },
    "kernelspec": {
      "name": "python3",
      "display_name": "Python 3"
    },
    "language_info": {
      "name": "python"
    }
  },
  "cells": [
    {
      "cell_type": "markdown",
      "metadata": {
        "id": "view-in-github",
        "colab_type": "text"
      },
      "source": [
        "<a href=\"https://colab.research.google.com/github/balaji2005/queens-gambit-soc/blob/main/pawnscape/Pawnscape_5x5.ipynb\" target=\"_parent\"><img src=\"https://colab.research.google.com/assets/colab-badge.svg\" alt=\"Open In Colab\"/></a>"
      ]
    },
    {
      "cell_type": "code",
      "execution_count": 30,
      "metadata": {
        "id": "eapTTg70gKDt"
      },
      "outputs": [],
      "source": [
        "import copy\n",
        "\n",
        "white_options = dict()\n",
        "black_options = dict()\n",
        "options = dict()\n",
        "\n",
        "class State:\n",
        "    def __init__(self):\n",
        "        self.board = [\n",
        "            ['B', 'B', 'B', 'B', 'B'],\n",
        "            ['.', '.', '.', '.', '.'],\n",
        "            ['.', '.', '.', '.', '.'],\n",
        "            ['.', '.', '.', '.', '.'],\n",
        "            ['W', 'W', 'W', 'W', 'W']\n",
        "        ]\n",
        "        self.player = 'W'\n",
        "        self.value = None\n",
        "\n",
        "    def __init__(self, board, player):\n",
        "        self.board = board\n",
        "        self.player = player\n",
        "        if self.is_terminal():\n",
        "            if self.is_terminal() == 'W':\n",
        "                self.value = 1\n",
        "            elif self.is_terminal() == 'B':\n",
        "                self.value = -1\n",
        "            else:\n",
        "                self.value = 0\n",
        "        else:\n",
        "            if self.player == 'W':\n",
        "                if str(self.board) in white_options:\n",
        "                    self.value = white_options[str(self.board)][1]\n",
        "                else:\n",
        "                    children = list(self.get_children())\n",
        "                    print(children)\n",
        "                    value = max([child.value for child in children])\n",
        "                    for child in children:\n",
        "                      if child.value == value:\n",
        "                        white_options[str(self.board)] = (self.get_move_value(self.board, child.board), value)\n",
        "                    self.value = value\n",
        "            else:\n",
        "                if str(self.board) in black_options:\n",
        "                    self.value = black_options[str(self.board)][1]\n",
        "                else:\n",
        "                    children = list(self.get_children())\n",
        "                    value = min([child.value for child in children])\n",
        "                    for child in children:\n",
        "                      if child.value == value:\n",
        "                        black_options[str(self.board)] = (self.get_move_value(self.board, child.board), value)\n",
        "                    self.value = value\n",
        "    def get_move_value(self, before_move, after_move):\n",
        "        move = '    '\n",
        "        for i in range(4):\n",
        "            for j in range(4):\n",
        "                if before_move[i][j].upper() != after_move[i][j]:\n",
        "                    if after_move[i][j] == '.':\n",
        "                        move = f'{move[0]}{move[1]}{i}{j}'\n",
        "                    else:\n",
        "                        move = f'{i}{j}{move[2]}{move[3]}'\n",
        "        return move\n",
        "\n",
        "    def get_children(self):\n",
        "        for move in legal_moves(self.board, self.player):\n",
        "            board_copy = make_move(self.board, move)\n",
        "            yield State(board_copy, 'W' if self.player == 'B' else 'B')\n",
        "\n",
        "    def is_terminal(self):\n",
        "        if 'W' in self.board[0]:\n",
        "            return 'W'\n",
        "        if 'B' in self.board[4]:\n",
        "            return 'B'\n",
        "        if len(list(legal_moves(self.board, self.player))) == 0:\n",
        "            return 'draw'\n",
        "        return None\n",
        "\n",
        "\n",
        "\n",
        "\n",
        "def legal_moves(board, player):\n",
        "    for i in range(5):\n",
        "        for j in range(5):\n",
        "            if player == 'W':\n",
        "                if board[i][j] == 'W':\n",
        "                    if i - 1 >= 0 and board[i-1][j] == '.':\n",
        "                        yield f'{i-1}{j}{i}{j}'\n",
        "                    if i - 1 >= 0 and j + 1 < 5 and board[i-1][j+1] == 'B':\n",
        "                        yield f'{i-1}{j+1}{i}{j}'\n",
        "                    if i - 1 >= 0 and j - 1 >= 0 and board[i-1][j-1] == 'B':\n",
        "                        yield f'{i-1}{j-1}{i}{j}'\n",
        "            if player == 'B':\n",
        "                if board[i][j] == 'B':\n",
        "                    if i + 1 < 5 and board[i+1][j] == '.':\n",
        "                        yield f'{i+1}{j}{i}{j}'\n",
        "                    if i + 1 < 5 and j - 1 >= 0 and board[i+1][j-1] == 'W':\n",
        "                        yield f'{i+1}{j-1}{i}{j}'\n",
        "                    if i + 1 < 5 and j + 1 < 5 and board[i+1][j+1] == 'W':\n",
        "                        yield f'{i+1}{j+1}{i}{j}'\n",
        "    return []\n",
        "\n",
        "def make_move(board, move):\n",
        "    i1, j1, i2, j2 = int(move[0]), int(move[1]), int(move[2]), int(move[3])\n",
        "    new_board = copy.deepcopy(board)\n",
        "    if board[i2][j2] == '.':\n",
        "        return None\n",
        "    if move in legal_moves(board, board[i2][j2]):\n",
        "        new_board[i1][j1] = board[i2][j2]\n",
        "        new_board[i2][j2] = '.'\n",
        "        return new_board\n",
        "    return None"
      ]
    },
    {
      "cell_type": "code",
      "source": [
        "board2 = [\n",
        "    ['B', 'B', 'B', 'B'],\n",
        "    ['.', '.', '.', '.'],\n",
        "    ['.', '.', '.', '.'],\n",
        "    ['W', 'W', 'W', 'W']\n",
        "]\n",
        "state2 = State(board2, 'B')\n",
        "print(state2.value)"
      ],
      "metadata": {
        "colab": {
          "base_uri": "https://localhost:8080/"
        },
        "id": "b7_P6IiugZOF",
        "outputId": "06f6ae28-ce3e-4f15-f4fc-a789d9c51586"
      },
      "execution_count": null,
      "outputs": [
        {
          "output_type": "stream",
          "name": "stdout",
          "text": [
            "-1\n"
          ]
        }
      ]
    },
    {
      "cell_type": "code",
      "source": [
        "board = [\n",
        "    ['B', 'B', 'B', 'B'],\n",
        "    ['.', '.', '.', '.'],\n",
        "    ['.', '.', '.', 'W'],\n",
        "    ['W', 'W', 'W', '.']\n",
        "]\n",
        "state = State(board, 'B')\n",
        "print(state.value)"
      ],
      "metadata": {
        "colab": {
          "base_uri": "https://localhost:8080/"
        },
        "id": "MmniNJMfhRSC",
        "outputId": "d1e0672c-c70e-41c4-ef7c-72db2c413148"
      },
      "execution_count": null,
      "outputs": [
        {
          "output_type": "stream",
          "name": "stdout",
          "text": [
            "0\n"
          ]
        }
      ]
    },
    {
      "cell_type": "code",
      "source": [
        "board = [\n",
        "    ['B', 'B', 'B', '.'],\n",
        "    ['.', '.', '.', 'B'],\n",
        "    ['.', '.', '.', 'W'],\n",
        "    ['W', 'W', 'W', '.']\n",
        "]\n",
        "\n",
        "state = State(board, 'W')\n",
        "print(state.value)"
      ],
      "metadata": {
        "id": "IoML3Japhex5",
        "colab": {
          "base_uri": "https://localhost:8080/"
        },
        "outputId": "28bcff20-f6a4-44ea-d514-3a96cdf88a8d"
      },
      "execution_count": null,
      "outputs": [
        {
          "output_type": "stream",
          "name": "stdout",
          "text": [
            "1\n"
          ]
        }
      ]
    },
    {
      "cell_type": "code",
      "source": [
        "len(options)"
      ],
      "metadata": {
        "colab": {
          "base_uri": "https://localhost:8080/"
        },
        "id": "KHkxogAui1o-",
        "outputId": "f0f29399-a504-41e3-cdea-6adaf4e74c5d"
      },
      "execution_count": null,
      "outputs": [
        {
          "output_type": "execute_result",
          "data": {
            "text/plain": [
              "1425"
            ]
          },
          "metadata": {},
          "execution_count": 35
        }
      ]
    },
    {
      "cell_type": "code",
      "source": [
        "board = [\n",
        "    ['B', 'B', '.', 'B'],\n",
        "    ['.', '.', 'B', '.'],\n",
        "    ['.', '.', '.', 'W'],\n",
        "    ['W', 'W', 'W', '.']\n",
        "]\n",
        "\n",
        "state = State(board, 'W')\n",
        "print(state.value)"
      ],
      "metadata": {
        "colab": {
          "base_uri": "https://localhost:8080/"
        },
        "id": "mjWdNUdZ5USl",
        "outputId": "8c22c1d2-4b64-4a2a-e877-2036493f5392"
      },
      "execution_count": null,
      "outputs": [
        {
          "output_type": "stream",
          "name": "stdout",
          "text": [
            "0\n"
          ]
        }
      ]
    },
    {
      "cell_type": "code",
      "source": [
        "len(options)"
      ],
      "metadata": {
        "colab": {
          "base_uri": "https://localhost:8080/"
        },
        "id": "ripdxd2G5VV3",
        "outputId": "525236c3-fc09-469e-94f0-ba0ceec7e61f"
      },
      "execution_count": null,
      "outputs": [
        {
          "output_type": "execute_result",
          "data": {
            "text/plain": [
              "2482"
            ]
          },
          "metadata": {},
          "execution_count": 38
        }
      ]
    },
    {
      "cell_type": "code",
      "source": [
        "board = [\n",
        "    ['B', '.', 'B', 'B'],\n",
        "    ['.', 'B', '.', '.'],\n",
        "    ['.', '.', ]\n",
        "    ['.', '.', '.', 'W'],\n",
        "    ['W', 'W', 'W', '.']\n",
        "]\n",
        "\n",
        "state = State(board, 'W')\n",
        "print(state.value)"
      ],
      "metadata": {
        "colab": {
          "base_uri": "https://localhost:8080/"
        },
        "id": "pjZfskQg5ltV",
        "outputId": "bd41d83a-d2d4-43f0-cd93-7165d683c105"
      },
      "execution_count": null,
      "outputs": [
        {
          "output_type": "stream",
          "name": "stdout",
          "text": [
            "0\n"
          ]
        }
      ]
    },
    {
      "cell_type": "code",
      "source": [
        "len(options)"
      ],
      "metadata": {
        "colab": {
          "base_uri": "https://localhost:8080/"
        },
        "id": "JM2eQlgc6xFh",
        "outputId": "11a77b98-c965-401a-9203-3f627dedc110"
      },
      "execution_count": null,
      "outputs": [
        {
          "output_type": "execute_result",
          "data": {
            "text/plain": [
              "3132"
            ]
          },
          "metadata": {},
          "execution_count": 40
        }
      ]
    },
    {
      "cell_type": "code",
      "source": [
        "board = [\n",
        "    ['.', 'B', 'B', 'B'],\n",
        "    ['B', '.', '.', '.'],\n",
        "    ['.', '.', '.', 'W'],\n",
        "    ['W', 'W', 'W', '.']\n",
        "]\n",
        "\n",
        "state = State(board, 'W')\n",
        "print(state.value)"
      ],
      "metadata": {
        "colab": {
          "base_uri": "https://localhost:8080/"
        },
        "id": "9XfQqpWO61Xj",
        "outputId": "ef5222ef-840e-4ab5-9053-ee4a947b420d"
      },
      "execution_count": null,
      "outputs": [
        {
          "output_type": "stream",
          "name": "stdout",
          "text": [
            "1\n"
          ]
        }
      ]
    },
    {
      "cell_type": "code",
      "source": [
        "len(options)"
      ],
      "metadata": {
        "colab": {
          "base_uri": "https://localhost:8080/"
        },
        "id": "Ipaf1qP964no",
        "outputId": "92a566a0-6489-4f88-a410-b72cd4ae1e08"
      },
      "execution_count": null,
      "outputs": [
        {
          "output_type": "execute_result",
          "data": {
            "text/plain": [
              "3342"
            ]
          },
          "metadata": {},
          "execution_count": 44
        }
      ]
    },
    {
      "cell_type": "code",
      "source": [
        "import json\n",
        "\n",
        "file = open('data.json', 'w')\n",
        "file.write(json.dumps(options))\n",
        "file.close()"
      ],
      "metadata": {
        "id": "M2Bo5Ufl69Um"
      },
      "execution_count": 28,
      "outputs": []
    },
    {
      "cell_type": "code",
      "source": [
        "!touch data.json"
      ],
      "metadata": {
        "id": "kliwvyM37dtf"
      },
      "execution_count": null,
      "outputs": []
    },
    {
      "cell_type": "code",
      "source": [
        "!pwd"
      ],
      "metadata": {
        "colab": {
          "base_uri": "https://localhost:8080/"
        },
        "id": "Fk1Wg_Gx7jdW",
        "outputId": "f5ac9e79-4c92-4db3-9706-723271ad4102"
      },
      "execution_count": null,
      "outputs": [
        {
          "output_type": "stream",
          "name": "stdout",
          "text": [
            "/content\n"
          ]
        }
      ]
    },
    {
      "cell_type": "code",
      "source": [
        "board = [\n",
        "    ['B', 'B', 'B', 'B'],\n",
        "    ['.', '.', '.', '.'],\n",
        "    ['.', '.', '.', '.'],\n",
        "    ['W', 'W', 'W', 'W']\n",
        "]\n",
        "\n",
        "state = State(board, 'W')\n",
        "print(state.value)"
      ],
      "metadata": {
        "colab": {
          "base_uri": "https://localhost:8080/"
        },
        "id": "eN50FMJB7wyY",
        "outputId": "6aa6b90e-d7b2-41c5-ec87-0dae93b51ff0"
      },
      "execution_count": null,
      "outputs": [
        {
          "output_type": "stream",
          "name": "stdout",
          "text": [
            "0\n"
          ]
        }
      ]
    },
    {
      "cell_type": "code",
      "source": [
        "len(white_options)"
      ],
      "metadata": {
        "colab": {
          "base_uri": "https://localhost:8080/"
        },
        "id": "qYoos7UH1-3M",
        "outputId": "1d8e53b1-341c-45eb-c648-c9080657bcee"
      },
      "execution_count": null,
      "outputs": [
        {
          "output_type": "execute_result",
          "data": {
            "text/plain": [
              "5855"
            ]
          },
          "metadata": {},
          "execution_count": 51
        }
      ]
    },
    {
      "cell_type": "code",
      "source": [
        "len(black_options)"
      ],
      "metadata": {
        "colab": {
          "base_uri": "https://localhost:8080/"
        },
        "id": "q6ZQAzzZ2lZc",
        "outputId": "7555b538-3264-4146-a2ce-ef5572e14f7e"
      },
      "execution_count": null,
      "outputs": [
        {
          "output_type": "execute_result",
          "data": {
            "text/plain": [
              "5565"
            ]
          },
          "metadata": {},
          "execution_count": 52
        }
      ]
    },
    {
      "cell_type": "code",
      "source": [
        "black = open('black-mdp.json', 'w')\n",
        "black.write(json.dumps(black_options))\n",
        "black.close()\n",
        "white = open('white-mdp.json', 'w')\n",
        "white.write(json.dumps(white_options))\n",
        "white.close()"
      ],
      "metadata": {
        "id": "2DI2Qr5A2naL"
      },
      "execution_count": null,
      "outputs": []
    },
    {
      "cell_type": "code",
      "source": [
        "board = [\n",
        "    ['B', 'B', 'B', 'B'],\n",
        "    ['.', '.', '.', '.'],\n",
        "    ['.', '.', '.', 'W'],\n",
        "    ['W', 'W', 'W', '.']\n",
        "]\n",
        "\n",
        "state = State(board, 'B')\n",
        "print(state.value)"
      ],
      "metadata": {
        "colab": {
          "base_uri": "https://localhost:8080/"
        },
        "id": "7PEHddrn2zsN",
        "outputId": "67f0f99f-6f74-4d10-9297-c839177fa91b"
      },
      "execution_count": null,
      "outputs": [
        {
          "output_type": "stream",
          "name": "stdout",
          "text": [
            "0\n"
          ]
        }
      ]
    },
    {
      "cell_type": "code",
      "source": [
        "len(white_options)"
      ],
      "metadata": {
        "colab": {
          "base_uri": "https://localhost:8080/"
        },
        "id": "wdBUbEGKRX4N",
        "outputId": "11ea9f55-dadb-4210-8acb-13ed3d35f344"
      },
      "execution_count": null,
      "outputs": [
        {
          "output_type": "execute_result",
          "data": {
            "text/plain": [
              "5855"
            ]
          },
          "metadata": {},
          "execution_count": 56
        }
      ]
    },
    {
      "cell_type": "code",
      "source": [
        "len(options)"
      ],
      "metadata": {
        "colab": {
          "base_uri": "https://localhost:8080/"
        },
        "id": "6v_dRJZhRmy2",
        "outputId": "85ced5d8-1bab-4701-992e-3e275ee83af8"
      },
      "execution_count": null,
      "outputs": [
        {
          "output_type": "execute_result",
          "data": {
            "text/plain": [
              "3342"
            ]
          },
          "metadata": {},
          "execution_count": 59
        }
      ]
    },
    {
      "cell_type": "code",
      "source": [
        "black_options = {}\n",
        "white_options = {}"
      ],
      "metadata": {
        "id": "rqjrINsrR99q"
      },
      "execution_count": 32,
      "outputs": []
    },
    {
      "cell_type": "code",
      "source": [
        "board = [\n",
        "    ['B', 'B', 'B', 'B', 'B'],\n",
        "    ['.', '.', '.', '.', '.'],\n",
        "    ['.', '.', '.', '.', '.'],\n",
        "    ['.', '.', '.', '.', '.'],\n",
        "    ['W', 'W', 'W', 'W', 'W']\n",
        "]\n",
        "\n",
        "state = State(board, 'W')\n",
        "print(state.value)"
      ],
      "metadata": {
        "colab": {
          "base_uri": "https://localhost:8080/"
        },
        "id": "U3yQWAxniwgz",
        "outputId": "895d8282-131f-445a-d918-8bd3d81ecfe2"
      },
      "execution_count": 37,
      "outputs": [
        {
          "output_type": "stream",
          "name": "stdout",
          "text": [
            "0\n"
          ]
        }
      ]
    },
    {
      "cell_type": "code",
      "source": [
        "len(white_options)"
      ],
      "metadata": {
        "colab": {
          "base_uri": "https://localhost:8080/"
        },
        "id": "hsNz4qR_i3DF",
        "outputId": "1be779a9-ce2c-4b01-9aa1-a92f45b1a774"
      },
      "execution_count": 38,
      "outputs": [
        {
          "output_type": "execute_result",
          "data": {
            "text/plain": [
              "980859"
            ]
          },
          "metadata": {},
          "execution_count": 38
        }
      ]
    },
    {
      "cell_type": "code",
      "source": [
        "len(black_options)"
      ],
      "metadata": {
        "colab": {
          "base_uri": "https://localhost:8080/"
        },
        "id": "Xbmy2QStnI9F",
        "outputId": "e0cdebc7-8aff-4dd4-f050-00cdf657deff"
      },
      "execution_count": 39,
      "outputs": [
        {
          "output_type": "execute_result",
          "data": {
            "text/plain": [
              "955784"
            ]
          },
          "metadata": {},
          "execution_count": 39
        }
      ]
    },
    {
      "cell_type": "code",
      "source": [
        "black = open('black-mdp-5x5-moves.json', 'w')\n",
        "black.write(json.dumps(black_options))\n",
        "black.close()\n",
        "white = open('white-mdp-5x5-moves.json', 'w')\n",
        "white.write(json.dumps(white_options))\n",
        "white.close()"
      ],
      "metadata": {
        "id": "ADOIuQUhnMa7"
      },
      "execution_count": 40,
      "outputs": []
    },
    {
      "cell_type": "code",
      "source": [],
      "metadata": {
        "id": "F0J0O8gXiouI"
      },
      "execution_count": null,
      "outputs": []
    }
  ]
}