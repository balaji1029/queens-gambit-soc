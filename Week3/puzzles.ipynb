{
 "cells": [
  {
   "cell_type": "markdown",
   "metadata": {},
   "source": [
    "# Exploring the <code>chess</code> Library"
   ]
  },
  {
   "cell_type": "code",
   "execution_count": null,
   "metadata": {},
   "outputs": [],
   "source": [
    "import chess"
   ]
  },
  {
   "cell_type": "code",
   "execution_count": null,
   "metadata": {},
   "outputs": [],
   "source": [
    "board = chess.Board()"
   ]
  },
  {
   "cell_type": "code",
   "execution_count": null,
   "metadata": {},
   "outputs": [],
   "source": [
    "board.san(chess.Move(chess.E2, chess.E4))"
   ]
  },
  {
   "cell_type": "code",
   "execution_count": null,
   "metadata": {},
   "outputs": [],
   "source": [
    "print(board)"
   ]
  },
  {
   "cell_type": "code",
   "execution_count": null,
   "metadata": {},
   "outputs": [],
   "source": [
    "board.push_san(\"Nf3\")"
   ]
  },
  {
   "cell_type": "code",
   "execution_count": null,
   "metadata": {},
   "outputs": [],
   "source": [
    "print(board)\n",
    "board"
   ]
  },
  {
   "cell_type": "code",
   "execution_count": null,
   "metadata": {},
   "outputs": [],
   "source": [
    "board.move_stack"
   ]
  },
  {
   "cell_type": "code",
   "execution_count": null,
   "metadata": {},
   "outputs": [],
   "source": [
    "__repr__ = board.__repr__()"
   ]
  },
  {
   "cell_type": "code",
   "execution_count": null,
   "metadata": {},
   "outputs": [],
   "source": [
    "display(board)"
   ]
  },
  {
   "cell_type": "code",
   "execution_count": null,
   "metadata": {},
   "outputs": [],
   "source": [
    "board.push(chess.Move(chess.E2, chess.E1))"
   ]
  },
  {
   "cell_type": "code",
   "execution_count": null,
   "metadata": {},
   "outputs": [],
   "source": [
    "display(board)"
   ]
  },
  {
   "cell_type": "code",
   "execution_count": null,
   "metadata": {},
   "outputs": [],
   "source": [
    "print(board)"
   ]
  },
  {
   "cell_type": "code",
   "execution_count": null,
   "metadata": {},
   "outputs": [],
   "source": [
    "board = chess.Board()\n",
    "move = chess.Move.from_uci(\"e2e1\")\n",
    "move = move.uci()\n",
    "board.push_uci(move)"
   ]
  },
  {
   "cell_type": "code",
   "execution_count": null,
   "metadata": {},
   "outputs": [],
   "source": [
    "board.fen()"
   ]
  },
  {
   "cell_type": "code",
   "execution_count": null,
   "metadata": {},
   "outputs": [],
   "source": []
  },
  {
   "cell_type": "code",
   "execution_count": null,
   "metadata": {},
   "outputs": [],
   "source": [
    "fen = '4r1rk/5K1b/7R/R7/8/8/8/8 w - - 0 1'\n",
    "chess.Board(fen)"
   ]
  },
  {
   "cell_type": "code",
   "execution_count": null,
   "metadata": {},
   "outputs": [],
   "source": [
    "fen = '4r1rk/5K1b/7R/R7/8/8/8/8 w - - 0 1'\n",
    "board = chess.Board(fen)\n",
    "board.piece_map()\n",
    "for square in board.piece_map():\n",
    "    print(square, board.piece_map()[square])"
   ]
  },
  {
   "cell_type": "code",
   "execution_count": null,
   "metadata": {},
   "outputs": [],
   "source": [
    "board = chess.Board(fen)\n",
    "\n",
    "def alpha_beta_pruning(curr, alpha, beta, depth, max_player=True):\n",
    "    if curr.is_checkmate():\n",
    "        if curr.turn == max_player:\n",
    "            return (1000000, list())\n",
    "        else:\n",
    "            return (-1000000, list())\n",
    "    if curr.is_stalemate():\n",
    "        return 0, []\n",
    "    if depth == 0:\n",
    "        map = curr.piece_map()\n",
    "        ref = {'p': 1, 'n': 3, 'b': 3, 'r': 5, 'q': 9, 'k': 100}\n",
    "        count = dict()\n",
    "        pieces = ['k', 'q', 'r', 'b', 'n', 'p']\n",
    "        for piece in pieces:\n",
    "            count[piece] = 0\n",
    "            count[piece.upper()] = 0\n",
    "        score = 0\n",
    "        for key in map:\n",
    "            count[str(map[key])] += 1\n",
    "        for piece in pieces:\n",
    "            score += (count[piece.upper()] - count[piece]) * ref[piece]\n",
    "        return (score, list())\n",
    "    # if curr.fen() == '4rr1k/7b/5K1R/R7/8/8/8/8 w - - 2 2':\n",
    "    #     print('here')\n",
    "    if max_player:\n",
    "        max_eval = -1000000\n",
    "        best_move = []\n",
    "        for move in curr.legal_moves:\n",
    "            new = curr.copy()\n",
    "            new.push(move)\n",
    "            eval, cmove = alpha_beta_pruning(new, alpha, beta, depth - 1, False)\n",
    "            # print(new.fen(), eval, cmove, depth, alpha, beta)\n",
    "            max_eval = max(max_eval, eval)\n",
    "            if max_eval == eval:\n",
    "                best_move = [move, ] + cmove \n",
    "            alpha = max(alpha, eval)\n",
    "            if beta <= alpha:\n",
    "                break\n",
    "        return max_eval, best_move\n",
    "    else:\n",
    "        min_eval = 1000000\n",
    "        best_move = []\n",
    "        for move in curr.legal_moves:\n",
    "            new = curr.copy()\n",
    "            new.push(move)\n",
    "            eval, cmove = alpha_beta_pruning(new, alpha, beta, depth - 1, True)\n",
    "            # print(new.fen(), eval, cmove, depth, alpha, beta)\n",
    "            min_eval = min(min_eval, eval)\n",
    "            if min_eval == eval:\n",
    "                # print(cmove)\n",
    "                best_move = [move, ] + cmove\n",
    "            beta = min(beta, eval)\n",
    "            if beta <= alpha:\n",
    "                break\n",
    "        return min_eval, best_move"
   ]
  },
  {
   "cell_type": "code",
   "execution_count": null,
   "metadata": {},
   "outputs": [],
   "source": [
    "board = chess.Board(fen)\n",
    "result = alpha_beta_pruning(board, -1000000, 1000000, 3, True)\n",
    "for move in result[1]:\n",
    "    print(board.san(move), end=' ')\n",
    "    board.push(move)"
   ]
  },
  {
   "cell_type": "code",
   "execution_count": null,
   "metadata": {},
   "outputs": [],
   "source": [
    "import requests\n",
    "url = 'https://wtharvey.com/m8n2a.html'\n",
    "response = requests.get(url)"
   ]
  },
  {
   "cell_type": "code",
   "execution_count": null,
   "metadata": {},
   "outputs": [],
   "source": [
    "response.text"
   ]
  },
  {
   "cell_type": "code",
   "execution_count": null,
   "metadata": {},
   "outputs": [],
   "source": [
    "import re\n",
    "puzzles = dict()\n",
    "for line in response.text.split('\\n'):\n",
    "    if re.search(r'</a><br>.+<br>', line):\n",
    "        line = line.split('<br>')\n",
    "        if 'Black' in line[1]:\n",
    "            line.pop(1)\n",
    "        # print(line)\n",
    "        puzzles[line[1]] = line[2].split('white>')[1].split('<')[0]"
   ]
  },
  {
   "cell_type": "code",
   "execution_count": null,
   "metadata": {},
   "outputs": [],
   "source": [
    "# puzzles"
   ]
  },
  {
   "cell_type": "code",
   "execution_count": null,
   "metadata": {},
   "outputs": [],
   "source": [
    "from tqdm import tqdm\n",
    "from chess_minmax import alphabet\n",
    "correct = 0\n",
    "incorrect = 0\n",
    "for puzzle in puzzles:\n",
    "    board = chess.Board(puzzle)\n",
    "    result = alphabet(board, 3)\n",
    "    answer = ''\n",
    "    for move in result[1]:\n",
    "        answer += board.san(move) + ' '\n",
    "        board.push(move)\n",
    "    answer = answer.strip()\n",
    "    if answer.strip() == puzzles[puzzle]:\n",
    "        # print('Correct', answer)\n",
    "        correct += 1\n",
    "    else:\n",
    "        try:\n",
    "            if (answer.split(' ')[-1] == puzzles[puzzle].split(' ')[-1]) and (answer.split(' ')[0] == puzzles[puzzle].split(' ')[0]):\n",
    "                # print('Correct', answer, puzzles[puzzle])\n",
    "                correct += 1\n",
    "            else:\n",
    "                print('Incorrect', answer, puzzles[puzzle])\n",
    "                incorrect += 1\n",
    "        except:\n",
    "            print('Incorrect', answer, puzzles[puzzle])\n",
    "            incorrect += 1\n",
    "print(correct, incorrect)"
   ]
  },
  {
   "cell_type": "code",
   "execution_count": null,
   "metadata": {},
   "outputs": [],
   "source": [
    "from chess_minmax import alphabet\n",
    "import chess\n",
    "import chess.svg\n",
    "\n",
    "# fen_list = [\n",
    "#     \"2r5/1b1p1p1k/p2Pp1p1/PpP1P1Pp/1P1K1P1P/3R4/8/8 w - - 0 1\",\n",
    "#     \"8/5p1k/4pPpp/4P1KP/6P1/8/8/8 w - - 0 1\",\n",
    "#     \"8/8/8/8/8/2K5/PP6/k7 w - - 0 1\",\n",
    "#     \"8/8/8/8/8/2K5/PP6/1k6 w - - 0 1\",\n",
    "#     \"8/8/8/8/8/2K5/PP6/2k5 w - - 0 1\"\n",
    "# ]\n",
    "\n",
    "# fen = 'r5rk/5p1p/5R2/4B3/8/8/7P/7K w - - 0 1'\n",
    "# result = alphabet(fen, 5)\n",
    "# board = chess.Board(fen)\n",
    "# for move in result[1]:\n",
    "#     display(chess.svg.board(board, arrows=[chess.svg.Arrow(move.from_square, move.to_square)], size=400))\n",
    "#     print(board.san(move), end=' ')\n",
    "#     board.push(move)\n",
    "# board"
   ]
  },
  {
   "cell_type": "code",
   "execution_count": null,
   "metadata": {},
   "outputs": [],
   "source": [
    "import pandas as pd"
   ]
  },
  {
   "cell_type": "code",
   "execution_count": null,
   "metadata": {},
   "outputs": [],
   "source": [
    "data = pd.read_csv('lichess_db_puzzle.csv')"
   ]
  },
  {
   "cell_type": "code",
   "execution_count": null,
   "metadata": {},
   "outputs": [],
   "source": [
    "# filter data with mate in 2 in themes\n",
    "mate_in_2 = data.loc[data['Themes'].str.contains('mateIn2')]"
   ]
  },
  {
   "cell_type": "code",
   "execution_count": null,
   "metadata": {},
   "outputs": [],
   "source": [
    "data"
   ]
  },
  {
   "cell_type": "code",
   "execution_count": null,
   "metadata": {},
   "outputs": [],
   "source": [
    "mate_in_2"
   ]
  },
  {
   "cell_type": "code",
   "execution_count": null,
   "metadata": {},
   "outputs": [],
   "source": [
    "mate_in_3 = data.loc[data['Themes'].str.contains('mateIn3')]"
   ]
  },
  {
   "cell_type": "code",
   "execution_count": null,
   "metadata": {},
   "outputs": [],
   "source": [
    "mate_in_2"
   ]
  },
  {
   "cell_type": "code",
   "execution_count": null,
   "metadata": {},
   "outputs": [],
   "source": [
    "from tqdm import tqdm\n",
    "correct = 0\n",
    "incorrect = 0\n",
    "for puzzle in tqdm(mate_in_2.iterrows()):\n",
    "    fen = puzzle[1]['FEN']\n",
    "    board = chess.Board(fen)\n",
    "    result = alphabet(fen, 3)\n",
    "    moves = ''\n",
    "    for move in result[1]:\n",
    "        # display(chess.svg.board(board, arrows=[chess.svg.Arrow(move.from_square, move.to_square)], size=400))\n",
    "        moves += board.san(move) + ' '\n",
    "        board.push(move)\n",
    "    if board.is_checkmate():\n",
    "        correct += 1\n",
    "    else:\n",
    "        incorrect += 1\n",
    "#         print(fen, moves)\n",
    "print(correct, incorrect)"
   ]
  },
  {
   "cell_type": "code",
   "execution_count": null,
   "metadata": {},
   "outputs": [],
   "source": [
    "from tqdm import tqdm\n",
    "import sys\n",
    "correct = 0\n",
    "incorrect = 0\n",
    "temp_message = '0 0'\n",
    "sys.stdout.write(temp_message)\n",
    "sys.stdout.flush()\n",
    "for puzzle in mate_in_2.iterrows():\n",
    "    fen = puzzle[1]['FEN']\n",
    "    board = chess.Board(fen)\n",
    "    result = alphabet(fen, 3)\n",
    "    moves = ''\n",
    "    for move in result[1]:\n",
    "        # display(chess.svg.board(board, arrows=[chess.svg.Arrow(move.from_square, move.to_square)], size=400))\n",
    "        moves += board.san(move) + ' '\n",
    "        board.push(move)\n",
    "    if board.is_checkmate():\n",
    "        correct += 1\n",
    "    else:\n",
    "        incorrect += 1\n",
    "    sys.stdout.write('\\r' + ' ' * len(temp_message) + '\\r')\n",
    "    temp_message = f'{correct} {incorrect}'\n",
    "    sys.stdout.write(temp_message)\n",
    "    sys.stdout.flush()\n",
    "#         print(fen, moves)\n",
    "print(correct, incorrect)"
   ]
  },
  {
   "cell_type": "code",
   "execution_count": null,
   "metadata": {},
   "outputs": [],
   "source": [
    "from my_chess_engine import Engine\n",
    "\n",
    "fen = list(puzzles.keys())[0]"
   ]
  },
  {
   "cell_type": "code",
   "execution_count": null,
   "metadata": {},
   "outputs": [],
   "source": [
    "engine = Engine(fen)\n",
    "fen"
   ]
  },
  {
   "cell_type": "code",
   "execution_count": null,
   "metadata": {},
   "outputs": [],
   "source": [
    "display(engine.board)\n",
    "print(engine.alphabet(3))\n",
    "engine.board"
   ]
  },
  {
   "cell_type": "code",
   "execution_count": null,
   "metadata": {},
   "outputs": [],
   "source": [
    "from my_chess_engine import Engine\n",
    "fen = list(puzzles.keys())[0]\n",
    "engine = Engine(fen)\n",
    "print(engine.alphabet(3))"
   ]
  },
  {
   "cell_type": "code",
   "execution_count": null,
   "metadata": {},
   "outputs": [],
   "source": [
    "engine.board"
   ]
  },
  {
   "cell_type": "code",
   "execution_count": 13,
   "metadata": {},
   "outputs": [],
   "source": [
    "puzzles = {\n",
    " '4r1rk/5K1b/7R/R7/8/8/8/8 w - - 0 1': 'Rxh7+ Kxh7 Rh5#',\n",
    " '8/1r6/8/3R4/k7/p1K5/4r3/R7 w - - 0 1': 'Rxa3+ Kxa3 Ra5#',\n",
    " '6k1/8/6K1/8/8/3r4/4r3/5R1R w - - 0 1': 'Rh8+ Kxh8 Rf8#',\n",
    " '2rkr3/2ppp3/2n1n3/R2R4/8/8/3K4/8 w - - 0 1': 'Rxd7+ Kxd7 Rd5#',\n",
    " '4rkr1/1R1R4/4bK2/8/8/8/8/8 w - - 0 1': 'Rf7+ Bxf7 Rxf7#',\n",
    " '5K1k/6pp/7R/8/8/8/8/6R1 w - - 0 1': 'Rgg6 gxh6 Rg8#',\n",
    " '2k5/1q4b1/3K4/8/7R/8/7R/8 w - - 0 1': 'Rh8+ Bxh8 Rxh8#',\n",
    " '8/8/q5b1/7k/5Kp1/1R1R4/8/8 w - - 0 1': 'Rh3+ gxh3 Rxh3#',\n",
    " 'k7/3b4/1K6/8/8/5q2/2R1R3/8 w - - 0 1': 'Re8+ Bxe8 Rc8#',\n",
    " '8/1R1R4/8/p7/k1K5/r5r1/8/8 w - - 0 1': 'Rb4+ axb4 Ra7#',\n",
    " 'kr6/1p6/8/1p5R/6R1/8/1r6/5K2 w - - 0 1': 'Ra4+ bxa4 Ra5#',\n",
    " '6R1/8/8/7p/5K1k/r6r/8/6R1 w - - 0 1': 'R1g4+ hxg4 Rh8#',\n",
    " '4R3/8/5K2/7p/R5pk/5npr/8/8 w - - 0 1': 'Rxg4+ if hxg4 Rh8# or if Kxg4 Re4#',\n",
    " 'kb6/p4q2/2K5/8/8/8/8/1R1R4 w - - 0 1': 'Rxb8+ Kxb8 Rd8#',\n",
    " '8/6p1/6rk/6np/R6R/6K1/8/8 w - - 0 1': 'Rxh5+ Kxh5 Rh4#',\n",
    " 'kn1R4/ppp5/2q5/8/8/8/8/3RK3 w - - 0 1': 'Rxb8+ Kxb8 Rd8#',\n",
    " '1kb4R/1npp4/8/8/8/8/8/R5K1 w - - 0 1': 'Rxc8+ Kxc8 Ra8#',\n",
    " '8/8/1b6/kr6/pp6/1n6/7R/R3K3 w Q - 0 1': 'Rxa4+ Kxa4 Ra2#',\n",
    " '5K1k/7p/8/2p5/2rp4/8/p7/1B4B1 w - - 0 1': 'Bh2 axb8/Q Be5#',\n",
    " 'k7/p7/B2K4/8/8/8/3p2p1/4B3 w - - 0 1': 'Kc7 dxe1/Q Bb7#',\n",
    " '8/5n2/8/6B1/8/4K3/7p/5B1k w - - 0 1': 'Kf2 Nxg5 Bg2#',\n",
    " '8/5p2/7p/5Kpk/4BB1p/7r/8/8 w - - 0 1': 'Bd5 gxf4 Bxf7#',\n",
    " '8/6N1/8/pp6/kp6/pp5K/2N5/8 w - - 0 1': 'Ne6 bxc2 Nc5#',\n",
    " '8/8/8/7N/8/8/1p5p/N3K2k w - - 0 1': 'Kf2 bxa1/Q Ng3#',\n",
    " '4K3/8/8/4N1pr/4b1pk/4N1nr/8/8 w - - 0 1': 'Ng2+ Bxg2 Ng6#',\n",
    " 'k7/ppK5/2N5/3N4/8/8/7p/8 w - - 0 1': 'Kc8 bxc6 Nc7#',\n",
    " '7k/4K1pp/6pn/6N1/6N1/8/8/8 w - - 0 1': 'Kf8 Nxg4 Nf7#',\n",
    " '8/8/7p/5K1k/7p/8/2pn1N2/3N4 w - - 0 1': 'Nh3 cxd1/Q Nf4#',\n",
    " '7k/6pp/5P1P/8/8/8/1p3K2/8 w - - 0 1': 'f7 w/f8/Q#',\n",
    " '7k/5P2/4n1PK/8/8/8/8/8 w - - 0 1': 'g7+ Nxg7 f8/Q# (or f8/R#) ',\n",
    " 'k7/pn6/p1Pp4/4P3/8/8/8/6K1 w - - 0 1': 'c7 if dxe5 c8/Q# (or c8/R#)',\n",
    " '8/4PKPk/5n1p/4b3/8/8/p7/q7 w - - 0 1': 'e8/Q+ Nxe8 g8/Q#',\n",
    " 'r1k5/P7/2K1P3/8/8/8/8/8 w - - 0 1': 'e7 Rxa7 e8/Q# (or e8/R#)',\n",
    " '3k1r2/1P3P2/8/3K4/8/8/8/8 w - - 0 1': 'Kd6 Rxf7 b8/Q# (or b8/R#)',\n",
    " '8/8/2P5/8/4p2p/p4Ppk/6p1/6K1 w - - 0 1': 'c7 exf3 c8/Q# (or c8/B#)',\n",
    " '2b5/7P/4Pp2/7p/5K1k/7p/p6n/8 w - - 0 1': 'h8/N a1/Q Ng6#',\n",
    " '1k1B4/8/1K6/1n6/q7/8/8/3R4 w - - 0 1': 'Bc7+ Nxc7 Rd8#',\n",
    " '7k/B7/6K1/8/8/2b5/7r/R7 w - - 0 1': 'Bd4+ Bxd4 Ra8+',\n",
    " '6Bk/R4K2/8/8/8/8/8/8 w - - 0 1': 'Kg6 Kxg8 Ra8#',\n",
    " 'kb6/6n1/K7/5p2/4p3/8/8/4R2B w - - 0 1': 'Rxe4 if fxe4 Bxe4# or if f4 Rxf4#',\n",
    " '5Knk/7b/R7/8/7B/8/8/8 w - - 0 1': 'Rh6 Nxh6 Bf6#',\n",
    " '8/8/8/6nr/4nB1k/8/6K1/5R2 w - - 0 1': 'Bg3+ if Nxg3 Rf4# or if Kg4 Rf4#',\n",
    " '7k/5ppr/K5p1/8/8/8/2B5/2R5 w - - 0 1': 'Bxg6 fxg6 Rc8#',\n",
    " '7k/7p/5K1b/8/6R1/8/1B6/1q6 w - - 0 1': 'Kf7+ if Qxb2 Rg8# or if Bb7 Bxg7#',\n",
    " '6B1/p1K5/k7/pp6/8/8/8/R7 w - - 0 1': 'Ra4 bxa4 Bc4#',\n",
    " '8/8/pp6/kb2B3/4n3/K1R5/8/8 w - - 0 1': 'Rc5 if Nxc5 Bc3# or if bxc5 Bc7#',\n",
    " 'k7/pbK5/8/1B2n3/8/8/6p1/1R6 w - - 0 1': 'Ba6 if g1/Q Bxb7# or if Bxa6 Rb8#',\n",
    " '8/8/7p/5K1k/6pp/1R6/B4n1r/8 w - - 0 1': 'Rh3 w/Bf7#',\n",
    " 'r7/kp6/pR1Q4/5q2/8/8/8/3K4 w - - 0 1': 'Rxa6+ bxa6 Qc7#',\n",
    " '4Q3/kr6/pp6/8/8/8/6q1/R2K4 w - - 0 1': 'Rxa6+ Kxa6 Qa4#',\n",
    " '6rk/6n1/1R1Q4/7r/8/8/8/3K4 w - - 0 1': 'Qh6+ Rxh6 Rxh6#',\n",
    " '1k4r1/ppp5/8/8/2q5/8/5Q2/3K1R2 w - - 0 1': 'Qf8+ Rxf8 Rxf8#',\n",
    " '3R4/2q5/8/rpn5/kp5Q/2n5/1K6/8 w - - 0 1': 'Qxb4+ Kxb4 Rd4#',\n",
    " '5Q2/pp6/kp1R4/8/K7/8/4q3/8 w - - 0 1': 'Rxb6+ if Kxb6 Qd6# or if axb6 Qa8#',\n",
    " '1q1r3k/7p/7K/8/4R3/2p5/8/1Q6 w - - 0 1': 'Re8+ Rxe8 Qxh7#',\n",
    " 'kr6/1p6/p5R1/8/1q6/8/Q7/2K5 w - - 0 1': 'Rxa6+ bxa6 Qxa6#',\n",
    " 'k7/p2bR3/Q7/8/3q4/8/8/2K5 w - - 0 1': 'Re8+ Bxe8 Qc8#',\n",
    " 'k3r3/pR6/K7/2b5/8/8/1Q3q2/8 w - - 0 1': 'Rxa7+ Bxa7 Qb7#',\n",
    " '3rkr2/R3p3/8/4K3/8/7Q/5q2/8 w - - 0 1': 'Rxe7+ Kxe7 Qe6#',\n",
    " '2k5/1ppn4/1q6/8/Q7/8/5R2/4K3 w - - 0 1': 'Rf8+ Nxf8 Qe8#',\n",
    " 'k1r5/p1p5/N1K5/8/3q4/8/8/1R6 w - - 0 1': 'Rb8+ Rxb8 Nxc7#',\n",
    " '8/8/6Nr/5Kbk/R7/8/8/8 w - - 0 1': 'Rh4+ Bxh4 Nf4#',\n",
    " 'kr6/pp6/8/8/2N4R/8/8/3K4 w - - 0 1': 'Nb6+ axb6 Ra4#',\n",
    " '4nrkr/5pp1/8/7N/8/8/8/3K2R1 w - - 0 1': 'Rxg7+ Nxg7 Nf6#',\n",
    " '2Nnkr2/3p3R/8/5n2/8/8/8/7K w - - 0 1': 'Re7+ Nxe7 Nd6#',\n",
    " '2R5/8/pn6/k1N5/8/1K6/6q1/8 w - - 0 1': 'Nb7+ Qxb7 Rc5#',\n",
    " '5Kbk/R7/4q1P1/8/8/8/8/8 w - - 0 1': 'Rh7+ Bxh7 g7#',\n",
    " '5Kbk/6pp/6pR/5P2/8/8/8/8 w - - 0 1': 'fxg6 gxh6 g7#',\n",
    " '3k4/1P6/3K4/8/8/8/1q6/7R w - - 0 1': 'Rh8+ Qh8 b8/Q#',\n",
    " '8/8/6rp/6pk/5b1p/5K2/6P1/6R1 w - - 0 1': 'g4+ hxg3 e.p. Rh1#',\n",
    " '8/6kp/4r1p1/q3r3/6K1/B7/8/2Q5 w - - 0 1': 'Qh6+ if Kxh6 Bf8# or if Kf6 Qf8#',\n",
    " '8/pk6/1p6/1B2r3/K7/2Q1q3/8/8 w - - 0 1': 'Ba6+ if Kxa6 Qc8# or if Kb8 Qc8#',\n",
    " 'kb4q1/1p1B4/pK6/8/8/8/8/5Q2 w - - 0 1': 'Qxa6+ if bxa6 Bc6# or if Ba7 Qxb7#',\n",
    " 'qkb5/4p3/1K1p4/8/5Q2/6B1/8/8 w - - 0 1': 'Qxd6+ exd6 Bxd6#',\n",
    " 'B7/8/8/7K/4b3/Q7/7p/1q4bk w - - 0 1': 'Qf3+ Bxf3 Bxf3#',\n",
    " '8/8/B7/3qp3/2ppkpp1/8/4K3/3Q4 w - - 0 1': 'Qd3+ cxd3+ Bxd3#',\n",
    " '6bk/7p/7K/4N3/8/8/7B/8 w - - 0 1': 'Ng6+ hxg6 Be5#',\n",
    " 'kB1KN3/p7/n7/8/8/8/8/8 w - - 0 1': 'Kc8 w/Nc7# or Nxc7#',\n",
    " '5K1k/6pp/6p1/6B1/6N1/8/8/8 w - - 0 1': 'Nh6 gxh6 Bf6#',\n",
    " '8/8/7p/5K1k/6pp/1p6/2B2N2/8 w - - 0 1': 'Nh3 if gxh3 Bd1# or if bxc2 Nf4#',\n",
    " '8/8/5B2/8/2pN4/K7/pp6/kb6 w - - 0 1': 'Nb3+ cxb3 Bxb2#',\n",
    " 'kbK5/p7/2pN4/3p4/8/8/8/5B2 w - - 0 1': 'Ba6 Bxd6 Bb7#',\n",
    " '7B/8/pb6/kpn5/b1p5/1P6/1K6/8 w - - 0 1': 'b4+ Kxb4 Bc3#',\n",
    " 'kb1n4/8/KP6/8/B7/8/8/8 w - - 0 1': 'Bc6+ Nxc6 b7#',\n",
    " '3B1K1k/6pp/4b3/7P/8/8/8/8 w - - 0 1': 'h6 gxh6 Bf6#',\n",
    " '8/8/8/6pp/5p1k/5K1b/5P1B/8 w - - 0 1': 'Bg3+ fxg3 fxg3#',\n",
    " '8/p2p4/kp6/1pP5/1K6/7B/8/8 w - - 0 1': 'c6 if dxc6 Bc8#',\n",
    " '7k/2r4r/5PK1/8/8/2B5/8/8 w - - 0 1': 'f7+ if Rxc3 f8/Q# or f8/R# or if Rg7+ Bxg7#',\n",
    " 'k1r2q2/ppQ5/N7/8/8/8/8/3K4 w - - 0 1': 'Qb8+ Rxb8 Nc7#',\n",
    " '4q2k/4N1pr/8/8/2Q5/8/4K3/8 w - - 0 1': 'Qg8+ Qxg8 Ng6#',\n",
    " 'rknN4/2p5/1rQ5/8/8/8/1q6/3K4 w - - 0 1': 'Qb7+ Rxb7 Nc6#',\n",
    " '4r1kr/5b1p/5KN1/8/8/Q7/3q4/8 w - - 0 1': 'Qf8+ Rxf8 Ne7#',\n",
    " '7k/4NKpp/4Q3/8/8/2q2p2/8/6r1 w - - 0 1': 'Ng6+ hxg6 Qh3#',\n",
    " 'k1b5/8/NKn5/8/4q3/8/7Q/8 w - - 0 1': 'Qb8+ Nxb8 Nc7#',\n",
    " 'k4K2/p7/1bP5/8/8/8/8/6qQ w - - 0 1': 'c7+ Qxh1 c8/Q#',\n",
    " '5rkr/5ppp/8/4K3/6N1/2Q5/q7/8 w - - 0 1': 'Nh6+ gxh6 Qg3#',\n",
    " 'krQ5/p7/8/4q3/N7/8/8/3K4 w - - 0 1': 'Nb6+ axb6 Qa6#',\n",
    " '8/1q6/4NQ1r/5npk/8/7K/8/6r1 w - - 0 1': 'Qxg5+ Rxg5 Nf4#',\n",
    " 'k1r5/p1pq4/Qp1p4/8/3N4/8/3K4/8 w - - 0 1': 'Nc6 Qxc6 Qxc8#',\n",
    " '3q2rk/5Q1p/6bK/4N3/8/8/8/8 w - - 0 1': 'Qxh7+ Bxh7 Nf7#',\n",
    " '8/8/5Q2/2q3pk/7b/8/4K1P1/8 w - - 0 1': 'g4+ Kxg4 Qf3#',\n",
    " '8/b2Q4/kp2p3/p2q4/1P6/K7/8/8 w - - 0 1': 'b5+ Qxb5 Qc8#',\n",
    " '8/8/8/pq6/kpp5/7Q/K1P5/8 w - - 0 1': 'Qb3+ cxb3+ cxb3#',\n",
    " '5K1k/7b/8/4ppP1/8/6bQ/7q/8 w - - 0 1': 'g6 Qxh3 g7#',\n",
    " '1K2kb2/4p3/5P2/5Q1q/7r/8/8/8 w - - 0 1': 'f7+ w/Qc8#',\n",
    " 'k7/p1K2n2/p7/3p1r2/8/8/8/2R5 w - - 0 1': 'Rb1',\n",
    " '4k3/2r1p1p1/3pK3/8/8/8/8/5R2 w - - 0 1': 'Rh1',\n",
    " '7k/6R1/6Kn/8/8/8/8/8 w - - 0 1': 'Re7',\n",
    " '8/8/8/8/1b6/1k6/8/KBB5 b - - 0 1': '...Bc3+',\n",
    " '8/8/8/8/4bN2/5kP1/7P/7K b - - 0 1': '...Kf2+',\n",
    " '7K/b4k1P/8/8/8/8/8/6R1 b - - 0 1': '...Bd4+',\n",
    " '8/8/7P/1b1Q3K/5k1B/8/8/8 b - - 0 1': '...Be8+',\n",
    " '8/8/8/8/Nb6/8/P7/K1k5 b - - 0 1': '...Ba3',\n",
    " 'K7/P1k5/2P5/8/8/7b/8/8 b - - 0 1': '...Kc8 c7 Bg2#',\n",
    " '6qk/8/7K/7Q/8/8/8/8 w - - 0 1': 'Qe5+',\n",
    " '8/8/8/8/1n6/7N/7P/5k1K b - - 0 1': '...Nd3',\n",
    " '8/2n5/8/P7/KPk5/P7/8/8 b - - 0 1': '...Na6',\n",
    " 'KBk5/2P5/3n4/8/8/8/8/8 b - - 0 1': '...Nb5',\n",
    " '8/8/p7/kpK5/p7/8/P7/8 w - - 0 1': '...a3 b4 axb4#',\n",
    " '8/p7/kPK5/p7/n7/8/8/8 w - - 0 1': 'b7 Nc3 b8/N#',\n",
    " '7r/7r/4RP2/5RP1/7k/8/8/7K b - - 0 1': '...Kg3+ Kg1 Rh1#',\n",
    " '7r/r7/8/8/8/1kP5/1P1R4/1K4R1 b - - 0 1': '...Rha8',\n",
    " '2b1kb2/4p3/2K5/8/8/8/8/3BB3 w - - 0 1': 'Bh5+',\n",
    " '8/8/6nq/3p2b1/7k/7p/5Kpp/3BB3 w - - 0 1': 'Kf3+ Kh5 Kg3#',\n",
    " '5b2/8/2B5/2BK3b/5k2/3P4/8/8 b - - 0 1': '...Bf7+',\n",
    " '8/8/4k3/2B5/3K4/3BP1b1/b7/8 b - - 0 1': '...Be5+',\n",
    " '7b/6kb/8/8/8/P7/8/KB5R b - - 0 1': '...Kf8+',\n",
    " '8/6nk/3N2n1/8/4N3/8/8/K7 w - - 0 1': 'Nf6+',\n",
    " 'kn6/1n2N3/8/3N4/8/8/8/7K w - - 0 1': 'Nc7+',\n",
    " '5nk1/4K1n1/8/4N3/6N1/8/8/8 w - - 0 1': 'Nf6+'\n",
    "}"
   ]
  },
  {
   "cell_type": "code",
   "execution_count": 2,
   "metadata": {},
   "outputs": [
    {
     "name": "stderr",
     "output_type": "stream",
     "text": [
      "100%|█████████████████████████████████████████| 130/130 [00:05<00:00, 24.33it/s]"
     ]
    },
    {
     "name": "stdout",
     "output_type": "stream",
     "text": [
      "5.3486762046813965\n",
      "130\n"
     ]
    },
    {
     "name": "stderr",
     "output_type": "stream",
     "text": [
      "\n"
     ]
    }
   ],
   "source": [
    "import time\n",
    "from tqdm import tqdm\n",
    "from my_chess_engine import Engine\n",
    "start = time.time()\n",
    "correct = 0\n",
    "for fen in tqdm(puzzles):\n",
    "    engine = Engine(fen)\n",
    "    engine.alphabet(3)\n",
    "    if engine.board.is_checkmate():\n",
    "        correct += 1\n",
    "    else:\n",
    "        print(fen)\n",
    "#         display(engine.board)\n",
    "print(time.time()-start)\n",
    "print(correct)"
   ]
  },
  {
   "cell_type": "code",
   "execution_count": null,
   "metadata": {},
   "outputs": [],
   "source": [
    "engine = Engine()\n",
    "engine.storage"
   ]
  },
  {
   "cell_type": "code",
   "execution_count": null,
   "metadata": {},
   "outputs": [],
   "source": [
    "def indexOf(piece):\n",
    "    if (piece=='P'):\n",
    "        return 0\n",
    "    elif (piece=='N'):\n",
    "        return 1\n",
    "    elif (piece=='B'):\n",
    "        return 2\n",
    "    elif (piece=='R'):\n",
    "        return 3\n",
    "    elif (piece=='Q'):\n",
    "        return 4\n",
    "    elif (piece=='K'):\n",
    "        return 5\n",
    "    elif (piece=='p'):\n",
    "        return 6\n",
    "    elif (piece=='n'):\n",
    "        return 7\n",
    "    elif (piece=='b'):\n",
    "        return 8\n",
    "    elif (piece=='r'):\n",
    "        return 9\n",
    "    elif (piece=='q'):\n",
    "        return 10\n",
    "    elif (piece=='k'):\n",
    "        return 11\n",
    "    else:\n",
    "        return -1"
   ]
  },
  {
   "cell_type": "code",
   "execution_count": null,
   "metadata": {},
   "outputs": [],
   "source": [
    "import random\n",
    "import numpy"
   ]
  },
  {
   "cell_type": "code",
   "execution_count": 7,
   "metadata": {},
   "outputs": [
    {
     "data": {
      "image/svg+xml": [
       "<svg xmlns=\"http://www.w3.org/2000/svg\" xmlns:xlink=\"http://www.w3.org/1999/xlink\" viewBox=\"0 0 390 390\" width=\"390\" height=\"390\"><desc><pre>. . . . r . r k\n",
       ". . . . . K . b\n",
       ". . . . . . . R\n",
       "R . . . . . . .\n",
       ". . . . . . . .\n",
       ". . . . . . . .\n",
       ". . . . . . . .\n",
       ". . . . . . . .</pre></desc><defs><g id=\"white-rook\" class=\"white rook\" fill=\"#fff\" fill-rule=\"evenodd\" stroke=\"#000\" stroke-width=\"1.5\" stroke-linecap=\"round\" stroke-linejoin=\"round\"><path d=\"M9 39h27v-3H9v3zM12 36v-4h21v4H12zM11 14V9h4v2h5V9h5v2h5V9h4v5\" stroke-linecap=\"butt\" /><path d=\"M34 14l-3 3H14l-3-3\" /><path d=\"M31 17v12.5H14V17\" stroke-linecap=\"butt\" stroke-linejoin=\"miter\" /><path d=\"M31 29.5l1.5 2.5h-20l1.5-2.5\" /><path d=\"M11 14h23\" fill=\"none\" stroke-linejoin=\"miter\" /></g><g id=\"white-king\" class=\"white king\" fill=\"none\" fill-rule=\"evenodd\" stroke=\"#000\" stroke-width=\"1.5\" stroke-linecap=\"round\" stroke-linejoin=\"round\"><path d=\"M22.5 11.63V6M20 8h5\" stroke-linejoin=\"miter\" /><path d=\"M22.5 25s4.5-7.5 3-10.5c0 0-1-2.5-3-2.5s-3 2.5-3 2.5c-1.5 3 3 10.5 3 10.5\" fill=\"#fff\" stroke-linecap=\"butt\" stroke-linejoin=\"miter\" /><path d=\"M11.5 37c5.5 3.5 15.5 3.5 21 0v-7s9-4.5 6-10.5c-4-6.5-13.5-3.5-16 4V27v-3.5c-3.5-7.5-13-10.5-16-4-3 6 5 10 5 10V37z\" fill=\"#fff\" /><path d=\"M11.5 30c5.5-3 15.5-3 21 0m-21 3.5c5.5-3 15.5-3 21 0m-21 3.5c5.5-3 15.5-3 21 0\" /></g><g id=\"black-bishop\" class=\"black bishop\" fill=\"none\" fill-rule=\"evenodd\" stroke=\"#000\" stroke-width=\"1.5\" stroke-linecap=\"round\" stroke-linejoin=\"round\"><path d=\"M9 36c3.39-.97 10.11.43 13.5-2 3.39 2.43 10.11 1.03 13.5 2 0 0 1.65.54 3 2-.68.97-1.65.99-3 .5-3.39-.97-10.11.46-13.5-1-3.39 1.46-10.11.03-13.5 1-1.354.49-2.323.47-3-.5 1.354-1.94 3-2 3-2zm6-4c2.5 2.5 12.5 2.5 15 0 .5-1.5 0-2 0-2 0-2.5-2.5-4-2.5-4 5.5-1.5 6-11.5-5-15.5-11 4-10.5 14-5 15.5 0 0-2.5 1.5-2.5 4 0 0-.5.5 0 2zM25 8a2.5 2.5 0 1 1-5 0 2.5 2.5 0 1 1 5 0z\" fill=\"#000\" stroke-linecap=\"butt\" /><path d=\"M17.5 26h10M15 30h15m-7.5-14.5v5M20 18h5\" stroke=\"#fff\" stroke-linejoin=\"miter\" /></g><g id=\"black-rook\" class=\"black rook\" fill=\"#000\" fill-rule=\"evenodd\" stroke=\"#000\" stroke-width=\"1.5\" stroke-linecap=\"round\" stroke-linejoin=\"round\"><path d=\"M9 39h27v-3H9v3zM12.5 32l1.5-2.5h17l1.5 2.5h-20zM12 36v-4h21v4H12z\" stroke-linecap=\"butt\" /><path d=\"M14 29.5v-13h17v13H14z\" stroke-linecap=\"butt\" stroke-linejoin=\"miter\" /><path d=\"M14 16.5L11 14h23l-3 2.5H14zM11 14V9h4v2h5V9h5v2h5V9h4v5H11z\" stroke-linecap=\"butt\" /><path d=\"M12 35.5h21M13 31.5h19M14 29.5h17M14 16.5h17M11 14h23\" fill=\"none\" stroke=\"#fff\" stroke-width=\"1\" stroke-linejoin=\"miter\" /></g><g id=\"black-king\" class=\"black king\" fill=\"none\" fill-rule=\"evenodd\" stroke=\"#000\" stroke-width=\"1.5\" stroke-linecap=\"round\" stroke-linejoin=\"round\"><path d=\"M22.5 11.63V6\" stroke-linejoin=\"miter\" /><path d=\"M22.5 25s4.5-7.5 3-10.5c0 0-1-2.5-3-2.5s-3 2.5-3 2.5c-1.5 3 3 10.5 3 10.5\" fill=\"#000\" stroke-linecap=\"butt\" stroke-linejoin=\"miter\" /><path d=\"M11.5 37c5.5 3.5 15.5 3.5 21 0v-7s9-4.5 6-10.5c-4-6.5-13.5-3.5-16 4V27v-3.5c-3.5-7.5-13-10.5-16-4-3 6 5 10 5 10V37z\" fill=\"#000\" /><path d=\"M20 8h5\" stroke-linejoin=\"miter\" /><path d=\"M32 29.5s8.5-4 6.03-9.65C34.15 14 25 18 22.5 24.5l.01 2.1-.01-2.1C20 18 9.906 14 6.997 19.85c-2.497 5.65 4.853 9 4.853 9M11.5 30c5.5-3 15.5-3 21 0m-21 3.5c5.5-3 15.5-3 21 0m-21 3.5c5.5-3 15.5-3 21 0\" stroke=\"#fff\" /></g></defs><rect x=\"7.5\" y=\"7.5\" width=\"375\" height=\"375\" fill=\"none\" stroke=\"#212121\" stroke-width=\"15\" /><g transform=\"translate(20, 1) scale(0.75, 0.75)\" fill=\"#e5e5e5\" stroke=\"#e5e5e5\"><path d=\"M23.328 10.016q-1.742 0-2.414.398-.672.398-.672 1.36 0 .765.5 1.218.508.445 1.375.445 1.196 0 1.914-.843.727-.852.727-2.258v-.32zm2.867-.594v4.992h-1.437v-1.328q-.492.797-1.227 1.18-.734.375-1.797.375-1.343 0-2.14-.75-.79-.758-.79-2.024 0-1.476.985-2.226.992-.75 2.953-.75h2.016V8.75q0-.992-.656-1.531-.649-.547-1.829-.547-.75 0-1.46.18-.711.18-1.368.539V6.062q.79-.304 1.532-.453.742-.156 1.445-.156 1.898 0 2.836.984.937.985.937 2.985z\" /></g><g transform=\"translate(20, 375) scale(0.75, 0.75)\" fill=\"#e5e5e5\" stroke=\"#e5e5e5\"><path d=\"M23.328 10.016q-1.742 0-2.414.398-.672.398-.672 1.36 0 .765.5 1.218.508.445 1.375.445 1.196 0 1.914-.843.727-.852.727-2.258v-.32zm2.867-.594v4.992h-1.437v-1.328q-.492.797-1.227 1.18-.734.375-1.797.375-1.343 0-2.14-.75-.79-.758-.79-2.024 0-1.476.985-2.226.992-.75 2.953-.75h2.016V8.75q0-.992-.656-1.531-.649-.547-1.829-.547-.75 0-1.46.18-.711.18-1.368.539V6.062q.79-.304 1.532-.453.742-.156 1.445-.156 1.898 0 2.836.984.937.985.937 2.985z\" /></g><g transform=\"translate(65, 1) scale(0.75, 0.75)\" fill=\"#e5e5e5\" stroke=\"#e5e5e5\"><path d=\"M24.922 10.047q0-1.586-.656-2.485-.649-.906-1.79-.906-1.14 0-1.796.906-.649.899-.649 2.485 0 1.586.649 2.492.656.898 1.797.898 1.14 0 1.789-.898.656-.906.656-2.492zm-4.89-3.055q.452-.781 1.14-1.156.695-.383 1.656-.383 1.594 0 2.586 1.266 1 1.265 1 3.328 0 2.062-1 3.328-.992 1.266-2.586 1.266-.96 0-1.656-.375-.688-.383-1.14-1.164v1.312h-1.446V2.258h1.445z\" /></g><g transform=\"translate(65, 375) scale(0.75, 0.75)\" fill=\"#e5e5e5\" stroke=\"#e5e5e5\"><path d=\"M24.922 10.047q0-1.586-.656-2.485-.649-.906-1.79-.906-1.14 0-1.796.906-.649.899-.649 2.485 0 1.586.649 2.492.656.898 1.797.898 1.14 0 1.789-.898.656-.906.656-2.492zm-4.89-3.055q.452-.781 1.14-1.156.695-.383 1.656-.383 1.594 0 2.586 1.266 1 1.265 1 3.328 0 2.062-1 3.328-.992 1.266-2.586 1.266-.96 0-1.656-.375-.688-.383-1.14-1.164v1.312h-1.446V2.258h1.445z\" /></g><g transform=\"translate(110, 1) scale(0.75, 0.75)\" fill=\"#e5e5e5\" stroke=\"#e5e5e5\"><path d=\"M25.96 6v1.344q-.608-.336-1.226-.5-.609-.172-1.234-.172-1.398 0-2.172.89-.773.883-.773 2.485 0 1.601.773 2.492.774.883 2.172.883.625 0 1.234-.164.618-.172 1.227-.508v1.328q-.602.281-1.25.422-.64.14-1.367.14-1.977 0-3.14-1.242-1.165-1.242-1.165-3.351 0-2.14 1.172-3.367 1.18-1.227 3.227-1.227.664 0 1.296.14.633.134 1.227.407z\" /></g><g transform=\"translate(110, 375) scale(0.75, 0.75)\" fill=\"#e5e5e5\" stroke=\"#e5e5e5\"><path d=\"M25.96 6v1.344q-.608-.336-1.226-.5-.609-.172-1.234-.172-1.398 0-2.172.89-.773.883-.773 2.485 0 1.601.773 2.492.774.883 2.172.883.625 0 1.234-.164.618-.172 1.227-.508v1.328q-.602.281-1.25.422-.64.14-1.367.14-1.977 0-3.14-1.242-1.165-1.242-1.165-3.351 0-2.14 1.172-3.367 1.18-1.227 3.227-1.227.664 0 1.296.14.633.134 1.227.407z\" /></g><g transform=\"translate(155, 1) scale(0.75, 0.75)\" fill=\"#e5e5e5\" stroke=\"#e5e5e5\"><path d=\"M24.973 6.992V2.258h1.437v12.156h-1.437v-1.312q-.453.78-1.149 1.164-.687.375-1.656.375-1.586 0-2.586-1.266-.992-1.266-.992-3.328 0-2.063.992-3.328 1-1.266 2.586-1.266.969 0 1.656.383.696.375 1.149 1.156zm-4.899 3.055q0 1.586.649 2.492.656.898 1.797.898 1.14 0 1.796-.898.657-.906.657-2.492 0-1.586-.657-2.485-.656-.906-1.796-.906-1.141 0-1.797.906-.649.899-.649 2.485z\" /></g><g transform=\"translate(155, 375) scale(0.75, 0.75)\" fill=\"#e5e5e5\" stroke=\"#e5e5e5\"><path d=\"M24.973 6.992V2.258h1.437v12.156h-1.437v-1.312q-.453.78-1.149 1.164-.687.375-1.656.375-1.586 0-2.586-1.266-.992-1.266-.992-3.328 0-2.063.992-3.328 1-1.266 2.586-1.266.969 0 1.656.383.696.375 1.149 1.156zm-4.899 3.055q0 1.586.649 2.492.656.898 1.797.898 1.14 0 1.796-.898.657-.906.657-2.492 0-1.586-.657-2.485-.656-.906-1.796-.906-1.141 0-1.797.906-.649.899-.649 2.485z\" /></g><g transform=\"translate(200, 1) scale(0.75, 0.75)\" fill=\"#e5e5e5\" stroke=\"#e5e5e5\"><path d=\"M26.555 9.68v.703h-6.61q.094 1.484.89 2.265.806.774 2.235.774.828 0 1.602-.203.781-.203 1.547-.61v1.36q-.774.328-1.586.5-.813.172-1.649.172-2.093 0-3.32-1.22-1.219-1.218-1.219-3.296 0-2.148 1.157-3.406 1.164-1.266 3.132-1.266 1.766 0 2.79 1.14 1.03 1.134 1.03 3.087zm-1.438-.422q-.015-1.18-.664-1.883-.64-.703-1.703-.703-1.203 0-1.93.68-.718.68-.828 1.914z\" /></g><g transform=\"translate(200, 375) scale(0.75, 0.75)\" fill=\"#e5e5e5\" stroke=\"#e5e5e5\"><path d=\"M26.555 9.68v.703h-6.61q.094 1.484.89 2.265.806.774 2.235.774.828 0 1.602-.203.781-.203 1.547-.61v1.36q-.774.328-1.586.5-.813.172-1.649.172-2.093 0-3.32-1.22-1.219-1.218-1.219-3.296 0-2.148 1.157-3.406 1.164-1.266 3.132-1.266 1.766 0 2.79 1.14 1.03 1.134 1.03 3.087zm-1.438-.422q-.015-1.18-.664-1.883-.64-.703-1.703-.703-1.203 0-1.93.68-.718.68-.828 1.914z\" /></g><g transform=\"translate(245, 1) scale(0.75, 0.75)\" fill=\"#e5e5e5\" stroke=\"#e5e5e5\"><path d=\"M25.285 2.258v1.195H23.91q-.773 0-1.078.313-.297.312-.297 1.125v.773h2.367v1.117h-2.367v7.633H21.09V6.781h-1.375V5.664h1.375v-.61q0-1.46.68-2.124.68-.672 2.156-.672z\" /></g><g transform=\"translate(245, 375) scale(0.75, 0.75)\" fill=\"#e5e5e5\" stroke=\"#e5e5e5\"><path d=\"M25.285 2.258v1.195H23.91q-.773 0-1.078.313-.297.312-.297 1.125v.773h2.367v1.117h-2.367v7.633H21.09V6.781h-1.375V5.664h1.375v-.61q0-1.46.68-2.124.68-.672 2.156-.672z\" /></g><g transform=\"translate(290, 1) scale(0.75, 0.75)\" fill=\"#e5e5e5\" stroke=\"#e5e5e5\"><path d=\"M24.973 9.937q0-1.562-.649-2.421-.64-.86-1.804-.86-1.157 0-1.805.86-.64.859-.64 2.421 0 1.555.64 2.415.648.859 1.805.859 1.164 0 1.804-.86.649-.859.649-2.414zm1.437 3.391q0 2.234-.992 3.32-.992 1.094-3.04 1.094-.757 0-1.429-.117-.672-.11-1.304-.344v-1.398q.632.344 1.25.508.617.164 1.257.164 1.414 0 2.118-.743.703-.734.703-2.226v-.711q-.446.773-1.141 1.156-.695.383-1.664.383-1.61 0-2.594-1.227-.984-1.226-.984-3.25 0-2.03.984-3.257.985-1.227 2.594-1.227.969 0 1.664.383t1.14 1.156V5.664h1.438z\" /></g><g transform=\"translate(290, 375) scale(0.75, 0.75)\" fill=\"#e5e5e5\" stroke=\"#e5e5e5\"><path d=\"M24.973 9.937q0-1.562-.649-2.421-.64-.86-1.804-.86-1.157 0-1.805.86-.64.859-.64 2.421 0 1.555.64 2.415.648.859 1.805.859 1.164 0 1.804-.86.649-.859.649-2.414zm1.437 3.391q0 2.234-.992 3.32-.992 1.094-3.04 1.094-.757 0-1.429-.117-.672-.11-1.304-.344v-1.398q.632.344 1.25.508.617.164 1.257.164 1.414 0 2.118-.743.703-.734.703-2.226v-.711q-.446.773-1.141 1.156-.695.383-1.664.383-1.61 0-2.594-1.227-.984-1.226-.984-3.25 0-2.03.984-3.257.985-1.227 2.594-1.227.969 0 1.664.383t1.14 1.156V5.664h1.438z\" /></g><g transform=\"translate(335, 1) scale(0.75, 0.75)\" fill=\"#e5e5e5\" stroke=\"#e5e5e5\"><path d=\"M26.164 9.133v5.281h-1.437V9.18q0-1.243-.485-1.86-.484-.617-1.453-.617-1.164 0-1.836.742-.672.742-.672 2.024v4.945h-1.445V2.258h1.445v4.765q.516-.789 1.211-1.18.703-.39 1.617-.39 1.508 0 2.282.938.773.93.773 2.742z\" /></g><g transform=\"translate(335, 375) scale(0.75, 0.75)\" fill=\"#e5e5e5\" stroke=\"#e5e5e5\"><path d=\"M26.164 9.133v5.281h-1.437V9.18q0-1.243-.485-1.86-.484-.617-1.453-.617-1.164 0-1.836.742-.672.742-.672 2.024v4.945h-1.445V2.258h1.445v4.765q.516-.789 1.211-1.18.703-.39 1.617-.39 1.508 0 2.282.938.773.93.773 2.742z\" /></g><g transform=\"translate(0, 335) scale(0.75, 0.75)\" fill=\"#e5e5e5\" stroke=\"#e5e5e5\"><path d=\"M6.754 26.996h2.578v-8.898l-2.805.562v-1.437l2.79-.563h1.578v10.336h2.578v1.328h-6.72z\" /></g><g transform=\"translate(375, 335) scale(0.75, 0.75)\" fill=\"#e5e5e5\" stroke=\"#e5e5e5\"><path d=\"M6.754 26.996h2.578v-8.898l-2.805.562v-1.437l2.79-.563h1.578v10.336h2.578v1.328h-6.72z\" /></g><g transform=\"translate(0, 290) scale(0.75, 0.75)\" fill=\"#e5e5e5\" stroke=\"#e5e5e5\"><path d=\"M8.195 26.996h5.508v1.328H6.297v-1.328q.898-.93 2.445-2.492 1.555-1.57 1.953-2.024.758-.851 1.055-1.437.305-.594.305-1.164 0-.93-.657-1.516-.648-.586-1.695-.586-.742 0-1.57.258-.82.258-1.758.781v-1.593q.953-.383 1.781-.578.828-.196 1.516-.196 1.812 0 2.89.906 1.079.907 1.079 2.422 0 .72-.274 1.368-.265.64-.976 1.515-.196.227-1.243 1.313-1.046 1.078-2.953 3.023z\" /></g><g transform=\"translate(375, 290) scale(0.75, 0.75)\" fill=\"#e5e5e5\" stroke=\"#e5e5e5\"><path d=\"M8.195 26.996h5.508v1.328H6.297v-1.328q.898-.93 2.445-2.492 1.555-1.57 1.953-2.024.758-.851 1.055-1.437.305-.594.305-1.164 0-.93-.657-1.516-.648-.586-1.695-.586-.742 0-1.57.258-.82.258-1.758.781v-1.593q.953-.383 1.781-.578.828-.196 1.516-.196 1.812 0 2.89.906 1.079.907 1.079 2.422 0 .72-.274 1.368-.265.64-.976 1.515-.196.227-1.243 1.313-1.046 1.078-2.953 3.023z\" /></g><g transform=\"translate(0, 245) scale(0.75, 0.75)\" fill=\"#e5e5e5\" stroke=\"#e5e5e5\"><path d=\"M11.434 22.035q1.132.242 1.765 1.008.64.766.64 1.89 0 1.727-1.187 2.672-1.187.946-3.375.946-.734 0-1.515-.149-.774-.14-1.602-.43V26.45q.656.383 1.438.578.78.196 1.632.196 1.485 0 2.258-.586.782-.586.782-1.703 0-1.032-.727-1.61-.719-.586-2.008-.586h-1.36v-1.297h1.423q1.164 0 1.78-.46.618-.47.618-1.344 0-.899-.64-1.375-.633-.485-1.82-.485-.65 0-1.391.141-.743.14-1.633.437V16.95q.898-.25 1.68-.375.788-.125 1.484-.125 1.797 0 2.844.82 1.046.813 1.046 2.204 0 .968-.554 1.64-.555.664-1.578.922z\" /></g><g transform=\"translate(375, 245) scale(0.75, 0.75)\" fill=\"#e5e5e5\" stroke=\"#e5e5e5\"><path d=\"M11.434 22.035q1.132.242 1.765 1.008.64.766.64 1.89 0 1.727-1.187 2.672-1.187.946-3.375.946-.734 0-1.515-.149-.774-.14-1.602-.43V26.45q.656.383 1.438.578.78.196 1.632.196 1.485 0 2.258-.586.782-.586.782-1.703 0-1.032-.727-1.61-.719-.586-2.008-.586h-1.36v-1.297h1.423q1.164 0 1.78-.46.618-.47.618-1.344 0-.899-.64-1.375-.633-.485-1.82-.485-.65 0-1.391.141-.743.14-1.633.437V16.95q.898-.25 1.68-.375.788-.125 1.484-.125 1.797 0 2.844.82 1.046.813 1.046 2.204 0 .968-.554 1.64-.555.664-1.578.922z\" /></g><g transform=\"translate(0, 200) scale(0.75, 0.75)\" fill=\"#e5e5e5\" stroke=\"#e5e5e5\"><path d=\"M11.016 18.035L7.03 24.262h3.985zm-.414-1.375h1.984v7.602h1.664v1.312h-1.664v2.75h-1.57v-2.75H5.75v-1.523z\" /></g><g transform=\"translate(375, 200) scale(0.75, 0.75)\" fill=\"#e5e5e5\" stroke=\"#e5e5e5\"><path d=\"M11.016 18.035L7.03 24.262h3.985zm-.414-1.375h1.984v7.602h1.664v1.312h-1.664v2.75h-1.57v-2.75H5.75v-1.523z\" /></g><g transform=\"translate(0, 155) scale(0.75, 0.75)\" fill=\"#e5e5e5\" stroke=\"#e5e5e5\"><path d=\"M6.719 16.66h6.195v1.328h-4.75v2.86q.344-.118.688-.172.343-.063.687-.063 1.953 0 3.094 1.07 1.14 1.07 1.14 2.899 0 1.883-1.171 2.93-1.172 1.039-3.305 1.039-.735 0-1.5-.125-.758-.125-1.57-.375v-1.586q.703.383 1.453.57.75.188 1.586.188 1.351 0 2.14-.711.79-.711.79-1.93 0-1.219-.79-1.93-.789-.71-2.14-.71-.633 0-1.266.14-.625.14-1.281.438z\" /></g><g transform=\"translate(375, 155) scale(0.75, 0.75)\" fill=\"#e5e5e5\" stroke=\"#e5e5e5\"><path d=\"M6.719 16.66h6.195v1.328h-4.75v2.86q.344-.118.688-.172.343-.063.687-.063 1.953 0 3.094 1.07 1.14 1.07 1.14 2.899 0 1.883-1.171 2.93-1.172 1.039-3.305 1.039-.735 0-1.5-.125-.758-.125-1.57-.375v-1.586q.703.383 1.453.57.75.188 1.586.188 1.351 0 2.14-.711.79-.711.79-1.93 0-1.219-.79-1.93-.789-.71-2.14-.71-.633 0-1.266.14-.625.14-1.281.438z\" /></g><g transform=\"translate(0, 110) scale(0.75, 0.75)\" fill=\"#e5e5e5\" stroke=\"#e5e5e5\"><path d=\"M10.137 21.863q-1.063 0-1.688.727-.617.726-.617 1.992 0 1.258.617 1.992.625.727 1.688.727 1.062 0 1.68-.727.624-.734.624-1.992 0-1.266-.625-1.992-.617-.727-1.68-.727zm3.133-4.945v1.437q-.594-.28-1.204-.43-.601-.148-1.195-.148-1.562 0-2.39 1.055-.82 1.055-.938 3.188.46-.68 1.156-1.04.696-.367 1.531-.367 1.758 0 2.774 1.07 1.023 1.063 1.023 2.899 0 1.797-1.062 2.883-1.063 1.086-2.828 1.086-2.024 0-3.094-1.547-1.07-1.555-1.07-4.5 0-2.766 1.312-4.406 1.313-1.649 3.524-1.649.593 0 1.195.117.61.118 1.266.352z\" /></g><g transform=\"translate(375, 110) scale(0.75, 0.75)\" fill=\"#e5e5e5\" stroke=\"#e5e5e5\"><path d=\"M10.137 21.863q-1.063 0-1.688.727-.617.726-.617 1.992 0 1.258.617 1.992.625.727 1.688.727 1.062 0 1.68-.727.624-.734.624-1.992 0-1.266-.625-1.992-.617-.727-1.68-.727zm3.133-4.945v1.437q-.594-.28-1.204-.43-.601-.148-1.195-.148-1.562 0-2.39 1.055-.82 1.055-.938 3.188.46-.68 1.156-1.04.696-.367 1.531-.367 1.758 0 2.774 1.07 1.023 1.063 1.023 2.899 0 1.797-1.062 2.883-1.063 1.086-2.828 1.086-2.024 0-3.094-1.547-1.07-1.555-1.07-4.5 0-2.766 1.312-4.406 1.313-1.649 3.524-1.649.593 0 1.195.117.61.118 1.266.352z\" /></g><g transform=\"translate(0, 65) scale(0.75, 0.75)\" fill=\"#e5e5e5\" stroke=\"#e5e5e5\"><path d=\"M6.25 16.66h7.5v.672L9.516 28.324H7.867l3.985-10.336H6.25z\" /></g><g transform=\"translate(375, 65) scale(0.75, 0.75)\" fill=\"#e5e5e5\" stroke=\"#e5e5e5\"><path d=\"M6.25 16.66h7.5v.672L9.516 28.324H7.867l3.985-10.336H6.25z\" /></g><g transform=\"translate(0, 20) scale(0.75, 0.75)\" fill=\"#e5e5e5\" stroke=\"#e5e5e5\"><path d=\"M10 22.785q-1.125 0-1.773.602-.641.601-.641 1.656t.64 1.656q.649.602 1.774.602t1.773-.602q.649-.61.649-1.656 0-1.055-.649-1.656-.64-.602-1.773-.602zm-1.578-.672q-1.016-.25-1.586-.945-.563-.695-.563-1.695 0-1.399.993-2.211 1-.813 2.734-.813 1.742 0 2.734.813.993.812.993 2.21 0 1-.57 1.696-.563.695-1.571.945 1.14.266 1.773 1.04.641.773.641 1.89 0 1.695-1.04 2.602-1.03.906-2.96.906t-2.969-.906Q6 26.738 6 25.043q0-1.117.64-1.89.641-.774 1.782-1.04zm-.578-2.492q0 .906.562 1.414.57.508 1.594.508 1.016 0 1.586-.508.578-.508.578-1.414 0-.906-.578-1.414-.57-.508-1.586-.508-1.023 0-1.594.508-.562.508-.562 1.414z\" /></g><g transform=\"translate(375, 20) scale(0.75, 0.75)\" fill=\"#e5e5e5\" stroke=\"#e5e5e5\"><path d=\"M10 22.785q-1.125 0-1.773.602-.641.601-.641 1.656t.64 1.656q.649.602 1.774.602t1.773-.602q.649-.61.649-1.656 0-1.055-.649-1.656-.64-.602-1.773-.602zm-1.578-.672q-1.016-.25-1.586-.945-.563-.695-.563-1.695 0-1.399.993-2.211 1-.813 2.734-.813 1.742 0 2.734.813.993.812.993 2.21 0 1-.57 1.696-.563.695-1.571.945 1.14.266 1.773 1.04.641.773.641 1.89 0 1.695-1.04 2.602-1.03.906-2.96.906t-2.969-.906Q6 26.738 6 25.043q0-1.117.64-1.89.641-.774 1.782-1.04zm-.578-2.492q0 .906.562 1.414.57.508 1.594.508 1.016 0 1.586-.508.578-.508.578-1.414 0-.906-.578-1.414-.57-.508-1.586-.508-1.023 0-1.594.508-.562.508-.562 1.414z\" /></g><rect x=\"15\" y=\"330\" width=\"45\" height=\"45\" class=\"square dark a1\" stroke=\"none\" fill=\"#d18b47\" /><rect x=\"60\" y=\"330\" width=\"45\" height=\"45\" class=\"square light b1\" stroke=\"none\" fill=\"#ffce9e\" /><rect x=\"105\" y=\"330\" width=\"45\" height=\"45\" class=\"square dark c1\" stroke=\"none\" fill=\"#d18b47\" /><rect x=\"150\" y=\"330\" width=\"45\" height=\"45\" class=\"square light d1\" stroke=\"none\" fill=\"#ffce9e\" /><rect x=\"195\" y=\"330\" width=\"45\" height=\"45\" class=\"square dark e1\" stroke=\"none\" fill=\"#d18b47\" /><rect x=\"240\" y=\"330\" width=\"45\" height=\"45\" class=\"square light f1\" stroke=\"none\" fill=\"#ffce9e\" /><rect x=\"285\" y=\"330\" width=\"45\" height=\"45\" class=\"square dark g1\" stroke=\"none\" fill=\"#d18b47\" /><rect x=\"330\" y=\"330\" width=\"45\" height=\"45\" class=\"square light h1\" stroke=\"none\" fill=\"#ffce9e\" /><rect x=\"15\" y=\"285\" width=\"45\" height=\"45\" class=\"square light a2\" stroke=\"none\" fill=\"#ffce9e\" /><rect x=\"60\" y=\"285\" width=\"45\" height=\"45\" class=\"square dark b2\" stroke=\"none\" fill=\"#d18b47\" /><rect x=\"105\" y=\"285\" width=\"45\" height=\"45\" class=\"square light c2\" stroke=\"none\" fill=\"#ffce9e\" /><rect x=\"150\" y=\"285\" width=\"45\" height=\"45\" class=\"square dark d2\" stroke=\"none\" fill=\"#d18b47\" /><rect x=\"195\" y=\"285\" width=\"45\" height=\"45\" class=\"square light e2\" stroke=\"none\" fill=\"#ffce9e\" /><rect x=\"240\" y=\"285\" width=\"45\" height=\"45\" class=\"square dark f2\" stroke=\"none\" fill=\"#d18b47\" /><rect x=\"285\" y=\"285\" width=\"45\" height=\"45\" class=\"square light g2\" stroke=\"none\" fill=\"#ffce9e\" /><rect x=\"330\" y=\"285\" width=\"45\" height=\"45\" class=\"square dark h2\" stroke=\"none\" fill=\"#d18b47\" /><rect x=\"15\" y=\"240\" width=\"45\" height=\"45\" class=\"square dark a3\" stroke=\"none\" fill=\"#d18b47\" /><rect x=\"60\" y=\"240\" width=\"45\" height=\"45\" class=\"square light b3\" stroke=\"none\" fill=\"#ffce9e\" /><rect x=\"105\" y=\"240\" width=\"45\" height=\"45\" class=\"square dark c3\" stroke=\"none\" fill=\"#d18b47\" /><rect x=\"150\" y=\"240\" width=\"45\" height=\"45\" class=\"square light d3\" stroke=\"none\" fill=\"#ffce9e\" /><rect x=\"195\" y=\"240\" width=\"45\" height=\"45\" class=\"square dark e3\" stroke=\"none\" fill=\"#d18b47\" /><rect x=\"240\" y=\"240\" width=\"45\" height=\"45\" class=\"square light f3\" stroke=\"none\" fill=\"#ffce9e\" /><rect x=\"285\" y=\"240\" width=\"45\" height=\"45\" class=\"square dark g3\" stroke=\"none\" fill=\"#d18b47\" /><rect x=\"330\" y=\"240\" width=\"45\" height=\"45\" class=\"square light h3\" stroke=\"none\" fill=\"#ffce9e\" /><rect x=\"15\" y=\"195\" width=\"45\" height=\"45\" class=\"square light a4\" stroke=\"none\" fill=\"#ffce9e\" /><rect x=\"60\" y=\"195\" width=\"45\" height=\"45\" class=\"square dark b4\" stroke=\"none\" fill=\"#d18b47\" /><rect x=\"105\" y=\"195\" width=\"45\" height=\"45\" class=\"square light c4\" stroke=\"none\" fill=\"#ffce9e\" /><rect x=\"150\" y=\"195\" width=\"45\" height=\"45\" class=\"square dark d4\" stroke=\"none\" fill=\"#d18b47\" /><rect x=\"195\" y=\"195\" width=\"45\" height=\"45\" class=\"square light e4\" stroke=\"none\" fill=\"#ffce9e\" /><rect x=\"240\" y=\"195\" width=\"45\" height=\"45\" class=\"square dark f4\" stroke=\"none\" fill=\"#d18b47\" /><rect x=\"285\" y=\"195\" width=\"45\" height=\"45\" class=\"square light g4\" stroke=\"none\" fill=\"#ffce9e\" /><rect x=\"330\" y=\"195\" width=\"45\" height=\"45\" class=\"square dark h4\" stroke=\"none\" fill=\"#d18b47\" /><rect x=\"15\" y=\"150\" width=\"45\" height=\"45\" class=\"square dark a5\" stroke=\"none\" fill=\"#d18b47\" /><rect x=\"60\" y=\"150\" width=\"45\" height=\"45\" class=\"square light b5\" stroke=\"none\" fill=\"#ffce9e\" /><rect x=\"105\" y=\"150\" width=\"45\" height=\"45\" class=\"square dark c5\" stroke=\"none\" fill=\"#d18b47\" /><rect x=\"150\" y=\"150\" width=\"45\" height=\"45\" class=\"square light d5\" stroke=\"none\" fill=\"#ffce9e\" /><rect x=\"195\" y=\"150\" width=\"45\" height=\"45\" class=\"square dark e5\" stroke=\"none\" fill=\"#d18b47\" /><rect x=\"240\" y=\"150\" width=\"45\" height=\"45\" class=\"square light f5\" stroke=\"none\" fill=\"#ffce9e\" /><rect x=\"285\" y=\"150\" width=\"45\" height=\"45\" class=\"square dark g5\" stroke=\"none\" fill=\"#d18b47\" /><rect x=\"330\" y=\"150\" width=\"45\" height=\"45\" class=\"square light h5\" stroke=\"none\" fill=\"#ffce9e\" /><rect x=\"15\" y=\"105\" width=\"45\" height=\"45\" class=\"square light a6\" stroke=\"none\" fill=\"#ffce9e\" /><rect x=\"60\" y=\"105\" width=\"45\" height=\"45\" class=\"square dark b6\" stroke=\"none\" fill=\"#d18b47\" /><rect x=\"105\" y=\"105\" width=\"45\" height=\"45\" class=\"square light c6\" stroke=\"none\" fill=\"#ffce9e\" /><rect x=\"150\" y=\"105\" width=\"45\" height=\"45\" class=\"square dark d6\" stroke=\"none\" fill=\"#d18b47\" /><rect x=\"195\" y=\"105\" width=\"45\" height=\"45\" class=\"square light e6\" stroke=\"none\" fill=\"#ffce9e\" /><rect x=\"240\" y=\"105\" width=\"45\" height=\"45\" class=\"square dark f6\" stroke=\"none\" fill=\"#d18b47\" /><rect x=\"285\" y=\"105\" width=\"45\" height=\"45\" class=\"square light g6\" stroke=\"none\" fill=\"#ffce9e\" /><rect x=\"330\" y=\"105\" width=\"45\" height=\"45\" class=\"square dark h6\" stroke=\"none\" fill=\"#d18b47\" /><rect x=\"15\" y=\"60\" width=\"45\" height=\"45\" class=\"square dark a7\" stroke=\"none\" fill=\"#d18b47\" /><rect x=\"60\" y=\"60\" width=\"45\" height=\"45\" class=\"square light b7\" stroke=\"none\" fill=\"#ffce9e\" /><rect x=\"105\" y=\"60\" width=\"45\" height=\"45\" class=\"square dark c7\" stroke=\"none\" fill=\"#d18b47\" /><rect x=\"150\" y=\"60\" width=\"45\" height=\"45\" class=\"square light d7\" stroke=\"none\" fill=\"#ffce9e\" /><rect x=\"195\" y=\"60\" width=\"45\" height=\"45\" class=\"square dark e7\" stroke=\"none\" fill=\"#d18b47\" /><rect x=\"240\" y=\"60\" width=\"45\" height=\"45\" class=\"square light f7\" stroke=\"none\" fill=\"#ffce9e\" /><rect x=\"285\" y=\"60\" width=\"45\" height=\"45\" class=\"square dark g7\" stroke=\"none\" fill=\"#d18b47\" /><rect x=\"330\" y=\"60\" width=\"45\" height=\"45\" class=\"square light h7\" stroke=\"none\" fill=\"#ffce9e\" /><rect x=\"15\" y=\"15\" width=\"45\" height=\"45\" class=\"square light a8\" stroke=\"none\" fill=\"#ffce9e\" /><rect x=\"60\" y=\"15\" width=\"45\" height=\"45\" class=\"square dark b8\" stroke=\"none\" fill=\"#d18b47\" /><rect x=\"105\" y=\"15\" width=\"45\" height=\"45\" class=\"square light c8\" stroke=\"none\" fill=\"#ffce9e\" /><rect x=\"150\" y=\"15\" width=\"45\" height=\"45\" class=\"square dark d8\" stroke=\"none\" fill=\"#d18b47\" /><rect x=\"195\" y=\"15\" width=\"45\" height=\"45\" class=\"square light e8\" stroke=\"none\" fill=\"#ffce9e\" /><rect x=\"240\" y=\"15\" width=\"45\" height=\"45\" class=\"square dark f8\" stroke=\"none\" fill=\"#d18b47\" /><rect x=\"285\" y=\"15\" width=\"45\" height=\"45\" class=\"square light g8\" stroke=\"none\" fill=\"#ffce9e\" /><rect x=\"330\" y=\"15\" width=\"45\" height=\"45\" class=\"square dark h8\" stroke=\"none\" fill=\"#d18b47\" /><use href=\"#white-rook\" xlink:href=\"#white-rook\" transform=\"translate(15, 150)\" /><use href=\"#white-rook\" xlink:href=\"#white-rook\" transform=\"translate(330, 105)\" /><use href=\"#white-king\" xlink:href=\"#white-king\" transform=\"translate(240, 60)\" /><use href=\"#black-bishop\" xlink:href=\"#black-bishop\" transform=\"translate(330, 60)\" /><use href=\"#black-rook\" xlink:href=\"#black-rook\" transform=\"translate(195, 15)\" /><use href=\"#black-rook\" xlink:href=\"#black-rook\" transform=\"translate(285, 15)\" /><use href=\"#black-king\" xlink:href=\"#black-king\" transform=\"translate(330, 15)\" /></svg>"
      ],
      "text/plain": [
       "Board('4r1rk/5K1b/7R/R7/8/8/8/8 w - - 0 1')"
      ]
     },
     "execution_count": 7,
     "metadata": {},
     "output_type": "execute_result"
    }
   ],
   "source": [
    "engine1 = Engine('4r1rk/5K1b/7R/R7/8/8/8/8 w - - 0 1')\n",
    "# '8/4PKPk/5n1p/4b3/8/8/p7/q7 w - - 0 1 e8/Q+ Nxe8 g8/Q#'\n",
    "engine1.board"
   ]
  },
  {
   "cell_type": "code",
   "execution_count": 8,
   "metadata": {},
   "outputs": [],
   "source": [
    "# 2551609946390440050689\n",
    "import chess\n",
    "engine1.board.push(chess.Move(chess.H6, chess.H7))"
   ]
  },
  {
   "cell_type": "code",
   "execution_count": 9,
   "metadata": {},
   "outputs": [
    {
     "data": {
      "text/plain": [
       "2551609946390440050688"
      ]
     },
     "execution_count": 9,
     "metadata": {},
     "output_type": "execute_result"
    }
   ],
   "source": [
    "engine1.get_hash()"
   ]
  },
  {
   "cell_type": "code",
   "execution_count": 10,
   "metadata": {},
   "outputs": [],
   "source": [
    "engine1 = Engine('5K1k/7p/8/2p5/2rp4/8/p7/1B4B1 w - - 0 1')\n",
    "# 4182050160554138861569"
   ]
  },
  {
   "cell_type": "code",
   "execution_count": 14,
   "metadata": {},
   "outputs": [
    {
     "data": {
      "text/plain": [
       "4182050160554138861793"
      ]
     },
     "execution_count": 14,
     "metadata": {},
     "output_type": "execute_result"
    }
   ],
   "source": [
    "engine1.get_hash()"
   ]
  },
  {
   "cell_type": "code",
   "execution_count": 13,
   "metadata": {},
   "outputs": [
    {
     "data": {
      "text/plain": [
       "Move.from_uci('h7h5')"
      ]
     },
     "execution_count": 13,
     "metadata": {},
     "output_type": "execute_result"
    }
   ],
   "source": [
    "engine1.board.push_uci('h7h5')"
   ]
  },
  {
   "cell_type": "code",
   "execution_count": 15,
   "metadata": {},
   "outputs": [
    {
     "data": {
      "text/plain": [
       "16336133439664604928"
      ]
     },
     "execution_count": 15,
     "metadata": {},
     "output_type": "execute_result"
    }
   ],
   "source": [
    "4182050160554138861569 >> 8"
   ]
  },
  {
   "cell_type": "code",
   "execution_count": 16,
   "metadata": {},
   "outputs": [
    {
     "data": {
      "text/plain": [
       "16336133439664604928"
      ]
     },
     "execution_count": 16,
     "metadata": {},
     "output_type": "execute_result"
    }
   ],
   "source": [
    "4182050160554138861793 >> 8"
   ]
  },
  {
   "cell_type": "code",
   "execution_count": 17,
   "metadata": {},
   "outputs": [],
   "source": [
    "h = 16336133439664604928 << 8"
   ]
  },
  {
   "cell_type": "code",
   "execution_count": 18,
   "metadata": {},
   "outputs": [],
   "source": [
    "a = 4182050160554138861793"
   ]
  },
  {
   "cell_type": "code",
   "execution_count": 19,
   "metadata": {},
   "outputs": [],
   "source": [
    "b = 4182050160554138861569"
   ]
  },
  {
   "cell_type": "code",
   "execution_count": 20,
   "metadata": {},
   "outputs": [],
   "source": [
    "a -= h"
   ]
  },
  {
   "cell_type": "code",
   "execution_count": 21,
   "metadata": {},
   "outputs": [],
   "source": [
    "b -= h"
   ]
  },
  {
   "cell_type": "code",
   "execution_count": 22,
   "metadata": {},
   "outputs": [
    {
     "data": {
      "text/plain": [
       "(225, 1)"
      ]
     },
     "execution_count": 22,
     "metadata": {},
     "output_type": "execute_result"
    }
   ],
   "source": [
    "a, b"
   ]
  },
  {
   "cell_type": "code",
   "execution_count": 3,
   "metadata": {},
   "outputs": [
    {
     "data": {
      "text/plain": [
       "0.018935080674978403"
      ]
     },
     "execution_count": 3,
     "metadata": {},
     "output_type": "execute_result"
    }
   ],
   "source": [
    "2.4615604877471924/130"
   ]
  },
  {
   "cell_type": "code",
   "execution_count": 3,
   "metadata": {},
   "outputs": [],
   "source": [
    "engine = Engine('6Bk/R4K2/8/8/8/8/8/8 w - - 0 1')"
   ]
  },
  {
   "cell_type": "code",
   "execution_count": 4,
   "metadata": {},
   "outputs": [
    {
     "data": {
      "image/svg+xml": [
       "<svg xmlns=\"http://www.w3.org/2000/svg\" xmlns:xlink=\"http://www.w3.org/1999/xlink\" viewBox=\"0 0 390 390\" width=\"390\" height=\"390\"><desc><pre>. . . . . . B k\n",
       "R . . . . K . .\n",
       ". . . . . . . .\n",
       ". . . . . . . .\n",
       ". . . . . . . .\n",
       ". . . . . . . .\n",
       ". . . . . . . .\n",
       ". . . . . . . .</pre></desc><defs><g id=\"white-bishop\" class=\"white bishop\" fill=\"none\" fill-rule=\"evenodd\" stroke=\"#000\" stroke-width=\"1.5\" stroke-linecap=\"round\" stroke-linejoin=\"round\"><g fill=\"#fff\" stroke-linecap=\"butt\"><path d=\"M9 36c3.39-.97 10.11.43 13.5-2 3.39 2.43 10.11 1.03 13.5 2 0 0 1.65.54 3 2-.68.97-1.65.99-3 .5-3.39-.97-10.11.46-13.5-1-3.39 1.46-10.11.03-13.5 1-1.354.49-2.323.47-3-.5 1.354-1.94 3-2 3-2zM15 32c2.5 2.5 12.5 2.5 15 0 .5-1.5 0-2 0-2 0-2.5-2.5-4-2.5-4 5.5-1.5 6-11.5-5-15.5-11 4-10.5 14-5 15.5 0 0-2.5 1.5-2.5 4 0 0-.5.5 0 2zM25 8a2.5 2.5 0 1 1-5 0 2.5 2.5 0 1 1 5 0z\" /></g><path d=\"M17.5 26h10M15 30h15m-7.5-14.5v5M20 18h5\" stroke-linejoin=\"miter\" /></g><g id=\"white-rook\" class=\"white rook\" fill=\"#fff\" fill-rule=\"evenodd\" stroke=\"#000\" stroke-width=\"1.5\" stroke-linecap=\"round\" stroke-linejoin=\"round\"><path d=\"M9 39h27v-3H9v3zM12 36v-4h21v4H12zM11 14V9h4v2h5V9h5v2h5V9h4v5\" stroke-linecap=\"butt\" /><path d=\"M34 14l-3 3H14l-3-3\" /><path d=\"M31 17v12.5H14V17\" stroke-linecap=\"butt\" stroke-linejoin=\"miter\" /><path d=\"M31 29.5l1.5 2.5h-20l1.5-2.5\" /><path d=\"M11 14h23\" fill=\"none\" stroke-linejoin=\"miter\" /></g><g id=\"white-king\" class=\"white king\" fill=\"none\" fill-rule=\"evenodd\" stroke=\"#000\" stroke-width=\"1.5\" stroke-linecap=\"round\" stroke-linejoin=\"round\"><path d=\"M22.5 11.63V6M20 8h5\" stroke-linejoin=\"miter\" /><path d=\"M22.5 25s4.5-7.5 3-10.5c0 0-1-2.5-3-2.5s-3 2.5-3 2.5c-1.5 3 3 10.5 3 10.5\" fill=\"#fff\" stroke-linecap=\"butt\" stroke-linejoin=\"miter\" /><path d=\"M11.5 37c5.5 3.5 15.5 3.5 21 0v-7s9-4.5 6-10.5c-4-6.5-13.5-3.5-16 4V27v-3.5c-3.5-7.5-13-10.5-16-4-3 6 5 10 5 10V37z\" fill=\"#fff\" /><path d=\"M11.5 30c5.5-3 15.5-3 21 0m-21 3.5c5.5-3 15.5-3 21 0m-21 3.5c5.5-3 15.5-3 21 0\" /></g><g id=\"black-king\" class=\"black king\" fill=\"none\" fill-rule=\"evenodd\" stroke=\"#000\" stroke-width=\"1.5\" stroke-linecap=\"round\" stroke-linejoin=\"round\"><path d=\"M22.5 11.63V6\" stroke-linejoin=\"miter\" /><path d=\"M22.5 25s4.5-7.5 3-10.5c0 0-1-2.5-3-2.5s-3 2.5-3 2.5c-1.5 3 3 10.5 3 10.5\" fill=\"#000\" stroke-linecap=\"butt\" stroke-linejoin=\"miter\" /><path d=\"M11.5 37c5.5 3.5 15.5 3.5 21 0v-7s9-4.5 6-10.5c-4-6.5-13.5-3.5-16 4V27v-3.5c-3.5-7.5-13-10.5-16-4-3 6 5 10 5 10V37z\" fill=\"#000\" /><path d=\"M20 8h5\" stroke-linejoin=\"miter\" /><path d=\"M32 29.5s8.5-4 6.03-9.65C34.15 14 25 18 22.5 24.5l.01 2.1-.01-2.1C20 18 9.906 14 6.997 19.85c-2.497 5.65 4.853 9 4.853 9M11.5 30c5.5-3 15.5-3 21 0m-21 3.5c5.5-3 15.5-3 21 0m-21 3.5c5.5-3 15.5-3 21 0\" stroke=\"#fff\" /></g></defs><rect x=\"7.5\" y=\"7.5\" width=\"375\" height=\"375\" fill=\"none\" stroke=\"#212121\" stroke-width=\"15\" /><g transform=\"translate(20, 1) scale(0.75, 0.75)\" fill=\"#e5e5e5\" stroke=\"#e5e5e5\"><path d=\"M23.328 10.016q-1.742 0-2.414.398-.672.398-.672 1.36 0 .765.5 1.218.508.445 1.375.445 1.196 0 1.914-.843.727-.852.727-2.258v-.32zm2.867-.594v4.992h-1.437v-1.328q-.492.797-1.227 1.18-.734.375-1.797.375-1.343 0-2.14-.75-.79-.758-.79-2.024 0-1.476.985-2.226.992-.75 2.953-.75h2.016V8.75q0-.992-.656-1.531-.649-.547-1.829-.547-.75 0-1.46.18-.711.18-1.368.539V6.062q.79-.304 1.532-.453.742-.156 1.445-.156 1.898 0 2.836.984.937.985.937 2.985z\" /></g><g transform=\"translate(20, 375) scale(0.75, 0.75)\" fill=\"#e5e5e5\" stroke=\"#e5e5e5\"><path d=\"M23.328 10.016q-1.742 0-2.414.398-.672.398-.672 1.36 0 .765.5 1.218.508.445 1.375.445 1.196 0 1.914-.843.727-.852.727-2.258v-.32zm2.867-.594v4.992h-1.437v-1.328q-.492.797-1.227 1.18-.734.375-1.797.375-1.343 0-2.14-.75-.79-.758-.79-2.024 0-1.476.985-2.226.992-.75 2.953-.75h2.016V8.75q0-.992-.656-1.531-.649-.547-1.829-.547-.75 0-1.46.18-.711.18-1.368.539V6.062q.79-.304 1.532-.453.742-.156 1.445-.156 1.898 0 2.836.984.937.985.937 2.985z\" /></g><g transform=\"translate(65, 1) scale(0.75, 0.75)\" fill=\"#e5e5e5\" stroke=\"#e5e5e5\"><path d=\"M24.922 10.047q0-1.586-.656-2.485-.649-.906-1.79-.906-1.14 0-1.796.906-.649.899-.649 2.485 0 1.586.649 2.492.656.898 1.797.898 1.14 0 1.789-.898.656-.906.656-2.492zm-4.89-3.055q.452-.781 1.14-1.156.695-.383 1.656-.383 1.594 0 2.586 1.266 1 1.265 1 3.328 0 2.062-1 3.328-.992 1.266-2.586 1.266-.96 0-1.656-.375-.688-.383-1.14-1.164v1.312h-1.446V2.258h1.445z\" /></g><g transform=\"translate(65, 375) scale(0.75, 0.75)\" fill=\"#e5e5e5\" stroke=\"#e5e5e5\"><path d=\"M24.922 10.047q0-1.586-.656-2.485-.649-.906-1.79-.906-1.14 0-1.796.906-.649.899-.649 2.485 0 1.586.649 2.492.656.898 1.797.898 1.14 0 1.789-.898.656-.906.656-2.492zm-4.89-3.055q.452-.781 1.14-1.156.695-.383 1.656-.383 1.594 0 2.586 1.266 1 1.265 1 3.328 0 2.062-1 3.328-.992 1.266-2.586 1.266-.96 0-1.656-.375-.688-.383-1.14-1.164v1.312h-1.446V2.258h1.445z\" /></g><g transform=\"translate(110, 1) scale(0.75, 0.75)\" fill=\"#e5e5e5\" stroke=\"#e5e5e5\"><path d=\"M25.96 6v1.344q-.608-.336-1.226-.5-.609-.172-1.234-.172-1.398 0-2.172.89-.773.883-.773 2.485 0 1.601.773 2.492.774.883 2.172.883.625 0 1.234-.164.618-.172 1.227-.508v1.328q-.602.281-1.25.422-.64.14-1.367.14-1.977 0-3.14-1.242-1.165-1.242-1.165-3.351 0-2.14 1.172-3.367 1.18-1.227 3.227-1.227.664 0 1.296.14.633.134 1.227.407z\" /></g><g transform=\"translate(110, 375) scale(0.75, 0.75)\" fill=\"#e5e5e5\" stroke=\"#e5e5e5\"><path d=\"M25.96 6v1.344q-.608-.336-1.226-.5-.609-.172-1.234-.172-1.398 0-2.172.89-.773.883-.773 2.485 0 1.601.773 2.492.774.883 2.172.883.625 0 1.234-.164.618-.172 1.227-.508v1.328q-.602.281-1.25.422-.64.14-1.367.14-1.977 0-3.14-1.242-1.165-1.242-1.165-3.351 0-2.14 1.172-3.367 1.18-1.227 3.227-1.227.664 0 1.296.14.633.134 1.227.407z\" /></g><g transform=\"translate(155, 1) scale(0.75, 0.75)\" fill=\"#e5e5e5\" stroke=\"#e5e5e5\"><path d=\"M24.973 6.992V2.258h1.437v12.156h-1.437v-1.312q-.453.78-1.149 1.164-.687.375-1.656.375-1.586 0-2.586-1.266-.992-1.266-.992-3.328 0-2.063.992-3.328 1-1.266 2.586-1.266.969 0 1.656.383.696.375 1.149 1.156zm-4.899 3.055q0 1.586.649 2.492.656.898 1.797.898 1.14 0 1.796-.898.657-.906.657-2.492 0-1.586-.657-2.485-.656-.906-1.796-.906-1.141 0-1.797.906-.649.899-.649 2.485z\" /></g><g transform=\"translate(155, 375) scale(0.75, 0.75)\" fill=\"#e5e5e5\" stroke=\"#e5e5e5\"><path d=\"M24.973 6.992V2.258h1.437v12.156h-1.437v-1.312q-.453.78-1.149 1.164-.687.375-1.656.375-1.586 0-2.586-1.266-.992-1.266-.992-3.328 0-2.063.992-3.328 1-1.266 2.586-1.266.969 0 1.656.383.696.375 1.149 1.156zm-4.899 3.055q0 1.586.649 2.492.656.898 1.797.898 1.14 0 1.796-.898.657-.906.657-2.492 0-1.586-.657-2.485-.656-.906-1.796-.906-1.141 0-1.797.906-.649.899-.649 2.485z\" /></g><g transform=\"translate(200, 1) scale(0.75, 0.75)\" fill=\"#e5e5e5\" stroke=\"#e5e5e5\"><path d=\"M26.555 9.68v.703h-6.61q.094 1.484.89 2.265.806.774 2.235.774.828 0 1.602-.203.781-.203 1.547-.61v1.36q-.774.328-1.586.5-.813.172-1.649.172-2.093 0-3.32-1.22-1.219-1.218-1.219-3.296 0-2.148 1.157-3.406 1.164-1.266 3.132-1.266 1.766 0 2.79 1.14 1.03 1.134 1.03 3.087zm-1.438-.422q-.015-1.18-.664-1.883-.64-.703-1.703-.703-1.203 0-1.93.68-.718.68-.828 1.914z\" /></g><g transform=\"translate(200, 375) scale(0.75, 0.75)\" fill=\"#e5e5e5\" stroke=\"#e5e5e5\"><path d=\"M26.555 9.68v.703h-6.61q.094 1.484.89 2.265.806.774 2.235.774.828 0 1.602-.203.781-.203 1.547-.61v1.36q-.774.328-1.586.5-.813.172-1.649.172-2.093 0-3.32-1.22-1.219-1.218-1.219-3.296 0-2.148 1.157-3.406 1.164-1.266 3.132-1.266 1.766 0 2.79 1.14 1.03 1.134 1.03 3.087zm-1.438-.422q-.015-1.18-.664-1.883-.64-.703-1.703-.703-1.203 0-1.93.68-.718.68-.828 1.914z\" /></g><g transform=\"translate(245, 1) scale(0.75, 0.75)\" fill=\"#e5e5e5\" stroke=\"#e5e5e5\"><path d=\"M25.285 2.258v1.195H23.91q-.773 0-1.078.313-.297.312-.297 1.125v.773h2.367v1.117h-2.367v7.633H21.09V6.781h-1.375V5.664h1.375v-.61q0-1.46.68-2.124.68-.672 2.156-.672z\" /></g><g transform=\"translate(245, 375) scale(0.75, 0.75)\" fill=\"#e5e5e5\" stroke=\"#e5e5e5\"><path d=\"M25.285 2.258v1.195H23.91q-.773 0-1.078.313-.297.312-.297 1.125v.773h2.367v1.117h-2.367v7.633H21.09V6.781h-1.375V5.664h1.375v-.61q0-1.46.68-2.124.68-.672 2.156-.672z\" /></g><g transform=\"translate(290, 1) scale(0.75, 0.75)\" fill=\"#e5e5e5\" stroke=\"#e5e5e5\"><path d=\"M24.973 9.937q0-1.562-.649-2.421-.64-.86-1.804-.86-1.157 0-1.805.86-.64.859-.64 2.421 0 1.555.64 2.415.648.859 1.805.859 1.164 0 1.804-.86.649-.859.649-2.414zm1.437 3.391q0 2.234-.992 3.32-.992 1.094-3.04 1.094-.757 0-1.429-.117-.672-.11-1.304-.344v-1.398q.632.344 1.25.508.617.164 1.257.164 1.414 0 2.118-.743.703-.734.703-2.226v-.711q-.446.773-1.141 1.156-.695.383-1.664.383-1.61 0-2.594-1.227-.984-1.226-.984-3.25 0-2.03.984-3.257.985-1.227 2.594-1.227.969 0 1.664.383t1.14 1.156V5.664h1.438z\" /></g><g transform=\"translate(290, 375) scale(0.75, 0.75)\" fill=\"#e5e5e5\" stroke=\"#e5e5e5\"><path d=\"M24.973 9.937q0-1.562-.649-2.421-.64-.86-1.804-.86-1.157 0-1.805.86-.64.859-.64 2.421 0 1.555.64 2.415.648.859 1.805.859 1.164 0 1.804-.86.649-.859.649-2.414zm1.437 3.391q0 2.234-.992 3.32-.992 1.094-3.04 1.094-.757 0-1.429-.117-.672-.11-1.304-.344v-1.398q.632.344 1.25.508.617.164 1.257.164 1.414 0 2.118-.743.703-.734.703-2.226v-.711q-.446.773-1.141 1.156-.695.383-1.664.383-1.61 0-2.594-1.227-.984-1.226-.984-3.25 0-2.03.984-3.257.985-1.227 2.594-1.227.969 0 1.664.383t1.14 1.156V5.664h1.438z\" /></g><g transform=\"translate(335, 1) scale(0.75, 0.75)\" fill=\"#e5e5e5\" stroke=\"#e5e5e5\"><path d=\"M26.164 9.133v5.281h-1.437V9.18q0-1.243-.485-1.86-.484-.617-1.453-.617-1.164 0-1.836.742-.672.742-.672 2.024v4.945h-1.445V2.258h1.445v4.765q.516-.789 1.211-1.18.703-.39 1.617-.39 1.508 0 2.282.938.773.93.773 2.742z\" /></g><g transform=\"translate(335, 375) scale(0.75, 0.75)\" fill=\"#e5e5e5\" stroke=\"#e5e5e5\"><path d=\"M26.164 9.133v5.281h-1.437V9.18q0-1.243-.485-1.86-.484-.617-1.453-.617-1.164 0-1.836.742-.672.742-.672 2.024v4.945h-1.445V2.258h1.445v4.765q.516-.789 1.211-1.18.703-.39 1.617-.39 1.508 0 2.282.938.773.93.773 2.742z\" /></g><g transform=\"translate(0, 335) scale(0.75, 0.75)\" fill=\"#e5e5e5\" stroke=\"#e5e5e5\"><path d=\"M6.754 26.996h2.578v-8.898l-2.805.562v-1.437l2.79-.563h1.578v10.336h2.578v1.328h-6.72z\" /></g><g transform=\"translate(375, 335) scale(0.75, 0.75)\" fill=\"#e5e5e5\" stroke=\"#e5e5e5\"><path d=\"M6.754 26.996h2.578v-8.898l-2.805.562v-1.437l2.79-.563h1.578v10.336h2.578v1.328h-6.72z\" /></g><g transform=\"translate(0, 290) scale(0.75, 0.75)\" fill=\"#e5e5e5\" stroke=\"#e5e5e5\"><path d=\"M8.195 26.996h5.508v1.328H6.297v-1.328q.898-.93 2.445-2.492 1.555-1.57 1.953-2.024.758-.851 1.055-1.437.305-.594.305-1.164 0-.93-.657-1.516-.648-.586-1.695-.586-.742 0-1.57.258-.82.258-1.758.781v-1.593q.953-.383 1.781-.578.828-.196 1.516-.196 1.812 0 2.89.906 1.079.907 1.079 2.422 0 .72-.274 1.368-.265.64-.976 1.515-.196.227-1.243 1.313-1.046 1.078-2.953 3.023z\" /></g><g transform=\"translate(375, 290) scale(0.75, 0.75)\" fill=\"#e5e5e5\" stroke=\"#e5e5e5\"><path d=\"M8.195 26.996h5.508v1.328H6.297v-1.328q.898-.93 2.445-2.492 1.555-1.57 1.953-2.024.758-.851 1.055-1.437.305-.594.305-1.164 0-.93-.657-1.516-.648-.586-1.695-.586-.742 0-1.57.258-.82.258-1.758.781v-1.593q.953-.383 1.781-.578.828-.196 1.516-.196 1.812 0 2.89.906 1.079.907 1.079 2.422 0 .72-.274 1.368-.265.64-.976 1.515-.196.227-1.243 1.313-1.046 1.078-2.953 3.023z\" /></g><g transform=\"translate(0, 245) scale(0.75, 0.75)\" fill=\"#e5e5e5\" stroke=\"#e5e5e5\"><path d=\"M11.434 22.035q1.132.242 1.765 1.008.64.766.64 1.89 0 1.727-1.187 2.672-1.187.946-3.375.946-.734 0-1.515-.149-.774-.14-1.602-.43V26.45q.656.383 1.438.578.78.196 1.632.196 1.485 0 2.258-.586.782-.586.782-1.703 0-1.032-.727-1.61-.719-.586-2.008-.586h-1.36v-1.297h1.423q1.164 0 1.78-.46.618-.47.618-1.344 0-.899-.64-1.375-.633-.485-1.82-.485-.65 0-1.391.141-.743.14-1.633.437V16.95q.898-.25 1.68-.375.788-.125 1.484-.125 1.797 0 2.844.82 1.046.813 1.046 2.204 0 .968-.554 1.64-.555.664-1.578.922z\" /></g><g transform=\"translate(375, 245) scale(0.75, 0.75)\" fill=\"#e5e5e5\" stroke=\"#e5e5e5\"><path d=\"M11.434 22.035q1.132.242 1.765 1.008.64.766.64 1.89 0 1.727-1.187 2.672-1.187.946-3.375.946-.734 0-1.515-.149-.774-.14-1.602-.43V26.45q.656.383 1.438.578.78.196 1.632.196 1.485 0 2.258-.586.782-.586.782-1.703 0-1.032-.727-1.61-.719-.586-2.008-.586h-1.36v-1.297h1.423q1.164 0 1.78-.46.618-.47.618-1.344 0-.899-.64-1.375-.633-.485-1.82-.485-.65 0-1.391.141-.743.14-1.633.437V16.95q.898-.25 1.68-.375.788-.125 1.484-.125 1.797 0 2.844.82 1.046.813 1.046 2.204 0 .968-.554 1.64-.555.664-1.578.922z\" /></g><g transform=\"translate(0, 200) scale(0.75, 0.75)\" fill=\"#e5e5e5\" stroke=\"#e5e5e5\"><path d=\"M11.016 18.035L7.03 24.262h3.985zm-.414-1.375h1.984v7.602h1.664v1.312h-1.664v2.75h-1.57v-2.75H5.75v-1.523z\" /></g><g transform=\"translate(375, 200) scale(0.75, 0.75)\" fill=\"#e5e5e5\" stroke=\"#e5e5e5\"><path d=\"M11.016 18.035L7.03 24.262h3.985zm-.414-1.375h1.984v7.602h1.664v1.312h-1.664v2.75h-1.57v-2.75H5.75v-1.523z\" /></g><g transform=\"translate(0, 155) scale(0.75, 0.75)\" fill=\"#e5e5e5\" stroke=\"#e5e5e5\"><path d=\"M6.719 16.66h6.195v1.328h-4.75v2.86q.344-.118.688-.172.343-.063.687-.063 1.953 0 3.094 1.07 1.14 1.07 1.14 2.899 0 1.883-1.171 2.93-1.172 1.039-3.305 1.039-.735 0-1.5-.125-.758-.125-1.57-.375v-1.586q.703.383 1.453.57.75.188 1.586.188 1.351 0 2.14-.711.79-.711.79-1.93 0-1.219-.79-1.93-.789-.71-2.14-.71-.633 0-1.266.14-.625.14-1.281.438z\" /></g><g transform=\"translate(375, 155) scale(0.75, 0.75)\" fill=\"#e5e5e5\" stroke=\"#e5e5e5\"><path d=\"M6.719 16.66h6.195v1.328h-4.75v2.86q.344-.118.688-.172.343-.063.687-.063 1.953 0 3.094 1.07 1.14 1.07 1.14 2.899 0 1.883-1.171 2.93-1.172 1.039-3.305 1.039-.735 0-1.5-.125-.758-.125-1.57-.375v-1.586q.703.383 1.453.57.75.188 1.586.188 1.351 0 2.14-.711.79-.711.79-1.93 0-1.219-.79-1.93-.789-.71-2.14-.71-.633 0-1.266.14-.625.14-1.281.438z\" /></g><g transform=\"translate(0, 110) scale(0.75, 0.75)\" fill=\"#e5e5e5\" stroke=\"#e5e5e5\"><path d=\"M10.137 21.863q-1.063 0-1.688.727-.617.726-.617 1.992 0 1.258.617 1.992.625.727 1.688.727 1.062 0 1.68-.727.624-.734.624-1.992 0-1.266-.625-1.992-.617-.727-1.68-.727zm3.133-4.945v1.437q-.594-.28-1.204-.43-.601-.148-1.195-.148-1.562 0-2.39 1.055-.82 1.055-.938 3.188.46-.68 1.156-1.04.696-.367 1.531-.367 1.758 0 2.774 1.07 1.023 1.063 1.023 2.899 0 1.797-1.062 2.883-1.063 1.086-2.828 1.086-2.024 0-3.094-1.547-1.07-1.555-1.07-4.5 0-2.766 1.312-4.406 1.313-1.649 3.524-1.649.593 0 1.195.117.61.118 1.266.352z\" /></g><g transform=\"translate(375, 110) scale(0.75, 0.75)\" fill=\"#e5e5e5\" stroke=\"#e5e5e5\"><path d=\"M10.137 21.863q-1.063 0-1.688.727-.617.726-.617 1.992 0 1.258.617 1.992.625.727 1.688.727 1.062 0 1.68-.727.624-.734.624-1.992 0-1.266-.625-1.992-.617-.727-1.68-.727zm3.133-4.945v1.437q-.594-.28-1.204-.43-.601-.148-1.195-.148-1.562 0-2.39 1.055-.82 1.055-.938 3.188.46-.68 1.156-1.04.696-.367 1.531-.367 1.758 0 2.774 1.07 1.023 1.063 1.023 2.899 0 1.797-1.062 2.883-1.063 1.086-2.828 1.086-2.024 0-3.094-1.547-1.07-1.555-1.07-4.5 0-2.766 1.312-4.406 1.313-1.649 3.524-1.649.593 0 1.195.117.61.118 1.266.352z\" /></g><g transform=\"translate(0, 65) scale(0.75, 0.75)\" fill=\"#e5e5e5\" stroke=\"#e5e5e5\"><path d=\"M6.25 16.66h7.5v.672L9.516 28.324H7.867l3.985-10.336H6.25z\" /></g><g transform=\"translate(375, 65) scale(0.75, 0.75)\" fill=\"#e5e5e5\" stroke=\"#e5e5e5\"><path d=\"M6.25 16.66h7.5v.672L9.516 28.324H7.867l3.985-10.336H6.25z\" /></g><g transform=\"translate(0, 20) scale(0.75, 0.75)\" fill=\"#e5e5e5\" stroke=\"#e5e5e5\"><path d=\"M10 22.785q-1.125 0-1.773.602-.641.601-.641 1.656t.64 1.656q.649.602 1.774.602t1.773-.602q.649-.61.649-1.656 0-1.055-.649-1.656-.64-.602-1.773-.602zm-1.578-.672q-1.016-.25-1.586-.945-.563-.695-.563-1.695 0-1.399.993-2.211 1-.813 2.734-.813 1.742 0 2.734.813.993.812.993 2.21 0 1-.57 1.696-.563.695-1.571.945 1.14.266 1.773 1.04.641.773.641 1.89 0 1.695-1.04 2.602-1.03.906-2.96.906t-2.969-.906Q6 26.738 6 25.043q0-1.117.64-1.89.641-.774 1.782-1.04zm-.578-2.492q0 .906.562 1.414.57.508 1.594.508 1.016 0 1.586-.508.578-.508.578-1.414 0-.906-.578-1.414-.57-.508-1.586-.508-1.023 0-1.594.508-.562.508-.562 1.414z\" /></g><g transform=\"translate(375, 20) scale(0.75, 0.75)\" fill=\"#e5e5e5\" stroke=\"#e5e5e5\"><path d=\"M10 22.785q-1.125 0-1.773.602-.641.601-.641 1.656t.64 1.656q.649.602 1.774.602t1.773-.602q.649-.61.649-1.656 0-1.055-.649-1.656-.64-.602-1.773-.602zm-1.578-.672q-1.016-.25-1.586-.945-.563-.695-.563-1.695 0-1.399.993-2.211 1-.813 2.734-.813 1.742 0 2.734.813.993.812.993 2.21 0 1-.57 1.696-.563.695-1.571.945 1.14.266 1.773 1.04.641.773.641 1.89 0 1.695-1.04 2.602-1.03.906-2.96.906t-2.969-.906Q6 26.738 6 25.043q0-1.117.64-1.89.641-.774 1.782-1.04zm-.578-2.492q0 .906.562 1.414.57.508 1.594.508 1.016 0 1.586-.508.578-.508.578-1.414 0-.906-.578-1.414-.57-.508-1.586-.508-1.023 0-1.594.508-.562.508-.562 1.414z\" /></g><rect x=\"15\" y=\"330\" width=\"45\" height=\"45\" class=\"square dark a1\" stroke=\"none\" fill=\"#d18b47\" /><rect x=\"60\" y=\"330\" width=\"45\" height=\"45\" class=\"square light b1\" stroke=\"none\" fill=\"#ffce9e\" /><rect x=\"105\" y=\"330\" width=\"45\" height=\"45\" class=\"square dark c1\" stroke=\"none\" fill=\"#d18b47\" /><rect x=\"150\" y=\"330\" width=\"45\" height=\"45\" class=\"square light d1\" stroke=\"none\" fill=\"#ffce9e\" /><rect x=\"195\" y=\"330\" width=\"45\" height=\"45\" class=\"square dark e1\" stroke=\"none\" fill=\"#d18b47\" /><rect x=\"240\" y=\"330\" width=\"45\" height=\"45\" class=\"square light f1\" stroke=\"none\" fill=\"#ffce9e\" /><rect x=\"285\" y=\"330\" width=\"45\" height=\"45\" class=\"square dark g1\" stroke=\"none\" fill=\"#d18b47\" /><rect x=\"330\" y=\"330\" width=\"45\" height=\"45\" class=\"square light h1\" stroke=\"none\" fill=\"#ffce9e\" /><rect x=\"15\" y=\"285\" width=\"45\" height=\"45\" class=\"square light a2\" stroke=\"none\" fill=\"#ffce9e\" /><rect x=\"60\" y=\"285\" width=\"45\" height=\"45\" class=\"square dark b2\" stroke=\"none\" fill=\"#d18b47\" /><rect x=\"105\" y=\"285\" width=\"45\" height=\"45\" class=\"square light c2\" stroke=\"none\" fill=\"#ffce9e\" /><rect x=\"150\" y=\"285\" width=\"45\" height=\"45\" class=\"square dark d2\" stroke=\"none\" fill=\"#d18b47\" /><rect x=\"195\" y=\"285\" width=\"45\" height=\"45\" class=\"square light e2\" stroke=\"none\" fill=\"#ffce9e\" /><rect x=\"240\" y=\"285\" width=\"45\" height=\"45\" class=\"square dark f2\" stroke=\"none\" fill=\"#d18b47\" /><rect x=\"285\" y=\"285\" width=\"45\" height=\"45\" class=\"square light g2\" stroke=\"none\" fill=\"#ffce9e\" /><rect x=\"330\" y=\"285\" width=\"45\" height=\"45\" class=\"square dark h2\" stroke=\"none\" fill=\"#d18b47\" /><rect x=\"15\" y=\"240\" width=\"45\" height=\"45\" class=\"square dark a3\" stroke=\"none\" fill=\"#d18b47\" /><rect x=\"60\" y=\"240\" width=\"45\" height=\"45\" class=\"square light b3\" stroke=\"none\" fill=\"#ffce9e\" /><rect x=\"105\" y=\"240\" width=\"45\" height=\"45\" class=\"square dark c3\" stroke=\"none\" fill=\"#d18b47\" /><rect x=\"150\" y=\"240\" width=\"45\" height=\"45\" class=\"square light d3\" stroke=\"none\" fill=\"#ffce9e\" /><rect x=\"195\" y=\"240\" width=\"45\" height=\"45\" class=\"square dark e3\" stroke=\"none\" fill=\"#d18b47\" /><rect x=\"240\" y=\"240\" width=\"45\" height=\"45\" class=\"square light f3\" stroke=\"none\" fill=\"#ffce9e\" /><rect x=\"285\" y=\"240\" width=\"45\" height=\"45\" class=\"square dark g3\" stroke=\"none\" fill=\"#d18b47\" /><rect x=\"330\" y=\"240\" width=\"45\" height=\"45\" class=\"square light h3\" stroke=\"none\" fill=\"#ffce9e\" /><rect x=\"15\" y=\"195\" width=\"45\" height=\"45\" class=\"square light a4\" stroke=\"none\" fill=\"#ffce9e\" /><rect x=\"60\" y=\"195\" width=\"45\" height=\"45\" class=\"square dark b4\" stroke=\"none\" fill=\"#d18b47\" /><rect x=\"105\" y=\"195\" width=\"45\" height=\"45\" class=\"square light c4\" stroke=\"none\" fill=\"#ffce9e\" /><rect x=\"150\" y=\"195\" width=\"45\" height=\"45\" class=\"square dark d4\" stroke=\"none\" fill=\"#d18b47\" /><rect x=\"195\" y=\"195\" width=\"45\" height=\"45\" class=\"square light e4\" stroke=\"none\" fill=\"#ffce9e\" /><rect x=\"240\" y=\"195\" width=\"45\" height=\"45\" class=\"square dark f4\" stroke=\"none\" fill=\"#d18b47\" /><rect x=\"285\" y=\"195\" width=\"45\" height=\"45\" class=\"square light g4\" stroke=\"none\" fill=\"#ffce9e\" /><rect x=\"330\" y=\"195\" width=\"45\" height=\"45\" class=\"square dark h4\" stroke=\"none\" fill=\"#d18b47\" /><rect x=\"15\" y=\"150\" width=\"45\" height=\"45\" class=\"square dark a5\" stroke=\"none\" fill=\"#d18b47\" /><rect x=\"60\" y=\"150\" width=\"45\" height=\"45\" class=\"square light b5\" stroke=\"none\" fill=\"#ffce9e\" /><rect x=\"105\" y=\"150\" width=\"45\" height=\"45\" class=\"square dark c5\" stroke=\"none\" fill=\"#d18b47\" /><rect x=\"150\" y=\"150\" width=\"45\" height=\"45\" class=\"square light d5\" stroke=\"none\" fill=\"#ffce9e\" /><rect x=\"195\" y=\"150\" width=\"45\" height=\"45\" class=\"square dark e5\" stroke=\"none\" fill=\"#d18b47\" /><rect x=\"240\" y=\"150\" width=\"45\" height=\"45\" class=\"square light f5\" stroke=\"none\" fill=\"#ffce9e\" /><rect x=\"285\" y=\"150\" width=\"45\" height=\"45\" class=\"square dark g5\" stroke=\"none\" fill=\"#d18b47\" /><rect x=\"330\" y=\"150\" width=\"45\" height=\"45\" class=\"square light h5\" stroke=\"none\" fill=\"#ffce9e\" /><rect x=\"15\" y=\"105\" width=\"45\" height=\"45\" class=\"square light a6\" stroke=\"none\" fill=\"#ffce9e\" /><rect x=\"60\" y=\"105\" width=\"45\" height=\"45\" class=\"square dark b6\" stroke=\"none\" fill=\"#d18b47\" /><rect x=\"105\" y=\"105\" width=\"45\" height=\"45\" class=\"square light c6\" stroke=\"none\" fill=\"#ffce9e\" /><rect x=\"150\" y=\"105\" width=\"45\" height=\"45\" class=\"square dark d6\" stroke=\"none\" fill=\"#d18b47\" /><rect x=\"195\" y=\"105\" width=\"45\" height=\"45\" class=\"square light e6\" stroke=\"none\" fill=\"#ffce9e\" /><rect x=\"240\" y=\"105\" width=\"45\" height=\"45\" class=\"square dark f6\" stroke=\"none\" fill=\"#d18b47\" /><rect x=\"285\" y=\"105\" width=\"45\" height=\"45\" class=\"square light g6\" stroke=\"none\" fill=\"#ffce9e\" /><rect x=\"330\" y=\"105\" width=\"45\" height=\"45\" class=\"square dark h6\" stroke=\"none\" fill=\"#d18b47\" /><rect x=\"15\" y=\"60\" width=\"45\" height=\"45\" class=\"square dark a7\" stroke=\"none\" fill=\"#d18b47\" /><rect x=\"60\" y=\"60\" width=\"45\" height=\"45\" class=\"square light b7\" stroke=\"none\" fill=\"#ffce9e\" /><rect x=\"105\" y=\"60\" width=\"45\" height=\"45\" class=\"square dark c7\" stroke=\"none\" fill=\"#d18b47\" /><rect x=\"150\" y=\"60\" width=\"45\" height=\"45\" class=\"square light d7\" stroke=\"none\" fill=\"#ffce9e\" /><rect x=\"195\" y=\"60\" width=\"45\" height=\"45\" class=\"square dark e7\" stroke=\"none\" fill=\"#d18b47\" /><rect x=\"240\" y=\"60\" width=\"45\" height=\"45\" class=\"square light f7\" stroke=\"none\" fill=\"#ffce9e\" /><rect x=\"285\" y=\"60\" width=\"45\" height=\"45\" class=\"square dark g7\" stroke=\"none\" fill=\"#d18b47\" /><rect x=\"330\" y=\"60\" width=\"45\" height=\"45\" class=\"square light h7\" stroke=\"none\" fill=\"#ffce9e\" /><rect x=\"15\" y=\"15\" width=\"45\" height=\"45\" class=\"square light a8\" stroke=\"none\" fill=\"#ffce9e\" /><rect x=\"60\" y=\"15\" width=\"45\" height=\"45\" class=\"square dark b8\" stroke=\"none\" fill=\"#d18b47\" /><rect x=\"105\" y=\"15\" width=\"45\" height=\"45\" class=\"square light c8\" stroke=\"none\" fill=\"#ffce9e\" /><rect x=\"150\" y=\"15\" width=\"45\" height=\"45\" class=\"square dark d8\" stroke=\"none\" fill=\"#d18b47\" /><rect x=\"195\" y=\"15\" width=\"45\" height=\"45\" class=\"square light e8\" stroke=\"none\" fill=\"#ffce9e\" /><rect x=\"240\" y=\"15\" width=\"45\" height=\"45\" class=\"square dark f8\" stroke=\"none\" fill=\"#d18b47\" /><rect x=\"285\" y=\"15\" width=\"45\" height=\"45\" class=\"square light g8\" stroke=\"none\" fill=\"#ffce9e\" /><rect x=\"330\" y=\"15\" width=\"45\" height=\"45\" class=\"square dark h8\" stroke=\"none\" fill=\"#d18b47\" /><use href=\"#white-rook\" xlink:href=\"#white-rook\" transform=\"translate(15, 60)\" /><use href=\"#white-king\" xlink:href=\"#white-king\" transform=\"translate(240, 60)\" /><use href=\"#white-bishop\" xlink:href=\"#white-bishop\" transform=\"translate(285, 15)\" /><use href=\"#black-king\" xlink:href=\"#black-king\" transform=\"translate(330, 15)\" /></svg>"
      ],
      "text/plain": [
       "Board('6Bk/R4K2/8/8/8/8/8/8 w - - 0 1')"
      ]
     },
     "execution_count": 4,
     "metadata": {},
     "output_type": "execute_result"
    }
   ],
   "source": [
    "engine.board"
   ]
  },
  {
   "cell_type": "code",
   "execution_count": 5,
   "metadata": {},
   "outputs": [],
   "source": [
    "from my_chess_engine import storage"
   ]
  },
  {
   "cell_type": "code",
   "execution_count": 6,
   "metadata": {},
   "outputs": [
    {
     "data": {
      "text/plain": [
       "(inf, Move.from_uci('g8h7'))"
      ]
     },
     "execution_count": 6,
     "metadata": {},
     "output_type": "execute_result"
    }
   ],
   "source": [
    "storage[engine.hash]"
   ]
  },
  {
   "cell_type": "code",
   "execution_count": 12,
   "metadata": {},
   "outputs": [
    {
     "ename": "KeyError",
     "evalue": "2111843814805896167424",
     "output_type": "error",
     "traceback": [
      "\u001b[0;31m---------------------------------------------------------------------------\u001b[0m",
      "\u001b[0;31mKeyError\u001b[0m                                  Traceback (most recent call last)",
      "\u001b[0;32m/tmp/ipykernel_247131/2130533914.py\u001b[0m in \u001b[0;36m<module>\u001b[0;34m\u001b[0m\n\u001b[0;32m----> 1\u001b[0;31m \u001b[0mengine\u001b[0m\u001b[0;34m.\u001b[0m\u001b[0mmake_move\u001b[0m\u001b[0;34m(\u001b[0m\u001b[0mstorage\u001b[0m\u001b[0;34m[\u001b[0m\u001b[0mengine\u001b[0m\u001b[0;34m.\u001b[0m\u001b[0mhash\u001b[0m\u001b[0;34m]\u001b[0m\u001b[0;34m[\u001b[0m\u001b[0;36m1\u001b[0m\u001b[0;34m]\u001b[0m\u001b[0;34m)\u001b[0m\u001b[0;34m\u001b[0m\u001b[0;34m\u001b[0m\u001b[0m\n\u001b[0m",
      "\u001b[0;31mKeyError\u001b[0m: 2111843814805896167424"
     ]
    }
   ],
   "source": [
    "engine.make_move(storage[engine.hash][1])"
   ]
  },
  {
   "cell_type": "code",
   "execution_count": 13,
   "metadata": {},
   "outputs": [
    {
     "data": {
      "image/svg+xml": [
       "<svg xmlns=\"http://www.w3.org/2000/svg\" xmlns:xlink=\"http://www.w3.org/1999/xlink\" viewBox=\"0 0 390 390\" width=\"390\" height=\"390\"><desc><pre>. . . . . . . k\n",
       ". . . . . K . .\n",
       ". . . . . . . R\n",
       ". . . . . . . .\n",
       ". . . . . . . .\n",
       ". . . . . . . .\n",
       ". . . . . . . .\n",
       ". . . . . . . .</pre></desc><defs><g id=\"white-rook\" class=\"white rook\" fill=\"#fff\" fill-rule=\"evenodd\" stroke=\"#000\" stroke-width=\"1.5\" stroke-linecap=\"round\" stroke-linejoin=\"round\"><path d=\"M9 39h27v-3H9v3zM12 36v-4h21v4H12zM11 14V9h4v2h5V9h5v2h5V9h4v5\" stroke-linecap=\"butt\" /><path d=\"M34 14l-3 3H14l-3-3\" /><path d=\"M31 17v12.5H14V17\" stroke-linecap=\"butt\" stroke-linejoin=\"miter\" /><path d=\"M31 29.5l1.5 2.5h-20l1.5-2.5\" /><path d=\"M11 14h23\" fill=\"none\" stroke-linejoin=\"miter\" /></g><g id=\"white-king\" class=\"white king\" fill=\"none\" fill-rule=\"evenodd\" stroke=\"#000\" stroke-width=\"1.5\" stroke-linecap=\"round\" stroke-linejoin=\"round\"><path d=\"M22.5 11.63V6M20 8h5\" stroke-linejoin=\"miter\" /><path d=\"M22.5 25s4.5-7.5 3-10.5c0 0-1-2.5-3-2.5s-3 2.5-3 2.5c-1.5 3 3 10.5 3 10.5\" fill=\"#fff\" stroke-linecap=\"butt\" stroke-linejoin=\"miter\" /><path d=\"M11.5 37c5.5 3.5 15.5 3.5 21 0v-7s9-4.5 6-10.5c-4-6.5-13.5-3.5-16 4V27v-3.5c-3.5-7.5-13-10.5-16-4-3 6 5 10 5 10V37z\" fill=\"#fff\" /><path d=\"M11.5 30c5.5-3 15.5-3 21 0m-21 3.5c5.5-3 15.5-3 21 0m-21 3.5c5.5-3 15.5-3 21 0\" /></g><g id=\"black-king\" class=\"black king\" fill=\"none\" fill-rule=\"evenodd\" stroke=\"#000\" stroke-width=\"1.5\" stroke-linecap=\"round\" stroke-linejoin=\"round\"><path d=\"M22.5 11.63V6\" stroke-linejoin=\"miter\" /><path d=\"M22.5 25s4.5-7.5 3-10.5c0 0-1-2.5-3-2.5s-3 2.5-3 2.5c-1.5 3 3 10.5 3 10.5\" fill=\"#000\" stroke-linecap=\"butt\" stroke-linejoin=\"miter\" /><path d=\"M11.5 37c5.5 3.5 15.5 3.5 21 0v-7s9-4.5 6-10.5c-4-6.5-13.5-3.5-16 4V27v-3.5c-3.5-7.5-13-10.5-16-4-3 6 5 10 5 10V37z\" fill=\"#000\" /><path d=\"M20 8h5\" stroke-linejoin=\"miter\" /><path d=\"M32 29.5s8.5-4 6.03-9.65C34.15 14 25 18 22.5 24.5l.01 2.1-.01-2.1C20 18 9.906 14 6.997 19.85c-2.497 5.65 4.853 9 4.853 9M11.5 30c5.5-3 15.5-3 21 0m-21 3.5c5.5-3 15.5-3 21 0m-21 3.5c5.5-3 15.5-3 21 0\" stroke=\"#fff\" /></g><radialGradient id=\"check_gradient\" r=\"0.5\"><stop offset=\"0%\" stop-color=\"#ff0000\" stop-opacity=\"1.0\" /><stop offset=\"50%\" stop-color=\"#e70000\" stop-opacity=\"1.0\" /><stop offset=\"100%\" stop-color=\"#9e0000\" stop-opacity=\"0.0\" /></radialGradient></defs><rect x=\"7.5\" y=\"7.5\" width=\"375\" height=\"375\" fill=\"none\" stroke=\"#212121\" stroke-width=\"15\" /><g transform=\"translate(20, 1) scale(0.75, 0.75)\" fill=\"#e5e5e5\" stroke=\"#e5e5e5\"><path d=\"M23.328 10.016q-1.742 0-2.414.398-.672.398-.672 1.36 0 .765.5 1.218.508.445 1.375.445 1.196 0 1.914-.843.727-.852.727-2.258v-.32zm2.867-.594v4.992h-1.437v-1.328q-.492.797-1.227 1.18-.734.375-1.797.375-1.343 0-2.14-.75-.79-.758-.79-2.024 0-1.476.985-2.226.992-.75 2.953-.75h2.016V8.75q0-.992-.656-1.531-.649-.547-1.829-.547-.75 0-1.46.18-.711.18-1.368.539V6.062q.79-.304 1.532-.453.742-.156 1.445-.156 1.898 0 2.836.984.937.985.937 2.985z\" /></g><g transform=\"translate(20, 375) scale(0.75, 0.75)\" fill=\"#e5e5e5\" stroke=\"#e5e5e5\"><path d=\"M23.328 10.016q-1.742 0-2.414.398-.672.398-.672 1.36 0 .765.5 1.218.508.445 1.375.445 1.196 0 1.914-.843.727-.852.727-2.258v-.32zm2.867-.594v4.992h-1.437v-1.328q-.492.797-1.227 1.18-.734.375-1.797.375-1.343 0-2.14-.75-.79-.758-.79-2.024 0-1.476.985-2.226.992-.75 2.953-.75h2.016V8.75q0-.992-.656-1.531-.649-.547-1.829-.547-.75 0-1.46.18-.711.18-1.368.539V6.062q.79-.304 1.532-.453.742-.156 1.445-.156 1.898 0 2.836.984.937.985.937 2.985z\" /></g><g transform=\"translate(65, 1) scale(0.75, 0.75)\" fill=\"#e5e5e5\" stroke=\"#e5e5e5\"><path d=\"M24.922 10.047q0-1.586-.656-2.485-.649-.906-1.79-.906-1.14 0-1.796.906-.649.899-.649 2.485 0 1.586.649 2.492.656.898 1.797.898 1.14 0 1.789-.898.656-.906.656-2.492zm-4.89-3.055q.452-.781 1.14-1.156.695-.383 1.656-.383 1.594 0 2.586 1.266 1 1.265 1 3.328 0 2.062-1 3.328-.992 1.266-2.586 1.266-.96 0-1.656-.375-.688-.383-1.14-1.164v1.312h-1.446V2.258h1.445z\" /></g><g transform=\"translate(65, 375) scale(0.75, 0.75)\" fill=\"#e5e5e5\" stroke=\"#e5e5e5\"><path d=\"M24.922 10.047q0-1.586-.656-2.485-.649-.906-1.79-.906-1.14 0-1.796.906-.649.899-.649 2.485 0 1.586.649 2.492.656.898 1.797.898 1.14 0 1.789-.898.656-.906.656-2.492zm-4.89-3.055q.452-.781 1.14-1.156.695-.383 1.656-.383 1.594 0 2.586 1.266 1 1.265 1 3.328 0 2.062-1 3.328-.992 1.266-2.586 1.266-.96 0-1.656-.375-.688-.383-1.14-1.164v1.312h-1.446V2.258h1.445z\" /></g><g transform=\"translate(110, 1) scale(0.75, 0.75)\" fill=\"#e5e5e5\" stroke=\"#e5e5e5\"><path d=\"M25.96 6v1.344q-.608-.336-1.226-.5-.609-.172-1.234-.172-1.398 0-2.172.89-.773.883-.773 2.485 0 1.601.773 2.492.774.883 2.172.883.625 0 1.234-.164.618-.172 1.227-.508v1.328q-.602.281-1.25.422-.64.14-1.367.14-1.977 0-3.14-1.242-1.165-1.242-1.165-3.351 0-2.14 1.172-3.367 1.18-1.227 3.227-1.227.664 0 1.296.14.633.134 1.227.407z\" /></g><g transform=\"translate(110, 375) scale(0.75, 0.75)\" fill=\"#e5e5e5\" stroke=\"#e5e5e5\"><path d=\"M25.96 6v1.344q-.608-.336-1.226-.5-.609-.172-1.234-.172-1.398 0-2.172.89-.773.883-.773 2.485 0 1.601.773 2.492.774.883 2.172.883.625 0 1.234-.164.618-.172 1.227-.508v1.328q-.602.281-1.25.422-.64.14-1.367.14-1.977 0-3.14-1.242-1.165-1.242-1.165-3.351 0-2.14 1.172-3.367 1.18-1.227 3.227-1.227.664 0 1.296.14.633.134 1.227.407z\" /></g><g transform=\"translate(155, 1) scale(0.75, 0.75)\" fill=\"#e5e5e5\" stroke=\"#e5e5e5\"><path d=\"M24.973 6.992V2.258h1.437v12.156h-1.437v-1.312q-.453.78-1.149 1.164-.687.375-1.656.375-1.586 0-2.586-1.266-.992-1.266-.992-3.328 0-2.063.992-3.328 1-1.266 2.586-1.266.969 0 1.656.383.696.375 1.149 1.156zm-4.899 3.055q0 1.586.649 2.492.656.898 1.797.898 1.14 0 1.796-.898.657-.906.657-2.492 0-1.586-.657-2.485-.656-.906-1.796-.906-1.141 0-1.797.906-.649.899-.649 2.485z\" /></g><g transform=\"translate(155, 375) scale(0.75, 0.75)\" fill=\"#e5e5e5\" stroke=\"#e5e5e5\"><path d=\"M24.973 6.992V2.258h1.437v12.156h-1.437v-1.312q-.453.78-1.149 1.164-.687.375-1.656.375-1.586 0-2.586-1.266-.992-1.266-.992-3.328 0-2.063.992-3.328 1-1.266 2.586-1.266.969 0 1.656.383.696.375 1.149 1.156zm-4.899 3.055q0 1.586.649 2.492.656.898 1.797.898 1.14 0 1.796-.898.657-.906.657-2.492 0-1.586-.657-2.485-.656-.906-1.796-.906-1.141 0-1.797.906-.649.899-.649 2.485z\" /></g><g transform=\"translate(200, 1) scale(0.75, 0.75)\" fill=\"#e5e5e5\" stroke=\"#e5e5e5\"><path d=\"M26.555 9.68v.703h-6.61q.094 1.484.89 2.265.806.774 2.235.774.828 0 1.602-.203.781-.203 1.547-.61v1.36q-.774.328-1.586.5-.813.172-1.649.172-2.093 0-3.32-1.22-1.219-1.218-1.219-3.296 0-2.148 1.157-3.406 1.164-1.266 3.132-1.266 1.766 0 2.79 1.14 1.03 1.134 1.03 3.087zm-1.438-.422q-.015-1.18-.664-1.883-.64-.703-1.703-.703-1.203 0-1.93.68-.718.68-.828 1.914z\" /></g><g transform=\"translate(200, 375) scale(0.75, 0.75)\" fill=\"#e5e5e5\" stroke=\"#e5e5e5\"><path d=\"M26.555 9.68v.703h-6.61q.094 1.484.89 2.265.806.774 2.235.774.828 0 1.602-.203.781-.203 1.547-.61v1.36q-.774.328-1.586.5-.813.172-1.649.172-2.093 0-3.32-1.22-1.219-1.218-1.219-3.296 0-2.148 1.157-3.406 1.164-1.266 3.132-1.266 1.766 0 2.79 1.14 1.03 1.134 1.03 3.087zm-1.438-.422q-.015-1.18-.664-1.883-.64-.703-1.703-.703-1.203 0-1.93.68-.718.68-.828 1.914z\" /></g><g transform=\"translate(245, 1) scale(0.75, 0.75)\" fill=\"#e5e5e5\" stroke=\"#e5e5e5\"><path d=\"M25.285 2.258v1.195H23.91q-.773 0-1.078.313-.297.312-.297 1.125v.773h2.367v1.117h-2.367v7.633H21.09V6.781h-1.375V5.664h1.375v-.61q0-1.46.68-2.124.68-.672 2.156-.672z\" /></g><g transform=\"translate(245, 375) scale(0.75, 0.75)\" fill=\"#e5e5e5\" stroke=\"#e5e5e5\"><path d=\"M25.285 2.258v1.195H23.91q-.773 0-1.078.313-.297.312-.297 1.125v.773h2.367v1.117h-2.367v7.633H21.09V6.781h-1.375V5.664h1.375v-.61q0-1.46.68-2.124.68-.672 2.156-.672z\" /></g><g transform=\"translate(290, 1) scale(0.75, 0.75)\" fill=\"#e5e5e5\" stroke=\"#e5e5e5\"><path d=\"M24.973 9.937q0-1.562-.649-2.421-.64-.86-1.804-.86-1.157 0-1.805.86-.64.859-.64 2.421 0 1.555.64 2.415.648.859 1.805.859 1.164 0 1.804-.86.649-.859.649-2.414zm1.437 3.391q0 2.234-.992 3.32-.992 1.094-3.04 1.094-.757 0-1.429-.117-.672-.11-1.304-.344v-1.398q.632.344 1.25.508.617.164 1.257.164 1.414 0 2.118-.743.703-.734.703-2.226v-.711q-.446.773-1.141 1.156-.695.383-1.664.383-1.61 0-2.594-1.227-.984-1.226-.984-3.25 0-2.03.984-3.257.985-1.227 2.594-1.227.969 0 1.664.383t1.14 1.156V5.664h1.438z\" /></g><g transform=\"translate(290, 375) scale(0.75, 0.75)\" fill=\"#e5e5e5\" stroke=\"#e5e5e5\"><path d=\"M24.973 9.937q0-1.562-.649-2.421-.64-.86-1.804-.86-1.157 0-1.805.86-.64.859-.64 2.421 0 1.555.64 2.415.648.859 1.805.859 1.164 0 1.804-.86.649-.859.649-2.414zm1.437 3.391q0 2.234-.992 3.32-.992 1.094-3.04 1.094-.757 0-1.429-.117-.672-.11-1.304-.344v-1.398q.632.344 1.25.508.617.164 1.257.164 1.414 0 2.118-.743.703-.734.703-2.226v-.711q-.446.773-1.141 1.156-.695.383-1.664.383-1.61 0-2.594-1.227-.984-1.226-.984-3.25 0-2.03.984-3.257.985-1.227 2.594-1.227.969 0 1.664.383t1.14 1.156V5.664h1.438z\" /></g><g transform=\"translate(335, 1) scale(0.75, 0.75)\" fill=\"#e5e5e5\" stroke=\"#e5e5e5\"><path d=\"M26.164 9.133v5.281h-1.437V9.18q0-1.243-.485-1.86-.484-.617-1.453-.617-1.164 0-1.836.742-.672.742-.672 2.024v4.945h-1.445V2.258h1.445v4.765q.516-.789 1.211-1.18.703-.39 1.617-.39 1.508 0 2.282.938.773.93.773 2.742z\" /></g><g transform=\"translate(335, 375) scale(0.75, 0.75)\" fill=\"#e5e5e5\" stroke=\"#e5e5e5\"><path d=\"M26.164 9.133v5.281h-1.437V9.18q0-1.243-.485-1.86-.484-.617-1.453-.617-1.164 0-1.836.742-.672.742-.672 2.024v4.945h-1.445V2.258h1.445v4.765q.516-.789 1.211-1.18.703-.39 1.617-.39 1.508 0 2.282.938.773.93.773 2.742z\" /></g><g transform=\"translate(0, 335) scale(0.75, 0.75)\" fill=\"#e5e5e5\" stroke=\"#e5e5e5\"><path d=\"M6.754 26.996h2.578v-8.898l-2.805.562v-1.437l2.79-.563h1.578v10.336h2.578v1.328h-6.72z\" /></g><g transform=\"translate(375, 335) scale(0.75, 0.75)\" fill=\"#e5e5e5\" stroke=\"#e5e5e5\"><path d=\"M6.754 26.996h2.578v-8.898l-2.805.562v-1.437l2.79-.563h1.578v10.336h2.578v1.328h-6.72z\" /></g><g transform=\"translate(0, 290) scale(0.75, 0.75)\" fill=\"#e5e5e5\" stroke=\"#e5e5e5\"><path d=\"M8.195 26.996h5.508v1.328H6.297v-1.328q.898-.93 2.445-2.492 1.555-1.57 1.953-2.024.758-.851 1.055-1.437.305-.594.305-1.164 0-.93-.657-1.516-.648-.586-1.695-.586-.742 0-1.57.258-.82.258-1.758.781v-1.593q.953-.383 1.781-.578.828-.196 1.516-.196 1.812 0 2.89.906 1.079.907 1.079 2.422 0 .72-.274 1.368-.265.64-.976 1.515-.196.227-1.243 1.313-1.046 1.078-2.953 3.023z\" /></g><g transform=\"translate(375, 290) scale(0.75, 0.75)\" fill=\"#e5e5e5\" stroke=\"#e5e5e5\"><path d=\"M8.195 26.996h5.508v1.328H6.297v-1.328q.898-.93 2.445-2.492 1.555-1.57 1.953-2.024.758-.851 1.055-1.437.305-.594.305-1.164 0-.93-.657-1.516-.648-.586-1.695-.586-.742 0-1.57.258-.82.258-1.758.781v-1.593q.953-.383 1.781-.578.828-.196 1.516-.196 1.812 0 2.89.906 1.079.907 1.079 2.422 0 .72-.274 1.368-.265.64-.976 1.515-.196.227-1.243 1.313-1.046 1.078-2.953 3.023z\" /></g><g transform=\"translate(0, 245) scale(0.75, 0.75)\" fill=\"#e5e5e5\" stroke=\"#e5e5e5\"><path d=\"M11.434 22.035q1.132.242 1.765 1.008.64.766.64 1.89 0 1.727-1.187 2.672-1.187.946-3.375.946-.734 0-1.515-.149-.774-.14-1.602-.43V26.45q.656.383 1.438.578.78.196 1.632.196 1.485 0 2.258-.586.782-.586.782-1.703 0-1.032-.727-1.61-.719-.586-2.008-.586h-1.36v-1.297h1.423q1.164 0 1.78-.46.618-.47.618-1.344 0-.899-.64-1.375-.633-.485-1.82-.485-.65 0-1.391.141-.743.14-1.633.437V16.95q.898-.25 1.68-.375.788-.125 1.484-.125 1.797 0 2.844.82 1.046.813 1.046 2.204 0 .968-.554 1.64-.555.664-1.578.922z\" /></g><g transform=\"translate(375, 245) scale(0.75, 0.75)\" fill=\"#e5e5e5\" stroke=\"#e5e5e5\"><path d=\"M11.434 22.035q1.132.242 1.765 1.008.64.766.64 1.89 0 1.727-1.187 2.672-1.187.946-3.375.946-.734 0-1.515-.149-.774-.14-1.602-.43V26.45q.656.383 1.438.578.78.196 1.632.196 1.485 0 2.258-.586.782-.586.782-1.703 0-1.032-.727-1.61-.719-.586-2.008-.586h-1.36v-1.297h1.423q1.164 0 1.78-.46.618-.47.618-1.344 0-.899-.64-1.375-.633-.485-1.82-.485-.65 0-1.391.141-.743.14-1.633.437V16.95q.898-.25 1.68-.375.788-.125 1.484-.125 1.797 0 2.844.82 1.046.813 1.046 2.204 0 .968-.554 1.64-.555.664-1.578.922z\" /></g><g transform=\"translate(0, 200) scale(0.75, 0.75)\" fill=\"#e5e5e5\" stroke=\"#e5e5e5\"><path d=\"M11.016 18.035L7.03 24.262h3.985zm-.414-1.375h1.984v7.602h1.664v1.312h-1.664v2.75h-1.57v-2.75H5.75v-1.523z\" /></g><g transform=\"translate(375, 200) scale(0.75, 0.75)\" fill=\"#e5e5e5\" stroke=\"#e5e5e5\"><path d=\"M11.016 18.035L7.03 24.262h3.985zm-.414-1.375h1.984v7.602h1.664v1.312h-1.664v2.75h-1.57v-2.75H5.75v-1.523z\" /></g><g transform=\"translate(0, 155) scale(0.75, 0.75)\" fill=\"#e5e5e5\" stroke=\"#e5e5e5\"><path d=\"M6.719 16.66h6.195v1.328h-4.75v2.86q.344-.118.688-.172.343-.063.687-.063 1.953 0 3.094 1.07 1.14 1.07 1.14 2.899 0 1.883-1.171 2.93-1.172 1.039-3.305 1.039-.735 0-1.5-.125-.758-.125-1.57-.375v-1.586q.703.383 1.453.57.75.188 1.586.188 1.351 0 2.14-.711.79-.711.79-1.93 0-1.219-.79-1.93-.789-.71-2.14-.71-.633 0-1.266.14-.625.14-1.281.438z\" /></g><g transform=\"translate(375, 155) scale(0.75, 0.75)\" fill=\"#e5e5e5\" stroke=\"#e5e5e5\"><path d=\"M6.719 16.66h6.195v1.328h-4.75v2.86q.344-.118.688-.172.343-.063.687-.063 1.953 0 3.094 1.07 1.14 1.07 1.14 2.899 0 1.883-1.171 2.93-1.172 1.039-3.305 1.039-.735 0-1.5-.125-.758-.125-1.57-.375v-1.586q.703.383 1.453.57.75.188 1.586.188 1.351 0 2.14-.711.79-.711.79-1.93 0-1.219-.79-1.93-.789-.71-2.14-.71-.633 0-1.266.14-.625.14-1.281.438z\" /></g><g transform=\"translate(0, 110) scale(0.75, 0.75)\" fill=\"#e5e5e5\" stroke=\"#e5e5e5\"><path d=\"M10.137 21.863q-1.063 0-1.688.727-.617.726-.617 1.992 0 1.258.617 1.992.625.727 1.688.727 1.062 0 1.68-.727.624-.734.624-1.992 0-1.266-.625-1.992-.617-.727-1.68-.727zm3.133-4.945v1.437q-.594-.28-1.204-.43-.601-.148-1.195-.148-1.562 0-2.39 1.055-.82 1.055-.938 3.188.46-.68 1.156-1.04.696-.367 1.531-.367 1.758 0 2.774 1.07 1.023 1.063 1.023 2.899 0 1.797-1.062 2.883-1.063 1.086-2.828 1.086-2.024 0-3.094-1.547-1.07-1.555-1.07-4.5 0-2.766 1.312-4.406 1.313-1.649 3.524-1.649.593 0 1.195.117.61.118 1.266.352z\" /></g><g transform=\"translate(375, 110) scale(0.75, 0.75)\" fill=\"#e5e5e5\" stroke=\"#e5e5e5\"><path d=\"M10.137 21.863q-1.063 0-1.688.727-.617.726-.617 1.992 0 1.258.617 1.992.625.727 1.688.727 1.062 0 1.68-.727.624-.734.624-1.992 0-1.266-.625-1.992-.617-.727-1.68-.727zm3.133-4.945v1.437q-.594-.28-1.204-.43-.601-.148-1.195-.148-1.562 0-2.39 1.055-.82 1.055-.938 3.188.46-.68 1.156-1.04.696-.367 1.531-.367 1.758 0 2.774 1.07 1.023 1.063 1.023 2.899 0 1.797-1.062 2.883-1.063 1.086-2.828 1.086-2.024 0-3.094-1.547-1.07-1.555-1.07-4.5 0-2.766 1.312-4.406 1.313-1.649 3.524-1.649.593 0 1.195.117.61.118 1.266.352z\" /></g><g transform=\"translate(0, 65) scale(0.75, 0.75)\" fill=\"#e5e5e5\" stroke=\"#e5e5e5\"><path d=\"M6.25 16.66h7.5v.672L9.516 28.324H7.867l3.985-10.336H6.25z\" /></g><g transform=\"translate(375, 65) scale(0.75, 0.75)\" fill=\"#e5e5e5\" stroke=\"#e5e5e5\"><path d=\"M6.25 16.66h7.5v.672L9.516 28.324H7.867l3.985-10.336H6.25z\" /></g><g transform=\"translate(0, 20) scale(0.75, 0.75)\" fill=\"#e5e5e5\" stroke=\"#e5e5e5\"><path d=\"M10 22.785q-1.125 0-1.773.602-.641.601-.641 1.656t.64 1.656q.649.602 1.774.602t1.773-.602q.649-.61.649-1.656 0-1.055-.649-1.656-.64-.602-1.773-.602zm-1.578-.672q-1.016-.25-1.586-.945-.563-.695-.563-1.695 0-1.399.993-2.211 1-.813 2.734-.813 1.742 0 2.734.813.993.812.993 2.21 0 1-.57 1.696-.563.695-1.571.945 1.14.266 1.773 1.04.641.773.641 1.89 0 1.695-1.04 2.602-1.03.906-2.96.906t-2.969-.906Q6 26.738 6 25.043q0-1.117.64-1.89.641-.774 1.782-1.04zm-.578-2.492q0 .906.562 1.414.57.508 1.594.508 1.016 0 1.586-.508.578-.508.578-1.414 0-.906-.578-1.414-.57-.508-1.586-.508-1.023 0-1.594.508-.562.508-.562 1.414z\" /></g><g transform=\"translate(375, 20) scale(0.75, 0.75)\" fill=\"#e5e5e5\" stroke=\"#e5e5e5\"><path d=\"M10 22.785q-1.125 0-1.773.602-.641.601-.641 1.656t.64 1.656q.649.602 1.774.602t1.773-.602q.649-.61.649-1.656 0-1.055-.649-1.656-.64-.602-1.773-.602zm-1.578-.672q-1.016-.25-1.586-.945-.563-.695-.563-1.695 0-1.399.993-2.211 1-.813 2.734-.813 1.742 0 2.734.813.993.812.993 2.21 0 1-.57 1.696-.563.695-1.571.945 1.14.266 1.773 1.04.641.773.641 1.89 0 1.695-1.04 2.602-1.03.906-2.96.906t-2.969-.906Q6 26.738 6 25.043q0-1.117.64-1.89.641-.774 1.782-1.04zm-.578-2.492q0 .906.562 1.414.57.508 1.594.508 1.016 0 1.586-.508.578-.508.578-1.414 0-.906-.578-1.414-.57-.508-1.586-.508-1.023 0-1.594.508-.562.508-.562 1.414z\" /></g><rect x=\"15\" y=\"330\" width=\"45\" height=\"45\" class=\"square dark a1\" stroke=\"none\" fill=\"#d18b47\" /><rect x=\"60\" y=\"330\" width=\"45\" height=\"45\" class=\"square light b1\" stroke=\"none\" fill=\"#ffce9e\" /><rect x=\"105\" y=\"330\" width=\"45\" height=\"45\" class=\"square dark c1\" stroke=\"none\" fill=\"#d18b47\" /><rect x=\"150\" y=\"330\" width=\"45\" height=\"45\" class=\"square light d1\" stroke=\"none\" fill=\"#ffce9e\" /><rect x=\"195\" y=\"330\" width=\"45\" height=\"45\" class=\"square dark e1\" stroke=\"none\" fill=\"#d18b47\" /><rect x=\"240\" y=\"330\" width=\"45\" height=\"45\" class=\"square light f1\" stroke=\"none\" fill=\"#ffce9e\" /><rect x=\"285\" y=\"330\" width=\"45\" height=\"45\" class=\"square dark g1\" stroke=\"none\" fill=\"#d18b47\" /><rect x=\"330\" y=\"330\" width=\"45\" height=\"45\" class=\"square light h1\" stroke=\"none\" fill=\"#ffce9e\" /><rect x=\"15\" y=\"285\" width=\"45\" height=\"45\" class=\"square light a2\" stroke=\"none\" fill=\"#ffce9e\" /><rect x=\"60\" y=\"285\" width=\"45\" height=\"45\" class=\"square dark b2\" stroke=\"none\" fill=\"#d18b47\" /><rect x=\"105\" y=\"285\" width=\"45\" height=\"45\" class=\"square light c2\" stroke=\"none\" fill=\"#ffce9e\" /><rect x=\"150\" y=\"285\" width=\"45\" height=\"45\" class=\"square dark d2\" stroke=\"none\" fill=\"#d18b47\" /><rect x=\"195\" y=\"285\" width=\"45\" height=\"45\" class=\"square light e2\" stroke=\"none\" fill=\"#ffce9e\" /><rect x=\"240\" y=\"285\" width=\"45\" height=\"45\" class=\"square dark f2\" stroke=\"none\" fill=\"#d18b47\" /><rect x=\"285\" y=\"285\" width=\"45\" height=\"45\" class=\"square light g2\" stroke=\"none\" fill=\"#ffce9e\" /><rect x=\"330\" y=\"285\" width=\"45\" height=\"45\" class=\"square dark h2\" stroke=\"none\" fill=\"#d18b47\" /><rect x=\"15\" y=\"240\" width=\"45\" height=\"45\" class=\"square dark a3\" stroke=\"none\" fill=\"#d18b47\" /><rect x=\"60\" y=\"240\" width=\"45\" height=\"45\" class=\"square light b3\" stroke=\"none\" fill=\"#ffce9e\" /><rect x=\"105\" y=\"240\" width=\"45\" height=\"45\" class=\"square dark c3\" stroke=\"none\" fill=\"#d18b47\" /><rect x=\"150\" y=\"240\" width=\"45\" height=\"45\" class=\"square light d3\" stroke=\"none\" fill=\"#ffce9e\" /><rect x=\"195\" y=\"240\" width=\"45\" height=\"45\" class=\"square dark e3\" stroke=\"none\" fill=\"#d18b47\" /><rect x=\"240\" y=\"240\" width=\"45\" height=\"45\" class=\"square light f3\" stroke=\"none\" fill=\"#ffce9e\" /><rect x=\"285\" y=\"240\" width=\"45\" height=\"45\" class=\"square dark g3\" stroke=\"none\" fill=\"#d18b47\" /><rect x=\"330\" y=\"240\" width=\"45\" height=\"45\" class=\"square light h3\" stroke=\"none\" fill=\"#ffce9e\" /><rect x=\"15\" y=\"195\" width=\"45\" height=\"45\" class=\"square light a4\" stroke=\"none\" fill=\"#ffce9e\" /><rect x=\"60\" y=\"195\" width=\"45\" height=\"45\" class=\"square dark b4\" stroke=\"none\" fill=\"#d18b47\" /><rect x=\"105\" y=\"195\" width=\"45\" height=\"45\" class=\"square light c4\" stroke=\"none\" fill=\"#ffce9e\" /><rect x=\"150\" y=\"195\" width=\"45\" height=\"45\" class=\"square dark d4\" stroke=\"none\" fill=\"#d18b47\" /><rect x=\"195\" y=\"195\" width=\"45\" height=\"45\" class=\"square light e4\" stroke=\"none\" fill=\"#ffce9e\" /><rect x=\"240\" y=\"195\" width=\"45\" height=\"45\" class=\"square dark f4\" stroke=\"none\" fill=\"#d18b47\" /><rect x=\"285\" y=\"195\" width=\"45\" height=\"45\" class=\"square light g4\" stroke=\"none\" fill=\"#ffce9e\" /><rect x=\"330\" y=\"195\" width=\"45\" height=\"45\" class=\"square dark h4\" stroke=\"none\" fill=\"#d18b47\" /><rect x=\"15\" y=\"150\" width=\"45\" height=\"45\" class=\"square dark a5\" stroke=\"none\" fill=\"#d18b47\" /><rect x=\"60\" y=\"150\" width=\"45\" height=\"45\" class=\"square light b5\" stroke=\"none\" fill=\"#ffce9e\" /><rect x=\"105\" y=\"150\" width=\"45\" height=\"45\" class=\"square dark c5\" stroke=\"none\" fill=\"#d18b47\" /><rect x=\"150\" y=\"150\" width=\"45\" height=\"45\" class=\"square light d5\" stroke=\"none\" fill=\"#ffce9e\" /><rect x=\"195\" y=\"150\" width=\"45\" height=\"45\" class=\"square dark e5\" stroke=\"none\" fill=\"#d18b47\" /><rect x=\"240\" y=\"150\" width=\"45\" height=\"45\" class=\"square light f5\" stroke=\"none\" fill=\"#ffce9e\" /><rect x=\"285\" y=\"150\" width=\"45\" height=\"45\" class=\"square dark g5\" stroke=\"none\" fill=\"#d18b47\" /><rect x=\"330\" y=\"150\" width=\"45\" height=\"45\" class=\"square light h5\" stroke=\"none\" fill=\"#ffce9e\" /><rect x=\"15\" y=\"105\" width=\"45\" height=\"45\" class=\"square light lastmove a6\" stroke=\"none\" fill=\"#cdd16a\" /><rect x=\"60\" y=\"105\" width=\"45\" height=\"45\" class=\"square dark b6\" stroke=\"none\" fill=\"#d18b47\" /><rect x=\"105\" y=\"105\" width=\"45\" height=\"45\" class=\"square light c6\" stroke=\"none\" fill=\"#ffce9e\" /><rect x=\"150\" y=\"105\" width=\"45\" height=\"45\" class=\"square dark d6\" stroke=\"none\" fill=\"#d18b47\" /><rect x=\"195\" y=\"105\" width=\"45\" height=\"45\" class=\"square light e6\" stroke=\"none\" fill=\"#ffce9e\" /><rect x=\"240\" y=\"105\" width=\"45\" height=\"45\" class=\"square dark f6\" stroke=\"none\" fill=\"#d18b47\" /><rect x=\"285\" y=\"105\" width=\"45\" height=\"45\" class=\"square light g6\" stroke=\"none\" fill=\"#ffce9e\" /><rect x=\"330\" y=\"105\" width=\"45\" height=\"45\" class=\"square dark lastmove h6\" stroke=\"none\" fill=\"#aaa23b\" /><rect x=\"15\" y=\"60\" width=\"45\" height=\"45\" class=\"square dark a7\" stroke=\"none\" fill=\"#d18b47\" /><rect x=\"60\" y=\"60\" width=\"45\" height=\"45\" class=\"square light b7\" stroke=\"none\" fill=\"#ffce9e\" /><rect x=\"105\" y=\"60\" width=\"45\" height=\"45\" class=\"square dark c7\" stroke=\"none\" fill=\"#d18b47\" /><rect x=\"150\" y=\"60\" width=\"45\" height=\"45\" class=\"square light d7\" stroke=\"none\" fill=\"#ffce9e\" /><rect x=\"195\" y=\"60\" width=\"45\" height=\"45\" class=\"square dark e7\" stroke=\"none\" fill=\"#d18b47\" /><rect x=\"240\" y=\"60\" width=\"45\" height=\"45\" class=\"square light f7\" stroke=\"none\" fill=\"#ffce9e\" /><rect x=\"285\" y=\"60\" width=\"45\" height=\"45\" class=\"square dark g7\" stroke=\"none\" fill=\"#d18b47\" /><rect x=\"330\" y=\"60\" width=\"45\" height=\"45\" class=\"square light h7\" stroke=\"none\" fill=\"#ffce9e\" /><rect x=\"15\" y=\"15\" width=\"45\" height=\"45\" class=\"square light a8\" stroke=\"none\" fill=\"#ffce9e\" /><rect x=\"60\" y=\"15\" width=\"45\" height=\"45\" class=\"square dark b8\" stroke=\"none\" fill=\"#d18b47\" /><rect x=\"105\" y=\"15\" width=\"45\" height=\"45\" class=\"square light c8\" stroke=\"none\" fill=\"#ffce9e\" /><rect x=\"150\" y=\"15\" width=\"45\" height=\"45\" class=\"square dark d8\" stroke=\"none\" fill=\"#d18b47\" /><rect x=\"195\" y=\"15\" width=\"45\" height=\"45\" class=\"square light e8\" stroke=\"none\" fill=\"#ffce9e\" /><rect x=\"240\" y=\"15\" width=\"45\" height=\"45\" class=\"square dark f8\" stroke=\"none\" fill=\"#d18b47\" /><rect x=\"285\" y=\"15\" width=\"45\" height=\"45\" class=\"square light g8\" stroke=\"none\" fill=\"#ffce9e\" /><rect x=\"330\" y=\"15\" width=\"45\" height=\"45\" class=\"square dark h8\" stroke=\"none\" fill=\"#d18b47\" /><rect x=\"330\" y=\"15\" width=\"45\" height=\"45\" class=\"check\" fill=\"url(#check_gradient)\" /><use href=\"#white-rook\" xlink:href=\"#white-rook\" transform=\"translate(330, 105)\" /><use href=\"#white-king\" xlink:href=\"#white-king\" transform=\"translate(240, 60)\" /><use href=\"#black-king\" xlink:href=\"#black-king\" transform=\"translate(330, 15)\" /></svg>"
      ],
      "text/plain": [
       "Board('7k/5K2/7R/8/8/8/8/8 b - - 3 3')"
      ]
     },
     "execution_count": 13,
     "metadata": {},
     "output_type": "execute_result"
    }
   ],
   "source": [
    "engine.board"
   ]
  },
  {
   "cell_type": "code",
   "execution_count": 14,
   "metadata": {},
   "outputs": [
    {
     "data": {
      "text/plain": [
       "[Move.from_uci('g8h7'),\n",
       " Move.from_uci('h8h7'),\n",
       " Move.from_uci('a7a6'),\n",
       " Move.from_uci('h7h8'),\n",
       " Move.from_uci('a6h6')]"
      ]
     },
     "execution_count": 14,
     "metadata": {},
     "output_type": "execute_result"
    }
   ],
   "source": [
    "engine.board.move_stack"
   ]
  },
  {
   "cell_type": "code",
   "execution_count": 1,
   "metadata": {},
   "outputs": [
    {
     "name": "stdout",
     "output_type": "stream",
     "text": [
      "(inf, Move.from_uci('a8h1'))\n"
     ]
    }
   ],
   "source": [
    "fen = 'Q7/5p2/5P1p/5PPN/6Pk/4N1Rp/7P/6K1 w - - 0 1'\n",
    "from my_chess_engine import Engine\n",
    "engine = Engine(fen)\n",
    "print(engine.alphabet(5))"
   ]
  },
  {
   "cell_type": "code",
   "execution_count": 7,
   "metadata": {},
   "outputs": [],
   "source": [
    "text = open('m8n4.txt')"
   ]
  },
  {
   "cell_type": "code",
   "execution_count": 8,
   "metadata": {},
   "outputs": [
    {
     "data": {
      "text/plain": [
       "{'r5rk/2p1Nppp/3p3P/pp2p1P1/4P3/2qnPQK1/8/R6R w - - 1 0': '1. hxg7+ Rxg7 2. Rxh7+ Rxh7 3. Qf6+ Rg7 4. Rh1#',\n",
       " '1r2k1r1/pbppnp1p/1b3P2/8/Q7/B1PB1q2/P4PPP/3R2K1 w - - 1 0': '1. Qxd7+ Kxd7 2. Bf5+ Ke8 3. Bd7+ Kf8 4. Bxe7#',\n",
       " 'Q7/p1p1q1pk/3p2rp/4n3/3bP3/7b/PP3PPK/R1B2R2 b - - 0 1': '1... Bxg2 2. Qh8+ Kxh8 3. Bg5 Qxg5 4. Rfe1 Nf3#',\n",
       " 'r1bqr3/ppp1B1kp/1b4p1/n2B4/3PQ1P1/2P5/P4P2/RN4K1 w - - 1 0': '1. Qe5+ Kh6 2. g5+ Kh5 3. Bf3+ Bg4 4. Qh2#',\n",
       " 'r1b3kr/3pR1p1/ppq4p/5P2/4Q3/B7/P5PP/5RK1 w - - 1 0': '1. Rxg7+ Kxg7 2. Qe7+ Kg8 3. Qf8+ Kh7 4. Qf7#',\n",
       " '2k4r/1r1q2pp/QBp2p2/1p6/8/8/P4PPP/2R3K1 w - - 1 0': '1. Qa8+ Rb8 2. Rxc6+ Qc7 3. Rxc7+ Kd8 4. Qxb8#',\n",
       " '2r1r3/p3P1k1/1p1pR1Pp/n2q1P2/8/2p4P/P4Q2/1B3RK1 w - - 1 0': '1. f6+ Kh8 2. g7+ Kg8 3. f7+ Kxg7 4. Qf6#',\n",
       " 'r1bk3r/pppq1ppp/5n2/4N1N1/2Bp4/Bn6/P4PPP/4R1K1 w - - 1 0': '1. Nexf7+ Qxf7 2. Nxf7+ Kd7 3. Bb5+ c6 4. Re7#',\n",
       " '6kr/pp2r2p/n1p1PB1Q/2q5/2B4P/2N3p1/PPP3P1/7K w - - 1 0': '1. Qg7+ Rxg7 2. e7+ Rf7 3. e8=Q+ Qf8 4. Bxf7#',\n",
       " 'r3k3/pbpqb1r1/1p2Q1p1/3pP1B1/3P4/3B4/PPP4P/5RK1 w - - 1 0': '1. Bxg6+ Rxg6 2. Qxg6+ Kd8 3. Rf8+ Qe8 4. Qxe8#',\n",
       " 'rnb3kr/ppp4p/3b3B/3Pp2n/2BP4/4KRp1/PPP3q1/RN1Q4 w - - 1 0': '1. Rf8+ Bxf8 2. d6+ Qd5 3. Bxd5+ Be6 4. Bxe6#',\n",
       " '4r3/p4pkp/q7/3Bbb2/P2P1ppP/2N3n1/1PP2KPR/R1BQ4 b - - 0 1': '1... Qf1+ 2. Qxf1 Bxd4+ 3. Be3 Rxe3 4. Bxf7 Re2#',\n",
       " '2r2b2/p2q1P1p/3p2k1/4pNP1/4P1RQ/7K/2pr4/5R2 w - - 1 0': '1. Qxh7+ Kxh7 2. g6+ Kh8 3. Rh4+ Bh6 4. Rxh6#',\n",
       " 'rnbk2r1/ppp2Q1p/8/1B1Pp1q1/8/2N3B1/PPP3P1/R5K1 w - - 1 0': '1. Qxg8+ Ke7 2. Qxg5+ Kd6 3. Ne4+ Kxd5 4. Qxe5#',\n",
       " 'r1bnk2r/pppp1ppp/1b4q1/4P3/2B1N3/Q1Pp1N2/P4PPP/R3R1K1 w - - 1 0': '1. Nf6+ gxf6 2. exf6+ Qe4 3. Rxe4+ Ne6 4. Qe7#',\n",
       " '8/6pk/3pp2p/4p1nP/1P2P3/3P1rP1/4qPK1/2QN3R b - - 0 1': '1... Rxg3+ 2. Kxg3 Qf3+ 3. Kh4 Qxh1+ 4. Kg3 Qh3#',\n",
       " '6rk/7p/pp3b2/2pbqP2/5Q2/5R1P/P6P/2B2R1K b - - 0 1': '1... Qe2 2. Rg1 Bxf3+ 3. Qxf3 Qxf3+ 4. Rg2 Qxg2#',\n",
       " 'r2r4/p1p2p1p/n5k1/1p5N/2p2R2/5N2/P1K3PP/5R2 w - - 1 0': '1. Rf6+ Kxh5 2. g4+ Kxg4 3. Rg1+ Kh5 4. Rg5#',\n",
       " 'r1qbr2k/1p2n1pp/3B1n2/2P1Np2/p4N2/PQ4P1/1P3P1P/3RR1K1 w - - 1 0': '1. Nf7+ Kg8 2. Nh6+ Kh8 3. Qg8+ Nexg8 4. Nf7#',\n",
       " 'k1K5/7r/8/4B3/1RP5/8/8/8 w - - 1 0': '1. Rb8+ Ka7 2. Bd4+ Ka6 3. Ra8+ Ra7 4. Rxa7#',\n",
       " '2q2r2/5rk1/4pNpp/p2pPn2/P1pP2QP/2P2R2/2B3P1/6K1 w - - 1 0': '1. Qxg6+ Kh8 2. Bxf5 exf5 3. Qxh6+ Rh7 4. Qxh7#',\n",
       " 'qr6/1b1p1krQ/p2Pp1p1/4PP2/1p1B1n2/3B4/PP3K1P/2R2R2 w - - 1 0': '1. fxg6+ Kf8 2. Qh8+ Rg8 3. Qf6+ Ke8 4. Qe7#',\n",
       " 'r6k/pppb1B2/6Q1/8/3P4/2P1q3/PKP3PP/7R w - - 1 0': '1. Qf6+ Kh7 2. Bg6+ Kg8 3. Qf7+ Kh8 4. Qh7#',\n",
       " 'rnb3kr/ppp2ppp/1b6/3q4/3pN3/Q4N2/PPP2KPP/R1B1R3 w - - 1 0': '1. Nf6+ gxf6 2. Qf8+ Kxf8 3. Bh6+ Kg8 4. Re8#',\n",
       " '3q1rk1/4bp1p/1n2P2Q/1p1p1p2/6r1/Pp2R2N/1B1P2PP/7K w - - 1 0': '1. Ng5 Rxg5 2. Rh3 Re8 3. Qxh7+ Kf8 4. Qxf7#',\n",
       " '3r1r1k/q2n3p/b1p2ppQ/p1n1p3/Pp2P3/1B1PBR2/1PPN2PP/R5K1 w - - 1 0': '1. Qxh7+ Kxh7 2. Rh3+ Kg7 3. Bh6+ Kh7 4. Bxf8#',\n",
       " '1rb2r1k/pp1p2pp/5n1N/8/P7/1Q6/1PP3PP/4R2K w - - 1 0': '1. Re8 g6 2. Qf7 Ng8 3. Qxg8+ Rxg8 4. Rxg8#',\n",
       " '5rbk/2pq3p/5PQR/p7/3p3R/1P4N1/P5PP/6K1 w - - 1 0': '1. Nf5 Rf7 2. Rg4 Qe8 3. Qg7+ Rxg7 4. fxg7#',\n",
       " 'r2q1rk1/ppp1n1p1/1b1p1p2/1B1N2BQ/3pP3/2P3P1/PP3P2/R5K1 w - - 1 0': '1. Bc4 Nxd5 2. Bxd5+ Rf7 3. Qxf7+ Kh7 4. Qh5#',\n",
       " 'r2q3r/ppp5/2n4p/4Pbk1/2BP1Npb/P2QB3/1PP3P1/R5K1 w - - 1 0': '1. Qxf5+ Kxf5 2. Bd3+ Kg5 3. Ne6+ Kh5 4. Ng7#',\n",
       " '1rb3k1/ppN2R1p/2n1P1p1/6p1/6B1/8/PPP3PP/6K1 w - - 1 0': '1. Nd5 Bxe6 2. Bxe6 Kh8 3. Nf6 Ne5 4. Rxh7#',\n",
       " '3k1r2/2pb4/2p3P1/2Np1p2/1P6/4nN1R/2P1q3/Q5K1 w - - 1 0': '1. Nb7+ Ke7 2. Qg7+ Ke8 3. Qe5+ Be6 4. Qxe6#',\n",
       " '2k5/p1p1q3/2P3p1/3QP3/7p/7P/1PK3P1/8 w - - 1 0': '1. Qg8+ Qd8 2. Qe6+ Kb8 3. Qb3+ Kc8 4. Qb7#',\n",
       " '2k4r/ppp2p2/2b2B2/7p/6pP/2P1q1bP/PP3N2/R4QK1 b - - 0 1': '1... Bh2+ 2. Kxh2 Qf4+ 3. Kg1 Qg3+ 4. Qg2 Qxg2#',\n",
       " 'rnbq1rk1/pp2bp1p/4p1p1/2pp2Nn/5P1P/1P1BP3/PBPP2P1/RN1QK2R w - - 1 0': '1. Qxh5 Bxg5 2. Qxh7+ Kxh7 3. hxg5+ Kg8 4. Rh8#',\n",
       " '2r2r2/7k/5pRp/5q2/3p1P2/6QP/P2B1P1K/6R1 w - - 1 0': '1. Rxh6+ Kxh6 2. Qh4+ Qh5 3. f5+ Kh7 4. Qxh5#',\n",
       " '5r2/pq4k1/1pp1Qn2/2bp1PB1/3R1R2/2P3P1/P6P/6K1 w - - 1 0': '1. Bxf6+ Rxf6 2. Rg4+ Kh7 3. Qg8+ Kh6 4. Rh4#',\n",
       " '3nbr2/4q2p/r3pRpk/p2pQRN1/1ppP2p1/2P5/PPB4P/6K1 w - - 1 0': '1. Nf7+ Rxf7 2. Rh5+ Kg7 3. Rxg6+ Kf8 4. Qh8#',\n",
       " '2rr1k2/5pp1/p2bp3/1p1B4/1PnP2Pq/P1B2P2/2Q1N1P1/R3R1K1 b - - 0 1': '1... Bh2+ 2. Kh1 Bg3+ 3. Kg1 Qh2+ 4. Kf1 Ne3#',\n",
       " '5r1k/3q3p/p1pP4/2p2pQ1/r1P3R1/3P4/6PP/1R4K1 w - - 1 0': '1. Qf6+ Rxf6 2. Rb8+ Qe8 3. Rxe8+ Rf8 4. Rxf8#',\n",
       " 'r1b2r2/p2p1pk1/1qp1pN1p/3nP1p1/2B4Q/3R4/PPP2PPP/2K4R w - - 1 0': '1. Qxh6+ Kxh6 2. Rh3+ Kg6 3. Bd3+ Kg7 4. Rh7#',\n",
       " '8/k2r4/p7/2b1Bp2/P3p3/qp4R1/4QP2/1K6 b - - 0 1': '1... Rd1+ 2. Qxd1 Qa2+ 3. Kc1 Ba3+ 4. Bb2 Qxb2#',\n",
       " 'rnb2b1r/ppp1n1kp/3p1q2/7Q/4PB2/2N5/PPP3PP/R4RK1 w - - 1 0': '1. Bh6+ Kg8 2. Rxf6 Ng6 3. Qd5+ Be6 4. Qxe6#',\n",
       " 'r3r3/3R1Qp1/pqb1p2k/1p4N1/8/4P3/Pb3PPP/2R3K1 w - - 1 0': '1. g4 g6 2. h4 Rh8 3. Qh7+ Rxh7 4. Rxh7#',\n",
       " 'r3k2r/pp3p2/2pQ1Pnp/2P1nqp1/8/1B6/PP3PPP/3RR1K1 w - - 1 0': '1. Rxe5+ Qe6 2. Rxe6+ fxe6 3. Qxe6+ Kf8 4. Qf7#',\n",
       " '3rkq1r/1pQ2p1p/p3bPp1/3pR3/8/8/PPP2PP1/1K1R4 w - - 1 0': '1. Rdxd5 Rxd5 2. Rxd5 Qd6 3. Qxd6 Bxd5 4. Qe7#',\n",
       " 'r2qrk2/p5b1/2b1p1Q1/1p1pP3/2p1nB2/2P1P3/PP3P2/2KR3R w - - 1 0': '1. Rh8+ Bxh8 2. Bh6+ Ke7 3. Qh7+ Bg7 4. Qxg7#',\n",
       " '4b3/pkb5/1pp1Bp2/4pPp1/PP2P2r/2PQBq2/8/2KR4 w - - 1 0': '1. Qa6+ Ka8 2. Rd8+ Bb8 3. Rxb8+ Kxb8 4. Qc8#',\n",
       " '2r3k1/4p1nR/p3p1p1/4N3/1p2Q3/1P6/P1Pq4/1K6 w - - 1 0': '1. Rxg7+ Kh8 2. Rh7+ Kxh7 3. Qxg6+ Kh8 4. Nf7#',\n",
       " 'r1r3k1/pp1q1p1p/4nBpQ/3pP3/1b5P/3B4/P1P3P1/R2K3R w - - 1 0': '1. h5 Bc3 2. Qxh7+ Kxh7 3. hxg6+ Kg8 4. Rh8#',\n",
       " 'R7/8/2p4k/3pqr1p/6pK/3P4/P5B1/6Q1 b - - 0 1': '1... Qf6+ 2. Kg3 Rf3+ 3. Bxf3 Qxf3+ 4. Kh4 Qh3#',\n",
       " 'rnbq1bnr/pp1p1p1p/3pk3/3NP1p1/5p2/5N2/PPP1Q1PP/R1B1KB1R w - - 1 0': '1. Nd4+ Kxd5 2. Qb5+ Kxd4 3. c3+ Ke4 4. Bd3#',\n",
       " '4r3/6kp/ppr3P1/3p4/3Pq3/3nBR2/PP4QP/5R1K w - - 1 0': '1. Bh6+ Kxh6 2. Qh3+ Kxg6 3. Rg1+ Qg4 4. Rxg4#',\n",
       " '8/2Q2pk1/3Pp1p1/1b5p/1p3P1P/1P2PK2/6RP/7q b - - 0 1': '1... Qd1+ 2. Re2 Bxe2+ 3. Kg2 Qf1+ 4. Kg3 Qf3#',\n",
       " 'rnbq1bkr/pp3p1p/2p3pQ/3N2N1/2B2p2/8/PPPP2PP/R1B1R1K1 w - - 1 0': '1. Re8 Nd7 2. Rxd8 cxd5 3. Bxd5 f3 4. Bxf7#',\n",
       " 'r2q2rk/ppp2p1p/3b1pn1/5R1Q/3P4/2P4N/PP4PP/R1B3K1 w - - 1 0': '1. Qxh7+ Kxh7 2. Rh5+ Kg7 3. Bh6+ Kh7 4. Bf8#',\n",
       " 'r4b1r/pppq2pp/2n1b1k1/3n4/2Bp4/5Q2/PPP2PPP/RNB1R1K1 w - - 1 0': '1. Rxe6+ Nf6 2. Qe4+ Kh5 3. Be2+ Ng4 4. Qxg4#',\n",
       " 'rnbq1b1r/ppp1pQ1p/1n1p2p1/4P2k/3P4/8/PPP2PPP/RNB1K2R w - - 1 0': '1. Qf4 h6 2. g3 Bg4 3. h3 Qd7 4. hxg4#',\n",
       " 'r3rk2/5pR1/pp1q1P1p/8/3p3P/P2B4/1P1Q2b1/1K6 w - - 1 0': '1. Rg8+ Kxg8 2. Qxg2+ Qg3 3. Qxg3+ Kf8 4. Qg7#',\n",
       " 'rk6/N4ppp/Qp2q3/3p4/8/8/5PPP/2R3K1 w - - 1 0': '1. Rc8+ Qxc8 2. Qxb6+ Qb7 3. Nc6+ Kc8 4. Qd8#',\n",
       " '4q1rk/pb2bpnp/2r4Q/1p1p1pP1/4NP2/1P3R2/PBn4P/RB4K1 w - - 1 0': '1. Qxh7+ Kxh7 2. Rh3+ Nh5 3. Rxh5+ Kg6 4. Rh6#',\n",
       " 'r2Nqb1r/pQ1bp1pp/1pn1p3/1k1p4/2p2B2/2P5/PPP2PPP/R3KB1R w - - 1 0': '1. a4+ Ka5 2. Nxc6+ Bxc6 3. b4+ cxb3 4. Qa6#',\n",
       " '2r3k1/pp3ppp/1qr2n2/3p1Q2/1P6/P2BP2P/5PP1/2R2RK1 w - - 1 0': '1. Qxc8+ Rxc8 2. Rxc8+ Qd8 3. Rxd8+ Ne8 4. Rxe8#',\n",
       " 'r1b1rk2/ppq3p1/2nbpp2/3pN1BQ/2PP4/7R/PP3PPP/R5K1 w - - 1 0': '1. Bxf6 gxf6 2. Ng6+ Kg8 3. Qh8+ Kf7 4. Qh7#',\n",
       " '3r1bN1/3p1p1p/pp6/5k2/5P2/P7/1P2PPBq/R2R1K2 w - - 1 0': '1. Rd5+ Kxf4 2. e3+ Kg4 3. Nf6+ Kh4 4. Rh5#',\n",
       " '5rk1/p3R2p/3p2p1/1p1P1P2/2p4q/P1Pn1P2/6P1/R2Q1K1N b - - 0 1': '1... Qxh1+ 2. Ke2 Qxg2+ 3. Ke3 Qf2+ 4. Ke4 gxf5#',\n",
       " '2bk4/6b1/2pNp3/r1PpP1P1/P1pP1Q2/2rq4/7R/6RK w - - 1 0': '1. Rh8+ Bxh8 2. Qf8+ Kd7 3. Qxc8+ Ke7 4. Qe8#',\n",
       " '4r2k/pp2q2b/2p2p1Q/4rP2/P7/1B5P/1P2R1R1/7K w - - 1 0': '1. Rxe5 fxe5 2. f6 Qd7 3. Qg7+ Qxg7 4. fxg7#',\n",
       " '7k/6p1/2p3pp/1p4qn/4r3/2Pr2P1/PP2BP1K/1Q3R2 b - - 0 1': '1... Rh4+ 2. gxh4 Rh3+ 3. Kxh3 Nf4+ 4. Kh2 Qg2#',\n",
       " '2r2rk1/1b3pp1/4p3/p3P1Q1/1pqP1R2/2P5/PP1B1K1P/R7 w - - 1 0': '1. Qxg7+ Kxg7 2. Rg1+ Bg2 3. Rxg2+ Kh7 4. Rh4#',\n",
       " '2q2rk1/4r1bp/bpQp2p1/p2Pp3/P3P2P/1NP1B1K1/1P6/R2R4 b - - 0 1': '1... Rf3+ 2. Kxf3 Qh3+ 3. Kf2 Qh2+ 4. Kf3 Be2#',\n",
       " '3kn3/p1p2Rp1/1p2q3/7p/7P/5QP1/P6K/8 w - - 1 0': '1. Qa8+ Qc8 2. Qd5+ Nd6 3. Qg5+ Ke8 4. Qe7#',\n",
       " '4r3/p1r2p1k/1p2pPpp/2qpP3/3R2P1/1PPQ3R/1P5P/7K w - - 1 0': '1. Rxh6+ Kxh6 2. Qh3+ Kg5 3. Qe3+ Kh4 4. Qh6#',\n",
       " '6rk/Q2n2rp/5p2/3P4/4P3/2q4P/P5P1/5RRK b - - 0 1': '1... Rxg2 2. Qxd7 Qg3 3. Qg7+ Rxg7 4. Rxg2 Qxg2#',\n",
       " '8/Q7/5pkp/2n1q3/8/1B5P/5PP1/6K1 w - - 1 0': '1. Qf7+ Kf5 2. Qh5+ Ke4 3. Qe2+ Kf4 4. Qg4#',\n",
       " 'rq3kB1/pp1b1p2/4pB1p/4P3/3P3Q/P1n5/5PPP/R5K1 w - - 1 0': '1. Qxh6+ Ke8 2. Bxf7+ Kxf7 3. Qg7+ Ke8 4. Qe7#',\n",
       " '3r1k1r/p1q2p2/1pp2N1p/n3RQ2/3P4/2p1PR2/PP4PP/6K1 w - - 1 0': '1. Nh7+ Rxh7 2. Qxh7 f5 3. Rexf5+ Ke8 4. Rf8#',\n",
       " 'r3r1k1/ppp2p1p/1b3Bp1/4P3/3P1n2/2PB1N2/PP6/2KR3R w - - 1 0': '1. Rxh7 Kxh7 2. Rh1+ Nh5 3. Rxh5+ Kg8 4. Rh8#',\n",
       " '7R/r1p1q1pp/3k4/1p1n1Q2/3N4/8/1PP2PPP/2B3K1 w - - 1 0': '1. Rd8+ Qxd8 2. Qe6+ Kc5 3. Nb3+ Kb4 4. Qe4#',\n",
       " '3rb1k1/ppq3p1/2p1p1p1/6P1/2Pr3R/1P1Q4/P1B4P/5RK1 w - - 1 0': '1. Rh8+ Kxh8 2. Rf8+ Kh7 3. Qh3+ Rh4 4. Qxh4#',\n",
       " '3r4/pk3pq1/Nb2p2p/3n4/2QP4/6P1/1P3PBP/5RK1 w - - 1 0': '1. Rc1 Bc5 2. Qb5+ Bb6 3. Rc7+ Ka8 4. Qc6#',\n",
       " '4r2r/5k2/2p2P1p/p2pP1p1/3P2Q1/6PB/1n5P/6K1 w - - 1 0': '1. Qd7+ Re7 2. Qxe7+ Kg6 3. Qg7+ Kh5 4. Qf7#',\n",
       " '4b3/k1r1q2p/p3p3/3pQ3/2pN4/1R6/P4PPP/1R4K1 w - - 1 0': '1. Nc6+ Bxc6 2. Qd4+ Qc5 3. Qxc5+ Ka8 4. Rb8#',\n",
       " 'r7/p1n2p1R/qp1p1k2/3Pp3/bPp1P3/2P1BBN1/3Q2K1/8 w - - 1 0': '1. Bg5+ Kg6 2. Rh6+ Kg7 3. Bf6+ Kg8 4. Rh8#',\n",
       " 'r3QnR1/1bk5/pp5q/2b5/2p1P3/P7/1BB4P/3R3K w - - 1 0': '1. Be5+ Bd6 2. Rg7+ Nd7 3. Qxd7+ Kb8 4. Qxb7#',\n",
       " 'r5k1/1p4pp/2p1p2r/p2nRp2/P2P1P1P/1P3qP1/1BQ2P2/R5K1 b - - 0 1': '1... Nxf4 2. Qe4 fxe4 3. gxf4 Rxh4 4. Rh5 Qh1#',\n",
       " '5k2/p2Q1pp1/1b5p/1p2PB1P/2p2P2/8/PP3qPK/8 w - - 1 0': '1. Qd6+ Ke8 2. Bd7+ Kd8 3. Bxb5+ Kc8 4. Ba6#',\n",
       " '2br3k/pp3Pp1/1n2p3/1P2N1pr/2P2qP1/8/1BQ2P1P/4R1K1 w - - 1 0': '1. Ng6+ Kh7 2. Nf8+ Kh8 3. Qh7+ Rxh7 4. Ng6#',\n",
       " '3r4/6kp/1p1r1pN1/5Qq1/6p1/PB4P1/1P3P2/6KR w - - 1 0': '1. Rxh7+ Kxh7 2. Nf8+ Kg7 3. Qh7+ Kxf8 4. Qf7#',\n",
       " '5r1k/7p/p2b4/1pNp1p1q/3Pr3/2P2bP1/PP1B3Q/R3R1K1 b - - 0 1': '1... Qxh2+ 2. Kxh2 Rh4+ 3. Kg1 Bxg3 4. Bf4 Rh1#',\n",
       " '5rk1/pR6/3Q4/2pPnp1p/P3p2q/4P1N1/5Pp1/6K1 b - - 0 1': '1... Nf3+ 2. Kxg2 Qh2+ 3. Kf1 Qg1+ 4. Ke2 Qe1#',\n",
       " 'r4r1k/pp4R1/3pN1p1/3P2Qp/1q2Ppn1/8/6PP/5RK1 w - - 1 0': '1. Rh7+ Kxh7 2. Qe7+ Rf7 3. Qxf7+ Kh6 4. Qg7#',\n",
       " 'r7/1p3Q2/2kpr2p/p1p2Rp1/P3Pp2/1P3P2/1B2q1PP/3R3K w - - 1 0': '1. Rxc5+ Kb6 2. Qc7+ Ka7 3. Rxa5+ Qa6 4. Bd4#',\n",
       " '4r1k1/5pbp/3p2p1/1ppP4/pqP5/R4B2/1PQ3PP/1K6 b - - 0 1': '1... Re1+ 2. Bd1 Rxd1+ 3. Ka2 Qxa3+ 4. Kxa3 Ra1#',\n",
       " '4k3/R3n2p/4N3/3p1p2/2b2P2/5BP1/4P1K1/2r5 w - - 1 0': '1. Bh5+ Ng6 2. Rxh7 Rg1+ 3. Kxg1 Bxe2 4. Bxg6#',\n",
       " '1R4Q1/3nr1pp/3p1k2/5Bb1/4P3/2q1B1P1/5P1P/6K1 w - - 1 0': '1. Rf8+ Nxf8 2. Qxf8+ Ke5 3. f4+ Bxf4 4. gxf4#',\n",
       " 'r1b2rk1/1p4qp/p5pQ/2nN1p2/2B2P2/8/PPP3PP/2K1R3 w - - 1 0': '1. Ne7+ Kh8 2. Nxg6+ Qxg6 3. Qxf8+ Qg8 4. Qxg8#',\n",
       " '2r2rk1/pp3nbp/2p1bq2/2Pp4/1P1P1PP1/P1NB4/1BQK4/7R w - - 1 0': '1. Bxh7+ Kh8 2. Bg8+ Qh6 3. Rxh6+ Bxh6 4. Qh7#',\n",
       " 'r2r4/1p1R3p/5p1k/b1B1Pp2/p4P2/P7/1P5P/1K4R1 w - - 1 0': '1. Bf8+ Rxf8 2. Rd3 Be1 3. Rh3+ Bh4 4. Rxh4#',\n",
       " 'R4rk1/4r1p1/1q2p1Qp/1pb5/1n5R/5NB1/1P3PPP/6K1 w - - 1 0': '1. Ng5 Bxf2+ 2. Kh1 Rxa8 3. Qh7+ Kf8 4. Qh8#',\n",
       " '8/4k3/1p2p1p1/pP1pPnP1/P1rPq2p/1KP2R1N/8/5Q2 b - - 0 1': '1... Nxd4+ 2. Ka3 Rxa4+ 3. Kxa4 Qc2+ 4. Ka3 Qb3#',\n",
       " 'kb3R2/1p5r/5p2/1P1Q4/p5P1/q7/5P2/4RK2 w - - 1 0': '1. Rxb8+ Ka7 2. Qd4+ Kxb8 3. Re8+ Kc7 4. Qd8#',\n",
       " '8/1p5k/5pp1/7p/P3qP1K/2Q3PP/8/8 b - - 0 1': '1... g5+ 2. Kxh5 Qe2+ 3. Qf3 Qxf3+ 4. g4 Qxh3#',\n",
       " '6k1/pp3ppp/4p3/2P3b1/bPP3P1/3K4/P3Q1q1/1R5R b - - 0 1': '1... Qg3+ 2. Ke4 Bc6+ 3. Kd4 Bf6+ 4. Qe5 Bxe5#',\n",
       " 'r7/2p2p2/3p3k/pR1P1Kb1/3P2pr/B1PB1b2/P4P2/1R6 b - - 0 1': '1... g3 2. Bxd6 Bg4+ 3. Ke5 Re8+ 4. Be7 Rxe7#',\n",
       " 'r1bq3Q/pppnk1p1/2n1p1P1/3pPr2/1b1P4/1NP5/PP3PP1/R1B1K3 w Q - 0 1': '1. Bg5+ Rf6 2. Bxf6+ gxf6 3. Qg7+ Ke8 4. Qf7#',\n",
       " '2rqrb2/p2nk3/bp2pnQp/4B1p1/3P4/P1N5/1P3PPP/1B1RR1K1 w - - 1 0': '1. Nd5+ exd5 2. Bxf6+ Kd6 3. Be5+ Ke7 4. Bd6#',\n",
       " '2r1rk2/1p2qp1R/4p1p1/1b1pP1N1/p2P4/nBP1Q3/P4PPP/R5K1 w - - 1 0': '1. Rh8+ Kg7 2. Nxe6+ Kxh8 3. Qh6+ Kg8 4. Qg7#',\n",
       " '5nk1/2N2p2/2b2Qp1/p3PpNp/2qP3P/6P1/5P1K/8 w - - 1 0': '1. e6 Be8 2. Nxe8 Nxe6 3. Qxf7+ Kh8 4. Qh7#',\n",
       " 'r2Bk2r/pb1n1pQ1/3np3/1p2P3/2p3K1/3p4/PP1b1PPP/R4B1R b - - 0 1': '1... f5+ 2. Kg3 Ne4+ 3. Kf3 Nef6+ 4. Kg3 f4#',\n",
       " '6k1/6p1/3r1n1p/p4p1n/P1N4P/2N5/Q2RK3/7q b - - 0 1': '1... Ng3+ 2. Ke3 Ng4+ 3. Kf4 Nh5+ 4. Kxf5 Qf3#',\n",
       " '8/p5Qp/1p2q2B/2p2rp1/2P3Pk/2P2P2/P6P/6K1 w - - 1 0': '1. Bxg5+ Rxg5 2. Qxh7+ Qh6 3. Qxh6+ Rh5 4. Qxh5#',\n",
       " 'rq3rk1/1p1bpp1p/3p2pQ/p2N3n/2BnP1P1/5P2/PPP5/2KR3R w - - 1 0': '1. Nxe7+ Kh8 2. Rxh5 Nb3+ 3. axb3 gxh5 4. Qf6#',\n",
       " 'r2r1n2/pp2bk2/2p1p2p/3q4/3PN1QP/2P3R1/P4PP1/5RK1 w - - 1 0': '1. Qg7+ Ke8 2. Qxe7+ Kxe7 3. Rg7+ Ke8 4. Nf6#',\n",
       " '1r4k1/3p3R/4p3/2p1P1qp/2P1Q3/1n1B4/6P1/7K w - - 1 0': '1. Rh8+ Kf7 2. Qh7+ Qg7 3. Bg6+ Ke7 4. Qxg7#',\n",
       " 'r2r1k2/pbq2pp1/2p1p1p1/1pP1N1P1/6Q1/P6R/1P3P1P/4R1K1 w - - 1 0': '1. Nxg6+ Ke8 2. Rxe6+ fxe6 3. Qxe6+ Qe7 4. Qxe7#',\n",
       " 'q5k1/1b2R1pp/1p3n2/4BQ2/8/7P/5PPK/4r3 w - - 1 0': '1. Rxg7+ Kh8 2. Rxh7+ Kg8 3. Qg6+ Kf8 4. Qf7#',\n",
       " '1R6/4r1pk/pp2N2p/4nP2/2p5/2P3P1/P2P1K2/8 w - - 1 0': '1. Nf8+ Kg8 2. Ng6+ Re8 3. Rxe8+ Kf7 4. Rf8#',\n",
       " 'r4rk1/p4pp1/7P/2pp4/3Bn3/8/qPP1QP1P/2KR2R1 w - - 1 0': '1. h7+ Kh8 2. Bxg7+ Kxh7 3. Qh5+ Kg8 4. Qh8#',\n",
       " 'r1r2bk1/p4pBp/1p6/3q1N2/n1P5/4R3/P3QPPP/6K1 w - - 1 0': '1. Nh6+ Kxg7 2. Qg4+ Kxh6 3. Rh3+ Qh5 4. Rxh5#',\n",
       " '3q1r2/2n5/p4pkp/3PrN1p/1pP2Q2/1P4BP/P4PP1/R5K1 w - - 1 0': '1. Qxh6+ Kf7 2. Qxh5+ Kg8 3. Qg6+ Kh8 4. Qg7#',\n",
       " '7R/2rr1kp1/p3p3/1p1q1p2/n4P1Q/P4P2/4B2P/6RK w - - 1 0': '1. Rxg7+ Kxg7 2. Qh6+ Kf7 3. Qf8+ Kg6 4. Rh6#',\n",
       " 'r2q4/1p2N2k/1P3Qp1/pBnpp3/4b1P1/8/P6P/5RK1 w - - 1 0': '1. Rf3 Qf8 2. Rh3+ Qh6 3. Qf7+ Kh8 4. Rxh6#',\n",
       " 'rn3k1r/pbpp1Bbp/1p4pN/4P1B1/3n4/2q3Q1/PPP2PPP/2KR3R w - - 1 0': '1. Be7+ Kxe7 2. Qg5+ Bf6 3. Qxf6+ Kf8 4. Bxg6#',\n",
       " 'r1q5/2p2k2/p4Bp1/2Nb1N2/p6Q/7P/nn3PP1/R5K1 w - - 1 0': '1. Qh7+ Kxf6 2. Qe7+ Kxf5 3. g4+ Kf4 4. Qe3#',\n",
       " 'r2r1k2/5pRp/pq2pBn1/1p2P2Q/2p4P/2Pn2P1/PP3Pb1/5RK1 w - - 1 0': '1. Rg8+ Kxg8 2. Qh6 Qxf2+ 3. Rxf2 Nxf2 4. Qg7#',\n",
       " '6rk/5p1p/5p2/1p2bP2/1P2R2Q/2q1BBPP/5PK1/r7 w - - 1 0': '1. Qxh7+ Kxh7 2. Rh4+ Kg7 3. Bh6+ Kh7 4. Bf8#',\n",
       " '1qbk2nr/1pNp2Bp/2n1pp2/8/2P1P3/8/Pr3PPP/R2QKB1R w - - 1 0': '1. Nxe6+ Ke7 2. Bf8+ Kf7 3. Qh5+ Kxe6 4. Qd5#',\n",
       " '5Q1R/3qn1p1/p3p1k1/1pp1PpB1/3r3P/5P2/PPP3K1/8 w - - 1 0': '1. Rh6+ gxh6 2. Qf6+ Kh7 3. Qf7+ Kh8 4. Bf6#',\n",
       " '6rk/3b3p/p2b1p2/2pPpP2/2P1B3/1P4q1/P2BQ1PR/6K1 w - - 1 0': '1. Rxh7+ Kxh7 2. Qh5+ Kg7 3. Bh6+ Kh7 4. Bf8#',\n",
       " '5r1k/1p1b1p1p/p2ppb2/5P1B/1q6/1Pr3R1/2PQ2PP/5R1K w - - 1 0': '1. Qh6 Rxg3 2. Bg6 Rxg6 3. fxg6 fxg6 4. Qxf8#',\n",
       " '2R2bk1/5rr1/p3Q2R/3Ppq2/1p3p2/8/PP1B2PP/7K w - - 1 0': '1. Rxf8+ Kxf8 2. Rh8+ Rg8 3. Bxb4+ Kg7 4. Qh6#',\n",
       " '3rkb2/pp3R1R/8/2p1P3/3pKB2/6P1/PrP2P2/8 w - - 1 0': '1. Bh6 Bxh6 2. e6 Bf8 3. Rh8 Rxc2 4. Rhxf8#',\n",
       " '3q3r/r4pk1/pp2pNp1/3bP1Q1/7R/8/PP3PPP/3R2K1 w - - 1 0': '1. Ne8+ Kg8 2. Rxh8+ Kxh8 3. Qh6+ Kg8 4. Qg7#',\n",
       " '8/3P1pk1/8/1p5p/1N4p1/2P5/3qb1PP/2R1R1K1 b - - 0 1': '1... Bf3 2. gxf3 gxf3 3. Re2 Qxe2 4. d8=Q Qg2#',\n",
       " 'rqr3k1/3bppBp/3p2P1/p7/1n2P3/1p3P2/1PPQ2P1/2KR3R w - - 1 0': '1. gxh7+ Kxg7 2. h8=Q+ Rxh8 3. Qg5+ Kf8 4. Rxh8#',\n",
       " '2k3rr/p4q1p/N2B4/p3PpQ1/3P2n1/8/2P2PPP/1R4K1 w - - 1 0': '1. Nc5 Qc7 2. Qxf5+ Kd8 3. Rb8+ Qxb8 4. Qd7#',\n",
       " '3q1r2/2rbnp2/p3pp1k/1p1p2N1/3P2Q1/P3P3/1P3PPP/5RK1 w - - 1 0': '1. Qh4+ Kg6 2. Qh7+ Kxg5 3. f4+ Kg4 4. Qh3#',\n",
       " '1R2R3/p1r2pk1/3b1pp1/8/2Pr4/4N1P1/P4PK1/8 w - - 1 0': '1. Nf5+ gxf5 2. Rg8+ Kh6 3. Rh8+ Kg5 4. Rbg8#',\n",
       " 'r1bq2k1/pp2n1p1/5r2/2p2pNQ/3p4/3P4/PPP2PBP/R3R1K1 w - - 1 0': '1. Rxe7 Rg6 2. Qxg6 Qxe7 3. Qh7+ Kf8 4. Qh8#',\n",
       " '6rk/1b6/p5pB/1q2P2Q/4p2P/6R1/PP4PK/3r4 w - - 1 0': '1. Bg7+ Kxg7 2. Qxg6+ Kf8 3. Qxg8+ Ke7 4. Rg7#',\n",
       " '6r1/p5bk/4N1pp/2B1p3/4Q2N/8/2P2KPP/q7 w - - 1 0': '1. Ng5+ hxg5 2. Qxg6+ Kh8 3. Qh5+ Bh6 4. Qxh6#',\n",
       " '2rq2k1/3bb2p/n2p2pQ/p2Pp3/2P1N1P1/1P5P/6B1/2B2R1K w - - 1 0': '1. Rf7 Kxf7 2. Qxh7+ Ke8 3. Qxg6+ Kf8 4. Bh6#',\n",
       " '5rk1/ppp3pp/8/3pQ3/3P2b1/5rPq/PP1P1P2/R1BB1RK1 b - - 0 1': '1... Qxf1+ 2. Kxf1 Rxf2+ 3. Kg1 Rf1+ 4. Kg2 R8f2#',\n",
       " 'r7/5pk1/2p4p/1p1p4/1qnP4/5QPP/2B1RP1K/8 w - - 1 0': '1. Qg4+ Kf8 2. Bh7 Ne3 3. Rxe3 Qxd4 4. Qg8#',\n",
       " '8/r7/3pNb2/3R3p/1p2p3/pPk5/P1P3PP/1K6 w - - 1 0': '1. Rd1 Be5 2. Ng5 d5 3. Rxd5 Bxh2 4. Nxe4#',\n",
       " 'r1bqkb2/6p1/p1p4p/1p1N4/8/1B3Q2/PP3PPP/3R2K1 w - - 1 0': '1. Nc7+ Qxc7 2. Qh5+ g6 3. Qxg6+ Ke7 4. Qf7#',\n",
       " '5r1k/p5p1/1p3n1p/1Pp5/2RPp3/P3P2P/2Q3PK/2N1q3 b - d3 0 1': '1... Ng4+ 2. hxg4 Rf1 3. Qf2 Qxf2 4. d5 Qh4#',\n",
       " 'r2r2k1/1q4p1/ppb3p1/2bNp3/P1Q5/1N5R/1P4BP/n6K w - - 1 0': '1. Ne7+ Kf8 2. Nxg6+ Ke8 3. Qe6+ Qe7 4. Rh8#',\n",
       " '2r1r3/pp1nbN2/4p3/q7/P1pP2nk/2P2P2/1PQ5/R3R1K1 w - - 1 0': '1. Re4 Kh5 2. Rxg4 Qf5 3. Qh2+ Bh4 4. Qxh4#',\n",
       " 'r3r2k/pb1n3p/1p1q1pp1/4p1B1/2BP3Q/2P1R3/P4PPP/4R1K1 w - - 1 0': '1. Qxh7+ Kxh7 2. Rh3+ Kg7 3. Bh6+ Kh7 4. Bf8#',\n",
       " 'r1b2rk1/p3Rp1p/3q2pQ/2pp2B1/3b4/3B4/PPP2PPP/4R1K1 w - - 1 0': '1. Qxf8+ Kxf8 2. Bh6+ Kg8 3. Re8+ Qf8 4. Rxf8#',\n",
       " 'r1b3kn/2p1q1p1/2p2rP1/p2p1p2/4pP2/1PN1P3/PKPPQ3/3R2NR w - - 1 0': '1. Rxh8+ Kxh8 2. Qh5+ Kg8 3. Qh7+ Kf8 4. Qh8#',\n",
       " '5r1k/2q1r1p1/1npbBpQB/1p1p3P/p2P2R1/P4PP1/1PR2PK1/8 w - - 1 0': '1. Bxg7+ Rxg7 2. Qh6+ Rh7 3. Qxf8+ Bxf8 4. Rg8#',\n",
       " '8/6R1/p2kp2r/qb5P/3p1N1Q/1p1Pr3/PP6/1K5R w - - 1 0': '1. Qe7+ Kc6 2. Rc1+ Bc4 3. Rxc4+ Kb6 4. Qb7#',\n",
       " 'r5nr/6Rp/p1NNkp2/1p3b2/2p5/5K2/PP2P3/3R4 w - - 1 0': '1. Nxf5 Kxf5 2. e4+ Ke6 3. Rgd7 Ne7 4. Rxe7#',\n",
       " '2b2k2/2p2r1p/p2pR3/1p3PQ1/3q3N/1P6/2P3PP/5K2 w - - 1 0': '1. Ng6+ hxg6 2. Qd8+ Kg7 3. Rxg6+ Kh7 4. Qg8#',\n",
       " '1Qb2b1r/1p1k1p1p/3p1p2/3p4/p2NPP2/1R6/q1P3PP/4K2R w K - 0 1': '1. Rxb7+ Bxb7 2. Qxb7+ Kd8 3. Nc6+ Ke8 4. Qc8#',\n",
       " '3r2k1/3q2p1/1b3p1p/4p3/p1R1P2N/Pr5P/1PQ3P1/5R1K b - - 0 1': '1... Rxh3+ 2. gxh3 Qxh3+ 3. Qh2 Qxf1+ 4. Qg1 Qxg1#',\n",
       " '3r2k1/pp5p/6p1/2Ppq3/4Nr2/4B2b/PP2P2K/R1Q1R2B b - - 0 1': '1... Rf2+ 2. Kxh3 Rh2+ 3. Kg4 h5+ 4. Kf3 dxe4#',\n",
       " '1q1N4/3k1BQp/5r2/5p2/3P3P/8/3B1PPb/3n3K w - - 1 0': '1. Be6+ Ke8 2. Qd7+ Kf8 3. Bh6+ Rxh6 4. Qf7#',\n",
       " '3r1rk1/ppqn3p/1npb1P2/5B2/2P5/2N3B1/PP2Q1PP/R5K1 w - - 1 0': '1. Qg4+ Kf7 2. Be6+ Kxf6 3. Bh4+ Ke5 4. Qe4#',\n",
       " '2r1k3/2P3R1/3P2K1/6N1/8/8/8/3r4 w - - 1 0': '1. Re7+ Kf8 2. Nh7+ Kg8 3. Nf6+ Kf8 4. Rf7#',\n",
       " 'r1b2k1r/pppp4/1bP2qp1/5pp1/4pP2/1BP5/PBP3PP/R2Q1R1K b - - 0 1': '1... Rxh2+ 2. Kxh2 Qh8+ 3. Qh5 Qxh5+ 4. Kg3 Qh4#',\n",
       " 'rr2k3/5p2/p1bppPpQ/2p1n1P1/1q2PB2/2N4R/PP4BP/6K1 w - - 1 0': '1. Qf8+ Kd7 2. Qe7+ Kc8 3. Rh8+ Be8 4. Rxe8#',\n",
       " '2r1rk2/p1q3pQ/4p3/1pppP1N1/7p/4P2P/PP3P2/1K4R1 w - - 1 0': '1. Nxe6+ Ke7 2. Rxg7+ Kxe6 3. Qg6+ Kxe5 4. f4#',\n",
       " 'r2r2k1/1p3pb1/q2p2p1/3PnN1R/p1P1p3/N6Q/PP5P/1K4R1 w - - 1 0': '1. Rh7 Bf6 2. Qh6 Nd3 3. Rg7+ Bxg7 4. Qxg7#',\n",
       " '6k1/6pp/p3p3/1pb5/5P2/PQ3RKP/1P3P1B/3r3q b - - 0 1': '1... Rg1+ 2. Bxg1 Qxg1+ 3. Kh4 Be7+ 4. Kh5 Qg6#',\n",
       " '5k2/6r1/p7/2p1P3/1p2Q3/8/1q4PP/3R2K1 w - - 1 0': '1. Rd8+ Ke7 2. Qh4+ Rg5 3. Qxg5+ Ke6 4. Qf6#',\n",
       " 'k1b4r/1p6/pR3p2/P1Qp2p1/2pp4/6PP/2P2qBK/8 w - - 1 0': '1. Rxa6+ bxa6 2. Qxd5+ Kb8 3. Qd6+ Ka7 4. Qb6#',\n",
       " '4R3/2p2kpQ/3p3p/p2r2q1/8/1Pr2P2/P1P3PP/4R1K1 w - - 1 0': '1. Rf8+ Kxf8 2. Qh8+ Kf7 3. Qe8+ Kf6 4. Qe6#',\n",
       " 'r1b4k/1p4qp/p7/4p2P/2B5/6Q1/PPP3P1/2K2R2 w - - 1 0': '1. Rf8+ Qxf8 2. Qxe5+ Qg7 3. Qe8+ Qg8 4. Qxg8#',\n",
       " 'r1b2n2/2q3rk/p3p2n/1p3p1P/4N3/PN1B1P2/1PPQ4/2K3R1 w - - 1 0': '1. Nf6+ Kh8 2. Qxh6+ Nh7 3. Qxh7+ Rxh7 4. Rg8#',\n",
       " 'r2qr1k1/1p3pP1/p2p1np1/2pPp1B1/2PnP1b1/2N2p2/PP1Q4/2KR1BNR w - - 1 0': '1. Bxf6 Bh5 2. Qh6 Nb3+ 3. axb3 Qxf6 4. Qh8#',\n",
       " '5k2/ppqrRB2/3r1p2/2p2p2/7P/P1PP2P1/1P2QP2/6K1 w - - 1 0': '1. Re8+ Kxf7 2. Qh5+ Kg7 3. Rh8 Rxd3 4. Qh7#',\n",
       " '4n3/pbq2rk1/1p3pN1/8/2p2Q2/Pn4N1/B4PP1/4R1K1 w - - 1 0': '1. Nf5+ Kxg6 2. Qh6+ Kxf5 3. Qh5+ Kf4 4. g3#',\n",
       " 'r4k2/PR6/1b6/4p1Np/2B2p2/2p5/2K5/8 w - - 1 0': '1. Nh7+ Ke8 2. Nf6+ Kd8 3. Rd7+ Kc8 4. Ba6#',\n",
       " '8/5R1p/4p1p1/3pN1k1/1rnP4/p3P3/P1K2PPP/8 w - - 1 0': '1. f4+ Kh6 2. Ng4+ Kh5 3. Nf6+ Kh6 4. Rxh7#',\n",
       " 'br1qr1k1/b1pnnp2/p2p2p1/P4PB1/3NP2Q/2P3N1/B5PP/R3R1K1 w - - 1 0': '1. Bxf7+ Kf8 2. Qh8+ Kxf7 3. Qh7+ Kf8 4. Bh6#',\n",
       " '6k1/ppR3pp/8/3Np3/1Q4bP/6P1/PP2qbK1/8 w - - 1 0': '1. Rxg7+ Kxg7 2. Qe7+ Kg6 3. Qf6+ Kh5 4. Qg5#',\n",
       " 'r3r3/1q2Pk1p/pn1Q2p1/1p3pB1/8/5N2/P5PP/2R1b2K w - - 1 0': '1. Ne5+ Kg7 2. Qf6+ Kg8 3. Qf7+ Kh8 4. Bf6#',\n",
       " '1r3rk1/1nqb2n1/6R1/1p1Pp3/1Pp3p1/2P4P/2B2QP1/2B2RK1 w - - 1 0': '1. Rxg7+ Kxg7 2. Bh6+ Kxh6 3. Qh4+ Kg7 4. Qh7#',\n",
       " 'n2q1r1k/4bp1p/4p3/4P1p1/2pPNQ2/2p4R/5PPP/2B3K1 w - - 1 0': '1. Nf6 Bxf6 2. Qe4 h5 3. Rxh5+ Kg8 4. Qh7#',\n",
       " '3r2k1/6p1/3Np2p/2P1P3/1p2Q1Pb/1P3R1P/1qr5/5RK1 w - - 1 0': '1. Rf8+ Rxf8 2. Rxf8+ Kxf8 3. Qa8+ Ke7 4. Qe8#',\n",
       " '1qr2bk1/pb3pp1/1pn3np/3N2NQ/8/P7/BP3PPP/2B1R1K1 w - - 1 0': '1. Nf6+ gxf6 2. Qxg6+ Bg7 3. Bxf7+ Kf8 4. Nh7#',\n",
       " '1r4k1/7R/p2p4/P5q1/1P2B3/5Pb1/2Q3K1/8 w - - 1 0': '1. Bd5+ Kf8 2. Rf7+ Ke8 3. Qc6+ Kd8 4. Qd7#',\n",
       " '3q4/8/r1b4Q/2P2kp1/p2p4/P7/1P5P/4R1K1 w - - 1 0': '1. Qe6+ Kf4 2. h3 Bd7 3. Qe5+ Kf3 4. Rf1#',\n",
       " '6k1/p2R1p1p/5bp1/8/Pn2R1K1/1r6/7P/8 b - - 0 1': '1... h5+ 2. Kf4 g5+ 3. Kf5 Rf3+ 4. Rf4 Rxf4#',\n",
       " 'r1b2k1r/2q1b3/p3ppBp/2n3B1/1p6/2N4Q/PPP3PP/2KRR3 w - - 1 0': '1. Bxh6+ Rxh6 2. Qxh6+ Kg8 3. Qh7+ Kf8 4. Qf7#',\n",
       " 'r4n1k/ppBnN1p1/2p1p3/6Np/q2bP1b1/3B4/PPP3PP/R4Q1K w - - 1 0': '1. Qf7 Nf6 2. e5 Bxe5 3. Qg8+ Nxg8 4. Nf7#',\n",
       " 'r3k1r1/pp2bp1p/2ppb3/7P/3qP1n1/2N5/PPPQB1P1/R1B1KR2 b - - 0 1': '1... Bh4+ 2. g3 Bxg3+ 3. Rf2 Bxf2+ 4. Kd1 Ne3#',\n",
       " '6k1/1p5p/p2p1q2/3Pb3/1Q2P3/3b1BpP/PPr3P1/KRN5 b - - 0 1': '1... Bxb2+ 2. Qxb2 Qxb2+ 3. Rxb2 Rxc1+ 4. Rb1 Rxb1#',\n",
       " '5q2/p7/3R4/3Q2p1/5pk1/4p1P1/P6P/2r2NK1 w - - 1 0': '1. h3+ Kxh3 2. Qe6+ g4 3. Qh6+ Qxh6 4. Rxh6#',\n",
       " '5q1k/p3R1rp/2pr2p1/1pN2bP1/3Q1P2/1B6/PP5P/2K5 w - - 1 0': '1. Qxg7+ Qxg7 2. Re8+ Qf8 3. Rxf8+ Kg7 4. Rg8#',\n",
       " '6rk/2p2p1p/p2q1p1Q/2p1pP2/1nP1R3/1P5P/P5P1/2B3K1 w - - 1 0': '1. Qxh7+ Kxh7 2. Rh4+ Kg7 3. Bh6+ Kh7 4. Bf8#',\n",
       " '4rbkr/3Q2pp/p7/1ppb4/8/1NP5/PP2qPPP/R1B2RK1 b - - 0 1': '1... Qxf1+ 2. Kxf1 Bc4+ 3. Qd3 Bxd3+ 4. Kg1 Re1#',\n",
       " '6k1/5pb1/3p1n2/q1pP2Q1/2P4p/1r2R2P/5PPB/4R1K1 w - - 1 0': '1. Re8+ Nxe8 2. Rxe8+ Kh7 3. Qf5+ Kh6 4. Bf4#',\n",
       " 'r3rk2/6b1/q2pQBp1/1NpP4/1n2PP2/nP6/P3N1K1/R6R w - - 1 0': '1. Bxg7+ Kxg7 2. Rh7+ Kxh7 3. Qf7+ Kh8 4. Rh1#',\n",
       " '5r1k/7b/4B3/6K1/3R1N2/8/8/8 w - - 1 0': '1. Ng6+ Bxg6 2. Kxg6 Rg8+ 3. Bxg8 Kxg8 4. Rd8#',\n",
       " '2r3k1/pp4rp/1q1p2pQ/1N2p1PR/2nNP3/5P2/PPP5/2K4R w - - 1 0': '1. Qxg7+ Kxg7 2. Rxh7+ Kf8 3. Rh8+ Ke7 4. R1h7#',\n",
       " '5n1k/rq4rp/p1bp1b2/2p1pP1Q/P1B1P2R/2N3R1/1P4PP/6K1 w - - 1 0': '1. Qxh7+ Nxh7 2. Rxh7+ Kxh7 3. Rh3+ Bh4 4. Rxh4#',\n",
       " 'r5k1/pbpn2pp/1p1pp1r1/5p2/1PPP3q/P3P1P1/3Q1P1P/R1BB1RK1 b - - 0 1': '1... Qxh2+ 2. Kxh2 Rh6+ 3. Bh5 Rxh5+ 4. Kg1 Rh1#',\n",
       " 'rnbqkb1r/np1p2pp/p1p1pp2/3PP3/2P2P2/P1NB4/1P4PP/R1BQK1NR w KQkq - 0 1': '1. Qh5+ g6 2. Bxg6+ hxg6 3. Qxg6+ Ke7 4. d6#',\n",
       " '3q1r2/6k1/p2pQb2/4pR1p/4B3/2P3P1/P4PK1/8 w - - 1 0': '1. Rg5+ Kh6 2. Qf5 Qe8 3. Rg6+ Kh7 4. Qxh5#',\n",
       " 'rn2rk2/p1q1Nppp/1p4b1/2pP2Q1/2P5/6P1/PB3P1P/2R1R1K1 w - - 1 0': '1. Bxg7+ Kxg7 2. Nf5+ Kf8 3. Qh6+ Kg8 4. Rxe8#',\n",
       " '3q4/1p3p1k/1P1prPp1/P1rNn1Qp/8/7R/6PP/3R2K1 w - - 1 0': '1. Rxh5+ Kg8 2. Rh8+ Kxh8 3. Qh6+ Kg8 4. Qg7#',\n",
       " '2r2bk1/2qn1ppp/pn1p4/5N2/N3r3/1Q6/5PPP/BR3BK1 w - - 1 0': '1. Nh6+ gxh6 2. Qg3+ Rg4 3. Qxg4+ Bg7 4. Qxg7#',\n",
       " '3r1kbR/1p1r2p1/2qp1n2/p3pPQ1/P1P1P3/BP6/2B5/6RK w - - 1 0': '1. Qxf6+ Rf7 2. Rxg7 Qxe4+ 3. Bxe4 Ke8 4. Qxf7#',\n",
       " 'rnb2rk1/ppp2qb1/6pQ/2pN1p2/8/1P3BP1/PB2PP1P/R4RK1 w - - 1 0': '1. Ne7+ Qxe7 2. Bd5+ Be6 3. Bxe6+ Rf7 4. Qxg7#',\n",
       " '2rqr1k1/1p2bp1p/pn4p1/3p1bP1/3B3Q/2NR2R1/PPP1NP1P/1K6 w - - 1 0': '1. Qxh7+ Kxh7 2. Rh3+ Bxh3 3. Rxh3+ Kg8 4. Rh8#',\n",
       " '4rk2/pb1Q1p2/6p1/3p2p1/2pP4/2q1PPK1/Pr4P1/1B2R2R w - - 1 0': '1. Rh8+ Kg7 2. Rh7+ Kxh7 3. Qxf7+ Kh8 4. Rh1#',\n",
       " 'r1b1r1k1/p1q3p1/1pp1pn1p/8/3PQ3/B1PB4/P5PP/R4RK1 w - - 1 0': '1. Rxf6 gxf6 2. Qg6+ Kh8 3. Qxe8+ Kg7 4. Qf8#',\n",
       " '2r2k2/pb4bQ/1p1qr1pR/3p1pB1/3Pp3/2P5/PPB2PP1/1K5R w - - 1 0': '1. Qxg7+ Kxg7 2. Rh7+ Kg8 3. Rh8+ Kf7 4. R1h7#',\n",
       " '8/4k2p/5p1b/q2bpP2/4B3/8/1PK4P/3QR3 b - - 0 1': '1... Qa4+ 2. Kb1 Ba2+ 3. Ka1 Bb3+ 4. Kb1 Qa2#',\n",
       " '8/1p3pkp/6p1/6P1/5n2/p5q1/PP1Q2P1/3R2K1 w - - 1 0': '1. Qd4+ Kg8 2. Qd8+ Kg7 3. Qf6+ Kg8 4. Rd8#',\n",
       " 'r1r3k1/3NQppp/q3p3/8/8/P1B1P1P1/1P1R1PbP/3K4 b - - 0 1': '1... Qf1+ 2. Kc2 Be4+ 3. Rd3 Qxd3+ 4. Kb3 Qc4#',\n",
       " 'r3b3/1p3N1k/n4p2/p2PpP2/n7/6P1/1P1QB1P1/4K3 w - - 1 0': '1. Qh6+ Kg8 2. Qh8+ Kxf7 3. d6 Nb6 4. Bh5#',\n",
       " '5Q2/8/6p1/2p4k/p1Bpq2P/6PK/P2b4/8 w - - 1 0': '1. Qh8+ Bh6 2. Qe5+ g5 3. Bf7+ Qg6 4. g4#',\n",
       " '2Rr1qk1/5ppp/p2N4/P7/5Q2/8/1r4PP/5BK1 w - - 1 0': '1. Qxf7+ Qxf7 2. Rxd8+ Qf8 3. Bc4+ Kh8 4. Rxf8#',\n",
       " '2qk1r2/Q3pr2/3p2pn/7p/5P2/4B2P/P1P3P1/1R4K1 w - - 1 0': '1. Bb6+ Ke8 2. Qa4+ Qd7 3. Qa8+ Qd8 4. Qxd8#',\n",
       " 'rnb3kb/pp5p/4p1pB/q1p2pN1/2r1PQ2/2P5/P4PPP/2R2RK1 w - - 1 0': '1. Qd6 Bg7 2. Qe7 Qc7 3. Qe8+ Bf8 4. Qxf8#',\n",
       " '3Q4/4r1pp/b6k/6R1/8/1qBn1N2/1P4PP/6KR w - - 1 0': '1. Bxg7+ Rxg7 2. Qf6+ Rg6 3. Qf8+ Rg7 4. Qxg7#',\n",
       " '2r5/1p5p/3p4/pP1P1R2/1n2B1k1/8/1P3KPP/8 w - - 1 0': '1. h3+ Kh4 2. g3+ Kxh3 3. Rh5+ Kg4 4. Bf3#',\n",
       " '8/5r1p/R3pk2/2NR1np1/2P2r2/1P5K/P6P/8 b - - 0 1': '1... g4+ 2. Kg2 Ne3+ 3. Kg3 Rf3+ 4. Kh4 Rh3#',\n",
       " 'r1b1kr2/3q1p2/p1Q5/3p3p/8/3B4/PPP2PPP/R5K1 w q - 0 1': '1. Re1+ Kd8 2. Qb6+ Qc7 3. Qf6+ Qe7 4. Qxe7#',\n",
       " '5r2/R4Nkp/1p4p1/2nR2N1/5p2/7P/6PK/1r6 w - - 1 0': '1. Nh6+ Nb7 2. Rxb7+ Rf7 3. Rxf7+ Kxh6 4. Rxh7#',\n",
       " '8/8/5K2/6r1/8/8/5Q1p/7k w - - 1 0': '1. Qf1+ Rg1 2. Qf3+ Rg2 3. Qe4 Kg1 4. Qe1#',\n",
       " '6k1/4pp2/2q3pp/R1p1Pn2/2N2P2/1P4rP/1P3Q1K/8 b - - 0 1': '1... Rxh3+ 2. Kxh3 Qh1+ 3. Qh2 Qf3+ 4. Qg3 Qxg3#',\n",
       " '4kb1Q/5p2/1p6/1K1N4/2P2P2/8/q7/8 w - - 1 0': '1. Qe5+ Kd7 2. Qc7+ Ke6 3. Qc8+ Kd6 4. Qc6#',\n",
       " 'q3r3/4b1pn/pNrp2kp/1p6/4P3/1Q2B3/PPP1B1PP/7K w - - 1 0': '1. Bh5+ Kxh5 2. Qf7+ g6 3. Qf3+ Kh4 4. Qh3#',\n",
       " 'r4r1k/1p3p1p/pp1p1p2/4qN1R/PP2P1n1/6Q1/5PPP/R5K1 w - - 1 0': '1. Rxh7+ Kxh7 2. Qh4+ Nh6 3. Qxh6+ Kg8 4. Qg7#',\n",
       " 'r3rn1k/4b1Rp/pp1p2pB/3Pp3/P2qB1Q1/8/2P3PP/5R1K w - - 1 0': '1. Rxf8+ Bxf8 2. Rxh7+ Kxh7 3. Qxg6+ Kh8 4. Qh7#',\n",
       " 'r1r3k1/1bq2pbR/p5p1/1pnpp1B1/3NP3/3B1P2/PPPQ4/1K5R w - - 1 0': '1. Bf6 Bxf6 2. Qh6 Ne6 3. Rh8+ Bxh8 4. Qxh8#',\n",
       " 'rk3q1r/pbp4p/1p3P2/2p1N3/3p2Q1/3P4/PPP3PP/R3R1K1 w - - 1 0': '1. Nd7+ Kc8 2. Nxf8+ Kb8 3. Re8+ Bc8 4. Qxc8#',\n",
       " '3r3k/6pp/p3Qn2/P3N3/4q3/2P4P/5PP1/6K1 w - - 1 0': '1.Nf7+ Kg8 2.Nh6+ Kh8 3.Qg8+ Rxg8 4.Nf7#',\n",
       " '4k3/2q2p2/4p3/3bP1Q1/p6R/r6P/6PK/5B2 w - - 1 0': '1. Bb5+ Bc6 2. Bxc6+ Qxc6 3. Rh8+ Kd7 4. Qd8#',\n",
       " '3r1b2/3P1p2/p3rpkp/2q2N2/5Q1R/2P3BP/P5PK/8 w - - 1 0': '1. Rxh6+ Bxh6 2. Qxh6+ Kxf5 3. Qh5+ Ke4 4. Qf3#',\n",
       " 'r3kr2/ppq3bp/2np2p1/2pBp1B1/4P1Q1/2PP4/PP3PPP/R3K2R w KQq - 0 1': '1. Bxc6+ Kf7 2. Bd5+ Ke8 3. Qe6+ Qe7 4. Qxe7#',\n",
       " 'r2qr1k1/1p1n2pp/2b1p3/p2pP1b1/P2P1Np1/3BPR2/1PQB3P/5RK1 w - - 1 0': '1. Bxh7+ Kh8 2. Ng6+ Kxh7 3. Nf8+ Kg8 4. Qh7#',\n",
       " '7r/pRpk4/2np2p1/5b2/2P4q/2b1BBN1/P4PP1/3Q1K2 b - - 0 1': '1... Bd3+ 2. Qxd3 Qh1+ 3. Nxh1 Rxh1+ 4. Ke2 Re1#',\n",
       " '1r3rk1/5p1p/pp2b1p1/4n3/4PP2/1BP1B1Pq/P6P/R1QR2K1 b - - 0 1': '1... Nf3+ 2. Kf2 Qxh2+ 3. Kxf3 Bg4+ 4. Kxg4 Qh5#',\n",
       " '2q2r1k/5Qp1/4p1P1/3p4/r6b/7R/5BPP/5RK1 w - - 1 0': '1. Bxh4 Rxf7 2. Be7+ Rh4 3. Rxh4+ Kg8 4. gxf7#',\n",
       " '1r2k3/2pn1p2/p1Qb3p/7q/3PP3/2P1BN1b/PP1N1Pr1/RR5K b - - 0 1': '1... Rg1+ 2. Nxg1 Bf1+ 3. Nh3 Qxh3+ 4. Kg1 Qg2#',\n",
       " 'r1bqr3/4pkbp/2p1N2B/p2nP1Q1/2pP4/2N2P2/PP4P1/R3K2R w - - 1 0': '1. Qxg7+ Kxe6 2. Qg4+ Kf7 3. e6+ Bxe6 4. Qg7#',\n",
       " '3R4/rr2pp1k/1p1p1np1/1B1Pq2p/1P2P3/5P2/3Q2PP/2R3K1 w - - 1 0': '1. Rh8+ Kxh8 2. Qh6+ Kg8 3. Rc8+ Ne8 4. Rxe8#',\n",
       " '3Rr2k/pp4pb/2p4p/2P1n3/1P1Q3P/4r1q1/PB4B1/5RK1 b - - 0 1': '1... Nf3+ 2. Rxf3 Re1+ 3. Rf1 Rxf1+ 4. Kxf1 Qe1#',\n",
       " '5r2/1pP1b1p1/pqn1k2p/4p3/QP2BP2/P3P1PK/3R4/3R4 w - - 1 0': '1. Qb3+ Kf6 2. Rd6+ Bxd6 3. Rxd6+ Ke7 4. Qe6#',\n",
       " '4r3/2B4B/2p1b3/ppk5/5R2/P2P3p/1PP5/1K5R w - - 1 0': '1. b4+ axb4 2. axb4+ Kd5 3. c4+ bxc4 4. dxc4#',\n",
       " '1r3r1k/6R1/1p2Qp1p/p1p4N/3pP3/3P1P2/PP2q2P/5R1K w - - 1 0': '1. Rh7+ Kxh7 2. Qe7+ Kg6 3. Qg7+ Kxh5 4. Qg4#',\n",
       " 'r1bq1rk1/4np1p/1p3RpB/p1Q5/2Bp4/3P4/PPP3PP/R5K1 w - - 1 0': '1. Qe5 Nf5 2. Rxf5 Qf6 3. Qxf6 Bxf5 4. Qg7#',\n",
       " '2rr3k/1p1b1pq1/4pNp1/Pp2Q2p/3P4/7R/5PPP/4R1K1 w - - 1 0': '1. Rxh5+ Qh6 2. Rxh6+ Kg7 3. Rh7+ Kf8 4. Qd6#',\n",
       " '3rnn2/p1r2pkp/1p2pN2/2p1P3/5Q1N/2P3P1/PP2qPK1/R6R w - - 1 0': '1. Qg5+ Ng6 2. Nf5+ exf5 3. Qh6+ Kh8 4. Qxh7#',\n",
       " 'r3r1n1/pp3pk1/2q2p1p/P2NP3/2p1QP2/8/1P5P/1B1R3K w - - 1 0': '1. Rg1+ Kf8 2. Rxg8+ Kxg8 3. Qh7+ Kf8 4. Qh8#',\n",
       " '4Br1k/p5pp/1n6/8/3PQbq1/6P1/PP5P/RNB3K1 b - - 0 1': '1... Be3+ 2. Qxe3 Qd1+ 3. Qe1 Qxe1+ 4. Kg2 Qf1#',\n",
       " '5rk1/pR4bp/6p1/6B1/5Q2/4P3/q2r1PPP/5RK1 w - - 1 0': '1. Rxg7+ Kxg7 2. Bh6+ Kh8 3. Qxf8+ Qg8 4. Bg7#',\n",
       " '1r2r3/2p2pkp/p1b2Np1/4P3/2p4P/qP4N1/2P2QP1/5RK1 w - - 1 0': '1. Nfh5+ gxh5 2. Nxh5+ Kh6 3. Qf6+ Kxh5 4. Qg5#',\n",
       " '1b4rk/4R1pp/p1b4r/2PB4/Pp1Q4/6Pq/1P3P1P/4RNK1 w - - 1 0': '1. Qxg7+ Rxg7 2. Re8+ Bxe8 3. Rxe8+ Rg8 4. Rxg8#',\n",
       " '4k2r/1R3R2/p3p1pp/4b3/1BnNr3/8/P1P5/5K2 w - - 1 0': '1. Rfe7+ Kd8 2. Nc6+ Kc8 3. Na7+ Kd8 4. Rbd7#',\n",
       " '1R2n1k1/r3pp1p/6p1/3P4/P1p2B2/6P1/5PKP/b7 w - - 1 0': '1. Bh6 Ra8 2. Rxa8 f5 3. Rxe8+ Kf7 4. Rf8#',\n",
       " 'r1b1k2N/pppp2pp/2n5/2b1p3/2B1n2q/2N3P1/PPPP1P1P/R1BQK2R b KQq - 0 1': '1... Bxf2+ 2. Kf1 Qh3+ 3. Ke2 Nd4+ 4. Kd3 Nc5#',\n",
       " '2r4k/ppqbpQ1p/3p1bpB/8/8/1Nr2P2/PPP3P1/2KR3R w - - 1 0': '1. Bg7+ Bxg7 2. Rxh7+ Kxh7 3. Rh1+ Bh3 4. Rxh3#',\n",
       " 'r1brn3/p1q4p/p1p2P1k/2PpPPp1/P7/1Q2B2P/1P6/1K1R1R2 w - - 1 0': '1. Bxg5+ Kxg5 2. Qg3+ Kh5 3. Qg4+ Kh6 4. Qh4#',\n",
       " 'r1qr3k/3R2p1/p3Q3/1p2p1p1/3bN3/8/PP3PPP/5RK1 w - - 1 0': '1. Qh3+ Kg8 2. Nf6+ gxf6 3. Qh7+ Kf8 4. Qf7#',\n",
       " 'r7/5B2/3npkP1/7K/1P3p2/5P2/p7/R7 b - - 0 1': '1... Rh8+ 2. Kg4 Nf5 3. Rh1 Rxh1 4. Kxf4 Rh4#',\n",
       " '2kr1b1r/pp1n1ppp/2n1p3/1N1pP3/QP1P4/P2q1N2/3B1PPP/2R1K2R w K - 0 1': '1. Rxc6+ bxc6 2. Qa6+ Kb8 3. Qxa7+ Kc8 4. Qc7#',\n",
       " 'r1b1k2r/pp2bpp1/1np1p2p/8/4BB2/3R1N2/qPP1QPPP/2K4R b kq - 0 1': '1... Qa1+ 2. Kd2 Nc4+ 3. Kc3 Qxb2+ 4. Kxc4 b5#',\n",
       " '2r3k1/p4p2/1p2P1pQ/3bR2p/1q6/1B6/PP2RPr1/5K2 w - - 1 0': '1. exf7+ Bxf7 2. Re8+ Rxe8 3. Rxe8+ Qf8 4. Rxf8#',\n",
       " 'r1bkr3/1p3ppp/p1p5/4P3/2B1n3/2P1B3/P1P3PP/R4RK1 w - - 1 0': '1. Bb6+ Kd7 2. Rad1+ Nd6 3. Rxd6+ Ke7 4. Rxf7#',\n",
       " 'r4r1k/pppq1p1p/3p4/5p1Q/2B1Pp2/3P3P/PPn2P1K/R5R1 w - - 1 0': '1. Rg7 Kxg7 2. Qg5+ Kh8 3. Qf6+ Kg8 4. Rg1#',\n",
       " '2kr1b1r/ppq5/1np1pp2/P3Pn2/1P3P2/2P2Qp1/6P1/RNB1RBK1 b - - 0 1': '1... Rh1+ 2. Kxh1 Qh7+ 3. Qh5 Qxh5+ 4. Kg1 Qh2#',\n",
       " '2Q5/4ppbk/3p4/3P1NPp/4P3/5NB1/5PPK/rq6 w - - 1 0': '1. g6+ Kxg6 2. Nxe7+ Kh7 3. Qg8+ Kh6 4. Bf4#',\n",
       " '5r1k/p1p1q1pp/1p1p4/8/2PPn3/B1P1P3/P1Q1P2p/1R5K b - - 0 1': '1... Nf2+ 2. Kxh2 Qh4+ 3. Kg2 Qh3+ 4. Kg1 Qh1#',\n",
       " '2b5/3qr2k/5Q1p/P3B3/1PB1PPp1/4K1P1/8/8 w - - 1 0': '1. Bg8+ Kxg8 2. Qh8+ Kf7 3. Qg7+ Ke8 4. Qg8#',\n",
       " 'r1bq1bkr/6pp/p1p3P1/1p1p3Q/4P3/8/PPP3PP/RNB2RK1 w - - 1 0': '1. gxh7+ Rxh7 2. Qf7+ Kh8 3. Qxf8+ Qxf8 4. Rxf8#',\n",
       " 'rr4Rb/2pnqb1k/np1p1p1B/3PpP2/p1P1P2P/2N3R1/PP2BP2/1KQ5 w - - 1 0': '1. Bg7 Kxg8 2. Qh6 Bg6 3. Qxh8+ Kf7 4. fxg6#',\n",
       " 'r4b1r/pp1n2k1/1qp1p2p/3pP1pQ/1P6/2BP2N1/P4PPP/R4RK1 w - - 1 0': '1. Nf5+ exf5 2. e6+ Kh7 3. Qf7+ Bg7 4. Qxg7#',\n",
       " '5k2/r3pp1p/6p1/q1pP3R/5B2/2b3PP/PQ3PK1/R7 w - - 1 0': '1. Qb8+ Qd8 2. Qxd8+ Kg7 3. Bh6+ Kf6 4. Qh8#',\n",
       " 'r3r1k1/pp3pb1/3pb1p1/q5B1/1n2N3/3B1N2/PPP2PPQ/2K4R w - - 1 0': '1. Qh7+ Kf8 2. Qxg7+ Kxg7 3. Bf6+ Kg8 4. Rh8#',\n",
       " '4r1rk/pQ2P2p/P7/2pqb3/3p1p2/8/3B2PP/4RRK1 b - - 0 1': '1... Rxg2+ 2. Kh1 Rg1+ 3. Kxg1 Rg8+ 4. Kf2 Rg2#',\n",
       " 'r6r/pp2pk1p/1n3b2/5Q1N/8/3B4/q4PPP/3RR1K1 w - - 1 0': '1. Rxe7+ Kxe7 2. Qxf6+ Kd7 3. Bf5+ Ke8 4. Ng7#',\n",
       " '3k4/1pp3b1/4b2p/1p3qp1/3Pn3/2P1RN2/r5P1/1Q2R1K1 b - - 0 1': '1... Rxg2+ 2. Kxg2 Qh3+ 3. Kg1 Qg3+ 4. Kh1 Nf2#',\n",
       " 'r4k2/1pp3q1/3p1NnQ/p3P3/2P3p1/8/PP6/2K4R w - - 1 0': '1. Qxg7+ Kxg7 2. Rh7+ Kf8 3. e6 Re8 4. Rf7#',\n",
       " '8/6R1/1p1p4/1P1Np2k/2P1N2p/3P1p1q/1B2PP2/6K1 w - - 1 0': '1. Nf4+ exf4 2. Rg5+ Kh6 3. Bg7+ Kh7 4. Nf6#',\n",
       " '4r1k1/1R4bp/pB2p1p1/P4p2/2r1pP1Q/2P4P/1q4P1/3R3K w - - 1 0': '1. Rxg7+ Kxg7 2. Rd7+ Kf8 3. Qf6+ Kg8 4. Qg7#',\n",
       " 'r2r4/1bp2pk1/p3pNp1/4P1P1/2p2Q2/2P5/qP3PP1/2K4R w - - 1 0': '1. Rh7+ Kf8 2. Nd7+ Rxd7 3. Rh8+ Ke7 4. Qf6#',\n",
       " 'r1kq1b1r/5ppp/p4n2/2pPR1B1/Q7/2P5/P4PPP/1R4K1 w - - 1 0': '1. Qc6+ Qc7 2. Re8+ Nxe8 3. Qxe8+ Qd8 4. Qxd8#',\n",
       " '1Q6/5pp1/1B2p1k1/3pPn1p/1b1P4/2r3PN/2q2PKP/R7 b - - 0 1': '1... Ne3+ 2. Kh1 Qe4+ 3. f3 Qxf3+ 4. Kg1 Qg2#',\n",
       " '8/pp2Q1p1/2p3kp/6q1/5n2/1B2R2P/PP1r1PP1/6K1 w - - 1 0': '1. Qe8+ Kh7 2. Bg8+ Kh8 3. Bf7+ Kh7 4. Qg8#',\n",
       " '5r1k/1p4pp/p2N4/3Qp3/P2n1bP1/5P1q/1PP2R1P/4R2K w - - 1 0': '1. Nf7+ Kg8 2. Nh6+ Kh8 3. Qg8+ Rxg8 4. Nf7#',\n",
       " 'r1b1Q3/p1p3p1/1p3k1p/4N3/8/2P5/PP3PPP/2K4R w - - 1 0': '1. Qf7+ Kxe5 2. f4+ Kd6 3. Rd1+ Kc5 4. Qd5#',\n",
       " '3q1rk1/ppr1pp1p/n5pQ/2pP4/4PP1N/PP1n2PB/7P/1R3RK1 w - - 1 0': '1. Nf5 gxf5 2. Bxf5 Re8 3. Qxh7+ Kf8 4. Qh8#',\n",
       " '6k1/B2N1pp1/p6p/P3N1r1/4nb2/8/2R3B1/6K1 w - - 1 0': '1. Rc8+ Kh7 2. Nf8+ Kg8 3. Nfg6+ Kh7 4. Rh8#',\n",
       " '4kr2/3rn2p/1P4p1/2p5/Q1B2P2/8/P2q2PP/4R1K1 w - - 1 0': '1. Qa8+ Rd8 2. Rxe7+ Kxe7 3. Qe4+ Kd6 4. Qe6#',\n",
       " '2rkr3/3b1p1R/3R1P2/1p2Q1P1/pPq5/P1N5/1KP5/8 w - - 1 0': '1. Qxe8+ Kc7 2. Qxd7+ Kb8 3. Rb6+ Ka8 4. Qb7#',\n",
       " '3q1r2/pb3pp1/1p6/3pP1Nk/2r2Q2/8/Pn3PP1/3RR1K1 w - - 1 0': '1. g4+ Kg6 2. Qf5+ Kh6 3. Nxf7+ Rxf7 4. Qh5#',\n",
       " '8/8/2N5/8/8/p7/2K5/k7 w - - 1 0': '1. Nd4 Ka2 2. Ne2 Ka1 3. Nc1 a2 4. Nb3#',\n",
       " 'r3r1k1/1b6/p1np1ppQ/4n3/4P3/PNB4R/2P1BK1P/1q6 w - - 1 0': '1. Bc4+ d5 2. Bxd5+ Re6 3. Bxe6+ Nf7 4. Qh8#',\n",
       " '1r1qrbk1/3b3p/p2p1pp1/3NnP2/3N4/1Q4BP/PP4P1/1R2R2K w - - 1 0': '1. Nxf6+ Kg7 2. Qg8+ Kxf6 3. Bh4+ g5 4. Bxg5#',\n",
       " '5r1k/1q4bp/3pB1p1/2pPn1B1/1r6/1p5R/1P2PPQP/R5K1 w - - 1 0': '1. Rxh7+ Kxh7 2. Qh3+ Rh4 3. Qxh4+ Bh6 4. Qxh6#',\n",
       " '3r1kr1/8/p2q2p1/1p2R3/1Q6/8/PPP5/1K4R1 w - - 1 0': '1. Rf1+ Kg7 2. Re7+ Qxe7 3. Qxe7+ Kh6 4. Rh1#',\n",
       " '2R1R1nk/1p4rp/p1n5/3N2p1/1P6/2P5/P6P/2K5 w - - 1 0': '1. Nf6 Nce7 2. Rxe7 h5 3. Rxg8+ Rxg8 4. Rh7#',\n",
       " 'r1br2k1/4p1b1/pq2pn2/1p4N1/7Q/3B4/PPP3PP/R4R1K w - - 1 0': '1. Bh7+ Kf8 2. Qh5 Qg1+ 3. Kxg1 Bd7 4. Qf7#',\n",
       " 'R7/5pkp/3N2p1/2r3Pn/5r2/1P6/P1P5/2KR4 w - - 1 0': '1. Ne8+ Kf8 2. Nf6+ Rc8 3. Rxc8+ Ke7 4. Re8#',\n",
       " '8/1R4pp/k2rQp2/2p2P2/p2q1P2/1n1r2P1/6BP/4R2K w - - 1 0': '1. Qe8 Qg1+ 2. Kxg1 Rb6 3. Ra7+ Kxa7 4. Qa8#',\n",
       " '2b1k2r/3nb1pp/3npp2/B2pN1q1/Q2P4/4P3/PP3PPP/2R2RK1 w k - 0 1': '1. Rxc8+ Nxc8 2. Qxd7+ Kf8 3. Qxc8+ Bd8 4. Qxd8#',\n",
       " 'r2b2Q1/1bq5/pp1k2p1/2p1n1B1/P3P3/2N5/1PP3PP/5R1K w - - 1 0': '1. Rd1+ Nd3 2. Rxd3+ Ke5 3. Rd5+ Bxd5 4. Qxd5#',\n",
       " '4Q3/1b5r/1p1kp3/5p1r/3p1nq1/P4NP1/1P3PB1/2R3K1 w - - 1 0': '1. Qf8+ Kd5 2. Qd8+ Rd7 3. Qxd7+ Ke4 4. Qxd4#',\n",
       " '2rr2k1/1b3ppp/nq1p4/pB1P2Q1/PpP5/1N6/1P4PP/4RR1K w - - 1 0': '1. Rxf7 g6 2. Qf6 Qg1+ 3. Kxg1 Bxd5 4. Qg7#',\n",
       " 'r3r3/pppq1p1k/1bn2Bp1/3pPb2/1P1P4/P4N2/2BQ1PPP/R3R1K1 w - - 1 0': '1. Qg5 Bg4 2. Qh4+ Bh5 3. Qxh5+ Kg8 4. Qh8#',\n",
       " 'R6R/2kr4/1p3pb1/3prN2/6P1/2P2K2/1P6/8 w - - 1 0': '1. Ra7+ Kc6 2. Rc8+ Rc7 3. Rcxc7+ Kb5 4. Nd4#',\n",
       " '7r/p3R3/BpkP4/2b1P1p1/8/1K2n1B1/P5P1/8 w - - 1 0': '1. Bb7+ Kb5 2. a4+ Ka5 3. Be1+ Bb4 4. Bxb4#',\n",
       " 'rn3rk1/1p3pB1/p4b2/q4P1p/6Q1/1B6/PPp2P1P/R1K3R1 w - - 1 0': '1. Bxf6+ hxg4 2. Rxg4+ Kh7 3. Rh4+ Kg8 4. Rh8#',\n",
       " 'r6r/p1qbB1kp/5p2/3Q2p1/8/P4N2/1P3PPP/4R1K1 w - - 1 0': '1. Bxf6+ Kf8 2. Bg7+ Kxg7 3. Re7+ Kf6 4. Qxg5#',\n",
       " 'r2q4/pp1rpQbk/3p2p1/2pPP2p/5P2/2N5/PPP2P2/2KR3R w - - 1 0': '1. Rxh5+ gxh5 2. Rh1 Kh8 3. Rxh5+ Bh6 4. Rxh6#',\n",
       " '4qk2/6p1/p7/1p1Qp3/r1P2b2/1K5P/1P6/4RR2 w - - 1 0': '1. Rxf4+ exf4 2. Qf5+ Qf7 3. Qc8+ Qe8 4. Qxe8#',\n",
       " 'r1b2rk1/p1qnbp1p/2p3p1/2pp3Q/4pP2/1P1BP1R1/PBPP2PP/RN4K1 w - - 1 0': '1. Qxh7+ Kxh7 2. Rh3+ Bh4 3. Rxh4+ Kg8 4. Rh8#',\n",
       " 'qr3b1r/Q5pp/3p4/1kp5/2Nn1B2/Pp6/1P3PPP/2R1R1K1 w - - 1 0': '1. a4+ Kc6 2. Na5+ Kd5 3. Qf7+ Ne6 4. Rcd1#',\n",
       " 'rnb2r1k/pp2q2p/2p2R2/8/2Bp3Q/8/PPP3PP/RN4K1 w - - 1 0': '1. Rxf8+ Qxf8 2. Qxd4+ Qg7 3. Qd8+ Qg8 4. Qxg8#',\n",
       " '8/8/p6p/1p3Kpk/1P2P3/P1b3P1/2N4P/8 w - - 1 0': '1. Ne3 Be1 2. Ng2 Bxg3 3. hxg3 g4 4. Nf4#',\n",
       " '5rk1/3p1p1p/p4Qq1/1p1P2R1/7N/n6P/2r3PK/8 w - - 1 0': '1. Nf5 Rxg2+ 2. Kxg2 Re8 3. Rxg6+ hxg6 4. Qg7#',\n",
       " '2b3k1/r3q2p/4p1pB/p4r2/4N3/P1Q5/1P4PP/2R2R1K w - - 1 0': '1. Qh8+ Kxh8 2. Rxc8+ Qf8 3. Rxf8+ Rxf8 4. Rxf8#',\n",
       " '6rk/6pp/2p2p2/2B2P1q/1P2Pb2/1Q5P/2P2P2/3R3K w - - 1 0': '1. Qxg8+ Kxg8 2. Rd8+ Qe8 3. Rxe8+ Kf7 4. Rf8#',\n",
       " '7r/p3pk2/1p6/1bp3K1/4BnP1/P1PP4/2n5/1R1R4 b - - 0 1': '1... Nh3+ 2. Kf5 Ne3+ 3. Ke5 Nxg4+ 4. Kf5 Bd7#',\n",
       " '3R4/Q4p1k/2q2Pp1/1p5p/1Pr2b2/P3p3/1B5P/6K1 b - - 0 1': '1... Bxh2+ 2. Kxh2 Rh4+ 3. Kg3 Rg4+ 4. Kh2 Qg2#',\n",
       " '2q4k/5pNP/p2p1BpP/4p3/1p2b3/1P6/P1r2R2/1K4Q1 w - - 1 0': '1. Ne6+ Kxh7 2. Ng5+ Kxh6 3. Qh2+ Qh3 4. Qxh3#',\n",
       " '1r6/1p3K1k/p3N3/P6n/6RP/2P5/8/8 w - - 1 0': '1. Rg6 Nf6 2. Ng5+ Kh8 3. Rh6+ Nh7 4. Rxh7#',\n",
       " '3r2k1/3N3p/4p1pQ/3p1p2/3P4/6BP/q4PPK/8 w - - 1 0': '1. Nf6+ Kf7 2. Qxh7+ Kxf6 3. Be5+ Kg5 4. f4#',\n",
       " 'r1b2k2/1p4pp/p4N1r/4Pp2/P3pP1q/4P2P/1P2Q2K/3R2R1 w - - 1 0': '1. Rd8+ Kf7 2. Qc4+ Be6 3. Qc7+ Bd7 4. Qxd7#',\n",
       " '8/5p1k/4r1p1/2PP1p2/1Q6/1p3bbP/1B2pqP1/R5RK b - - 0 1': '1... Bxg2+ 2. Rxg2 Qf1+ 3. Rxf1 exf1=Q+ 4. Rg1 Qxh3#',\n",
       " 'r4r1k/1bpq1p1n/p1np4/1p1Bb1BQ/P7/6R1/1P3PPP/1N2R1K1 w - - 1 0': '1. Bf6+ Bxf6 2. Be4 Qf5 3. Bxf5 Bxb2 4. Qxh7#',\n",
       " 'rn3rk1/2qp2pp/p3P3/1p1b4/3b4/3B4/PPP1Q1PP/R1B2R1K w - - 1 0': '1. Bxh7+ Kxh7 2. Qh5+ Kg8 3. Rxf8+ Kxf8 4. Qf7#',\n",
       " '6k1/6pp/1q6/4pp2/P5n1/1P6/1P3BPr/R4QK1 b - - 0 1': '1... Rh1+ 2. Kxh1 Qh6+ 3. Bh4 Qxh4+ 4. Kg1 Qh2#',\n",
       " '6k1/1p2q2p/p3P1pB/8/1P2p3/2Qr2P1/P4P1P/2R3K1 w - - 1 0': '1. Qg7+ Qxg7 2. Rc8+ Rd8 3. Rxd8+ Qf8 4. Rxf8#',\n",
       " 'rk1r4/p3RR2/1p3Q2/3q1p2/2p2P2/7P/2P3P1/7K w - - 1 0': '1. Rb7+ Qxb7 2. Qxd8+ Qc8 3. Qd6+ Qc7 4. Qxc7#',\n",
       " '8/R5p1/1R4p1/6k1/5p2/3r4/P3K3/3r4 b - - 0 1': '1... R3d2+ 2. Kf3 Rf1+ 3. Ke4 Re1+ 4. Kf3 Re3#',\n",
       " '8/4k3/P4RR1/2b1r3/3n2Pp/8/5KP1/8 b - - 0 1': '1... Nc2+ 2. Kf3 Ne1+ 3. Kf4 Nd3+ 4. Kf3 Re3#',\n",
       " 'r3n1k1/pb5p/4N1p1/2pr4/q7/3B3P/1P1Q1PP1/2B1R1K1 w - - 1 0': '1. Qh6 Qf4 2. Bxf4 Rf5 3. Bxf5 gxf5 4. Qf8#',\n",
       " 'r1bq1r1k/pp1nb1p1/2p1ppB1/3pP3/2PP4/2P5/P1QN1PPP/R1B1K2R w KQ - 0 1': '1. Qd1 Kg8 2. Qh5 Re8 3. Qh7+ Kf8 4. Qh8#',\n",
       " '3r2k1/1p3p1p/p1n2qp1/2B5/1P2Q2P/6P1/B2bRP2/6K1 w - - 1 0': '1. Qe8+ Rxe8 2. Rxe8+ Kg7 3. Bf8+ Kg8 4. Bh6#',\n",
       " '1r3r2/1p5R/p1n2pp1/1n1B1Pk1/8/8/P1P2BPP/2K1R3 w - - 1 0': '1. Bh4+ Kxf5 2. Be6+ Kf4 3. Bg3+ Kg5 4. h4#',\n",
       " '8/pp3r2/5p2/kPR3p1/3Q4/4P3/q5PK/8 w - - 1 0': '1. b6+ Ka6 2. Qd3+ Qc4 3. Qxc4+ Kxb6 4. Qb5#',\n",
       " '8/2B3R1/2p1pkp1/1r2N3/1p6/7P/2r3PK/8 w - - 1 0': '1. Rf7+ Kg5 2. Bd8+ Kh6 3. Ng4+ Kh5 4. Rh7#',\n",
       " 'r2r4/1p1bn2p/pn2ppkB/5p2/4PQN1/6P1/PPq2PBP/R2R2K1 w - - 1 0': '1. Ne5+ fxe5 2. Qg5+ Kf7 3. Qg7+ Ke8 4. Qf8#',\n",
       " '6k1/6pp/pp1p3q/3P4/P1Q2b2/1NN1r2b/1PP4P/6RK b - - 0 1': '1... Bg2+ 2. Rxg2 Re1+ 3. Qf1 Rxf1+ 4. Rg1 Qxh2#',\n",
       " '3r1rk1/1q2b1n1/p1b1pRpQ/1p2P3/3BN3/P1PB4/1P4PP/4R2K w - - 1 0': '1. Ng5 Bxg2+ 2. Kg1 Rf7 3. Qh7+ Kf8 4. Qh8#',\n",
       " 'r2qr3/pbpnb1kp/1p2Q1p1/3p4/3P4/2P3NP/PPBB2P1/R4RK1 w - - 1 0': '1. Rf7+ Kh8 2. Rxh7+ Kxh7 3. Qxg6+ Kh8 4. Qh7#',\n",
       " 'r1b1qr2/pp2n1k1/3pp1pR/2p2pQ1/4PN2/2NP2P1/PP1K1PB1/n7 w - - 1 0': '1. Nh5+ Kg8 2. Rh8+ Kxh8 3. Qh6+ Kg8 4. Qg7#',\n",
       " 'r1qb1rk1/3R1pp1/p1nR2p1/1p2p2N/6Q1/2P1B3/PP3PPP/6K1 w - - 1 0': '1. Rxg6 fxg6 2. Rxg7+ Kh8 3. Qxg6 Qf5 4. Rh7#',\n",
       " 'r4r1k/pp1b2pn/8/3pR3/5N2/3Q4/Pq3PPP/5RK1 w - - 1 0': '1. Ng6+ Kg8 2. Ne7+ Kh8 3. Qxh7+ Kxh7 4. Rh5#',\n",
       " '1q1r1k2/1b2Rpp1/p1pQ3p/PpPp4/3P1NP1/1P3P1P/6K1/8 w - - 1 0': '1. Rxf7+ Kg8 2. Qg6 Qe5 3. dxe5 Kh8 4. Qxg7#',\n",
       " '8/QrkbR3/3p3p/2pP4/1P3N2/6P1/6pK/2q5 w - - 1 0': '1. Ne6+ Kc8 2. Qa8+ Rb8 3. Qc6+ Bxc6 4. Rc7#',\n",
       " 'k2n1q1r/p1pB2p1/P4pP1/1Qp1p3/8/2P1BbN1/P7/2KR4 w - - 1 0': '1. Bc6+ Bxc6 2. Rxd8+ Qxd8 3. Qxc6+ Kb8 4. Qb7#',\n",
       " '3k4/R7/5N2/1p2n3/6p1/P1N2bP1/1r6/5K2 b - - 0 1': '1... Bg2+ 2. Ke1 Nd3+ 3. Kd1 Bf3+ 4. Ne2 Bxe2#',\n",
       " '4rqk1/1bp2r1p/1p1p2pQ/3P1p2/P1P5/2B3RP/2B3P1/6K1 w - - 1 0': '1. Rxg6+ Qg7 2. Rxg7+ Kf8 3. Rxf7+ Kxf7 4. Qg7#',\n",
       " '7k/3qbR1n/r5p1/3Bp1P1/1p1pP1r1/3P2Q1/1P5K/2R5 w - - 1 0': '1. Rxh7+ Kxh7 2. Qh3+ Rh4 3. Qxh4+ Kg7 4. Qh6#',\n",
       " '8/6pk/2qrQ3/5P1p/5PNK/2n5/7P/4R3 w - - 1 0': '1. Nf6+ gxf6 2. Qf7+ Kh8 3. Qf8+ Kh7 4. Re7#',\n",
       " '8/6k1/6p1/4p1K1/pPp1P1PP/3n1P2/6r1/R7 b - - 0 1': '1... Nf4 2. h5 Ne6+ 3. Kh4 g5+ 4. Kh3 Nf4#',\n",
       " '6k1/1p3pp1/p1b1p2p/q3r1b1/P7/1P5P/1NQ1RPP1/1B4K1 b - - 0 1': '1... Qe1+ 2. Rxe1 Rxe1+ 3. Kh2 Bf4+ 4. g3 Rh1#',\n",
       " '2rk2r1/3b3R/n3pRB1/p2pP1P1/3N4/1Pp5/P1K4P/8 w - - 1 0': '1. Rxd7+ Kxd7 2. Rf7+ Ke8 3. Rg7+ Kf8 4. Nxe6#',\n",
       " '8/pp3pk1/2b2b2/8/2Q2P1r/2P1q2B/PP4PK/5R2 b - - 0 1': '1... Rxh3+ 2. gxh3 Qd2+ 3. Qe2 Qxe2+ 4. Kg1 Qg2#',\n",
       " 'k2r4/pp3p2/2p5/Q3p2p/4Kp1P/5R2/PP4q1/7R b - - 0 1': '1... Rd4+ 2. Kxe5 Qg7+ 3. Kf5 Qg6+ 4. Ke5 Re4#',\n",
       " '3r2r1/4q1Bp/4k3/nBP2p1Q/P3p2P/4P1R1/8/4K3 w - - 1 0': '1. Rg6+ hxg6 2. Qxg6+ Qf6 3. Qxf6+ Kd5 4. Qxf5#',\n",
       " '3r4/1p6/2p4p/5k2/p1P1n2P/3NK1nN/P1r5/1R2R3 b - - 0 1': '1... Rxd3+ 2. Kxd3 Rc3+ 3. Kd4 c5+ 4. Kd5 Rd3#',\n",
       " '6k1/1p5p/1p2bp2/1Pnp1N2/1r6/3nBB2/1P4PP/R5K1 w - - 1 0': '1. Ra8+ Bc8 2. Bxd5+ Ne6 3. Bxe6+ Kf8 4. Rxc8#',\n",
       " '4r2R/3q1kbR/1p4p1/p1pP1pP1/P1P2P2/K5Q1/1P2p3/8 w - - 1 0': '1. Rxg7+ Kxg7 2. Qc3+ Re5 3. Qxe5+ Kf7 4. Qf6#',\n",
       " '2R2bk1/r4ppp/3pp3/1B2n1P1/3QP2P/5P2/1PK5/7q w - - 1 0': '1. Rxf8+ Kxf8 2. Qxd6+ Re7 3. Qb8+ Re8 4. Qxe8#',\n",
       " '1rbq1rk1/p3npbp/2npp1PB/2p5/1p2P3/2NP2P1/PPPQ1PB1/R3K1NR w KQ - 0 1': '1. gxh7+ Kh8 2. Bxg7+ Kxg7 3. Qh6+ Kh8 4. Qf6#',\n",
       " '6r1/3p2qk/4P3/1R5p/3b1prP/3P2B1/2P1QP2/6RK b - - 0 1': '1... Rxh4+ 2. Kg2 Qxg3+ 3. fxg3 Rxg3+ 4. Kf1 Rxg1#',\n",
       " '5k1r/3b4/3p1p2/p4Pqp/1pB5/1P4r1/P1P5/1K1RR2Q w - - 1 0': '1. Qa8+ Bc8 2. Qxc8+ Kg7 3. Re7+ Kh6 4. Qxh8#',\n",
       " 'r3rk2/p3bp2/2p1qB2/1p1nP1RP/3P4/2PQ4/P5P1/5RK1 w - - 1 0': '1. Rg8+ Kxg8 2. Qg3+ Qg4 3. Qxg4+ Kh7 4. Qg7#',\n",
       " '3R4/1p6/p1b1Q2p/6pk/1P6/P6P/1q4PK/8 w - - 1 0': '1. Qf7+ Kh4 2. Rd4+ Be4 3. Rxe4+ g4 4. Rxg4#',\n",
       " '1R3nk1/5pp1/3N2b1/4p1n1/2BqP1Q1/8/8/7K w - - 1 0': '1. Rxf8+ Kxf8 2. Qc8+ Ke7 3. Qc7+ Kf8 4. Qd8#',\n",
       " '2rqnk2/pp2p1b1/3pbpQR/4P1p1/2r3P1/1NN1BP2/PPP5/2K4R w - - 1 0': '1. Rh8+ Bg8 2. Rxg8+ Kxg8 3. e6 Nc7 4. Qf7#',\n",
       " '1k2r3/7p/1p6/2p1r1nP/p1Pp1Np1/3K2P1/PPR2P2/2R5 b - - 0 1': '1... Re3+ 2. fxe3 Rxe3+ 3. Kd2 Nf3+ 4. Kd1 Re1#',\n",
       " '2kr3r/R4Q2/1pq1n3/7p/3R1B1P/2p3P1/2P2P2/6K1 w - - 1 0': '1. Ra8+ Qxa8 2. Rc4+ Qc6 3. Rxc6+ Nc7 4. Qxc7#',\n",
       " '2r2n1k/2q3pp/p2p1b2/2nB1P2/1p1N4/8/PPP4Q/2K3RR w - - 1 0': '1. Qxh7+ Nxh7 2. Rxh7+ Kxh7 3. Rh1+ Bh4 4. Rxh4#',\n",
       " '7r/pp4Q1/1qp2p1r/5k2/2P4P/1PB5/P4PP1/4R1K1 w - - 1 0': '1. Re5+ fxe5 2. Qxe5+ Kg6 3. Qf6+ Kh5 4. Qg5#',\n",
       " '8/2Q1R1bk/3r3p/p2N1p1P/P2P4/1p3Pq1/1P4P1/1K6 w - - 1 0': '1. Nf6+ Rxf6 2. Qxg3 Rf7 3. Rxf7 Kh8 4. Qxg7#',\n",
       " '6k1/6p1/p5p1/3pB3/1p1b4/2r1q1PP/P4R1K/5Q2 w - - 1 0': '1. Rf8+ Kh7 2. Rh8+ Kxh8 3. Qf8+ Kh7 4. Qxg7#',\n",
       " '2rq1rk1/pp4p1/2pb1pN1/n2p3Q/3P4/2N1B3/PPP2PP1/2K4R w - - 1 0': '1. Nh8 Nb3+ 2. Kd1 Bh2 3. Rxh2 Nxd4 4. Qh7#',\n",
       " '4r1k1/3r1p1p/bqp1n3/p2p1NP1/Pn1Q1b2/7P/1PP3B1/R2NR2K w - - 1 0': '1. Rxe6 fxe6 2. Nh6+ Kf8 3. Qf6+ Rf7 4. Qxf7#',\n",
       " '4r3/2RN4/p1r5/1k1p4/5Bp1/p2P4/1P4PK/8 w - - 1 0': '1. Rb7+ Ka4 2. b3+ Ka5 3. Bd2+ Rc3 4. Bxc3#',\n",
       " '4rk1r/p2b1pp1/1q5p/3pR1n1/3N1p2/1P1Q1P2/PBP3PK/4R3 w - - 1 0': '1. Rxe8+ Bxe8 2. Ba3+ Qd6 3. Bxd6+ Kg8 4. Rxe8#',\n",
       " '2b1rqk1/r1p2pp1/pp4n1/3Np1Q1/4P2P/1BP5/PP3P2/2KR2R1 w - - 1 0': '1. Nf6+ gxf6 2. Qxg6+ Kh8 3. Qh5+ Qh6+ 4. Qxh6#',\n",
       " '8/5r2/3R4/3Pp1p1/p2pPk1p/P2PbP2/1P2K2P/4B3 w - - 1 0': '1. Rg6 Bg1 2. Bxh4 Bxh2 3. Rxg5 Bg1 4. Rg4#',\n",
       " 'b4rk1/5Npp/p3B3/1p6/8/3R4/PP4nP/6K1 w - - 1 0': '1. Ne5+ Kh8 2. Ng6+ hxg6 3. Rh3+ Nh4 4. Rxh4#',\n",
       " '1r3r1k/2R4p/q4ppP/3PpQ2/2RbP3/pP6/P2B2P1/1K6 w - - 1 0': '1. Rxh7+ Kxh7 2. Qd7+ Rf7 3. Qxf7+ Kh8 4. Qg7#',\n",
       " '2r1k2r/1p2pp1p/1p2b1pQ/4B3/3n4/2qB4/P1P2PPP/2KRR3 b - - 0 1': '1... Qxc2+ 2. Bxc2 Rxc2+ 3. Kb1 Bxa2+ 4. Ka1 Nb3#',\n",
       " '4q3/pb5p/1p2p2k/4N3/PP1QP3/2P2PP1/6K1/8 w - - 1 0': '1. Ng4+ Kh5 2. Qe5+ Kg6 3. Qf6+ Kh5 4. Qh6#',\n",
       " '7k/1p1P1Qpq/p6p/5p1N/6N1/7P/PP1r1PPK/8 w - - 1 0': '1. Ngf6 gxf6 2. Qxf6+ Kg8 3. Qd8+ Kf7 4. Qe8#',\n",
       " '1R6/rbr2p2/5Pkp/2pBP1p1/ppP3P1/5K1P/P1PR4/8 w - - 1 0': '1. Bxb7 Raxb7 2. Rg8+ Kh7 3. Rg7+ Kh8 4. Rd8#',\n",
       " 'r3r3/2qb1pkp/p2p2pN/1p1pn3/7Q/P3B3/1PP1B1PP/R6K w - - 1 0': '1. Nf5+ gxf5 2. Bh6+ Kg8 3. Qf6 Qxc2 4. Qg7#',\n",
       " '1k6/5Q2/2Rr2pp/pqP5/1p6/7P/2P3PK/4r3 w - - 1 0': '1. Qc7+ Ka8 2. Qc8+ Qb8 3. Qa6+ Qa7 4. Rc8#',\n",
       " '5r1k/4R3/6pP/r1pQPp2/5P2/2p1PN2/2q5/5K1R w - - 1 0': '1. Rh7+ Kxh7 2. Qd7+ Rf7 3. Qxf7+ Kh8 4. Qg7#',\n",
       " '3n3k/1p3B2/p2p1P2/2rP1br1/5p2/2P5/PP6/2KR2R1 w - - 1 0': '1. Rh1+ Bh7 2. Rxh7+ Kxh7 3. Rh1+ Rh5 4. Rxh5#',\n",
       " '2r1rk2/6b1/1q2ppP1/pp1PpQB1/8/PPP2BP1/6K1/7R w - - 1 0': '1. Qxf6+ Bxf6 2. Bxf6 Qf2+ 3. Kxf2 exd5 4. Rh8#',\n",
       " '8/8/8/k1KB4/5r2/4R3/8/8 w - - 1 0': '1. Be4 Rf5+ 2. Bxf5 Ka6 3. Re7 Ka5 4. Ra7#',\n",
       " 'r1b2rk1/5pb1/p1n1p3/4B3/4N2R/8/1PP1p1PP/5RK1 w - - 1 0': '1. Nf6+ Bxf6 2. Bxf6 exf1=Q+ 3. Kxf1 Re8 4. Rh8#',\n",
       " '3r1nQ1/1b4p1/1p3k1p/p1q5/P2N4/5P2/6PP/1B2R2K w - - 1 0': '1. Re6+ Nxe6 2. Qxe6+ Kg5 3. h4+ Kf4 4. Ne2#',\n",
       " '6k1/ppp1q1pp/4p3/P7/1P2P1n1/2P1b2P/5rP1/RN2QB1K b - - 0 1': '1... Qh4 2. Ra2 Qg3 3. hxg4 Rxf1+ 4. Qxf1 Qh4#',\n",
       " '4r1k1/3N1ppp/3r4/8/1n3p1P/5P2/PP3K1P/RN5R b - - 0 1': '1... Nd3+ 2. Kf1 Re1+ 3. Kg2 Rg6+ 4. Kh3 Nf2#',\n",
       " '8/1bn5/ppk4q/1p1pQ2B/5P2/P3R2P/1Pr5/3R3K w - - 1 0': '1. Be8+ Nxe8 2. Qxd5+ Kc7 3. Re7+ Kb8 4. Qxb7#',\n",
       " '1r3k2/5p1p/1qbRp3/2r1Pp2/ppB4Q/1P6/P1P4P/1K1R4 w - - 1 0': '1. Qh6+ Ke7 2. Rxe6+ fxe6 3. Qxe6+ Kf8 4. Qf7#',\n",
       " '5r1k/3q3p/p2B1npb/P2np3/4N3/2N2b2/5PPP/R3QRK1 b - - 0 1': '1... Qh3 2. gxh3 Nf4 3. Ng5 Bxg5 4. Bxf8 Nxh3#',\n",
       " '6k1/8/3PN1p1/3Pp3/6r1/5p2/3q3P/5Q1K b - - 0 1': '1... Qe2 2. Qxe2 fxe2 3. h3 e1=Q+ 4. Kh2 Qg1#',\n",
       " '2r3k1/pb3ppp/8/qP2b3/8/1P6/1P1RQPPP/1K3B1R b - - 0 1': '1... Rc1+ 2. Kxc1 Qa1+ 3. Kc2 Qxb2+ 4. Kd3 Qc3#',\n",
       " 'r1b2RB1/pp4p1/q5kp/5p2/3Q1P2/6P1/1PPK3P/8 w - - 1 0': '1. Bf7+ Kh7 2. Rh8+ Kxh8 3. Qd8+ Kh7 4. Qg8#',\n",
       " 'r3k3/3b3R/1n1p1b1Q/1p1PpP1N/1P2P1P1/6K1/2B1q3/8 w - - 1 0': '1. Rh8+ Bxh8 2. Qxh8+ Kf7 3. Qf6+ Ke8 4. Ng7#',\n",
       " '5k1r/6p1/1Qq2p1p/2r1p3/2B3P1/1P6/1PP5/2K2R2 w - - 1 0': '1. Qd8+ Qe8 2. Rxf6+ gxf6 3. Qxf6+ Qf7 4. Qxf7#',\n",
       " 'r1b2r2/4nn1k/1q2PQ1p/5p2/pp5R/5N2/5PPP/5RK1 w - - 1 0': '1. Ng5+ Kg8 2. exf7+ Rxf7 3. Qxf7+ Kh8 4. Qh7#',\n",
       " '7r/1p3bk1/1Pp2p2/3p2p1/3P1nq1/1QPNR1P1/5P2/5BK1 b - - 0 1': '1... Qh5 2. Bg2 Qh2+ 3. Kf1 Qh1+ 4. Bxh1 Rxh1#',\n",
       " '6r1/pp3p1k/4bQ1p/2p2P1N/2P5/1P5P/1P3P1q/3R1K2 w - - 1 0': '1. Qg7+ Rxg7 2. Nf6+ Kh8 3. Rd8+ Rg8 4. Rxg8#',\n",
       " 'r1bq1rk1/pp1nb1pp/5p2/6B1/3pQ3/3BPN2/PP3PPP/R4RK1 w - - 1 0': '1. Qxh7+ Kf7 2. Bc4+ Ke8 3. Qg6+ Rf7 4. Qxf7#',\n",
       " '3k4/1R6/1P2PNp1/7p/2n4P/8/4rPP1/6K1 w - - 1 0': '1. e7+ Kc8 2. Rc7+ Kb8 3. Nd7+ Ka8 4. Ra7#',\n",
       " '2r3k1/pp2Bp1p/6p1/1P2P3/P7/1q2bP1P/3Q2P1/3R3K w - - 1 0': '1. Qd8+ Rxd8 2. Rxd8+ Kg7 3. Bf8+ Kg8 4. Bh6#',\n",
       " '1R1br1k1/pR5p/2p3pB/2p2P2/P1qp2Q1/2n4P/P5P1/6K1 w - - 1 0': '1. Rg7+ Kh8 2. Rxh7+ Kxh7 3. Qxg6+ Kh8 4. Qg7#',\n",
       " '4kb1r/1R6/p2rp3/2Q1p1q1/4p3/3B4/P6P/4KR2 w - - 1 0': '1. Bb5+ axb5 2. Qxb5+ Kd8 3. Rb8+ Kc7 4. Qb7#',\n",
       " '6k1/2R5/4p1pp/8/5PPK/P3Q2P/1q4r1/8 b - - 0 1': '1... Qf6+ 2. g5 hxg5+ 3. fxg5 Qh8+ 4. Rh7 Qxh7#',\n",
       " '3qr1k1/1pp3rn/p2p1Qp1/3P1pP1/2P2P2/2P2BK1/P6R/7R w - - 1 0': '1. Qxg7+ Kxg7 2. Rxh7+ Kf8 3. Rh8+ Ke7 4. R1h7#',\n",
       " '4rnrk/ppqn2p1/4p1Pp/2p5/2PP1P2/3N3R/PP1N2Q1/1K4R1 w - - 1 0': '1. Rxh6+ gxh6 2. g7+ Kh7 3. Qe4+ Ng6 4. Qxg6#',\n",
       " '5rk1/pp2Rppp/nqp5/8/5Q2/6PB/PPP2P1P/6K1 w - - 1 0': '1. Qxf7+ Rxf7 2. Re8+ Rf8 3. Be6+ Kh8 4. Rxf8#',\n",
       " '3rk3/1q4pp/3B1p2/3R4/1pQ5/1Pb5/P4PPP/6K1 w - - 1 0': '1. Re5+ Kd7 2. Qe6+ Kc6 3. Bb8+ Rd6 4. Qxd6#',\n",
       " '8/3n2pp/2qBkp2/ppPpp1P1/1P2P3/1Q6/P4PP1/6K1 w - - 1 0': '1. Qh3+ Kf7 2. Qh5+ Kg8 3. Qe8+ Nf8 4. Qxf8#',\n",
       " 'r1b2r1k/p1n3b1/7p/5q2/2BpN1p1/P5P1/1P1Q1NP1/2K1R2R w - - 1 0': '1. Rxh6+ Bxh6 2. Qxh6+ Qh7 3. Qxf8+ Qg8 4. Qxg8#',\n",
       " 'r3rb2/2qnk2p/p1bp2pB/n3p1N1/P3P3/2P3N1/Q4PPP/1R2R1K1 w - - 1 0': '1. Qe6+ Kd8 2. Nf7+ Kc8 3. Qxe8+ Qd8 4. Qxd8#',\n",
       " '2q5/p3p2k/3pP1p1/2rN2Pn/1p1Q4/7R/PPr5/1K5R w - - 1 0': '1. Rxh5+ gxh5 2. Rxh5+ Kg6 3. Rh6+ Kxg5 4. Qf4#',\n",
       " '2q3k1/1b1Q2bp/p1n2pp1/1p6/4B3/5N2/1PP2PPP/4R1K1 w - - 1 0': '1. Bd5+ Kh8 2. Re8+ Bf8 3. Qf7 Qxe8 4. Qg8#',\n",
       " '1Q6/1R3pk1/4p2p/p3n3/P3P2P/6PK/r5B1/3q4 b - - 0 1': '1... Qg4+ 2. Kh2 Nf3+ 3. Kh1 Qh3+ 4. Bxh3 Rh2#',\n",
       " 'r4r2/2qnbpkp/b3p3/2ppP1N1/p2P1Q2/P1P5/5PPP/nBBR2K1 w - - 1 0': '1. Nxe6+ fxe6 2. Qh6+ Kf7 3. Qh5+ Kg8 4. Qxh7#',\n",
       " '5Q2/1p3p1N/2p3p1/5b1k/2P3n1/P4RP1/3q2rP/5R1K w - - 1 0': '1. Rxf5+ g5 2. Qxf7+ Kh6 3. Rf6+ Nxf6 4. Rxf6#',\n",
       " 'rn3rk1/pp3p2/2b1pnp1/4N3/3q4/P1NB3R/1P1Q1PPP/R5K1 w - - 1 0': '1. Qh6 Nh5 2. Rxh5 Qxf2+ 3. Kxf2 gxh5 4. Qh7#',\n",
       " 'r4rk1/1q2bp1p/5Rp1/pp1Pp3/4B2Q/P2R4/1PP3PP/7K w - - 1 0': '1. Rh3 h5 2. Qxh5 gxh5 3. Rg3+ Kh8 4. Rh6#',\n",
       " 'r1br1b2/4pPk1/1p1q3p/p2PR3/P1P2N2/1P1Q2P1/5PBK/4R3 w - - 1 0': '1. Re6 Qxe6 2. Rxe6 Bxe6 3. Qg6+ Kh8 4. Qg8#',\n",
       " '6r1/1p1qp1rk/p2pR1p1/3P2Qp/7P/5P2/PPP5/1K4R1 w - - 1 0': '1. Rxg6 Rxg6 2. Qxh5+ Kg7 3. Qxg6+ Kf8 4. Qxg8#',\n",
       " '5rk1/pp1qpR2/6Pp/3ppNbQ/2nP4/B1P5/P5PP/6K1 w - - 1 0': '1. Rg7+ Kh8 2. Qxh6+ Bxh6 3. Rh7+ Kg8 4. Nxh6#',\n",
       " '4k3/1p2rn2/pP1p1Q2/3Pp3/4Pp2/5q2/1PR5/1KN3B1 w - - 1 0': '1. Rc8+ Nd8 2. Qg6+ Kf8 3. Rxd8+ Re8 4. Rxe8#',\n",
       " 'r1br4/1p2bpk1/p1nppn1p/5P2/4P2B/qNNB3R/P1PQ2PP/7K w - - 1 0': '1. Qxh6+ Kg8 2. Rg3+ Ng4 3. Rxg4+ Bg5 4. Rxg5#',\n",
       " '3Q4/6kp/4q1p1/2pnN2P/1p3P2/1Pn3P1/6BK/8 w - - 1 0': '1. h6+ Kxh6 2. Qf8+ Kh5 3. Bf3+ Qg4 4. Bxg4#',\n",
       " '3r3r/ppk2B2/2n1Q1pp/5p2/3p4/q5P1/5P1P/1RR3K1 w - - 1 0': '1. Rxb7+ Kxb7 2. Qxc6+ Kb8 3. Rb1+ Qb4 4. Rxb4#',\n",
       " 'r6r/1q1nbkp1/pn2p2p/1p1pP1P1/3P1N1P/1P1Q1P2/P2B1K2/R6R w - - 1 0': '1. Qg6+ Kg8 2. Qxe6+ Kf8 3. Ng6+ Ke8 4. Qxe7#',\n",
       " '5r1k/r2b1p1p/p4Pp1/1p2R3/3qBQ2/P7/6PP/2R4K w - - 1 0': '1. Qh6 Qd1+ 2. Rxd1 Rg8 3. Rh5 gxh5 4. Qxh7#',\n",
       " '5Q2/1R6/p5p1/3P3k/2p1rP1p/8/4p1PP/q4BK1 w - - 1 0': '1. Rh7+ Kg4 2. Rxh4+ Kxh4 3. Qh6+ Kg4 4. Qg5#',\n",
       " '4r1k1/5q2/p5pQ/3b1pB1/2pP4/2P3P1/1P2R1PK/8 w - - 1 0': '1. Bf6 Qh7 2. Rxe8+ Kf7 3. Qxh7+ Kxe8 4. Qe7#',\n",
       " '5rk1/1R4b1/3p4/1P1P4/4Pp2/3B1Pnb/PqRK1Q2/8 b - - 0 1': '1... Bc3+ 2. Kd1 Qb1+ 3. Rc1 Qxd3+ 4. Qd2 Qxd2#',\n",
       " '2rq1n1Q/p1r2k2/2p1p1p1/1p1pP3/3P2p1/2N4R/PPP2P2/2K4R w - - 1 0': '1. Rh7+ Ke8 2. Qxf8+ Kxf8 3. Rh8+ Ke7 4. R1h7#',\n",
       " '8/pp2k1r1/3Np2p/5p1P/8/2Q3P1/5P1K/1q6 w - - 1 0': '1. Qc7+ Kf6 2. Ne8+ Kg5 3. Qxg7+ Kxh5 4. Nf6#',\n",
       " '2r1rk2/1b2b1p1/p1q2nP1/1p2Q3/4P3/P1N1B3/1PP1B2R/2K4R w - - 1 0': '1. Rf2 Kg8 2. Qh2 Nh5 3. Qxh5 Bh4 4. Qh7#',\n",
       " '4r3/5kp1/1N1p4/2pR1q1p/8/pP3PP1/6K1/3Qr3 b - - 0 1': '1... R8e2+ 2. Qxe2 Rxe2+ 3. Kf1 Qxf3+ 4. Kg1 Qg2#',\n",
       " '2R3nk/3r2b1/p2pr1Q1/4pN2/1P6/P6P/q7/B4RK1 w - - 1 0': '1. Rxg8+ Kxg8 2. Nh6+ Kh8 3. Rf8+ Bxf8 4. Qg8#',\n",
       " '8/6pk/1R2p2p/1P1pPp2/3P1P1K/1r5P/5QP1/2q5 b - - 0 1': '1... g5+ 2. Kh5 Rxh3+ 3. gxh3 Qd1+ 4. Qe2 Qxe2#',\n",
       " '6Q1/1q2N1n1/3p3k/3P3p/2P5/3bp1P1/1P4BP/6K1 w - - 1 0': '1. Qh8+ Bh7 2. Be4 Qxe7 3. Qxh7+ Kg5 4. Qg6#',\n",
       " '2r4k/p4rRp/1p1R3B/5p1q/2Pn4/5p2/PP4QP/1B5K w - - 1 0': '1. Rg8+ Rxg8 2. Qxg8+ Kxg8 3. Rd8+ Rf8 4. Rxf8#',\n",
       " '1r1r4/Rp2np2/3k4/3P3p/2Q2p2/2P4q/1P1N1P1P/6RK w - - 1 0': '1. Ne4+ Kd7 2. Nf6+ Kd6 3. Qxf4+ Kc5 4. Qb4#',\n",
       " 'r2B1bk1/1p5p/2p2p2/p1n5/4P1BP/P1Nb4/KPn3PN/3R3R b - - 0 1': '1... Nb4+ 2. axb4 axb4+ 3. Ba5 Rxa5+ 4. Na4 Rxa4#',\n",
       " '6r1/Q4p2/4pq1k/3p2Nb/P4P1K/4P3/7P/2R5 b - - 0 1': '1... Rxg5 2. Qe7 Rg4+ 3. Kh3 Qxe7 4. Rc8 Qh4#',\n",
       " '5rk1/p3br1p/8/2p3p1/N2pPB2/1P1P1qPb/P2Q3P/R3R1K1 b - - 0 1': '1... Rxf4 2. gxf4 Rxf4 3. Rac1 Rg4+ 4. Qg2 Qxg2#',\n",
       " '3Q1b2/5pk1/p3rNpp/1p2P3/4NP2/nP6/P3q1PP/3R3K w - - 1 0': '1. Qxf8+ Kxf8 2. Rd8+ Re8 3. Rxe8+ Kg7 4. Rg8#',\n",
       " '1r1q4/5k2/1p1p2p1/2p4p/pPP1B1N1/P3Q1P1/2r2P1P/6K1 w - - 1 0': '1. Bd5+ Kf8 2. Qf4+ Qf6 3. Qxf6+ Ke8 4. Bc6#',\n",
       " '3R4/7R/1P2k3/3p1pr1/3B4/2P5/r5b1/5BK1 w - - 1 0': '1. Re8+ Kd6 2. Rh6+ Rg6 3. Rxg6+ Kd7 4. Bb5#',\n",
       " '6k1/pp1n2p1/8/5q2/b1pPp2Q/P1Pr4/4RB2/RK6 b - - 0 1': '1... Qb5+ 2. Rb2 Rd1+ 3. Ka2 Bb3+ 4. Rxb3 Qxb3#',\n",
       " '4Nr1k/1bp2p1p/1r4p1/3P4/1p1q1P1Q/4R3/P5PP/4R2K w - - 1 0': '1. Qh6 Kg8 2. Re5 Qxe5 3. Rxe5 Rxe8 4. Rxe8#',\n",
       " '1r2r2k/1q1n1p1p/p1b1pp2/3pP3/1b5R/2N1BBQ1/1PP3PP/3R3K w - - 1 0': '1. Rxh7+ Kxh7 2. Rd4 Bf8 3. Rh4+ Bh6 4. Rxh6#'}"
      ]
     },
     "execution_count": 8,
     "metadata": {},
     "output_type": "execute_result"
    }
   ],
   "source": [
    "import re\n",
    "puzzles = dict()\n",
    "for line in text:\n",
    "    if re.match(r'[^/]+/[^/]+/[^/]+/[^/]+/[^/]+/[^/]+/[^/]+/[^/]+', line):\n",
    "        puzz = line.strip()\n",
    "        ans = text.readline().strip()\n",
    "        puzzles[puzz] = ans\n",
    "puzzles"
   ]
  },
  {
   "cell_type": "code",
   "execution_count": 9,
   "metadata": {},
   "outputs": [],
   "source": [
    "import json\n",
    "json.dump(puzzles, open('mate_in_4.json', 'w'))"
   ]
  },
  {
   "cell_type": "code",
   "execution_count": 2,
   "metadata": {},
   "outputs": [],
   "source": [
    "from tqdm import tqdm\n",
    "import chess\n",
    "from my_chess_engine import Engine"
   ]
  },
  {
   "cell_type": "code",
   "execution_count": 3,
   "metadata": {},
   "outputs": [
    {
     "name": "stderr",
     "output_type": "stream",
     "text": [
      "  0%|          | 0/489 [00:00<?, ?it/s]  0%|          | 0/489 [00:00<?, ?it/s]"
     ]
    },
    {
     "name": "stdout",
     "output_type": "stream",
     "text": [
      "No move found\n"
     ]
    },
    {
     "name": "stderr",
     "output_type": "stream",
     "text": [
      "\n"
     ]
    },
    {
     "ename": "AttributeError",
     "evalue": "'NoneType' object has no attribute 'from_square'",
     "output_type": "error",
     "traceback": [
      "\u001b[0;31m---------------------------------------------------------------------------\u001b[0m",
      "\u001b[0;31mAttributeError\u001b[0m                            Traceback (most recent call last)",
      "\u001b[0;32m/tmp/ipykernel_45650/2905918299.py\u001b[0m in \u001b[0;36m<module>\u001b[0;34m\u001b[0m\n\u001b[1;32m      2\u001b[0m \u001b[0;32mfor\u001b[0m \u001b[0mpuzzle\u001b[0m \u001b[0;32min\u001b[0m \u001b[0mtqdm\u001b[0m\u001b[0;34m(\u001b[0m\u001b[0mlist\u001b[0m\u001b[0;34m(\u001b[0m\u001b[0mmate_in_3\u001b[0m\u001b[0;34m.\u001b[0m\u001b[0mkeys\u001b[0m\u001b[0;34m(\u001b[0m\u001b[0;34m)\u001b[0m\u001b[0;34m)\u001b[0m\u001b[0;34m)\u001b[0m\u001b[0;34m:\u001b[0m\u001b[0;34m\u001b[0m\u001b[0;34m\u001b[0m\u001b[0m\n\u001b[1;32m      3\u001b[0m     \u001b[0mengine\u001b[0m \u001b[0;34m=\u001b[0m \u001b[0mEngine\u001b[0m\u001b[0;34m(\u001b[0m\u001b[0mpuzzle\u001b[0m\u001b[0;34m)\u001b[0m\u001b[0;34m\u001b[0m\u001b[0;34m\u001b[0m\u001b[0m\n\u001b[0;32m----> 4\u001b[0;31m     \u001b[0mresult\u001b[0m \u001b[0;34m=\u001b[0m \u001b[0mengine\u001b[0m\u001b[0;34m.\u001b[0m\u001b[0malphabet\u001b[0m\u001b[0;34m(\u001b[0m\u001b[0;36m5\u001b[0m\u001b[0;34m)\u001b[0m\u001b[0;34m\u001b[0m\u001b[0;34m\u001b[0m\u001b[0m\n\u001b[0m\u001b[1;32m      5\u001b[0m     \u001b[0;32mif\u001b[0m \u001b[0mengine\u001b[0m\u001b[0;34m.\u001b[0m\u001b[0mboard\u001b[0m\u001b[0;34m.\u001b[0m\u001b[0mis_checkmate\u001b[0m\u001b[0;34m(\u001b[0m\u001b[0;34m)\u001b[0m\u001b[0;34m:\u001b[0m\u001b[0;34m\u001b[0m\u001b[0;34m\u001b[0m\u001b[0m\n\u001b[1;32m      6\u001b[0m         \u001b[0mcorrect\u001b[0m \u001b[0;34m+=\u001b[0m \u001b[0;36m1\u001b[0m\u001b[0;34m\u001b[0m\u001b[0;34m\u001b[0m\u001b[0m\n",
      "\u001b[0;32m~/Desktop/queens_gambit/Week3/my_chess_engine.py\u001b[0m in \u001b[0;36malphabet\u001b[0;34m(self, depth)\u001b[0m\n\u001b[1;32m    289\u001b[0m                 \u001b[0;32mif\u001b[0m \u001b[0mmove\u001b[0m \u001b[0;32mis\u001b[0m \u001b[0;32mNone\u001b[0m\u001b[0;34m:\u001b[0m\u001b[0;34m\u001b[0m\u001b[0;34m\u001b[0m\u001b[0m\n\u001b[1;32m    290\u001b[0m                     \u001b[0mprint\u001b[0m\u001b[0;34m(\u001b[0m\u001b[0;34m'No move'\u001b[0m\u001b[0;34m)\u001b[0m\u001b[0;34m\u001b[0m\u001b[0;34m\u001b[0m\u001b[0m\n\u001b[0;32m--> 291\u001b[0;31m             \u001b[0mself\u001b[0m\u001b[0;34m.\u001b[0m\u001b[0mmake_move\u001b[0m\u001b[0;34m(\u001b[0m\u001b[0mmove\u001b[0m\u001b[0;34m)\u001b[0m\u001b[0;34m\u001b[0m\u001b[0;34m\u001b[0m\u001b[0m\n\u001b[0m\u001b[1;32m    292\u001b[0m             \u001b[0mdept\u001b[0m \u001b[0;34m-=\u001b[0m \u001b[0;36m1\u001b[0m\u001b[0;34m\u001b[0m\u001b[0;34m\u001b[0m\u001b[0m\n\u001b[1;32m    293\u001b[0m         \u001b[0;32mreturn\u001b[0m \u001b[0m_val\u001b[0m\u001b[0;34m,\u001b[0m \u001b[0mmove\u001b[0m\u001b[0;34m\u001b[0m\u001b[0;34m\u001b[0m\u001b[0m\n",
      "\u001b[0;32m~/Desktop/queens_gambit/Week3/my_chess_engine.py\u001b[0m in \u001b[0;36mmake_move\u001b[0;34m(self, move)\u001b[0m\n\u001b[1;32m     30\u001b[0m     \u001b[0;32mdef\u001b[0m \u001b[0mmake_move\u001b[0m\u001b[0;34m(\u001b[0m\u001b[0mself\u001b[0m\u001b[0;34m,\u001b[0m \u001b[0mmove\u001b[0m\u001b[0;34m)\u001b[0m\u001b[0;34m:\u001b[0m\u001b[0;34m\u001b[0m\u001b[0;34m\u001b[0m\u001b[0m\n\u001b[1;32m     31\u001b[0m         \u001b[0mhash\u001b[0m \u001b[0;34m=\u001b[0m \u001b[0mself\u001b[0m\u001b[0;34m.\u001b[0m\u001b[0mhash\u001b[0m \u001b[0;34m>>\u001b[0m \u001b[0;36m8\u001b[0m\u001b[0;34m\u001b[0m\u001b[0;34m\u001b[0m\u001b[0m\n\u001b[0;32m---> 32\u001b[0;31m         \u001b[0;32mif\u001b[0m \u001b[0mself\u001b[0m\u001b[0;34m.\u001b[0m\u001b[0mboard\u001b[0m\u001b[0;34m.\u001b[0m\u001b[0mis_castling\u001b[0m\u001b[0;34m(\u001b[0m\u001b[0mmove\u001b[0m\u001b[0;34m)\u001b[0m\u001b[0;34m:\u001b[0m\u001b[0;34m\u001b[0m\u001b[0;34m\u001b[0m\u001b[0m\n\u001b[0m\u001b[1;32m     33\u001b[0m             \u001b[0;32mif\u001b[0m \u001b[0mmove\u001b[0m\u001b[0;34m.\u001b[0m\u001b[0muci\u001b[0m\u001b[0;34m(\u001b[0m\u001b[0;34m)\u001b[0m \u001b[0;34m==\u001b[0m \u001b[0;34m'e1g1'\u001b[0m \u001b[0;32mand\u001b[0m \u001b[0mself\u001b[0m\u001b[0;34m.\u001b[0m\u001b[0mboard\u001b[0m\u001b[0;34m.\u001b[0m\u001b[0mpiece_at\u001b[0m\u001b[0;34m(\u001b[0m\u001b[0mchess\u001b[0m\u001b[0;34m.\u001b[0m\u001b[0mE1\u001b[0m\u001b[0;34m)\u001b[0m \u001b[0;34m==\u001b[0m \u001b[0mchess\u001b[0m\u001b[0;34m.\u001b[0m\u001b[0mPiece\u001b[0m\u001b[0;34m(\u001b[0m\u001b[0mchess\u001b[0m\u001b[0;34m.\u001b[0m\u001b[0mKING\u001b[0m\u001b[0;34m,\u001b[0m \u001b[0mchess\u001b[0m\u001b[0;34m.\u001b[0m\u001b[0mWHITE\u001b[0m\u001b[0;34m)\u001b[0m\u001b[0;34m:\u001b[0m\u001b[0;34m\u001b[0m\u001b[0;34m\u001b[0m\u001b[0m\n\u001b[1;32m     34\u001b[0m                 \u001b[0mhash\u001b[0m \u001b[0;34m^=\u001b[0m \u001b[0mint\u001b[0m\u001b[0;34m(\u001b[0m\u001b[0mself\u001b[0m\u001b[0;34m.\u001b[0m\u001b[0mpieces\u001b[0m\u001b[0;34m[\u001b[0m\u001b[0mchess\u001b[0m\u001b[0;34m.\u001b[0m\u001b[0mE1\u001b[0m\u001b[0;34m]\u001b[0m\u001b[0;34m[\u001b[0m\u001b[0mself\u001b[0m\u001b[0;34m.\u001b[0m\u001b[0mget_index\u001b[0m\u001b[0;34m(\u001b[0m\u001b[0mchess\u001b[0m\u001b[0;34m.\u001b[0m\u001b[0mPiece\u001b[0m\u001b[0;34m(\u001b[0m\u001b[0mchess\u001b[0m\u001b[0;34m.\u001b[0m\u001b[0mKING\u001b[0m\u001b[0;34m,\u001b[0m \u001b[0mchess\u001b[0m\u001b[0;34m.\u001b[0m\u001b[0mWHITE\u001b[0m\u001b[0;34m)\u001b[0m\u001b[0;34m)\u001b[0m\u001b[0;34m]\u001b[0m\u001b[0;34m)\u001b[0m\u001b[0;34m\u001b[0m\u001b[0;34m\u001b[0m\u001b[0m\n",
      "\u001b[0;32m~/.local/lib/python3.10/site-packages/chess/__init__.py\u001b[0m in \u001b[0;36mis_castling\u001b[0;34m(self, move)\u001b[0m\n\u001b[1;32m   3221\u001b[0m     \u001b[0;32mdef\u001b[0m \u001b[0mis_castling\u001b[0m\u001b[0;34m(\u001b[0m\u001b[0mself\u001b[0m\u001b[0;34m,\u001b[0m \u001b[0mmove\u001b[0m\u001b[0;34m:\u001b[0m \u001b[0mMove\u001b[0m\u001b[0;34m)\u001b[0m \u001b[0;34m->\u001b[0m \u001b[0mbool\u001b[0m\u001b[0;34m:\u001b[0m\u001b[0;34m\u001b[0m\u001b[0;34m\u001b[0m\u001b[0m\n\u001b[1;32m   3222\u001b[0m         \u001b[0;34m\"\"\"Checks if the given pseudo-legal move is a castling move.\"\"\"\u001b[0m\u001b[0;34m\u001b[0m\u001b[0;34m\u001b[0m\u001b[0m\n\u001b[0;32m-> 3223\u001b[0;31m         \u001b[0;32mif\u001b[0m \u001b[0mself\u001b[0m\u001b[0;34m.\u001b[0m\u001b[0mkings\u001b[0m \u001b[0;34m&\u001b[0m \u001b[0mBB_SQUARES\u001b[0m\u001b[0;34m[\u001b[0m\u001b[0mmove\u001b[0m\u001b[0;34m.\u001b[0m\u001b[0mfrom_square\u001b[0m\u001b[0;34m]\u001b[0m\u001b[0;34m:\u001b[0m\u001b[0;34m\u001b[0m\u001b[0;34m\u001b[0m\u001b[0m\n\u001b[0m\u001b[1;32m   3224\u001b[0m             \u001b[0mdiff\u001b[0m \u001b[0;34m=\u001b[0m \u001b[0msquare_file\u001b[0m\u001b[0;34m(\u001b[0m\u001b[0mmove\u001b[0m\u001b[0;34m.\u001b[0m\u001b[0mfrom_square\u001b[0m\u001b[0;34m)\u001b[0m \u001b[0;34m-\u001b[0m \u001b[0msquare_file\u001b[0m\u001b[0;34m(\u001b[0m\u001b[0mmove\u001b[0m\u001b[0;34m.\u001b[0m\u001b[0mto_square\u001b[0m\u001b[0;34m)\u001b[0m\u001b[0;34m\u001b[0m\u001b[0;34m\u001b[0m\u001b[0m\n\u001b[1;32m   3225\u001b[0m             \u001b[0;32mreturn\u001b[0m \u001b[0mabs\u001b[0m\u001b[0;34m(\u001b[0m\u001b[0mdiff\u001b[0m\u001b[0;34m)\u001b[0m \u001b[0;34m>\u001b[0m \u001b[0;36m1\u001b[0m \u001b[0;32mor\u001b[0m \u001b[0mbool\u001b[0m\u001b[0;34m(\u001b[0m\u001b[0mself\u001b[0m\u001b[0;34m.\u001b[0m\u001b[0mrooks\u001b[0m \u001b[0;34m&\u001b[0m \u001b[0mself\u001b[0m\u001b[0;34m.\u001b[0m\u001b[0moccupied_co\u001b[0m\u001b[0;34m[\u001b[0m\u001b[0mself\u001b[0m\u001b[0;34m.\u001b[0m\u001b[0mturn\u001b[0m\u001b[0;34m]\u001b[0m \u001b[0;34m&\u001b[0m \u001b[0mBB_SQUARES\u001b[0m\u001b[0;34m[\u001b[0m\u001b[0mmove\u001b[0m\u001b[0;34m.\u001b[0m\u001b[0mto_square\u001b[0m\u001b[0;34m]\u001b[0m\u001b[0;34m)\u001b[0m\u001b[0;34m\u001b[0m\u001b[0;34m\u001b[0m\u001b[0m\n",
      "\u001b[0;31mAttributeError\u001b[0m: 'NoneType' object has no attribute 'from_square'"
     ]
    }
   ],
   "source": [
    "correct = 0\n",
    "for puzzle in tqdm(list(mate_in_3.keys())):\n",
    "    engine = Engine(puzzle)\n",
    "    result = engine.alphabet(5)\n",
    "    if engine.board.is_checkmate():\n",
    "        correct += 1\n",
    "    else:\n",
    "        print(puzzle)\n",
    "        display(engine.board)"
   ]
  },
  {
   "cell_type": "code",
   "execution_count": 4,
   "metadata": {},
   "outputs": [
    {
     "data": {
      "text/plain": [
       "True"
      ]
     },
     "execution_count": 4,
     "metadata": {},
     "output_type": "execute_result"
    }
   ],
   "source": [
    "# 4093433543212990398470\n",
    "4093433543212990398470 == 4093433543212990398470"
   ]
  },
  {
   "cell_type": "code",
   "execution_count": 5,
   "metadata": {},
   "outputs": [
    {
     "data": {
      "text/plain": [
       "True"
      ]
     },
     "execution_count": 5,
     "metadata": {},
     "output_type": "execute_result"
    }
   ],
   "source": [
    "engine1 = Engine('r1b1k2r/pppp1ppp/5q2/2bKn3/4P3/2N3PN/PPP4P/R1BQ1B1R b kq - 2 2')\n",
    "engine1.hash == 4093433543212990398470"
   ]
  },
  {
   "cell_type": "code",
   "execution_count": 7,
   "metadata": {},
   "outputs": [
    {
     "ename": "ImportError",
     "evalue": "cannot import name 'storage' from 'chess' (/home/balaji/.local/lib/python3.10/site-packages/chess/__init__.py)",
     "output_type": "error",
     "traceback": [
      "\u001b[0;31m---------------------------------------------------------------------------\u001b[0m",
      "\u001b[0;31mImportError\u001b[0m                               Traceback (most recent call last)",
      "\u001b[0;32m/tmp/ipykernel_43313/3601032307.py\u001b[0m in \u001b[0;36m<module>\u001b[0;34m\u001b[0m\n\u001b[0;32m----> 1\u001b[0;31m \u001b[0;32mfrom\u001b[0m \u001b[0mchess\u001b[0m \u001b[0;32mimport\u001b[0m \u001b[0mstorage\u001b[0m\u001b[0;34m\u001b[0m\u001b[0;34m\u001b[0m\u001b[0m\n\u001b[0m",
      "\u001b[0;31mImportError\u001b[0m: cannot import name 'storage' from 'chess' (/home/balaji/.local/lib/python3.10/site-packages/chess/__init__.py)"
     ]
    }
   ],
   "source": []
  },
  {
   "cell_type": "code",
   "execution_count": 4,
   "metadata": {},
   "outputs": [
    {
     "name": "stdout",
     "output_type": "stream",
     "text": [
      "<svg xmlns=\"http://www.w3.org/2000/svg\" xmlns:xlink=\"http://www.w3.org/1999/xlink\" viewBox=\"0 0 390 390\" width=\"400\" height=\"400\"><desc><pre>r n b q k b n r\n",
      "p p p p p p p p\n",
      ". . . . . . . .\n",
      ". . . . . . . .\n",
      ". . . . . . . .\n",
      ". . . . . . . .\n",
      "P P P P P P P P\n",
      "R N B Q K B N R</pre></desc><defs><g id=\"white-pawn\" class=\"white pawn\"><path d=\"M22.5 9c-2.21 0-4 1.79-4 4 0 .89.29 1.71.78 2.38C17.33 16.5 16 18.59 16 21c0 2.03.94 3.84 2.41 5.03-3 1.06-7.41 5.55-7.41 13.47h23c0-7.92-4.41-12.41-7.41-13.47 1.47-1.19 2.41-3 2.41-5.03 0-2.41-1.33-4.5-3.28-5.62.49-.67.78-1.49.78-2.38 0-2.21-1.79-4-4-4z\" fill=\"#fff\" stroke=\"#000\" stroke-width=\"1.5\" stroke-linecap=\"round\" /></g><g id=\"white-knight\" class=\"white knight\" fill=\"none\" fill-rule=\"evenodd\" stroke=\"#000\" stroke-width=\"1.5\" stroke-linecap=\"round\" stroke-linejoin=\"round\"><path d=\"M 22,10 C 32.5,11 38.5,18 38,39 L 15,39 C 15,30 25,32.5 23,18\" style=\"fill:#ffffff; stroke:#000000;\" /><path d=\"M 24,18 C 24.38,20.91 18.45,25.37 16,27 C 13,29 13.18,31.34 11,31 C 9.958,30.06 12.41,27.96 11,28 C 10,28 11.19,29.23 10,30 C 9,30 5.997,31 6,26 C 6,24 12,14 12,14 C 12,14 13.89,12.1 14,10.5 C 13.27,9.506 13.5,8.5 13.5,7.5 C 14.5,6.5 16.5,10 16.5,10 L 18.5,10 C 18.5,10 19.28,8.008 21,7 C 22,7 22,10 22,10\" style=\"fill:#ffffff; stroke:#000000;\" /><path d=\"M 9.5 25.5 A 0.5 0.5 0 1 1 8.5,25.5 A 0.5 0.5 0 1 1 9.5 25.5 z\" style=\"fill:#000000; stroke:#000000;\" /><path d=\"M 15 15.5 A 0.5 1.5 0 1 1 14,15.5 A 0.5 1.5 0 1 1 15 15.5 z\" transform=\"matrix(0.866,0.5,-0.5,0.866,9.693,-5.173)\" style=\"fill:#000000; stroke:#000000;\" /></g><g id=\"white-bishop\" class=\"white bishop\" fill=\"none\" fill-rule=\"evenodd\" stroke=\"#000\" stroke-width=\"1.5\" stroke-linecap=\"round\" stroke-linejoin=\"round\"><g fill=\"#fff\" stroke-linecap=\"butt\"><path d=\"M9 36c3.39-.97 10.11.43 13.5-2 3.39 2.43 10.11 1.03 13.5 2 0 0 1.65.54 3 2-.68.97-1.65.99-3 .5-3.39-.97-10.11.46-13.5-1-3.39 1.46-10.11.03-13.5 1-1.354.49-2.323.47-3-.5 1.354-1.94 3-2 3-2zM15 32c2.5 2.5 12.5 2.5 15 0 .5-1.5 0-2 0-2 0-2.5-2.5-4-2.5-4 5.5-1.5 6-11.5-5-15.5-11 4-10.5 14-5 15.5 0 0-2.5 1.5-2.5 4 0 0-.5.5 0 2zM25 8a2.5 2.5 0 1 1-5 0 2.5 2.5 0 1 1 5 0z\" /></g><path d=\"M17.5 26h10M15 30h15m-7.5-14.5v5M20 18h5\" stroke-linejoin=\"miter\" /></g><g id=\"white-rook\" class=\"white rook\" fill=\"#fff\" fill-rule=\"evenodd\" stroke=\"#000\" stroke-width=\"1.5\" stroke-linecap=\"round\" stroke-linejoin=\"round\"><path d=\"M9 39h27v-3H9v3zM12 36v-4h21v4H12zM11 14V9h4v2h5V9h5v2h5V9h4v5\" stroke-linecap=\"butt\" /><path d=\"M34 14l-3 3H14l-3-3\" /><path d=\"M31 17v12.5H14V17\" stroke-linecap=\"butt\" stroke-linejoin=\"miter\" /><path d=\"M31 29.5l1.5 2.5h-20l1.5-2.5\" /><path d=\"M11 14h23\" fill=\"none\" stroke-linejoin=\"miter\" /></g><g id=\"white-queen\" class=\"white queen\" fill=\"#fff\" fill-rule=\"evenodd\" stroke=\"#000\" stroke-width=\"1.5\" stroke-linecap=\"round\" stroke-linejoin=\"round\"><path d=\"M8 12a2 2 0 1 1-4 0 2 2 0 1 1 4 0zM24.5 7.5a2 2 0 1 1-4 0 2 2 0 1 1 4 0zM41 12a2 2 0 1 1-4 0 2 2 0 1 1 4 0zM16 8.5a2 2 0 1 1-4 0 2 2 0 1 1 4 0zM33 9a2 2 0 1 1-4 0 2 2 0 1 1 4 0z\" /><path d=\"M9 26c8.5-1.5 21-1.5 27 0l2-12-7 11V11l-5.5 13.5-3-15-3 15-5.5-14V25L7 14l2 12zM9 26c0 2 1.5 2 2.5 4 1 1.5 1 1 .5 3.5-1.5 1-1.5 2.5-1.5 2.5-1.5 1.5.5 2.5.5 2.5 6.5 1 16.5 1 23 0 0 0 1.5-1 0-2.5 0 0 .5-1.5-1-2.5-.5-2.5-.5-2 .5-3.5 1-2 2.5-2 2.5-4-8.5-1.5-18.5-1.5-27 0z\" stroke-linecap=\"butt\" /><path d=\"M11.5 30c3.5-1 18.5-1 22 0M12 33.5c6-1 15-1 21 0\" fill=\"none\" /></g><g id=\"white-king\" class=\"white king\" fill=\"none\" fill-rule=\"evenodd\" stroke=\"#000\" stroke-width=\"1.5\" stroke-linecap=\"round\" stroke-linejoin=\"round\"><path d=\"M22.5 11.63V6M20 8h5\" stroke-linejoin=\"miter\" /><path d=\"M22.5 25s4.5-7.5 3-10.5c0 0-1-2.5-3-2.5s-3 2.5-3 2.5c-1.5 3 3 10.5 3 10.5\" fill=\"#fff\" stroke-linecap=\"butt\" stroke-linejoin=\"miter\" /><path d=\"M11.5 37c5.5 3.5 15.5 3.5 21 0v-7s9-4.5 6-10.5c-4-6.5-13.5-3.5-16 4V27v-3.5c-3.5-7.5-13-10.5-16-4-3 6 5 10 5 10V37z\" fill=\"#fff\" /><path d=\"M11.5 30c5.5-3 15.5-3 21 0m-21 3.5c5.5-3 15.5-3 21 0m-21 3.5c5.5-3 15.5-3 21 0\" /></g><g id=\"black-pawn\" class=\"black pawn\"><path d=\"M22.5 9c-2.21 0-4 1.79-4 4 0 .89.29 1.71.78 2.38C17.33 16.5 16 18.59 16 21c0 2.03.94 3.84 2.41 5.03-3 1.06-7.41 5.55-7.41 13.47h23c0-7.92-4.41-12.41-7.41-13.47 1.47-1.19 2.41-3 2.41-5.03 0-2.41-1.33-4.5-3.28-5.62.49-.67.78-1.49.78-2.38 0-2.21-1.79-4-4-4z\" fill=\"#000\" stroke=\"#000\" stroke-width=\"1.5\" stroke-linecap=\"round\" /></g><g id=\"black-knight\" class=\"black knight\" fill=\"none\" fill-rule=\"evenodd\" stroke=\"#000\" stroke-width=\"1.5\" stroke-linecap=\"round\" stroke-linejoin=\"round\"><path d=\"M 22,10 C 32.5,11 38.5,18 38,39 L 15,39 C 15,30 25,32.5 23,18\" style=\"fill:#000000; stroke:#000000;\" /><path d=\"M 24,18 C 24.38,20.91 18.45,25.37 16,27 C 13,29 13.18,31.34 11,31 C 9.958,30.06 12.41,27.96 11,28 C 10,28 11.19,29.23 10,30 C 9,30 5.997,31 6,26 C 6,24 12,14 12,14 C 12,14 13.89,12.1 14,10.5 C 13.27,9.506 13.5,8.5 13.5,7.5 C 14.5,6.5 16.5,10 16.5,10 L 18.5,10 C 18.5,10 19.28,8.008 21,7 C 22,7 22,10 22,10\" style=\"fill:#000000; stroke:#000000;\" /><path d=\"M 9.5 25.5 A 0.5 0.5 0 1 1 8.5,25.5 A 0.5 0.5 0 1 1 9.5 25.5 z\" style=\"fill:#ececec; stroke:#ececec;\" /><path d=\"M 15 15.5 A 0.5 1.5 0 1 1 14,15.5 A 0.5 1.5 0 1 1 15 15.5 z\" transform=\"matrix(0.866,0.5,-0.5,0.866,9.693,-5.173)\" style=\"fill:#ececec; stroke:#ececec;\" /><path d=\"M 24.55,10.4 L 24.1,11.85 L 24.6,12 C 27.75,13 30.25,14.49 32.5,18.75 C 34.75,23.01 35.75,29.06 35.25,39 L 35.2,39.5 L 37.45,39.5 L 37.5,39 C 38,28.94 36.62,22.15 34.25,17.66 C 31.88,13.17 28.46,11.02 25.06,10.5 L 24.55,10.4 z \" style=\"fill:#ececec; stroke:none;\" /></g><g id=\"black-bishop\" class=\"black bishop\" fill=\"none\" fill-rule=\"evenodd\" stroke=\"#000\" stroke-width=\"1.5\" stroke-linecap=\"round\" stroke-linejoin=\"round\"><path d=\"M9 36c3.39-.97 10.11.43 13.5-2 3.39 2.43 10.11 1.03 13.5 2 0 0 1.65.54 3 2-.68.97-1.65.99-3 .5-3.39-.97-10.11.46-13.5-1-3.39 1.46-10.11.03-13.5 1-1.354.49-2.323.47-3-.5 1.354-1.94 3-2 3-2zm6-4c2.5 2.5 12.5 2.5 15 0 .5-1.5 0-2 0-2 0-2.5-2.5-4-2.5-4 5.5-1.5 6-11.5-5-15.5-11 4-10.5 14-5 15.5 0 0-2.5 1.5-2.5 4 0 0-.5.5 0 2zM25 8a2.5 2.5 0 1 1-5 0 2.5 2.5 0 1 1 5 0z\" fill=\"#000\" stroke-linecap=\"butt\" /><path d=\"M17.5 26h10M15 30h15m-7.5-14.5v5M20 18h5\" stroke=\"#fff\" stroke-linejoin=\"miter\" /></g><g id=\"black-rook\" class=\"black rook\" fill=\"#000\" fill-rule=\"evenodd\" stroke=\"#000\" stroke-width=\"1.5\" stroke-linecap=\"round\" stroke-linejoin=\"round\"><path d=\"M9 39h27v-3H9v3zM12.5 32l1.5-2.5h17l1.5 2.5h-20zM12 36v-4h21v4H12z\" stroke-linecap=\"butt\" /><path d=\"M14 29.5v-13h17v13H14z\" stroke-linecap=\"butt\" stroke-linejoin=\"miter\" /><path d=\"M14 16.5L11 14h23l-3 2.5H14zM11 14V9h4v2h5V9h5v2h5V9h4v5H11z\" stroke-linecap=\"butt\" /><path d=\"M12 35.5h21M13 31.5h19M14 29.5h17M14 16.5h17M11 14h23\" fill=\"none\" stroke=\"#fff\" stroke-width=\"1\" stroke-linejoin=\"miter\" /></g><g id=\"black-queen\" class=\"black queen\" fill=\"#000\" fill-rule=\"evenodd\" stroke=\"#000\" stroke-width=\"1.5\" stroke-linecap=\"round\" stroke-linejoin=\"round\"><g fill=\"#000\" stroke=\"none\"><circle cx=\"6\" cy=\"12\" r=\"2.75\" /><circle cx=\"14\" cy=\"9\" r=\"2.75\" /><circle cx=\"22.5\" cy=\"8\" r=\"2.75\" /><circle cx=\"31\" cy=\"9\" r=\"2.75\" /><circle cx=\"39\" cy=\"12\" r=\"2.75\" /></g><path d=\"M9 26c8.5-1.5 21-1.5 27 0l2.5-12.5L31 25l-.3-14.1-5.2 13.6-3-14.5-3 14.5-5.2-13.6L14 25 6.5 13.5 9 26zM9 26c0 2 1.5 2 2.5 4 1 1.5 1 1 .5 3.5-1.5 1-1.5 2.5-1.5 2.5-1.5 1.5.5 2.5.5 2.5 6.5 1 16.5 1 23 0 0 0 1.5-1 0-2.5 0 0 .5-1.5-1-2.5-.5-2.5-.5-2 .5-3.5 1-2 2.5-2 2.5-4-8.5-1.5-18.5-1.5-27 0z\" stroke-linecap=\"butt\" /><path d=\"M11 38.5a35 35 1 0 0 23 0\" fill=\"none\" stroke-linecap=\"butt\" /><path d=\"M11 29a35 35 1 0 1 23 0M12.5 31.5h20M11.5 34.5a35 35 1 0 0 22 0M10.5 37.5a35 35 1 0 0 24 0\" fill=\"none\" stroke=\"#fff\" /></g><g id=\"black-king\" class=\"black king\" fill=\"none\" fill-rule=\"evenodd\" stroke=\"#000\" stroke-width=\"1.5\" stroke-linecap=\"round\" stroke-linejoin=\"round\"><path d=\"M22.5 11.63V6\" stroke-linejoin=\"miter\" /><path d=\"M22.5 25s4.5-7.5 3-10.5c0 0-1-2.5-3-2.5s-3 2.5-3 2.5c-1.5 3 3 10.5 3 10.5\" fill=\"#000\" stroke-linecap=\"butt\" stroke-linejoin=\"miter\" /><path d=\"M11.5 37c5.5 3.5 15.5 3.5 21 0v-7s9-4.5 6-10.5c-4-6.5-13.5-3.5-16 4V27v-3.5c-3.5-7.5-13-10.5-16-4-3 6 5 10 5 10V37z\" fill=\"#000\" /><path d=\"M20 8h5\" stroke-linejoin=\"miter\" /><path d=\"M32 29.5s8.5-4 6.03-9.65C34.15 14 25 18 22.5 24.5l.01 2.1-.01-2.1C20 18 9.906 14 6.997 19.85c-2.497 5.65 4.853 9 4.853 9M11.5 30c5.5-3 15.5-3 21 0m-21 3.5c5.5-3 15.5-3 21 0m-21 3.5c5.5-3 15.5-3 21 0\" stroke=\"#fff\" /></g></defs><rect x=\"7.5\" y=\"7.5\" width=\"375\" height=\"375\" fill=\"none\" stroke=\"#212121\" stroke-width=\"15\" /><g transform=\"translate(20, 1) scale(0.75, 0.75)\" fill=\"#e5e5e5\" stroke=\"#e5e5e5\"><path d=\"M23.328 10.016q-1.742 0-2.414.398-.672.398-.672 1.36 0 .765.5 1.218.508.445 1.375.445 1.196 0 1.914-.843.727-.852.727-2.258v-.32zm2.867-.594v4.992h-1.437v-1.328q-.492.797-1.227 1.18-.734.375-1.797.375-1.343 0-2.14-.75-.79-.758-.79-2.024 0-1.476.985-2.226.992-.75 2.953-.75h2.016V8.75q0-.992-.656-1.531-.649-.547-1.829-.547-.75 0-1.46.18-.711.18-1.368.539V6.062q.79-.304 1.532-.453.742-.156 1.445-.156 1.898 0 2.836.984.937.985.937 2.985z\" /></g><g transform=\"translate(20, 375) scale(0.75, 0.75)\" fill=\"#e5e5e5\" stroke=\"#e5e5e5\"><path d=\"M23.328 10.016q-1.742 0-2.414.398-.672.398-.672 1.36 0 .765.5 1.218.508.445 1.375.445 1.196 0 1.914-.843.727-.852.727-2.258v-.32zm2.867-.594v4.992h-1.437v-1.328q-.492.797-1.227 1.18-.734.375-1.797.375-1.343 0-2.14-.75-.79-.758-.79-2.024 0-1.476.985-2.226.992-.75 2.953-.75h2.016V8.75q0-.992-.656-1.531-.649-.547-1.829-.547-.75 0-1.46.18-.711.18-1.368.539V6.062q.79-.304 1.532-.453.742-.156 1.445-.156 1.898 0 2.836.984.937.985.937 2.985z\" /></g><g transform=\"translate(65, 1) scale(0.75, 0.75)\" fill=\"#e5e5e5\" stroke=\"#e5e5e5\"><path d=\"M24.922 10.047q0-1.586-.656-2.485-.649-.906-1.79-.906-1.14 0-1.796.906-.649.899-.649 2.485 0 1.586.649 2.492.656.898 1.797.898 1.14 0 1.789-.898.656-.906.656-2.492zm-4.89-3.055q.452-.781 1.14-1.156.695-.383 1.656-.383 1.594 0 2.586 1.266 1 1.265 1 3.328 0 2.062-1 3.328-.992 1.266-2.586 1.266-.96 0-1.656-.375-.688-.383-1.14-1.164v1.312h-1.446V2.258h1.445z\" /></g><g transform=\"translate(65, 375) scale(0.75, 0.75)\" fill=\"#e5e5e5\" stroke=\"#e5e5e5\"><path d=\"M24.922 10.047q0-1.586-.656-2.485-.649-.906-1.79-.906-1.14 0-1.796.906-.649.899-.649 2.485 0 1.586.649 2.492.656.898 1.797.898 1.14 0 1.789-.898.656-.906.656-2.492zm-4.89-3.055q.452-.781 1.14-1.156.695-.383 1.656-.383 1.594 0 2.586 1.266 1 1.265 1 3.328 0 2.062-1 3.328-.992 1.266-2.586 1.266-.96 0-1.656-.375-.688-.383-1.14-1.164v1.312h-1.446V2.258h1.445z\" /></g><g transform=\"translate(110, 1) scale(0.75, 0.75)\" fill=\"#e5e5e5\" stroke=\"#e5e5e5\"><path d=\"M25.96 6v1.344q-.608-.336-1.226-.5-.609-.172-1.234-.172-1.398 0-2.172.89-.773.883-.773 2.485 0 1.601.773 2.492.774.883 2.172.883.625 0 1.234-.164.618-.172 1.227-.508v1.328q-.602.281-1.25.422-.64.14-1.367.14-1.977 0-3.14-1.242-1.165-1.242-1.165-3.351 0-2.14 1.172-3.367 1.18-1.227 3.227-1.227.664 0 1.296.14.633.134 1.227.407z\" /></g><g transform=\"translate(110, 375) scale(0.75, 0.75)\" fill=\"#e5e5e5\" stroke=\"#e5e5e5\"><path d=\"M25.96 6v1.344q-.608-.336-1.226-.5-.609-.172-1.234-.172-1.398 0-2.172.89-.773.883-.773 2.485 0 1.601.773 2.492.774.883 2.172.883.625 0 1.234-.164.618-.172 1.227-.508v1.328q-.602.281-1.25.422-.64.14-1.367.14-1.977 0-3.14-1.242-1.165-1.242-1.165-3.351 0-2.14 1.172-3.367 1.18-1.227 3.227-1.227.664 0 1.296.14.633.134 1.227.407z\" /></g><g transform=\"translate(155, 1) scale(0.75, 0.75)\" fill=\"#e5e5e5\" stroke=\"#e5e5e5\"><path d=\"M24.973 6.992V2.258h1.437v12.156h-1.437v-1.312q-.453.78-1.149 1.164-.687.375-1.656.375-1.586 0-2.586-1.266-.992-1.266-.992-3.328 0-2.063.992-3.328 1-1.266 2.586-1.266.969 0 1.656.383.696.375 1.149 1.156zm-4.899 3.055q0 1.586.649 2.492.656.898 1.797.898 1.14 0 1.796-.898.657-.906.657-2.492 0-1.586-.657-2.485-.656-.906-1.796-.906-1.141 0-1.797.906-.649.899-.649 2.485z\" /></g><g transform=\"translate(155, 375) scale(0.75, 0.75)\" fill=\"#e5e5e5\" stroke=\"#e5e5e5\"><path d=\"M24.973 6.992V2.258h1.437v12.156h-1.437v-1.312q-.453.78-1.149 1.164-.687.375-1.656.375-1.586 0-2.586-1.266-.992-1.266-.992-3.328 0-2.063.992-3.328 1-1.266 2.586-1.266.969 0 1.656.383.696.375 1.149 1.156zm-4.899 3.055q0 1.586.649 2.492.656.898 1.797.898 1.14 0 1.796-.898.657-.906.657-2.492 0-1.586-.657-2.485-.656-.906-1.796-.906-1.141 0-1.797.906-.649.899-.649 2.485z\" /></g><g transform=\"translate(200, 1) scale(0.75, 0.75)\" fill=\"#e5e5e5\" stroke=\"#e5e5e5\"><path d=\"M26.555 9.68v.703h-6.61q.094 1.484.89 2.265.806.774 2.235.774.828 0 1.602-.203.781-.203 1.547-.61v1.36q-.774.328-1.586.5-.813.172-1.649.172-2.093 0-3.32-1.22-1.219-1.218-1.219-3.296 0-2.148 1.157-3.406 1.164-1.266 3.132-1.266 1.766 0 2.79 1.14 1.03 1.134 1.03 3.087zm-1.438-.422q-.015-1.18-.664-1.883-.64-.703-1.703-.703-1.203 0-1.93.68-.718.68-.828 1.914z\" /></g><g transform=\"translate(200, 375) scale(0.75, 0.75)\" fill=\"#e5e5e5\" stroke=\"#e5e5e5\"><path d=\"M26.555 9.68v.703h-6.61q.094 1.484.89 2.265.806.774 2.235.774.828 0 1.602-.203.781-.203 1.547-.61v1.36q-.774.328-1.586.5-.813.172-1.649.172-2.093 0-3.32-1.22-1.219-1.218-1.219-3.296 0-2.148 1.157-3.406 1.164-1.266 3.132-1.266 1.766 0 2.79 1.14 1.03 1.134 1.03 3.087zm-1.438-.422q-.015-1.18-.664-1.883-.64-.703-1.703-.703-1.203 0-1.93.68-.718.68-.828 1.914z\" /></g><g transform=\"translate(245, 1) scale(0.75, 0.75)\" fill=\"#e5e5e5\" stroke=\"#e5e5e5\"><path d=\"M25.285 2.258v1.195H23.91q-.773 0-1.078.313-.297.312-.297 1.125v.773h2.367v1.117h-2.367v7.633H21.09V6.781h-1.375V5.664h1.375v-.61q0-1.46.68-2.124.68-.672 2.156-.672z\" /></g><g transform=\"translate(245, 375) scale(0.75, 0.75)\" fill=\"#e5e5e5\" stroke=\"#e5e5e5\"><path d=\"M25.285 2.258v1.195H23.91q-.773 0-1.078.313-.297.312-.297 1.125v.773h2.367v1.117h-2.367v7.633H21.09V6.781h-1.375V5.664h1.375v-.61q0-1.46.68-2.124.68-.672 2.156-.672z\" /></g><g transform=\"translate(290, 1) scale(0.75, 0.75)\" fill=\"#e5e5e5\" stroke=\"#e5e5e5\"><path d=\"M24.973 9.937q0-1.562-.649-2.421-.64-.86-1.804-.86-1.157 0-1.805.86-.64.859-.64 2.421 0 1.555.64 2.415.648.859 1.805.859 1.164 0 1.804-.86.649-.859.649-2.414zm1.437 3.391q0 2.234-.992 3.32-.992 1.094-3.04 1.094-.757 0-1.429-.117-.672-.11-1.304-.344v-1.398q.632.344 1.25.508.617.164 1.257.164 1.414 0 2.118-.743.703-.734.703-2.226v-.711q-.446.773-1.141 1.156-.695.383-1.664.383-1.61 0-2.594-1.227-.984-1.226-.984-3.25 0-2.03.984-3.257.985-1.227 2.594-1.227.969 0 1.664.383t1.14 1.156V5.664h1.438z\" /></g><g transform=\"translate(290, 375) scale(0.75, 0.75)\" fill=\"#e5e5e5\" stroke=\"#e5e5e5\"><path d=\"M24.973 9.937q0-1.562-.649-2.421-.64-.86-1.804-.86-1.157 0-1.805.86-.64.859-.64 2.421 0 1.555.64 2.415.648.859 1.805.859 1.164 0 1.804-.86.649-.859.649-2.414zm1.437 3.391q0 2.234-.992 3.32-.992 1.094-3.04 1.094-.757 0-1.429-.117-.672-.11-1.304-.344v-1.398q.632.344 1.25.508.617.164 1.257.164 1.414 0 2.118-.743.703-.734.703-2.226v-.711q-.446.773-1.141 1.156-.695.383-1.664.383-1.61 0-2.594-1.227-.984-1.226-.984-3.25 0-2.03.984-3.257.985-1.227 2.594-1.227.969 0 1.664.383t1.14 1.156V5.664h1.438z\" /></g><g transform=\"translate(335, 1) scale(0.75, 0.75)\" fill=\"#e5e5e5\" stroke=\"#e5e5e5\"><path d=\"M26.164 9.133v5.281h-1.437V9.18q0-1.243-.485-1.86-.484-.617-1.453-.617-1.164 0-1.836.742-.672.742-.672 2.024v4.945h-1.445V2.258h1.445v4.765q.516-.789 1.211-1.18.703-.39 1.617-.39 1.508 0 2.282.938.773.93.773 2.742z\" /></g><g transform=\"translate(335, 375) scale(0.75, 0.75)\" fill=\"#e5e5e5\" stroke=\"#e5e5e5\"><path d=\"M26.164 9.133v5.281h-1.437V9.18q0-1.243-.485-1.86-.484-.617-1.453-.617-1.164 0-1.836.742-.672.742-.672 2.024v4.945h-1.445V2.258h1.445v4.765q.516-.789 1.211-1.18.703-.39 1.617-.39 1.508 0 2.282.938.773.93.773 2.742z\" /></g><g transform=\"translate(0, 335) scale(0.75, 0.75)\" fill=\"#e5e5e5\" stroke=\"#e5e5e5\"><path d=\"M6.754 26.996h2.578v-8.898l-2.805.562v-1.437l2.79-.563h1.578v10.336h2.578v1.328h-6.72z\" /></g><g transform=\"translate(375, 335) scale(0.75, 0.75)\" fill=\"#e5e5e5\" stroke=\"#e5e5e5\"><path d=\"M6.754 26.996h2.578v-8.898l-2.805.562v-1.437l2.79-.563h1.578v10.336h2.578v1.328h-6.72z\" /></g><g transform=\"translate(0, 290) scale(0.75, 0.75)\" fill=\"#e5e5e5\" stroke=\"#e5e5e5\"><path d=\"M8.195 26.996h5.508v1.328H6.297v-1.328q.898-.93 2.445-2.492 1.555-1.57 1.953-2.024.758-.851 1.055-1.437.305-.594.305-1.164 0-.93-.657-1.516-.648-.586-1.695-.586-.742 0-1.57.258-.82.258-1.758.781v-1.593q.953-.383 1.781-.578.828-.196 1.516-.196 1.812 0 2.89.906 1.079.907 1.079 2.422 0 .72-.274 1.368-.265.64-.976 1.515-.196.227-1.243 1.313-1.046 1.078-2.953 3.023z\" /></g><g transform=\"translate(375, 290) scale(0.75, 0.75)\" fill=\"#e5e5e5\" stroke=\"#e5e5e5\"><path d=\"M8.195 26.996h5.508v1.328H6.297v-1.328q.898-.93 2.445-2.492 1.555-1.57 1.953-2.024.758-.851 1.055-1.437.305-.594.305-1.164 0-.93-.657-1.516-.648-.586-1.695-.586-.742 0-1.57.258-.82.258-1.758.781v-1.593q.953-.383 1.781-.578.828-.196 1.516-.196 1.812 0 2.89.906 1.079.907 1.079 2.422 0 .72-.274 1.368-.265.64-.976 1.515-.196.227-1.243 1.313-1.046 1.078-2.953 3.023z\" /></g><g transform=\"translate(0, 245) scale(0.75, 0.75)\" fill=\"#e5e5e5\" stroke=\"#e5e5e5\"><path d=\"M11.434 22.035q1.132.242 1.765 1.008.64.766.64 1.89 0 1.727-1.187 2.672-1.187.946-3.375.946-.734 0-1.515-.149-.774-.14-1.602-.43V26.45q.656.383 1.438.578.78.196 1.632.196 1.485 0 2.258-.586.782-.586.782-1.703 0-1.032-.727-1.61-.719-.586-2.008-.586h-1.36v-1.297h1.423q1.164 0 1.78-.46.618-.47.618-1.344 0-.899-.64-1.375-.633-.485-1.82-.485-.65 0-1.391.141-.743.14-1.633.437V16.95q.898-.25 1.68-.375.788-.125 1.484-.125 1.797 0 2.844.82 1.046.813 1.046 2.204 0 .968-.554 1.64-.555.664-1.578.922z\" /></g><g transform=\"translate(375, 245) scale(0.75, 0.75)\" fill=\"#e5e5e5\" stroke=\"#e5e5e5\"><path d=\"M11.434 22.035q1.132.242 1.765 1.008.64.766.64 1.89 0 1.727-1.187 2.672-1.187.946-3.375.946-.734 0-1.515-.149-.774-.14-1.602-.43V26.45q.656.383 1.438.578.78.196 1.632.196 1.485 0 2.258-.586.782-.586.782-1.703 0-1.032-.727-1.61-.719-.586-2.008-.586h-1.36v-1.297h1.423q1.164 0 1.78-.46.618-.47.618-1.344 0-.899-.64-1.375-.633-.485-1.82-.485-.65 0-1.391.141-.743.14-1.633.437V16.95q.898-.25 1.68-.375.788-.125 1.484-.125 1.797 0 2.844.82 1.046.813 1.046 2.204 0 .968-.554 1.64-.555.664-1.578.922z\" /></g><g transform=\"translate(0, 200) scale(0.75, 0.75)\" fill=\"#e5e5e5\" stroke=\"#e5e5e5\"><path d=\"M11.016 18.035L7.03 24.262h3.985zm-.414-1.375h1.984v7.602h1.664v1.312h-1.664v2.75h-1.57v-2.75H5.75v-1.523z\" /></g><g transform=\"translate(375, 200) scale(0.75, 0.75)\" fill=\"#e5e5e5\" stroke=\"#e5e5e5\"><path d=\"M11.016 18.035L7.03 24.262h3.985zm-.414-1.375h1.984v7.602h1.664v1.312h-1.664v2.75h-1.57v-2.75H5.75v-1.523z\" /></g><g transform=\"translate(0, 155) scale(0.75, 0.75)\" fill=\"#e5e5e5\" stroke=\"#e5e5e5\"><path d=\"M6.719 16.66h6.195v1.328h-4.75v2.86q.344-.118.688-.172.343-.063.687-.063 1.953 0 3.094 1.07 1.14 1.07 1.14 2.899 0 1.883-1.171 2.93-1.172 1.039-3.305 1.039-.735 0-1.5-.125-.758-.125-1.57-.375v-1.586q.703.383 1.453.57.75.188 1.586.188 1.351 0 2.14-.711.79-.711.79-1.93 0-1.219-.79-1.93-.789-.71-2.14-.71-.633 0-1.266.14-.625.14-1.281.438z\" /></g><g transform=\"translate(375, 155) scale(0.75, 0.75)\" fill=\"#e5e5e5\" stroke=\"#e5e5e5\"><path d=\"M6.719 16.66h6.195v1.328h-4.75v2.86q.344-.118.688-.172.343-.063.687-.063 1.953 0 3.094 1.07 1.14 1.07 1.14 2.899 0 1.883-1.171 2.93-1.172 1.039-3.305 1.039-.735 0-1.5-.125-.758-.125-1.57-.375v-1.586q.703.383 1.453.57.75.188 1.586.188 1.351 0 2.14-.711.79-.711.79-1.93 0-1.219-.79-1.93-.789-.71-2.14-.71-.633 0-1.266.14-.625.14-1.281.438z\" /></g><g transform=\"translate(0, 110) scale(0.75, 0.75)\" fill=\"#e5e5e5\" stroke=\"#e5e5e5\"><path d=\"M10.137 21.863q-1.063 0-1.688.727-.617.726-.617 1.992 0 1.258.617 1.992.625.727 1.688.727 1.062 0 1.68-.727.624-.734.624-1.992 0-1.266-.625-1.992-.617-.727-1.68-.727zm3.133-4.945v1.437q-.594-.28-1.204-.43-.601-.148-1.195-.148-1.562 0-2.39 1.055-.82 1.055-.938 3.188.46-.68 1.156-1.04.696-.367 1.531-.367 1.758 0 2.774 1.07 1.023 1.063 1.023 2.899 0 1.797-1.062 2.883-1.063 1.086-2.828 1.086-2.024 0-3.094-1.547-1.07-1.555-1.07-4.5 0-2.766 1.312-4.406 1.313-1.649 3.524-1.649.593 0 1.195.117.61.118 1.266.352z\" /></g><g transform=\"translate(375, 110) scale(0.75, 0.75)\" fill=\"#e5e5e5\" stroke=\"#e5e5e5\"><path d=\"M10.137 21.863q-1.063 0-1.688.727-.617.726-.617 1.992 0 1.258.617 1.992.625.727 1.688.727 1.062 0 1.68-.727.624-.734.624-1.992 0-1.266-.625-1.992-.617-.727-1.68-.727zm3.133-4.945v1.437q-.594-.28-1.204-.43-.601-.148-1.195-.148-1.562 0-2.39 1.055-.82 1.055-.938 3.188.46-.68 1.156-1.04.696-.367 1.531-.367 1.758 0 2.774 1.07 1.023 1.063 1.023 2.899 0 1.797-1.062 2.883-1.063 1.086-2.828 1.086-2.024 0-3.094-1.547-1.07-1.555-1.07-4.5 0-2.766 1.312-4.406 1.313-1.649 3.524-1.649.593 0 1.195.117.61.118 1.266.352z\" /></g><g transform=\"translate(0, 65) scale(0.75, 0.75)\" fill=\"#e5e5e5\" stroke=\"#e5e5e5\"><path d=\"M6.25 16.66h7.5v.672L9.516 28.324H7.867l3.985-10.336H6.25z\" /></g><g transform=\"translate(375, 65) scale(0.75, 0.75)\" fill=\"#e5e5e5\" stroke=\"#e5e5e5\"><path d=\"M6.25 16.66h7.5v.672L9.516 28.324H7.867l3.985-10.336H6.25z\" /></g><g transform=\"translate(0, 20) scale(0.75, 0.75)\" fill=\"#e5e5e5\" stroke=\"#e5e5e5\"><path d=\"M10 22.785q-1.125 0-1.773.602-.641.601-.641 1.656t.64 1.656q.649.602 1.774.602t1.773-.602q.649-.61.649-1.656 0-1.055-.649-1.656-.64-.602-1.773-.602zm-1.578-.672q-1.016-.25-1.586-.945-.563-.695-.563-1.695 0-1.399.993-2.211 1-.813 2.734-.813 1.742 0 2.734.813.993.812.993 2.21 0 1-.57 1.696-.563.695-1.571.945 1.14.266 1.773 1.04.641.773.641 1.89 0 1.695-1.04 2.602-1.03.906-2.96.906t-2.969-.906Q6 26.738 6 25.043q0-1.117.64-1.89.641-.774 1.782-1.04zm-.578-2.492q0 .906.562 1.414.57.508 1.594.508 1.016 0 1.586-.508.578-.508.578-1.414 0-.906-.578-1.414-.57-.508-1.586-.508-1.023 0-1.594.508-.562.508-.562 1.414z\" /></g><g transform=\"translate(375, 20) scale(0.75, 0.75)\" fill=\"#e5e5e5\" stroke=\"#e5e5e5\"><path d=\"M10 22.785q-1.125 0-1.773.602-.641.601-.641 1.656t.64 1.656q.649.602 1.774.602t1.773-.602q.649-.61.649-1.656 0-1.055-.649-1.656-.64-.602-1.773-.602zm-1.578-.672q-1.016-.25-1.586-.945-.563-.695-.563-1.695 0-1.399.993-2.211 1-.813 2.734-.813 1.742 0 2.734.813.993.812.993 2.21 0 1-.57 1.696-.563.695-1.571.945 1.14.266 1.773 1.04.641.773.641 1.89 0 1.695-1.04 2.602-1.03.906-2.96.906t-2.969-.906Q6 26.738 6 25.043q0-1.117.64-1.89.641-.774 1.782-1.04zm-.578-2.492q0 .906.562 1.414.57.508 1.594.508 1.016 0 1.586-.508.578-.508.578-1.414 0-.906-.578-1.414-.57-.508-1.586-.508-1.023 0-1.594.508-.562.508-.562 1.414z\" /></g><rect x=\"15\" y=\"330\" width=\"45\" height=\"45\" class=\"square dark a1\" stroke=\"none\" fill=\"#d18b47\" /><rect x=\"60\" y=\"330\" width=\"45\" height=\"45\" class=\"square light b1\" stroke=\"none\" fill=\"#ffce9e\" /><rect x=\"105\" y=\"330\" width=\"45\" height=\"45\" class=\"square dark c1\" stroke=\"none\" fill=\"#d18b47\" /><rect x=\"150\" y=\"330\" width=\"45\" height=\"45\" class=\"square light d1\" stroke=\"none\" fill=\"#ffce9e\" /><rect x=\"195\" y=\"330\" width=\"45\" height=\"45\" class=\"square dark e1\" stroke=\"none\" fill=\"#d18b47\" /><rect x=\"240\" y=\"330\" width=\"45\" height=\"45\" class=\"square light f1\" stroke=\"none\" fill=\"#ffce9e\" /><rect x=\"285\" y=\"330\" width=\"45\" height=\"45\" class=\"square dark g1\" stroke=\"none\" fill=\"#d18b47\" /><rect x=\"330\" y=\"330\" width=\"45\" height=\"45\" class=\"square light h1\" stroke=\"none\" fill=\"#ffce9e\" /><rect x=\"15\" y=\"285\" width=\"45\" height=\"45\" class=\"square light a2\" stroke=\"none\" fill=\"#ffce9e\" /><rect x=\"60\" y=\"285\" width=\"45\" height=\"45\" class=\"square dark b2\" stroke=\"none\" fill=\"#d18b47\" /><rect x=\"105\" y=\"285\" width=\"45\" height=\"45\" class=\"square light c2\" stroke=\"none\" fill=\"#ffce9e\" /><rect x=\"150\" y=\"285\" width=\"45\" height=\"45\" class=\"square dark d2\" stroke=\"none\" fill=\"#d18b47\" /><rect x=\"195\" y=\"285\" width=\"45\" height=\"45\" class=\"square light e2\" stroke=\"none\" fill=\"#ffce9e\" /><rect x=\"240\" y=\"285\" width=\"45\" height=\"45\" class=\"square dark f2\" stroke=\"none\" fill=\"#d18b47\" /><rect x=\"285\" y=\"285\" width=\"45\" height=\"45\" class=\"square light g2\" stroke=\"none\" fill=\"#ffce9e\" /><rect x=\"330\" y=\"285\" width=\"45\" height=\"45\" class=\"square dark h2\" stroke=\"none\" fill=\"#d18b47\" /><rect x=\"15\" y=\"240\" width=\"45\" height=\"45\" class=\"square dark a3\" stroke=\"none\" fill=\"#d18b47\" /><rect x=\"60\" y=\"240\" width=\"45\" height=\"45\" class=\"square light b3\" stroke=\"none\" fill=\"#ffce9e\" /><rect x=\"105\" y=\"240\" width=\"45\" height=\"45\" class=\"square dark c3\" stroke=\"none\" fill=\"#d18b47\" /><rect x=\"150\" y=\"240\" width=\"45\" height=\"45\" class=\"square light d3\" stroke=\"none\" fill=\"#ffce9e\" /><rect x=\"195\" y=\"240\" width=\"45\" height=\"45\" class=\"square dark e3\" stroke=\"none\" fill=\"#d18b47\" /><rect x=\"240\" y=\"240\" width=\"45\" height=\"45\" class=\"square light f3\" stroke=\"none\" fill=\"#ffce9e\" /><rect x=\"285\" y=\"240\" width=\"45\" height=\"45\" class=\"square dark g3\" stroke=\"none\" fill=\"#d18b47\" /><rect x=\"330\" y=\"240\" width=\"45\" height=\"45\" class=\"square light h3\" stroke=\"none\" fill=\"#ffce9e\" /><rect x=\"15\" y=\"195\" width=\"45\" height=\"45\" class=\"square light a4\" stroke=\"none\" fill=\"#ffce9e\" /><rect x=\"60\" y=\"195\" width=\"45\" height=\"45\" class=\"square dark b4\" stroke=\"none\" fill=\"#d18b47\" /><rect x=\"105\" y=\"195\" width=\"45\" height=\"45\" class=\"square light c4\" stroke=\"none\" fill=\"#ffce9e\" /><rect x=\"150\" y=\"195\" width=\"45\" height=\"45\" class=\"square dark d4\" stroke=\"none\" fill=\"#d18b47\" /><rect x=\"195\" y=\"195\" width=\"45\" height=\"45\" class=\"square light e4\" stroke=\"none\" fill=\"#ffce9e\" /><rect x=\"240\" y=\"195\" width=\"45\" height=\"45\" class=\"square dark f4\" stroke=\"none\" fill=\"#d18b47\" /><rect x=\"285\" y=\"195\" width=\"45\" height=\"45\" class=\"square light g4\" stroke=\"none\" fill=\"#ffce9e\" /><rect x=\"330\" y=\"195\" width=\"45\" height=\"45\" class=\"square dark h4\" stroke=\"none\" fill=\"#d18b47\" /><rect x=\"15\" y=\"150\" width=\"45\" height=\"45\" class=\"square dark a5\" stroke=\"none\" fill=\"#d18b47\" /><rect x=\"60\" y=\"150\" width=\"45\" height=\"45\" class=\"square light b5\" stroke=\"none\" fill=\"#ffce9e\" /><rect x=\"105\" y=\"150\" width=\"45\" height=\"45\" class=\"square dark c5\" stroke=\"none\" fill=\"#d18b47\" /><rect x=\"150\" y=\"150\" width=\"45\" height=\"45\" class=\"square light d5\" stroke=\"none\" fill=\"#ffce9e\" /><rect x=\"195\" y=\"150\" width=\"45\" height=\"45\" class=\"square dark e5\" stroke=\"none\" fill=\"#d18b47\" /><rect x=\"240\" y=\"150\" width=\"45\" height=\"45\" class=\"square light f5\" stroke=\"none\" fill=\"#ffce9e\" /><rect x=\"285\" y=\"150\" width=\"45\" height=\"45\" class=\"square dark g5\" stroke=\"none\" fill=\"#d18b47\" /><rect x=\"330\" y=\"150\" width=\"45\" height=\"45\" class=\"square light h5\" stroke=\"none\" fill=\"#ffce9e\" /><rect x=\"15\" y=\"105\" width=\"45\" height=\"45\" class=\"square light a6\" stroke=\"none\" fill=\"#ffce9e\" /><rect x=\"60\" y=\"105\" width=\"45\" height=\"45\" class=\"square dark b6\" stroke=\"none\" fill=\"#d18b47\" /><rect x=\"105\" y=\"105\" width=\"45\" height=\"45\" class=\"square light c6\" stroke=\"none\" fill=\"#ffce9e\" /><rect x=\"150\" y=\"105\" width=\"45\" height=\"45\" class=\"square dark d6\" stroke=\"none\" fill=\"#d18b47\" /><rect x=\"195\" y=\"105\" width=\"45\" height=\"45\" class=\"square light e6\" stroke=\"none\" fill=\"#ffce9e\" /><rect x=\"240\" y=\"105\" width=\"45\" height=\"45\" class=\"square dark f6\" stroke=\"none\" fill=\"#d18b47\" /><rect x=\"285\" y=\"105\" width=\"45\" height=\"45\" class=\"square light g6\" stroke=\"none\" fill=\"#ffce9e\" /><rect x=\"330\" y=\"105\" width=\"45\" height=\"45\" class=\"square dark h6\" stroke=\"none\" fill=\"#d18b47\" /><rect x=\"15\" y=\"60\" width=\"45\" height=\"45\" class=\"square dark a7\" stroke=\"none\" fill=\"#d18b47\" /><rect x=\"60\" y=\"60\" width=\"45\" height=\"45\" class=\"square light b7\" stroke=\"none\" fill=\"#ffce9e\" /><rect x=\"105\" y=\"60\" width=\"45\" height=\"45\" class=\"square dark c7\" stroke=\"none\" fill=\"#d18b47\" /><rect x=\"150\" y=\"60\" width=\"45\" height=\"45\" class=\"square light d7\" stroke=\"none\" fill=\"#ffce9e\" /><rect x=\"195\" y=\"60\" width=\"45\" height=\"45\" class=\"square dark e7\" stroke=\"none\" fill=\"#d18b47\" /><rect x=\"240\" y=\"60\" width=\"45\" height=\"45\" class=\"square light f7\" stroke=\"none\" fill=\"#ffce9e\" /><rect x=\"285\" y=\"60\" width=\"45\" height=\"45\" class=\"square dark g7\" stroke=\"none\" fill=\"#d18b47\" /><rect x=\"330\" y=\"60\" width=\"45\" height=\"45\" class=\"square light h7\" stroke=\"none\" fill=\"#ffce9e\" /><rect x=\"15\" y=\"15\" width=\"45\" height=\"45\" class=\"square light a8\" stroke=\"none\" fill=\"#ffce9e\" /><rect x=\"60\" y=\"15\" width=\"45\" height=\"45\" class=\"square dark b8\" stroke=\"none\" fill=\"#d18b47\" /><rect x=\"105\" y=\"15\" width=\"45\" height=\"45\" class=\"square light c8\" stroke=\"none\" fill=\"#ffce9e\" /><rect x=\"150\" y=\"15\" width=\"45\" height=\"45\" class=\"square dark d8\" stroke=\"none\" fill=\"#d18b47\" /><rect x=\"195\" y=\"15\" width=\"45\" height=\"45\" class=\"square light e8\" stroke=\"none\" fill=\"#ffce9e\" /><rect x=\"240\" y=\"15\" width=\"45\" height=\"45\" class=\"square dark f8\" stroke=\"none\" fill=\"#d18b47\" /><rect x=\"285\" y=\"15\" width=\"45\" height=\"45\" class=\"square light g8\" stroke=\"none\" fill=\"#ffce9e\" /><rect x=\"330\" y=\"15\" width=\"45\" height=\"45\" class=\"square dark h8\" stroke=\"none\" fill=\"#d18b47\" /><use href=\"#white-rook\" xlink:href=\"#white-rook\" transform=\"translate(15, 330)\" /><use href=\"#white-knight\" xlink:href=\"#white-knight\" transform=\"translate(60, 330)\" /><use href=\"#white-bishop\" xlink:href=\"#white-bishop\" transform=\"translate(105, 330)\" /><use href=\"#white-queen\" xlink:href=\"#white-queen\" transform=\"translate(150, 330)\" /><use href=\"#white-king\" xlink:href=\"#white-king\" transform=\"translate(195, 330)\" /><use href=\"#white-bishop\" xlink:href=\"#white-bishop\" transform=\"translate(240, 330)\" /><use href=\"#white-knight\" xlink:href=\"#white-knight\" transform=\"translate(285, 330)\" /><use href=\"#white-rook\" xlink:href=\"#white-rook\" transform=\"translate(330, 330)\" /><use href=\"#white-pawn\" xlink:href=\"#white-pawn\" transform=\"translate(15, 285)\" /><use href=\"#white-pawn\" xlink:href=\"#white-pawn\" transform=\"translate(60, 285)\" /><use href=\"#white-pawn\" xlink:href=\"#white-pawn\" transform=\"translate(105, 285)\" /><use href=\"#white-pawn\" xlink:href=\"#white-pawn\" transform=\"translate(150, 285)\" /><use href=\"#white-pawn\" xlink:href=\"#white-pawn\" transform=\"translate(195, 285)\" /><use href=\"#white-pawn\" xlink:href=\"#white-pawn\" transform=\"translate(240, 285)\" /><use href=\"#white-pawn\" xlink:href=\"#white-pawn\" transform=\"translate(285, 285)\" /><use href=\"#white-pawn\" xlink:href=\"#white-pawn\" transform=\"translate(330, 285)\" /><use href=\"#black-pawn\" xlink:href=\"#black-pawn\" transform=\"translate(15, 60)\" /><use href=\"#black-pawn\" xlink:href=\"#black-pawn\" transform=\"translate(60, 60)\" /><use href=\"#black-pawn\" xlink:href=\"#black-pawn\" transform=\"translate(105, 60)\" /><use href=\"#black-pawn\" xlink:href=\"#black-pawn\" transform=\"translate(150, 60)\" /><use href=\"#black-pawn\" xlink:href=\"#black-pawn\" transform=\"translate(195, 60)\" /><use href=\"#black-pawn\" xlink:href=\"#black-pawn\" transform=\"translate(240, 60)\" /><use href=\"#black-pawn\" xlink:href=\"#black-pawn\" transform=\"translate(285, 60)\" /><use href=\"#black-pawn\" xlink:href=\"#black-pawn\" transform=\"translate(330, 60)\" /><use href=\"#black-rook\" xlink:href=\"#black-rook\" transform=\"translate(15, 15)\" /><use href=\"#black-knight\" xlink:href=\"#black-knight\" transform=\"translate(60, 15)\" /><use href=\"#black-bishop\" xlink:href=\"#black-bishop\" transform=\"translate(105, 15)\" /><use href=\"#black-queen\" xlink:href=\"#black-queen\" transform=\"translate(150, 15)\" /><use href=\"#black-king\" xlink:href=\"#black-king\" transform=\"translate(195, 15)\" /><use href=\"#black-bishop\" xlink:href=\"#black-bishop\" transform=\"translate(240, 15)\" /><use href=\"#black-knight\" xlink:href=\"#black-knight\" transform=\"translate(285, 15)\" /><use href=\"#black-rook\" xlink:href=\"#black-rook\" transform=\"translate(330, 15)\" /></svg>\n"
     ]
    }
   ],
   "source": [
    "import chess\n",
    "import chess.svg\n",
    "\n",
    "board = chess.Board()\n",
    "print(chess.svg.board(board, size=400))"
   ]
  },
  {
   "cell_type": "code",
   "execution_count": null,
   "metadata": {},
   "outputs": [],
   "source": []
  }
 ],
 "metadata": {
  "kernelspec": {
   "display_name": "Python 3 (ipykernel)",
   "language": "python",
   "name": "python3"
  },
  "language_info": {
   "codemirror_mode": {
    "name": "ipython",
    "version": 3
   },
   "file_extension": ".py",
   "mimetype": "text/x-python",
   "name": "python",
   "nbconvert_exporter": "python",
   "pygments_lexer": "ipython3",
   "version": "3.10.12"
  }
 },
 "nbformat": 4,
 "nbformat_minor": 2
}
