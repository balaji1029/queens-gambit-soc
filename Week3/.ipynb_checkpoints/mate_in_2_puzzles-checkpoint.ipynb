{
 "cells": [
  {
   "cell_type": "markdown",
   "metadata": {},
   "source": [
    "# Exploring the <code>chess</code> Library"
   ]
  },
  {
   "cell_type": "code",
   "execution_count": 7,
   "metadata": {},
   "outputs": [],
   "source": [
    "import chess"
   ]
  },
  {
   "cell_type": "code",
   "execution_count": 6,
   "metadata": {},
   "outputs": [],
   "source": [
    "board = chess.Board()"
   ]
  },
  {
   "cell_type": "code",
   "execution_count": 7,
   "metadata": {},
   "outputs": [
    {
     "data": {
      "text/plain": [
       "'e4'"
      ]
     },
     "execution_count": 7,
     "metadata": {},
     "output_type": "execute_result"
    }
   ],
   "source": [
    "board.san(chess.Move(chess.E2, chess.E4))"
   ]
  },
  {
   "cell_type": "code",
   "execution_count": 8,
   "metadata": {},
   "outputs": [
    {
     "name": "stdout",
     "output_type": "stream",
     "text": [
      "r n b q k b n r\n",
      "p p p p p p p p\n",
      ". . . . . . . .\n",
      ". . . . . . . .\n",
      ". . . . . . . .\n",
      ". . . . . . . .\n",
      "P P P P P P P P\n",
      "R N B Q K B N R\n"
     ]
    }
   ],
   "source": [
    "print(board)"
   ]
  },
  {
   "cell_type": "code",
   "execution_count": 9,
   "metadata": {},
   "outputs": [
    {
     "data": {
      "text/plain": [
       "Move.from_uci('g1f3')"
      ]
     },
     "execution_count": 9,
     "metadata": {},
     "output_type": "execute_result"
    }
   ],
   "source": [
    "board.push_san(\"Nf3\")"
   ]
  },
  {
   "cell_type": "code",
   "execution_count": 10,
   "metadata": {},
   "outputs": [
    {
     "name": "stdout",
     "output_type": "stream",
     "text": [
      "r n b q k b n r\n",
      "p p p p p p p p\n",
      ". . . . . . . .\n",
      ". . . . . . . .\n",
      ". . . . . . . .\n",
      ". . . . . N . .\n",
      "P P P P P P P P\n",
      "R N B Q K B . R\n"
     ]
    },
    {
     "data": {
      "image/svg+xml": [
       "<svg xmlns=\"http://www.w3.org/2000/svg\" xmlns:xlink=\"http://www.w3.org/1999/xlink\" viewBox=\"0 0 390 390\" width=\"390\" height=\"390\"><desc><pre>r n b q k b n r\n",
       "p p p p p p p p\n",
       ". . . . . . . .\n",
       ". . . . . . . .\n",
       ". . . . . . . .\n",
       ". . . . . N . .\n",
       "P P P P P P P P\n",
       "R N B Q K B . R</pre></desc><defs><g id=\"white-pawn\" class=\"white pawn\"><path d=\"M22.5 9c-2.21 0-4 1.79-4 4 0 .89.29 1.71.78 2.38C17.33 16.5 16 18.59 16 21c0 2.03.94 3.84 2.41 5.03-3 1.06-7.41 5.55-7.41 13.47h23c0-7.92-4.41-12.41-7.41-13.47 1.47-1.19 2.41-3 2.41-5.03 0-2.41-1.33-4.5-3.28-5.62.49-.67.78-1.49.78-2.38 0-2.21-1.79-4-4-4z\" fill=\"#fff\" stroke=\"#000\" stroke-width=\"1.5\" stroke-linecap=\"round\" /></g><g id=\"white-knight\" class=\"white knight\" fill=\"none\" fill-rule=\"evenodd\" stroke=\"#000\" stroke-width=\"1.5\" stroke-linecap=\"round\" stroke-linejoin=\"round\"><path d=\"M 22,10 C 32.5,11 38.5,18 38,39 L 15,39 C 15,30 25,32.5 23,18\" style=\"fill:#ffffff; stroke:#000000;\" /><path d=\"M 24,18 C 24.38,20.91 18.45,25.37 16,27 C 13,29 13.18,31.34 11,31 C 9.958,30.06 12.41,27.96 11,28 C 10,28 11.19,29.23 10,30 C 9,30 5.997,31 6,26 C 6,24 12,14 12,14 C 12,14 13.89,12.1 14,10.5 C 13.27,9.506 13.5,8.5 13.5,7.5 C 14.5,6.5 16.5,10 16.5,10 L 18.5,10 C 18.5,10 19.28,8.008 21,7 C 22,7 22,10 22,10\" style=\"fill:#ffffff; stroke:#000000;\" /><path d=\"M 9.5 25.5 A 0.5 0.5 0 1 1 8.5,25.5 A 0.5 0.5 0 1 1 9.5 25.5 z\" style=\"fill:#000000; stroke:#000000;\" /><path d=\"M 15 15.5 A 0.5 1.5 0 1 1 14,15.5 A 0.5 1.5 0 1 1 15 15.5 z\" transform=\"matrix(0.866,0.5,-0.5,0.866,9.693,-5.173)\" style=\"fill:#000000; stroke:#000000;\" /></g><g id=\"white-bishop\" class=\"white bishop\" fill=\"none\" fill-rule=\"evenodd\" stroke=\"#000\" stroke-width=\"1.5\" stroke-linecap=\"round\" stroke-linejoin=\"round\"><g fill=\"#fff\" stroke-linecap=\"butt\"><path d=\"M9 36c3.39-.97 10.11.43 13.5-2 3.39 2.43 10.11 1.03 13.5 2 0 0 1.65.54 3 2-.68.97-1.65.99-3 .5-3.39-.97-10.11.46-13.5-1-3.39 1.46-10.11.03-13.5 1-1.354.49-2.323.47-3-.5 1.354-1.94 3-2 3-2zM15 32c2.5 2.5 12.5 2.5 15 0 .5-1.5 0-2 0-2 0-2.5-2.5-4-2.5-4 5.5-1.5 6-11.5-5-15.5-11 4-10.5 14-5 15.5 0 0-2.5 1.5-2.5 4 0 0-.5.5 0 2zM25 8a2.5 2.5 0 1 1-5 0 2.5 2.5 0 1 1 5 0z\" /></g><path d=\"M17.5 26h10M15 30h15m-7.5-14.5v5M20 18h5\" stroke-linejoin=\"miter\" /></g><g id=\"white-rook\" class=\"white rook\" fill=\"#fff\" fill-rule=\"evenodd\" stroke=\"#000\" stroke-width=\"1.5\" stroke-linecap=\"round\" stroke-linejoin=\"round\"><path d=\"M9 39h27v-3H9v3zM12 36v-4h21v4H12zM11 14V9h4v2h5V9h5v2h5V9h4v5\" stroke-linecap=\"butt\" /><path d=\"M34 14l-3 3H14l-3-3\" /><path d=\"M31 17v12.5H14V17\" stroke-linecap=\"butt\" stroke-linejoin=\"miter\" /><path d=\"M31 29.5l1.5 2.5h-20l1.5-2.5\" /><path d=\"M11 14h23\" fill=\"none\" stroke-linejoin=\"miter\" /></g><g id=\"white-queen\" class=\"white queen\" fill=\"#fff\" fill-rule=\"evenodd\" stroke=\"#000\" stroke-width=\"1.5\" stroke-linecap=\"round\" stroke-linejoin=\"round\"><path d=\"M8 12a2 2 0 1 1-4 0 2 2 0 1 1 4 0zM24.5 7.5a2 2 0 1 1-4 0 2 2 0 1 1 4 0zM41 12a2 2 0 1 1-4 0 2 2 0 1 1 4 0zM16 8.5a2 2 0 1 1-4 0 2 2 0 1 1 4 0zM33 9a2 2 0 1 1-4 0 2 2 0 1 1 4 0z\" /><path d=\"M9 26c8.5-1.5 21-1.5 27 0l2-12-7 11V11l-5.5 13.5-3-15-3 15-5.5-14V25L7 14l2 12zM9 26c0 2 1.5 2 2.5 4 1 1.5 1 1 .5 3.5-1.5 1-1.5 2.5-1.5 2.5-1.5 1.5.5 2.5.5 2.5 6.5 1 16.5 1 23 0 0 0 1.5-1 0-2.5 0 0 .5-1.5-1-2.5-.5-2.5-.5-2 .5-3.5 1-2 2.5-2 2.5-4-8.5-1.5-18.5-1.5-27 0z\" stroke-linecap=\"butt\" /><path d=\"M11.5 30c3.5-1 18.5-1 22 0M12 33.5c6-1 15-1 21 0\" fill=\"none\" /></g><g id=\"white-king\" class=\"white king\" fill=\"none\" fill-rule=\"evenodd\" stroke=\"#000\" stroke-width=\"1.5\" stroke-linecap=\"round\" stroke-linejoin=\"round\"><path d=\"M22.5 11.63V6M20 8h5\" stroke-linejoin=\"miter\" /><path d=\"M22.5 25s4.5-7.5 3-10.5c0 0-1-2.5-3-2.5s-3 2.5-3 2.5c-1.5 3 3 10.5 3 10.5\" fill=\"#fff\" stroke-linecap=\"butt\" stroke-linejoin=\"miter\" /><path d=\"M11.5 37c5.5 3.5 15.5 3.5 21 0v-7s9-4.5 6-10.5c-4-6.5-13.5-3.5-16 4V27v-3.5c-3.5-7.5-13-10.5-16-4-3 6 5 10 5 10V37z\" fill=\"#fff\" /><path d=\"M11.5 30c5.5-3 15.5-3 21 0m-21 3.5c5.5-3 15.5-3 21 0m-21 3.5c5.5-3 15.5-3 21 0\" /></g><g id=\"black-pawn\" class=\"black pawn\"><path d=\"M22.5 9c-2.21 0-4 1.79-4 4 0 .89.29 1.71.78 2.38C17.33 16.5 16 18.59 16 21c0 2.03.94 3.84 2.41 5.03-3 1.06-7.41 5.55-7.41 13.47h23c0-7.92-4.41-12.41-7.41-13.47 1.47-1.19 2.41-3 2.41-5.03 0-2.41-1.33-4.5-3.28-5.62.49-.67.78-1.49.78-2.38 0-2.21-1.79-4-4-4z\" fill=\"#000\" stroke=\"#000\" stroke-width=\"1.5\" stroke-linecap=\"round\" /></g><g id=\"black-knight\" class=\"black knight\" fill=\"none\" fill-rule=\"evenodd\" stroke=\"#000\" stroke-width=\"1.5\" stroke-linecap=\"round\" stroke-linejoin=\"round\"><path d=\"M 22,10 C 32.5,11 38.5,18 38,39 L 15,39 C 15,30 25,32.5 23,18\" style=\"fill:#000000; stroke:#000000;\" /><path d=\"M 24,18 C 24.38,20.91 18.45,25.37 16,27 C 13,29 13.18,31.34 11,31 C 9.958,30.06 12.41,27.96 11,28 C 10,28 11.19,29.23 10,30 C 9,30 5.997,31 6,26 C 6,24 12,14 12,14 C 12,14 13.89,12.1 14,10.5 C 13.27,9.506 13.5,8.5 13.5,7.5 C 14.5,6.5 16.5,10 16.5,10 L 18.5,10 C 18.5,10 19.28,8.008 21,7 C 22,7 22,10 22,10\" style=\"fill:#000000; stroke:#000000;\" /><path d=\"M 9.5 25.5 A 0.5 0.5 0 1 1 8.5,25.5 A 0.5 0.5 0 1 1 9.5 25.5 z\" style=\"fill:#ececec; stroke:#ececec;\" /><path d=\"M 15 15.5 A 0.5 1.5 0 1 1 14,15.5 A 0.5 1.5 0 1 1 15 15.5 z\" transform=\"matrix(0.866,0.5,-0.5,0.866,9.693,-5.173)\" style=\"fill:#ececec; stroke:#ececec;\" /><path d=\"M 24.55,10.4 L 24.1,11.85 L 24.6,12 C 27.75,13 30.25,14.49 32.5,18.75 C 34.75,23.01 35.75,29.06 35.25,39 L 35.2,39.5 L 37.45,39.5 L 37.5,39 C 38,28.94 36.62,22.15 34.25,17.66 C 31.88,13.17 28.46,11.02 25.06,10.5 L 24.55,10.4 z \" style=\"fill:#ececec; stroke:none;\" /></g><g id=\"black-bishop\" class=\"black bishop\" fill=\"none\" fill-rule=\"evenodd\" stroke=\"#000\" stroke-width=\"1.5\" stroke-linecap=\"round\" stroke-linejoin=\"round\"><path d=\"M9 36c3.39-.97 10.11.43 13.5-2 3.39 2.43 10.11 1.03 13.5 2 0 0 1.65.54 3 2-.68.97-1.65.99-3 .5-3.39-.97-10.11.46-13.5-1-3.39 1.46-10.11.03-13.5 1-1.354.49-2.323.47-3-.5 1.354-1.94 3-2 3-2zm6-4c2.5 2.5 12.5 2.5 15 0 .5-1.5 0-2 0-2 0-2.5-2.5-4-2.5-4 5.5-1.5 6-11.5-5-15.5-11 4-10.5 14-5 15.5 0 0-2.5 1.5-2.5 4 0 0-.5.5 0 2zM25 8a2.5 2.5 0 1 1-5 0 2.5 2.5 0 1 1 5 0z\" fill=\"#000\" stroke-linecap=\"butt\" /><path d=\"M17.5 26h10M15 30h15m-7.5-14.5v5M20 18h5\" stroke=\"#fff\" stroke-linejoin=\"miter\" /></g><g id=\"black-rook\" class=\"black rook\" fill=\"#000\" fill-rule=\"evenodd\" stroke=\"#000\" stroke-width=\"1.5\" stroke-linecap=\"round\" stroke-linejoin=\"round\"><path d=\"M9 39h27v-3H9v3zM12.5 32l1.5-2.5h17l1.5 2.5h-20zM12 36v-4h21v4H12z\" stroke-linecap=\"butt\" /><path d=\"M14 29.5v-13h17v13H14z\" stroke-linecap=\"butt\" stroke-linejoin=\"miter\" /><path d=\"M14 16.5L11 14h23l-3 2.5H14zM11 14V9h4v2h5V9h5v2h5V9h4v5H11z\" stroke-linecap=\"butt\" /><path d=\"M12 35.5h21M13 31.5h19M14 29.5h17M14 16.5h17M11 14h23\" fill=\"none\" stroke=\"#fff\" stroke-width=\"1\" stroke-linejoin=\"miter\" /></g><g id=\"black-queen\" class=\"black queen\" fill=\"#000\" fill-rule=\"evenodd\" stroke=\"#000\" stroke-width=\"1.5\" stroke-linecap=\"round\" stroke-linejoin=\"round\"><g fill=\"#000\" stroke=\"none\"><circle cx=\"6\" cy=\"12\" r=\"2.75\" /><circle cx=\"14\" cy=\"9\" r=\"2.75\" /><circle cx=\"22.5\" cy=\"8\" r=\"2.75\" /><circle cx=\"31\" cy=\"9\" r=\"2.75\" /><circle cx=\"39\" cy=\"12\" r=\"2.75\" /></g><path d=\"M9 26c8.5-1.5 21-1.5 27 0l2.5-12.5L31 25l-.3-14.1-5.2 13.6-3-14.5-3 14.5-5.2-13.6L14 25 6.5 13.5 9 26zM9 26c0 2 1.5 2 2.5 4 1 1.5 1 1 .5 3.5-1.5 1-1.5 2.5-1.5 2.5-1.5 1.5.5 2.5.5 2.5 6.5 1 16.5 1 23 0 0 0 1.5-1 0-2.5 0 0 .5-1.5-1-2.5-.5-2.5-.5-2 .5-3.5 1-2 2.5-2 2.5-4-8.5-1.5-18.5-1.5-27 0z\" stroke-linecap=\"butt\" /><path d=\"M11 38.5a35 35 1 0 0 23 0\" fill=\"none\" stroke-linecap=\"butt\" /><path d=\"M11 29a35 35 1 0 1 23 0M12.5 31.5h20M11.5 34.5a35 35 1 0 0 22 0M10.5 37.5a35 35 1 0 0 24 0\" fill=\"none\" stroke=\"#fff\" /></g><g id=\"black-king\" class=\"black king\" fill=\"none\" fill-rule=\"evenodd\" stroke=\"#000\" stroke-width=\"1.5\" stroke-linecap=\"round\" stroke-linejoin=\"round\"><path d=\"M22.5 11.63V6\" stroke-linejoin=\"miter\" /><path d=\"M22.5 25s4.5-7.5 3-10.5c0 0-1-2.5-3-2.5s-3 2.5-3 2.5c-1.5 3 3 10.5 3 10.5\" fill=\"#000\" stroke-linecap=\"butt\" stroke-linejoin=\"miter\" /><path d=\"M11.5 37c5.5 3.5 15.5 3.5 21 0v-7s9-4.5 6-10.5c-4-6.5-13.5-3.5-16 4V27v-3.5c-3.5-7.5-13-10.5-16-4-3 6 5 10 5 10V37z\" fill=\"#000\" /><path d=\"M20 8h5\" stroke-linejoin=\"miter\" /><path d=\"M32 29.5s8.5-4 6.03-9.65C34.15 14 25 18 22.5 24.5l.01 2.1-.01-2.1C20 18 9.906 14 6.997 19.85c-2.497 5.65 4.853 9 4.853 9M11.5 30c5.5-3 15.5-3 21 0m-21 3.5c5.5-3 15.5-3 21 0m-21 3.5c5.5-3 15.5-3 21 0\" stroke=\"#fff\" /></g></defs><rect x=\"7.5\" y=\"7.5\" width=\"375\" height=\"375\" fill=\"none\" stroke=\"#212121\" stroke-width=\"15\" /><g transform=\"translate(20, 1) scale(0.75, 0.75)\" fill=\"#e5e5e5\" stroke=\"#e5e5e5\"><path d=\"M23.328 10.016q-1.742 0-2.414.398-.672.398-.672 1.36 0 .765.5 1.218.508.445 1.375.445 1.196 0 1.914-.843.727-.852.727-2.258v-.32zm2.867-.594v4.992h-1.437v-1.328q-.492.797-1.227 1.18-.734.375-1.797.375-1.343 0-2.14-.75-.79-.758-.79-2.024 0-1.476.985-2.226.992-.75 2.953-.75h2.016V8.75q0-.992-.656-1.531-.649-.547-1.829-.547-.75 0-1.46.18-.711.18-1.368.539V6.062q.79-.304 1.532-.453.742-.156 1.445-.156 1.898 0 2.836.984.937.985.937 2.985z\" /></g><g transform=\"translate(20, 375) scale(0.75, 0.75)\" fill=\"#e5e5e5\" stroke=\"#e5e5e5\"><path d=\"M23.328 10.016q-1.742 0-2.414.398-.672.398-.672 1.36 0 .765.5 1.218.508.445 1.375.445 1.196 0 1.914-.843.727-.852.727-2.258v-.32zm2.867-.594v4.992h-1.437v-1.328q-.492.797-1.227 1.18-.734.375-1.797.375-1.343 0-2.14-.75-.79-.758-.79-2.024 0-1.476.985-2.226.992-.75 2.953-.75h2.016V8.75q0-.992-.656-1.531-.649-.547-1.829-.547-.75 0-1.46.18-.711.18-1.368.539V6.062q.79-.304 1.532-.453.742-.156 1.445-.156 1.898 0 2.836.984.937.985.937 2.985z\" /></g><g transform=\"translate(65, 1) scale(0.75, 0.75)\" fill=\"#e5e5e5\" stroke=\"#e5e5e5\"><path d=\"M24.922 10.047q0-1.586-.656-2.485-.649-.906-1.79-.906-1.14 0-1.796.906-.649.899-.649 2.485 0 1.586.649 2.492.656.898 1.797.898 1.14 0 1.789-.898.656-.906.656-2.492zm-4.89-3.055q.452-.781 1.14-1.156.695-.383 1.656-.383 1.594 0 2.586 1.266 1 1.265 1 3.328 0 2.062-1 3.328-.992 1.266-2.586 1.266-.96 0-1.656-.375-.688-.383-1.14-1.164v1.312h-1.446V2.258h1.445z\" /></g><g transform=\"translate(65, 375) scale(0.75, 0.75)\" fill=\"#e5e5e5\" stroke=\"#e5e5e5\"><path d=\"M24.922 10.047q0-1.586-.656-2.485-.649-.906-1.79-.906-1.14 0-1.796.906-.649.899-.649 2.485 0 1.586.649 2.492.656.898 1.797.898 1.14 0 1.789-.898.656-.906.656-2.492zm-4.89-3.055q.452-.781 1.14-1.156.695-.383 1.656-.383 1.594 0 2.586 1.266 1 1.265 1 3.328 0 2.062-1 3.328-.992 1.266-2.586 1.266-.96 0-1.656-.375-.688-.383-1.14-1.164v1.312h-1.446V2.258h1.445z\" /></g><g transform=\"translate(110, 1) scale(0.75, 0.75)\" fill=\"#e5e5e5\" stroke=\"#e5e5e5\"><path d=\"M25.96 6v1.344q-.608-.336-1.226-.5-.609-.172-1.234-.172-1.398 0-2.172.89-.773.883-.773 2.485 0 1.601.773 2.492.774.883 2.172.883.625 0 1.234-.164.618-.172 1.227-.508v1.328q-.602.281-1.25.422-.64.14-1.367.14-1.977 0-3.14-1.242-1.165-1.242-1.165-3.351 0-2.14 1.172-3.367 1.18-1.227 3.227-1.227.664 0 1.296.14.633.134 1.227.407z\" /></g><g transform=\"translate(110, 375) scale(0.75, 0.75)\" fill=\"#e5e5e5\" stroke=\"#e5e5e5\"><path d=\"M25.96 6v1.344q-.608-.336-1.226-.5-.609-.172-1.234-.172-1.398 0-2.172.89-.773.883-.773 2.485 0 1.601.773 2.492.774.883 2.172.883.625 0 1.234-.164.618-.172 1.227-.508v1.328q-.602.281-1.25.422-.64.14-1.367.14-1.977 0-3.14-1.242-1.165-1.242-1.165-3.351 0-2.14 1.172-3.367 1.18-1.227 3.227-1.227.664 0 1.296.14.633.134 1.227.407z\" /></g><g transform=\"translate(155, 1) scale(0.75, 0.75)\" fill=\"#e5e5e5\" stroke=\"#e5e5e5\"><path d=\"M24.973 6.992V2.258h1.437v12.156h-1.437v-1.312q-.453.78-1.149 1.164-.687.375-1.656.375-1.586 0-2.586-1.266-.992-1.266-.992-3.328 0-2.063.992-3.328 1-1.266 2.586-1.266.969 0 1.656.383.696.375 1.149 1.156zm-4.899 3.055q0 1.586.649 2.492.656.898 1.797.898 1.14 0 1.796-.898.657-.906.657-2.492 0-1.586-.657-2.485-.656-.906-1.796-.906-1.141 0-1.797.906-.649.899-.649 2.485z\" /></g><g transform=\"translate(155, 375) scale(0.75, 0.75)\" fill=\"#e5e5e5\" stroke=\"#e5e5e5\"><path d=\"M24.973 6.992V2.258h1.437v12.156h-1.437v-1.312q-.453.78-1.149 1.164-.687.375-1.656.375-1.586 0-2.586-1.266-.992-1.266-.992-3.328 0-2.063.992-3.328 1-1.266 2.586-1.266.969 0 1.656.383.696.375 1.149 1.156zm-4.899 3.055q0 1.586.649 2.492.656.898 1.797.898 1.14 0 1.796-.898.657-.906.657-2.492 0-1.586-.657-2.485-.656-.906-1.796-.906-1.141 0-1.797.906-.649.899-.649 2.485z\" /></g><g transform=\"translate(200, 1) scale(0.75, 0.75)\" fill=\"#e5e5e5\" stroke=\"#e5e5e5\"><path d=\"M26.555 9.68v.703h-6.61q.094 1.484.89 2.265.806.774 2.235.774.828 0 1.602-.203.781-.203 1.547-.61v1.36q-.774.328-1.586.5-.813.172-1.649.172-2.093 0-3.32-1.22-1.219-1.218-1.219-3.296 0-2.148 1.157-3.406 1.164-1.266 3.132-1.266 1.766 0 2.79 1.14 1.03 1.134 1.03 3.087zm-1.438-.422q-.015-1.18-.664-1.883-.64-.703-1.703-.703-1.203 0-1.93.68-.718.68-.828 1.914z\" /></g><g transform=\"translate(200, 375) scale(0.75, 0.75)\" fill=\"#e5e5e5\" stroke=\"#e5e5e5\"><path d=\"M26.555 9.68v.703h-6.61q.094 1.484.89 2.265.806.774 2.235.774.828 0 1.602-.203.781-.203 1.547-.61v1.36q-.774.328-1.586.5-.813.172-1.649.172-2.093 0-3.32-1.22-1.219-1.218-1.219-3.296 0-2.148 1.157-3.406 1.164-1.266 3.132-1.266 1.766 0 2.79 1.14 1.03 1.134 1.03 3.087zm-1.438-.422q-.015-1.18-.664-1.883-.64-.703-1.703-.703-1.203 0-1.93.68-.718.68-.828 1.914z\" /></g><g transform=\"translate(245, 1) scale(0.75, 0.75)\" fill=\"#e5e5e5\" stroke=\"#e5e5e5\"><path d=\"M25.285 2.258v1.195H23.91q-.773 0-1.078.313-.297.312-.297 1.125v.773h2.367v1.117h-2.367v7.633H21.09V6.781h-1.375V5.664h1.375v-.61q0-1.46.68-2.124.68-.672 2.156-.672z\" /></g><g transform=\"translate(245, 375) scale(0.75, 0.75)\" fill=\"#e5e5e5\" stroke=\"#e5e5e5\"><path d=\"M25.285 2.258v1.195H23.91q-.773 0-1.078.313-.297.312-.297 1.125v.773h2.367v1.117h-2.367v7.633H21.09V6.781h-1.375V5.664h1.375v-.61q0-1.46.68-2.124.68-.672 2.156-.672z\" /></g><g transform=\"translate(290, 1) scale(0.75, 0.75)\" fill=\"#e5e5e5\" stroke=\"#e5e5e5\"><path d=\"M24.973 9.937q0-1.562-.649-2.421-.64-.86-1.804-.86-1.157 0-1.805.86-.64.859-.64 2.421 0 1.555.64 2.415.648.859 1.805.859 1.164 0 1.804-.86.649-.859.649-2.414zm1.437 3.391q0 2.234-.992 3.32-.992 1.094-3.04 1.094-.757 0-1.429-.117-.672-.11-1.304-.344v-1.398q.632.344 1.25.508.617.164 1.257.164 1.414 0 2.118-.743.703-.734.703-2.226v-.711q-.446.773-1.141 1.156-.695.383-1.664.383-1.61 0-2.594-1.227-.984-1.226-.984-3.25 0-2.03.984-3.257.985-1.227 2.594-1.227.969 0 1.664.383t1.14 1.156V5.664h1.438z\" /></g><g transform=\"translate(290, 375) scale(0.75, 0.75)\" fill=\"#e5e5e5\" stroke=\"#e5e5e5\"><path d=\"M24.973 9.937q0-1.562-.649-2.421-.64-.86-1.804-.86-1.157 0-1.805.86-.64.859-.64 2.421 0 1.555.64 2.415.648.859 1.805.859 1.164 0 1.804-.86.649-.859.649-2.414zm1.437 3.391q0 2.234-.992 3.32-.992 1.094-3.04 1.094-.757 0-1.429-.117-.672-.11-1.304-.344v-1.398q.632.344 1.25.508.617.164 1.257.164 1.414 0 2.118-.743.703-.734.703-2.226v-.711q-.446.773-1.141 1.156-.695.383-1.664.383-1.61 0-2.594-1.227-.984-1.226-.984-3.25 0-2.03.984-3.257.985-1.227 2.594-1.227.969 0 1.664.383t1.14 1.156V5.664h1.438z\" /></g><g transform=\"translate(335, 1) scale(0.75, 0.75)\" fill=\"#e5e5e5\" stroke=\"#e5e5e5\"><path d=\"M26.164 9.133v5.281h-1.437V9.18q0-1.243-.485-1.86-.484-.617-1.453-.617-1.164 0-1.836.742-.672.742-.672 2.024v4.945h-1.445V2.258h1.445v4.765q.516-.789 1.211-1.18.703-.39 1.617-.39 1.508 0 2.282.938.773.93.773 2.742z\" /></g><g transform=\"translate(335, 375) scale(0.75, 0.75)\" fill=\"#e5e5e5\" stroke=\"#e5e5e5\"><path d=\"M26.164 9.133v5.281h-1.437V9.18q0-1.243-.485-1.86-.484-.617-1.453-.617-1.164 0-1.836.742-.672.742-.672 2.024v4.945h-1.445V2.258h1.445v4.765q.516-.789 1.211-1.18.703-.39 1.617-.39 1.508 0 2.282.938.773.93.773 2.742z\" /></g><g transform=\"translate(0, 335) scale(0.75, 0.75)\" fill=\"#e5e5e5\" stroke=\"#e5e5e5\"><path d=\"M6.754 26.996h2.578v-8.898l-2.805.562v-1.437l2.79-.563h1.578v10.336h2.578v1.328h-6.72z\" /></g><g transform=\"translate(375, 335) scale(0.75, 0.75)\" fill=\"#e5e5e5\" stroke=\"#e5e5e5\"><path d=\"M6.754 26.996h2.578v-8.898l-2.805.562v-1.437l2.79-.563h1.578v10.336h2.578v1.328h-6.72z\" /></g><g transform=\"translate(0, 290) scale(0.75, 0.75)\" fill=\"#e5e5e5\" stroke=\"#e5e5e5\"><path d=\"M8.195 26.996h5.508v1.328H6.297v-1.328q.898-.93 2.445-2.492 1.555-1.57 1.953-2.024.758-.851 1.055-1.437.305-.594.305-1.164 0-.93-.657-1.516-.648-.586-1.695-.586-.742 0-1.57.258-.82.258-1.758.781v-1.593q.953-.383 1.781-.578.828-.196 1.516-.196 1.812 0 2.89.906 1.079.907 1.079 2.422 0 .72-.274 1.368-.265.64-.976 1.515-.196.227-1.243 1.313-1.046 1.078-2.953 3.023z\" /></g><g transform=\"translate(375, 290) scale(0.75, 0.75)\" fill=\"#e5e5e5\" stroke=\"#e5e5e5\"><path d=\"M8.195 26.996h5.508v1.328H6.297v-1.328q.898-.93 2.445-2.492 1.555-1.57 1.953-2.024.758-.851 1.055-1.437.305-.594.305-1.164 0-.93-.657-1.516-.648-.586-1.695-.586-.742 0-1.57.258-.82.258-1.758.781v-1.593q.953-.383 1.781-.578.828-.196 1.516-.196 1.812 0 2.89.906 1.079.907 1.079 2.422 0 .72-.274 1.368-.265.64-.976 1.515-.196.227-1.243 1.313-1.046 1.078-2.953 3.023z\" /></g><g transform=\"translate(0, 245) scale(0.75, 0.75)\" fill=\"#e5e5e5\" stroke=\"#e5e5e5\"><path d=\"M11.434 22.035q1.132.242 1.765 1.008.64.766.64 1.89 0 1.727-1.187 2.672-1.187.946-3.375.946-.734 0-1.515-.149-.774-.14-1.602-.43V26.45q.656.383 1.438.578.78.196 1.632.196 1.485 0 2.258-.586.782-.586.782-1.703 0-1.032-.727-1.61-.719-.586-2.008-.586h-1.36v-1.297h1.423q1.164 0 1.78-.46.618-.47.618-1.344 0-.899-.64-1.375-.633-.485-1.82-.485-.65 0-1.391.141-.743.14-1.633.437V16.95q.898-.25 1.68-.375.788-.125 1.484-.125 1.797 0 2.844.82 1.046.813 1.046 2.204 0 .968-.554 1.64-.555.664-1.578.922z\" /></g><g transform=\"translate(375, 245) scale(0.75, 0.75)\" fill=\"#e5e5e5\" stroke=\"#e5e5e5\"><path d=\"M11.434 22.035q1.132.242 1.765 1.008.64.766.64 1.89 0 1.727-1.187 2.672-1.187.946-3.375.946-.734 0-1.515-.149-.774-.14-1.602-.43V26.45q.656.383 1.438.578.78.196 1.632.196 1.485 0 2.258-.586.782-.586.782-1.703 0-1.032-.727-1.61-.719-.586-2.008-.586h-1.36v-1.297h1.423q1.164 0 1.78-.46.618-.47.618-1.344 0-.899-.64-1.375-.633-.485-1.82-.485-.65 0-1.391.141-.743.14-1.633.437V16.95q.898-.25 1.68-.375.788-.125 1.484-.125 1.797 0 2.844.82 1.046.813 1.046 2.204 0 .968-.554 1.64-.555.664-1.578.922z\" /></g><g transform=\"translate(0, 200) scale(0.75, 0.75)\" fill=\"#e5e5e5\" stroke=\"#e5e5e5\"><path d=\"M11.016 18.035L7.03 24.262h3.985zm-.414-1.375h1.984v7.602h1.664v1.312h-1.664v2.75h-1.57v-2.75H5.75v-1.523z\" /></g><g transform=\"translate(375, 200) scale(0.75, 0.75)\" fill=\"#e5e5e5\" stroke=\"#e5e5e5\"><path d=\"M11.016 18.035L7.03 24.262h3.985zm-.414-1.375h1.984v7.602h1.664v1.312h-1.664v2.75h-1.57v-2.75H5.75v-1.523z\" /></g><g transform=\"translate(0, 155) scale(0.75, 0.75)\" fill=\"#e5e5e5\" stroke=\"#e5e5e5\"><path d=\"M6.719 16.66h6.195v1.328h-4.75v2.86q.344-.118.688-.172.343-.063.687-.063 1.953 0 3.094 1.07 1.14 1.07 1.14 2.899 0 1.883-1.171 2.93-1.172 1.039-3.305 1.039-.735 0-1.5-.125-.758-.125-1.57-.375v-1.586q.703.383 1.453.57.75.188 1.586.188 1.351 0 2.14-.711.79-.711.79-1.93 0-1.219-.79-1.93-.789-.71-2.14-.71-.633 0-1.266.14-.625.14-1.281.438z\" /></g><g transform=\"translate(375, 155) scale(0.75, 0.75)\" fill=\"#e5e5e5\" stroke=\"#e5e5e5\"><path d=\"M6.719 16.66h6.195v1.328h-4.75v2.86q.344-.118.688-.172.343-.063.687-.063 1.953 0 3.094 1.07 1.14 1.07 1.14 2.899 0 1.883-1.171 2.93-1.172 1.039-3.305 1.039-.735 0-1.5-.125-.758-.125-1.57-.375v-1.586q.703.383 1.453.57.75.188 1.586.188 1.351 0 2.14-.711.79-.711.79-1.93 0-1.219-.79-1.93-.789-.71-2.14-.71-.633 0-1.266.14-.625.14-1.281.438z\" /></g><g transform=\"translate(0, 110) scale(0.75, 0.75)\" fill=\"#e5e5e5\" stroke=\"#e5e5e5\"><path d=\"M10.137 21.863q-1.063 0-1.688.727-.617.726-.617 1.992 0 1.258.617 1.992.625.727 1.688.727 1.062 0 1.68-.727.624-.734.624-1.992 0-1.266-.625-1.992-.617-.727-1.68-.727zm3.133-4.945v1.437q-.594-.28-1.204-.43-.601-.148-1.195-.148-1.562 0-2.39 1.055-.82 1.055-.938 3.188.46-.68 1.156-1.04.696-.367 1.531-.367 1.758 0 2.774 1.07 1.023 1.063 1.023 2.899 0 1.797-1.062 2.883-1.063 1.086-2.828 1.086-2.024 0-3.094-1.547-1.07-1.555-1.07-4.5 0-2.766 1.312-4.406 1.313-1.649 3.524-1.649.593 0 1.195.117.61.118 1.266.352z\" /></g><g transform=\"translate(375, 110) scale(0.75, 0.75)\" fill=\"#e5e5e5\" stroke=\"#e5e5e5\"><path d=\"M10.137 21.863q-1.063 0-1.688.727-.617.726-.617 1.992 0 1.258.617 1.992.625.727 1.688.727 1.062 0 1.68-.727.624-.734.624-1.992 0-1.266-.625-1.992-.617-.727-1.68-.727zm3.133-4.945v1.437q-.594-.28-1.204-.43-.601-.148-1.195-.148-1.562 0-2.39 1.055-.82 1.055-.938 3.188.46-.68 1.156-1.04.696-.367 1.531-.367 1.758 0 2.774 1.07 1.023 1.063 1.023 2.899 0 1.797-1.062 2.883-1.063 1.086-2.828 1.086-2.024 0-3.094-1.547-1.07-1.555-1.07-4.5 0-2.766 1.312-4.406 1.313-1.649 3.524-1.649.593 0 1.195.117.61.118 1.266.352z\" /></g><g transform=\"translate(0, 65) scale(0.75, 0.75)\" fill=\"#e5e5e5\" stroke=\"#e5e5e5\"><path d=\"M6.25 16.66h7.5v.672L9.516 28.324H7.867l3.985-10.336H6.25z\" /></g><g transform=\"translate(375, 65) scale(0.75, 0.75)\" fill=\"#e5e5e5\" stroke=\"#e5e5e5\"><path d=\"M6.25 16.66h7.5v.672L9.516 28.324H7.867l3.985-10.336H6.25z\" /></g><g transform=\"translate(0, 20) scale(0.75, 0.75)\" fill=\"#e5e5e5\" stroke=\"#e5e5e5\"><path d=\"M10 22.785q-1.125 0-1.773.602-.641.601-.641 1.656t.64 1.656q.649.602 1.774.602t1.773-.602q.649-.61.649-1.656 0-1.055-.649-1.656-.64-.602-1.773-.602zm-1.578-.672q-1.016-.25-1.586-.945-.563-.695-.563-1.695 0-1.399.993-2.211 1-.813 2.734-.813 1.742 0 2.734.813.993.812.993 2.21 0 1-.57 1.696-.563.695-1.571.945 1.14.266 1.773 1.04.641.773.641 1.89 0 1.695-1.04 2.602-1.03.906-2.96.906t-2.969-.906Q6 26.738 6 25.043q0-1.117.64-1.89.641-.774 1.782-1.04zm-.578-2.492q0 .906.562 1.414.57.508 1.594.508 1.016 0 1.586-.508.578-.508.578-1.414 0-.906-.578-1.414-.57-.508-1.586-.508-1.023 0-1.594.508-.562.508-.562 1.414z\" /></g><g transform=\"translate(375, 20) scale(0.75, 0.75)\" fill=\"#e5e5e5\" stroke=\"#e5e5e5\"><path d=\"M10 22.785q-1.125 0-1.773.602-.641.601-.641 1.656t.64 1.656q.649.602 1.774.602t1.773-.602q.649-.61.649-1.656 0-1.055-.649-1.656-.64-.602-1.773-.602zm-1.578-.672q-1.016-.25-1.586-.945-.563-.695-.563-1.695 0-1.399.993-2.211 1-.813 2.734-.813 1.742 0 2.734.813.993.812.993 2.21 0 1-.57 1.696-.563.695-1.571.945 1.14.266 1.773 1.04.641.773.641 1.89 0 1.695-1.04 2.602-1.03.906-2.96.906t-2.969-.906Q6 26.738 6 25.043q0-1.117.64-1.89.641-.774 1.782-1.04zm-.578-2.492q0 .906.562 1.414.57.508 1.594.508 1.016 0 1.586-.508.578-.508.578-1.414 0-.906-.578-1.414-.57-.508-1.586-.508-1.023 0-1.594.508-.562.508-.562 1.414z\" /></g><rect x=\"15\" y=\"330\" width=\"45\" height=\"45\" class=\"square dark a1\" stroke=\"none\" fill=\"#d18b47\" /><rect x=\"60\" y=\"330\" width=\"45\" height=\"45\" class=\"square light b1\" stroke=\"none\" fill=\"#ffce9e\" /><rect x=\"105\" y=\"330\" width=\"45\" height=\"45\" class=\"square dark c1\" stroke=\"none\" fill=\"#d18b47\" /><rect x=\"150\" y=\"330\" width=\"45\" height=\"45\" class=\"square light d1\" stroke=\"none\" fill=\"#ffce9e\" /><rect x=\"195\" y=\"330\" width=\"45\" height=\"45\" class=\"square dark e1\" stroke=\"none\" fill=\"#d18b47\" /><rect x=\"240\" y=\"330\" width=\"45\" height=\"45\" class=\"square light f1\" stroke=\"none\" fill=\"#ffce9e\" /><rect x=\"285\" y=\"330\" width=\"45\" height=\"45\" class=\"square dark lastmove g1\" stroke=\"none\" fill=\"#aaa23b\" /><rect x=\"330\" y=\"330\" width=\"45\" height=\"45\" class=\"square light h1\" stroke=\"none\" fill=\"#ffce9e\" /><rect x=\"15\" y=\"285\" width=\"45\" height=\"45\" class=\"square light a2\" stroke=\"none\" fill=\"#ffce9e\" /><rect x=\"60\" y=\"285\" width=\"45\" height=\"45\" class=\"square dark b2\" stroke=\"none\" fill=\"#d18b47\" /><rect x=\"105\" y=\"285\" width=\"45\" height=\"45\" class=\"square light c2\" stroke=\"none\" fill=\"#ffce9e\" /><rect x=\"150\" y=\"285\" width=\"45\" height=\"45\" class=\"square dark d2\" stroke=\"none\" fill=\"#d18b47\" /><rect x=\"195\" y=\"285\" width=\"45\" height=\"45\" class=\"square light e2\" stroke=\"none\" fill=\"#ffce9e\" /><rect x=\"240\" y=\"285\" width=\"45\" height=\"45\" class=\"square dark f2\" stroke=\"none\" fill=\"#d18b47\" /><rect x=\"285\" y=\"285\" width=\"45\" height=\"45\" class=\"square light g2\" stroke=\"none\" fill=\"#ffce9e\" /><rect x=\"330\" y=\"285\" width=\"45\" height=\"45\" class=\"square dark h2\" stroke=\"none\" fill=\"#d18b47\" /><rect x=\"15\" y=\"240\" width=\"45\" height=\"45\" class=\"square dark a3\" stroke=\"none\" fill=\"#d18b47\" /><rect x=\"60\" y=\"240\" width=\"45\" height=\"45\" class=\"square light b3\" stroke=\"none\" fill=\"#ffce9e\" /><rect x=\"105\" y=\"240\" width=\"45\" height=\"45\" class=\"square dark c3\" stroke=\"none\" fill=\"#d18b47\" /><rect x=\"150\" y=\"240\" width=\"45\" height=\"45\" class=\"square light d3\" stroke=\"none\" fill=\"#ffce9e\" /><rect x=\"195\" y=\"240\" width=\"45\" height=\"45\" class=\"square dark e3\" stroke=\"none\" fill=\"#d18b47\" /><rect x=\"240\" y=\"240\" width=\"45\" height=\"45\" class=\"square light lastmove f3\" stroke=\"none\" fill=\"#cdd16a\" /><rect x=\"285\" y=\"240\" width=\"45\" height=\"45\" class=\"square dark g3\" stroke=\"none\" fill=\"#d18b47\" /><rect x=\"330\" y=\"240\" width=\"45\" height=\"45\" class=\"square light h3\" stroke=\"none\" fill=\"#ffce9e\" /><rect x=\"15\" y=\"195\" width=\"45\" height=\"45\" class=\"square light a4\" stroke=\"none\" fill=\"#ffce9e\" /><rect x=\"60\" y=\"195\" width=\"45\" height=\"45\" class=\"square dark b4\" stroke=\"none\" fill=\"#d18b47\" /><rect x=\"105\" y=\"195\" width=\"45\" height=\"45\" class=\"square light c4\" stroke=\"none\" fill=\"#ffce9e\" /><rect x=\"150\" y=\"195\" width=\"45\" height=\"45\" class=\"square dark d4\" stroke=\"none\" fill=\"#d18b47\" /><rect x=\"195\" y=\"195\" width=\"45\" height=\"45\" class=\"square light e4\" stroke=\"none\" fill=\"#ffce9e\" /><rect x=\"240\" y=\"195\" width=\"45\" height=\"45\" class=\"square dark f4\" stroke=\"none\" fill=\"#d18b47\" /><rect x=\"285\" y=\"195\" width=\"45\" height=\"45\" class=\"square light g4\" stroke=\"none\" fill=\"#ffce9e\" /><rect x=\"330\" y=\"195\" width=\"45\" height=\"45\" class=\"square dark h4\" stroke=\"none\" fill=\"#d18b47\" /><rect x=\"15\" y=\"150\" width=\"45\" height=\"45\" class=\"square dark a5\" stroke=\"none\" fill=\"#d18b47\" /><rect x=\"60\" y=\"150\" width=\"45\" height=\"45\" class=\"square light b5\" stroke=\"none\" fill=\"#ffce9e\" /><rect x=\"105\" y=\"150\" width=\"45\" height=\"45\" class=\"square dark c5\" stroke=\"none\" fill=\"#d18b47\" /><rect x=\"150\" y=\"150\" width=\"45\" height=\"45\" class=\"square light d5\" stroke=\"none\" fill=\"#ffce9e\" /><rect x=\"195\" y=\"150\" width=\"45\" height=\"45\" class=\"square dark e5\" stroke=\"none\" fill=\"#d18b47\" /><rect x=\"240\" y=\"150\" width=\"45\" height=\"45\" class=\"square light f5\" stroke=\"none\" fill=\"#ffce9e\" /><rect x=\"285\" y=\"150\" width=\"45\" height=\"45\" class=\"square dark g5\" stroke=\"none\" fill=\"#d18b47\" /><rect x=\"330\" y=\"150\" width=\"45\" height=\"45\" class=\"square light h5\" stroke=\"none\" fill=\"#ffce9e\" /><rect x=\"15\" y=\"105\" width=\"45\" height=\"45\" class=\"square light a6\" stroke=\"none\" fill=\"#ffce9e\" /><rect x=\"60\" y=\"105\" width=\"45\" height=\"45\" class=\"square dark b6\" stroke=\"none\" fill=\"#d18b47\" /><rect x=\"105\" y=\"105\" width=\"45\" height=\"45\" class=\"square light c6\" stroke=\"none\" fill=\"#ffce9e\" /><rect x=\"150\" y=\"105\" width=\"45\" height=\"45\" class=\"square dark d6\" stroke=\"none\" fill=\"#d18b47\" /><rect x=\"195\" y=\"105\" width=\"45\" height=\"45\" class=\"square light e6\" stroke=\"none\" fill=\"#ffce9e\" /><rect x=\"240\" y=\"105\" width=\"45\" height=\"45\" class=\"square dark f6\" stroke=\"none\" fill=\"#d18b47\" /><rect x=\"285\" y=\"105\" width=\"45\" height=\"45\" class=\"square light g6\" stroke=\"none\" fill=\"#ffce9e\" /><rect x=\"330\" y=\"105\" width=\"45\" height=\"45\" class=\"square dark h6\" stroke=\"none\" fill=\"#d18b47\" /><rect x=\"15\" y=\"60\" width=\"45\" height=\"45\" class=\"square dark a7\" stroke=\"none\" fill=\"#d18b47\" /><rect x=\"60\" y=\"60\" width=\"45\" height=\"45\" class=\"square light b7\" stroke=\"none\" fill=\"#ffce9e\" /><rect x=\"105\" y=\"60\" width=\"45\" height=\"45\" class=\"square dark c7\" stroke=\"none\" fill=\"#d18b47\" /><rect x=\"150\" y=\"60\" width=\"45\" height=\"45\" class=\"square light d7\" stroke=\"none\" fill=\"#ffce9e\" /><rect x=\"195\" y=\"60\" width=\"45\" height=\"45\" class=\"square dark e7\" stroke=\"none\" fill=\"#d18b47\" /><rect x=\"240\" y=\"60\" width=\"45\" height=\"45\" class=\"square light f7\" stroke=\"none\" fill=\"#ffce9e\" /><rect x=\"285\" y=\"60\" width=\"45\" height=\"45\" class=\"square dark g7\" stroke=\"none\" fill=\"#d18b47\" /><rect x=\"330\" y=\"60\" width=\"45\" height=\"45\" class=\"square light h7\" stroke=\"none\" fill=\"#ffce9e\" /><rect x=\"15\" y=\"15\" width=\"45\" height=\"45\" class=\"square light a8\" stroke=\"none\" fill=\"#ffce9e\" /><rect x=\"60\" y=\"15\" width=\"45\" height=\"45\" class=\"square dark b8\" stroke=\"none\" fill=\"#d18b47\" /><rect x=\"105\" y=\"15\" width=\"45\" height=\"45\" class=\"square light c8\" stroke=\"none\" fill=\"#ffce9e\" /><rect x=\"150\" y=\"15\" width=\"45\" height=\"45\" class=\"square dark d8\" stroke=\"none\" fill=\"#d18b47\" /><rect x=\"195\" y=\"15\" width=\"45\" height=\"45\" class=\"square light e8\" stroke=\"none\" fill=\"#ffce9e\" /><rect x=\"240\" y=\"15\" width=\"45\" height=\"45\" class=\"square dark f8\" stroke=\"none\" fill=\"#d18b47\" /><rect x=\"285\" y=\"15\" width=\"45\" height=\"45\" class=\"square light g8\" stroke=\"none\" fill=\"#ffce9e\" /><rect x=\"330\" y=\"15\" width=\"45\" height=\"45\" class=\"square dark h8\" stroke=\"none\" fill=\"#d18b47\" /><use href=\"#white-rook\" xlink:href=\"#white-rook\" transform=\"translate(15, 330)\" /><use href=\"#white-knight\" xlink:href=\"#white-knight\" transform=\"translate(60, 330)\" /><use href=\"#white-bishop\" xlink:href=\"#white-bishop\" transform=\"translate(105, 330)\" /><use href=\"#white-queen\" xlink:href=\"#white-queen\" transform=\"translate(150, 330)\" /><use href=\"#white-king\" xlink:href=\"#white-king\" transform=\"translate(195, 330)\" /><use href=\"#white-bishop\" xlink:href=\"#white-bishop\" transform=\"translate(240, 330)\" /><use href=\"#white-rook\" xlink:href=\"#white-rook\" transform=\"translate(330, 330)\" /><use href=\"#white-pawn\" xlink:href=\"#white-pawn\" transform=\"translate(15, 285)\" /><use href=\"#white-pawn\" xlink:href=\"#white-pawn\" transform=\"translate(60, 285)\" /><use href=\"#white-pawn\" xlink:href=\"#white-pawn\" transform=\"translate(105, 285)\" /><use href=\"#white-pawn\" xlink:href=\"#white-pawn\" transform=\"translate(150, 285)\" /><use href=\"#white-pawn\" xlink:href=\"#white-pawn\" transform=\"translate(195, 285)\" /><use href=\"#white-pawn\" xlink:href=\"#white-pawn\" transform=\"translate(240, 285)\" /><use href=\"#white-pawn\" xlink:href=\"#white-pawn\" transform=\"translate(285, 285)\" /><use href=\"#white-pawn\" xlink:href=\"#white-pawn\" transform=\"translate(330, 285)\" /><use href=\"#white-knight\" xlink:href=\"#white-knight\" transform=\"translate(240, 240)\" /><use href=\"#black-pawn\" xlink:href=\"#black-pawn\" transform=\"translate(15, 60)\" /><use href=\"#black-pawn\" xlink:href=\"#black-pawn\" transform=\"translate(60, 60)\" /><use href=\"#black-pawn\" xlink:href=\"#black-pawn\" transform=\"translate(105, 60)\" /><use href=\"#black-pawn\" xlink:href=\"#black-pawn\" transform=\"translate(150, 60)\" /><use href=\"#black-pawn\" xlink:href=\"#black-pawn\" transform=\"translate(195, 60)\" /><use href=\"#black-pawn\" xlink:href=\"#black-pawn\" transform=\"translate(240, 60)\" /><use href=\"#black-pawn\" xlink:href=\"#black-pawn\" transform=\"translate(285, 60)\" /><use href=\"#black-pawn\" xlink:href=\"#black-pawn\" transform=\"translate(330, 60)\" /><use href=\"#black-rook\" xlink:href=\"#black-rook\" transform=\"translate(15, 15)\" /><use href=\"#black-knight\" xlink:href=\"#black-knight\" transform=\"translate(60, 15)\" /><use href=\"#black-bishop\" xlink:href=\"#black-bishop\" transform=\"translate(105, 15)\" /><use href=\"#black-queen\" xlink:href=\"#black-queen\" transform=\"translate(150, 15)\" /><use href=\"#black-king\" xlink:href=\"#black-king\" transform=\"translate(195, 15)\" /><use href=\"#black-bishop\" xlink:href=\"#black-bishop\" transform=\"translate(240, 15)\" /><use href=\"#black-knight\" xlink:href=\"#black-knight\" transform=\"translate(285, 15)\" /><use href=\"#black-rook\" xlink:href=\"#black-rook\" transform=\"translate(330, 15)\" /></svg>"
      ],
      "text/plain": [
       "Board('rnbqkbnr/pppppppp/8/8/8/5N2/PPPPPPPP/RNBQKB1R b KQkq - 1 1')"
      ]
     },
     "execution_count": 10,
     "metadata": {},
     "output_type": "execute_result"
    }
   ],
   "source": [
    "print(board)\n",
    "board"
   ]
  },
  {
   "cell_type": "code",
   "execution_count": 11,
   "metadata": {},
   "outputs": [
    {
     "data": {
      "text/plain": [
       "[Move.from_uci('g1f3')]"
      ]
     },
     "execution_count": 11,
     "metadata": {},
     "output_type": "execute_result"
    }
   ],
   "source": [
    "board.move_stack"
   ]
  },
  {
   "cell_type": "code",
   "execution_count": 12,
   "metadata": {},
   "outputs": [],
   "source": [
    "__repr__ = board.__repr__()"
   ]
  },
  {
   "cell_type": "code",
   "execution_count": 13,
   "metadata": {},
   "outputs": [
    {
     "data": {
      "image/svg+xml": [
       "<svg xmlns=\"http://www.w3.org/2000/svg\" xmlns:xlink=\"http://www.w3.org/1999/xlink\" viewBox=\"0 0 390 390\" width=\"390\" height=\"390\"><desc><pre>r n b q k b n r\n",
       "p p p p p p p p\n",
       ". . . . . . . .\n",
       ". . . . . . . .\n",
       ". . . . . . . .\n",
       ". . . . . N . .\n",
       "P P P P P P P P\n",
       "R N B Q K B . R</pre></desc><defs><g id=\"white-pawn\" class=\"white pawn\"><path d=\"M22.5 9c-2.21 0-4 1.79-4 4 0 .89.29 1.71.78 2.38C17.33 16.5 16 18.59 16 21c0 2.03.94 3.84 2.41 5.03-3 1.06-7.41 5.55-7.41 13.47h23c0-7.92-4.41-12.41-7.41-13.47 1.47-1.19 2.41-3 2.41-5.03 0-2.41-1.33-4.5-3.28-5.62.49-.67.78-1.49.78-2.38 0-2.21-1.79-4-4-4z\" fill=\"#fff\" stroke=\"#000\" stroke-width=\"1.5\" stroke-linecap=\"round\" /></g><g id=\"white-knight\" class=\"white knight\" fill=\"none\" fill-rule=\"evenodd\" stroke=\"#000\" stroke-width=\"1.5\" stroke-linecap=\"round\" stroke-linejoin=\"round\"><path d=\"M 22,10 C 32.5,11 38.5,18 38,39 L 15,39 C 15,30 25,32.5 23,18\" style=\"fill:#ffffff; stroke:#000000;\" /><path d=\"M 24,18 C 24.38,20.91 18.45,25.37 16,27 C 13,29 13.18,31.34 11,31 C 9.958,30.06 12.41,27.96 11,28 C 10,28 11.19,29.23 10,30 C 9,30 5.997,31 6,26 C 6,24 12,14 12,14 C 12,14 13.89,12.1 14,10.5 C 13.27,9.506 13.5,8.5 13.5,7.5 C 14.5,6.5 16.5,10 16.5,10 L 18.5,10 C 18.5,10 19.28,8.008 21,7 C 22,7 22,10 22,10\" style=\"fill:#ffffff; stroke:#000000;\" /><path d=\"M 9.5 25.5 A 0.5 0.5 0 1 1 8.5,25.5 A 0.5 0.5 0 1 1 9.5 25.5 z\" style=\"fill:#000000; stroke:#000000;\" /><path d=\"M 15 15.5 A 0.5 1.5 0 1 1 14,15.5 A 0.5 1.5 0 1 1 15 15.5 z\" transform=\"matrix(0.866,0.5,-0.5,0.866,9.693,-5.173)\" style=\"fill:#000000; stroke:#000000;\" /></g><g id=\"white-bishop\" class=\"white bishop\" fill=\"none\" fill-rule=\"evenodd\" stroke=\"#000\" stroke-width=\"1.5\" stroke-linecap=\"round\" stroke-linejoin=\"round\"><g fill=\"#fff\" stroke-linecap=\"butt\"><path d=\"M9 36c3.39-.97 10.11.43 13.5-2 3.39 2.43 10.11 1.03 13.5 2 0 0 1.65.54 3 2-.68.97-1.65.99-3 .5-3.39-.97-10.11.46-13.5-1-3.39 1.46-10.11.03-13.5 1-1.354.49-2.323.47-3-.5 1.354-1.94 3-2 3-2zM15 32c2.5 2.5 12.5 2.5 15 0 .5-1.5 0-2 0-2 0-2.5-2.5-4-2.5-4 5.5-1.5 6-11.5-5-15.5-11 4-10.5 14-5 15.5 0 0-2.5 1.5-2.5 4 0 0-.5.5 0 2zM25 8a2.5 2.5 0 1 1-5 0 2.5 2.5 0 1 1 5 0z\" /></g><path d=\"M17.5 26h10M15 30h15m-7.5-14.5v5M20 18h5\" stroke-linejoin=\"miter\" /></g><g id=\"white-rook\" class=\"white rook\" fill=\"#fff\" fill-rule=\"evenodd\" stroke=\"#000\" stroke-width=\"1.5\" stroke-linecap=\"round\" stroke-linejoin=\"round\"><path d=\"M9 39h27v-3H9v3zM12 36v-4h21v4H12zM11 14V9h4v2h5V9h5v2h5V9h4v5\" stroke-linecap=\"butt\" /><path d=\"M34 14l-3 3H14l-3-3\" /><path d=\"M31 17v12.5H14V17\" stroke-linecap=\"butt\" stroke-linejoin=\"miter\" /><path d=\"M31 29.5l1.5 2.5h-20l1.5-2.5\" /><path d=\"M11 14h23\" fill=\"none\" stroke-linejoin=\"miter\" /></g><g id=\"white-queen\" class=\"white queen\" fill=\"#fff\" fill-rule=\"evenodd\" stroke=\"#000\" stroke-width=\"1.5\" stroke-linecap=\"round\" stroke-linejoin=\"round\"><path d=\"M8 12a2 2 0 1 1-4 0 2 2 0 1 1 4 0zM24.5 7.5a2 2 0 1 1-4 0 2 2 0 1 1 4 0zM41 12a2 2 0 1 1-4 0 2 2 0 1 1 4 0zM16 8.5a2 2 0 1 1-4 0 2 2 0 1 1 4 0zM33 9a2 2 0 1 1-4 0 2 2 0 1 1 4 0z\" /><path d=\"M9 26c8.5-1.5 21-1.5 27 0l2-12-7 11V11l-5.5 13.5-3-15-3 15-5.5-14V25L7 14l2 12zM9 26c0 2 1.5 2 2.5 4 1 1.5 1 1 .5 3.5-1.5 1-1.5 2.5-1.5 2.5-1.5 1.5.5 2.5.5 2.5 6.5 1 16.5 1 23 0 0 0 1.5-1 0-2.5 0 0 .5-1.5-1-2.5-.5-2.5-.5-2 .5-3.5 1-2 2.5-2 2.5-4-8.5-1.5-18.5-1.5-27 0z\" stroke-linecap=\"butt\" /><path d=\"M11.5 30c3.5-1 18.5-1 22 0M12 33.5c6-1 15-1 21 0\" fill=\"none\" /></g><g id=\"white-king\" class=\"white king\" fill=\"none\" fill-rule=\"evenodd\" stroke=\"#000\" stroke-width=\"1.5\" stroke-linecap=\"round\" stroke-linejoin=\"round\"><path d=\"M22.5 11.63V6M20 8h5\" stroke-linejoin=\"miter\" /><path d=\"M22.5 25s4.5-7.5 3-10.5c0 0-1-2.5-3-2.5s-3 2.5-3 2.5c-1.5 3 3 10.5 3 10.5\" fill=\"#fff\" stroke-linecap=\"butt\" stroke-linejoin=\"miter\" /><path d=\"M11.5 37c5.5 3.5 15.5 3.5 21 0v-7s9-4.5 6-10.5c-4-6.5-13.5-3.5-16 4V27v-3.5c-3.5-7.5-13-10.5-16-4-3 6 5 10 5 10V37z\" fill=\"#fff\" /><path d=\"M11.5 30c5.5-3 15.5-3 21 0m-21 3.5c5.5-3 15.5-3 21 0m-21 3.5c5.5-3 15.5-3 21 0\" /></g><g id=\"black-pawn\" class=\"black pawn\"><path d=\"M22.5 9c-2.21 0-4 1.79-4 4 0 .89.29 1.71.78 2.38C17.33 16.5 16 18.59 16 21c0 2.03.94 3.84 2.41 5.03-3 1.06-7.41 5.55-7.41 13.47h23c0-7.92-4.41-12.41-7.41-13.47 1.47-1.19 2.41-3 2.41-5.03 0-2.41-1.33-4.5-3.28-5.62.49-.67.78-1.49.78-2.38 0-2.21-1.79-4-4-4z\" fill=\"#000\" stroke=\"#000\" stroke-width=\"1.5\" stroke-linecap=\"round\" /></g><g id=\"black-knight\" class=\"black knight\" fill=\"none\" fill-rule=\"evenodd\" stroke=\"#000\" stroke-width=\"1.5\" stroke-linecap=\"round\" stroke-linejoin=\"round\"><path d=\"M 22,10 C 32.5,11 38.5,18 38,39 L 15,39 C 15,30 25,32.5 23,18\" style=\"fill:#000000; stroke:#000000;\" /><path d=\"M 24,18 C 24.38,20.91 18.45,25.37 16,27 C 13,29 13.18,31.34 11,31 C 9.958,30.06 12.41,27.96 11,28 C 10,28 11.19,29.23 10,30 C 9,30 5.997,31 6,26 C 6,24 12,14 12,14 C 12,14 13.89,12.1 14,10.5 C 13.27,9.506 13.5,8.5 13.5,7.5 C 14.5,6.5 16.5,10 16.5,10 L 18.5,10 C 18.5,10 19.28,8.008 21,7 C 22,7 22,10 22,10\" style=\"fill:#000000; stroke:#000000;\" /><path d=\"M 9.5 25.5 A 0.5 0.5 0 1 1 8.5,25.5 A 0.5 0.5 0 1 1 9.5 25.5 z\" style=\"fill:#ececec; stroke:#ececec;\" /><path d=\"M 15 15.5 A 0.5 1.5 0 1 1 14,15.5 A 0.5 1.5 0 1 1 15 15.5 z\" transform=\"matrix(0.866,0.5,-0.5,0.866,9.693,-5.173)\" style=\"fill:#ececec; stroke:#ececec;\" /><path d=\"M 24.55,10.4 L 24.1,11.85 L 24.6,12 C 27.75,13 30.25,14.49 32.5,18.75 C 34.75,23.01 35.75,29.06 35.25,39 L 35.2,39.5 L 37.45,39.5 L 37.5,39 C 38,28.94 36.62,22.15 34.25,17.66 C 31.88,13.17 28.46,11.02 25.06,10.5 L 24.55,10.4 z \" style=\"fill:#ececec; stroke:none;\" /></g><g id=\"black-bishop\" class=\"black bishop\" fill=\"none\" fill-rule=\"evenodd\" stroke=\"#000\" stroke-width=\"1.5\" stroke-linecap=\"round\" stroke-linejoin=\"round\"><path d=\"M9 36c3.39-.97 10.11.43 13.5-2 3.39 2.43 10.11 1.03 13.5 2 0 0 1.65.54 3 2-.68.97-1.65.99-3 .5-3.39-.97-10.11.46-13.5-1-3.39 1.46-10.11.03-13.5 1-1.354.49-2.323.47-3-.5 1.354-1.94 3-2 3-2zm6-4c2.5 2.5 12.5 2.5 15 0 .5-1.5 0-2 0-2 0-2.5-2.5-4-2.5-4 5.5-1.5 6-11.5-5-15.5-11 4-10.5 14-5 15.5 0 0-2.5 1.5-2.5 4 0 0-.5.5 0 2zM25 8a2.5 2.5 0 1 1-5 0 2.5 2.5 0 1 1 5 0z\" fill=\"#000\" stroke-linecap=\"butt\" /><path d=\"M17.5 26h10M15 30h15m-7.5-14.5v5M20 18h5\" stroke=\"#fff\" stroke-linejoin=\"miter\" /></g><g id=\"black-rook\" class=\"black rook\" fill=\"#000\" fill-rule=\"evenodd\" stroke=\"#000\" stroke-width=\"1.5\" stroke-linecap=\"round\" stroke-linejoin=\"round\"><path d=\"M9 39h27v-3H9v3zM12.5 32l1.5-2.5h17l1.5 2.5h-20zM12 36v-4h21v4H12z\" stroke-linecap=\"butt\" /><path d=\"M14 29.5v-13h17v13H14z\" stroke-linecap=\"butt\" stroke-linejoin=\"miter\" /><path d=\"M14 16.5L11 14h23l-3 2.5H14zM11 14V9h4v2h5V9h5v2h5V9h4v5H11z\" stroke-linecap=\"butt\" /><path d=\"M12 35.5h21M13 31.5h19M14 29.5h17M14 16.5h17M11 14h23\" fill=\"none\" stroke=\"#fff\" stroke-width=\"1\" stroke-linejoin=\"miter\" /></g><g id=\"black-queen\" class=\"black queen\" fill=\"#000\" fill-rule=\"evenodd\" stroke=\"#000\" stroke-width=\"1.5\" stroke-linecap=\"round\" stroke-linejoin=\"round\"><g fill=\"#000\" stroke=\"none\"><circle cx=\"6\" cy=\"12\" r=\"2.75\" /><circle cx=\"14\" cy=\"9\" r=\"2.75\" /><circle cx=\"22.5\" cy=\"8\" r=\"2.75\" /><circle cx=\"31\" cy=\"9\" r=\"2.75\" /><circle cx=\"39\" cy=\"12\" r=\"2.75\" /></g><path d=\"M9 26c8.5-1.5 21-1.5 27 0l2.5-12.5L31 25l-.3-14.1-5.2 13.6-3-14.5-3 14.5-5.2-13.6L14 25 6.5 13.5 9 26zM9 26c0 2 1.5 2 2.5 4 1 1.5 1 1 .5 3.5-1.5 1-1.5 2.5-1.5 2.5-1.5 1.5.5 2.5.5 2.5 6.5 1 16.5 1 23 0 0 0 1.5-1 0-2.5 0 0 .5-1.5-1-2.5-.5-2.5-.5-2 .5-3.5 1-2 2.5-2 2.5-4-8.5-1.5-18.5-1.5-27 0z\" stroke-linecap=\"butt\" /><path d=\"M11 38.5a35 35 1 0 0 23 0\" fill=\"none\" stroke-linecap=\"butt\" /><path d=\"M11 29a35 35 1 0 1 23 0M12.5 31.5h20M11.5 34.5a35 35 1 0 0 22 0M10.5 37.5a35 35 1 0 0 24 0\" fill=\"none\" stroke=\"#fff\" /></g><g id=\"black-king\" class=\"black king\" fill=\"none\" fill-rule=\"evenodd\" stroke=\"#000\" stroke-width=\"1.5\" stroke-linecap=\"round\" stroke-linejoin=\"round\"><path d=\"M22.5 11.63V6\" stroke-linejoin=\"miter\" /><path d=\"M22.5 25s4.5-7.5 3-10.5c0 0-1-2.5-3-2.5s-3 2.5-3 2.5c-1.5 3 3 10.5 3 10.5\" fill=\"#000\" stroke-linecap=\"butt\" stroke-linejoin=\"miter\" /><path d=\"M11.5 37c5.5 3.5 15.5 3.5 21 0v-7s9-4.5 6-10.5c-4-6.5-13.5-3.5-16 4V27v-3.5c-3.5-7.5-13-10.5-16-4-3 6 5 10 5 10V37z\" fill=\"#000\" /><path d=\"M20 8h5\" stroke-linejoin=\"miter\" /><path d=\"M32 29.5s8.5-4 6.03-9.65C34.15 14 25 18 22.5 24.5l.01 2.1-.01-2.1C20 18 9.906 14 6.997 19.85c-2.497 5.65 4.853 9 4.853 9M11.5 30c5.5-3 15.5-3 21 0m-21 3.5c5.5-3 15.5-3 21 0m-21 3.5c5.5-3 15.5-3 21 0\" stroke=\"#fff\" /></g></defs><rect x=\"7.5\" y=\"7.5\" width=\"375\" height=\"375\" fill=\"none\" stroke=\"#212121\" stroke-width=\"15\" /><g transform=\"translate(20, 1) scale(0.75, 0.75)\" fill=\"#e5e5e5\" stroke=\"#e5e5e5\"><path d=\"M23.328 10.016q-1.742 0-2.414.398-.672.398-.672 1.36 0 .765.5 1.218.508.445 1.375.445 1.196 0 1.914-.843.727-.852.727-2.258v-.32zm2.867-.594v4.992h-1.437v-1.328q-.492.797-1.227 1.18-.734.375-1.797.375-1.343 0-2.14-.75-.79-.758-.79-2.024 0-1.476.985-2.226.992-.75 2.953-.75h2.016V8.75q0-.992-.656-1.531-.649-.547-1.829-.547-.75 0-1.46.18-.711.18-1.368.539V6.062q.79-.304 1.532-.453.742-.156 1.445-.156 1.898 0 2.836.984.937.985.937 2.985z\" /></g><g transform=\"translate(20, 375) scale(0.75, 0.75)\" fill=\"#e5e5e5\" stroke=\"#e5e5e5\"><path d=\"M23.328 10.016q-1.742 0-2.414.398-.672.398-.672 1.36 0 .765.5 1.218.508.445 1.375.445 1.196 0 1.914-.843.727-.852.727-2.258v-.32zm2.867-.594v4.992h-1.437v-1.328q-.492.797-1.227 1.18-.734.375-1.797.375-1.343 0-2.14-.75-.79-.758-.79-2.024 0-1.476.985-2.226.992-.75 2.953-.75h2.016V8.75q0-.992-.656-1.531-.649-.547-1.829-.547-.75 0-1.46.18-.711.18-1.368.539V6.062q.79-.304 1.532-.453.742-.156 1.445-.156 1.898 0 2.836.984.937.985.937 2.985z\" /></g><g transform=\"translate(65, 1) scale(0.75, 0.75)\" fill=\"#e5e5e5\" stroke=\"#e5e5e5\"><path d=\"M24.922 10.047q0-1.586-.656-2.485-.649-.906-1.79-.906-1.14 0-1.796.906-.649.899-.649 2.485 0 1.586.649 2.492.656.898 1.797.898 1.14 0 1.789-.898.656-.906.656-2.492zm-4.89-3.055q.452-.781 1.14-1.156.695-.383 1.656-.383 1.594 0 2.586 1.266 1 1.265 1 3.328 0 2.062-1 3.328-.992 1.266-2.586 1.266-.96 0-1.656-.375-.688-.383-1.14-1.164v1.312h-1.446V2.258h1.445z\" /></g><g transform=\"translate(65, 375) scale(0.75, 0.75)\" fill=\"#e5e5e5\" stroke=\"#e5e5e5\"><path d=\"M24.922 10.047q0-1.586-.656-2.485-.649-.906-1.79-.906-1.14 0-1.796.906-.649.899-.649 2.485 0 1.586.649 2.492.656.898 1.797.898 1.14 0 1.789-.898.656-.906.656-2.492zm-4.89-3.055q.452-.781 1.14-1.156.695-.383 1.656-.383 1.594 0 2.586 1.266 1 1.265 1 3.328 0 2.062-1 3.328-.992 1.266-2.586 1.266-.96 0-1.656-.375-.688-.383-1.14-1.164v1.312h-1.446V2.258h1.445z\" /></g><g transform=\"translate(110, 1) scale(0.75, 0.75)\" fill=\"#e5e5e5\" stroke=\"#e5e5e5\"><path d=\"M25.96 6v1.344q-.608-.336-1.226-.5-.609-.172-1.234-.172-1.398 0-2.172.89-.773.883-.773 2.485 0 1.601.773 2.492.774.883 2.172.883.625 0 1.234-.164.618-.172 1.227-.508v1.328q-.602.281-1.25.422-.64.14-1.367.14-1.977 0-3.14-1.242-1.165-1.242-1.165-3.351 0-2.14 1.172-3.367 1.18-1.227 3.227-1.227.664 0 1.296.14.633.134 1.227.407z\" /></g><g transform=\"translate(110, 375) scale(0.75, 0.75)\" fill=\"#e5e5e5\" stroke=\"#e5e5e5\"><path d=\"M25.96 6v1.344q-.608-.336-1.226-.5-.609-.172-1.234-.172-1.398 0-2.172.89-.773.883-.773 2.485 0 1.601.773 2.492.774.883 2.172.883.625 0 1.234-.164.618-.172 1.227-.508v1.328q-.602.281-1.25.422-.64.14-1.367.14-1.977 0-3.14-1.242-1.165-1.242-1.165-3.351 0-2.14 1.172-3.367 1.18-1.227 3.227-1.227.664 0 1.296.14.633.134 1.227.407z\" /></g><g transform=\"translate(155, 1) scale(0.75, 0.75)\" fill=\"#e5e5e5\" stroke=\"#e5e5e5\"><path d=\"M24.973 6.992V2.258h1.437v12.156h-1.437v-1.312q-.453.78-1.149 1.164-.687.375-1.656.375-1.586 0-2.586-1.266-.992-1.266-.992-3.328 0-2.063.992-3.328 1-1.266 2.586-1.266.969 0 1.656.383.696.375 1.149 1.156zm-4.899 3.055q0 1.586.649 2.492.656.898 1.797.898 1.14 0 1.796-.898.657-.906.657-2.492 0-1.586-.657-2.485-.656-.906-1.796-.906-1.141 0-1.797.906-.649.899-.649 2.485z\" /></g><g transform=\"translate(155, 375) scale(0.75, 0.75)\" fill=\"#e5e5e5\" stroke=\"#e5e5e5\"><path d=\"M24.973 6.992V2.258h1.437v12.156h-1.437v-1.312q-.453.78-1.149 1.164-.687.375-1.656.375-1.586 0-2.586-1.266-.992-1.266-.992-3.328 0-2.063.992-3.328 1-1.266 2.586-1.266.969 0 1.656.383.696.375 1.149 1.156zm-4.899 3.055q0 1.586.649 2.492.656.898 1.797.898 1.14 0 1.796-.898.657-.906.657-2.492 0-1.586-.657-2.485-.656-.906-1.796-.906-1.141 0-1.797.906-.649.899-.649 2.485z\" /></g><g transform=\"translate(200, 1) scale(0.75, 0.75)\" fill=\"#e5e5e5\" stroke=\"#e5e5e5\"><path d=\"M26.555 9.68v.703h-6.61q.094 1.484.89 2.265.806.774 2.235.774.828 0 1.602-.203.781-.203 1.547-.61v1.36q-.774.328-1.586.5-.813.172-1.649.172-2.093 0-3.32-1.22-1.219-1.218-1.219-3.296 0-2.148 1.157-3.406 1.164-1.266 3.132-1.266 1.766 0 2.79 1.14 1.03 1.134 1.03 3.087zm-1.438-.422q-.015-1.18-.664-1.883-.64-.703-1.703-.703-1.203 0-1.93.68-.718.68-.828 1.914z\" /></g><g transform=\"translate(200, 375) scale(0.75, 0.75)\" fill=\"#e5e5e5\" stroke=\"#e5e5e5\"><path d=\"M26.555 9.68v.703h-6.61q.094 1.484.89 2.265.806.774 2.235.774.828 0 1.602-.203.781-.203 1.547-.61v1.36q-.774.328-1.586.5-.813.172-1.649.172-2.093 0-3.32-1.22-1.219-1.218-1.219-3.296 0-2.148 1.157-3.406 1.164-1.266 3.132-1.266 1.766 0 2.79 1.14 1.03 1.134 1.03 3.087zm-1.438-.422q-.015-1.18-.664-1.883-.64-.703-1.703-.703-1.203 0-1.93.68-.718.68-.828 1.914z\" /></g><g transform=\"translate(245, 1) scale(0.75, 0.75)\" fill=\"#e5e5e5\" stroke=\"#e5e5e5\"><path d=\"M25.285 2.258v1.195H23.91q-.773 0-1.078.313-.297.312-.297 1.125v.773h2.367v1.117h-2.367v7.633H21.09V6.781h-1.375V5.664h1.375v-.61q0-1.46.68-2.124.68-.672 2.156-.672z\" /></g><g transform=\"translate(245, 375) scale(0.75, 0.75)\" fill=\"#e5e5e5\" stroke=\"#e5e5e5\"><path d=\"M25.285 2.258v1.195H23.91q-.773 0-1.078.313-.297.312-.297 1.125v.773h2.367v1.117h-2.367v7.633H21.09V6.781h-1.375V5.664h1.375v-.61q0-1.46.68-2.124.68-.672 2.156-.672z\" /></g><g transform=\"translate(290, 1) scale(0.75, 0.75)\" fill=\"#e5e5e5\" stroke=\"#e5e5e5\"><path d=\"M24.973 9.937q0-1.562-.649-2.421-.64-.86-1.804-.86-1.157 0-1.805.86-.64.859-.64 2.421 0 1.555.64 2.415.648.859 1.805.859 1.164 0 1.804-.86.649-.859.649-2.414zm1.437 3.391q0 2.234-.992 3.32-.992 1.094-3.04 1.094-.757 0-1.429-.117-.672-.11-1.304-.344v-1.398q.632.344 1.25.508.617.164 1.257.164 1.414 0 2.118-.743.703-.734.703-2.226v-.711q-.446.773-1.141 1.156-.695.383-1.664.383-1.61 0-2.594-1.227-.984-1.226-.984-3.25 0-2.03.984-3.257.985-1.227 2.594-1.227.969 0 1.664.383t1.14 1.156V5.664h1.438z\" /></g><g transform=\"translate(290, 375) scale(0.75, 0.75)\" fill=\"#e5e5e5\" stroke=\"#e5e5e5\"><path d=\"M24.973 9.937q0-1.562-.649-2.421-.64-.86-1.804-.86-1.157 0-1.805.86-.64.859-.64 2.421 0 1.555.64 2.415.648.859 1.805.859 1.164 0 1.804-.86.649-.859.649-2.414zm1.437 3.391q0 2.234-.992 3.32-.992 1.094-3.04 1.094-.757 0-1.429-.117-.672-.11-1.304-.344v-1.398q.632.344 1.25.508.617.164 1.257.164 1.414 0 2.118-.743.703-.734.703-2.226v-.711q-.446.773-1.141 1.156-.695.383-1.664.383-1.61 0-2.594-1.227-.984-1.226-.984-3.25 0-2.03.984-3.257.985-1.227 2.594-1.227.969 0 1.664.383t1.14 1.156V5.664h1.438z\" /></g><g transform=\"translate(335, 1) scale(0.75, 0.75)\" fill=\"#e5e5e5\" stroke=\"#e5e5e5\"><path d=\"M26.164 9.133v5.281h-1.437V9.18q0-1.243-.485-1.86-.484-.617-1.453-.617-1.164 0-1.836.742-.672.742-.672 2.024v4.945h-1.445V2.258h1.445v4.765q.516-.789 1.211-1.18.703-.39 1.617-.39 1.508 0 2.282.938.773.93.773 2.742z\" /></g><g transform=\"translate(335, 375) scale(0.75, 0.75)\" fill=\"#e5e5e5\" stroke=\"#e5e5e5\"><path d=\"M26.164 9.133v5.281h-1.437V9.18q0-1.243-.485-1.86-.484-.617-1.453-.617-1.164 0-1.836.742-.672.742-.672 2.024v4.945h-1.445V2.258h1.445v4.765q.516-.789 1.211-1.18.703-.39 1.617-.39 1.508 0 2.282.938.773.93.773 2.742z\" /></g><g transform=\"translate(0, 335) scale(0.75, 0.75)\" fill=\"#e5e5e5\" stroke=\"#e5e5e5\"><path d=\"M6.754 26.996h2.578v-8.898l-2.805.562v-1.437l2.79-.563h1.578v10.336h2.578v1.328h-6.72z\" /></g><g transform=\"translate(375, 335) scale(0.75, 0.75)\" fill=\"#e5e5e5\" stroke=\"#e5e5e5\"><path d=\"M6.754 26.996h2.578v-8.898l-2.805.562v-1.437l2.79-.563h1.578v10.336h2.578v1.328h-6.72z\" /></g><g transform=\"translate(0, 290) scale(0.75, 0.75)\" fill=\"#e5e5e5\" stroke=\"#e5e5e5\"><path d=\"M8.195 26.996h5.508v1.328H6.297v-1.328q.898-.93 2.445-2.492 1.555-1.57 1.953-2.024.758-.851 1.055-1.437.305-.594.305-1.164 0-.93-.657-1.516-.648-.586-1.695-.586-.742 0-1.57.258-.82.258-1.758.781v-1.593q.953-.383 1.781-.578.828-.196 1.516-.196 1.812 0 2.89.906 1.079.907 1.079 2.422 0 .72-.274 1.368-.265.64-.976 1.515-.196.227-1.243 1.313-1.046 1.078-2.953 3.023z\" /></g><g transform=\"translate(375, 290) scale(0.75, 0.75)\" fill=\"#e5e5e5\" stroke=\"#e5e5e5\"><path d=\"M8.195 26.996h5.508v1.328H6.297v-1.328q.898-.93 2.445-2.492 1.555-1.57 1.953-2.024.758-.851 1.055-1.437.305-.594.305-1.164 0-.93-.657-1.516-.648-.586-1.695-.586-.742 0-1.57.258-.82.258-1.758.781v-1.593q.953-.383 1.781-.578.828-.196 1.516-.196 1.812 0 2.89.906 1.079.907 1.079 2.422 0 .72-.274 1.368-.265.64-.976 1.515-.196.227-1.243 1.313-1.046 1.078-2.953 3.023z\" /></g><g transform=\"translate(0, 245) scale(0.75, 0.75)\" fill=\"#e5e5e5\" stroke=\"#e5e5e5\"><path d=\"M11.434 22.035q1.132.242 1.765 1.008.64.766.64 1.89 0 1.727-1.187 2.672-1.187.946-3.375.946-.734 0-1.515-.149-.774-.14-1.602-.43V26.45q.656.383 1.438.578.78.196 1.632.196 1.485 0 2.258-.586.782-.586.782-1.703 0-1.032-.727-1.61-.719-.586-2.008-.586h-1.36v-1.297h1.423q1.164 0 1.78-.46.618-.47.618-1.344 0-.899-.64-1.375-.633-.485-1.82-.485-.65 0-1.391.141-.743.14-1.633.437V16.95q.898-.25 1.68-.375.788-.125 1.484-.125 1.797 0 2.844.82 1.046.813 1.046 2.204 0 .968-.554 1.64-.555.664-1.578.922z\" /></g><g transform=\"translate(375, 245) scale(0.75, 0.75)\" fill=\"#e5e5e5\" stroke=\"#e5e5e5\"><path d=\"M11.434 22.035q1.132.242 1.765 1.008.64.766.64 1.89 0 1.727-1.187 2.672-1.187.946-3.375.946-.734 0-1.515-.149-.774-.14-1.602-.43V26.45q.656.383 1.438.578.78.196 1.632.196 1.485 0 2.258-.586.782-.586.782-1.703 0-1.032-.727-1.61-.719-.586-2.008-.586h-1.36v-1.297h1.423q1.164 0 1.78-.46.618-.47.618-1.344 0-.899-.64-1.375-.633-.485-1.82-.485-.65 0-1.391.141-.743.14-1.633.437V16.95q.898-.25 1.68-.375.788-.125 1.484-.125 1.797 0 2.844.82 1.046.813 1.046 2.204 0 .968-.554 1.64-.555.664-1.578.922z\" /></g><g transform=\"translate(0, 200) scale(0.75, 0.75)\" fill=\"#e5e5e5\" stroke=\"#e5e5e5\"><path d=\"M11.016 18.035L7.03 24.262h3.985zm-.414-1.375h1.984v7.602h1.664v1.312h-1.664v2.75h-1.57v-2.75H5.75v-1.523z\" /></g><g transform=\"translate(375, 200) scale(0.75, 0.75)\" fill=\"#e5e5e5\" stroke=\"#e5e5e5\"><path d=\"M11.016 18.035L7.03 24.262h3.985zm-.414-1.375h1.984v7.602h1.664v1.312h-1.664v2.75h-1.57v-2.75H5.75v-1.523z\" /></g><g transform=\"translate(0, 155) scale(0.75, 0.75)\" fill=\"#e5e5e5\" stroke=\"#e5e5e5\"><path d=\"M6.719 16.66h6.195v1.328h-4.75v2.86q.344-.118.688-.172.343-.063.687-.063 1.953 0 3.094 1.07 1.14 1.07 1.14 2.899 0 1.883-1.171 2.93-1.172 1.039-3.305 1.039-.735 0-1.5-.125-.758-.125-1.57-.375v-1.586q.703.383 1.453.57.75.188 1.586.188 1.351 0 2.14-.711.79-.711.79-1.93 0-1.219-.79-1.93-.789-.71-2.14-.71-.633 0-1.266.14-.625.14-1.281.438z\" /></g><g transform=\"translate(375, 155) scale(0.75, 0.75)\" fill=\"#e5e5e5\" stroke=\"#e5e5e5\"><path d=\"M6.719 16.66h6.195v1.328h-4.75v2.86q.344-.118.688-.172.343-.063.687-.063 1.953 0 3.094 1.07 1.14 1.07 1.14 2.899 0 1.883-1.171 2.93-1.172 1.039-3.305 1.039-.735 0-1.5-.125-.758-.125-1.57-.375v-1.586q.703.383 1.453.57.75.188 1.586.188 1.351 0 2.14-.711.79-.711.79-1.93 0-1.219-.79-1.93-.789-.71-2.14-.71-.633 0-1.266.14-.625.14-1.281.438z\" /></g><g transform=\"translate(0, 110) scale(0.75, 0.75)\" fill=\"#e5e5e5\" stroke=\"#e5e5e5\"><path d=\"M10.137 21.863q-1.063 0-1.688.727-.617.726-.617 1.992 0 1.258.617 1.992.625.727 1.688.727 1.062 0 1.68-.727.624-.734.624-1.992 0-1.266-.625-1.992-.617-.727-1.68-.727zm3.133-4.945v1.437q-.594-.28-1.204-.43-.601-.148-1.195-.148-1.562 0-2.39 1.055-.82 1.055-.938 3.188.46-.68 1.156-1.04.696-.367 1.531-.367 1.758 0 2.774 1.07 1.023 1.063 1.023 2.899 0 1.797-1.062 2.883-1.063 1.086-2.828 1.086-2.024 0-3.094-1.547-1.07-1.555-1.07-4.5 0-2.766 1.312-4.406 1.313-1.649 3.524-1.649.593 0 1.195.117.61.118 1.266.352z\" /></g><g transform=\"translate(375, 110) scale(0.75, 0.75)\" fill=\"#e5e5e5\" stroke=\"#e5e5e5\"><path d=\"M10.137 21.863q-1.063 0-1.688.727-.617.726-.617 1.992 0 1.258.617 1.992.625.727 1.688.727 1.062 0 1.68-.727.624-.734.624-1.992 0-1.266-.625-1.992-.617-.727-1.68-.727zm3.133-4.945v1.437q-.594-.28-1.204-.43-.601-.148-1.195-.148-1.562 0-2.39 1.055-.82 1.055-.938 3.188.46-.68 1.156-1.04.696-.367 1.531-.367 1.758 0 2.774 1.07 1.023 1.063 1.023 2.899 0 1.797-1.062 2.883-1.063 1.086-2.828 1.086-2.024 0-3.094-1.547-1.07-1.555-1.07-4.5 0-2.766 1.312-4.406 1.313-1.649 3.524-1.649.593 0 1.195.117.61.118 1.266.352z\" /></g><g transform=\"translate(0, 65) scale(0.75, 0.75)\" fill=\"#e5e5e5\" stroke=\"#e5e5e5\"><path d=\"M6.25 16.66h7.5v.672L9.516 28.324H7.867l3.985-10.336H6.25z\" /></g><g transform=\"translate(375, 65) scale(0.75, 0.75)\" fill=\"#e5e5e5\" stroke=\"#e5e5e5\"><path d=\"M6.25 16.66h7.5v.672L9.516 28.324H7.867l3.985-10.336H6.25z\" /></g><g transform=\"translate(0, 20) scale(0.75, 0.75)\" fill=\"#e5e5e5\" stroke=\"#e5e5e5\"><path d=\"M10 22.785q-1.125 0-1.773.602-.641.601-.641 1.656t.64 1.656q.649.602 1.774.602t1.773-.602q.649-.61.649-1.656 0-1.055-.649-1.656-.64-.602-1.773-.602zm-1.578-.672q-1.016-.25-1.586-.945-.563-.695-.563-1.695 0-1.399.993-2.211 1-.813 2.734-.813 1.742 0 2.734.813.993.812.993 2.21 0 1-.57 1.696-.563.695-1.571.945 1.14.266 1.773 1.04.641.773.641 1.89 0 1.695-1.04 2.602-1.03.906-2.96.906t-2.969-.906Q6 26.738 6 25.043q0-1.117.64-1.89.641-.774 1.782-1.04zm-.578-2.492q0 .906.562 1.414.57.508 1.594.508 1.016 0 1.586-.508.578-.508.578-1.414 0-.906-.578-1.414-.57-.508-1.586-.508-1.023 0-1.594.508-.562.508-.562 1.414z\" /></g><g transform=\"translate(375, 20) scale(0.75, 0.75)\" fill=\"#e5e5e5\" stroke=\"#e5e5e5\"><path d=\"M10 22.785q-1.125 0-1.773.602-.641.601-.641 1.656t.64 1.656q.649.602 1.774.602t1.773-.602q.649-.61.649-1.656 0-1.055-.649-1.656-.64-.602-1.773-.602zm-1.578-.672q-1.016-.25-1.586-.945-.563-.695-.563-1.695 0-1.399.993-2.211 1-.813 2.734-.813 1.742 0 2.734.813.993.812.993 2.21 0 1-.57 1.696-.563.695-1.571.945 1.14.266 1.773 1.04.641.773.641 1.89 0 1.695-1.04 2.602-1.03.906-2.96.906t-2.969-.906Q6 26.738 6 25.043q0-1.117.64-1.89.641-.774 1.782-1.04zm-.578-2.492q0 .906.562 1.414.57.508 1.594.508 1.016 0 1.586-.508.578-.508.578-1.414 0-.906-.578-1.414-.57-.508-1.586-.508-1.023 0-1.594.508-.562.508-.562 1.414z\" /></g><rect x=\"15\" y=\"330\" width=\"45\" height=\"45\" class=\"square dark a1\" stroke=\"none\" fill=\"#d18b47\" /><rect x=\"60\" y=\"330\" width=\"45\" height=\"45\" class=\"square light b1\" stroke=\"none\" fill=\"#ffce9e\" /><rect x=\"105\" y=\"330\" width=\"45\" height=\"45\" class=\"square dark c1\" stroke=\"none\" fill=\"#d18b47\" /><rect x=\"150\" y=\"330\" width=\"45\" height=\"45\" class=\"square light d1\" stroke=\"none\" fill=\"#ffce9e\" /><rect x=\"195\" y=\"330\" width=\"45\" height=\"45\" class=\"square dark e1\" stroke=\"none\" fill=\"#d18b47\" /><rect x=\"240\" y=\"330\" width=\"45\" height=\"45\" class=\"square light f1\" stroke=\"none\" fill=\"#ffce9e\" /><rect x=\"285\" y=\"330\" width=\"45\" height=\"45\" class=\"square dark lastmove g1\" stroke=\"none\" fill=\"#aaa23b\" /><rect x=\"330\" y=\"330\" width=\"45\" height=\"45\" class=\"square light h1\" stroke=\"none\" fill=\"#ffce9e\" /><rect x=\"15\" y=\"285\" width=\"45\" height=\"45\" class=\"square light a2\" stroke=\"none\" fill=\"#ffce9e\" /><rect x=\"60\" y=\"285\" width=\"45\" height=\"45\" class=\"square dark b2\" stroke=\"none\" fill=\"#d18b47\" /><rect x=\"105\" y=\"285\" width=\"45\" height=\"45\" class=\"square light c2\" stroke=\"none\" fill=\"#ffce9e\" /><rect x=\"150\" y=\"285\" width=\"45\" height=\"45\" class=\"square dark d2\" stroke=\"none\" fill=\"#d18b47\" /><rect x=\"195\" y=\"285\" width=\"45\" height=\"45\" class=\"square light e2\" stroke=\"none\" fill=\"#ffce9e\" /><rect x=\"240\" y=\"285\" width=\"45\" height=\"45\" class=\"square dark f2\" stroke=\"none\" fill=\"#d18b47\" /><rect x=\"285\" y=\"285\" width=\"45\" height=\"45\" class=\"square light g2\" stroke=\"none\" fill=\"#ffce9e\" /><rect x=\"330\" y=\"285\" width=\"45\" height=\"45\" class=\"square dark h2\" stroke=\"none\" fill=\"#d18b47\" /><rect x=\"15\" y=\"240\" width=\"45\" height=\"45\" class=\"square dark a3\" stroke=\"none\" fill=\"#d18b47\" /><rect x=\"60\" y=\"240\" width=\"45\" height=\"45\" class=\"square light b3\" stroke=\"none\" fill=\"#ffce9e\" /><rect x=\"105\" y=\"240\" width=\"45\" height=\"45\" class=\"square dark c3\" stroke=\"none\" fill=\"#d18b47\" /><rect x=\"150\" y=\"240\" width=\"45\" height=\"45\" class=\"square light d3\" stroke=\"none\" fill=\"#ffce9e\" /><rect x=\"195\" y=\"240\" width=\"45\" height=\"45\" class=\"square dark e3\" stroke=\"none\" fill=\"#d18b47\" /><rect x=\"240\" y=\"240\" width=\"45\" height=\"45\" class=\"square light lastmove f3\" stroke=\"none\" fill=\"#cdd16a\" /><rect x=\"285\" y=\"240\" width=\"45\" height=\"45\" class=\"square dark g3\" stroke=\"none\" fill=\"#d18b47\" /><rect x=\"330\" y=\"240\" width=\"45\" height=\"45\" class=\"square light h3\" stroke=\"none\" fill=\"#ffce9e\" /><rect x=\"15\" y=\"195\" width=\"45\" height=\"45\" class=\"square light a4\" stroke=\"none\" fill=\"#ffce9e\" /><rect x=\"60\" y=\"195\" width=\"45\" height=\"45\" class=\"square dark b4\" stroke=\"none\" fill=\"#d18b47\" /><rect x=\"105\" y=\"195\" width=\"45\" height=\"45\" class=\"square light c4\" stroke=\"none\" fill=\"#ffce9e\" /><rect x=\"150\" y=\"195\" width=\"45\" height=\"45\" class=\"square dark d4\" stroke=\"none\" fill=\"#d18b47\" /><rect x=\"195\" y=\"195\" width=\"45\" height=\"45\" class=\"square light e4\" stroke=\"none\" fill=\"#ffce9e\" /><rect x=\"240\" y=\"195\" width=\"45\" height=\"45\" class=\"square dark f4\" stroke=\"none\" fill=\"#d18b47\" /><rect x=\"285\" y=\"195\" width=\"45\" height=\"45\" class=\"square light g4\" stroke=\"none\" fill=\"#ffce9e\" /><rect x=\"330\" y=\"195\" width=\"45\" height=\"45\" class=\"square dark h4\" stroke=\"none\" fill=\"#d18b47\" /><rect x=\"15\" y=\"150\" width=\"45\" height=\"45\" class=\"square dark a5\" stroke=\"none\" fill=\"#d18b47\" /><rect x=\"60\" y=\"150\" width=\"45\" height=\"45\" class=\"square light b5\" stroke=\"none\" fill=\"#ffce9e\" /><rect x=\"105\" y=\"150\" width=\"45\" height=\"45\" class=\"square dark c5\" stroke=\"none\" fill=\"#d18b47\" /><rect x=\"150\" y=\"150\" width=\"45\" height=\"45\" class=\"square light d5\" stroke=\"none\" fill=\"#ffce9e\" /><rect x=\"195\" y=\"150\" width=\"45\" height=\"45\" class=\"square dark e5\" stroke=\"none\" fill=\"#d18b47\" /><rect x=\"240\" y=\"150\" width=\"45\" height=\"45\" class=\"square light f5\" stroke=\"none\" fill=\"#ffce9e\" /><rect x=\"285\" y=\"150\" width=\"45\" height=\"45\" class=\"square dark g5\" stroke=\"none\" fill=\"#d18b47\" /><rect x=\"330\" y=\"150\" width=\"45\" height=\"45\" class=\"square light h5\" stroke=\"none\" fill=\"#ffce9e\" /><rect x=\"15\" y=\"105\" width=\"45\" height=\"45\" class=\"square light a6\" stroke=\"none\" fill=\"#ffce9e\" /><rect x=\"60\" y=\"105\" width=\"45\" height=\"45\" class=\"square dark b6\" stroke=\"none\" fill=\"#d18b47\" /><rect x=\"105\" y=\"105\" width=\"45\" height=\"45\" class=\"square light c6\" stroke=\"none\" fill=\"#ffce9e\" /><rect x=\"150\" y=\"105\" width=\"45\" height=\"45\" class=\"square dark d6\" stroke=\"none\" fill=\"#d18b47\" /><rect x=\"195\" y=\"105\" width=\"45\" height=\"45\" class=\"square light e6\" stroke=\"none\" fill=\"#ffce9e\" /><rect x=\"240\" y=\"105\" width=\"45\" height=\"45\" class=\"square dark f6\" stroke=\"none\" fill=\"#d18b47\" /><rect x=\"285\" y=\"105\" width=\"45\" height=\"45\" class=\"square light g6\" stroke=\"none\" fill=\"#ffce9e\" /><rect x=\"330\" y=\"105\" width=\"45\" height=\"45\" class=\"square dark h6\" stroke=\"none\" fill=\"#d18b47\" /><rect x=\"15\" y=\"60\" width=\"45\" height=\"45\" class=\"square dark a7\" stroke=\"none\" fill=\"#d18b47\" /><rect x=\"60\" y=\"60\" width=\"45\" height=\"45\" class=\"square light b7\" stroke=\"none\" fill=\"#ffce9e\" /><rect x=\"105\" y=\"60\" width=\"45\" height=\"45\" class=\"square dark c7\" stroke=\"none\" fill=\"#d18b47\" /><rect x=\"150\" y=\"60\" width=\"45\" height=\"45\" class=\"square light d7\" stroke=\"none\" fill=\"#ffce9e\" /><rect x=\"195\" y=\"60\" width=\"45\" height=\"45\" class=\"square dark e7\" stroke=\"none\" fill=\"#d18b47\" /><rect x=\"240\" y=\"60\" width=\"45\" height=\"45\" class=\"square light f7\" stroke=\"none\" fill=\"#ffce9e\" /><rect x=\"285\" y=\"60\" width=\"45\" height=\"45\" class=\"square dark g7\" stroke=\"none\" fill=\"#d18b47\" /><rect x=\"330\" y=\"60\" width=\"45\" height=\"45\" class=\"square light h7\" stroke=\"none\" fill=\"#ffce9e\" /><rect x=\"15\" y=\"15\" width=\"45\" height=\"45\" class=\"square light a8\" stroke=\"none\" fill=\"#ffce9e\" /><rect x=\"60\" y=\"15\" width=\"45\" height=\"45\" class=\"square dark b8\" stroke=\"none\" fill=\"#d18b47\" /><rect x=\"105\" y=\"15\" width=\"45\" height=\"45\" class=\"square light c8\" stroke=\"none\" fill=\"#ffce9e\" /><rect x=\"150\" y=\"15\" width=\"45\" height=\"45\" class=\"square dark d8\" stroke=\"none\" fill=\"#d18b47\" /><rect x=\"195\" y=\"15\" width=\"45\" height=\"45\" class=\"square light e8\" stroke=\"none\" fill=\"#ffce9e\" /><rect x=\"240\" y=\"15\" width=\"45\" height=\"45\" class=\"square dark f8\" stroke=\"none\" fill=\"#d18b47\" /><rect x=\"285\" y=\"15\" width=\"45\" height=\"45\" class=\"square light g8\" stroke=\"none\" fill=\"#ffce9e\" /><rect x=\"330\" y=\"15\" width=\"45\" height=\"45\" class=\"square dark h8\" stroke=\"none\" fill=\"#d18b47\" /><use href=\"#white-rook\" xlink:href=\"#white-rook\" transform=\"translate(15, 330)\" /><use href=\"#white-knight\" xlink:href=\"#white-knight\" transform=\"translate(60, 330)\" /><use href=\"#white-bishop\" xlink:href=\"#white-bishop\" transform=\"translate(105, 330)\" /><use href=\"#white-queen\" xlink:href=\"#white-queen\" transform=\"translate(150, 330)\" /><use href=\"#white-king\" xlink:href=\"#white-king\" transform=\"translate(195, 330)\" /><use href=\"#white-bishop\" xlink:href=\"#white-bishop\" transform=\"translate(240, 330)\" /><use href=\"#white-rook\" xlink:href=\"#white-rook\" transform=\"translate(330, 330)\" /><use href=\"#white-pawn\" xlink:href=\"#white-pawn\" transform=\"translate(15, 285)\" /><use href=\"#white-pawn\" xlink:href=\"#white-pawn\" transform=\"translate(60, 285)\" /><use href=\"#white-pawn\" xlink:href=\"#white-pawn\" transform=\"translate(105, 285)\" /><use href=\"#white-pawn\" xlink:href=\"#white-pawn\" transform=\"translate(150, 285)\" /><use href=\"#white-pawn\" xlink:href=\"#white-pawn\" transform=\"translate(195, 285)\" /><use href=\"#white-pawn\" xlink:href=\"#white-pawn\" transform=\"translate(240, 285)\" /><use href=\"#white-pawn\" xlink:href=\"#white-pawn\" transform=\"translate(285, 285)\" /><use href=\"#white-pawn\" xlink:href=\"#white-pawn\" transform=\"translate(330, 285)\" /><use href=\"#white-knight\" xlink:href=\"#white-knight\" transform=\"translate(240, 240)\" /><use href=\"#black-pawn\" xlink:href=\"#black-pawn\" transform=\"translate(15, 60)\" /><use href=\"#black-pawn\" xlink:href=\"#black-pawn\" transform=\"translate(60, 60)\" /><use href=\"#black-pawn\" xlink:href=\"#black-pawn\" transform=\"translate(105, 60)\" /><use href=\"#black-pawn\" xlink:href=\"#black-pawn\" transform=\"translate(150, 60)\" /><use href=\"#black-pawn\" xlink:href=\"#black-pawn\" transform=\"translate(195, 60)\" /><use href=\"#black-pawn\" xlink:href=\"#black-pawn\" transform=\"translate(240, 60)\" /><use href=\"#black-pawn\" xlink:href=\"#black-pawn\" transform=\"translate(285, 60)\" /><use href=\"#black-pawn\" xlink:href=\"#black-pawn\" transform=\"translate(330, 60)\" /><use href=\"#black-rook\" xlink:href=\"#black-rook\" transform=\"translate(15, 15)\" /><use href=\"#black-knight\" xlink:href=\"#black-knight\" transform=\"translate(60, 15)\" /><use href=\"#black-bishop\" xlink:href=\"#black-bishop\" transform=\"translate(105, 15)\" /><use href=\"#black-queen\" xlink:href=\"#black-queen\" transform=\"translate(150, 15)\" /><use href=\"#black-king\" xlink:href=\"#black-king\" transform=\"translate(195, 15)\" /><use href=\"#black-bishop\" xlink:href=\"#black-bishop\" transform=\"translate(240, 15)\" /><use href=\"#black-knight\" xlink:href=\"#black-knight\" transform=\"translate(285, 15)\" /><use href=\"#black-rook\" xlink:href=\"#black-rook\" transform=\"translate(330, 15)\" /></svg>"
      ],
      "text/plain": [
       "Board('rnbqkbnr/pppppppp/8/8/8/5N2/PPPPPPPP/RNBQKB1R b KQkq - 1 1')"
      ]
     },
     "metadata": {},
     "output_type": "display_data"
    }
   ],
   "source": [
    "display(board)"
   ]
  },
  {
   "cell_type": "code",
   "execution_count": 15,
   "metadata": {},
   "outputs": [
    {
     "ename": "AssertionError",
     "evalue": "push() expects move to be pseudo-legal, but got e2e1 in rnbqkbnr/pppppppp/8/8/8/5N2/PPPP1PPP/RNBQpB1R",
     "output_type": "error",
     "traceback": [
      "\u001b[0;31m---------------------------------------------------------------------------\u001b[0m",
      "\u001b[0;31mAssertionError\u001b[0m                            Traceback (most recent call last)",
      "\u001b[0;32m/tmp/ipykernel_73528/1152552760.py\u001b[0m in \u001b[0;36m<module>\u001b[0;34m\u001b[0m\n\u001b[0;32m----> 1\u001b[0;31m \u001b[0mboard\u001b[0m\u001b[0;34m.\u001b[0m\u001b[0mpush\u001b[0m\u001b[0;34m(\u001b[0m\u001b[0mchess\u001b[0m\u001b[0;34m.\u001b[0m\u001b[0mMove\u001b[0m\u001b[0;34m(\u001b[0m\u001b[0mchess\u001b[0m\u001b[0;34m.\u001b[0m\u001b[0mE2\u001b[0m\u001b[0;34m,\u001b[0m \u001b[0mchess\u001b[0m\u001b[0;34m.\u001b[0m\u001b[0mE1\u001b[0m\u001b[0;34m)\u001b[0m\u001b[0;34m)\u001b[0m\u001b[0;34m\u001b[0m\u001b[0;34m\u001b[0m\u001b[0m\n\u001b[0m",
      "\u001b[0;32m~/.local/lib/python3.10/site-packages/chess/__init__.py\u001b[0m in \u001b[0;36mpush\u001b[0;34m(self, move)\u001b[0m\n\u001b[1;32m   2257\u001b[0m         \u001b[0mpromoted\u001b[0m \u001b[0;34m=\u001b[0m \u001b[0mbool\u001b[0m\u001b[0;34m(\u001b[0m\u001b[0mself\u001b[0m\u001b[0;34m.\u001b[0m\u001b[0mpromoted\u001b[0m \u001b[0;34m&\u001b[0m \u001b[0mfrom_bb\u001b[0m\u001b[0;34m)\u001b[0m\u001b[0;34m\u001b[0m\u001b[0;34m\u001b[0m\u001b[0m\n\u001b[1;32m   2258\u001b[0m         \u001b[0mpiece_type\u001b[0m \u001b[0;34m=\u001b[0m \u001b[0mself\u001b[0m\u001b[0;34m.\u001b[0m\u001b[0m_remove_piece_at\u001b[0m\u001b[0;34m(\u001b[0m\u001b[0mmove\u001b[0m\u001b[0;34m.\u001b[0m\u001b[0mfrom_square\u001b[0m\u001b[0;34m)\u001b[0m\u001b[0;34m\u001b[0m\u001b[0;34m\u001b[0m\u001b[0m\n\u001b[0;32m-> 2259\u001b[0;31m         \u001b[0;32massert\u001b[0m \u001b[0mpiece_type\u001b[0m \u001b[0;32mis\u001b[0m \u001b[0;32mnot\u001b[0m \u001b[0;32mNone\u001b[0m\u001b[0;34m,\u001b[0m \u001b[0;34mf\"push() expects move to be pseudo-legal, but got {move} in {self.board_fen()}\"\u001b[0m\u001b[0;34m\u001b[0m\u001b[0;34m\u001b[0m\u001b[0m\n\u001b[0m\u001b[1;32m   2260\u001b[0m         \u001b[0mcapture_square\u001b[0m \u001b[0;34m=\u001b[0m \u001b[0mmove\u001b[0m\u001b[0;34m.\u001b[0m\u001b[0mto_square\u001b[0m\u001b[0;34m\u001b[0m\u001b[0;34m\u001b[0m\u001b[0m\n\u001b[1;32m   2261\u001b[0m         \u001b[0mcaptured_piece_type\u001b[0m \u001b[0;34m=\u001b[0m \u001b[0mself\u001b[0m\u001b[0;34m.\u001b[0m\u001b[0mpiece_type_at\u001b[0m\u001b[0;34m(\u001b[0m\u001b[0mcapture_square\u001b[0m\u001b[0;34m)\u001b[0m\u001b[0;34m\u001b[0m\u001b[0;34m\u001b[0m\u001b[0m\n",
      "\u001b[0;31mAssertionError\u001b[0m: push() expects move to be pseudo-legal, but got e2e1 in rnbqkbnr/pppppppp/8/8/8/5N2/PPPP1PPP/RNBQpB1R"
     ]
    }
   ],
   "source": [
    "board.push(chess.Move(chess.E2, chess.E1))"
   ]
  },
  {
   "cell_type": "code",
   "execution_count": 16,
   "metadata": {},
   "outputs": [
    {
     "data": {
      "image/svg+xml": [
       "<svg xmlns=\"http://www.w3.org/2000/svg\" xmlns:xlink=\"http://www.w3.org/1999/xlink\" viewBox=\"0 0 390 390\" width=\"390\" height=\"390\"><desc><pre>r n b q k b n r\n",
       "p p p p p p p p\n",
       ". . . . . . . .\n",
       ". . . . . . . .\n",
       ". . . . . . . .\n",
       ". . . . . N . .\n",
       "P P P P . P P P\n",
       "R N B Q p B . R</pre></desc><defs><g id=\"white-pawn\" class=\"white pawn\"><path d=\"M22.5 9c-2.21 0-4 1.79-4 4 0 .89.29 1.71.78 2.38C17.33 16.5 16 18.59 16 21c0 2.03.94 3.84 2.41 5.03-3 1.06-7.41 5.55-7.41 13.47h23c0-7.92-4.41-12.41-7.41-13.47 1.47-1.19 2.41-3 2.41-5.03 0-2.41-1.33-4.5-3.28-5.62.49-.67.78-1.49.78-2.38 0-2.21-1.79-4-4-4z\" fill=\"#fff\" stroke=\"#000\" stroke-width=\"1.5\" stroke-linecap=\"round\" /></g><g id=\"white-knight\" class=\"white knight\" fill=\"none\" fill-rule=\"evenodd\" stroke=\"#000\" stroke-width=\"1.5\" stroke-linecap=\"round\" stroke-linejoin=\"round\"><path d=\"M 22,10 C 32.5,11 38.5,18 38,39 L 15,39 C 15,30 25,32.5 23,18\" style=\"fill:#ffffff; stroke:#000000;\" /><path d=\"M 24,18 C 24.38,20.91 18.45,25.37 16,27 C 13,29 13.18,31.34 11,31 C 9.958,30.06 12.41,27.96 11,28 C 10,28 11.19,29.23 10,30 C 9,30 5.997,31 6,26 C 6,24 12,14 12,14 C 12,14 13.89,12.1 14,10.5 C 13.27,9.506 13.5,8.5 13.5,7.5 C 14.5,6.5 16.5,10 16.5,10 L 18.5,10 C 18.5,10 19.28,8.008 21,7 C 22,7 22,10 22,10\" style=\"fill:#ffffff; stroke:#000000;\" /><path d=\"M 9.5 25.5 A 0.5 0.5 0 1 1 8.5,25.5 A 0.5 0.5 0 1 1 9.5 25.5 z\" style=\"fill:#000000; stroke:#000000;\" /><path d=\"M 15 15.5 A 0.5 1.5 0 1 1 14,15.5 A 0.5 1.5 0 1 1 15 15.5 z\" transform=\"matrix(0.866,0.5,-0.5,0.866,9.693,-5.173)\" style=\"fill:#000000; stroke:#000000;\" /></g><g id=\"white-bishop\" class=\"white bishop\" fill=\"none\" fill-rule=\"evenodd\" stroke=\"#000\" stroke-width=\"1.5\" stroke-linecap=\"round\" stroke-linejoin=\"round\"><g fill=\"#fff\" stroke-linecap=\"butt\"><path d=\"M9 36c3.39-.97 10.11.43 13.5-2 3.39 2.43 10.11 1.03 13.5 2 0 0 1.65.54 3 2-.68.97-1.65.99-3 .5-3.39-.97-10.11.46-13.5-1-3.39 1.46-10.11.03-13.5 1-1.354.49-2.323.47-3-.5 1.354-1.94 3-2 3-2zM15 32c2.5 2.5 12.5 2.5 15 0 .5-1.5 0-2 0-2 0-2.5-2.5-4-2.5-4 5.5-1.5 6-11.5-5-15.5-11 4-10.5 14-5 15.5 0 0-2.5 1.5-2.5 4 0 0-.5.5 0 2zM25 8a2.5 2.5 0 1 1-5 0 2.5 2.5 0 1 1 5 0z\" /></g><path d=\"M17.5 26h10M15 30h15m-7.5-14.5v5M20 18h5\" stroke-linejoin=\"miter\" /></g><g id=\"white-rook\" class=\"white rook\" fill=\"#fff\" fill-rule=\"evenodd\" stroke=\"#000\" stroke-width=\"1.5\" stroke-linecap=\"round\" stroke-linejoin=\"round\"><path d=\"M9 39h27v-3H9v3zM12 36v-4h21v4H12zM11 14V9h4v2h5V9h5v2h5V9h4v5\" stroke-linecap=\"butt\" /><path d=\"M34 14l-3 3H14l-3-3\" /><path d=\"M31 17v12.5H14V17\" stroke-linecap=\"butt\" stroke-linejoin=\"miter\" /><path d=\"M31 29.5l1.5 2.5h-20l1.5-2.5\" /><path d=\"M11 14h23\" fill=\"none\" stroke-linejoin=\"miter\" /></g><g id=\"white-queen\" class=\"white queen\" fill=\"#fff\" fill-rule=\"evenodd\" stroke=\"#000\" stroke-width=\"1.5\" stroke-linecap=\"round\" stroke-linejoin=\"round\"><path d=\"M8 12a2 2 0 1 1-4 0 2 2 0 1 1 4 0zM24.5 7.5a2 2 0 1 1-4 0 2 2 0 1 1 4 0zM41 12a2 2 0 1 1-4 0 2 2 0 1 1 4 0zM16 8.5a2 2 0 1 1-4 0 2 2 0 1 1 4 0zM33 9a2 2 0 1 1-4 0 2 2 0 1 1 4 0z\" /><path d=\"M9 26c8.5-1.5 21-1.5 27 0l2-12-7 11V11l-5.5 13.5-3-15-3 15-5.5-14V25L7 14l2 12zM9 26c0 2 1.5 2 2.5 4 1 1.5 1 1 .5 3.5-1.5 1-1.5 2.5-1.5 2.5-1.5 1.5.5 2.5.5 2.5 6.5 1 16.5 1 23 0 0 0 1.5-1 0-2.5 0 0 .5-1.5-1-2.5-.5-2.5-.5-2 .5-3.5 1-2 2.5-2 2.5-4-8.5-1.5-18.5-1.5-27 0z\" stroke-linecap=\"butt\" /><path d=\"M11.5 30c3.5-1 18.5-1 22 0M12 33.5c6-1 15-1 21 0\" fill=\"none\" /></g><g id=\"black-pawn\" class=\"black pawn\"><path d=\"M22.5 9c-2.21 0-4 1.79-4 4 0 .89.29 1.71.78 2.38C17.33 16.5 16 18.59 16 21c0 2.03.94 3.84 2.41 5.03-3 1.06-7.41 5.55-7.41 13.47h23c0-7.92-4.41-12.41-7.41-13.47 1.47-1.19 2.41-3 2.41-5.03 0-2.41-1.33-4.5-3.28-5.62.49-.67.78-1.49.78-2.38 0-2.21-1.79-4-4-4z\" fill=\"#000\" stroke=\"#000\" stroke-width=\"1.5\" stroke-linecap=\"round\" /></g><g id=\"black-knight\" class=\"black knight\" fill=\"none\" fill-rule=\"evenodd\" stroke=\"#000\" stroke-width=\"1.5\" stroke-linecap=\"round\" stroke-linejoin=\"round\"><path d=\"M 22,10 C 32.5,11 38.5,18 38,39 L 15,39 C 15,30 25,32.5 23,18\" style=\"fill:#000000; stroke:#000000;\" /><path d=\"M 24,18 C 24.38,20.91 18.45,25.37 16,27 C 13,29 13.18,31.34 11,31 C 9.958,30.06 12.41,27.96 11,28 C 10,28 11.19,29.23 10,30 C 9,30 5.997,31 6,26 C 6,24 12,14 12,14 C 12,14 13.89,12.1 14,10.5 C 13.27,9.506 13.5,8.5 13.5,7.5 C 14.5,6.5 16.5,10 16.5,10 L 18.5,10 C 18.5,10 19.28,8.008 21,7 C 22,7 22,10 22,10\" style=\"fill:#000000; stroke:#000000;\" /><path d=\"M 9.5 25.5 A 0.5 0.5 0 1 1 8.5,25.5 A 0.5 0.5 0 1 1 9.5 25.5 z\" style=\"fill:#ececec; stroke:#ececec;\" /><path d=\"M 15 15.5 A 0.5 1.5 0 1 1 14,15.5 A 0.5 1.5 0 1 1 15 15.5 z\" transform=\"matrix(0.866,0.5,-0.5,0.866,9.693,-5.173)\" style=\"fill:#ececec; stroke:#ececec;\" /><path d=\"M 24.55,10.4 L 24.1,11.85 L 24.6,12 C 27.75,13 30.25,14.49 32.5,18.75 C 34.75,23.01 35.75,29.06 35.25,39 L 35.2,39.5 L 37.45,39.5 L 37.5,39 C 38,28.94 36.62,22.15 34.25,17.66 C 31.88,13.17 28.46,11.02 25.06,10.5 L 24.55,10.4 z \" style=\"fill:#ececec; stroke:none;\" /></g><g id=\"black-bishop\" class=\"black bishop\" fill=\"none\" fill-rule=\"evenodd\" stroke=\"#000\" stroke-width=\"1.5\" stroke-linecap=\"round\" stroke-linejoin=\"round\"><path d=\"M9 36c3.39-.97 10.11.43 13.5-2 3.39 2.43 10.11 1.03 13.5 2 0 0 1.65.54 3 2-.68.97-1.65.99-3 .5-3.39-.97-10.11.46-13.5-1-3.39 1.46-10.11.03-13.5 1-1.354.49-2.323.47-3-.5 1.354-1.94 3-2 3-2zm6-4c2.5 2.5 12.5 2.5 15 0 .5-1.5 0-2 0-2 0-2.5-2.5-4-2.5-4 5.5-1.5 6-11.5-5-15.5-11 4-10.5 14-5 15.5 0 0-2.5 1.5-2.5 4 0 0-.5.5 0 2zM25 8a2.5 2.5 0 1 1-5 0 2.5 2.5 0 1 1 5 0z\" fill=\"#000\" stroke-linecap=\"butt\" /><path d=\"M17.5 26h10M15 30h15m-7.5-14.5v5M20 18h5\" stroke=\"#fff\" stroke-linejoin=\"miter\" /></g><g id=\"black-rook\" class=\"black rook\" fill=\"#000\" fill-rule=\"evenodd\" stroke=\"#000\" stroke-width=\"1.5\" stroke-linecap=\"round\" stroke-linejoin=\"round\"><path d=\"M9 39h27v-3H9v3zM12.5 32l1.5-2.5h17l1.5 2.5h-20zM12 36v-4h21v4H12z\" stroke-linecap=\"butt\" /><path d=\"M14 29.5v-13h17v13H14z\" stroke-linecap=\"butt\" stroke-linejoin=\"miter\" /><path d=\"M14 16.5L11 14h23l-3 2.5H14zM11 14V9h4v2h5V9h5v2h5V9h4v5H11z\" stroke-linecap=\"butt\" /><path d=\"M12 35.5h21M13 31.5h19M14 29.5h17M14 16.5h17M11 14h23\" fill=\"none\" stroke=\"#fff\" stroke-width=\"1\" stroke-linejoin=\"miter\" /></g><g id=\"black-queen\" class=\"black queen\" fill=\"#000\" fill-rule=\"evenodd\" stroke=\"#000\" stroke-width=\"1.5\" stroke-linecap=\"round\" stroke-linejoin=\"round\"><g fill=\"#000\" stroke=\"none\"><circle cx=\"6\" cy=\"12\" r=\"2.75\" /><circle cx=\"14\" cy=\"9\" r=\"2.75\" /><circle cx=\"22.5\" cy=\"8\" r=\"2.75\" /><circle cx=\"31\" cy=\"9\" r=\"2.75\" /><circle cx=\"39\" cy=\"12\" r=\"2.75\" /></g><path d=\"M9 26c8.5-1.5 21-1.5 27 0l2.5-12.5L31 25l-.3-14.1-5.2 13.6-3-14.5-3 14.5-5.2-13.6L14 25 6.5 13.5 9 26zM9 26c0 2 1.5 2 2.5 4 1 1.5 1 1 .5 3.5-1.5 1-1.5 2.5-1.5 2.5-1.5 1.5.5 2.5.5 2.5 6.5 1 16.5 1 23 0 0 0 1.5-1 0-2.5 0 0 .5-1.5-1-2.5-.5-2.5-.5-2 .5-3.5 1-2 2.5-2 2.5-4-8.5-1.5-18.5-1.5-27 0z\" stroke-linecap=\"butt\" /><path d=\"M11 38.5a35 35 1 0 0 23 0\" fill=\"none\" stroke-linecap=\"butt\" /><path d=\"M11 29a35 35 1 0 1 23 0M12.5 31.5h20M11.5 34.5a35 35 1 0 0 22 0M10.5 37.5a35 35 1 0 0 24 0\" fill=\"none\" stroke=\"#fff\" /></g><g id=\"black-king\" class=\"black king\" fill=\"none\" fill-rule=\"evenodd\" stroke=\"#000\" stroke-width=\"1.5\" stroke-linecap=\"round\" stroke-linejoin=\"round\"><path d=\"M22.5 11.63V6\" stroke-linejoin=\"miter\" /><path d=\"M22.5 25s4.5-7.5 3-10.5c0 0-1-2.5-3-2.5s-3 2.5-3 2.5c-1.5 3 3 10.5 3 10.5\" fill=\"#000\" stroke-linecap=\"butt\" stroke-linejoin=\"miter\" /><path d=\"M11.5 37c5.5 3.5 15.5 3.5 21 0v-7s9-4.5 6-10.5c-4-6.5-13.5-3.5-16 4V27v-3.5c-3.5-7.5-13-10.5-16-4-3 6 5 10 5 10V37z\" fill=\"#000\" /><path d=\"M20 8h5\" stroke-linejoin=\"miter\" /><path d=\"M32 29.5s8.5-4 6.03-9.65C34.15 14 25 18 22.5 24.5l.01 2.1-.01-2.1C20 18 9.906 14 6.997 19.85c-2.497 5.65 4.853 9 4.853 9M11.5 30c5.5-3 15.5-3 21 0m-21 3.5c5.5-3 15.5-3 21 0m-21 3.5c5.5-3 15.5-3 21 0\" stroke=\"#fff\" /></g></defs><rect x=\"7.5\" y=\"7.5\" width=\"375\" height=\"375\" fill=\"none\" stroke=\"#212121\" stroke-width=\"15\" /><g transform=\"translate(20, 1) scale(0.75, 0.75)\" fill=\"#e5e5e5\" stroke=\"#e5e5e5\"><path d=\"M23.328 10.016q-1.742 0-2.414.398-.672.398-.672 1.36 0 .765.5 1.218.508.445 1.375.445 1.196 0 1.914-.843.727-.852.727-2.258v-.32zm2.867-.594v4.992h-1.437v-1.328q-.492.797-1.227 1.18-.734.375-1.797.375-1.343 0-2.14-.75-.79-.758-.79-2.024 0-1.476.985-2.226.992-.75 2.953-.75h2.016V8.75q0-.992-.656-1.531-.649-.547-1.829-.547-.75 0-1.46.18-.711.18-1.368.539V6.062q.79-.304 1.532-.453.742-.156 1.445-.156 1.898 0 2.836.984.937.985.937 2.985z\" /></g><g transform=\"translate(20, 375) scale(0.75, 0.75)\" fill=\"#e5e5e5\" stroke=\"#e5e5e5\"><path d=\"M23.328 10.016q-1.742 0-2.414.398-.672.398-.672 1.36 0 .765.5 1.218.508.445 1.375.445 1.196 0 1.914-.843.727-.852.727-2.258v-.32zm2.867-.594v4.992h-1.437v-1.328q-.492.797-1.227 1.18-.734.375-1.797.375-1.343 0-2.14-.75-.79-.758-.79-2.024 0-1.476.985-2.226.992-.75 2.953-.75h2.016V8.75q0-.992-.656-1.531-.649-.547-1.829-.547-.75 0-1.46.18-.711.18-1.368.539V6.062q.79-.304 1.532-.453.742-.156 1.445-.156 1.898 0 2.836.984.937.985.937 2.985z\" /></g><g transform=\"translate(65, 1) scale(0.75, 0.75)\" fill=\"#e5e5e5\" stroke=\"#e5e5e5\"><path d=\"M24.922 10.047q0-1.586-.656-2.485-.649-.906-1.79-.906-1.14 0-1.796.906-.649.899-.649 2.485 0 1.586.649 2.492.656.898 1.797.898 1.14 0 1.789-.898.656-.906.656-2.492zm-4.89-3.055q.452-.781 1.14-1.156.695-.383 1.656-.383 1.594 0 2.586 1.266 1 1.265 1 3.328 0 2.062-1 3.328-.992 1.266-2.586 1.266-.96 0-1.656-.375-.688-.383-1.14-1.164v1.312h-1.446V2.258h1.445z\" /></g><g transform=\"translate(65, 375) scale(0.75, 0.75)\" fill=\"#e5e5e5\" stroke=\"#e5e5e5\"><path d=\"M24.922 10.047q0-1.586-.656-2.485-.649-.906-1.79-.906-1.14 0-1.796.906-.649.899-.649 2.485 0 1.586.649 2.492.656.898 1.797.898 1.14 0 1.789-.898.656-.906.656-2.492zm-4.89-3.055q.452-.781 1.14-1.156.695-.383 1.656-.383 1.594 0 2.586 1.266 1 1.265 1 3.328 0 2.062-1 3.328-.992 1.266-2.586 1.266-.96 0-1.656-.375-.688-.383-1.14-1.164v1.312h-1.446V2.258h1.445z\" /></g><g transform=\"translate(110, 1) scale(0.75, 0.75)\" fill=\"#e5e5e5\" stroke=\"#e5e5e5\"><path d=\"M25.96 6v1.344q-.608-.336-1.226-.5-.609-.172-1.234-.172-1.398 0-2.172.89-.773.883-.773 2.485 0 1.601.773 2.492.774.883 2.172.883.625 0 1.234-.164.618-.172 1.227-.508v1.328q-.602.281-1.25.422-.64.14-1.367.14-1.977 0-3.14-1.242-1.165-1.242-1.165-3.351 0-2.14 1.172-3.367 1.18-1.227 3.227-1.227.664 0 1.296.14.633.134 1.227.407z\" /></g><g transform=\"translate(110, 375) scale(0.75, 0.75)\" fill=\"#e5e5e5\" stroke=\"#e5e5e5\"><path d=\"M25.96 6v1.344q-.608-.336-1.226-.5-.609-.172-1.234-.172-1.398 0-2.172.89-.773.883-.773 2.485 0 1.601.773 2.492.774.883 2.172.883.625 0 1.234-.164.618-.172 1.227-.508v1.328q-.602.281-1.25.422-.64.14-1.367.14-1.977 0-3.14-1.242-1.165-1.242-1.165-3.351 0-2.14 1.172-3.367 1.18-1.227 3.227-1.227.664 0 1.296.14.633.134 1.227.407z\" /></g><g transform=\"translate(155, 1) scale(0.75, 0.75)\" fill=\"#e5e5e5\" stroke=\"#e5e5e5\"><path d=\"M24.973 6.992V2.258h1.437v12.156h-1.437v-1.312q-.453.78-1.149 1.164-.687.375-1.656.375-1.586 0-2.586-1.266-.992-1.266-.992-3.328 0-2.063.992-3.328 1-1.266 2.586-1.266.969 0 1.656.383.696.375 1.149 1.156zm-4.899 3.055q0 1.586.649 2.492.656.898 1.797.898 1.14 0 1.796-.898.657-.906.657-2.492 0-1.586-.657-2.485-.656-.906-1.796-.906-1.141 0-1.797.906-.649.899-.649 2.485z\" /></g><g transform=\"translate(155, 375) scale(0.75, 0.75)\" fill=\"#e5e5e5\" stroke=\"#e5e5e5\"><path d=\"M24.973 6.992V2.258h1.437v12.156h-1.437v-1.312q-.453.78-1.149 1.164-.687.375-1.656.375-1.586 0-2.586-1.266-.992-1.266-.992-3.328 0-2.063.992-3.328 1-1.266 2.586-1.266.969 0 1.656.383.696.375 1.149 1.156zm-4.899 3.055q0 1.586.649 2.492.656.898 1.797.898 1.14 0 1.796-.898.657-.906.657-2.492 0-1.586-.657-2.485-.656-.906-1.796-.906-1.141 0-1.797.906-.649.899-.649 2.485z\" /></g><g transform=\"translate(200, 1) scale(0.75, 0.75)\" fill=\"#e5e5e5\" stroke=\"#e5e5e5\"><path d=\"M26.555 9.68v.703h-6.61q.094 1.484.89 2.265.806.774 2.235.774.828 0 1.602-.203.781-.203 1.547-.61v1.36q-.774.328-1.586.5-.813.172-1.649.172-2.093 0-3.32-1.22-1.219-1.218-1.219-3.296 0-2.148 1.157-3.406 1.164-1.266 3.132-1.266 1.766 0 2.79 1.14 1.03 1.134 1.03 3.087zm-1.438-.422q-.015-1.18-.664-1.883-.64-.703-1.703-.703-1.203 0-1.93.68-.718.68-.828 1.914z\" /></g><g transform=\"translate(200, 375) scale(0.75, 0.75)\" fill=\"#e5e5e5\" stroke=\"#e5e5e5\"><path d=\"M26.555 9.68v.703h-6.61q.094 1.484.89 2.265.806.774 2.235.774.828 0 1.602-.203.781-.203 1.547-.61v1.36q-.774.328-1.586.5-.813.172-1.649.172-2.093 0-3.32-1.22-1.219-1.218-1.219-3.296 0-2.148 1.157-3.406 1.164-1.266 3.132-1.266 1.766 0 2.79 1.14 1.03 1.134 1.03 3.087zm-1.438-.422q-.015-1.18-.664-1.883-.64-.703-1.703-.703-1.203 0-1.93.68-.718.68-.828 1.914z\" /></g><g transform=\"translate(245, 1) scale(0.75, 0.75)\" fill=\"#e5e5e5\" stroke=\"#e5e5e5\"><path d=\"M25.285 2.258v1.195H23.91q-.773 0-1.078.313-.297.312-.297 1.125v.773h2.367v1.117h-2.367v7.633H21.09V6.781h-1.375V5.664h1.375v-.61q0-1.46.68-2.124.68-.672 2.156-.672z\" /></g><g transform=\"translate(245, 375) scale(0.75, 0.75)\" fill=\"#e5e5e5\" stroke=\"#e5e5e5\"><path d=\"M25.285 2.258v1.195H23.91q-.773 0-1.078.313-.297.312-.297 1.125v.773h2.367v1.117h-2.367v7.633H21.09V6.781h-1.375V5.664h1.375v-.61q0-1.46.68-2.124.68-.672 2.156-.672z\" /></g><g transform=\"translate(290, 1) scale(0.75, 0.75)\" fill=\"#e5e5e5\" stroke=\"#e5e5e5\"><path d=\"M24.973 9.937q0-1.562-.649-2.421-.64-.86-1.804-.86-1.157 0-1.805.86-.64.859-.64 2.421 0 1.555.64 2.415.648.859 1.805.859 1.164 0 1.804-.86.649-.859.649-2.414zm1.437 3.391q0 2.234-.992 3.32-.992 1.094-3.04 1.094-.757 0-1.429-.117-.672-.11-1.304-.344v-1.398q.632.344 1.25.508.617.164 1.257.164 1.414 0 2.118-.743.703-.734.703-2.226v-.711q-.446.773-1.141 1.156-.695.383-1.664.383-1.61 0-2.594-1.227-.984-1.226-.984-3.25 0-2.03.984-3.257.985-1.227 2.594-1.227.969 0 1.664.383t1.14 1.156V5.664h1.438z\" /></g><g transform=\"translate(290, 375) scale(0.75, 0.75)\" fill=\"#e5e5e5\" stroke=\"#e5e5e5\"><path d=\"M24.973 9.937q0-1.562-.649-2.421-.64-.86-1.804-.86-1.157 0-1.805.86-.64.859-.64 2.421 0 1.555.64 2.415.648.859 1.805.859 1.164 0 1.804-.86.649-.859.649-2.414zm1.437 3.391q0 2.234-.992 3.32-.992 1.094-3.04 1.094-.757 0-1.429-.117-.672-.11-1.304-.344v-1.398q.632.344 1.25.508.617.164 1.257.164 1.414 0 2.118-.743.703-.734.703-2.226v-.711q-.446.773-1.141 1.156-.695.383-1.664.383-1.61 0-2.594-1.227-.984-1.226-.984-3.25 0-2.03.984-3.257.985-1.227 2.594-1.227.969 0 1.664.383t1.14 1.156V5.664h1.438z\" /></g><g transform=\"translate(335, 1) scale(0.75, 0.75)\" fill=\"#e5e5e5\" stroke=\"#e5e5e5\"><path d=\"M26.164 9.133v5.281h-1.437V9.18q0-1.243-.485-1.86-.484-.617-1.453-.617-1.164 0-1.836.742-.672.742-.672 2.024v4.945h-1.445V2.258h1.445v4.765q.516-.789 1.211-1.18.703-.39 1.617-.39 1.508 0 2.282.938.773.93.773 2.742z\" /></g><g transform=\"translate(335, 375) scale(0.75, 0.75)\" fill=\"#e5e5e5\" stroke=\"#e5e5e5\"><path d=\"M26.164 9.133v5.281h-1.437V9.18q0-1.243-.485-1.86-.484-.617-1.453-.617-1.164 0-1.836.742-.672.742-.672 2.024v4.945h-1.445V2.258h1.445v4.765q.516-.789 1.211-1.18.703-.39 1.617-.39 1.508 0 2.282.938.773.93.773 2.742z\" /></g><g transform=\"translate(0, 335) scale(0.75, 0.75)\" fill=\"#e5e5e5\" stroke=\"#e5e5e5\"><path d=\"M6.754 26.996h2.578v-8.898l-2.805.562v-1.437l2.79-.563h1.578v10.336h2.578v1.328h-6.72z\" /></g><g transform=\"translate(375, 335) scale(0.75, 0.75)\" fill=\"#e5e5e5\" stroke=\"#e5e5e5\"><path d=\"M6.754 26.996h2.578v-8.898l-2.805.562v-1.437l2.79-.563h1.578v10.336h2.578v1.328h-6.72z\" /></g><g transform=\"translate(0, 290) scale(0.75, 0.75)\" fill=\"#e5e5e5\" stroke=\"#e5e5e5\"><path d=\"M8.195 26.996h5.508v1.328H6.297v-1.328q.898-.93 2.445-2.492 1.555-1.57 1.953-2.024.758-.851 1.055-1.437.305-.594.305-1.164 0-.93-.657-1.516-.648-.586-1.695-.586-.742 0-1.57.258-.82.258-1.758.781v-1.593q.953-.383 1.781-.578.828-.196 1.516-.196 1.812 0 2.89.906 1.079.907 1.079 2.422 0 .72-.274 1.368-.265.64-.976 1.515-.196.227-1.243 1.313-1.046 1.078-2.953 3.023z\" /></g><g transform=\"translate(375, 290) scale(0.75, 0.75)\" fill=\"#e5e5e5\" stroke=\"#e5e5e5\"><path d=\"M8.195 26.996h5.508v1.328H6.297v-1.328q.898-.93 2.445-2.492 1.555-1.57 1.953-2.024.758-.851 1.055-1.437.305-.594.305-1.164 0-.93-.657-1.516-.648-.586-1.695-.586-.742 0-1.57.258-.82.258-1.758.781v-1.593q.953-.383 1.781-.578.828-.196 1.516-.196 1.812 0 2.89.906 1.079.907 1.079 2.422 0 .72-.274 1.368-.265.64-.976 1.515-.196.227-1.243 1.313-1.046 1.078-2.953 3.023z\" /></g><g transform=\"translate(0, 245) scale(0.75, 0.75)\" fill=\"#e5e5e5\" stroke=\"#e5e5e5\"><path d=\"M11.434 22.035q1.132.242 1.765 1.008.64.766.64 1.89 0 1.727-1.187 2.672-1.187.946-3.375.946-.734 0-1.515-.149-.774-.14-1.602-.43V26.45q.656.383 1.438.578.78.196 1.632.196 1.485 0 2.258-.586.782-.586.782-1.703 0-1.032-.727-1.61-.719-.586-2.008-.586h-1.36v-1.297h1.423q1.164 0 1.78-.46.618-.47.618-1.344 0-.899-.64-1.375-.633-.485-1.82-.485-.65 0-1.391.141-.743.14-1.633.437V16.95q.898-.25 1.68-.375.788-.125 1.484-.125 1.797 0 2.844.82 1.046.813 1.046 2.204 0 .968-.554 1.64-.555.664-1.578.922z\" /></g><g transform=\"translate(375, 245) scale(0.75, 0.75)\" fill=\"#e5e5e5\" stroke=\"#e5e5e5\"><path d=\"M11.434 22.035q1.132.242 1.765 1.008.64.766.64 1.89 0 1.727-1.187 2.672-1.187.946-3.375.946-.734 0-1.515-.149-.774-.14-1.602-.43V26.45q.656.383 1.438.578.78.196 1.632.196 1.485 0 2.258-.586.782-.586.782-1.703 0-1.032-.727-1.61-.719-.586-2.008-.586h-1.36v-1.297h1.423q1.164 0 1.78-.46.618-.47.618-1.344 0-.899-.64-1.375-.633-.485-1.82-.485-.65 0-1.391.141-.743.14-1.633.437V16.95q.898-.25 1.68-.375.788-.125 1.484-.125 1.797 0 2.844.82 1.046.813 1.046 2.204 0 .968-.554 1.64-.555.664-1.578.922z\" /></g><g transform=\"translate(0, 200) scale(0.75, 0.75)\" fill=\"#e5e5e5\" stroke=\"#e5e5e5\"><path d=\"M11.016 18.035L7.03 24.262h3.985zm-.414-1.375h1.984v7.602h1.664v1.312h-1.664v2.75h-1.57v-2.75H5.75v-1.523z\" /></g><g transform=\"translate(375, 200) scale(0.75, 0.75)\" fill=\"#e5e5e5\" stroke=\"#e5e5e5\"><path d=\"M11.016 18.035L7.03 24.262h3.985zm-.414-1.375h1.984v7.602h1.664v1.312h-1.664v2.75h-1.57v-2.75H5.75v-1.523z\" /></g><g transform=\"translate(0, 155) scale(0.75, 0.75)\" fill=\"#e5e5e5\" stroke=\"#e5e5e5\"><path d=\"M6.719 16.66h6.195v1.328h-4.75v2.86q.344-.118.688-.172.343-.063.687-.063 1.953 0 3.094 1.07 1.14 1.07 1.14 2.899 0 1.883-1.171 2.93-1.172 1.039-3.305 1.039-.735 0-1.5-.125-.758-.125-1.57-.375v-1.586q.703.383 1.453.57.75.188 1.586.188 1.351 0 2.14-.711.79-.711.79-1.93 0-1.219-.79-1.93-.789-.71-2.14-.71-.633 0-1.266.14-.625.14-1.281.438z\" /></g><g transform=\"translate(375, 155) scale(0.75, 0.75)\" fill=\"#e5e5e5\" stroke=\"#e5e5e5\"><path d=\"M6.719 16.66h6.195v1.328h-4.75v2.86q.344-.118.688-.172.343-.063.687-.063 1.953 0 3.094 1.07 1.14 1.07 1.14 2.899 0 1.883-1.171 2.93-1.172 1.039-3.305 1.039-.735 0-1.5-.125-.758-.125-1.57-.375v-1.586q.703.383 1.453.57.75.188 1.586.188 1.351 0 2.14-.711.79-.711.79-1.93 0-1.219-.79-1.93-.789-.71-2.14-.71-.633 0-1.266.14-.625.14-1.281.438z\" /></g><g transform=\"translate(0, 110) scale(0.75, 0.75)\" fill=\"#e5e5e5\" stroke=\"#e5e5e5\"><path d=\"M10.137 21.863q-1.063 0-1.688.727-.617.726-.617 1.992 0 1.258.617 1.992.625.727 1.688.727 1.062 0 1.68-.727.624-.734.624-1.992 0-1.266-.625-1.992-.617-.727-1.68-.727zm3.133-4.945v1.437q-.594-.28-1.204-.43-.601-.148-1.195-.148-1.562 0-2.39 1.055-.82 1.055-.938 3.188.46-.68 1.156-1.04.696-.367 1.531-.367 1.758 0 2.774 1.07 1.023 1.063 1.023 2.899 0 1.797-1.062 2.883-1.063 1.086-2.828 1.086-2.024 0-3.094-1.547-1.07-1.555-1.07-4.5 0-2.766 1.312-4.406 1.313-1.649 3.524-1.649.593 0 1.195.117.61.118 1.266.352z\" /></g><g transform=\"translate(375, 110) scale(0.75, 0.75)\" fill=\"#e5e5e5\" stroke=\"#e5e5e5\"><path d=\"M10.137 21.863q-1.063 0-1.688.727-.617.726-.617 1.992 0 1.258.617 1.992.625.727 1.688.727 1.062 0 1.68-.727.624-.734.624-1.992 0-1.266-.625-1.992-.617-.727-1.68-.727zm3.133-4.945v1.437q-.594-.28-1.204-.43-.601-.148-1.195-.148-1.562 0-2.39 1.055-.82 1.055-.938 3.188.46-.68 1.156-1.04.696-.367 1.531-.367 1.758 0 2.774 1.07 1.023 1.063 1.023 2.899 0 1.797-1.062 2.883-1.063 1.086-2.828 1.086-2.024 0-3.094-1.547-1.07-1.555-1.07-4.5 0-2.766 1.312-4.406 1.313-1.649 3.524-1.649.593 0 1.195.117.61.118 1.266.352z\" /></g><g transform=\"translate(0, 65) scale(0.75, 0.75)\" fill=\"#e5e5e5\" stroke=\"#e5e5e5\"><path d=\"M6.25 16.66h7.5v.672L9.516 28.324H7.867l3.985-10.336H6.25z\" /></g><g transform=\"translate(375, 65) scale(0.75, 0.75)\" fill=\"#e5e5e5\" stroke=\"#e5e5e5\"><path d=\"M6.25 16.66h7.5v.672L9.516 28.324H7.867l3.985-10.336H6.25z\" /></g><g transform=\"translate(0, 20) scale(0.75, 0.75)\" fill=\"#e5e5e5\" stroke=\"#e5e5e5\"><path d=\"M10 22.785q-1.125 0-1.773.602-.641.601-.641 1.656t.64 1.656q.649.602 1.774.602t1.773-.602q.649-.61.649-1.656 0-1.055-.649-1.656-.64-.602-1.773-.602zm-1.578-.672q-1.016-.25-1.586-.945-.563-.695-.563-1.695 0-1.399.993-2.211 1-.813 2.734-.813 1.742 0 2.734.813.993.812.993 2.21 0 1-.57 1.696-.563.695-1.571.945 1.14.266 1.773 1.04.641.773.641 1.89 0 1.695-1.04 2.602-1.03.906-2.96.906t-2.969-.906Q6 26.738 6 25.043q0-1.117.64-1.89.641-.774 1.782-1.04zm-.578-2.492q0 .906.562 1.414.57.508 1.594.508 1.016 0 1.586-.508.578-.508.578-1.414 0-.906-.578-1.414-.57-.508-1.586-.508-1.023 0-1.594.508-.562.508-.562 1.414z\" /></g><g transform=\"translate(375, 20) scale(0.75, 0.75)\" fill=\"#e5e5e5\" stroke=\"#e5e5e5\"><path d=\"M10 22.785q-1.125 0-1.773.602-.641.601-.641 1.656t.64 1.656q.649.602 1.774.602t1.773-.602q.649-.61.649-1.656 0-1.055-.649-1.656-.64-.602-1.773-.602zm-1.578-.672q-1.016-.25-1.586-.945-.563-.695-.563-1.695 0-1.399.993-2.211 1-.813 2.734-.813 1.742 0 2.734.813.993.812.993 2.21 0 1-.57 1.696-.563.695-1.571.945 1.14.266 1.773 1.04.641.773.641 1.89 0 1.695-1.04 2.602-1.03.906-2.96.906t-2.969-.906Q6 26.738 6 25.043q0-1.117.64-1.89.641-.774 1.782-1.04zm-.578-2.492q0 .906.562 1.414.57.508 1.594.508 1.016 0 1.586-.508.578-.508.578-1.414 0-.906-.578-1.414-.57-.508-1.586-.508-1.023 0-1.594.508-.562.508-.562 1.414z\" /></g><rect x=\"15\" y=\"330\" width=\"45\" height=\"45\" class=\"square dark a1\" stroke=\"none\" fill=\"#d18b47\" /><rect x=\"60\" y=\"330\" width=\"45\" height=\"45\" class=\"square light b1\" stroke=\"none\" fill=\"#ffce9e\" /><rect x=\"105\" y=\"330\" width=\"45\" height=\"45\" class=\"square dark c1\" stroke=\"none\" fill=\"#d18b47\" /><rect x=\"150\" y=\"330\" width=\"45\" height=\"45\" class=\"square light d1\" stroke=\"none\" fill=\"#ffce9e\" /><rect x=\"195\" y=\"330\" width=\"45\" height=\"45\" class=\"square dark lastmove e1\" stroke=\"none\" fill=\"#aaa23b\" /><rect x=\"240\" y=\"330\" width=\"45\" height=\"45\" class=\"square light f1\" stroke=\"none\" fill=\"#ffce9e\" /><rect x=\"285\" y=\"330\" width=\"45\" height=\"45\" class=\"square dark g1\" stroke=\"none\" fill=\"#d18b47\" /><rect x=\"330\" y=\"330\" width=\"45\" height=\"45\" class=\"square light h1\" stroke=\"none\" fill=\"#ffce9e\" /><rect x=\"15\" y=\"285\" width=\"45\" height=\"45\" class=\"square light a2\" stroke=\"none\" fill=\"#ffce9e\" /><rect x=\"60\" y=\"285\" width=\"45\" height=\"45\" class=\"square dark b2\" stroke=\"none\" fill=\"#d18b47\" /><rect x=\"105\" y=\"285\" width=\"45\" height=\"45\" class=\"square light c2\" stroke=\"none\" fill=\"#ffce9e\" /><rect x=\"150\" y=\"285\" width=\"45\" height=\"45\" class=\"square dark d2\" stroke=\"none\" fill=\"#d18b47\" /><rect x=\"195\" y=\"285\" width=\"45\" height=\"45\" class=\"square light lastmove e2\" stroke=\"none\" fill=\"#cdd16a\" /><rect x=\"240\" y=\"285\" width=\"45\" height=\"45\" class=\"square dark f2\" stroke=\"none\" fill=\"#d18b47\" /><rect x=\"285\" y=\"285\" width=\"45\" height=\"45\" class=\"square light g2\" stroke=\"none\" fill=\"#ffce9e\" /><rect x=\"330\" y=\"285\" width=\"45\" height=\"45\" class=\"square dark h2\" stroke=\"none\" fill=\"#d18b47\" /><rect x=\"15\" y=\"240\" width=\"45\" height=\"45\" class=\"square dark a3\" stroke=\"none\" fill=\"#d18b47\" /><rect x=\"60\" y=\"240\" width=\"45\" height=\"45\" class=\"square light b3\" stroke=\"none\" fill=\"#ffce9e\" /><rect x=\"105\" y=\"240\" width=\"45\" height=\"45\" class=\"square dark c3\" stroke=\"none\" fill=\"#d18b47\" /><rect x=\"150\" y=\"240\" width=\"45\" height=\"45\" class=\"square light d3\" stroke=\"none\" fill=\"#ffce9e\" /><rect x=\"195\" y=\"240\" width=\"45\" height=\"45\" class=\"square dark e3\" stroke=\"none\" fill=\"#d18b47\" /><rect x=\"240\" y=\"240\" width=\"45\" height=\"45\" class=\"square light f3\" stroke=\"none\" fill=\"#ffce9e\" /><rect x=\"285\" y=\"240\" width=\"45\" height=\"45\" class=\"square dark g3\" stroke=\"none\" fill=\"#d18b47\" /><rect x=\"330\" y=\"240\" width=\"45\" height=\"45\" class=\"square light h3\" stroke=\"none\" fill=\"#ffce9e\" /><rect x=\"15\" y=\"195\" width=\"45\" height=\"45\" class=\"square light a4\" stroke=\"none\" fill=\"#ffce9e\" /><rect x=\"60\" y=\"195\" width=\"45\" height=\"45\" class=\"square dark b4\" stroke=\"none\" fill=\"#d18b47\" /><rect x=\"105\" y=\"195\" width=\"45\" height=\"45\" class=\"square light c4\" stroke=\"none\" fill=\"#ffce9e\" /><rect x=\"150\" y=\"195\" width=\"45\" height=\"45\" class=\"square dark d4\" stroke=\"none\" fill=\"#d18b47\" /><rect x=\"195\" y=\"195\" width=\"45\" height=\"45\" class=\"square light e4\" stroke=\"none\" fill=\"#ffce9e\" /><rect x=\"240\" y=\"195\" width=\"45\" height=\"45\" class=\"square dark f4\" stroke=\"none\" fill=\"#d18b47\" /><rect x=\"285\" y=\"195\" width=\"45\" height=\"45\" class=\"square light g4\" stroke=\"none\" fill=\"#ffce9e\" /><rect x=\"330\" y=\"195\" width=\"45\" height=\"45\" class=\"square dark h4\" stroke=\"none\" fill=\"#d18b47\" /><rect x=\"15\" y=\"150\" width=\"45\" height=\"45\" class=\"square dark a5\" stroke=\"none\" fill=\"#d18b47\" /><rect x=\"60\" y=\"150\" width=\"45\" height=\"45\" class=\"square light b5\" stroke=\"none\" fill=\"#ffce9e\" /><rect x=\"105\" y=\"150\" width=\"45\" height=\"45\" class=\"square dark c5\" stroke=\"none\" fill=\"#d18b47\" /><rect x=\"150\" y=\"150\" width=\"45\" height=\"45\" class=\"square light d5\" stroke=\"none\" fill=\"#ffce9e\" /><rect x=\"195\" y=\"150\" width=\"45\" height=\"45\" class=\"square dark e5\" stroke=\"none\" fill=\"#d18b47\" /><rect x=\"240\" y=\"150\" width=\"45\" height=\"45\" class=\"square light f5\" stroke=\"none\" fill=\"#ffce9e\" /><rect x=\"285\" y=\"150\" width=\"45\" height=\"45\" class=\"square dark g5\" stroke=\"none\" fill=\"#d18b47\" /><rect x=\"330\" y=\"150\" width=\"45\" height=\"45\" class=\"square light h5\" stroke=\"none\" fill=\"#ffce9e\" /><rect x=\"15\" y=\"105\" width=\"45\" height=\"45\" class=\"square light a6\" stroke=\"none\" fill=\"#ffce9e\" /><rect x=\"60\" y=\"105\" width=\"45\" height=\"45\" class=\"square dark b6\" stroke=\"none\" fill=\"#d18b47\" /><rect x=\"105\" y=\"105\" width=\"45\" height=\"45\" class=\"square light c6\" stroke=\"none\" fill=\"#ffce9e\" /><rect x=\"150\" y=\"105\" width=\"45\" height=\"45\" class=\"square dark d6\" stroke=\"none\" fill=\"#d18b47\" /><rect x=\"195\" y=\"105\" width=\"45\" height=\"45\" class=\"square light e6\" stroke=\"none\" fill=\"#ffce9e\" /><rect x=\"240\" y=\"105\" width=\"45\" height=\"45\" class=\"square dark f6\" stroke=\"none\" fill=\"#d18b47\" /><rect x=\"285\" y=\"105\" width=\"45\" height=\"45\" class=\"square light g6\" stroke=\"none\" fill=\"#ffce9e\" /><rect x=\"330\" y=\"105\" width=\"45\" height=\"45\" class=\"square dark h6\" stroke=\"none\" fill=\"#d18b47\" /><rect x=\"15\" y=\"60\" width=\"45\" height=\"45\" class=\"square dark a7\" stroke=\"none\" fill=\"#d18b47\" /><rect x=\"60\" y=\"60\" width=\"45\" height=\"45\" class=\"square light b7\" stroke=\"none\" fill=\"#ffce9e\" /><rect x=\"105\" y=\"60\" width=\"45\" height=\"45\" class=\"square dark c7\" stroke=\"none\" fill=\"#d18b47\" /><rect x=\"150\" y=\"60\" width=\"45\" height=\"45\" class=\"square light d7\" stroke=\"none\" fill=\"#ffce9e\" /><rect x=\"195\" y=\"60\" width=\"45\" height=\"45\" class=\"square dark e7\" stroke=\"none\" fill=\"#d18b47\" /><rect x=\"240\" y=\"60\" width=\"45\" height=\"45\" class=\"square light f7\" stroke=\"none\" fill=\"#ffce9e\" /><rect x=\"285\" y=\"60\" width=\"45\" height=\"45\" class=\"square dark g7\" stroke=\"none\" fill=\"#d18b47\" /><rect x=\"330\" y=\"60\" width=\"45\" height=\"45\" class=\"square light h7\" stroke=\"none\" fill=\"#ffce9e\" /><rect x=\"15\" y=\"15\" width=\"45\" height=\"45\" class=\"square light a8\" stroke=\"none\" fill=\"#ffce9e\" /><rect x=\"60\" y=\"15\" width=\"45\" height=\"45\" class=\"square dark b8\" stroke=\"none\" fill=\"#d18b47\" /><rect x=\"105\" y=\"15\" width=\"45\" height=\"45\" class=\"square light c8\" stroke=\"none\" fill=\"#ffce9e\" /><rect x=\"150\" y=\"15\" width=\"45\" height=\"45\" class=\"square dark d8\" stroke=\"none\" fill=\"#d18b47\" /><rect x=\"195\" y=\"15\" width=\"45\" height=\"45\" class=\"square light e8\" stroke=\"none\" fill=\"#ffce9e\" /><rect x=\"240\" y=\"15\" width=\"45\" height=\"45\" class=\"square dark f8\" stroke=\"none\" fill=\"#d18b47\" /><rect x=\"285\" y=\"15\" width=\"45\" height=\"45\" class=\"square light g8\" stroke=\"none\" fill=\"#ffce9e\" /><rect x=\"330\" y=\"15\" width=\"45\" height=\"45\" class=\"square dark h8\" stroke=\"none\" fill=\"#d18b47\" /><use href=\"#white-rook\" xlink:href=\"#white-rook\" transform=\"translate(15, 330)\" /><use href=\"#white-knight\" xlink:href=\"#white-knight\" transform=\"translate(60, 330)\" /><use href=\"#white-bishop\" xlink:href=\"#white-bishop\" transform=\"translate(105, 330)\" /><use href=\"#white-queen\" xlink:href=\"#white-queen\" transform=\"translate(150, 330)\" /><use href=\"#black-pawn\" xlink:href=\"#black-pawn\" transform=\"translate(195, 330)\" /><use href=\"#white-bishop\" xlink:href=\"#white-bishop\" transform=\"translate(240, 330)\" /><use href=\"#white-rook\" xlink:href=\"#white-rook\" transform=\"translate(330, 330)\" /><use href=\"#white-pawn\" xlink:href=\"#white-pawn\" transform=\"translate(15, 285)\" /><use href=\"#white-pawn\" xlink:href=\"#white-pawn\" transform=\"translate(60, 285)\" /><use href=\"#white-pawn\" xlink:href=\"#white-pawn\" transform=\"translate(105, 285)\" /><use href=\"#white-pawn\" xlink:href=\"#white-pawn\" transform=\"translate(150, 285)\" /><use href=\"#white-pawn\" xlink:href=\"#white-pawn\" transform=\"translate(240, 285)\" /><use href=\"#white-pawn\" xlink:href=\"#white-pawn\" transform=\"translate(285, 285)\" /><use href=\"#white-pawn\" xlink:href=\"#white-pawn\" transform=\"translate(330, 285)\" /><use href=\"#white-knight\" xlink:href=\"#white-knight\" transform=\"translate(240, 240)\" /><use href=\"#black-pawn\" xlink:href=\"#black-pawn\" transform=\"translate(15, 60)\" /><use href=\"#black-pawn\" xlink:href=\"#black-pawn\" transform=\"translate(60, 60)\" /><use href=\"#black-pawn\" xlink:href=\"#black-pawn\" transform=\"translate(105, 60)\" /><use href=\"#black-pawn\" xlink:href=\"#black-pawn\" transform=\"translate(150, 60)\" /><use href=\"#black-pawn\" xlink:href=\"#black-pawn\" transform=\"translate(195, 60)\" /><use href=\"#black-pawn\" xlink:href=\"#black-pawn\" transform=\"translate(240, 60)\" /><use href=\"#black-pawn\" xlink:href=\"#black-pawn\" transform=\"translate(285, 60)\" /><use href=\"#black-pawn\" xlink:href=\"#black-pawn\" transform=\"translate(330, 60)\" /><use href=\"#black-rook\" xlink:href=\"#black-rook\" transform=\"translate(15, 15)\" /><use href=\"#black-knight\" xlink:href=\"#black-knight\" transform=\"translate(60, 15)\" /><use href=\"#black-bishop\" xlink:href=\"#black-bishop\" transform=\"translate(105, 15)\" /><use href=\"#black-queen\" xlink:href=\"#black-queen\" transform=\"translate(150, 15)\" /><use href=\"#black-king\" xlink:href=\"#black-king\" transform=\"translate(195, 15)\" /><use href=\"#black-bishop\" xlink:href=\"#black-bishop\" transform=\"translate(240, 15)\" /><use href=\"#black-knight\" xlink:href=\"#black-knight\" transform=\"translate(285, 15)\" /><use href=\"#black-rook\" xlink:href=\"#black-rook\" transform=\"translate(330, 15)\" /></svg>"
      ],
      "text/plain": [
       "Board('rnbqkbnr/pppppppp/8/8/8/5N2/PPPP1PPP/RNBQpB1R w kq - 0 2')"
      ]
     },
     "execution_count": 16,
     "metadata": {},
     "output_type": "execute_result"
    }
   ],
   "source": [
    "board"
   ]
  },
  {
   "cell_type": "code",
   "execution_count": 17,
   "metadata": {},
   "outputs": [
    {
     "name": "stdout",
     "output_type": "stream",
     "text": [
      "r n b q k b n r\n",
      "p p p p p p p p\n",
      ". . . . . . . .\n",
      ". . . . . . . .\n",
      ". . . . . . . .\n",
      ". . . . . N . .\n",
      "P P P P . P P P\n",
      "R N B Q p B . R\n"
     ]
    }
   ],
   "source": [
    "print(board)"
   ]
  },
  {
   "cell_type": "code",
   "execution_count": 19,
   "metadata": {},
   "outputs": [
    {
     "ename": "IllegalMoveError",
     "evalue": "illegal uci: 'e2e1' in rnbqkbnr/pppppppp/8/8/8/8/PPPPPPPP/RNBQKBNR w KQkq - 0 1",
     "output_type": "error",
     "traceback": [
      "\u001b[0;31m---------------------------------------------------------------------------\u001b[0m",
      "\u001b[0;31mIllegalMoveError\u001b[0m                          Traceback (most recent call last)",
      "\u001b[0;32m/tmp/ipykernel_73528/3051154413.py\u001b[0m in \u001b[0;36m<module>\u001b[0;34m\u001b[0m\n\u001b[1;32m      2\u001b[0m \u001b[0mmove\u001b[0m \u001b[0;34m=\u001b[0m \u001b[0mchess\u001b[0m\u001b[0;34m.\u001b[0m\u001b[0mMove\u001b[0m\u001b[0;34m.\u001b[0m\u001b[0mfrom_uci\u001b[0m\u001b[0;34m(\u001b[0m\u001b[0;34m\"e2e1\"\u001b[0m\u001b[0;34m)\u001b[0m\u001b[0;34m\u001b[0m\u001b[0;34m\u001b[0m\u001b[0m\n\u001b[1;32m      3\u001b[0m \u001b[0mmove\u001b[0m \u001b[0;34m=\u001b[0m \u001b[0mmove\u001b[0m\u001b[0;34m.\u001b[0m\u001b[0muci\u001b[0m\u001b[0;34m(\u001b[0m\u001b[0;34m)\u001b[0m\u001b[0;34m\u001b[0m\u001b[0;34m\u001b[0m\u001b[0m\n\u001b[0;32m----> 4\u001b[0;31m \u001b[0mboard\u001b[0m\u001b[0;34m.\u001b[0m\u001b[0mpush_uci\u001b[0m\u001b[0;34m(\u001b[0m\u001b[0mmove\u001b[0m\u001b[0;34m)\u001b[0m\u001b[0;34m\u001b[0m\u001b[0;34m\u001b[0m\u001b[0m\n\u001b[0m",
      "\u001b[0;32m~/.local/lib/python3.10/site-packages/chess/__init__.py\u001b[0m in \u001b[0;36mpush_uci\u001b[0;34m(self, uci)\u001b[0m\n\u001b[1;32m   3162\u001b[0m             \u001b[0;34m-\u001b[0m \u001b[0;34m:\u001b[0m\u001b[0mexc\u001b[0m\u001b[0;34m:\u001b[0m\u001b[0;31m`\u001b[0m\u001b[0mIllegalMoveError\u001b[0m\u001b[0;31m`\u001b[0m \u001b[0;32mif\u001b[0m \u001b[0mthe\u001b[0m \u001b[0mUCI\u001b[0m \u001b[0;32mis\u001b[0m \u001b[0millegal\u001b[0m\u001b[0;34m.\u001b[0m\u001b[0;34m\u001b[0m\u001b[0;34m\u001b[0m\u001b[0m\n\u001b[1;32m   3163\u001b[0m         \"\"\"\n\u001b[0;32m-> 3164\u001b[0;31m         \u001b[0mmove\u001b[0m \u001b[0;34m=\u001b[0m \u001b[0mself\u001b[0m\u001b[0;34m.\u001b[0m\u001b[0mparse_uci\u001b[0m\u001b[0;34m(\u001b[0m\u001b[0muci\u001b[0m\u001b[0;34m)\u001b[0m\u001b[0;34m\u001b[0m\u001b[0;34m\u001b[0m\u001b[0m\n\u001b[0m\u001b[1;32m   3165\u001b[0m         \u001b[0mself\u001b[0m\u001b[0;34m.\u001b[0m\u001b[0mpush\u001b[0m\u001b[0;34m(\u001b[0m\u001b[0mmove\u001b[0m\u001b[0;34m)\u001b[0m\u001b[0;34m\u001b[0m\u001b[0;34m\u001b[0m\u001b[0m\n\u001b[1;32m   3166\u001b[0m         \u001b[0;32mreturn\u001b[0m \u001b[0mmove\u001b[0m\u001b[0;34m\u001b[0m\u001b[0;34m\u001b[0m\u001b[0m\n",
      "\u001b[0;32m~/.local/lib/python3.10/site-packages/chess/__init__.py\u001b[0m in \u001b[0;36mparse_uci\u001b[0;34m(self, uci)\u001b[0m\n\u001b[1;32m   3145\u001b[0m \u001b[0;34m\u001b[0m\u001b[0m\n\u001b[1;32m   3146\u001b[0m         \u001b[0;32mif\u001b[0m \u001b[0;32mnot\u001b[0m \u001b[0mself\u001b[0m\u001b[0;34m.\u001b[0m\u001b[0mis_legal\u001b[0m\u001b[0;34m(\u001b[0m\u001b[0mmove\u001b[0m\u001b[0;34m)\u001b[0m\u001b[0;34m:\u001b[0m\u001b[0;34m\u001b[0m\u001b[0;34m\u001b[0m\u001b[0m\n\u001b[0;32m-> 3147\u001b[0;31m             \u001b[0;32mraise\u001b[0m \u001b[0mIllegalMoveError\u001b[0m\u001b[0;34m(\u001b[0m\u001b[0;34mf\"illegal uci: {uci!r} in {self.fen()}\"\u001b[0m\u001b[0;34m)\u001b[0m\u001b[0;34m\u001b[0m\u001b[0;34m\u001b[0m\u001b[0m\n\u001b[0m\u001b[1;32m   3148\u001b[0m \u001b[0;34m\u001b[0m\u001b[0m\n\u001b[1;32m   3149\u001b[0m         \u001b[0;32mreturn\u001b[0m \u001b[0mmove\u001b[0m\u001b[0;34m\u001b[0m\u001b[0;34m\u001b[0m\u001b[0m\n",
      "\u001b[0;31mIllegalMoveError\u001b[0m: illegal uci: 'e2e1' in rnbqkbnr/pppppppp/8/8/8/8/PPPPPPPP/RNBQKBNR w KQkq - 0 1"
     ]
    }
   ],
   "source": [
    "board = chess.Board()\n",
    "move = chess.Move.from_uci(\"e2e1\")\n",
    "move = move.uci()\n",
    "board.push_uci(move)"
   ]
  },
  {
   "cell_type": "code",
   "execution_count": 21,
   "metadata": {},
   "outputs": [
    {
     "data": {
      "text/plain": [
       "'rnbqkbnr/pppppppp/8/8/8/8/PPPPPPPP/RNBQKBNR w KQkq - 0 1'"
      ]
     },
     "execution_count": 21,
     "metadata": {},
     "output_type": "execute_result"
    }
   ],
   "source": [
    "board.fen()"
   ]
  },
  {
   "cell_type": "code",
   "execution_count": 22,
   "metadata": {},
   "outputs": [
    {
     "ename": "ValueError",
     "evalue": "expected position part of fen, got multiple parts: '4r1rk/5K1b/7R/R7/8/8/8/8 w - - 0 1'",
     "output_type": "error",
     "traceback": [
      "\u001b[0;31m---------------------------------------------------------------------------\u001b[0m",
      "\u001b[0;31mValueError\u001b[0m                                Traceback (most recent call last)",
      "\u001b[0;32m/tmp/ipykernel_73528/1618927111.py\u001b[0m in \u001b[0;36m<module>\u001b[0;34m\u001b[0m\n\u001b[0;32m----> 1\u001b[0;31m \u001b[0mboard\u001b[0m\u001b[0;34m.\u001b[0m\u001b[0mset_board_fen\u001b[0m\u001b[0;34m(\u001b[0m\u001b[0;34m'4r1rk/5K1b/7R/R7/8/8/8/8 w - - 0 1'\u001b[0m\u001b[0;34m)\u001b[0m\u001b[0;34m\u001b[0m\u001b[0;34m\u001b[0m\u001b[0m\n\u001b[0m",
      "\u001b[0;32m~/.local/lib/python3.10/site-packages/chess/__init__.py\u001b[0m in \u001b[0;36mset_board_fen\u001b[0;34m(self, fen)\u001b[0m\n\u001b[1;32m   2590\u001b[0m \u001b[0;34m\u001b[0m\u001b[0m\n\u001b[1;32m   2591\u001b[0m     \u001b[0;32mdef\u001b[0m \u001b[0mset_board_fen\u001b[0m\u001b[0;34m(\u001b[0m\u001b[0mself\u001b[0m\u001b[0;34m,\u001b[0m \u001b[0mfen\u001b[0m\u001b[0;34m:\u001b[0m \u001b[0mstr\u001b[0m\u001b[0;34m)\u001b[0m \u001b[0;34m->\u001b[0m \u001b[0;32mNone\u001b[0m\u001b[0;34m:\u001b[0m\u001b[0;34m\u001b[0m\u001b[0;34m\u001b[0m\u001b[0m\n\u001b[0;32m-> 2592\u001b[0;31m         \u001b[0msuper\u001b[0m\u001b[0;34m(\u001b[0m\u001b[0;34m)\u001b[0m\u001b[0;34m.\u001b[0m\u001b[0mset_board_fen\u001b[0m\u001b[0;34m(\u001b[0m\u001b[0mfen\u001b[0m\u001b[0;34m)\u001b[0m\u001b[0;34m\u001b[0m\u001b[0;34m\u001b[0m\u001b[0m\n\u001b[0m\u001b[1;32m   2593\u001b[0m         \u001b[0mself\u001b[0m\u001b[0;34m.\u001b[0m\u001b[0mclear_stack\u001b[0m\u001b[0;34m(\u001b[0m\u001b[0;34m)\u001b[0m\u001b[0;34m\u001b[0m\u001b[0;34m\u001b[0m\u001b[0m\n\u001b[1;32m   2594\u001b[0m \u001b[0;34m\u001b[0m\u001b[0m\n",
      "\u001b[0;32m~/.local/lib/python3.10/site-packages/chess/__init__.py\u001b[0m in \u001b[0;36mset_board_fen\u001b[0;34m(self, fen)\u001b[0m\n\u001b[1;32m   1071\u001b[0m         \u001b[0;34m:\u001b[0m\u001b[0mraises\u001b[0m\u001b[0;34m:\u001b[0m \u001b[0;34m:\u001b[0m\u001b[0mexc\u001b[0m\u001b[0;34m:\u001b[0m\u001b[0;31m`\u001b[0m\u001b[0mValueError\u001b[0m\u001b[0;31m`\u001b[0m \u001b[0;32mif\u001b[0m \u001b[0msyntactically\u001b[0m \u001b[0minvalid\u001b[0m\u001b[0;34m.\u001b[0m\u001b[0;34m\u001b[0m\u001b[0;34m\u001b[0m\u001b[0m\n\u001b[1;32m   1072\u001b[0m         \"\"\"\n\u001b[0;32m-> 1073\u001b[0;31m         \u001b[0mself\u001b[0m\u001b[0;34m.\u001b[0m\u001b[0m_set_board_fen\u001b[0m\u001b[0;34m(\u001b[0m\u001b[0mfen\u001b[0m\u001b[0;34m)\u001b[0m\u001b[0;34m\u001b[0m\u001b[0;34m\u001b[0m\u001b[0m\n\u001b[0m\u001b[1;32m   1074\u001b[0m \u001b[0;34m\u001b[0m\u001b[0m\n\u001b[1;32m   1075\u001b[0m     \u001b[0;32mdef\u001b[0m \u001b[0mpiece_map\u001b[0m\u001b[0;34m(\u001b[0m\u001b[0mself\u001b[0m\u001b[0;34m,\u001b[0m \u001b[0;34m*\u001b[0m\u001b[0;34m,\u001b[0m \u001b[0mmask\u001b[0m\u001b[0;34m:\u001b[0m \u001b[0mBitboard\u001b[0m \u001b[0;34m=\u001b[0m \u001b[0mBB_ALL\u001b[0m\u001b[0;34m)\u001b[0m \u001b[0;34m->\u001b[0m \u001b[0mDict\u001b[0m\u001b[0;34m[\u001b[0m\u001b[0mSquare\u001b[0m\u001b[0;34m,\u001b[0m \u001b[0mPiece\u001b[0m\u001b[0;34m]\u001b[0m\u001b[0;34m:\u001b[0m\u001b[0;34m\u001b[0m\u001b[0;34m\u001b[0m\u001b[0m\n",
      "\u001b[0;32m~/.local/lib/python3.10/site-packages/chess/__init__.py\u001b[0m in \u001b[0;36m_set_board_fen\u001b[0;34m(self, fen)\u001b[0m\n\u001b[1;32m   1012\u001b[0m         \u001b[0mfen\u001b[0m \u001b[0;34m=\u001b[0m \u001b[0mfen\u001b[0m\u001b[0;34m.\u001b[0m\u001b[0mstrip\u001b[0m\u001b[0;34m(\u001b[0m\u001b[0;34m)\u001b[0m\u001b[0;34m\u001b[0m\u001b[0;34m\u001b[0m\u001b[0m\n\u001b[1;32m   1013\u001b[0m         \u001b[0;32mif\u001b[0m \u001b[0;34m\" \"\u001b[0m \u001b[0;32min\u001b[0m \u001b[0mfen\u001b[0m\u001b[0;34m:\u001b[0m\u001b[0;34m\u001b[0m\u001b[0;34m\u001b[0m\u001b[0m\n\u001b[0;32m-> 1014\u001b[0;31m             \u001b[0;32mraise\u001b[0m \u001b[0mValueError\u001b[0m\u001b[0;34m(\u001b[0m\u001b[0;34mf\"expected position part of fen, got multiple parts: {fen!r}\"\u001b[0m\u001b[0;34m)\u001b[0m\u001b[0;34m\u001b[0m\u001b[0;34m\u001b[0m\u001b[0m\n\u001b[0m\u001b[1;32m   1015\u001b[0m \u001b[0;34m\u001b[0m\u001b[0m\n\u001b[1;32m   1016\u001b[0m         \u001b[0;31m# Ensure the FEN is valid.\u001b[0m\u001b[0;34m\u001b[0m\u001b[0;34m\u001b[0m\u001b[0m\n",
      "\u001b[0;31mValueError\u001b[0m: expected position part of fen, got multiple parts: '4r1rk/5K1b/7R/R7/8/8/8/8 w - - 0 1'"
     ]
    }
   ],
   "source": []
  },
  {
   "cell_type": "code",
   "execution_count": 24,
   "metadata": {},
   "outputs": [
    {
     "data": {
      "image/svg+xml": [
       "<svg xmlns=\"http://www.w3.org/2000/svg\" xmlns:xlink=\"http://www.w3.org/1999/xlink\" viewBox=\"0 0 390 390\" width=\"390\" height=\"390\"><desc><pre>. . . . r . r k\n",
       ". . . . . K . b\n",
       ". . . . . . . R\n",
       "R . . . . . . .\n",
       ". . . . . . . .\n",
       ". . . . . . . .\n",
       ". . . . . . . .\n",
       ". . . . . . . .</pre></desc><defs><g id=\"white-rook\" class=\"white rook\" fill=\"#fff\" fill-rule=\"evenodd\" stroke=\"#000\" stroke-width=\"1.5\" stroke-linecap=\"round\" stroke-linejoin=\"round\"><path d=\"M9 39h27v-3H9v3zM12 36v-4h21v4H12zM11 14V9h4v2h5V9h5v2h5V9h4v5\" stroke-linecap=\"butt\" /><path d=\"M34 14l-3 3H14l-3-3\" /><path d=\"M31 17v12.5H14V17\" stroke-linecap=\"butt\" stroke-linejoin=\"miter\" /><path d=\"M31 29.5l1.5 2.5h-20l1.5-2.5\" /><path d=\"M11 14h23\" fill=\"none\" stroke-linejoin=\"miter\" /></g><g id=\"white-king\" class=\"white king\" fill=\"none\" fill-rule=\"evenodd\" stroke=\"#000\" stroke-width=\"1.5\" stroke-linecap=\"round\" stroke-linejoin=\"round\"><path d=\"M22.5 11.63V6M20 8h5\" stroke-linejoin=\"miter\" /><path d=\"M22.5 25s4.5-7.5 3-10.5c0 0-1-2.5-3-2.5s-3 2.5-3 2.5c-1.5 3 3 10.5 3 10.5\" fill=\"#fff\" stroke-linecap=\"butt\" stroke-linejoin=\"miter\" /><path d=\"M11.5 37c5.5 3.5 15.5 3.5 21 0v-7s9-4.5 6-10.5c-4-6.5-13.5-3.5-16 4V27v-3.5c-3.5-7.5-13-10.5-16-4-3 6 5 10 5 10V37z\" fill=\"#fff\" /><path d=\"M11.5 30c5.5-3 15.5-3 21 0m-21 3.5c5.5-3 15.5-3 21 0m-21 3.5c5.5-3 15.5-3 21 0\" /></g><g id=\"black-bishop\" class=\"black bishop\" fill=\"none\" fill-rule=\"evenodd\" stroke=\"#000\" stroke-width=\"1.5\" stroke-linecap=\"round\" stroke-linejoin=\"round\"><path d=\"M9 36c3.39-.97 10.11.43 13.5-2 3.39 2.43 10.11 1.03 13.5 2 0 0 1.65.54 3 2-.68.97-1.65.99-3 .5-3.39-.97-10.11.46-13.5-1-3.39 1.46-10.11.03-13.5 1-1.354.49-2.323.47-3-.5 1.354-1.94 3-2 3-2zm6-4c2.5 2.5 12.5 2.5 15 0 .5-1.5 0-2 0-2 0-2.5-2.5-4-2.5-4 5.5-1.5 6-11.5-5-15.5-11 4-10.5 14-5 15.5 0 0-2.5 1.5-2.5 4 0 0-.5.5 0 2zM25 8a2.5 2.5 0 1 1-5 0 2.5 2.5 0 1 1 5 0z\" fill=\"#000\" stroke-linecap=\"butt\" /><path d=\"M17.5 26h10M15 30h15m-7.5-14.5v5M20 18h5\" stroke=\"#fff\" stroke-linejoin=\"miter\" /></g><g id=\"black-rook\" class=\"black rook\" fill=\"#000\" fill-rule=\"evenodd\" stroke=\"#000\" stroke-width=\"1.5\" stroke-linecap=\"round\" stroke-linejoin=\"round\"><path d=\"M9 39h27v-3H9v3zM12.5 32l1.5-2.5h17l1.5 2.5h-20zM12 36v-4h21v4H12z\" stroke-linecap=\"butt\" /><path d=\"M14 29.5v-13h17v13H14z\" stroke-linecap=\"butt\" stroke-linejoin=\"miter\" /><path d=\"M14 16.5L11 14h23l-3 2.5H14zM11 14V9h4v2h5V9h5v2h5V9h4v5H11z\" stroke-linecap=\"butt\" /><path d=\"M12 35.5h21M13 31.5h19M14 29.5h17M14 16.5h17M11 14h23\" fill=\"none\" stroke=\"#fff\" stroke-width=\"1\" stroke-linejoin=\"miter\" /></g><g id=\"black-king\" class=\"black king\" fill=\"none\" fill-rule=\"evenodd\" stroke=\"#000\" stroke-width=\"1.5\" stroke-linecap=\"round\" stroke-linejoin=\"round\"><path d=\"M22.5 11.63V6\" stroke-linejoin=\"miter\" /><path d=\"M22.5 25s4.5-7.5 3-10.5c0 0-1-2.5-3-2.5s-3 2.5-3 2.5c-1.5 3 3 10.5 3 10.5\" fill=\"#000\" stroke-linecap=\"butt\" stroke-linejoin=\"miter\" /><path d=\"M11.5 37c5.5 3.5 15.5 3.5 21 0v-7s9-4.5 6-10.5c-4-6.5-13.5-3.5-16 4V27v-3.5c-3.5-7.5-13-10.5-16-4-3 6 5 10 5 10V37z\" fill=\"#000\" /><path d=\"M20 8h5\" stroke-linejoin=\"miter\" /><path d=\"M32 29.5s8.5-4 6.03-9.65C34.15 14 25 18 22.5 24.5l.01 2.1-.01-2.1C20 18 9.906 14 6.997 19.85c-2.497 5.65 4.853 9 4.853 9M11.5 30c5.5-3 15.5-3 21 0m-21 3.5c5.5-3 15.5-3 21 0m-21 3.5c5.5-3 15.5-3 21 0\" stroke=\"#fff\" /></g></defs><rect x=\"7.5\" y=\"7.5\" width=\"375\" height=\"375\" fill=\"none\" stroke=\"#212121\" stroke-width=\"15\" /><g transform=\"translate(20, 1) scale(0.75, 0.75)\" fill=\"#e5e5e5\" stroke=\"#e5e5e5\"><path d=\"M23.328 10.016q-1.742 0-2.414.398-.672.398-.672 1.36 0 .765.5 1.218.508.445 1.375.445 1.196 0 1.914-.843.727-.852.727-2.258v-.32zm2.867-.594v4.992h-1.437v-1.328q-.492.797-1.227 1.18-.734.375-1.797.375-1.343 0-2.14-.75-.79-.758-.79-2.024 0-1.476.985-2.226.992-.75 2.953-.75h2.016V8.75q0-.992-.656-1.531-.649-.547-1.829-.547-.75 0-1.46.18-.711.18-1.368.539V6.062q.79-.304 1.532-.453.742-.156 1.445-.156 1.898 0 2.836.984.937.985.937 2.985z\" /></g><g transform=\"translate(20, 375) scale(0.75, 0.75)\" fill=\"#e5e5e5\" stroke=\"#e5e5e5\"><path d=\"M23.328 10.016q-1.742 0-2.414.398-.672.398-.672 1.36 0 .765.5 1.218.508.445 1.375.445 1.196 0 1.914-.843.727-.852.727-2.258v-.32zm2.867-.594v4.992h-1.437v-1.328q-.492.797-1.227 1.18-.734.375-1.797.375-1.343 0-2.14-.75-.79-.758-.79-2.024 0-1.476.985-2.226.992-.75 2.953-.75h2.016V8.75q0-.992-.656-1.531-.649-.547-1.829-.547-.75 0-1.46.18-.711.18-1.368.539V6.062q.79-.304 1.532-.453.742-.156 1.445-.156 1.898 0 2.836.984.937.985.937 2.985z\" /></g><g transform=\"translate(65, 1) scale(0.75, 0.75)\" fill=\"#e5e5e5\" stroke=\"#e5e5e5\"><path d=\"M24.922 10.047q0-1.586-.656-2.485-.649-.906-1.79-.906-1.14 0-1.796.906-.649.899-.649 2.485 0 1.586.649 2.492.656.898 1.797.898 1.14 0 1.789-.898.656-.906.656-2.492zm-4.89-3.055q.452-.781 1.14-1.156.695-.383 1.656-.383 1.594 0 2.586 1.266 1 1.265 1 3.328 0 2.062-1 3.328-.992 1.266-2.586 1.266-.96 0-1.656-.375-.688-.383-1.14-1.164v1.312h-1.446V2.258h1.445z\" /></g><g transform=\"translate(65, 375) scale(0.75, 0.75)\" fill=\"#e5e5e5\" stroke=\"#e5e5e5\"><path d=\"M24.922 10.047q0-1.586-.656-2.485-.649-.906-1.79-.906-1.14 0-1.796.906-.649.899-.649 2.485 0 1.586.649 2.492.656.898 1.797.898 1.14 0 1.789-.898.656-.906.656-2.492zm-4.89-3.055q.452-.781 1.14-1.156.695-.383 1.656-.383 1.594 0 2.586 1.266 1 1.265 1 3.328 0 2.062-1 3.328-.992 1.266-2.586 1.266-.96 0-1.656-.375-.688-.383-1.14-1.164v1.312h-1.446V2.258h1.445z\" /></g><g transform=\"translate(110, 1) scale(0.75, 0.75)\" fill=\"#e5e5e5\" stroke=\"#e5e5e5\"><path d=\"M25.96 6v1.344q-.608-.336-1.226-.5-.609-.172-1.234-.172-1.398 0-2.172.89-.773.883-.773 2.485 0 1.601.773 2.492.774.883 2.172.883.625 0 1.234-.164.618-.172 1.227-.508v1.328q-.602.281-1.25.422-.64.14-1.367.14-1.977 0-3.14-1.242-1.165-1.242-1.165-3.351 0-2.14 1.172-3.367 1.18-1.227 3.227-1.227.664 0 1.296.14.633.134 1.227.407z\" /></g><g transform=\"translate(110, 375) scale(0.75, 0.75)\" fill=\"#e5e5e5\" stroke=\"#e5e5e5\"><path d=\"M25.96 6v1.344q-.608-.336-1.226-.5-.609-.172-1.234-.172-1.398 0-2.172.89-.773.883-.773 2.485 0 1.601.773 2.492.774.883 2.172.883.625 0 1.234-.164.618-.172 1.227-.508v1.328q-.602.281-1.25.422-.64.14-1.367.14-1.977 0-3.14-1.242-1.165-1.242-1.165-3.351 0-2.14 1.172-3.367 1.18-1.227 3.227-1.227.664 0 1.296.14.633.134 1.227.407z\" /></g><g transform=\"translate(155, 1) scale(0.75, 0.75)\" fill=\"#e5e5e5\" stroke=\"#e5e5e5\"><path d=\"M24.973 6.992V2.258h1.437v12.156h-1.437v-1.312q-.453.78-1.149 1.164-.687.375-1.656.375-1.586 0-2.586-1.266-.992-1.266-.992-3.328 0-2.063.992-3.328 1-1.266 2.586-1.266.969 0 1.656.383.696.375 1.149 1.156zm-4.899 3.055q0 1.586.649 2.492.656.898 1.797.898 1.14 0 1.796-.898.657-.906.657-2.492 0-1.586-.657-2.485-.656-.906-1.796-.906-1.141 0-1.797.906-.649.899-.649 2.485z\" /></g><g transform=\"translate(155, 375) scale(0.75, 0.75)\" fill=\"#e5e5e5\" stroke=\"#e5e5e5\"><path d=\"M24.973 6.992V2.258h1.437v12.156h-1.437v-1.312q-.453.78-1.149 1.164-.687.375-1.656.375-1.586 0-2.586-1.266-.992-1.266-.992-3.328 0-2.063.992-3.328 1-1.266 2.586-1.266.969 0 1.656.383.696.375 1.149 1.156zm-4.899 3.055q0 1.586.649 2.492.656.898 1.797.898 1.14 0 1.796-.898.657-.906.657-2.492 0-1.586-.657-2.485-.656-.906-1.796-.906-1.141 0-1.797.906-.649.899-.649 2.485z\" /></g><g transform=\"translate(200, 1) scale(0.75, 0.75)\" fill=\"#e5e5e5\" stroke=\"#e5e5e5\"><path d=\"M26.555 9.68v.703h-6.61q.094 1.484.89 2.265.806.774 2.235.774.828 0 1.602-.203.781-.203 1.547-.61v1.36q-.774.328-1.586.5-.813.172-1.649.172-2.093 0-3.32-1.22-1.219-1.218-1.219-3.296 0-2.148 1.157-3.406 1.164-1.266 3.132-1.266 1.766 0 2.79 1.14 1.03 1.134 1.03 3.087zm-1.438-.422q-.015-1.18-.664-1.883-.64-.703-1.703-.703-1.203 0-1.93.68-.718.68-.828 1.914z\" /></g><g transform=\"translate(200, 375) scale(0.75, 0.75)\" fill=\"#e5e5e5\" stroke=\"#e5e5e5\"><path d=\"M26.555 9.68v.703h-6.61q.094 1.484.89 2.265.806.774 2.235.774.828 0 1.602-.203.781-.203 1.547-.61v1.36q-.774.328-1.586.5-.813.172-1.649.172-2.093 0-3.32-1.22-1.219-1.218-1.219-3.296 0-2.148 1.157-3.406 1.164-1.266 3.132-1.266 1.766 0 2.79 1.14 1.03 1.134 1.03 3.087zm-1.438-.422q-.015-1.18-.664-1.883-.64-.703-1.703-.703-1.203 0-1.93.68-.718.68-.828 1.914z\" /></g><g transform=\"translate(245, 1) scale(0.75, 0.75)\" fill=\"#e5e5e5\" stroke=\"#e5e5e5\"><path d=\"M25.285 2.258v1.195H23.91q-.773 0-1.078.313-.297.312-.297 1.125v.773h2.367v1.117h-2.367v7.633H21.09V6.781h-1.375V5.664h1.375v-.61q0-1.46.68-2.124.68-.672 2.156-.672z\" /></g><g transform=\"translate(245, 375) scale(0.75, 0.75)\" fill=\"#e5e5e5\" stroke=\"#e5e5e5\"><path d=\"M25.285 2.258v1.195H23.91q-.773 0-1.078.313-.297.312-.297 1.125v.773h2.367v1.117h-2.367v7.633H21.09V6.781h-1.375V5.664h1.375v-.61q0-1.46.68-2.124.68-.672 2.156-.672z\" /></g><g transform=\"translate(290, 1) scale(0.75, 0.75)\" fill=\"#e5e5e5\" stroke=\"#e5e5e5\"><path d=\"M24.973 9.937q0-1.562-.649-2.421-.64-.86-1.804-.86-1.157 0-1.805.86-.64.859-.64 2.421 0 1.555.64 2.415.648.859 1.805.859 1.164 0 1.804-.86.649-.859.649-2.414zm1.437 3.391q0 2.234-.992 3.32-.992 1.094-3.04 1.094-.757 0-1.429-.117-.672-.11-1.304-.344v-1.398q.632.344 1.25.508.617.164 1.257.164 1.414 0 2.118-.743.703-.734.703-2.226v-.711q-.446.773-1.141 1.156-.695.383-1.664.383-1.61 0-2.594-1.227-.984-1.226-.984-3.25 0-2.03.984-3.257.985-1.227 2.594-1.227.969 0 1.664.383t1.14 1.156V5.664h1.438z\" /></g><g transform=\"translate(290, 375) scale(0.75, 0.75)\" fill=\"#e5e5e5\" stroke=\"#e5e5e5\"><path d=\"M24.973 9.937q0-1.562-.649-2.421-.64-.86-1.804-.86-1.157 0-1.805.86-.64.859-.64 2.421 0 1.555.64 2.415.648.859 1.805.859 1.164 0 1.804-.86.649-.859.649-2.414zm1.437 3.391q0 2.234-.992 3.32-.992 1.094-3.04 1.094-.757 0-1.429-.117-.672-.11-1.304-.344v-1.398q.632.344 1.25.508.617.164 1.257.164 1.414 0 2.118-.743.703-.734.703-2.226v-.711q-.446.773-1.141 1.156-.695.383-1.664.383-1.61 0-2.594-1.227-.984-1.226-.984-3.25 0-2.03.984-3.257.985-1.227 2.594-1.227.969 0 1.664.383t1.14 1.156V5.664h1.438z\" /></g><g transform=\"translate(335, 1) scale(0.75, 0.75)\" fill=\"#e5e5e5\" stroke=\"#e5e5e5\"><path d=\"M26.164 9.133v5.281h-1.437V9.18q0-1.243-.485-1.86-.484-.617-1.453-.617-1.164 0-1.836.742-.672.742-.672 2.024v4.945h-1.445V2.258h1.445v4.765q.516-.789 1.211-1.18.703-.39 1.617-.39 1.508 0 2.282.938.773.93.773 2.742z\" /></g><g transform=\"translate(335, 375) scale(0.75, 0.75)\" fill=\"#e5e5e5\" stroke=\"#e5e5e5\"><path d=\"M26.164 9.133v5.281h-1.437V9.18q0-1.243-.485-1.86-.484-.617-1.453-.617-1.164 0-1.836.742-.672.742-.672 2.024v4.945h-1.445V2.258h1.445v4.765q.516-.789 1.211-1.18.703-.39 1.617-.39 1.508 0 2.282.938.773.93.773 2.742z\" /></g><g transform=\"translate(0, 335) scale(0.75, 0.75)\" fill=\"#e5e5e5\" stroke=\"#e5e5e5\"><path d=\"M6.754 26.996h2.578v-8.898l-2.805.562v-1.437l2.79-.563h1.578v10.336h2.578v1.328h-6.72z\" /></g><g transform=\"translate(375, 335) scale(0.75, 0.75)\" fill=\"#e5e5e5\" stroke=\"#e5e5e5\"><path d=\"M6.754 26.996h2.578v-8.898l-2.805.562v-1.437l2.79-.563h1.578v10.336h2.578v1.328h-6.72z\" /></g><g transform=\"translate(0, 290) scale(0.75, 0.75)\" fill=\"#e5e5e5\" stroke=\"#e5e5e5\"><path d=\"M8.195 26.996h5.508v1.328H6.297v-1.328q.898-.93 2.445-2.492 1.555-1.57 1.953-2.024.758-.851 1.055-1.437.305-.594.305-1.164 0-.93-.657-1.516-.648-.586-1.695-.586-.742 0-1.57.258-.82.258-1.758.781v-1.593q.953-.383 1.781-.578.828-.196 1.516-.196 1.812 0 2.89.906 1.079.907 1.079 2.422 0 .72-.274 1.368-.265.64-.976 1.515-.196.227-1.243 1.313-1.046 1.078-2.953 3.023z\" /></g><g transform=\"translate(375, 290) scale(0.75, 0.75)\" fill=\"#e5e5e5\" stroke=\"#e5e5e5\"><path d=\"M8.195 26.996h5.508v1.328H6.297v-1.328q.898-.93 2.445-2.492 1.555-1.57 1.953-2.024.758-.851 1.055-1.437.305-.594.305-1.164 0-.93-.657-1.516-.648-.586-1.695-.586-.742 0-1.57.258-.82.258-1.758.781v-1.593q.953-.383 1.781-.578.828-.196 1.516-.196 1.812 0 2.89.906 1.079.907 1.079 2.422 0 .72-.274 1.368-.265.64-.976 1.515-.196.227-1.243 1.313-1.046 1.078-2.953 3.023z\" /></g><g transform=\"translate(0, 245) scale(0.75, 0.75)\" fill=\"#e5e5e5\" stroke=\"#e5e5e5\"><path d=\"M11.434 22.035q1.132.242 1.765 1.008.64.766.64 1.89 0 1.727-1.187 2.672-1.187.946-3.375.946-.734 0-1.515-.149-.774-.14-1.602-.43V26.45q.656.383 1.438.578.78.196 1.632.196 1.485 0 2.258-.586.782-.586.782-1.703 0-1.032-.727-1.61-.719-.586-2.008-.586h-1.36v-1.297h1.423q1.164 0 1.78-.46.618-.47.618-1.344 0-.899-.64-1.375-.633-.485-1.82-.485-.65 0-1.391.141-.743.14-1.633.437V16.95q.898-.25 1.68-.375.788-.125 1.484-.125 1.797 0 2.844.82 1.046.813 1.046 2.204 0 .968-.554 1.64-.555.664-1.578.922z\" /></g><g transform=\"translate(375, 245) scale(0.75, 0.75)\" fill=\"#e5e5e5\" stroke=\"#e5e5e5\"><path d=\"M11.434 22.035q1.132.242 1.765 1.008.64.766.64 1.89 0 1.727-1.187 2.672-1.187.946-3.375.946-.734 0-1.515-.149-.774-.14-1.602-.43V26.45q.656.383 1.438.578.78.196 1.632.196 1.485 0 2.258-.586.782-.586.782-1.703 0-1.032-.727-1.61-.719-.586-2.008-.586h-1.36v-1.297h1.423q1.164 0 1.78-.46.618-.47.618-1.344 0-.899-.64-1.375-.633-.485-1.82-.485-.65 0-1.391.141-.743.14-1.633.437V16.95q.898-.25 1.68-.375.788-.125 1.484-.125 1.797 0 2.844.82 1.046.813 1.046 2.204 0 .968-.554 1.64-.555.664-1.578.922z\" /></g><g transform=\"translate(0, 200) scale(0.75, 0.75)\" fill=\"#e5e5e5\" stroke=\"#e5e5e5\"><path d=\"M11.016 18.035L7.03 24.262h3.985zm-.414-1.375h1.984v7.602h1.664v1.312h-1.664v2.75h-1.57v-2.75H5.75v-1.523z\" /></g><g transform=\"translate(375, 200) scale(0.75, 0.75)\" fill=\"#e5e5e5\" stroke=\"#e5e5e5\"><path d=\"M11.016 18.035L7.03 24.262h3.985zm-.414-1.375h1.984v7.602h1.664v1.312h-1.664v2.75h-1.57v-2.75H5.75v-1.523z\" /></g><g transform=\"translate(0, 155) scale(0.75, 0.75)\" fill=\"#e5e5e5\" stroke=\"#e5e5e5\"><path d=\"M6.719 16.66h6.195v1.328h-4.75v2.86q.344-.118.688-.172.343-.063.687-.063 1.953 0 3.094 1.07 1.14 1.07 1.14 2.899 0 1.883-1.171 2.93-1.172 1.039-3.305 1.039-.735 0-1.5-.125-.758-.125-1.57-.375v-1.586q.703.383 1.453.57.75.188 1.586.188 1.351 0 2.14-.711.79-.711.79-1.93 0-1.219-.79-1.93-.789-.71-2.14-.71-.633 0-1.266.14-.625.14-1.281.438z\" /></g><g transform=\"translate(375, 155) scale(0.75, 0.75)\" fill=\"#e5e5e5\" stroke=\"#e5e5e5\"><path d=\"M6.719 16.66h6.195v1.328h-4.75v2.86q.344-.118.688-.172.343-.063.687-.063 1.953 0 3.094 1.07 1.14 1.07 1.14 2.899 0 1.883-1.171 2.93-1.172 1.039-3.305 1.039-.735 0-1.5-.125-.758-.125-1.57-.375v-1.586q.703.383 1.453.57.75.188 1.586.188 1.351 0 2.14-.711.79-.711.79-1.93 0-1.219-.79-1.93-.789-.71-2.14-.71-.633 0-1.266.14-.625.14-1.281.438z\" /></g><g transform=\"translate(0, 110) scale(0.75, 0.75)\" fill=\"#e5e5e5\" stroke=\"#e5e5e5\"><path d=\"M10.137 21.863q-1.063 0-1.688.727-.617.726-.617 1.992 0 1.258.617 1.992.625.727 1.688.727 1.062 0 1.68-.727.624-.734.624-1.992 0-1.266-.625-1.992-.617-.727-1.68-.727zm3.133-4.945v1.437q-.594-.28-1.204-.43-.601-.148-1.195-.148-1.562 0-2.39 1.055-.82 1.055-.938 3.188.46-.68 1.156-1.04.696-.367 1.531-.367 1.758 0 2.774 1.07 1.023 1.063 1.023 2.899 0 1.797-1.062 2.883-1.063 1.086-2.828 1.086-2.024 0-3.094-1.547-1.07-1.555-1.07-4.5 0-2.766 1.312-4.406 1.313-1.649 3.524-1.649.593 0 1.195.117.61.118 1.266.352z\" /></g><g transform=\"translate(375, 110) scale(0.75, 0.75)\" fill=\"#e5e5e5\" stroke=\"#e5e5e5\"><path d=\"M10.137 21.863q-1.063 0-1.688.727-.617.726-.617 1.992 0 1.258.617 1.992.625.727 1.688.727 1.062 0 1.68-.727.624-.734.624-1.992 0-1.266-.625-1.992-.617-.727-1.68-.727zm3.133-4.945v1.437q-.594-.28-1.204-.43-.601-.148-1.195-.148-1.562 0-2.39 1.055-.82 1.055-.938 3.188.46-.68 1.156-1.04.696-.367 1.531-.367 1.758 0 2.774 1.07 1.023 1.063 1.023 2.899 0 1.797-1.062 2.883-1.063 1.086-2.828 1.086-2.024 0-3.094-1.547-1.07-1.555-1.07-4.5 0-2.766 1.312-4.406 1.313-1.649 3.524-1.649.593 0 1.195.117.61.118 1.266.352z\" /></g><g transform=\"translate(0, 65) scale(0.75, 0.75)\" fill=\"#e5e5e5\" stroke=\"#e5e5e5\"><path d=\"M6.25 16.66h7.5v.672L9.516 28.324H7.867l3.985-10.336H6.25z\" /></g><g transform=\"translate(375, 65) scale(0.75, 0.75)\" fill=\"#e5e5e5\" stroke=\"#e5e5e5\"><path d=\"M6.25 16.66h7.5v.672L9.516 28.324H7.867l3.985-10.336H6.25z\" /></g><g transform=\"translate(0, 20) scale(0.75, 0.75)\" fill=\"#e5e5e5\" stroke=\"#e5e5e5\"><path d=\"M10 22.785q-1.125 0-1.773.602-.641.601-.641 1.656t.64 1.656q.649.602 1.774.602t1.773-.602q.649-.61.649-1.656 0-1.055-.649-1.656-.64-.602-1.773-.602zm-1.578-.672q-1.016-.25-1.586-.945-.563-.695-.563-1.695 0-1.399.993-2.211 1-.813 2.734-.813 1.742 0 2.734.813.993.812.993 2.21 0 1-.57 1.696-.563.695-1.571.945 1.14.266 1.773 1.04.641.773.641 1.89 0 1.695-1.04 2.602-1.03.906-2.96.906t-2.969-.906Q6 26.738 6 25.043q0-1.117.64-1.89.641-.774 1.782-1.04zm-.578-2.492q0 .906.562 1.414.57.508 1.594.508 1.016 0 1.586-.508.578-.508.578-1.414 0-.906-.578-1.414-.57-.508-1.586-.508-1.023 0-1.594.508-.562.508-.562 1.414z\" /></g><g transform=\"translate(375, 20) scale(0.75, 0.75)\" fill=\"#e5e5e5\" stroke=\"#e5e5e5\"><path d=\"M10 22.785q-1.125 0-1.773.602-.641.601-.641 1.656t.64 1.656q.649.602 1.774.602t1.773-.602q.649-.61.649-1.656 0-1.055-.649-1.656-.64-.602-1.773-.602zm-1.578-.672q-1.016-.25-1.586-.945-.563-.695-.563-1.695 0-1.399.993-2.211 1-.813 2.734-.813 1.742 0 2.734.813.993.812.993 2.21 0 1-.57 1.696-.563.695-1.571.945 1.14.266 1.773 1.04.641.773.641 1.89 0 1.695-1.04 2.602-1.03.906-2.96.906t-2.969-.906Q6 26.738 6 25.043q0-1.117.64-1.89.641-.774 1.782-1.04zm-.578-2.492q0 .906.562 1.414.57.508 1.594.508 1.016 0 1.586-.508.578-.508.578-1.414 0-.906-.578-1.414-.57-.508-1.586-.508-1.023 0-1.594.508-.562.508-.562 1.414z\" /></g><rect x=\"15\" y=\"330\" width=\"45\" height=\"45\" class=\"square dark a1\" stroke=\"none\" fill=\"#d18b47\" /><rect x=\"60\" y=\"330\" width=\"45\" height=\"45\" class=\"square light b1\" stroke=\"none\" fill=\"#ffce9e\" /><rect x=\"105\" y=\"330\" width=\"45\" height=\"45\" class=\"square dark c1\" stroke=\"none\" fill=\"#d18b47\" /><rect x=\"150\" y=\"330\" width=\"45\" height=\"45\" class=\"square light d1\" stroke=\"none\" fill=\"#ffce9e\" /><rect x=\"195\" y=\"330\" width=\"45\" height=\"45\" class=\"square dark e1\" stroke=\"none\" fill=\"#d18b47\" /><rect x=\"240\" y=\"330\" width=\"45\" height=\"45\" class=\"square light f1\" stroke=\"none\" fill=\"#ffce9e\" /><rect x=\"285\" y=\"330\" width=\"45\" height=\"45\" class=\"square dark g1\" stroke=\"none\" fill=\"#d18b47\" /><rect x=\"330\" y=\"330\" width=\"45\" height=\"45\" class=\"square light h1\" stroke=\"none\" fill=\"#ffce9e\" /><rect x=\"15\" y=\"285\" width=\"45\" height=\"45\" class=\"square light a2\" stroke=\"none\" fill=\"#ffce9e\" /><rect x=\"60\" y=\"285\" width=\"45\" height=\"45\" class=\"square dark b2\" stroke=\"none\" fill=\"#d18b47\" /><rect x=\"105\" y=\"285\" width=\"45\" height=\"45\" class=\"square light c2\" stroke=\"none\" fill=\"#ffce9e\" /><rect x=\"150\" y=\"285\" width=\"45\" height=\"45\" class=\"square dark d2\" stroke=\"none\" fill=\"#d18b47\" /><rect x=\"195\" y=\"285\" width=\"45\" height=\"45\" class=\"square light e2\" stroke=\"none\" fill=\"#ffce9e\" /><rect x=\"240\" y=\"285\" width=\"45\" height=\"45\" class=\"square dark f2\" stroke=\"none\" fill=\"#d18b47\" /><rect x=\"285\" y=\"285\" width=\"45\" height=\"45\" class=\"square light g2\" stroke=\"none\" fill=\"#ffce9e\" /><rect x=\"330\" y=\"285\" width=\"45\" height=\"45\" class=\"square dark h2\" stroke=\"none\" fill=\"#d18b47\" /><rect x=\"15\" y=\"240\" width=\"45\" height=\"45\" class=\"square dark a3\" stroke=\"none\" fill=\"#d18b47\" /><rect x=\"60\" y=\"240\" width=\"45\" height=\"45\" class=\"square light b3\" stroke=\"none\" fill=\"#ffce9e\" /><rect x=\"105\" y=\"240\" width=\"45\" height=\"45\" class=\"square dark c3\" stroke=\"none\" fill=\"#d18b47\" /><rect x=\"150\" y=\"240\" width=\"45\" height=\"45\" class=\"square light d3\" stroke=\"none\" fill=\"#ffce9e\" /><rect x=\"195\" y=\"240\" width=\"45\" height=\"45\" class=\"square dark e3\" stroke=\"none\" fill=\"#d18b47\" /><rect x=\"240\" y=\"240\" width=\"45\" height=\"45\" class=\"square light f3\" stroke=\"none\" fill=\"#ffce9e\" /><rect x=\"285\" y=\"240\" width=\"45\" height=\"45\" class=\"square dark g3\" stroke=\"none\" fill=\"#d18b47\" /><rect x=\"330\" y=\"240\" width=\"45\" height=\"45\" class=\"square light h3\" stroke=\"none\" fill=\"#ffce9e\" /><rect x=\"15\" y=\"195\" width=\"45\" height=\"45\" class=\"square light a4\" stroke=\"none\" fill=\"#ffce9e\" /><rect x=\"60\" y=\"195\" width=\"45\" height=\"45\" class=\"square dark b4\" stroke=\"none\" fill=\"#d18b47\" /><rect x=\"105\" y=\"195\" width=\"45\" height=\"45\" class=\"square light c4\" stroke=\"none\" fill=\"#ffce9e\" /><rect x=\"150\" y=\"195\" width=\"45\" height=\"45\" class=\"square dark d4\" stroke=\"none\" fill=\"#d18b47\" /><rect x=\"195\" y=\"195\" width=\"45\" height=\"45\" class=\"square light e4\" stroke=\"none\" fill=\"#ffce9e\" /><rect x=\"240\" y=\"195\" width=\"45\" height=\"45\" class=\"square dark f4\" stroke=\"none\" fill=\"#d18b47\" /><rect x=\"285\" y=\"195\" width=\"45\" height=\"45\" class=\"square light g4\" stroke=\"none\" fill=\"#ffce9e\" /><rect x=\"330\" y=\"195\" width=\"45\" height=\"45\" class=\"square dark h4\" stroke=\"none\" fill=\"#d18b47\" /><rect x=\"15\" y=\"150\" width=\"45\" height=\"45\" class=\"square dark a5\" stroke=\"none\" fill=\"#d18b47\" /><rect x=\"60\" y=\"150\" width=\"45\" height=\"45\" class=\"square light b5\" stroke=\"none\" fill=\"#ffce9e\" /><rect x=\"105\" y=\"150\" width=\"45\" height=\"45\" class=\"square dark c5\" stroke=\"none\" fill=\"#d18b47\" /><rect x=\"150\" y=\"150\" width=\"45\" height=\"45\" class=\"square light d5\" stroke=\"none\" fill=\"#ffce9e\" /><rect x=\"195\" y=\"150\" width=\"45\" height=\"45\" class=\"square dark e5\" stroke=\"none\" fill=\"#d18b47\" /><rect x=\"240\" y=\"150\" width=\"45\" height=\"45\" class=\"square light f5\" stroke=\"none\" fill=\"#ffce9e\" /><rect x=\"285\" y=\"150\" width=\"45\" height=\"45\" class=\"square dark g5\" stroke=\"none\" fill=\"#d18b47\" /><rect x=\"330\" y=\"150\" width=\"45\" height=\"45\" class=\"square light h5\" stroke=\"none\" fill=\"#ffce9e\" /><rect x=\"15\" y=\"105\" width=\"45\" height=\"45\" class=\"square light a6\" stroke=\"none\" fill=\"#ffce9e\" /><rect x=\"60\" y=\"105\" width=\"45\" height=\"45\" class=\"square dark b6\" stroke=\"none\" fill=\"#d18b47\" /><rect x=\"105\" y=\"105\" width=\"45\" height=\"45\" class=\"square light c6\" stroke=\"none\" fill=\"#ffce9e\" /><rect x=\"150\" y=\"105\" width=\"45\" height=\"45\" class=\"square dark d6\" stroke=\"none\" fill=\"#d18b47\" /><rect x=\"195\" y=\"105\" width=\"45\" height=\"45\" class=\"square light e6\" stroke=\"none\" fill=\"#ffce9e\" /><rect x=\"240\" y=\"105\" width=\"45\" height=\"45\" class=\"square dark f6\" stroke=\"none\" fill=\"#d18b47\" /><rect x=\"285\" y=\"105\" width=\"45\" height=\"45\" class=\"square light g6\" stroke=\"none\" fill=\"#ffce9e\" /><rect x=\"330\" y=\"105\" width=\"45\" height=\"45\" class=\"square dark h6\" stroke=\"none\" fill=\"#d18b47\" /><rect x=\"15\" y=\"60\" width=\"45\" height=\"45\" class=\"square dark a7\" stroke=\"none\" fill=\"#d18b47\" /><rect x=\"60\" y=\"60\" width=\"45\" height=\"45\" class=\"square light b7\" stroke=\"none\" fill=\"#ffce9e\" /><rect x=\"105\" y=\"60\" width=\"45\" height=\"45\" class=\"square dark c7\" stroke=\"none\" fill=\"#d18b47\" /><rect x=\"150\" y=\"60\" width=\"45\" height=\"45\" class=\"square light d7\" stroke=\"none\" fill=\"#ffce9e\" /><rect x=\"195\" y=\"60\" width=\"45\" height=\"45\" class=\"square dark e7\" stroke=\"none\" fill=\"#d18b47\" /><rect x=\"240\" y=\"60\" width=\"45\" height=\"45\" class=\"square light f7\" stroke=\"none\" fill=\"#ffce9e\" /><rect x=\"285\" y=\"60\" width=\"45\" height=\"45\" class=\"square dark g7\" stroke=\"none\" fill=\"#d18b47\" /><rect x=\"330\" y=\"60\" width=\"45\" height=\"45\" class=\"square light h7\" stroke=\"none\" fill=\"#ffce9e\" /><rect x=\"15\" y=\"15\" width=\"45\" height=\"45\" class=\"square light a8\" stroke=\"none\" fill=\"#ffce9e\" /><rect x=\"60\" y=\"15\" width=\"45\" height=\"45\" class=\"square dark b8\" stroke=\"none\" fill=\"#d18b47\" /><rect x=\"105\" y=\"15\" width=\"45\" height=\"45\" class=\"square light c8\" stroke=\"none\" fill=\"#ffce9e\" /><rect x=\"150\" y=\"15\" width=\"45\" height=\"45\" class=\"square dark d8\" stroke=\"none\" fill=\"#d18b47\" /><rect x=\"195\" y=\"15\" width=\"45\" height=\"45\" class=\"square light e8\" stroke=\"none\" fill=\"#ffce9e\" /><rect x=\"240\" y=\"15\" width=\"45\" height=\"45\" class=\"square dark f8\" stroke=\"none\" fill=\"#d18b47\" /><rect x=\"285\" y=\"15\" width=\"45\" height=\"45\" class=\"square light g8\" stroke=\"none\" fill=\"#ffce9e\" /><rect x=\"330\" y=\"15\" width=\"45\" height=\"45\" class=\"square dark h8\" stroke=\"none\" fill=\"#d18b47\" /><use href=\"#white-rook\" xlink:href=\"#white-rook\" transform=\"translate(15, 150)\" /><use href=\"#white-rook\" xlink:href=\"#white-rook\" transform=\"translate(330, 105)\" /><use href=\"#white-king\" xlink:href=\"#white-king\" transform=\"translate(240, 60)\" /><use href=\"#black-bishop\" xlink:href=\"#black-bishop\" transform=\"translate(330, 60)\" /><use href=\"#black-rook\" xlink:href=\"#black-rook\" transform=\"translate(195, 15)\" /><use href=\"#black-rook\" xlink:href=\"#black-rook\" transform=\"translate(285, 15)\" /><use href=\"#black-king\" xlink:href=\"#black-king\" transform=\"translate(330, 15)\" /></svg>"
      ],
      "text/plain": [
       "Board('4r1rk/5K1b/7R/R7/8/8/8/8 w - - 0 1')"
      ]
     },
     "execution_count": 24,
     "metadata": {},
     "output_type": "execute_result"
    }
   ],
   "source": [
    "fen = '4r1rk/5K1b/7R/R7/8/8/8/8 w - - 0 1'\n",
    "chess.Board(fen)"
   ]
  },
  {
   "cell_type": "code",
   "execution_count": 33,
   "metadata": {},
   "outputs": [
    {
     "name": "stdout",
     "output_type": "stream",
     "text": [
      "63 k\n",
      "62 r\n",
      "60 r\n",
      "55 b\n",
      "53 K\n",
      "47 R\n",
      "32 R\n"
     ]
    }
   ],
   "source": [
    "fen = '4r1rk/5K1b/7R/R7/8/8/8/8 w - - 0 1'\n",
    "board = chess.Board(fen)\n",
    "board.piece_map()\n",
    "for square in board.piece_map():\n",
    "    print(square, board.piece_map()[square])"
   ]
  },
  {
   "cell_type": "code",
   "execution_count": 78,
   "metadata": {},
   "outputs": [],
   "source": [
    "board = chess.Board(fen)\n",
    "\n",
    "def alpha_beta_pruning(curr, alpha, beta, depth, max_player=True):\n",
    "    if curr.is_checkmate():\n",
    "        if curr.turn == max_player:\n",
    "            return (1000000, list())\n",
    "        else:\n",
    "            return (-1000000, list())\n",
    "    if curr.is_stalemate():\n",
    "        return 0, []\n",
    "    if depth == 0:\n",
    "        map = curr.piece_map()\n",
    "        ref = {'p': 1, 'n': 3, 'b': 3, 'r': 5, 'q': 9, 'k': 100}\n",
    "        count = dict()\n",
    "        pieces = ['k', 'q', 'r', 'b', 'n', 'p']\n",
    "        for piece in pieces:\n",
    "            count[piece] = 0\n",
    "            count[piece.upper()] = 0\n",
    "        score = 0\n",
    "        for key in map:\n",
    "            count[str(map[key])] += 1\n",
    "        for piece in pieces:\n",
    "            score += (count[piece.upper()] - count[piece]) * ref[piece]\n",
    "        return (score, list())\n",
    "    # if curr.fen() == '4rr1k/7b/5K1R/R7/8/8/8/8 w - - 2 2':\n",
    "    #     print('here')\n",
    "    if max_player:\n",
    "        max_eval = -1000000\n",
    "        best_move = []\n",
    "        for move in curr.legal_moves:\n",
    "            new = curr.copy()\n",
    "            new.push(move)\n",
    "            eval, cmove = alpha_beta_pruning(new, alpha, beta, depth - 1, False)\n",
    "            # print(new.fen(), eval, cmove, depth, alpha, beta)\n",
    "            max_eval = max(max_eval, eval)\n",
    "            if max_eval == eval:\n",
    "                best_move = [move, ] + cmove \n",
    "            alpha = max(alpha, eval)\n",
    "            if beta <= alpha:\n",
    "                break\n",
    "        return max_eval, best_move\n",
    "    else:\n",
    "        min_eval = 1000000\n",
    "        best_move = []\n",
    "        for move in curr.legal_moves:\n",
    "            new = curr.copy()\n",
    "            new.push(move)\n",
    "            eval, cmove = alpha_beta_pruning(new, alpha, beta, depth - 1, True)\n",
    "            # print(new.fen(), eval, cmove, depth, alpha, beta)\n",
    "            min_eval = min(min_eval, eval)\n",
    "            if min_eval == eval:\n",
    "                # print(cmove)\n",
    "                best_move = [move, ] + cmove\n",
    "            beta = min(beta, eval)\n",
    "            if beta <= alpha:\n",
    "                break\n",
    "        return min_eval, best_move"
   ]
  },
  {
   "cell_type": "code",
   "execution_count": 103,
   "metadata": {},
   "outputs": [
    {
     "name": "stdout",
     "output_type": "stream",
     "text": [
      "Rxh7+ Kxh7 Rh5# "
     ]
    }
   ],
   "source": [
    "board = chess.Board(fen)\n",
    "result = alpha_beta_pruning(board, -1000000, 1000000, 3, True)\n",
    "for move in result[1]:\n",
    "    print(board.san(move), end=' ')\n",
    "    board.push(move)"
   ]
  },
  {
   "cell_type": "code",
   "execution_count": 104,
   "metadata": {},
   "outputs": [],
   "source": [
    "import requests\n",
    "url = 'https://wtharvey.com/m8n2a.html'\n",
    "response = requests.get(url)"
   ]
  },
  {
   "cell_type": "code",
   "execution_count": 105,
   "metadata": {},
   "outputs": [
    {
     "data": {
      "text/plain": [
       "'<!DOCTYPE HTML PUBLIC \"-//W3C//DTD HTML 4.0 Transitional//EN\">\\r\\n<html><head> \\r\\n<!-- Global site tag (gtag.js) - Google Analytics -->\\r\\n<script async src=\"https://www.googletagmanager.com/gtag/js?id=UA-2614779-1\"></script>\\r\\n<script>\\r\\n  window.dataLayer = window.dataLayer || [];\\r\\n  function gtag(){dataLayer.push(arguments);}\\r\\n  gtag(\\'js\\', new Date());\\r\\n\\r\\n  gtag(\\'config\\', \\'UA-2614779-1\\');\\r\\n</script>\\r\\n<title>Mate in 2 Puzzles \\'Section A\\'</title>\\r\\n<meta name=\"kwrd\" content=\"chess puzzles, strategy, tactics, free game, grandmaster\"></head><body><center>\\r\\n\\r\\n<h2>See 2 moves ahead - Our \\'mate in 2\\' volume</h2>\\r\\n<a href=\"https://www.amazon.com/dp/1505487447\" target=\"blank\"><img src=\"m8n2Bk.jpg\" width=\"140\" height=\"180\" border=\"0\"></a>\\r\\n<br><br>\\r\\n\\r\\n<h3>Here are some \\'mate in 2\\' puzzles.<br> The color disk on the diagram indicates who moves first.</h3>\\r\\nSolutions are between the brackets under each puzzle.<br>Drag your cursor from one bracket to the other.<br><br>\\r\\n\\r\\na) <img src=\"m8n2aaa.png\"></a><br>4r1rk/5K1b/7R/R7/8/8/8/8 w - - 0 1<br>[ <font color=white>Rxh7+ Kxh7 Rh5#</font> ]<br><br>\\r\\nb) <img src=\"m8n2aab.png\"></a><br>8/1r6/8/3R4/k7/p1K5/4r3/R7 w - - 0 1<br>[ <font color=white>Rxa3+ Kxa3 Ra5#</font> ]<br><br>\\r\\nc) <img src=\"m8n2aac.png\"></a><br>6k1/8/6K1/8/8/3r4/4r3/5R1R w - - 0 1<br>[ <font color=white>Rh8+ Kxh8 Rf8#</font> ]<br><br>\\r\\nd) <img src=\"m8n2aad.png\"></a><br>2rkr3/2ppp3/2n1n3/R2R4/8/8/3K4/8 w - - 0 1<br>[ <font color=white>Rxd7+ Kxd7 Rd5#</font> ]<br><br>\\r\\ne) <img src=\"m8n2aae.png\"></a><br>4rkr1/1R1R4/4bK2/8/8/8/8/8 w - - 0 1<br>[ <font color=white>Rf7+ Bxf7 Rxf7#</font> ]<br><br>\\r\\n\\r\\n1b) <img src=\"m8n2a1.gif\"></a><br><br>\\r\\n\\r\\nMate in 2 puzzles, Part II. <br>\\r\\na) <img src=\"m8n2aba.png\"></a><br>5K1k/6pp/7R/8/8/8/8/6R1 w - - 0 1<br>[ <font color=white>Rgg6 gxh6 Rg8#</font> ]<br><br>\\r\\nb) <img src=\"m8n2abb.png\"></a><br>2k5/1q4b1/3K4/8/7R/8/7R/8 w - - 0 1<br>[ <font color=white>Rh8+ Bxh8 Rxh8#</font> ]<br><br>\\r\\nc) <img src=\"m8n2abc.png\"></a><br>8/8/q5b1/7k/5Kp1/1R1R4/8/8 w - - 0 1<br>[ <font color=white>Rh3+ gxh3 Rxh3#</font> ]<br><br>\\r\\nd) <img src=\"m8n2abd.png\"></a><br>k7/3b4/1K6/8/8/5q2/2R1R3/8 w - - 0 1<br>[ <font color=white>Re8+ Bxe8 Rc8#</font> ]<br><br>\\r\\ne) <img src=\"m8n2abe.png\"></a><br>8/1R1R4/8/p7/k1K5/r5r1/8/8 w - - 0 1<br>[ <font color=white>Rb4+ axb4 Ra7#</font> ]<br><br>\\r\\n\\r\\n2e) <img src=\"m8n2a2.gif\"></a><br><br>\\r\\n\\r\\nMate in 2 puzzles, Part III. <br>\\r\\na) <img src=\"m8n2aca.png\"></a><br>kr6/1p6/8/1p5R/6R1/8/1r6/5K2 w - - 0 1<br>[ <font color=white>Ra4+ bxa4 Ra5#</font> ]<br><br>\\r\\nb) <img src=\"m8n2acb.png\"></a><br>6R1/8/8/7p/5K1k/r6r/8/6R1 w - - 0 1<br>[ <font color=white>R1g4+ hxg4 Rh8#</font> ]<br><br>\\r\\nc) <img src=\"m8n2acc.png\"></a><br>4R3/8/5K2/7p/R5pk/5npr/8/8 w - - 0 1<br>[ <font color=white>Rxg4+ if hxg4 Rh8# or if Kxg4 Re4#</font> ]<br><br>\\r\\nd) <img src=\"m8n2acd.png\"></a><br>kb6/p4q2/2K5/8/8/8/8/1R1R4 w - - 0 1<br>[ <font color=white>Rxb8+ Kxb8 Rd8#</font> ]<br><br>\\r\\ne) <img src=\"m8n2ace.png\"></a><br>8/6p1/6rk/6np/R6R/6K1/8/8 w - - 0 1<br>[ <font color=white>Rxh5+ Kxh5 Rh4#</font> ]<br><br>\\r\\n\\r\\n3b) <img src=\"m8n2a3.gif\"></a><br><br>\\r\\n\\r\\nMate in 2 puzzles, Part IV. <br>\\r\\na) <img src=\"m8n2ada.png\"></a><br>kn1R4/ppp5/2q5/8/8/8/8/3RK3 w - - 0 1<br>[ <font color=white>Rxb8+ Kxb8 Rd8#</font> ]<br><br>\\r\\nb) <img src=\"m8n2adb.png\"></a><br>1kb4R/1npp4/8/8/8/8/8/R5K1 w - - 0 1<br>[ <font color=white>Rxc8+ Kxc8 Ra8#</font> ]<br><br>\\r\\nc) <img src=\"m8n2adc.png\"></a><br>8/8/1b6/kr6/pp6/1n6/7R/R3K3 w Q - 0 1<br>[ <font color=white>Rxa4+ Kxa4 Ra2#</font> ]<br><br>\\r\\nd) <img src=\"m8n2add.png\"></a><br>5K1k/7p/8/2p5/2rp4/8/p7/1B4B1 w - - 0 1<br>[ <font color=white>Bh2 axb8/Q Be5#</font> ]<br><br>\\r\\ne) <img src=\"m8n2ade.png\"></a><br>k7/p7/B2K4/8/8/8/3p2p1/4B3 w - - 0 1<br>[ <font color=white>Kc7 dxe1/Q Bb7#</font> ]<br><br>\\r\\n\\r\\n4b) <img src=\"m8n2a4.gif\"></a><br><br>\\r\\n\\r\\nMate in 2 puzzles, Part V. <br>\\r\\na) <img src=\"m8n2aea.png\"></a><br>8/5n2/8/6B1/8/4K3/7p/5B1k w - - 0 1<br>[ <font color=white>Kf2 Nxg5 Bg2#</font> ]<br><br>\\r\\nb) <img src=\"m8n2aeb.png\"></a><br>8/5p2/7p/5Kpk/4BB1p/7r/8/8 w - - 0 1<br>[ <font color=white>Bd5 gxf4 Bxf7#</font> ]<br><br>\\r\\nc) <img src=\"m8n2aec.png\"></a><br>8/6N1/8/pp6/kp6/pp5K/2N5/8 w - - 0 1<br>[ <font color=white>Ne6 bxc2 Nc5#</font> ]<br><br>\\r\\nd) <img src=\"m8n2aed.png\"></a><br>8/8/8/7N/8/8/1p5p/N3K2k w - - 0 1<br>[ <font color=white>Kf2 bxa1/Q Ng3#</font> ]<br><br>\\r\\ne) <img src=\"m8n2aee.png\"></a><br>4K3/8/8/4N1pr/4b1pk/4N1nr/8/8 w - - 0 1<br>[ <font color=white>Ng2+ Bxg2 Ng6#</font> ]<br><br>\\r\\n\\r\\n5b) <img src=\"m8n2a5.gif\"></a><br><br>\\r\\n\\r\\nMate in 2 puzzles, Part VI. <br>\\r\\na) <img src=\"m8n2afa.png\"></a><br>k7/ppK5/2N5/3N4/8/8/7p/8 w - - 0 1<br>[ <font color=white>Kc8 bxc6 Nc7#</font> ]<br><br>\\r\\nb) <img src=\"m8n2afb.png\"></a><br>7k/4K1pp/6pn/6N1/6N1/8/8/8 w - - 0 1<br>[ <font color=white>Kf8 Nxg4 Nf7#</font> ]<br><br>\\r\\nc) <img src=\"m8n2afc.png\"></a><br>8/8/7p/5K1k/7p/8/2pn1N2/3N4 w - - 0 1<br>[ <font color=white>Nh3 cxd1/Q Nf4#</font> ]<br><br>\\r\\nd) <img src=\"m8n2afd.png\"></a><br>7k/6pp/5P1P/8/8/8/1p3K2/8 w - - 0 1<br>[ <font color=white>f7 w/f8/Q#</font> ]<br><br>\\r\\ne) <img src=\"m8n2afe.png\"></a><br>7k/5P2/4n1PK/8/8/8/8/8 w - - 0 1<br>[ <font color=white>g7+ Nxg7 f8/Q# (or f8/R#) </font>]<br><br>\\r\\n\\r\\n6b) <img src=\"m8n2a6.gif\"></a><br><br>\\r\\n\\r\\nMate in 2 puzzles, Part VII. <br>\\r\\na) <img src=\"m8n2aga.png\"></a><br>k7/pn6/p1Pp4/4P3/8/8/8/6K1 w - - 0 1<br>[ <font color=white>c7 if dxe5 c8/Q# (or c8/R#)</font> ]<br><br>\\r\\nb) <img src=\"m8n2agb.png\"></a><br>8/4PKPk/5n1p/4b3/8/8/p7/q7 w - - 0 1<br>[ <font color=white>e8/Q+ Nxe8 g8/Q#</font> ]<br><br>\\r\\nc) <img src=\"m8n2agc.png\"></a><br>r1k5/P7/2K1P3/8/8/8/8/8 w - - 0 1<br>[ <font color=white>e7 Rxa7 e8/Q# (or e8/R#)</font> ]<br><br>\\r\\nd) <img src=\"m8n2agd.png\"></a><br>3k1r2/1P3P2/8/3K4/8/8/8/8 w - - 0 1<br>[ <font color=white>Kd6 Rxf7 b8/Q# (or b8/R#)</font> ]<br><br>\\r\\ne) <img src=\"m8n2age.png\"></a><br>8/8/2P5/8/4p2p/p4Ppk/6p1/6K1 w - - 0 1<br>[ <font color=white>c7 exf3 c8/Q# (or c8/B#)</font> ]<br><br>\\r\\n\\r\\n7a) <img src=\"m8n2a7.gif\"></a><br><br>\\r\\n\\r\\nMate in 2 puzzles, Part VIII. <br>\\r\\na) <img src=\"m8n2aha.png\"></a><br>2b5/7P/4Pp2/7p/5K1k/7p/p6n/8 w - - 0 1<br>[ <font color=white>h8/N a1/Q Ng6#</font> ]<br><br>\\r\\nb) <img src=\"m8n2ahb.png\"></a><br>1k1B4/8/1K6/1n6/q7/8/8/3R4 w - - 0 1<br>[ <font color=white>Bc7+ Nxc7 Rd8#</font> ]<br><br>\\r\\nc) <img src=\"m8n2ahc.png\"></a><br>7k/B7/6K1/8/8/2b5/7r/R7 w - - 0 1<br>[ <font color=white>Bd4+ Bxd4 Ra8+</font> ]<br><br>\\r\\nd) <img src=\"m8n2ahd.png\"></a><br>6Bk/R4K2/8/8/8/8/8/8 w - - 0 1<br>[ <font color=white>Kg6 Kxg8 Ra8#</font> ]<br><br>\\r\\ne) <img src=\"m8n2ahe.png\"></a><br>kb6/6n1/K7/5p2/4p3/8/8/4R2B w - - 0 1<br>[ <font color=white>Rxe4 if fxe4 Bxe4# or if f4 Rxf4#</font> ]<br><br>\\r\\n\\r\\n8d) <img src=\"m8n2a8.gif\"></a><br><br>\\r\\n\\r\\nMate in 2 puzzles, Part IX. <br>\\r\\na) <img src=\"m8n2aia.png\"></a><br>5Knk/7b/R7/8/7B/8/8/8 w - - 0 1<br>[ <font color=white>Rh6 Nxh6 Bf6#</font> ]<br><br>\\r\\nb) <img src=\"m8n2aib.png\"></a><br>8/8/8/6nr/4nB1k/8/6K1/5R2 w - - 0 1<br>[ <font color=white>Bg3+ if Nxg3 Rf4# or if Kg4 Rf4#</font> ]<br><br>\\r\\nc) <img src=\"m8n2aic.png\"></a><br>7k/5ppr/K5p1/8/8/8/2B5/2R5 w - - 0 1<br>[ <font color=white>Bxg6 fxg6 Rc8#</font> ]<br><br>\\r\\nd) <img src=\"m8n2aid.png\"></a><br>7k/7p/5K1b/8/6R1/8/1B6/1q6 w - - 0 1<br>[ <font color=white>Kf7+ if Qxb2 Rg8# or if Bb7 Bxg7#</font> ]<br><br>\\r\\ne) <img src=\"m8n2aie.png\"></a><br>6B1/p1K5/k7/pp6/8/8/8/R7 w - - 0 1<br>[ <font color=white>Ra4 bxa4 Bc4#</font> ]<br><br>\\r\\n\\r\\n9a) <img src=\"m8n2a9.gif\"></a><br><br>\\r\\n\\r\\nMate in 2 puzzles, Part X. <br>\\r\\na) <img src=\"m8n2aja.png\"></a><br>8/8/pp6/kb2B3/4n3/K1R5/8/8 w - - 0 1<br>[ <font color=white>Rc5 if Nxc5 Bc3# or if bxc5 Bc7#</font> ]<br><br>\\r\\nb) <img src=\"m8n2ajb.png\"></a><br>k7/pbK5/8/1B2n3/8/8/6p1/1R6 w - - 0 1<br>[ <font color=white>Ba6 if g1/Q Bxb7# or if Bxa6 Rb8#</font> ]<br><br>\\r\\nc) <img src=\"m8n2ajc.png\"></a><br>8/8/7p/5K1k/6pp/1R6/B4n1r/8 w - - 0 1<br>[ <font color=white>Rh3 w/Bf7#</font> ]<br><br>\\r\\nd) <img src=\"m8n2ajd.png\"></a><br>r7/kp6/pR1Q4/5q2/8/8/8/3K4 w - - 0 1<br>[ <font color=white>Rxa6+ bxa6 Qc7#</font> ]<br><br>\\r\\ne) <img src=\"m8n2aje.png\"></a><br>4Q3/kr6/pp6/8/8/8/6q1/R2K4 w - - 0 1<br>[ <font color=white>Rxa6+ Kxa6 Qa4#</font> ]<br><br>\\r\\n\\r\\n10e) <img src=\"m8n2a10.gif\"></a><br><br>\\r\\n\\r\\nMate in 2 puzzles, Part XI. <br>\\r\\na) <img src=\"m8n2aka.png\"></a><br>6rk/6n1/1R1Q4/7r/8/8/8/3K4 w - - 0 1<br>[ <font color=white>Qh6+ Rxh6 Rxh6#</font> ]<br><br>\\r\\nb) <img src=\"m8n2akb.png\"></a><br>1k4r1/ppp5/8/8/2q5/8/5Q2/3K1R2 w - - 0 1<br>[ <font color=white>Qf8+ Rxf8 Rxf8#</font> ]<br><br>\\r\\nc) <img src=\"m8n2akc.png\"></a><br>3R4/2q5/8/rpn5/kp5Q/2n5/1K6/8 w - - 0 1<br>[ <font color=white>Qxb4+ Kxb4 Rd4#</font> ]<br><br>\\r\\nd) <img src=\"m8n2akd.png\"></a><br>5Q2/pp6/kp1R4/8/K7/8/4q3/8 w - - 0 1<br>[ <font color=white>Rxb6+ if Kxb6 Qd6# or if axb6 Qa8#</font> ]<br><br>\\r\\ne) <img src=\"m8n2ake.png\"></a><br>1q1r3k/7p/7K/8/4R3/2p5/8/1Q6 w - - 0 1<br>[ <font color=white>Re8+ Rxe8 Qxh7#</font> ]<br><br>\\r\\n\\r\\n11c) <img src=\"m8n2a11.gif\"></a><br><br>\\r\\n\\r\\nMate in 2 puzzles, Part XII. <br>\\r\\na) <img src=\"m8n2ala.png\"></a><br>kr6/1p6/p5R1/8/1q6/8/Q7/2K5 w - - 0 1<br>[ <font color=white>Rxa6+ bxa6 Qxa6#</font> ]<br><br>\\r\\nb) <img src=\"m8n2alb.png\"></a><br>k7/p2bR3/Q7/8/3q4/8/8/2K5 w - - 0 1<br>[ <font color=white>Re8+ Bxe8 Qc8#</font> ]<br><br>\\r\\nc) <img src=\"m8n2alc.png\"></a><br>k3r3/pR6/K7/2b5/8/8/1Q3q2/8 w - - 0 1<br>[ <font color=white>Rxa7+ Bxa7 Qb7#</font> ]<br><br>\\r\\nd) <img src=\"m8n2ald.png\"></a><br>3rkr2/R3p3/8/4K3/8/7Q/5q2/8 w - - 0 1<br>[ <font color=white>Rxe7+ Kxe7 Qe6#</font> ]<br><br>\\r\\ne) <img src=\"m8n2ale.png\"></a><br>2k5/1ppn4/1q6/8/Q7/8/5R2/4K3 w - - 0 1<br>[ <font color=white>Rf8+ Nxf8 Qe8#</font> ]<br><br>\\r\\n\\r\\n12e) <img src=\"m8n2a12.gif\"></a><br><br>\\r\\n\\r\\nMate in 2 puzzles, Part XIII. <br>\\r\\na) <img src=\"m8n2ama.png\"></a><br>k1r5/p1p5/N1K5/8/3q4/8/8/1R6 w - - 0 1<br>[ <font color=white>Rb8+ Rxb8 Nxc7#</font> ]<br><br>\\r\\nb) <img src=\"m8n2amb.png\"></a><br>8/8/6Nr/5Kbk/R7/8/8/8 w - - 0 1<br>[ <font color=white>Rh4+ Bxh4 Nf4#</font> ]<br><br>\\r\\nc) <img src=\"m8n2amc.png\"></a><br>kr6/pp6/8/8/2N4R/8/8/3K4 w - - 0 1<br>[ <font color=white>Nb6+ axb6 Ra4#</font> ]<br><br>\\r\\nd) <img src=\"m8n2amd.png\"></a><br>4nrkr/5pp1/8/7N/8/8/8/3K2R1 w - - 0 1<br>[ <font color=white>Rxg7+ Nxg7 Nf6#</font> ]<br><br>\\r\\ne) <img src=\"m8n2ame.png\"></a><br>2Nnkr2/3p3R/8/5n2/8/8/8/7K w - - 0 1<br>[ <font color=white>Re7+ Nxe7 Nd6#</font> ]<br><br>\\r\\n\\r\\n13b) <img src=\"m8n2a13.gif\"></a><br><br>\\r\\n\\r\\nMate in 2 puzzles, Part XIV. <br>\\r\\na) <img src=\"m8n2ana.png\"></a><br>2R5/8/pn6/k1N5/8/1K6/6q1/8 w - - 0 1<br>[ <font color=white>Nb7+ Qxb7 Rc5#</font> ]<br><br>\\r\\nb) <img src=\"m8n2anb.png\"></a><br>5Kbk/R7/4q1P1/8/8/8/8/8 w - - 0 1<br>[ <font color=white>Rh7+ Bxh7 g7#</font> ]<br><br>\\r\\nc) <img src=\"m8n2anc.png\"></a><br>5Kbk/6pp/6pR/5P2/8/8/8/8 w - - 0 1<br>[ <font color=white>fxg6 gxh6 g7#</font> ]<br><br>\\r\\nd) <img src=\"m8n2and.png\"></a><br>3k4/1P6/3K4/8/8/8/1q6/7R w - - 0 1<br>[ <font color=white>Rh8+ Qh8 b8/Q#</font> ]<br><br>\\r\\ne) <img src=\"m8n2ane.png\"></a><br>8/8/6rp/6pk/5b1p/5K2/6P1/6R1 w - - 0 1<br>[ <font color=white>g4+ hxg3 e.p. Rh1#</font> ]<br><br>\\r\\n\\r\\n14a) <img src=\"m8n2a14.gif\"></a><br><br>\\r\\n\\r\\nMate in 2 puzzles, Part XV. <br>\\r\\na) <img src=\"m8n2aoa.png\"></a><br>8/6kp/4r1p1/q3r3/6K1/B7/8/2Q5 w - - 0 1<br>[ <font color=white>Qh6+ if Kxh6 Bf8# or if Kf6 Qf8#</font> ]<br><br>\\r\\nb) <img src=\"m8n2aob.png\"></a><br>8/pk6/1p6/1B2r3/K7/2Q1q3/8/8 w - - 0 1<br>[ <font color=white>Ba6+ if Kxa6 Qc8# or if Kb8 Qc8#</font> ]<br><br>\\r\\nc) <img src=\"m8n2aoc.png\"></a><br>kb4q1/1p1B4/pK6/8/8/8/8/5Q2 w - - 0 1<br>[ <font color=white>Qxa6+ if bxa6 Bc6# or if Ba7 Qxb7#</font> ]<br><br>\\r\\nd) <img src=\"m8n2aod.png\"></a><br>qkb5/4p3/1K1p4/8/5Q2/6B1/8/8 w - - 0 1<br>[ <font color=white>Qxd6+ exd6 Bxd6#</font> ]<br><br>\\r\\ne) <img src=\"m8n2aoe.png\"></a><br>B7/8/8/7K/4b3/Q7/7p/1q4bk w - - 0 1<br>[ <font color=white>Qf3+ Bxf3 Bxf3#</font> ]<br><br>\\r\\n\\r\\n15e) <img src=\"m8n2a15.gif\"></a><br><br>\\r\\n\\r\\nMate in 2 puzzles, Part XVI. <br>\\r\\na) <img src=\"m8n2apa.png\"></a><br>8/8/B7/3qp3/2ppkpp1/8/4K3/3Q4 w - - 0 1<br>[ <font color=white>Qd3+ cxd3+ Bxd3#</font> ]<br><br>\\r\\nb) <img src=\"m8n2apb.png\"></a><br>6bk/7p/7K/4N3/8/8/7B/8 w - - 0 1<br>[ <font color=white>Ng6+ hxg6 Be5#</font> ]<br><br>\\r\\nc) <img src=\"m8n2apc.png\"></a><br>kB1KN3/p7/n7/8/8/8/8/8 w - - 0 1<br>[ <font color=white>Kc8 w/Nc7# or Nxc7#</font> ]<br><br>\\r\\nd) <img src=\"m8n2apd.png\"></a><br>5K1k/6pp/6p1/6B1/6N1/8/8/8 w - - 0 1<br>[ <font color=white>Nh6 gxh6 Bf6#</font> ]<br><br>\\r\\ne) <img src=\"m8n2ape.png\"></a><br>8/8/7p/5K1k/6pp/1p6/2B2N2/8 w - - 0 1<br>[ <font color=white>Nh3 if gxh3 Bd1# or if bxc2 Nf4#</font> ]<br><br>\\r\\n\\r\\n16d) <img src=\"m8n2a16.gif\"></a><br><br>\\r\\n\\r\\nMate in 2 puzzles, Part XVII. <br>\\r\\na) <img src=\"m8n2aqa.png\"></a><br>8/8/5B2/8/2pN4/K7/pp6/kb6 w - - 0 1<br>[ <font color=white>Nb3+ cxb3 Bxb2#</font> ]<br><br>\\r\\nb) <img src=\"m8n2aqb.png\"></a><br>kbK5/p7/2pN4/3p4/8/8/8/5B2 w - - 0 1<br>[ <font color=white>Ba6 Bxd6 Bb7#</font> ]<br><br>\\r\\nc) <img src=\"m8n2aqc.png\"></a><br>7B/8/pb6/kpn5/b1p5/1P6/1K6/8 w - - 0 1<br>[ <font color=white>b4+ Kxb4 Bc3#</font> ]<br><br>\\r\\nd) <img src=\"m8n2aqd.png\"></a><br>kb1n4/8/KP6/8/B7/8/8/8 w - - 0 1<br>[ <font color=white>Bc6+ Nxc6 b7#</font> ]<br><br>\\r\\ne) <img src=\"m8n2aqe.png\"></a><br>3B1K1k/6pp/4b3/7P/8/8/8/8 w - - 0 1<br>[ <font color=white>h6 gxh6 Bf6#</font> ]<br><br>\\r\\n\\r\\n17c) <img src=\"m8n2a17.gif\"></a><br><br>\\r\\n\\r\\nMate in 2 puzzles, Part XVIII. <br>\\r\\na) <img src=\"m8n2ara.png\"></a><br>8/8/8/6pp/5p1k/5K1b/5P1B/8 w - - 0 1<br>[ <font color=white>Bg3+ fxg3 fxg3#</font> ]<br><br>\\r\\nb) <img src=\"m8n2arb.png\"></a><br>8/p2p4/kp6/1pP5/1K6/7B/8/8 w - - 0 1<br>[ <font color=white>c6 if dxc6 Bc8#</font> ]<br><br>\\r\\nc) <img src=\"m8n2arc.png\"></a><br>7k/2r4r/5PK1/8/8/2B5/8/8 w - - 0 1<br>[ <font color=white>f7+ if Rxc3 f8/Q# or f8/R# or if Rg7+ Bxg7#</font> ]<br><br>\\r\\nd) <img src=\"m8n2ard.png\"></a><br>k1r2q2/ppQ5/N7/8/8/8/8/3K4 w - - 0 1<br>[ <font color=white>Qb8+ Rxb8 Nc7#</font> ]<br><br>\\r\\ne) <img src=\"m8n2are.png\"></a><br>4q2k/4N1pr/8/8/2Q5/8/4K3/8 w - - 0 1<br>[ <font color=white>Qg8+ Qxg8 Ng6#</font> ]<br><br>\\r\\n\\r\\n18e) <img src=\"m8n2a18.gif\"></a><br><br>\\r\\n\\r\\nMate in 2 puzzles, Part XIX. <br>\\r\\na) <img src=\"m8n2asa.png\"></a><br>rknN4/2p5/1rQ5/8/8/8/1q6/3K4 w - - 0 1<br>[ <font color=white>Qb7+ Rxb7 Nc6#</font> ]<br><br>\\r\\nb) <img src=\"m8n2asb.png\"></a><br>4r1kr/5b1p/5KN1/8/8/Q7/3q4/8 w - - 0 1<br>[ <font color=white>Qf8+ Rxf8 Ne7#</font> ]<br><br>\\r\\nc) <img src=\"m8n2asc.png\"></a><br>7k/4NKpp/4Q3/8/8/2q2p2/8/6r1 w - - 0 1<br>[ <font color=white>Ng6+ hxg6 Qh3#</font> ]<br><br>\\r\\nd) <img src=\"m8n2asd.png\"></a><br>k1b5/8/NKn5/8/4q3/8/7Q/8 w - - 0 1<br>[ <font color=white>Qb8+ Nxb8 Nc7#</font> ]<br><br>\\r\\ne) <img src=\"m8n2ase.png\"></a><br>k4K2/p7/1bP5/8/8/8/8/6qQ w - - 0 1<br>[ <font color=white>c7+ Qxh1 c8/Q#</font> ]<br><br>\\r\\n\\r\\n19d) <img src=\"m8n2a19.gif\"></a><br><br>\\r\\n\\r\\nMate in 2 puzzles, Part XX. <br>\\r\\na) <img src=\"m8n2ata.png\"></a><br>5rkr/5ppp/8/4K3/6N1/2Q5/q7/8 w - - 0 1<br>[ <font color=white>Nh6+ gxh6 Qg3#</font> ]<br><br>\\r\\nb) <img src=\"m8n2atb.png\"></a><br>krQ5/p7/8/4q3/N7/8/8/3K4 w - - 0 1<br>[ <font color=white>Nb6+ axb6 Qa6#</font> ]<br><br>\\r\\nc) <img src=\"m8n2atc.png\"></a><br>8/1q6/4NQ1r/5npk/8/7K/8/6r1 w - - 0 1<br>[ <font color=white>Qxg5+ Rxg5 Nf4#</font> ]<br><br>\\r\\nd) <img src=\"m8n2atd.png\"></a><br>k1r5/p1pq4/Qp1p4/8/3N4/8/3K4/8 w - - 0 1<br>[ <font color=white>Nc6 Qxc6 Qxc8#</font> ]<br><br>\\r\\ne) <img src=\"m8n2ate.png\"></a><br>3q2rk/5Q1p/6bK/4N3/8/8/8/8 w - - 0 1<br>[ <font color=white>Qxh7+ Bxh7 Nf7#</font> ]<br><br>\\r\\n\\r\\n20c) <img src=\"m8n2a20.gif\"></a><br><br>\\r\\n\\r\\nMate in 2 puzzles, Part XXI. <br>\\r\\na) <img src=\"m8n2aua.png\"></a><br>8/8/5Q2/2q3pk/7b/8/4K1P1/8 w - - 0 1<br>[ <font color=white>g4+ Kxg4 Qf3#</font> ]<br><br>\\r\\nb) <img src=\"m8n2aub.png\"></a><br>8/b2Q4/kp2p3/p2q4/1P6/K7/8/8 w - - 0 1<br>[ <font color=white>b5+ Qxb5 Qc8#</font> ]<br><br>\\r\\nc) <img src=\"m8n2auc.png\"></a><br>8/8/8/pq6/kpp5/7Q/K1P5/8 w - - 0 1<br>[ <font color=white>Qb3+ cxb3+ cxb3#</font> ]<br><br>\\r\\nd) <img src=\"m8n2aud.png\"></a><br>5K1k/7b/8/4ppP1/8/6bQ/7q/8 w - - 0 1<br>[ <font color=white>g6 Qxh3 g7#</font> ]<br><br>\\r\\ne) <img src=\"m8n2aue.png\"></a><br>1K2kb2/4p3/5P2/5Q1q/7r/8/8/8 w - - 0 1<br>[ <font color=white>f7+ w/Qc8#</font> ]<br><br>\\r\\n\\r\\n21b) <img src=\"m8n2a21.gif\"></a><br><br>\\r\\n\\r\\nMate in 2 puzzles, Part XXII. <br>\\r\\na) <img src=\"m8n2ava.png\"></a><br>k7/p1K2n2/p7/3p1r2/8/8/8/2R5 w - - 0 1<br>[ <font color=white>Rb1</font> ]<br><br>\\r\\nb) <img src=\"m8n2avb.png\"></a><br>4k3/2r1p1p1/3pK3/8/8/8/8/5R2 w - - 0 1<br>[ <font color=white>Rh1</font> ]<br><br>\\r\\nc) <img src=\"m8n2avc.png\"></a><br>7k/6R1/6Kn/8/8/8/8/8 w - - 0 1<br>[ <font color=white>Re7</font> ]<br><br>\\r\\nd) <img src=\"m8n2avd.png\"></a><br>Black mates in 2.<br>8/8/8/8/1b6/1k6/8/KBB5 b - - 0 1<br>[ <font color=white>...Bc3+</font> ]<br><br>\\r\\ne) <img src=\"m8n2ave.png\"></a><br>Black mates in 2.<br>8/8/8/8/4bN2/5kP1/7P/7K b - - 0 1<br>[ <font color=white>...Kf2+</font> ]<br><br>\\r\\n\\r\\n22e) <img src=\"m8n2a22.gif\"></a><br><br>\\r\\n\\r\\nMate in 2 puzzles, Part XXIII. <br>\\r\\na) <img src=\"m8n2awa.png\"></a><br>Black mates in 2.<br>7K/b4k1P/8/8/8/8/8/6R1 b - - 0 1<br>[ <font color=white>...Bd4+</font> ]<br><br>\\r\\nb) <img src=\"m8n2awb.png\"><br>Black mates in 2.</a><br>8/8/7P/1b1Q3K/5k1B/8/8/8 b - - 0 1<br>[ <font color=white>...Be8+</font> ]<br><br>\\r\\nc) <img src=\"m8n2awc.png\"></a><br>Black mates in 2.<br>8/8/8/8/Nb6/8/P7/K1k5 b - - 0 1<br>[ <font color=white>...Ba3</font> ]<br><br>\\r\\nd) <img src=\"m8n2awd.png\"></a><br>Black mates in 2.<br>K7/P1k5/2P5/8/8/7b/8/8 b - - 0 1<br>[ <font color=white>...Kc8 c7 Bg2#</font> ]<br><br>\\r\\ne) <img src=\"m8n2awe.png\"></a><br>6qk/8/7K/7Q/8/8/8/8 w - - 0 1<br>[ <font color=white>Qe5+</font> ]<br><br>\\r\\n\\r\\n23e) <img src=\"m8n2a23.gif\"></a><br><br>\\r\\n\\r\\nMate in 2 puzzles, Part XXIV. <br>\\r\\na) <img src=\"m8n2axa.png\"></a><br>Black mates in 2.<br>8/8/8/8/1n6/7N/7P/5k1K b - - 0 1<br>[ <font color=white>...Nd3</font> ]<br><br>\\r\\nb) <img src=\"m8n2axb.png\"></a><br>Black mates in 2.<br>8/2n5/8/P7/KPk5/P7/8/8 b - - 0 1<br>[ <font color=white>...Na6</font> ]<br><br>\\r\\nc) <img src=\"m8n2axc.png\"></a><br>Black mates in 2.<br>KBk5/2P5/3n4/8/8/8/8/8 b - - 0 1<br>[ <font color=white>...Nb5</font> ]<br><br>\\r\\nd) <img src=\"m8n2axd.png\"></a><br>Black mates in 2.<br>8/8/p7/kpK5/p7/8/P7/8 w - - 0 1<br>[ <font color=white>...a3 b4 axb4#</font> ]<br><br>\\r\\ne) <img src=\"m8n2axe.png\"></a><br>8/p7/kPK5/p7/n7/8/8/8 w - - 0 1<br>[ <font color=white>b7 Nc3 b8/N#</font> ]<br><br>\\r\\n\\r\\n24d) <img src=\"m8n2a24.gif\"></a><br><br>\\r\\n\\r\\nMate in 2 puzzles, Part XXV. <br>\\r\\na) <img src=\"m8n2aya.png\"></a><br>Black mates in 2.<br>7r/7r/4RP2/5RP1/7k/8/8/7K b - - 0 1<br>[ <font color=white>...Kg3+ Kg1 Rh1#</font> ]<br><br>\\r\\nb) <img src=\"m8n2ayb.png\"></a><br>Black mates in 2.<br>7r/r7/8/8/8/1kP5/1P1R4/1K4R1 b - - 0 1<br>[ <font color=white>...Rha8</font> ]<br><br>\\r\\nc) <img src=\"m8n2ayc.png\"></a><br>2b1kb2/4p3/2K5/8/8/8/8/3BB3 w - - 0 1<br>[ <font color=white>Bh5+</font> ]<br><br>\\r\\nd) <img src=\"m8n2ayd.png\"></a><br>8/8/6nq/3p2b1/7k/7p/5Kpp/3BB3 w - - 0 1<br>[ <font color=white>Kf3+ Kh5 Kg3#</font> ]<br><br>\\r\\ne) <img src=\"m8n2aye.png\"></a><br>Black mates in 2.<br>5b2/8/2B5/2BK3b/5k2/3P4/8/8 b - - 0 1<br>[ <font color=white>...Bf7+</font> ]<br><br>\\r\\n\\r\\n25c) <img src=\"m8n2a25.gif\"></a><br><br>\\r\\n\\r\\nMate in 2 puzzles, Part XXVI. <br>\\r\\na) <img src=\"m8n2aza.png\"></a><br>Black mates in 2.<br>8/8/4k3/2B5/3K4/3BP1b1/b7/8 b - - 0 1<br>[ <font color=white>...Be5+</font> ]<br><br>\\r\\nb) <img src=\"m8n2azb.png\"></a><br>Black mates in 2.<br>7b/6kb/8/8/8/P7/8/KB5R b - - 0 1<br>[ <font color=white>...Kf8+</font> ]<br><br>\\r\\nc) <img src=\"m8n2azc.png\"></a><br>8/6nk/3N2n1/8/4N3/8/8/K7 w - - 0 1<br>[ <font color=white>Nf6+</font> ]<br><br>\\r\\nd) <img src=\"m8n2azd.png\"></a><br>kn6/1n2N3/8/3N4/8/8/8/7K w - - 0 1<br>[ <font color=white>Nc7+</font> ]<br><br>\\r\\ne) <img src=\"m8n2aze.png\"></a><br>5nk1/4K1n1/8/4N3/6N1/8/8/8 w - - 0 1<br>[ <font color=white>Nf6+</font> ]<br><br>\\r\\n\\r\\n26a) <img src=\"m8n2a26.gif\"></a><br><br>\\r\\n\\r\\n<br><a href=\"index.html\">Back to the Index</a><br>\\r\\n</center></body></html>'"
      ]
     },
     "execution_count": 105,
     "metadata": {},
     "output_type": "execute_result"
    }
   ],
   "source": [
    "response.text"
   ]
  },
  {
   "cell_type": "code",
   "execution_count": 116,
   "metadata": {},
   "outputs": [
    {
     "name": "stdout",
     "output_type": "stream",
     "text": [
      "['a) <img src=\"m8n2aaa.png\"></a>', '4r1rk/5K1b/7R/R7/8/8/8/8 w - - 0 1', '[ <font color=white>Rxh7+ Kxh7 Rh5#</font> ]', '', '\\r']\n",
      "['b) <img src=\"m8n2aab.png\"></a>', '8/1r6/8/3R4/k7/p1K5/4r3/R7 w - - 0 1', '[ <font color=white>Rxa3+ Kxa3 Ra5#</font> ]', '', '\\r']\n",
      "['c) <img src=\"m8n2aac.png\"></a>', '6k1/8/6K1/8/8/3r4/4r3/5R1R w - - 0 1', '[ <font color=white>Rh8+ Kxh8 Rf8#</font> ]', '', '\\r']\n",
      "['d) <img src=\"m8n2aad.png\"></a>', '2rkr3/2ppp3/2n1n3/R2R4/8/8/3K4/8 w - - 0 1', '[ <font color=white>Rxd7+ Kxd7 Rd5#</font> ]', '', '\\r']\n",
      "['e) <img src=\"m8n2aae.png\"></a>', '4rkr1/1R1R4/4bK2/8/8/8/8/8 w - - 0 1', '[ <font color=white>Rf7+ Bxf7 Rxf7#</font> ]', '', '\\r']\n",
      "['a) <img src=\"m8n2aba.png\"></a>', '5K1k/6pp/7R/8/8/8/8/6R1 w - - 0 1', '[ <font color=white>Rgg6 gxh6 Rg8#</font> ]', '', '\\r']\n",
      "['b) <img src=\"m8n2abb.png\"></a>', '2k5/1q4b1/3K4/8/7R/8/7R/8 w - - 0 1', '[ <font color=white>Rh8+ Bxh8 Rxh8#</font> ]', '', '\\r']\n",
      "['c) <img src=\"m8n2abc.png\"></a>', '8/8/q5b1/7k/5Kp1/1R1R4/8/8 w - - 0 1', '[ <font color=white>Rh3+ gxh3 Rxh3#</font> ]', '', '\\r']\n",
      "['d) <img src=\"m8n2abd.png\"></a>', 'k7/3b4/1K6/8/8/5q2/2R1R3/8 w - - 0 1', '[ <font color=white>Re8+ Bxe8 Rc8#</font> ]', '', '\\r']\n",
      "['e) <img src=\"m8n2abe.png\"></a>', '8/1R1R4/8/p7/k1K5/r5r1/8/8 w - - 0 1', '[ <font color=white>Rb4+ axb4 Ra7#</font> ]', '', '\\r']\n",
      "['a) <img src=\"m8n2aca.png\"></a>', 'kr6/1p6/8/1p5R/6R1/8/1r6/5K2 w - - 0 1', '[ <font color=white>Ra4+ bxa4 Ra5#</font> ]', '', '\\r']\n",
      "['b) <img src=\"m8n2acb.png\"></a>', '6R1/8/8/7p/5K1k/r6r/8/6R1 w - - 0 1', '[ <font color=white>R1g4+ hxg4 Rh8#</font> ]', '', '\\r']\n",
      "['c) <img src=\"m8n2acc.png\"></a>', '4R3/8/5K2/7p/R5pk/5npr/8/8 w - - 0 1', '[ <font color=white>Rxg4+ if hxg4 Rh8# or if Kxg4 Re4#</font> ]', '', '\\r']\n",
      "['d) <img src=\"m8n2acd.png\"></a>', 'kb6/p4q2/2K5/8/8/8/8/1R1R4 w - - 0 1', '[ <font color=white>Rxb8+ Kxb8 Rd8#</font> ]', '', '\\r']\n",
      "['e) <img src=\"m8n2ace.png\"></a>', '8/6p1/6rk/6np/R6R/6K1/8/8 w - - 0 1', '[ <font color=white>Rxh5+ Kxh5 Rh4#</font> ]', '', '\\r']\n",
      "['a) <img src=\"m8n2ada.png\"></a>', 'kn1R4/ppp5/2q5/8/8/8/8/3RK3 w - - 0 1', '[ <font color=white>Rxb8+ Kxb8 Rd8#</font> ]', '', '\\r']\n",
      "['b) <img src=\"m8n2adb.png\"></a>', '1kb4R/1npp4/8/8/8/8/8/R5K1 w - - 0 1', '[ <font color=white>Rxc8+ Kxc8 Ra8#</font> ]', '', '\\r']\n",
      "['c) <img src=\"m8n2adc.png\"></a>', '8/8/1b6/kr6/pp6/1n6/7R/R3K3 w Q - 0 1', '[ <font color=white>Rxa4+ Kxa4 Ra2#</font> ]', '', '\\r']\n",
      "['d) <img src=\"m8n2add.png\"></a>', '5K1k/7p/8/2p5/2rp4/8/p7/1B4B1 w - - 0 1', '[ <font color=white>Bh2 axb8/Q Be5#</font> ]', '', '\\r']\n",
      "['e) <img src=\"m8n2ade.png\"></a>', 'k7/p7/B2K4/8/8/8/3p2p1/4B3 w - - 0 1', '[ <font color=white>Kc7 dxe1/Q Bb7#</font> ]', '', '\\r']\n",
      "['a) <img src=\"m8n2aea.png\"></a>', '8/5n2/8/6B1/8/4K3/7p/5B1k w - - 0 1', '[ <font color=white>Kf2 Nxg5 Bg2#</font> ]', '', '\\r']\n",
      "['b) <img src=\"m8n2aeb.png\"></a>', '8/5p2/7p/5Kpk/4BB1p/7r/8/8 w - - 0 1', '[ <font color=white>Bd5 gxf4 Bxf7#</font> ]', '', '\\r']\n",
      "['c) <img src=\"m8n2aec.png\"></a>', '8/6N1/8/pp6/kp6/pp5K/2N5/8 w - - 0 1', '[ <font color=white>Ne6 bxc2 Nc5#</font> ]', '', '\\r']\n",
      "['d) <img src=\"m8n2aed.png\"></a>', '8/8/8/7N/8/8/1p5p/N3K2k w - - 0 1', '[ <font color=white>Kf2 bxa1/Q Ng3#</font> ]', '', '\\r']\n",
      "['e) <img src=\"m8n2aee.png\"></a>', '4K3/8/8/4N1pr/4b1pk/4N1nr/8/8 w - - 0 1', '[ <font color=white>Ng2+ Bxg2 Ng6#</font> ]', '', '\\r']\n",
      "['a) <img src=\"m8n2afa.png\"></a>', 'k7/ppK5/2N5/3N4/8/8/7p/8 w - - 0 1', '[ <font color=white>Kc8 bxc6 Nc7#</font> ]', '', '\\r']\n",
      "['b) <img src=\"m8n2afb.png\"></a>', '7k/4K1pp/6pn/6N1/6N1/8/8/8 w - - 0 1', '[ <font color=white>Kf8 Nxg4 Nf7#</font> ]', '', '\\r']\n",
      "['c) <img src=\"m8n2afc.png\"></a>', '8/8/7p/5K1k/7p/8/2pn1N2/3N4 w - - 0 1', '[ <font color=white>Nh3 cxd1/Q Nf4#</font> ]', '', '\\r']\n",
      "['d) <img src=\"m8n2afd.png\"></a>', '7k/6pp/5P1P/8/8/8/1p3K2/8 w - - 0 1', '[ <font color=white>f7 w/f8/Q#</font> ]', '', '\\r']\n",
      "['e) <img src=\"m8n2afe.png\"></a>', '7k/5P2/4n1PK/8/8/8/8/8 w - - 0 1', '[ <font color=white>g7+ Nxg7 f8/Q# (or f8/R#) </font>]', '', '\\r']\n",
      "['a) <img src=\"m8n2aga.png\"></a>', 'k7/pn6/p1Pp4/4P3/8/8/8/6K1 w - - 0 1', '[ <font color=white>c7 if dxe5 c8/Q# (or c8/R#)</font> ]', '', '\\r']\n",
      "['b) <img src=\"m8n2agb.png\"></a>', '8/4PKPk/5n1p/4b3/8/8/p7/q7 w - - 0 1', '[ <font color=white>e8/Q+ Nxe8 g8/Q#</font> ]', '', '\\r']\n",
      "['c) <img src=\"m8n2agc.png\"></a>', 'r1k5/P7/2K1P3/8/8/8/8/8 w - - 0 1', '[ <font color=white>e7 Rxa7 e8/Q# (or e8/R#)</font> ]', '', '\\r']\n",
      "['d) <img src=\"m8n2agd.png\"></a>', '3k1r2/1P3P2/8/3K4/8/8/8/8 w - - 0 1', '[ <font color=white>Kd6 Rxf7 b8/Q# (or b8/R#)</font> ]', '', '\\r']\n",
      "['e) <img src=\"m8n2age.png\"></a>', '8/8/2P5/8/4p2p/p4Ppk/6p1/6K1 w - - 0 1', '[ <font color=white>c7 exf3 c8/Q# (or c8/B#)</font> ]', '', '\\r']\n",
      "['a) <img src=\"m8n2aha.png\"></a>', '2b5/7P/4Pp2/7p/5K1k/7p/p6n/8 w - - 0 1', '[ <font color=white>h8/N a1/Q Ng6#</font> ]', '', '\\r']\n",
      "['b) <img src=\"m8n2ahb.png\"></a>', '1k1B4/8/1K6/1n6/q7/8/8/3R4 w - - 0 1', '[ <font color=white>Bc7+ Nxc7 Rd8#</font> ]', '', '\\r']\n",
      "['c) <img src=\"m8n2ahc.png\"></a>', '7k/B7/6K1/8/8/2b5/7r/R7 w - - 0 1', '[ <font color=white>Bd4+ Bxd4 Ra8+</font> ]', '', '\\r']\n",
      "['d) <img src=\"m8n2ahd.png\"></a>', '6Bk/R4K2/8/8/8/8/8/8 w - - 0 1', '[ <font color=white>Kg6 Kxg8 Ra8#</font> ]', '', '\\r']\n",
      "['e) <img src=\"m8n2ahe.png\"></a>', 'kb6/6n1/K7/5p2/4p3/8/8/4R2B w - - 0 1', '[ <font color=white>Rxe4 if fxe4 Bxe4# or if f4 Rxf4#</font> ]', '', '\\r']\n",
      "['a) <img src=\"m8n2aia.png\"></a>', '5Knk/7b/R7/8/7B/8/8/8 w - - 0 1', '[ <font color=white>Rh6 Nxh6 Bf6#</font> ]', '', '\\r']\n",
      "['b) <img src=\"m8n2aib.png\"></a>', '8/8/8/6nr/4nB1k/8/6K1/5R2 w - - 0 1', '[ <font color=white>Bg3+ if Nxg3 Rf4# or if Kg4 Rf4#</font> ]', '', '\\r']\n",
      "['c) <img src=\"m8n2aic.png\"></a>', '7k/5ppr/K5p1/8/8/8/2B5/2R5 w - - 0 1', '[ <font color=white>Bxg6 fxg6 Rc8#</font> ]', '', '\\r']\n",
      "['d) <img src=\"m8n2aid.png\"></a>', '7k/7p/5K1b/8/6R1/8/1B6/1q6 w - - 0 1', '[ <font color=white>Kf7+ if Qxb2 Rg8# or if Bb7 Bxg7#</font> ]', '', '\\r']\n",
      "['e) <img src=\"m8n2aie.png\"></a>', '6B1/p1K5/k7/pp6/8/8/8/R7 w - - 0 1', '[ <font color=white>Ra4 bxa4 Bc4#</font> ]', '', '\\r']\n",
      "['a) <img src=\"m8n2aja.png\"></a>', '8/8/pp6/kb2B3/4n3/K1R5/8/8 w - - 0 1', '[ <font color=white>Rc5 if Nxc5 Bc3# or if bxc5 Bc7#</font> ]', '', '\\r']\n",
      "['b) <img src=\"m8n2ajb.png\"></a>', 'k7/pbK5/8/1B2n3/8/8/6p1/1R6 w - - 0 1', '[ <font color=white>Ba6 if g1/Q Bxb7# or if Bxa6 Rb8#</font> ]', '', '\\r']\n",
      "['c) <img src=\"m8n2ajc.png\"></a>', '8/8/7p/5K1k/6pp/1R6/B4n1r/8 w - - 0 1', '[ <font color=white>Rh3 w/Bf7#</font> ]', '', '\\r']\n",
      "['d) <img src=\"m8n2ajd.png\"></a>', 'r7/kp6/pR1Q4/5q2/8/8/8/3K4 w - - 0 1', '[ <font color=white>Rxa6+ bxa6 Qc7#</font> ]', '', '\\r']\n",
      "['e) <img src=\"m8n2aje.png\"></a>', '4Q3/kr6/pp6/8/8/8/6q1/R2K4 w - - 0 1', '[ <font color=white>Rxa6+ Kxa6 Qa4#</font> ]', '', '\\r']\n",
      "['a) <img src=\"m8n2aka.png\"></a>', '6rk/6n1/1R1Q4/7r/8/8/8/3K4 w - - 0 1', '[ <font color=white>Qh6+ Rxh6 Rxh6#</font> ]', '', '\\r']\n",
      "['b) <img src=\"m8n2akb.png\"></a>', '1k4r1/ppp5/8/8/2q5/8/5Q2/3K1R2 w - - 0 1', '[ <font color=white>Qf8+ Rxf8 Rxf8#</font> ]', '', '\\r']\n",
      "['c) <img src=\"m8n2akc.png\"></a>', '3R4/2q5/8/rpn5/kp5Q/2n5/1K6/8 w - - 0 1', '[ <font color=white>Qxb4+ Kxb4 Rd4#</font> ]', '', '\\r']\n",
      "['d) <img src=\"m8n2akd.png\"></a>', '5Q2/pp6/kp1R4/8/K7/8/4q3/8 w - - 0 1', '[ <font color=white>Rxb6+ if Kxb6 Qd6# or if axb6 Qa8#</font> ]', '', '\\r']\n",
      "['e) <img src=\"m8n2ake.png\"></a>', '1q1r3k/7p/7K/8/4R3/2p5/8/1Q6 w - - 0 1', '[ <font color=white>Re8+ Rxe8 Qxh7#</font> ]', '', '\\r']\n",
      "['a) <img src=\"m8n2ala.png\"></a>', 'kr6/1p6/p5R1/8/1q6/8/Q7/2K5 w - - 0 1', '[ <font color=white>Rxa6+ bxa6 Qxa6#</font> ]', '', '\\r']\n",
      "['b) <img src=\"m8n2alb.png\"></a>', 'k7/p2bR3/Q7/8/3q4/8/8/2K5 w - - 0 1', '[ <font color=white>Re8+ Bxe8 Qc8#</font> ]', '', '\\r']\n",
      "['c) <img src=\"m8n2alc.png\"></a>', 'k3r3/pR6/K7/2b5/8/8/1Q3q2/8 w - - 0 1', '[ <font color=white>Rxa7+ Bxa7 Qb7#</font> ]', '', '\\r']\n",
      "['d) <img src=\"m8n2ald.png\"></a>', '3rkr2/R3p3/8/4K3/8/7Q/5q2/8 w - - 0 1', '[ <font color=white>Rxe7+ Kxe7 Qe6#</font> ]', '', '\\r']\n",
      "['e) <img src=\"m8n2ale.png\"></a>', '2k5/1ppn4/1q6/8/Q7/8/5R2/4K3 w - - 0 1', '[ <font color=white>Rf8+ Nxf8 Qe8#</font> ]', '', '\\r']\n",
      "['a) <img src=\"m8n2ama.png\"></a>', 'k1r5/p1p5/N1K5/8/3q4/8/8/1R6 w - - 0 1', '[ <font color=white>Rb8+ Rxb8 Nxc7#</font> ]', '', '\\r']\n",
      "['b) <img src=\"m8n2amb.png\"></a>', '8/8/6Nr/5Kbk/R7/8/8/8 w - - 0 1', '[ <font color=white>Rh4+ Bxh4 Nf4#</font> ]', '', '\\r']\n",
      "['c) <img src=\"m8n2amc.png\"></a>', 'kr6/pp6/8/8/2N4R/8/8/3K4 w - - 0 1', '[ <font color=white>Nb6+ axb6 Ra4#</font> ]', '', '\\r']\n",
      "['d) <img src=\"m8n2amd.png\"></a>', '4nrkr/5pp1/8/7N/8/8/8/3K2R1 w - - 0 1', '[ <font color=white>Rxg7+ Nxg7 Nf6#</font> ]', '', '\\r']\n",
      "['e) <img src=\"m8n2ame.png\"></a>', '2Nnkr2/3p3R/8/5n2/8/8/8/7K w - - 0 1', '[ <font color=white>Re7+ Nxe7 Nd6#</font> ]', '', '\\r']\n",
      "['a) <img src=\"m8n2ana.png\"></a>', '2R5/8/pn6/k1N5/8/1K6/6q1/8 w - - 0 1', '[ <font color=white>Nb7+ Qxb7 Rc5#</font> ]', '', '\\r']\n",
      "['b) <img src=\"m8n2anb.png\"></a>', '5Kbk/R7/4q1P1/8/8/8/8/8 w - - 0 1', '[ <font color=white>Rh7+ Bxh7 g7#</font> ]', '', '\\r']\n",
      "['c) <img src=\"m8n2anc.png\"></a>', '5Kbk/6pp/6pR/5P2/8/8/8/8 w - - 0 1', '[ <font color=white>fxg6 gxh6 g7#</font> ]', '', '\\r']\n",
      "['d) <img src=\"m8n2and.png\"></a>', '3k4/1P6/3K4/8/8/8/1q6/7R w - - 0 1', '[ <font color=white>Rh8+ Qh8 b8/Q#</font> ]', '', '\\r']\n",
      "['e) <img src=\"m8n2ane.png\"></a>', '8/8/6rp/6pk/5b1p/5K2/6P1/6R1 w - - 0 1', '[ <font color=white>g4+ hxg3 e.p. Rh1#</font> ]', '', '\\r']\n",
      "['a) <img src=\"m8n2aoa.png\"></a>', '8/6kp/4r1p1/q3r3/6K1/B7/8/2Q5 w - - 0 1', '[ <font color=white>Qh6+ if Kxh6 Bf8# or if Kf6 Qf8#</font> ]', '', '\\r']\n",
      "['b) <img src=\"m8n2aob.png\"></a>', '8/pk6/1p6/1B2r3/K7/2Q1q3/8/8 w - - 0 1', '[ <font color=white>Ba6+ if Kxa6 Qc8# or if Kb8 Qc8#</font> ]', '', '\\r']\n",
      "['c) <img src=\"m8n2aoc.png\"></a>', 'kb4q1/1p1B4/pK6/8/8/8/8/5Q2 w - - 0 1', '[ <font color=white>Qxa6+ if bxa6 Bc6# or if Ba7 Qxb7#</font> ]', '', '\\r']\n",
      "['d) <img src=\"m8n2aod.png\"></a>', 'qkb5/4p3/1K1p4/8/5Q2/6B1/8/8 w - - 0 1', '[ <font color=white>Qxd6+ exd6 Bxd6#</font> ]', '', '\\r']\n",
      "['e) <img src=\"m8n2aoe.png\"></a>', 'B7/8/8/7K/4b3/Q7/7p/1q4bk w - - 0 1', '[ <font color=white>Qf3+ Bxf3 Bxf3#</font> ]', '', '\\r']\n",
      "['a) <img src=\"m8n2apa.png\"></a>', '8/8/B7/3qp3/2ppkpp1/8/4K3/3Q4 w - - 0 1', '[ <font color=white>Qd3+ cxd3+ Bxd3#</font> ]', '', '\\r']\n",
      "['b) <img src=\"m8n2apb.png\"></a>', '6bk/7p/7K/4N3/8/8/7B/8 w - - 0 1', '[ <font color=white>Ng6+ hxg6 Be5#</font> ]', '', '\\r']\n",
      "['c) <img src=\"m8n2apc.png\"></a>', 'kB1KN3/p7/n7/8/8/8/8/8 w - - 0 1', '[ <font color=white>Kc8 w/Nc7# or Nxc7#</font> ]', '', '\\r']\n",
      "['d) <img src=\"m8n2apd.png\"></a>', '5K1k/6pp/6p1/6B1/6N1/8/8/8 w - - 0 1', '[ <font color=white>Nh6 gxh6 Bf6#</font> ]', '', '\\r']\n",
      "['e) <img src=\"m8n2ape.png\"></a>', '8/8/7p/5K1k/6pp/1p6/2B2N2/8 w - - 0 1', '[ <font color=white>Nh3 if gxh3 Bd1# or if bxc2 Nf4#</font> ]', '', '\\r']\n",
      "['a) <img src=\"m8n2aqa.png\"></a>', '8/8/5B2/8/2pN4/K7/pp6/kb6 w - - 0 1', '[ <font color=white>Nb3+ cxb3 Bxb2#</font> ]', '', '\\r']\n",
      "['b) <img src=\"m8n2aqb.png\"></a>', 'kbK5/p7/2pN4/3p4/8/8/8/5B2 w - - 0 1', '[ <font color=white>Ba6 Bxd6 Bb7#</font> ]', '', '\\r']\n",
      "['c) <img src=\"m8n2aqc.png\"></a>', '7B/8/pb6/kpn5/b1p5/1P6/1K6/8 w - - 0 1', '[ <font color=white>b4+ Kxb4 Bc3#</font> ]', '', '\\r']\n",
      "['d) <img src=\"m8n2aqd.png\"></a>', 'kb1n4/8/KP6/8/B7/8/8/8 w - - 0 1', '[ <font color=white>Bc6+ Nxc6 b7#</font> ]', '', '\\r']\n",
      "['e) <img src=\"m8n2aqe.png\"></a>', '3B1K1k/6pp/4b3/7P/8/8/8/8 w - - 0 1', '[ <font color=white>h6 gxh6 Bf6#</font> ]', '', '\\r']\n",
      "['a) <img src=\"m8n2ara.png\"></a>', '8/8/8/6pp/5p1k/5K1b/5P1B/8 w - - 0 1', '[ <font color=white>Bg3+ fxg3 fxg3#</font> ]', '', '\\r']\n",
      "['b) <img src=\"m8n2arb.png\"></a>', '8/p2p4/kp6/1pP5/1K6/7B/8/8 w - - 0 1', '[ <font color=white>c6 if dxc6 Bc8#</font> ]', '', '\\r']\n",
      "['c) <img src=\"m8n2arc.png\"></a>', '7k/2r4r/5PK1/8/8/2B5/8/8 w - - 0 1', '[ <font color=white>f7+ if Rxc3 f8/Q# or f8/R# or if Rg7+ Bxg7#</font> ]', '', '\\r']\n",
      "['d) <img src=\"m8n2ard.png\"></a>', 'k1r2q2/ppQ5/N7/8/8/8/8/3K4 w - - 0 1', '[ <font color=white>Qb8+ Rxb8 Nc7#</font> ]', '', '\\r']\n",
      "['e) <img src=\"m8n2are.png\"></a>', '4q2k/4N1pr/8/8/2Q5/8/4K3/8 w - - 0 1', '[ <font color=white>Qg8+ Qxg8 Ng6#</font> ]', '', '\\r']\n",
      "['a) <img src=\"m8n2asa.png\"></a>', 'rknN4/2p5/1rQ5/8/8/8/1q6/3K4 w - - 0 1', '[ <font color=white>Qb7+ Rxb7 Nc6#</font> ]', '', '\\r']\n",
      "['b) <img src=\"m8n2asb.png\"></a>', '4r1kr/5b1p/5KN1/8/8/Q7/3q4/8 w - - 0 1', '[ <font color=white>Qf8+ Rxf8 Ne7#</font> ]', '', '\\r']\n",
      "['c) <img src=\"m8n2asc.png\"></a>', '7k/4NKpp/4Q3/8/8/2q2p2/8/6r1 w - - 0 1', '[ <font color=white>Ng6+ hxg6 Qh3#</font> ]', '', '\\r']\n",
      "['d) <img src=\"m8n2asd.png\"></a>', 'k1b5/8/NKn5/8/4q3/8/7Q/8 w - - 0 1', '[ <font color=white>Qb8+ Nxb8 Nc7#</font> ]', '', '\\r']\n",
      "['e) <img src=\"m8n2ase.png\"></a>', 'k4K2/p7/1bP5/8/8/8/8/6qQ w - - 0 1', '[ <font color=white>c7+ Qxh1 c8/Q#</font> ]', '', '\\r']\n",
      "['a) <img src=\"m8n2ata.png\"></a>', '5rkr/5ppp/8/4K3/6N1/2Q5/q7/8 w - - 0 1', '[ <font color=white>Nh6+ gxh6 Qg3#</font> ]', '', '\\r']\n",
      "['b) <img src=\"m8n2atb.png\"></a>', 'krQ5/p7/8/4q3/N7/8/8/3K4 w - - 0 1', '[ <font color=white>Nb6+ axb6 Qa6#</font> ]', '', '\\r']\n",
      "['c) <img src=\"m8n2atc.png\"></a>', '8/1q6/4NQ1r/5npk/8/7K/8/6r1 w - - 0 1', '[ <font color=white>Qxg5+ Rxg5 Nf4#</font> ]', '', '\\r']\n",
      "['d) <img src=\"m8n2atd.png\"></a>', 'k1r5/p1pq4/Qp1p4/8/3N4/8/3K4/8 w - - 0 1', '[ <font color=white>Nc6 Qxc6 Qxc8#</font> ]', '', '\\r']\n",
      "['e) <img src=\"m8n2ate.png\"></a>', '3q2rk/5Q1p/6bK/4N3/8/8/8/8 w - - 0 1', '[ <font color=white>Qxh7+ Bxh7 Nf7#</font> ]', '', '\\r']\n",
      "['a) <img src=\"m8n2aua.png\"></a>', '8/8/5Q2/2q3pk/7b/8/4K1P1/8 w - - 0 1', '[ <font color=white>g4+ Kxg4 Qf3#</font> ]', '', '\\r']\n",
      "['b) <img src=\"m8n2aub.png\"></a>', '8/b2Q4/kp2p3/p2q4/1P6/K7/8/8 w - - 0 1', '[ <font color=white>b5+ Qxb5 Qc8#</font> ]', '', '\\r']\n",
      "['c) <img src=\"m8n2auc.png\"></a>', '8/8/8/pq6/kpp5/7Q/K1P5/8 w - - 0 1', '[ <font color=white>Qb3+ cxb3+ cxb3#</font> ]', '', '\\r']\n",
      "['d) <img src=\"m8n2aud.png\"></a>', '5K1k/7b/8/4ppP1/8/6bQ/7q/8 w - - 0 1', '[ <font color=white>g6 Qxh3 g7#</font> ]', '', '\\r']\n",
      "['e) <img src=\"m8n2aue.png\"></a>', '1K2kb2/4p3/5P2/5Q1q/7r/8/8/8 w - - 0 1', '[ <font color=white>f7+ w/Qc8#</font> ]', '', '\\r']\n",
      "['a) <img src=\"m8n2ava.png\"></a>', 'k7/p1K2n2/p7/3p1r2/8/8/8/2R5 w - - 0 1', '[ <font color=white>Rb1</font> ]', '', '\\r']\n",
      "['b) <img src=\"m8n2avb.png\"></a>', '4k3/2r1p1p1/3pK3/8/8/8/8/5R2 w - - 0 1', '[ <font color=white>Rh1</font> ]', '', '\\r']\n",
      "['c) <img src=\"m8n2avc.png\"></a>', '7k/6R1/6Kn/8/8/8/8/8 w - - 0 1', '[ <font color=white>Re7</font> ]', '', '\\r']\n",
      "['d) <img src=\"m8n2avd.png\"></a>', '8/8/8/8/1b6/1k6/8/KBB5 b - - 0 1', '[ <font color=white>...Bc3+</font> ]', '', '\\r']\n",
      "['e) <img src=\"m8n2ave.png\"></a>', '8/8/8/8/4bN2/5kP1/7P/7K b - - 0 1', '[ <font color=white>...Kf2+</font> ]', '', '\\r']\n",
      "['a) <img src=\"m8n2awa.png\"></a>', '7K/b4k1P/8/8/8/8/8/6R1 b - - 0 1', '[ <font color=white>...Bd4+</font> ]', '', '\\r']\n",
      "['b) <img src=\"m8n2awb.png\">', '8/8/7P/1b1Q3K/5k1B/8/8/8 b - - 0 1', '[ <font color=white>...Be8+</font> ]', '', '\\r']\n",
      "['c) <img src=\"m8n2awc.png\"></a>', '8/8/8/8/Nb6/8/P7/K1k5 b - - 0 1', '[ <font color=white>...Ba3</font> ]', '', '\\r']\n",
      "['d) <img src=\"m8n2awd.png\"></a>', 'K7/P1k5/2P5/8/8/7b/8/8 b - - 0 1', '[ <font color=white>...Kc8 c7 Bg2#</font> ]', '', '\\r']\n",
      "['e) <img src=\"m8n2awe.png\"></a>', '6qk/8/7K/7Q/8/8/8/8 w - - 0 1', '[ <font color=white>Qe5+</font> ]', '', '\\r']\n",
      "['a) <img src=\"m8n2axa.png\"></a>', '8/8/8/8/1n6/7N/7P/5k1K b - - 0 1', '[ <font color=white>...Nd3</font> ]', '', '\\r']\n",
      "['b) <img src=\"m8n2axb.png\"></a>', '8/2n5/8/P7/KPk5/P7/8/8 b - - 0 1', '[ <font color=white>...Na6</font> ]', '', '\\r']\n",
      "['c) <img src=\"m8n2axc.png\"></a>', 'KBk5/2P5/3n4/8/8/8/8/8 b - - 0 1', '[ <font color=white>...Nb5</font> ]', '', '\\r']\n",
      "['d) <img src=\"m8n2axd.png\"></a>', '8/8/p7/kpK5/p7/8/P7/8 w - - 0 1', '[ <font color=white>...a3 b4 axb4#</font> ]', '', '\\r']\n",
      "['e) <img src=\"m8n2axe.png\"></a>', '8/p7/kPK5/p7/n7/8/8/8 w - - 0 1', '[ <font color=white>b7 Nc3 b8/N#</font> ]', '', '\\r']\n",
      "['a) <img src=\"m8n2aya.png\"></a>', '7r/7r/4RP2/5RP1/7k/8/8/7K b - - 0 1', '[ <font color=white>...Kg3+ Kg1 Rh1#</font> ]', '', '\\r']\n",
      "['b) <img src=\"m8n2ayb.png\"></a>', '7r/r7/8/8/8/1kP5/1P1R4/1K4R1 b - - 0 1', '[ <font color=white>...Rha8</font> ]', '', '\\r']\n",
      "['c) <img src=\"m8n2ayc.png\"></a>', '2b1kb2/4p3/2K5/8/8/8/8/3BB3 w - - 0 1', '[ <font color=white>Bh5+</font> ]', '', '\\r']\n",
      "['d) <img src=\"m8n2ayd.png\"></a>', '8/8/6nq/3p2b1/7k/7p/5Kpp/3BB3 w - - 0 1', '[ <font color=white>Kf3+ Kh5 Kg3#</font> ]', '', '\\r']\n",
      "['e) <img src=\"m8n2aye.png\"></a>', '5b2/8/2B5/2BK3b/5k2/3P4/8/8 b - - 0 1', '[ <font color=white>...Bf7+</font> ]', '', '\\r']\n",
      "['a) <img src=\"m8n2aza.png\"></a>', '8/8/4k3/2B5/3K4/3BP1b1/b7/8 b - - 0 1', '[ <font color=white>...Be5+</font> ]', '', '\\r']\n",
      "['b) <img src=\"m8n2azb.png\"></a>', '7b/6kb/8/8/8/P7/8/KB5R b - - 0 1', '[ <font color=white>...Kf8+</font> ]', '', '\\r']\n",
      "['c) <img src=\"m8n2azc.png\"></a>', '8/6nk/3N2n1/8/4N3/8/8/K7 w - - 0 1', '[ <font color=white>Nf6+</font> ]', '', '\\r']\n",
      "['d) <img src=\"m8n2azd.png\"></a>', 'kn6/1n2N3/8/3N4/8/8/8/7K w - - 0 1', '[ <font color=white>Nc7+</font> ]', '', '\\r']\n",
      "['e) <img src=\"m8n2aze.png\"></a>', '5nk1/4K1n1/8/4N3/6N1/8/8/8 w - - 0 1', '[ <font color=white>Nf6+</font> ]', '', '\\r']\n"
     ]
    }
   ],
   "source": [
    "import re\n",
    "puzzles = dict()\n",
    "for line in response.text.split('\\n'):\n",
    "    if re.search(r'</a><br>.+<br>', line):\n",
    "        line = line.split('<br>')\n",
    "        if 'Black' in line[1]:\n",
    "            line.pop(1)\n",
    "        print(line)\n",
    "        puzzles[line[1]] = line[2].split('white>')[1].split('<')[0]"
   ]
  },
  {
   "cell_type": "code",
   "execution_count": 117,
   "metadata": {},
   "outputs": [
    {
     "data": {
      "text/plain": [
       "{'4r1rk/5K1b/7R/R7/8/8/8/8 w - - 0 1': 'Rxh7+ Kxh7 Rh5#',\n",
       " '8/1r6/8/3R4/k7/p1K5/4r3/R7 w - - 0 1': 'Rxa3+ Kxa3 Ra5#',\n",
       " '6k1/8/6K1/8/8/3r4/4r3/5R1R w - - 0 1': 'Rh8+ Kxh8 Rf8#',\n",
       " '2rkr3/2ppp3/2n1n3/R2R4/8/8/3K4/8 w - - 0 1': 'Rxd7+ Kxd7 Rd5#',\n",
       " '4rkr1/1R1R4/4bK2/8/8/8/8/8 w - - 0 1': 'Rf7+ Bxf7 Rxf7#',\n",
       " '5K1k/6pp/7R/8/8/8/8/6R1 w - - 0 1': 'Rgg6 gxh6 Rg8#',\n",
       " '2k5/1q4b1/3K4/8/7R/8/7R/8 w - - 0 1': 'Rh8+ Bxh8 Rxh8#',\n",
       " '8/8/q5b1/7k/5Kp1/1R1R4/8/8 w - - 0 1': 'Rh3+ gxh3 Rxh3#',\n",
       " 'k7/3b4/1K6/8/8/5q2/2R1R3/8 w - - 0 1': 'Re8+ Bxe8 Rc8#',\n",
       " '8/1R1R4/8/p7/k1K5/r5r1/8/8 w - - 0 1': 'Rb4+ axb4 Ra7#',\n",
       " 'kr6/1p6/8/1p5R/6R1/8/1r6/5K2 w - - 0 1': 'Ra4+ bxa4 Ra5#',\n",
       " '6R1/8/8/7p/5K1k/r6r/8/6R1 w - - 0 1': 'R1g4+ hxg4 Rh8#',\n",
       " '4R3/8/5K2/7p/R5pk/5npr/8/8 w - - 0 1': 'Rxg4+ if hxg4 Rh8# or if Kxg4 Re4#',\n",
       " 'kb6/p4q2/2K5/8/8/8/8/1R1R4 w - - 0 1': 'Rxb8+ Kxb8 Rd8#',\n",
       " '8/6p1/6rk/6np/R6R/6K1/8/8 w - - 0 1': 'Rxh5+ Kxh5 Rh4#',\n",
       " 'kn1R4/ppp5/2q5/8/8/8/8/3RK3 w - - 0 1': 'Rxb8+ Kxb8 Rd8#',\n",
       " '1kb4R/1npp4/8/8/8/8/8/R5K1 w - - 0 1': 'Rxc8+ Kxc8 Ra8#',\n",
       " '8/8/1b6/kr6/pp6/1n6/7R/R3K3 w Q - 0 1': 'Rxa4+ Kxa4 Ra2#',\n",
       " '5K1k/7p/8/2p5/2rp4/8/p7/1B4B1 w - - 0 1': 'Bh2 axb8/Q Be5#',\n",
       " 'k7/p7/B2K4/8/8/8/3p2p1/4B3 w - - 0 1': 'Kc7 dxe1/Q Bb7#',\n",
       " '8/5n2/8/6B1/8/4K3/7p/5B1k w - - 0 1': 'Kf2 Nxg5 Bg2#',\n",
       " '8/5p2/7p/5Kpk/4BB1p/7r/8/8 w - - 0 1': 'Bd5 gxf4 Bxf7#',\n",
       " '8/6N1/8/pp6/kp6/pp5K/2N5/8 w - - 0 1': 'Ne6 bxc2 Nc5#',\n",
       " '8/8/8/7N/8/8/1p5p/N3K2k w - - 0 1': 'Kf2 bxa1/Q Ng3#',\n",
       " '4K3/8/8/4N1pr/4b1pk/4N1nr/8/8 w - - 0 1': 'Ng2+ Bxg2 Ng6#',\n",
       " 'k7/ppK5/2N5/3N4/8/8/7p/8 w - - 0 1': 'Kc8 bxc6 Nc7#',\n",
       " '7k/4K1pp/6pn/6N1/6N1/8/8/8 w - - 0 1': 'Kf8 Nxg4 Nf7#',\n",
       " '8/8/7p/5K1k/7p/8/2pn1N2/3N4 w - - 0 1': 'Nh3 cxd1/Q Nf4#',\n",
       " '7k/6pp/5P1P/8/8/8/1p3K2/8 w - - 0 1': 'f7 w/f8/Q#',\n",
       " '7k/5P2/4n1PK/8/8/8/8/8 w - - 0 1': 'g7+ Nxg7 f8/Q# (or f8/R#) ',\n",
       " 'k7/pn6/p1Pp4/4P3/8/8/8/6K1 w - - 0 1': 'c7 if dxe5 c8/Q# (or c8/R#)',\n",
       " '8/4PKPk/5n1p/4b3/8/8/p7/q7 w - - 0 1': 'e8/Q+ Nxe8 g8/Q#',\n",
       " 'r1k5/P7/2K1P3/8/8/8/8/8 w - - 0 1': 'e7 Rxa7 e8/Q# (or e8/R#)',\n",
       " '3k1r2/1P3P2/8/3K4/8/8/8/8 w - - 0 1': 'Kd6 Rxf7 b8/Q# (or b8/R#)',\n",
       " '8/8/2P5/8/4p2p/p4Ppk/6p1/6K1 w - - 0 1': 'c7 exf3 c8/Q# (or c8/B#)',\n",
       " '2b5/7P/4Pp2/7p/5K1k/7p/p6n/8 w - - 0 1': 'h8/N a1/Q Ng6#',\n",
       " '1k1B4/8/1K6/1n6/q7/8/8/3R4 w - - 0 1': 'Bc7+ Nxc7 Rd8#',\n",
       " '7k/B7/6K1/8/8/2b5/7r/R7 w - - 0 1': 'Bd4+ Bxd4 Ra8+',\n",
       " '6Bk/R4K2/8/8/8/8/8/8 w - - 0 1': 'Kg6 Kxg8 Ra8#',\n",
       " 'kb6/6n1/K7/5p2/4p3/8/8/4R2B w - - 0 1': 'Rxe4 if fxe4 Bxe4# or if f4 Rxf4#',\n",
       " '5Knk/7b/R7/8/7B/8/8/8 w - - 0 1': 'Rh6 Nxh6 Bf6#',\n",
       " '8/8/8/6nr/4nB1k/8/6K1/5R2 w - - 0 1': 'Bg3+ if Nxg3 Rf4# or if Kg4 Rf4#',\n",
       " '7k/5ppr/K5p1/8/8/8/2B5/2R5 w - - 0 1': 'Bxg6 fxg6 Rc8#',\n",
       " '7k/7p/5K1b/8/6R1/8/1B6/1q6 w - - 0 1': 'Kf7+ if Qxb2 Rg8# or if Bb7 Bxg7#',\n",
       " '6B1/p1K5/k7/pp6/8/8/8/R7 w - - 0 1': 'Ra4 bxa4 Bc4#',\n",
       " '8/8/pp6/kb2B3/4n3/K1R5/8/8 w - - 0 1': 'Rc5 if Nxc5 Bc3# or if bxc5 Bc7#',\n",
       " 'k7/pbK5/8/1B2n3/8/8/6p1/1R6 w - - 0 1': 'Ba6 if g1/Q Bxb7# or if Bxa6 Rb8#',\n",
       " '8/8/7p/5K1k/6pp/1R6/B4n1r/8 w - - 0 1': 'Rh3 w/Bf7#',\n",
       " 'r7/kp6/pR1Q4/5q2/8/8/8/3K4 w - - 0 1': 'Rxa6+ bxa6 Qc7#',\n",
       " '4Q3/kr6/pp6/8/8/8/6q1/R2K4 w - - 0 1': 'Rxa6+ Kxa6 Qa4#',\n",
       " '6rk/6n1/1R1Q4/7r/8/8/8/3K4 w - - 0 1': 'Qh6+ Rxh6 Rxh6#',\n",
       " '1k4r1/ppp5/8/8/2q5/8/5Q2/3K1R2 w - - 0 1': 'Qf8+ Rxf8 Rxf8#',\n",
       " '3R4/2q5/8/rpn5/kp5Q/2n5/1K6/8 w - - 0 1': 'Qxb4+ Kxb4 Rd4#',\n",
       " '5Q2/pp6/kp1R4/8/K7/8/4q3/8 w - - 0 1': 'Rxb6+ if Kxb6 Qd6# or if axb6 Qa8#',\n",
       " '1q1r3k/7p/7K/8/4R3/2p5/8/1Q6 w - - 0 1': 'Re8+ Rxe8 Qxh7#',\n",
       " 'kr6/1p6/p5R1/8/1q6/8/Q7/2K5 w - - 0 1': 'Rxa6+ bxa6 Qxa6#',\n",
       " 'k7/p2bR3/Q7/8/3q4/8/8/2K5 w - - 0 1': 'Re8+ Bxe8 Qc8#',\n",
       " 'k3r3/pR6/K7/2b5/8/8/1Q3q2/8 w - - 0 1': 'Rxa7+ Bxa7 Qb7#',\n",
       " '3rkr2/R3p3/8/4K3/8/7Q/5q2/8 w - - 0 1': 'Rxe7+ Kxe7 Qe6#',\n",
       " '2k5/1ppn4/1q6/8/Q7/8/5R2/4K3 w - - 0 1': 'Rf8+ Nxf8 Qe8#',\n",
       " 'k1r5/p1p5/N1K5/8/3q4/8/8/1R6 w - - 0 1': 'Rb8+ Rxb8 Nxc7#',\n",
       " '8/8/6Nr/5Kbk/R7/8/8/8 w - - 0 1': 'Rh4+ Bxh4 Nf4#',\n",
       " 'kr6/pp6/8/8/2N4R/8/8/3K4 w - - 0 1': 'Nb6+ axb6 Ra4#',\n",
       " '4nrkr/5pp1/8/7N/8/8/8/3K2R1 w - - 0 1': 'Rxg7+ Nxg7 Nf6#',\n",
       " '2Nnkr2/3p3R/8/5n2/8/8/8/7K w - - 0 1': 'Re7+ Nxe7 Nd6#',\n",
       " '2R5/8/pn6/k1N5/8/1K6/6q1/8 w - - 0 1': 'Nb7+ Qxb7 Rc5#',\n",
       " '5Kbk/R7/4q1P1/8/8/8/8/8 w - - 0 1': 'Rh7+ Bxh7 g7#',\n",
       " '5Kbk/6pp/6pR/5P2/8/8/8/8 w - - 0 1': 'fxg6 gxh6 g7#',\n",
       " '3k4/1P6/3K4/8/8/8/1q6/7R w - - 0 1': 'Rh8+ Qh8 b8/Q#',\n",
       " '8/8/6rp/6pk/5b1p/5K2/6P1/6R1 w - - 0 1': 'g4+ hxg3 e.p. Rh1#',\n",
       " '8/6kp/4r1p1/q3r3/6K1/B7/8/2Q5 w - - 0 1': 'Qh6+ if Kxh6 Bf8# or if Kf6 Qf8#',\n",
       " '8/pk6/1p6/1B2r3/K7/2Q1q3/8/8 w - - 0 1': 'Ba6+ if Kxa6 Qc8# or if Kb8 Qc8#',\n",
       " 'kb4q1/1p1B4/pK6/8/8/8/8/5Q2 w - - 0 1': 'Qxa6+ if bxa6 Bc6# or if Ba7 Qxb7#',\n",
       " 'qkb5/4p3/1K1p4/8/5Q2/6B1/8/8 w - - 0 1': 'Qxd6+ exd6 Bxd6#',\n",
       " 'B7/8/8/7K/4b3/Q7/7p/1q4bk w - - 0 1': 'Qf3+ Bxf3 Bxf3#',\n",
       " '8/8/B7/3qp3/2ppkpp1/8/4K3/3Q4 w - - 0 1': 'Qd3+ cxd3+ Bxd3#',\n",
       " '6bk/7p/7K/4N3/8/8/7B/8 w - - 0 1': 'Ng6+ hxg6 Be5#',\n",
       " 'kB1KN3/p7/n7/8/8/8/8/8 w - - 0 1': 'Kc8 w/Nc7# or Nxc7#',\n",
       " '5K1k/6pp/6p1/6B1/6N1/8/8/8 w - - 0 1': 'Nh6 gxh6 Bf6#',\n",
       " '8/8/7p/5K1k/6pp/1p6/2B2N2/8 w - - 0 1': 'Nh3 if gxh3 Bd1# or if bxc2 Nf4#',\n",
       " '8/8/5B2/8/2pN4/K7/pp6/kb6 w - - 0 1': 'Nb3+ cxb3 Bxb2#',\n",
       " 'kbK5/p7/2pN4/3p4/8/8/8/5B2 w - - 0 1': 'Ba6 Bxd6 Bb7#',\n",
       " '7B/8/pb6/kpn5/b1p5/1P6/1K6/8 w - - 0 1': 'b4+ Kxb4 Bc3#',\n",
       " 'kb1n4/8/KP6/8/B7/8/8/8 w - - 0 1': 'Bc6+ Nxc6 b7#',\n",
       " '3B1K1k/6pp/4b3/7P/8/8/8/8 w - - 0 1': 'h6 gxh6 Bf6#',\n",
       " '8/8/8/6pp/5p1k/5K1b/5P1B/8 w - - 0 1': 'Bg3+ fxg3 fxg3#',\n",
       " '8/p2p4/kp6/1pP5/1K6/7B/8/8 w - - 0 1': 'c6 if dxc6 Bc8#',\n",
       " '7k/2r4r/5PK1/8/8/2B5/8/8 w - - 0 1': 'f7+ if Rxc3 f8/Q# or f8/R# or if Rg7+ Bxg7#',\n",
       " 'k1r2q2/ppQ5/N7/8/8/8/8/3K4 w - - 0 1': 'Qb8+ Rxb8 Nc7#',\n",
       " '4q2k/4N1pr/8/8/2Q5/8/4K3/8 w - - 0 1': 'Qg8+ Qxg8 Ng6#',\n",
       " 'rknN4/2p5/1rQ5/8/8/8/1q6/3K4 w - - 0 1': 'Qb7+ Rxb7 Nc6#',\n",
       " '4r1kr/5b1p/5KN1/8/8/Q7/3q4/8 w - - 0 1': 'Qf8+ Rxf8 Ne7#',\n",
       " '7k/4NKpp/4Q3/8/8/2q2p2/8/6r1 w - - 0 1': 'Ng6+ hxg6 Qh3#',\n",
       " 'k1b5/8/NKn5/8/4q3/8/7Q/8 w - - 0 1': 'Qb8+ Nxb8 Nc7#',\n",
       " 'k4K2/p7/1bP5/8/8/8/8/6qQ w - - 0 1': 'c7+ Qxh1 c8/Q#',\n",
       " '5rkr/5ppp/8/4K3/6N1/2Q5/q7/8 w - - 0 1': 'Nh6+ gxh6 Qg3#',\n",
       " 'krQ5/p7/8/4q3/N7/8/8/3K4 w - - 0 1': 'Nb6+ axb6 Qa6#',\n",
       " '8/1q6/4NQ1r/5npk/8/7K/8/6r1 w - - 0 1': 'Qxg5+ Rxg5 Nf4#',\n",
       " 'k1r5/p1pq4/Qp1p4/8/3N4/8/3K4/8 w - - 0 1': 'Nc6 Qxc6 Qxc8#',\n",
       " '3q2rk/5Q1p/6bK/4N3/8/8/8/8 w - - 0 1': 'Qxh7+ Bxh7 Nf7#',\n",
       " '8/8/5Q2/2q3pk/7b/8/4K1P1/8 w - - 0 1': 'g4+ Kxg4 Qf3#',\n",
       " '8/b2Q4/kp2p3/p2q4/1P6/K7/8/8 w - - 0 1': 'b5+ Qxb5 Qc8#',\n",
       " '8/8/8/pq6/kpp5/7Q/K1P5/8 w - - 0 1': 'Qb3+ cxb3+ cxb3#',\n",
       " '5K1k/7b/8/4ppP1/8/6bQ/7q/8 w - - 0 1': 'g6 Qxh3 g7#',\n",
       " '1K2kb2/4p3/5P2/5Q1q/7r/8/8/8 w - - 0 1': 'f7+ w/Qc8#',\n",
       " 'k7/p1K2n2/p7/3p1r2/8/8/8/2R5 w - - 0 1': 'Rb1',\n",
       " '4k3/2r1p1p1/3pK3/8/8/8/8/5R2 w - - 0 1': 'Rh1',\n",
       " '7k/6R1/6Kn/8/8/8/8/8 w - - 0 1': 'Re7',\n",
       " '8/8/8/8/1b6/1k6/8/KBB5 b - - 0 1': '...Bc3+',\n",
       " '8/8/8/8/4bN2/5kP1/7P/7K b - - 0 1': '...Kf2+',\n",
       " '7K/b4k1P/8/8/8/8/8/6R1 b - - 0 1': '...Bd4+',\n",
       " '8/8/7P/1b1Q3K/5k1B/8/8/8 b - - 0 1': '...Be8+',\n",
       " '8/8/8/8/Nb6/8/P7/K1k5 b - - 0 1': '...Ba3',\n",
       " 'K7/P1k5/2P5/8/8/7b/8/8 b - - 0 1': '...Kc8 c7 Bg2#',\n",
       " '6qk/8/7K/7Q/8/8/8/8 w - - 0 1': 'Qe5+',\n",
       " '8/8/8/8/1n6/7N/7P/5k1K b - - 0 1': '...Nd3',\n",
       " '8/2n5/8/P7/KPk5/P7/8/8 b - - 0 1': '...Na6',\n",
       " 'KBk5/2P5/3n4/8/8/8/8/8 b - - 0 1': '...Nb5',\n",
       " '8/8/p7/kpK5/p7/8/P7/8 w - - 0 1': '...a3 b4 axb4#',\n",
       " '8/p7/kPK5/p7/n7/8/8/8 w - - 0 1': 'b7 Nc3 b8/N#',\n",
       " '7r/7r/4RP2/5RP1/7k/8/8/7K b - - 0 1': '...Kg3+ Kg1 Rh1#',\n",
       " '7r/r7/8/8/8/1kP5/1P1R4/1K4R1 b - - 0 1': '...Rha8',\n",
       " '2b1kb2/4p3/2K5/8/8/8/8/3BB3 w - - 0 1': 'Bh5+',\n",
       " '8/8/6nq/3p2b1/7k/7p/5Kpp/3BB3 w - - 0 1': 'Kf3+ Kh5 Kg3#',\n",
       " '5b2/8/2B5/2BK3b/5k2/3P4/8/8 b - - 0 1': '...Bf7+',\n",
       " '8/8/4k3/2B5/3K4/3BP1b1/b7/8 b - - 0 1': '...Be5+',\n",
       " '7b/6kb/8/8/8/P7/8/KB5R b - - 0 1': '...Kf8+',\n",
       " '8/6nk/3N2n1/8/4N3/8/8/K7 w - - 0 1': 'Nf6+',\n",
       " 'kn6/1n2N3/8/3N4/8/8/8/7K w - - 0 1': 'Nc7+',\n",
       " '5nk1/4K1n1/8/4N3/6N1/8/8/8 w - - 0 1': 'Nf6+'}"
      ]
     },
     "execution_count": 117,
     "metadata": {},
     "output_type": "execute_result"
    }
   ],
   "source": [
    "puzzles"
   ]
  },
  {
   "cell_type": "code",
   "execution_count": 126,
   "metadata": {},
   "outputs": [
    {
     "name": "stdout",
     "output_type": "stream",
     "text": [
      "Incorrect Rh8+ Bf8+ Rxf8# Rh8+ Bxh8 Rxh8#\n",
      "Incorrect Re8+ Bc8 Rexc8# Re8+ Bxe8 Rc8#\n",
      "Incorrect Rxg4+ hxg4 Rh8# Rxg4+ if hxg4 Rh8# or if Kxg4 Re4#\n",
      "Incorrect f7 g5 f8=Q# f7 w/f8/Q#\n",
      "Incorrect g7+ Nxg7 f8=Q# g7+ Nxg7 f8/Q# (or f8/R#) \n",
      "Incorrect c7 a5 c8=Q# c7 if dxe5 c8/Q# (or c8/R#)\n",
      "Incorrect e8=Q h5 Qh8# e8/Q+ Nxe8 g8/Q#\n",
      "Incorrect e7 Rxa7 e8=Q# e7 Rxa7 e8/Q# (or e8/R#)\n",
      "Incorrect Kd6 Rxf7 b8=Q# Kd6 Rxf7 b8/Q# (or b8/R#)\n",
      "Incorrect c7 a2 c8=Q# c7 exf3 c8/Q# (or c8/B#)\n",
      "Incorrect h8=N a1=N Ng6# h8/N a1/Q Ng6#\n",
      "Incorrect Bd4+ Bxd4 Ra8# Bd4+ Bxd4 Ra8+\n",
      "Incorrect Rh6 Nf6 Bxf6# Rh6 Nxh6 Bf6#\n",
      "Incorrect Kf7+ Qxb2 Rg8# Kf7+ if Qxb2 Rg8# or if Bb7 Bxg7#\n",
      "Incorrect Ba6 g1=N Bxb7# Ba6 if g1/Q Bxb7# or if Bxa6 Rb8#\n",
      "Incorrect Rh3 g3 Bf7# Rh3 w/Bf7#\n",
      "Incorrect Re8+ Bc8 Rxc8# Re8+ Bxe8 Qc8#\n",
      "Incorrect Rh8+ Qxh8 b8=Q# Rh8+ Qh8 b8/Q#\n",
      "Incorrect Qxa6+ bxa6 Bc6# Qxa6+ if bxa6 Bc6# or if Ba7 Qxb7#\n",
      "Incorrect Kc8 Nb4 Nc7# Kc8 w/Nc7# or Nxc7#\n",
      "Incorrect f7+ Rxc3 f8=Q# f7+ if Rxc3 f8/Q# or f8/R# or if Rg7+ Bxg7#\n",
      "Incorrect c7+ Qxh1 c8=Q# c7+ Qxh1 c8/Q#\n",
      "Incorrect Nc6 b5 Qxa7# Nc6 Qxc6 Qxc8#\n",
      "Incorrect f7+ Qxf7 Qc8# f7+ w/Qc8#\n",
      "Incorrect Rb1 d4 Rb8# Rb1\n",
      "Incorrect Rh1 g5 Rh8# Rh1\n",
      "Incorrect Re7 Ng4 Re8# Re7\n",
      "Incorrect Kc3 Bh6 Kb3 ...Bc3+\n",
      "Incorrect Kf2+ Ng2 Kf1 ...Kf2+\n",
      "Incorrect Bf2 Rg8 Be1 ...Bd4+\n",
      "Incorrect Ke3 Kg6 Ke2 ...Be8+\n",
      "Incorrect Kd1 Nb6 Kc1 ...Ba3\n",
      "Incorrect Bd7 cxd7 Kb6 ...Kc8 c7 Bg2#\n",
      "Incorrect Qe5+ Qg7+ Qxg7# Qe5+\n",
      "Incorrect Ke1 Ng5 Kd1 ...Nd3\n",
      "Incorrect Kc3 a6 Kb2 ...Na6\n",
      "Incorrect Nc4 Ba7 Nb2 ...Nb5\n",
      "Incorrect a3 b4 axb4# ...a3 b4 axb4#\n",
      "Incorrect b7 Nb2 b8=N# b7 Nc3 b8/N#\n",
      "Incorrect Kg3+ Kg1 Kh3 ...Kg3+ Kg1 Rh1#\n",
      "Incorrect Ra1+ Kxa1 Ka4 ...Rha8\n",
      "Incorrect Bh5+ Kd8 Ba5# Bh5+\n",
      "Incorrect Kf3 Be8 Ke2 ...Bf7+\n",
      "Incorrect Bb1 Bf8 Ba2 ...Be5+\n",
      "Incorrect Kf6 Rh6+ Bg6 ...Kf8+\n",
      "Incorrect Nf6+ Kh6 Nf7# Nf6+\n",
      "Incorrect Nc7+ Ka7 Nc8# Nc7+\n",
      "Incorrect Nf6+ Kh8 Nf7# Nf6+\n",
      "82 48\n"
     ]
    }
   ],
   "source": [
    "from tqdm import tqdm\n",
    "correct = 0\n",
    "incorrect = 0\n",
    "for puzzle in puzzles:\n",
    "    board = chess.Board(puzzle)\n",
    "    result = alpha_beta_pruning(board, -1000000, 1000000, 3, True)\n",
    "    answer = ''\n",
    "    for move in result[1]:\n",
    "        answer += board.san(move) + ' '\n",
    "        board.push(move)\n",
    "    answer = answer.strip()\n",
    "    if answer.strip() == puzzles[puzzle]:\n",
    "        # print('Correct', answer)\n",
    "        correct += 1\n",
    "    else:\n",
    "        try:\n",
    "            if (answer.split(' ')[-1] == puzzles[puzzle].split(' ')[-1]) and (answer.split(' ')[0] == puzzles[puzzle].split(' ')[0]):\n",
    "                # print('Correct', answer, puzzles[puzzle])\n",
    "                correct += 1\n",
    "            else:\n",
    "                print('Incorrect', answer, puzzles[puzzle])\n",
    "                incorrect += 1\n",
    "        except:\n",
    "            print('Incorrect', answer, puzzles[puzzle])\n",
    "            incorrect += 1\n",
    "print(correct, incorrect)"
   ]
  },
  {
   "cell_type": "code",
   "execution_count": 9,
   "metadata": {},
   "outputs": [],
   "source": [
    "from chess_minmax import alphabet\n",
    "import chess\n",
    "import chess.svg\n",
    "\n",
    "# fen_list = [\n",
    "#     \"2r5/1b1p1p1k/p2Pp1p1/PpP1P1Pp/1P1K1P1P/3R4/8/8 w - - 0 1\",\n",
    "#     \"8/5p1k/4pPpp/4P1KP/6P1/8/8/8 w - - 0 1\",\n",
    "#     \"8/8/8/8/8/2K5/PP6/k7 w - - 0 1\",\n",
    "#     \"8/8/8/8/8/2K5/PP6/1k6 w - - 0 1\",\n",
    "#     \"8/8/8/8/8/2K5/PP6/2k5 w - - 0 1\"\n",
    "# ]\n",
    "\n",
    "# fen = 'r5rk/5p1p/5R2/4B3/8/8/7P/7K w - - 0 1'\n",
    "# result = alphabet(fen, 5)\n",
    "# board = chess.Board(fen)\n",
    "# for move in result[1]:\n",
    "#     display(chess.svg.board(board, arrows=[chess.svg.Arrow(move.from_square, move.to_square)], size=400))\n",
    "#     print(board.san(move), end=' ')\n",
    "#     board.push(move)\n",
    "# board"
   ]
  },
  {
   "cell_type": "code",
   "execution_count": 1,
   "metadata": {},
   "outputs": [],
   "source": [
    "import pandas as pd"
   ]
  },
  {
   "cell_type": "code",
   "execution_count": 2,
   "metadata": {},
   "outputs": [],
   "source": [
    "data = pd.read_csv('lichess_db_puzzle.csv')"
   ]
  },
  {
   "cell_type": "code",
   "execution_count": 3,
   "metadata": {},
   "outputs": [],
   "source": [
    "# filter data with mate in 2 in themes\n",
    "mate_in_2 = data.loc[data['Themes'].str.contains('mateIn2')]"
   ]
  },
  {
   "cell_type": "code",
   "execution_count": 23,
   "metadata": {},
   "outputs": [
    {
     "data": {
      "text/html": [
       "<div>\n",
       "<style scoped>\n",
       "    .dataframe tbody tr th:only-of-type {\n",
       "        vertical-align: middle;\n",
       "    }\n",
       "\n",
       "    .dataframe tbody tr th {\n",
       "        vertical-align: top;\n",
       "    }\n",
       "\n",
       "    .dataframe thead th {\n",
       "        text-align: right;\n",
       "    }\n",
       "</style>\n",
       "<table border=\"1\" class=\"dataframe\">\n",
       "  <thead>\n",
       "    <tr style=\"text-align: right;\">\n",
       "      <th></th>\n",
       "      <th>PuzzleId</th>\n",
       "      <th>FEN</th>\n",
       "      <th>Moves</th>\n",
       "      <th>Rating</th>\n",
       "      <th>RatingDeviation</th>\n",
       "      <th>Popularity</th>\n",
       "      <th>NbPlays</th>\n",
       "      <th>Themes</th>\n",
       "      <th>GameUrl</th>\n",
       "      <th>OpeningTags</th>\n",
       "    </tr>\n",
       "  </thead>\n",
       "  <tbody>\n",
       "    <tr>\n",
       "      <th>0</th>\n",
       "      <td>00008</td>\n",
       "      <td>r6k/pp2r2p/4Rp1Q/3p4/8/1N1P2R1/PqP2bPP/7K b - ...</td>\n",
       "      <td>f2g3 e6e7 b2b1 b3c1 b1c1 h6c1</td>\n",
       "      <td>1920</td>\n",
       "      <td>75</td>\n",
       "      <td>94</td>\n",
       "      <td>6225</td>\n",
       "      <td>crushing hangingPiece long middlegame</td>\n",
       "      <td>https://lichess.org/787zsVup/black#47</td>\n",
       "      <td>NaN</td>\n",
       "    </tr>\n",
       "    <tr>\n",
       "      <th>1</th>\n",
       "      <td>0000D</td>\n",
       "      <td>5rk1/1p3ppp/pq3b2/8/8/1P1Q1N2/P4PPP/3R2K1 w - ...</td>\n",
       "      <td>d3d6 f8d8 d6d8 f6d8</td>\n",
       "      <td>1483</td>\n",
       "      <td>74</td>\n",
       "      <td>96</td>\n",
       "      <td>26507</td>\n",
       "      <td>advantage endgame short</td>\n",
       "      <td>https://lichess.org/F8M8OS71#52</td>\n",
       "      <td>NaN</td>\n",
       "    </tr>\n",
       "    <tr>\n",
       "      <th>2</th>\n",
       "      <td>0008Q</td>\n",
       "      <td>8/4R3/1p2P3/p4r2/P6p/1P3Pk1/4K3/8 w - - 1 64</td>\n",
       "      <td>e7f7 f5e5 e2f1 e5e6</td>\n",
       "      <td>1419</td>\n",
       "      <td>75</td>\n",
       "      <td>90</td>\n",
       "      <td>560</td>\n",
       "      <td>advantage endgame rookEndgame short</td>\n",
       "      <td>https://lichess.org/MQSyb3KW#126</td>\n",
       "      <td>NaN</td>\n",
       "    </tr>\n",
       "    <tr>\n",
       "      <th>3</th>\n",
       "      <td>0009B</td>\n",
       "      <td>r2qr1k1/b1p2ppp/pp4n1/P1P1p3/4P1n1/B2P2Pb/3NBP...</td>\n",
       "      <td>b6c5 e2g4 h3g4 d1g4</td>\n",
       "      <td>1112</td>\n",
       "      <td>74</td>\n",
       "      <td>87</td>\n",
       "      <td>569</td>\n",
       "      <td>advantage middlegame short</td>\n",
       "      <td>https://lichess.org/4MWQCxQ6/black#31</td>\n",
       "      <td>Kings_Pawn_Game Kings_Pawn_Game_Leonardis_Vari...</td>\n",
       "    </tr>\n",
       "    <tr>\n",
       "      <th>4</th>\n",
       "      <td>000Vc</td>\n",
       "      <td>8/8/4k1p1/2KpP2p/5PP1/8/8/8 w - - 0 53</td>\n",
       "      <td>g4h5 g6h5 f4f5 e6e5 f5f6 e5f6</td>\n",
       "      <td>1556</td>\n",
       "      <td>81</td>\n",
       "      <td>73</td>\n",
       "      <td>91</td>\n",
       "      <td>crushing endgame long pawnEndgame</td>\n",
       "      <td>https://lichess.org/l6AejDMO#104</td>\n",
       "      <td>NaN</td>\n",
       "    </tr>\n",
       "    <tr>\n",
       "      <th>...</th>\n",
       "      <td>...</td>\n",
       "      <td>...</td>\n",
       "      <td>...</td>\n",
       "      <td>...</td>\n",
       "      <td>...</td>\n",
       "      <td>...</td>\n",
       "      <td>...</td>\n",
       "      <td>...</td>\n",
       "      <td>...</td>\n",
       "      <td>...</td>\n",
       "    </tr>\n",
       "    <tr>\n",
       "      <th>3972875</th>\n",
       "      <td>zzzco</td>\n",
       "      <td>5Q2/pp3R1P/1kpp4/4p3/2P1P3/3PP2P/Pr2q3/2K5 w -...</td>\n",
       "      <td>f7f2 b2c2 c1b1 e2d1</td>\n",
       "      <td>1674</td>\n",
       "      <td>75</td>\n",
       "      <td>88</td>\n",
       "      <td>1080</td>\n",
       "      <td>endgame mate mateIn2 queensideAttack short</td>\n",
       "      <td>https://lichess.org/hZWTYIAT#68</td>\n",
       "      <td>NaN</td>\n",
       "    </tr>\n",
       "    <tr>\n",
       "      <th>3972876</th>\n",
       "      <td>zzzfr</td>\n",
       "      <td>8/1pp1k1p1/p7/2NPb3/4P3/8/PP3K2/8 w - - 2 37</td>\n",
       "      <td>b2b3 e5d4 f2f3 d4c5</td>\n",
       "      <td>634</td>\n",
       "      <td>100</td>\n",
       "      <td>100</td>\n",
       "      <td>35</td>\n",
       "      <td>endgame</td>\n",
       "      <td>https://lichess.org/zSz3UCjF#72</td>\n",
       "      <td>NaN</td>\n",
       "    </tr>\n",
       "    <tr>\n",
       "      <th>3972877</th>\n",
       "      <td>zzzhI</td>\n",
       "      <td>r3kb1r/ppp2ppp/2n5/3q3b/3P1B2/5N1P/PPP3P1/RN1Q...</td>\n",
       "      <td>c6d4 f1e1 e8d8 b1c3 d4f3 g2f3</td>\n",
       "      <td>2507</td>\n",
       "      <td>89</td>\n",
       "      <td>84</td>\n",
       "      <td>73</td>\n",
       "      <td>advantage long opening</td>\n",
       "      <td>https://lichess.org/N092KH4f/black#19</td>\n",
       "      <td>Kings_Gambit_Accepted Kings_Gambit_Accepted_Ab...</td>\n",
       "    </tr>\n",
       "    <tr>\n",
       "      <th>3972878</th>\n",
       "      <td>zzzhg</td>\n",
       "      <td>r2q1rk1/4bppp/p1n1pn2/1p1pN3/2pP2b1/1PP1P3/PBQ...</td>\n",
       "      <td>g4f5 e5c6 f5c2 c6d8 c2b1 d8c6</td>\n",
       "      <td>2116</td>\n",
       "      <td>80</td>\n",
       "      <td>90</td>\n",
       "      <td>525</td>\n",
       "      <td>crushing hangingPiece long middlegame</td>\n",
       "      <td>https://lichess.org/f4w3Ljxp/black#23</td>\n",
       "      <td>Queens_Pawn_Game Queens_Pawn_Game_Colle_System</td>\n",
       "    </tr>\n",
       "    <tr>\n",
       "      <th>3972879</th>\n",
       "      <td>zzzw8</td>\n",
       "      <td>8/p7/2Kn4/4k1p1/6Pp/2PB3P/8/8 b - - 3 42</td>\n",
       "      <td>d6e4 d3e4 e5e4 c3c4</td>\n",
       "      <td>1331</td>\n",
       "      <td>75</td>\n",
       "      <td>91</td>\n",
       "      <td>367</td>\n",
       "      <td>crushing defensiveMove endgame short</td>\n",
       "      <td>https://lichess.org/26wMVKVI/black#83</td>\n",
       "      <td>NaN</td>\n",
       "    </tr>\n",
       "  </tbody>\n",
       "</table>\n",
       "<p>3972880 rows × 10 columns</p>\n",
       "</div>"
      ],
      "text/plain": [
       "        PuzzleId                                                FEN  \\\n",
       "0          00008  r6k/pp2r2p/4Rp1Q/3p4/8/1N1P2R1/PqP2bPP/7K b - ...   \n",
       "1          0000D  5rk1/1p3ppp/pq3b2/8/8/1P1Q1N2/P4PPP/3R2K1 w - ...   \n",
       "2          0008Q       8/4R3/1p2P3/p4r2/P6p/1P3Pk1/4K3/8 w - - 1 64   \n",
       "3          0009B  r2qr1k1/b1p2ppp/pp4n1/P1P1p3/4P1n1/B2P2Pb/3NBP...   \n",
       "4          000Vc             8/8/4k1p1/2KpP2p/5PP1/8/8/8 w - - 0 53   \n",
       "...          ...                                                ...   \n",
       "3972875    zzzco  5Q2/pp3R1P/1kpp4/4p3/2P1P3/3PP2P/Pr2q3/2K5 w -...   \n",
       "3972876    zzzfr       8/1pp1k1p1/p7/2NPb3/4P3/8/PP3K2/8 w - - 2 37   \n",
       "3972877    zzzhI  r3kb1r/ppp2ppp/2n5/3q3b/3P1B2/5N1P/PPP3P1/RN1Q...   \n",
       "3972878    zzzhg  r2q1rk1/4bppp/p1n1pn2/1p1pN3/2pP2b1/1PP1P3/PBQ...   \n",
       "3972879    zzzw8           8/p7/2Kn4/4k1p1/6Pp/2PB3P/8/8 b - - 3 42   \n",
       "\n",
       "                                 Moves  Rating  RatingDeviation  Popularity  \\\n",
       "0        f2g3 e6e7 b2b1 b3c1 b1c1 h6c1    1920               75          94   \n",
       "1                  d3d6 f8d8 d6d8 f6d8    1483               74          96   \n",
       "2                  e7f7 f5e5 e2f1 e5e6    1419               75          90   \n",
       "3                  b6c5 e2g4 h3g4 d1g4    1112               74          87   \n",
       "4        g4h5 g6h5 f4f5 e6e5 f5f6 e5f6    1556               81          73   \n",
       "...                                ...     ...              ...         ...   \n",
       "3972875            f7f2 b2c2 c1b1 e2d1    1674               75          88   \n",
       "3972876            b2b3 e5d4 f2f3 d4c5     634              100         100   \n",
       "3972877  c6d4 f1e1 e8d8 b1c3 d4f3 g2f3    2507               89          84   \n",
       "3972878  g4f5 e5c6 f5c2 c6d8 c2b1 d8c6    2116               80          90   \n",
       "3972879            d6e4 d3e4 e5e4 c3c4    1331               75          91   \n",
       "\n",
       "         NbPlays                                      Themes  \\\n",
       "0           6225       crushing hangingPiece long middlegame   \n",
       "1          26507                     advantage endgame short   \n",
       "2            560         advantage endgame rookEndgame short   \n",
       "3            569                  advantage middlegame short   \n",
       "4             91           crushing endgame long pawnEndgame   \n",
       "...          ...                                         ...   \n",
       "3972875     1080  endgame mate mateIn2 queensideAttack short   \n",
       "3972876       35                                     endgame   \n",
       "3972877       73                      advantage long opening   \n",
       "3972878      525       crushing hangingPiece long middlegame   \n",
       "3972879      367        crushing defensiveMove endgame short   \n",
       "\n",
       "                                       GameUrl  \\\n",
       "0        https://lichess.org/787zsVup/black#47   \n",
       "1              https://lichess.org/F8M8OS71#52   \n",
       "2             https://lichess.org/MQSyb3KW#126   \n",
       "3        https://lichess.org/4MWQCxQ6/black#31   \n",
       "4             https://lichess.org/l6AejDMO#104   \n",
       "...                                        ...   \n",
       "3972875        https://lichess.org/hZWTYIAT#68   \n",
       "3972876        https://lichess.org/zSz3UCjF#72   \n",
       "3972877  https://lichess.org/N092KH4f/black#19   \n",
       "3972878  https://lichess.org/f4w3Ljxp/black#23   \n",
       "3972879  https://lichess.org/26wMVKVI/black#83   \n",
       "\n",
       "                                               OpeningTags  \n",
       "0                                                      NaN  \n",
       "1                                                      NaN  \n",
       "2                                                      NaN  \n",
       "3        Kings_Pawn_Game Kings_Pawn_Game_Leonardis_Vari...  \n",
       "4                                                      NaN  \n",
       "...                                                    ...  \n",
       "3972875                                                NaN  \n",
       "3972876                                                NaN  \n",
       "3972877  Kings_Gambit_Accepted Kings_Gambit_Accepted_Ab...  \n",
       "3972878     Queens_Pawn_Game Queens_Pawn_Game_Colle_System  \n",
       "3972879                                                NaN  \n",
       "\n",
       "[3972880 rows x 10 columns]"
      ]
     },
     "execution_count": 23,
     "metadata": {},
     "output_type": "execute_result"
    }
   ],
   "source": [
    "data"
   ]
  },
  {
   "cell_type": "code",
   "execution_count": 4,
   "metadata": {},
   "outputs": [
    {
     "data": {
      "text/html": [
       "<div>\n",
       "<style scoped>\n",
       "    .dataframe tbody tr th:only-of-type {\n",
       "        vertical-align: middle;\n",
       "    }\n",
       "\n",
       "    .dataframe tbody tr th {\n",
       "        vertical-align: top;\n",
       "    }\n",
       "\n",
       "    .dataframe thead th {\n",
       "        text-align: right;\n",
       "    }\n",
       "</style>\n",
       "<table border=\"1\" class=\"dataframe\">\n",
       "  <thead>\n",
       "    <tr style=\"text-align: right;\">\n",
       "      <th></th>\n",
       "      <th>PuzzleId</th>\n",
       "      <th>FEN</th>\n",
       "      <th>Moves</th>\n",
       "      <th>Rating</th>\n",
       "      <th>RatingDeviation</th>\n",
       "      <th>Popularity</th>\n",
       "      <th>NbPlays</th>\n",
       "      <th>Themes</th>\n",
       "      <th>GameUrl</th>\n",
       "      <th>OpeningTags</th>\n",
       "    </tr>\n",
       "  </thead>\n",
       "  <tbody>\n",
       "    <tr>\n",
       "      <th>5</th>\n",
       "      <td>000Zo</td>\n",
       "      <td>4r3/1k6/pp3r2/1b2P2p/3R1p2/P1R2P2/1P4PP/6K1 w ...</td>\n",
       "      <td>e5f6 e8e1 g1f2 e1f1</td>\n",
       "      <td>1311</td>\n",
       "      <td>75</td>\n",
       "      <td>93</td>\n",
       "      <td>569</td>\n",
       "      <td>endgame mate mateIn2 short</td>\n",
       "      <td>https://lichess.org/n8Ff742v#68</td>\n",
       "      <td>NaN</td>\n",
       "    </tr>\n",
       "    <tr>\n",
       "      <th>7</th>\n",
       "      <td>000hf</td>\n",
       "      <td>r1bqk2r/pp1nbNp1/2p1p2p/8/2BP4/1PN3P1/P3QP1P/3...</td>\n",
       "      <td>e8f7 e2e6 f7f8 e6f7</td>\n",
       "      <td>1590</td>\n",
       "      <td>75</td>\n",
       "      <td>89</td>\n",
       "      <td>473</td>\n",
       "      <td>mate mateIn2 middlegame short</td>\n",
       "      <td>https://lichess.org/71ygsFeE/black#37</td>\n",
       "      <td>Horwitz_Defense Horwitz_Defense_Other_variations</td>\n",
       "    </tr>\n",
       "    <tr>\n",
       "      <th>15</th>\n",
       "      <td>001Wz</td>\n",
       "      <td>4r1k1/5ppp/r1p5/p1n1RP2/8/2P2N1P/2P3P1/3R2K1 b...</td>\n",
       "      <td>e8e5 d1d8 e5e8 d8e8</td>\n",
       "      <td>1127</td>\n",
       "      <td>82</td>\n",
       "      <td>87</td>\n",
       "      <td>69</td>\n",
       "      <td>backRankMate endgame mate mateIn2 short</td>\n",
       "      <td>https://lichess.org/84RH3LaP/black#41</td>\n",
       "      <td>NaN</td>\n",
       "    </tr>\n",
       "    <tr>\n",
       "      <th>20</th>\n",
       "      <td>001om</td>\n",
       "      <td>5r1k/pp4pp/5p2/1BbQp1r1/6K1/7P/1PP3P1/3R3R w -...</td>\n",
       "      <td>g4h4 c5f2 g2g3 f2g3</td>\n",
       "      <td>1018</td>\n",
       "      <td>80</td>\n",
       "      <td>89</td>\n",
       "      <td>219</td>\n",
       "      <td>mate mateIn2 middlegame short</td>\n",
       "      <td>https://lichess.org/VWOIWtIh#50</td>\n",
       "      <td>NaN</td>\n",
       "    </tr>\n",
       "    <tr>\n",
       "      <th>23</th>\n",
       "      <td>001w5</td>\n",
       "      <td>1rb2rk1/q5P1/4p2p/3p3p/3P1P2/2P5/2QK3P/3R2R1 b...</td>\n",
       "      <td>f8f7 c2h7 g8h7 g7g8q</td>\n",
       "      <td>1127</td>\n",
       "      <td>81</td>\n",
       "      <td>92</td>\n",
       "      <td>195</td>\n",
       "      <td>advancedPawn attraction mate mateIn2 middlegam...</td>\n",
       "      <td>https://lichess.org/0e1vxAEn/black#57</td>\n",
       "      <td>NaN</td>\n",
       "    </tr>\n",
       "    <tr>\n",
       "      <th>...</th>\n",
       "      <td>...</td>\n",
       "      <td>...</td>\n",
       "      <td>...</td>\n",
       "      <td>...</td>\n",
       "      <td>...</td>\n",
       "      <td>...</td>\n",
       "      <td>...</td>\n",
       "      <td>...</td>\n",
       "      <td>...</td>\n",
       "      <td>...</td>\n",
       "    </tr>\n",
       "    <tr>\n",
       "      <th>3972840</th>\n",
       "      <td>zzxyM</td>\n",
       "      <td>8/5Nkp/3p1qp1/1P1B4/4p3/1Q5P/5PPK/2r5 w - - 1 35</td>\n",
       "      <td>f2f3 f6f4 g2g3 f4d2</td>\n",
       "      <td>1488</td>\n",
       "      <td>75</td>\n",
       "      <td>94</td>\n",
       "      <td>1453</td>\n",
       "      <td>endgame mate mateIn2 short</td>\n",
       "      <td>https://lichess.org/n2eVgPND#68</td>\n",
       "      <td>NaN</td>\n",
       "    </tr>\n",
       "    <tr>\n",
       "      <th>3972847</th>\n",
       "      <td>zzyU9</td>\n",
       "      <td>7k/7p/p3rNpP/1p2ppP1/1r1p4/3P1P2/8/2R3K1 b - -...</td>\n",
       "      <td>e6f6 c1c8 f6f8 c8f8</td>\n",
       "      <td>563</td>\n",
       "      <td>84</td>\n",
       "      <td>85</td>\n",
       "      <td>238</td>\n",
       "      <td>endgame mate mateIn2 rookEndgame short</td>\n",
       "      <td>https://lichess.org/sFWYlJNg/black#79</td>\n",
       "      <td>NaN</td>\n",
       "    </tr>\n",
       "    <tr>\n",
       "      <th>3972870</th>\n",
       "      <td>zzzRN</td>\n",
       "      <td>4r2k/1NR2Q1p/4P1n1/pp1p4/3P4/4q3/PP4PP/6K1 w -...</td>\n",
       "      <td>g1h1 e3e1 f7f1 e1f1</td>\n",
       "      <td>830</td>\n",
       "      <td>108</td>\n",
       "      <td>67</td>\n",
       "      <td>31</td>\n",
       "      <td>endgame mate mateIn2 short</td>\n",
       "      <td>https://lichess.org/8OHS8UmY#60</td>\n",
       "      <td>NaN</td>\n",
       "    </tr>\n",
       "    <tr>\n",
       "      <th>3972874</th>\n",
       "      <td>zzzc4</td>\n",
       "      <td>3r3k/p5pp/8/5R2/1BQ1p3/P3q3/Bb4PP/6K1 w - - 0 28</td>\n",
       "      <td>g1f1 d8d1 b4e1 e3e1</td>\n",
       "      <td>1025</td>\n",
       "      <td>76</td>\n",
       "      <td>89</td>\n",
       "      <td>370</td>\n",
       "      <td>mate mateIn2 middlegame short</td>\n",
       "      <td>https://lichess.org/jRTmvh6y#54</td>\n",
       "      <td>NaN</td>\n",
       "    </tr>\n",
       "    <tr>\n",
       "      <th>3972875</th>\n",
       "      <td>zzzco</td>\n",
       "      <td>5Q2/pp3R1P/1kpp4/4p3/2P1P3/3PP2P/Pr2q3/2K5 w -...</td>\n",
       "      <td>f7f2 b2c2 c1b1 e2d1</td>\n",
       "      <td>1674</td>\n",
       "      <td>75</td>\n",
       "      <td>88</td>\n",
       "      <td>1080</td>\n",
       "      <td>endgame mate mateIn2 queensideAttack short</td>\n",
       "      <td>https://lichess.org/hZWTYIAT#68</td>\n",
       "      <td>NaN</td>\n",
       "    </tr>\n",
       "  </tbody>\n",
       "</table>\n",
       "<p>462815 rows × 10 columns</p>\n",
       "</div>"
      ],
      "text/plain": [
       "        PuzzleId                                                FEN  \\\n",
       "5          000Zo  4r3/1k6/pp3r2/1b2P2p/3R1p2/P1R2P2/1P4PP/6K1 w ...   \n",
       "7          000hf  r1bqk2r/pp1nbNp1/2p1p2p/8/2BP4/1PN3P1/P3QP1P/3...   \n",
       "15         001Wz  4r1k1/5ppp/r1p5/p1n1RP2/8/2P2N1P/2P3P1/3R2K1 b...   \n",
       "20         001om  5r1k/pp4pp/5p2/1BbQp1r1/6K1/7P/1PP3P1/3R3R w -...   \n",
       "23         001w5  1rb2rk1/q5P1/4p2p/3p3p/3P1P2/2P5/2QK3P/3R2R1 b...   \n",
       "...          ...                                                ...   \n",
       "3972840    zzxyM   8/5Nkp/3p1qp1/1P1B4/4p3/1Q5P/5PPK/2r5 w - - 1 35   \n",
       "3972847    zzyU9  7k/7p/p3rNpP/1p2ppP1/1r1p4/3P1P2/8/2R3K1 b - -...   \n",
       "3972870    zzzRN  4r2k/1NR2Q1p/4P1n1/pp1p4/3P4/4q3/PP4PP/6K1 w -...   \n",
       "3972874    zzzc4   3r3k/p5pp/8/5R2/1BQ1p3/P3q3/Bb4PP/6K1 w - - 0 28   \n",
       "3972875    zzzco  5Q2/pp3R1P/1kpp4/4p3/2P1P3/3PP2P/Pr2q3/2K5 w -...   \n",
       "\n",
       "                        Moves  Rating  RatingDeviation  Popularity  NbPlays  \\\n",
       "5         e5f6 e8e1 g1f2 e1f1    1311               75          93      569   \n",
       "7         e8f7 e2e6 f7f8 e6f7    1590               75          89      473   \n",
       "15        e8e5 d1d8 e5e8 d8e8    1127               82          87       69   \n",
       "20        g4h4 c5f2 g2g3 f2g3    1018               80          89      219   \n",
       "23       f8f7 c2h7 g8h7 g7g8q    1127               81          92      195   \n",
       "...                       ...     ...              ...         ...      ...   \n",
       "3972840   f2f3 f6f4 g2g3 f4d2    1488               75          94     1453   \n",
       "3972847   e6f6 c1c8 f6f8 c8f8     563               84          85      238   \n",
       "3972870   g1h1 e3e1 f7f1 e1f1     830              108          67       31   \n",
       "3972874   g1f1 d8d1 b4e1 e3e1    1025               76          89      370   \n",
       "3972875   f7f2 b2c2 c1b1 e2d1    1674               75          88     1080   \n",
       "\n",
       "                                                    Themes  \\\n",
       "5                               endgame mate mateIn2 short   \n",
       "7                            mate mateIn2 middlegame short   \n",
       "15                 backRankMate endgame mate mateIn2 short   \n",
       "20                           mate mateIn2 middlegame short   \n",
       "23       advancedPawn attraction mate mateIn2 middlegam...   \n",
       "...                                                    ...   \n",
       "3972840                         endgame mate mateIn2 short   \n",
       "3972847             endgame mate mateIn2 rookEndgame short   \n",
       "3972870                         endgame mate mateIn2 short   \n",
       "3972874                      mate mateIn2 middlegame short   \n",
       "3972875         endgame mate mateIn2 queensideAttack short   \n",
       "\n",
       "                                       GameUrl  \\\n",
       "5              https://lichess.org/n8Ff742v#68   \n",
       "7        https://lichess.org/71ygsFeE/black#37   \n",
       "15       https://lichess.org/84RH3LaP/black#41   \n",
       "20             https://lichess.org/VWOIWtIh#50   \n",
       "23       https://lichess.org/0e1vxAEn/black#57   \n",
       "...                                        ...   \n",
       "3972840        https://lichess.org/n2eVgPND#68   \n",
       "3972847  https://lichess.org/sFWYlJNg/black#79   \n",
       "3972870        https://lichess.org/8OHS8UmY#60   \n",
       "3972874        https://lichess.org/jRTmvh6y#54   \n",
       "3972875        https://lichess.org/hZWTYIAT#68   \n",
       "\n",
       "                                              OpeningTags  \n",
       "5                                                     NaN  \n",
       "7        Horwitz_Defense Horwitz_Defense_Other_variations  \n",
       "15                                                    NaN  \n",
       "20                                                    NaN  \n",
       "23                                                    NaN  \n",
       "...                                                   ...  \n",
       "3972840                                               NaN  \n",
       "3972847                                               NaN  \n",
       "3972870                                               NaN  \n",
       "3972874                                               NaN  \n",
       "3972875                                               NaN  \n",
       "\n",
       "[462815 rows x 10 columns]"
      ]
     },
     "execution_count": 4,
     "metadata": {},
     "output_type": "execute_result"
    }
   ],
   "source": [
    "mate_in_2"
   ]
  },
  {
   "cell_type": "code",
   "execution_count": 5,
   "metadata": {},
   "outputs": [],
   "source": [
    "mate_in_3 = data.loc[data['Themes'].str.contains('mateIn3')]"
   ]
  },
  {
   "cell_type": "code",
   "execution_count": 47,
   "metadata": {},
   "outputs": [
    {
     "data": {
      "text/html": [
       "<div>\n",
       "<style scoped>\n",
       "    .dataframe tbody tr th:only-of-type {\n",
       "        vertical-align: middle;\n",
       "    }\n",
       "\n",
       "    .dataframe tbody tr th {\n",
       "        vertical-align: top;\n",
       "    }\n",
       "\n",
       "    .dataframe thead th {\n",
       "        text-align: right;\n",
       "    }\n",
       "</style>\n",
       "<table border=\"1\" class=\"dataframe\">\n",
       "  <thead>\n",
       "    <tr style=\"text-align: right;\">\n",
       "      <th></th>\n",
       "      <th>PuzzleId</th>\n",
       "      <th>FEN</th>\n",
       "      <th>Moves</th>\n",
       "      <th>Rating</th>\n",
       "      <th>RatingDeviation</th>\n",
       "      <th>Popularity</th>\n",
       "      <th>NbPlays</th>\n",
       "      <th>Themes</th>\n",
       "      <th>GameUrl</th>\n",
       "      <th>OpeningTags</th>\n",
       "    </tr>\n",
       "  </thead>\n",
       "  <tbody>\n",
       "    <tr>\n",
       "      <th>5</th>\n",
       "      <td>000Zo</td>\n",
       "      <td>4r3/1k6/pp3r2/1b2P2p/3R1p2/P1R2P2/1P4PP/6K1 w ...</td>\n",
       "      <td>e5f6 e8e1 g1f2 e1f1</td>\n",
       "      <td>1311</td>\n",
       "      <td>75</td>\n",
       "      <td>93</td>\n",
       "      <td>569</td>\n",
       "      <td>endgame mate mateIn2 short</td>\n",
       "      <td>https://lichess.org/n8Ff742v#68</td>\n",
       "      <td>NaN</td>\n",
       "    </tr>\n",
       "    <tr>\n",
       "      <th>7</th>\n",
       "      <td>000hf</td>\n",
       "      <td>r1bqk2r/pp1nbNp1/2p1p2p/8/2BP4/1PN3P1/P3QP1P/3...</td>\n",
       "      <td>e8f7 e2e6 f7f8 e6f7</td>\n",
       "      <td>1590</td>\n",
       "      <td>75</td>\n",
       "      <td>89</td>\n",
       "      <td>473</td>\n",
       "      <td>mate mateIn2 middlegame short</td>\n",
       "      <td>https://lichess.org/71ygsFeE/black#37</td>\n",
       "      <td>Horwitz_Defense Horwitz_Defense_Other_variations</td>\n",
       "    </tr>\n",
       "    <tr>\n",
       "      <th>15</th>\n",
       "      <td>001Wz</td>\n",
       "      <td>4r1k1/5ppp/r1p5/p1n1RP2/8/2P2N1P/2P3P1/3R2K1 b...</td>\n",
       "      <td>e8e5 d1d8 e5e8 d8e8</td>\n",
       "      <td>1127</td>\n",
       "      <td>82</td>\n",
       "      <td>87</td>\n",
       "      <td>69</td>\n",
       "      <td>backRankMate endgame mate mateIn2 short</td>\n",
       "      <td>https://lichess.org/84RH3LaP/black#41</td>\n",
       "      <td>NaN</td>\n",
       "    </tr>\n",
       "    <tr>\n",
       "      <th>20</th>\n",
       "      <td>001om</td>\n",
       "      <td>5r1k/pp4pp/5p2/1BbQp1r1/6K1/7P/1PP3P1/3R3R w -...</td>\n",
       "      <td>g4h4 c5f2 g2g3 f2g3</td>\n",
       "      <td>1018</td>\n",
       "      <td>80</td>\n",
       "      <td>89</td>\n",
       "      <td>219</td>\n",
       "      <td>mate mateIn2 middlegame short</td>\n",
       "      <td>https://lichess.org/VWOIWtIh#50</td>\n",
       "      <td>NaN</td>\n",
       "    </tr>\n",
       "    <tr>\n",
       "      <th>23</th>\n",
       "      <td>001w5</td>\n",
       "      <td>1rb2rk1/q5P1/4p2p/3p3p/3P1P2/2P5/2QK3P/3R2R1 b...</td>\n",
       "      <td>f8f7 c2h7 g8h7 g7g8q</td>\n",
       "      <td>1127</td>\n",
       "      <td>81</td>\n",
       "      <td>92</td>\n",
       "      <td>195</td>\n",
       "      <td>advancedPawn attraction mate mateIn2 middlegam...</td>\n",
       "      <td>https://lichess.org/0e1vxAEn/black#57</td>\n",
       "      <td>NaN</td>\n",
       "    </tr>\n",
       "    <tr>\n",
       "      <th>...</th>\n",
       "      <td>...</td>\n",
       "      <td>...</td>\n",
       "      <td>...</td>\n",
       "      <td>...</td>\n",
       "      <td>...</td>\n",
       "      <td>...</td>\n",
       "      <td>...</td>\n",
       "      <td>...</td>\n",
       "      <td>...</td>\n",
       "      <td>...</td>\n",
       "    </tr>\n",
       "    <tr>\n",
       "      <th>3972840</th>\n",
       "      <td>zzxyM</td>\n",
       "      <td>8/5Nkp/3p1qp1/1P1B4/4p3/1Q5P/5PPK/2r5 w - - 1 35</td>\n",
       "      <td>f2f3 f6f4 g2g3 f4d2</td>\n",
       "      <td>1488</td>\n",
       "      <td>75</td>\n",
       "      <td>94</td>\n",
       "      <td>1453</td>\n",
       "      <td>endgame mate mateIn2 short</td>\n",
       "      <td>https://lichess.org/n2eVgPND#68</td>\n",
       "      <td>NaN</td>\n",
       "    </tr>\n",
       "    <tr>\n",
       "      <th>3972847</th>\n",
       "      <td>zzyU9</td>\n",
       "      <td>7k/7p/p3rNpP/1p2ppP1/1r1p4/3P1P2/8/2R3K1 b - -...</td>\n",
       "      <td>e6f6 c1c8 f6f8 c8f8</td>\n",
       "      <td>563</td>\n",
       "      <td>84</td>\n",
       "      <td>85</td>\n",
       "      <td>238</td>\n",
       "      <td>endgame mate mateIn2 rookEndgame short</td>\n",
       "      <td>https://lichess.org/sFWYlJNg/black#79</td>\n",
       "      <td>NaN</td>\n",
       "    </tr>\n",
       "    <tr>\n",
       "      <th>3972870</th>\n",
       "      <td>zzzRN</td>\n",
       "      <td>4r2k/1NR2Q1p/4P1n1/pp1p4/3P4/4q3/PP4PP/6K1 w -...</td>\n",
       "      <td>g1h1 e3e1 f7f1 e1f1</td>\n",
       "      <td>830</td>\n",
       "      <td>108</td>\n",
       "      <td>67</td>\n",
       "      <td>31</td>\n",
       "      <td>endgame mate mateIn2 short</td>\n",
       "      <td>https://lichess.org/8OHS8UmY#60</td>\n",
       "      <td>NaN</td>\n",
       "    </tr>\n",
       "    <tr>\n",
       "      <th>3972874</th>\n",
       "      <td>zzzc4</td>\n",
       "      <td>3r3k/p5pp/8/5R2/1BQ1p3/P3q3/Bb4PP/6K1 w - - 0 28</td>\n",
       "      <td>g1f1 d8d1 b4e1 e3e1</td>\n",
       "      <td>1025</td>\n",
       "      <td>76</td>\n",
       "      <td>89</td>\n",
       "      <td>370</td>\n",
       "      <td>mate mateIn2 middlegame short</td>\n",
       "      <td>https://lichess.org/jRTmvh6y#54</td>\n",
       "      <td>NaN</td>\n",
       "    </tr>\n",
       "    <tr>\n",
       "      <th>3972875</th>\n",
       "      <td>zzzco</td>\n",
       "      <td>5Q2/pp3R1P/1kpp4/4p3/2P1P3/3PP2P/Pr2q3/2K5 w -...</td>\n",
       "      <td>f7f2 b2c2 c1b1 e2d1</td>\n",
       "      <td>1674</td>\n",
       "      <td>75</td>\n",
       "      <td>88</td>\n",
       "      <td>1080</td>\n",
       "      <td>endgame mate mateIn2 queensideAttack short</td>\n",
       "      <td>https://lichess.org/hZWTYIAT#68</td>\n",
       "      <td>NaN</td>\n",
       "    </tr>\n",
       "  </tbody>\n",
       "</table>\n",
       "<p>462815 rows × 10 columns</p>\n",
       "</div>"
      ],
      "text/plain": [
       "        PuzzleId                                                FEN  \\\n",
       "5          000Zo  4r3/1k6/pp3r2/1b2P2p/3R1p2/P1R2P2/1P4PP/6K1 w ...   \n",
       "7          000hf  r1bqk2r/pp1nbNp1/2p1p2p/8/2BP4/1PN3P1/P3QP1P/3...   \n",
       "15         001Wz  4r1k1/5ppp/r1p5/p1n1RP2/8/2P2N1P/2P3P1/3R2K1 b...   \n",
       "20         001om  5r1k/pp4pp/5p2/1BbQp1r1/6K1/7P/1PP3P1/3R3R w -...   \n",
       "23         001w5  1rb2rk1/q5P1/4p2p/3p3p/3P1P2/2P5/2QK3P/3R2R1 b...   \n",
       "...          ...                                                ...   \n",
       "3972840    zzxyM   8/5Nkp/3p1qp1/1P1B4/4p3/1Q5P/5PPK/2r5 w - - 1 35   \n",
       "3972847    zzyU9  7k/7p/p3rNpP/1p2ppP1/1r1p4/3P1P2/8/2R3K1 b - -...   \n",
       "3972870    zzzRN  4r2k/1NR2Q1p/4P1n1/pp1p4/3P4/4q3/PP4PP/6K1 w -...   \n",
       "3972874    zzzc4   3r3k/p5pp/8/5R2/1BQ1p3/P3q3/Bb4PP/6K1 w - - 0 28   \n",
       "3972875    zzzco  5Q2/pp3R1P/1kpp4/4p3/2P1P3/3PP2P/Pr2q3/2K5 w -...   \n",
       "\n",
       "                        Moves  Rating  RatingDeviation  Popularity  NbPlays  \\\n",
       "5         e5f6 e8e1 g1f2 e1f1    1311               75          93      569   \n",
       "7         e8f7 e2e6 f7f8 e6f7    1590               75          89      473   \n",
       "15        e8e5 d1d8 e5e8 d8e8    1127               82          87       69   \n",
       "20        g4h4 c5f2 g2g3 f2g3    1018               80          89      219   \n",
       "23       f8f7 c2h7 g8h7 g7g8q    1127               81          92      195   \n",
       "...                       ...     ...              ...         ...      ...   \n",
       "3972840   f2f3 f6f4 g2g3 f4d2    1488               75          94     1453   \n",
       "3972847   e6f6 c1c8 f6f8 c8f8     563               84          85      238   \n",
       "3972870   g1h1 e3e1 f7f1 e1f1     830              108          67       31   \n",
       "3972874   g1f1 d8d1 b4e1 e3e1    1025               76          89      370   \n",
       "3972875   f7f2 b2c2 c1b1 e2d1    1674               75          88     1080   \n",
       "\n",
       "                                                    Themes  \\\n",
       "5                               endgame mate mateIn2 short   \n",
       "7                            mate mateIn2 middlegame short   \n",
       "15                 backRankMate endgame mate mateIn2 short   \n",
       "20                           mate mateIn2 middlegame short   \n",
       "23       advancedPawn attraction mate mateIn2 middlegam...   \n",
       "...                                                    ...   \n",
       "3972840                         endgame mate mateIn2 short   \n",
       "3972847             endgame mate mateIn2 rookEndgame short   \n",
       "3972870                         endgame mate mateIn2 short   \n",
       "3972874                      mate mateIn2 middlegame short   \n",
       "3972875         endgame mate mateIn2 queensideAttack short   \n",
       "\n",
       "                                       GameUrl  \\\n",
       "5              https://lichess.org/n8Ff742v#68   \n",
       "7        https://lichess.org/71ygsFeE/black#37   \n",
       "15       https://lichess.org/84RH3LaP/black#41   \n",
       "20             https://lichess.org/VWOIWtIh#50   \n",
       "23       https://lichess.org/0e1vxAEn/black#57   \n",
       "...                                        ...   \n",
       "3972840        https://lichess.org/n2eVgPND#68   \n",
       "3972847  https://lichess.org/sFWYlJNg/black#79   \n",
       "3972870        https://lichess.org/8OHS8UmY#60   \n",
       "3972874        https://lichess.org/jRTmvh6y#54   \n",
       "3972875        https://lichess.org/hZWTYIAT#68   \n",
       "\n",
       "                                              OpeningTags  \n",
       "5                                                     NaN  \n",
       "7        Horwitz_Defense Horwitz_Defense_Other_variations  \n",
       "15                                                    NaN  \n",
       "20                                                    NaN  \n",
       "23                                                    NaN  \n",
       "...                                                   ...  \n",
       "3972840                                               NaN  \n",
       "3972847                                               NaN  \n",
       "3972870                                               NaN  \n",
       "3972874                                               NaN  \n",
       "3972875                                               NaN  \n",
       "\n",
       "[462815 rows x 10 columns]"
      ]
     },
     "execution_count": 47,
     "metadata": {},
     "output_type": "execute_result"
    }
   ],
   "source": [
    "mate_in_2"
   ]
  },
  {
   "cell_type": "code",
   "execution_count": null,
   "metadata": {},
   "outputs": [
    {
     "name": "stderr",
     "output_type": "stream",
     "text": [
      "2it [00:00,  2.53it/s]"
     ]
    },
    {
     "name": "stdout",
     "output_type": "stream",
     "text": [
      "4r3/1k6/pp3r2/1b2P2p/3R1p2/P1R2P2/1P4PP/6K1 w - - 0 35 b4 Rh8 exf6 \n",
      "r1bqk2r/pp1nbNp1/2p1p2p/8/2BP4/1PN3P1/P3QP1P/3R1RK1 b kq - 0 19 a5 Nd6+ Kf8 \n"
     ]
    },
    {
     "name": "stderr",
     "output_type": "stream",
     "text": [
      "\r",
      "5it [00:01,  6.15it/s]"
     ]
    },
    {
     "name": "stdout",
     "output_type": "stream",
     "text": [
      "4r1k1/5ppp/r1p5/p1n1RP2/8/2P2N1P/2P3P1/3R2K1 b - - 0 21 g5 Re7 h5 \n",
      "5r1k/pp4pp/5p2/1BbQp1r1/6K1/7P/1PP3P1/3R3R w - - 2 26 Kf3 Rf5+ Ke2 \n",
      "1rb2rk1/q5P1/4p2p/3p3p/3P1P2/2P5/2QK3P/3R2R1 b - - 0 29 h4 Ke3 h3 \n"
     ]
    },
    {
     "name": "stderr",
     "output_type": "stream",
     "text": [
      "7it [00:01,  4.69it/s]"
     ]
    },
    {
     "name": "stdout",
     "output_type": "stream",
     "text": [
      "2r5/pR5p/5p1k/4p3/4r3/B4nPP/PP3P2/1K2R3 w - - 0 27 b4 Rh8 Rxe4 \n",
      "3r2k1/4nppp/pq1p1b2/1p2P3/2r2P2/2P1NR2/PP1Q2BP/3R2K1 b - - 0 24 g5 Rh3 h5 \n"
     ]
    },
    {
     "name": "stderr",
     "output_type": "stream",
     "text": [
      "\r",
      "9it [00:01,  6.81it/s]"
     ]
    },
    {
     "name": "stdout",
     "output_type": "stream",
     "text": [
      "1r4k1/p4ppp/2Q5/3pq3/8/P6P/2PR1PP1/Rr4K1 w - - 1 26 Rxb1 Rxb1+ Rd1 \n",
      "r6k/2q3pp/8/2p1n3/R1Qp4/7P/2PB1PP1/6K1 b - - 0 32 Nf3+ Kh1 g5 \n",
      "3rk2r/2qn1pp1/p1Q1R3/3n3p/8/8/PP4PP/5R1K b k - 0 23 Ne7 a4 Rg8 \n",
      "6k1/pp3pp1/2p1q1Pp/3b4/8/6Q1/PB3Pp1/3RrNK1 b - - 2 27 a5 Qb8+ Qc8 \n"
     ]
    },
    {
     "name": "stderr",
     "output_type": "stream",
     "text": [
      "\r",
      "12it [00:02,  6.88it/s]"
     ]
    },
    {
     "name": "stdout",
     "output_type": "stream",
     "text": [
      "1r6/5k2/2p1pNp1/p5Pp/1pQ1P2P/2P4R/KP3P2/3q4 w - - 4 31 f4 Rh8 cxb4 \n"
     ]
    },
    {
     "name": "stderr",
     "output_type": "stream",
     "text": [
      "15it [00:02,  6.94it/s]"
     ]
    },
    {
     "name": "stdout",
     "output_type": "stream",
     "text": [
      "4r1k1/p4p1p/1p6/6q1/3P2n1/P4Q2/1P1B2P1/7K w - - 0 34 b4 Kh8 Bxg5 \n",
      "2kr3r/p1p1bpp1/2p2n1p/8/8/1P6/P1P1RPPP/RNB3K1 w - - 1 16 a4 Rhg8 Rxe7 \n",
      "r1bq3Q/1np2kp1/p5B1/1p1Pp3/1Pn2BP1/2b2P2/P3K3/R4N2 b - - 5 35 Kf6 Qg8 c5 \n"
     ]
    },
    {
     "name": "stderr",
     "output_type": "stream",
     "text": [
      "\r",
      "17it [00:02,  8.02it/s]"
     ]
    },
    {
     "name": "stdout",
     "output_type": "stream",
     "text": [
      "1k1r4/ppp3p1/8/1P5p/8/P3n2P/2P1r1P1/B3NRK1 b - - 4 31 a5 Kh2 c5 \n",
      "4r1k1/2R3pp/2p4q/1p1p4/3P4/P7/1PP2R2/1K1N4 b - - 3 32 g5 Rc8 b4 \n",
      "2r3k1/2qR1ppp/p7/2p2Q2/P7/7P/5PP1/6K1 b - - 3 26 g5 Rd8+ Kg7 \n",
      "3rk3/5p1r/p2Np1p1/3bP3/P2n4/8/1P3RPP/5RK1 b - - 4 25 Kd7 Ne8 f5 \n",
      "8/1p4p1/pb2ppkp/3n4/3P4/P3BN1P/1P2KPP1/8 b - - 0 26 a5 Ng5 a4 \n"
     ]
    },
    {
     "name": "stderr",
     "output_type": "stream",
     "text": [
      "22it [00:03,  6.48it/s]"
     ]
    },
    {
     "name": "stdout",
     "output_type": "stream",
     "text": [
      "1R6/6pk/2p4p/3bP2r/5B1P/2P2qP1/P4P1Q/4R1K1 w - - 2 40 Qh1 Qxc3 Qxd5 \n",
      "5Q2/pbp3np/1p1pB1pk/1P6/P3q2P/6K1/8/8 b - - 1 32 Qxh4+ Kxh4 a5 \n",
      "3br2r/5k1p/4p1pQ/P5P1/1B5P/P6q/5R2/6K1 b - - 1 35 Qf3 Qf8+ Rexf8 \n"
     ]
    },
    {
     "name": "stderr",
     "output_type": "stream",
     "text": [
      "\r",
      "24it [00:04,  6.62it/s]"
     ]
    },
    {
     "name": "stdout",
     "output_type": "stream",
     "text": [
      "3r4/p1p2ppp/4k3/6Q1/5P2/4P3/Prqn2PP/3R1RK1 w - - 3 22 f5+ Kd7 Qxd8+ \n"
     ]
    },
    {
     "name": "stderr",
     "output_type": "stream",
     "text": [
      "27it [00:04,  7.79it/s]"
     ]
    },
    {
     "name": "stdout",
     "output_type": "stream",
     "text": [
      "3r2k1/1q3ppp/p2rp3/Qp1B4/7P/P4P2/1PP3P1/1K1R3R b - - 0 21 f5 Bc6 g5 \n",
      "8/2pR2kp/pb4p1/8/5p1P/B6K/P1r5/6r1 b - - 3 39 Kf6 Rd8 c5 \n",
      "4r1k1/B7/2p2pK1/3n3p/8/1Q3PP1/P6r/8 b - - 0 31 h4 Bb8 h3 \n",
      "Q5k1/5q2/p2p4/b1p1pr2/P7/6P1/4KP1R/8 b - - 3 38 Bd8 Qc8 c4 \n"
     ]
    },
    {
     "name": "stderr",
     "output_type": "stream",
     "text": [
      "30it [00:04,  8.25it/s]"
     ]
    },
    {
     "name": "stdout",
     "output_type": "stream",
     "text": [
      "1r5r/5pk1/4p3/2Np2PP/p1nP4/n1P5/P3B3/K1R4R w - - 2 34 g6 Rhg8 Bxc4 \n",
      "3k2q1/pb1p3p/1p1P4/2p5/2P2Q1K/8/P7/5R2 b - - 2 36 Qg4+ Qxg4 Ke8 \n"
     ]
    },
    {
     "name": "stderr",
     "output_type": "stream",
     "text": [
      "33it [00:05,  7.26it/s]"
     ]
    },
    {
     "name": "stdout",
     "output_type": "stream",
     "text": [
      "6k1/4qpp1/3p3p/8/2BP4/1Pn5/2Qn1PPP/6K1 w - - 0 29 Qxd2 g5 Bxf7+ \n",
      "5bk1/2R4p/6p1/8/2b1NP1P/4P1K1/r7/8 b - - 2 45 h5 Rc8 g5 \n",
      "3R1rk1/pp3ppp/2p3b1/2n3P1/2B2q1P/5N2/PPP1QP2/4R1K1 b - - 0 23 a5 Rxf8+ Kxf8 \n",
      "4r1k1/pp1qn3/2p4R/6p1/3P1rR1/3Q2P1/PP3P1P/6K1 b - - 0 31 a5 Rh8+ Kf7 \n",
      "2r2Qk1/p2q2p1/1p2p1Np/3p3P/3Pb1P1/2P5/PP3R2/6K1 b - - 4 33 Rxf8 Nh8 a5 \n"
     ]
    },
    {
     "name": "stderr",
     "output_type": "stream",
     "text": [
      "\r",
      "36it [00:05,  8.28it/s]"
     ]
    },
    {
     "name": "stdout",
     "output_type": "stream",
     "text": [
      "1q3r2/p5k1/1p2pbpp/2p2p2/2P1N3/2P2PQP/PP3P2/6RK b - - 2 29 a5 Nd6 a4 \n",
      "5r1k/pb3Qpp/2p5/5p2/3P4/8/PPP2PPP/4R1K1 b - - 0 21 Rg8 Qxg7+ Rxg7 \n"
     ]
    },
    {
     "name": "stderr",
     "output_type": "stream",
     "text": [
      "\r",
      "38it [00:05,  8.62it/s]"
     ]
    },
    {
     "name": "stdout",
     "output_type": "stream",
     "text": [
      "2r5/1p2k1pp/4p3/1N3p2/5P2/P2nP3/1R4PP/6K1 w - - 0 24 g4 Rc1+ Kg2 \n",
      "2k2r2/pp5p/3p4/3Nb1p1/8/1P1P3P/P1Pn4/1K1R1R2 w - - 3 28 Rxd2 Rxf1+ Rd1 \n",
      "R7/1p3kp1/2pK3p/3p1PP1/1r1B2nP/8/1P6/8 b - - 2 39 b5 Rf8+ Kxf8 \n"
     ]
    },
    {
     "name": "stderr",
     "output_type": "stream",
     "text": [
      "\r",
      "41it [00:06,  9.63it/s]"
     ]
    },
    {
     "name": "stdout",
     "output_type": "stream",
     "text": [
      "5rk1/5ppp/1R6/3Qp3/2B1P3/2q3P1/3R1PKP/1r6 b - - 0 27 Qxg3+ fxg3 Kh8 \n",
      "kr6/1pR4p/p4R2/n2r4/P3p3/4B3/6PP/6K1 b - - 0 38 b5 Rc8 h5 \n"
     ]
    },
    {
     "name": "stderr",
     "output_type": "stream",
     "text": [
      "\r",
      "43it [00:06,  6.26it/s]"
     ]
    },
    {
     "name": "stdout",
     "output_type": "stream",
     "text": [
      "r5k1/pbp2ppp/6q1/2pp4/3B3r/2P1R1P1/PP2QP1P/R5K1 b - - 1 20 a5 Bf6 h5 \n",
      "3r3k/p5pp/2r2q2/2p4Q/8/8/P5PP/3R1R1K b - - 5 29 Qxf1+ Rxf1 a5 \n"
     ]
    },
    {
     "name": "stderr",
     "output_type": "stream",
     "text": [
      "\r",
      "45it [00:07,  3.83it/s]"
     ]
    },
    {
     "name": "stdout",
     "output_type": "stream",
     "text": [
      "r3r1k1/6b1/p2Nn2p/1P1Qp3/6nq/2P5/1PB2PP1/R1B1R1K1 w - - 1 30 Rf1 Nxf2 Qxa8 \n",
      "6k1/3R3p/1p5q/3P4/3QP1pN/6P1/PPr3B1/5rK1 w - - 0 25 Bxf1 b5 Rxh7 \n"
     ]
    },
    {
     "name": "stderr",
     "output_type": "stream",
     "text": [
      "\r",
      "47it [00:07,  4.62it/s]"
     ]
    },
    {
     "name": "stdout",
     "output_type": "stream",
     "text": [
      "rn1qr1k1/1p2bppp/2p2B2/p2p4/3P4/2N2N2/PPP1QPPP/2KRR3 b - - 0 12 b5 Bg5 f5 \n",
      "r5k1/pp3ppp/8/3p4/3P4/4R2P/q1P1QPPK/8 b - - 1 21 f5 Re8+ Kf7 \n",
      "3r4/2k2p1p/pp2pp2/2p5/3nN3/6P1/PPP2PRP/2K5 w - - 2 23 a4 Rh8 Nxc5 \n"
     ]
    },
    {
     "name": "stderr",
     "output_type": "stream",
     "text": [
      "\r",
      "50it [00:08,  4.91it/s]"
     ]
    },
    {
     "name": "stdout",
     "output_type": "stream",
     "text": [
      "4rk2/pbp2pp1/1p1b4/3P1q2/QPBPN3/1KP2P2/P5r1/R3R3 w - - 0 25 a3 Rd8 Nxd6 \n"
     ]
    },
    {
     "name": "stderr",
     "output_type": "stream",
     "text": [
      "\r",
      "51it [00:08,  4.75it/s]"
     ]
    },
    {
     "name": "stdout",
     "output_type": "stream",
     "text": [
      "6k1/6pp/1PP5/4b3/3p4/Br5P/4prP1/R5RK w - - 1 30 c7 e1=Q Raxe1 \n"
     ]
    },
    {
     "name": "stderr",
     "output_type": "stream",
     "text": [
      "\r",
      "52it [00:09,  2.60it/s]"
     ]
    },
    {
     "name": "stdout",
     "output_type": "stream",
     "text": [
      "4r1k1/1p2r3/p1p5/3p1p2/PP1P1q1p/2Q1P1pP/5PP1/4R1K1 w - - 0 39 f3 Kh8 exf4 \n"
     ]
    },
    {
     "name": "stderr",
     "output_type": "stream",
     "text": [
      "\r",
      "53it [00:10,  2.03it/s]"
     ]
    },
    {
     "name": "stdout",
     "output_type": "stream",
     "text": [
      "6k1/3P1pp1/4p3/p7/Q3R3/3q1PP1/1P3PK1/2r5 w - - 0 37 b4 Qxe4 fxe4 \n"
     ]
    },
    {
     "name": "stderr",
     "output_type": "stream",
     "text": [
      "\r",
      "54it [00:11,  2.18it/s]"
     ]
    },
    {
     "name": "stdout",
     "output_type": "stream",
     "text": [
      "1rr3k1/5p1p/p5pQ/4p3/4q3/B3P3/PPPR1PPP/2KR4 w - - 6 27 Bf8 Rxf8 Qxf8+ \n",
      "5rk1/1bR3q1/pQ6/8/6r1/4R2P/P7/6K1 w - - 0 28 hxg4 Qxg4+ Rg3 \n"
     ]
    },
    {
     "name": "stderr",
     "output_type": "stream",
     "text": [
      "\r",
      "56it [00:11,  3.09it/s]"
     ]
    },
    {
     "name": "stdout",
     "output_type": "stream",
     "text": [
      "r2n2k1/1bRq1rpp/1p6/3P4/p3Q3/B3P3/PP3PPP/3R2K1 b - - 0 20 g5 Rc8 h5 \n"
     ]
    },
    {
     "name": "stderr",
     "output_type": "stream",
     "text": [
      "60it [00:11,  5.15it/s]"
     ]
    },
    {
     "name": "stdout",
     "output_type": "stream",
     "text": [
      "3r1rk1/Q3qppp/8/1ppb4/2Pn1B1n/2N3P1/PP3P2/R2R1K2 w - - 0 21 gxh4 Rd7 Qxd7 \n",
      "8/n7/P7/3k4/PK6/7P/5PP1/8 w - - 0 53 f4 Nc8 g4 \n",
      "r1bq3r/ppppnkpp/2n5/b5N1/4P3/B1P5/P4PPP/RN1QK2R b KQ - 1 9 Kf6 Nf7 b5 \n",
      "1k5r/ppp1R2p/3r1p2/5Q2/3p4/2qP4/2P2PPP/2K1R3 b - - 5 26 Qxc2+ Kxc2 a5 \n",
      "3r1r2/p5kp/1p4pP/2p5/2PbBQ2/2q5/P1P1K3/5R2 b - - 0 34 Kg8 Qxf8+ Rxf8 \n"
     ]
    },
    {
     "name": "stderr",
     "output_type": "stream",
     "text": [
      "65it [00:12,  9.12it/s]"
     ]
    },
    {
     "name": "stdout",
     "output_type": "stream",
     "text": [
      "rnbqk1nr/ppppbppp/4p3/8/5P2/5N2/PPPPP1PP/RNBQKB1R w KQkq - 2 3 a4 Nh6 b4 \n",
      "1r4k1/p4ppp/4p3/p5n1/4P3/1P1N1PPq/QB3b1P/R5K1 w - - 0 30 Nxf2 Nxf3+ Kh1 \n",
      "4r1k1/p1R1n2p/4N3/5rK1/8/6PP/P3R3/8 w - - 3 46 Kg4 h5+ Kh4 \n",
      "5q1k/2r3p1/1p2p2b/3p2NQ/3P4/1p6/5R2/6K1 b - - 1 38 b2 Qe8 b5 \n"
     ]
    },
    {
     "name": "stderr",
     "output_type": "stream",
     "text": [
      "\r",
      "67it [00:13,  4.29it/s]"
     ]
    },
    {
     "name": "stdout",
     "output_type": "stream",
     "text": [
      "1k1r4/1p3Qp1/p2q3p/3N4/1b6/8/PP3PPP/2R3K1 w - - 4 22 a4 Ba5 Qxb7+ \n",
      "8/6P1/5k1K/8/8/3p4/PR6/6r1 w - - 1 49 a4 Kf7 g8=Q+ \n"
     ]
    },
    {
     "name": "stderr",
     "output_type": "stream",
     "text": [
      "70it [00:14,  4.20it/s]"
     ]
    },
    {
     "name": "stdout",
     "output_type": "stream",
     "text": [
      "6nr/1pN2ppp/p2Qbk2/2B1p3/3nq3/8/PP2BPPP/5K1R w - - 8 19 a4 Ne7 Bxd4 \n",
      "2k3rr/ppp2p1p/2np1B2/8/4P3/2NB1b2/PPP2PPP/R4RK1 w - - 1 13 g4 Bxg4 Bxh8 \n"
     ]
    },
    {
     "name": "stderr",
     "output_type": "stream",
     "text": [
      "\r",
      "74it [00:14,  7.36it/s]"
     ]
    },
    {
     "name": "stdout",
     "output_type": "stream",
     "text": [
      "1r2kb1r/p4ppp/Q1n5/2qpP1Bb/8/5N1P/P2N1PP1/R4RK1 b k - 2 16 f5 Qc8+ Nd8 \n",
      "r4r2/1ppb1p2/p2p2pk/5P2/4P3/2PBB1R1/PKP2P1q/8 b - - 4 26 g5 Rg4 b5 \n",
      "2r5/8/8/pNp1r2p/3kNppP/1P1P4/2R2K2/8 b - - 2 42 Kd5 b4 Rh8 \n",
      "6r1/p6k/1p4rp/3q1Q2/8/P7/4Rp1P/5R1K w - - 0 37 Qxd5 R8g7 Rexf2 \n",
      "5rk1/Q4p2/5p1p/2q5/8/8/P1r2PPP/3RR1K1 w - - 4 23 Rd7 Qxa7 Rxa7 \n"
     ]
    },
    {
     "name": "stderr",
     "output_type": "stream",
     "text": [
      "\r",
      "76it [00:15,  3.64it/s]"
     ]
    },
    {
     "name": "stdout",
     "output_type": "stream",
     "text": [
      "b6k/8/6p1/4q2p/1Q3r1P/P1N3R1/1PP3PK/8 w - - 3 35 Ne4 Rxh4+ Kg1 \n",
      "r2qkb1r/p2p2pb/1p1PpN2/2p1Pp2/2P2P1P/4K3/PP2B1P1/3Q3R b kq - 2 21 Kf7 a4 Rg8 \n"
     ]
    },
    {
     "name": "stderr",
     "output_type": "stream",
     "text": [
      "\r",
      "78it [00:15,  4.12it/s]"
     ]
    },
    {
     "name": "stdout",
     "output_type": "stream",
     "text": [
      "r3kb1r/4ppp1/3q2p1/p2p4/Pp1Pn3/6N1/1PP1QPPP/R1B1R1K1 w kq - 4 17 c4 Rg8 Qxe4 \n",
      "1r3bk1/5p2/3P1qRP/r1n1p3/ppB5/P2Q1P2/1PP5/1K6 b - - 0 35 Qg7 Rf6 b3 \n"
     ]
    },
    {
     "name": "stderr",
     "output_type": "stream",
     "text": [
      "\r",
      "80it [00:16,  4.66it/s]"
     ]
    },
    {
     "name": "stdout",
     "output_type": "stream",
     "text": [
      "rn1q1r1k/ppp5/1b2ppQ1/6B1/8/2P5/PP4PP/RN3R1K w - - 2 18 a4 Re8 Qxe8+ \n"
     ]
    },
    {
     "name": "stderr",
     "output_type": "stream",
     "text": [
      "\r",
      "81it [00:16,  4.29it/s]"
     ]
    },
    {
     "name": "stdout",
     "output_type": "stream",
     "text": [
      "3q2k1/8/Q2p2p1/3P1p1p/1p2P1nP/1Pp5/2P3P1/5R1K w - - 0 36 g3 fxe4 Qxd6 \n",
      "6k1/4bpp1/1q2p3/p2pP1N1/3P3P/1P1Q2K1/5P2/8 b - - 0 33 f5 Nh7 g5 \n"
     ]
    },
    {
     "name": "stderr",
     "output_type": "stream",
     "text": [
      "85it [00:16,  5.55it/s]"
     ]
    },
    {
     "name": "stdout",
     "output_type": "stream",
     "text": [
      "r3kb1r/ppp2pp1/3p4/1P2p3/2P3pn/2N1P2q/PB1P1P1N/R2Q1RK1 w kq - 0 15 Nxg4 a5 Nxe5 \n",
      "4r1k1/p4p2/1p3q1p/1P6/3b2p1/P3B1P1/Q1P2PKP/4R3 w - - 0 32 c4 Kh8 Bxd4 \n",
      "r2r2k1/pp3ppp/1qn2b2/3R4/4QB2/1P3N2/P4PPP/4R1K1 b - - 0 18 a5 Rxd8+ Qxd8 \n"
     ]
    },
    {
     "name": "stderr",
     "output_type": "stream",
     "text": [
      "\r",
      "86it [00:17,  2.68it/s]"
     ]
    },
    {
     "name": "stdout",
     "output_type": "stream",
     "text": [
      "r5k1/1p3p2/2p1ppp1/3p4/2nP4/1QB2B1P/rPP2PP1/qNKR3R w - - 3 22 g4 R2a7 Qxc4 \n"
     ]
    },
    {
     "name": "stderr",
     "output_type": "stream",
     "text": [
      "88it [00:18,  2.85it/s]"
     ]
    },
    {
     "name": "stdout",
     "output_type": "stream",
     "text": [
      "2r3k1/R4ppp/8/4P3/4Q3/1qn3B1/5PPP/2R3K1 w - - 0 30 f4 Kh8 Rxc3 \n",
      "r1b1k1nr/pppp1ppp/3b4/3N2B1/3p4/8/PP1KBPPP/4R2R b kq - 3 11 a5 Bd8 b5 \n",
      "8/5p2/pq5p/1p5k/6B1/6P1/P6P/2Q4K b - - 0 36 Kxg4 a4 Qd8 \n",
      "2r5/3RQ2p/6pk/8/5q1P/1P6/2K5/8 w - - 16 42 Rc7 Rxc7+ Qxc7 \n"
     ]
    },
    {
     "name": "stderr",
     "output_type": "stream",
     "text": [
      "\r",
      "91it [00:18,  5.05it/s]"
     ]
    },
    {
     "name": "stdout",
     "output_type": "stream",
     "text": [
      "6k1/5ppp/8/4rP2/1r4P1/2RK3P/8/7B b - - 0 47 g5 Kd2 h5 \n",
      "6k1/ppprN1pp/8/8/2r5/2P5/P5PP/3R1RK1 b - - 5 26 Rxe7 Rf8+ Kxf8 \n",
      "8/6p1/5p1p/R5kP/2b3P1/1r3PK1/8/8 b - - 4 61 f5 Ra8 f4+ \n",
      "4r1k1/p4ppp/8/8/8/8/PP1b1PPP/K2R4 w - - 0 21 a4 Kh8 Rxd2 \n"
     ]
    },
    {
     "name": "stderr",
     "output_type": "stream",
     "text": [
      "\r",
      "95it [00:19,  8.01it/s]"
     ]
    },
    {
     "name": "stdout",
     "output_type": "stream",
     "text": [
      "Qn1qk2r/p4ppp/2p5/2bn4/4pPb1/2N5/PPPP2PP/R1B1KBNR w KQk - 1 9 a4 Rg8 Nxd5 \n"
     ]
    },
    {
     "name": "stderr",
     "output_type": "stream",
     "text": [
      "\r",
      "97it [00:19,  7.07it/s]"
     ]
    },
    {
     "name": "stdout",
     "output_type": "stream",
     "text": [
      "5r1k/6p1/1Q2pq1p/P4r2/3P4/2P1R3/6PP/4R1K1 w - - 1 39 g4 Kg8 gxf5 \n",
      "5k2/p1R4R/1p4p1/3r3q/3P4/2P2rQp/PP5K/8 b - - 4 36 Rf2+ Kh1 a5 \n",
      "r4rk1/5p2/1q2pnRP/p2p4/1ppP4/2P1P3/PPQN1P2/2K4R b - - 0 21 Kh7 a4 Rh8 \n",
      "4r2k/p4r1p/2pp1Q2/2p5/3b1P2/3P2R1/PqPB2PP/4RK2 b - - 0 21 Bxf6 Rg8+ Rxg8 \n",
      "6k1/5Rp1/p6p/1p2P3/1qp1pNQ1/2n1P3/5KPP/3r4 b - - 0 31 g5 Rf8+ Kg7 \n"
     ]
    },
    {
     "name": "stderr",
     "output_type": "stream",
     "text": [
      "\r",
      "101it [00:20,  6.30it/s]"
     ]
    },
    {
     "name": "stdout",
     "output_type": "stream",
     "text": [
      "7r/2Q2pb1/3ppk1p/5Bp1/3P4/1N2P1P1/Pr2qPP1/R5KR w - - 6 29 a4 Rg8 Rxh6+ \n",
      "1rb3k1/p5pp/1p6/3R4/2B1p3/8/PP3rPP/1K5R b - - 1 26 g5 Rd8+ Kg7 \n",
      "4r2k/2q1r3/2p4Q/p5P1/1p1Pp1P1/2P1N2P/PP6/4bRK1 b - - 0 28 Rh7 Qf8+ Rxf8 \n",
      "r1k1R3/pppr1B2/5p1p/8/8/8/PPP2PPP/2K5 b - - 1 20 Rd8 a4 Kb8 \n",
      "8/2Q2kpp/1p1p2r1/1PnN4/2P1n3/6P1/1r3PK1/8 b - - 6 41 Nd7 Qd8 h5 \n"
     ]
    },
    {
     "name": "stderr",
     "output_type": "stream",
     "text": [
      "107it [00:20,  7.61it/s]"
     ]
    },
    {
     "name": "stdout",
     "output_type": "stream",
     "text": [
      "1r1r3k/2q1b1pp/p7/3Q2pP/3B4/Pp6/1P3P2/1K1N2RR w - - 1 28 Re1 Rf8 Rxe7 \n",
      "3r1rk1/ppp2pp1/8/3nP3/2PPN1q1/3Q4/PP6/5K1R b - - 0 24 f5 Nf6+ Kf7 \n"
     ]
    },
    {
     "name": "stderr",
     "output_type": "stream",
     "text": [
      "\r",
      "108it [00:21,  6.72it/s]"
     ]
    },
    {
     "name": "stdout",
     "output_type": "stream",
     "text": [
      "r4rk1/5ppp/p1p2b2/3q1b2/8/5N1P/PP2QPP1/R1B1R1K1 b - - 1 19 g5 Ne5 h5 \n",
      "r1b1r1k1/pp1p1p1Q/2n2Bp1/2p1qp2/2B1P3/3P1R2/PPP3PP/R5K1 b - - 0 16 Kxh7 a4 Rh8 \n",
      "r2q1rk1/4N1bp/p2p2p1/2p3N1/Pp4P1/1Q5P/1P1n1P2/5RK1 b - - 0 21 Kh8 Qg8+ Rxg8 \n"
     ]
    },
    {
     "name": "stderr",
     "output_type": "stream",
     "text": [
      "\r",
      "111it [00:21,  6.46it/s]"
     ]
    },
    {
     "name": "stdout",
     "output_type": "stream",
     "text": [
      "1rb3k1/p2q2bp/2p4r/2P1p1p1/3pPp2/1P1P1P2/PB1NN1nP/1R2QRK1 w - - 0 22 a4 Kh8 Kxg2 \n",
      "1r2r2k/Q1R4p/4q1p1/4Bb2/8/8/PP3PPP/3R2K1 b - - 0 28 Qf6 Rc8 h5 \n",
      "r4k1r/p3nppp/3Qp1b1/8/B7/P1q5/2P2PPP/3R1RK1 b - - 5 18 f5 Qd8+ Be8 \n"
     ]
    },
    {
     "name": "stderr",
     "output_type": "stream",
     "text": [
      "116it [00:22,  7.27it/s]"
     ]
    },
    {
     "name": "stdout",
     "output_type": "stream",
     "text": [
      "1q5r/p3kpp1/2Q1p2p/3pP2P/2n3P1/2N2P2/PrP5/K3R1NR w - - 0 26 a4 Rg8 Qxc4 \n",
      "2r3k1/R4pp1/1p2p2p/1q2P3/3Pp3/1p2P2P/5QP1/6K1 b - - 1 34 f5 Ra8 g5 \n",
      "2r2r1k/3b3n/p6q/1p1nN3/7P/3P2Q1/PPP2P2/1K4RR b - - 0 30 Qc1+ Rxc1 Rg8 \n",
      "q3k1nr/1pp1nQpp/3p4/1P2p3/4P3/B1PP1b2/B5PP/5K2 b k - 0 17 Kd7 Qe8+ Qxe8 \n",
      "r2brk1Q/pp3pp1/1q1pb1n1/1Bp1p1P1/4P3/P1PPBN2/5P2/1R2K2R b K - 10 26 Nxh8 a4 Ng6 \n"
     ]
    },
    {
     "name": "stderr",
     "output_type": "stream",
     "text": [
      "120it [00:23,  4.50it/s]"
     ]
    },
    {
     "name": "stdout",
     "output_type": "stream",
     "text": [
      "3r2k1/1p3pp1/pq1b3p/3P4/P7/3Q1N2/1r3PPP/R2R2K1 w - - 0 23 Rf1 a5 g4 \n",
      "3rr1k1/q3pp1p/p1p3p1/2P3N1/8/5P2/Q5PP/4n2K b - - 0 37 e5 Ne6 f5 \n"
     ]
    },
    {
     "name": "stderr",
     "output_type": "stream",
     "text": [
      "122it [00:23,  5.17it/s]"
     ]
    },
    {
     "name": "stdout",
     "output_type": "stream",
     "text": [
      "r4rk1/pbpp2p1/1pn3Qp/3N4/3q1N2/3B4/PP3PPP/5RK1 b - - 5 20 Qxb2 Qe8 a5 \n",
      "r5k1/p4p1p/1p3ppB/8/1npP4/4QP1q/P1P2P2/4R1K1 b - - 2 21 Qh1+ Kxh1 a5 \n"
     ]
    },
    {
     "name": "stderr",
     "output_type": "stream",
     "text": [
      "\r",
      "123it [00:24,  5.74it/s]"
     ]
    },
    {
     "name": "stdout",
     "output_type": "stream",
     "text": [
      "8/8/1R6/6k1/6P1/4r2P/r7/5R1K w - - 5 40 Rfb1 Kh4 g5 \n"
     ]
    },
    {
     "name": "stderr",
     "output_type": "stream",
     "text": [
      "126it [00:24,  6.09it/s]"
     ]
    },
    {
     "name": "stdout",
     "output_type": "stream",
     "text": [
      "5r2/p1k2qpp/2n5/2N1p3/2b5/2P1B3/PP1Q2PP/4R1K1 w - - 5 24 Qc2 Rh8 Qxh7 \n",
      "1r6/2r2p1R/7R/4pPk1/2B2n2/1P3P1P/P4K2/8 b - - 0 43 e4 Rh8 e3+ \n",
      "4Q1bk/2p3p1/1p1p4/5Bp1/p1q5/7P/5P2/6K1 b - - 1 34 Qc1+ Kh2 c5 \n",
      "R4rk1/2PR1ppp/8/8/7P/8/P3pqPK/8 b - - 0 33 Qxg2+ Kxg2 f5 \n"
     ]
    },
    {
     "name": "stderr",
     "output_type": "stream",
     "text": [
      "\r",
      "128it [00:25,  4.39it/s]"
     ]
    },
    {
     "name": "stdout",
     "output_type": "stream",
     "text": [
      "r1b2rk1/ppp2ppp/8/1B1pN3/3bn3/8/PPP2qPP/RNBQR2K w - - 0 12 a4 Kh8 Qxd4 \n"
     ]
    },
    {
     "name": "stderr",
     "output_type": "stream",
     "text": [
      "130it [00:25,  3.81it/s]"
     ]
    },
    {
     "name": "stdout",
     "output_type": "stream",
     "text": [
      "3r2k1/pp3pp1/7p/b7/2b3Q1/P2qPN1P/3N1PP1/3RK2R w K - 0 30 g3 Bxd2+ Rxd2 \n",
      "r5k1/5p1p/6p1/8/2q5/7P/P3rPP1/Q2R2K1 b - - 2 30 f5 Kh2 h5 \n"
     ]
    },
    {
     "name": "stderr",
     "output_type": "stream",
     "text": [
      "135it [00:26,  7.82it/s]"
     ]
    },
    {
     "name": "stdout",
     "output_type": "stream",
     "text": [
      "1k1r1br1/ppp5/3p1q2/4BP2/6P1/3Q1P1p/PPP5/3RR1K1 b - - 0 26 a5 Bf4 b5 \n",
      "r2q1rk1/1pp2ppp/8/p2pn3/P2bN3/3BB2Q/1P3PPP/R4RK1 b - - 1 17 b5 Nf6+ Kh8 \n",
      "3r2k1/4Q1pp/4pp2/pP6/P1BpP1PP/8/7K/3q4 b - - 1 34 h5 Qf8+ Kh7 \n",
      "6k1/5p2/2p1q3/3p2Q1/p1nB4/5P1P/6PK/8 b - - 5 50 Qg6 Qd8+ Kh7 \n",
      "r1bqk2r/pp1np1bp/2p3p1/3pNB2/3P1B2/4P3/PPP2PPP/R2QK2R b KQkq - 0 10 a5 Be6 b5 \n"
     ]
    },
    {
     "name": "stderr",
     "output_type": "stream",
     "text": [
      "\r",
      "137it [00:26,  5.90it/s]"
     ]
    },
    {
     "name": "stdout",
     "output_type": "stream",
     "text": [
      "4rrk1/pB4pp/2N2p2/2p5/6b1/1PN3P1/P1P2P1P/R3nK2 w - - 0 21 a4 Kh8 Rxe1 \n",
      "3rkbnr/1pp3pp/p4p2/4N3/4b3/8/PPP2PPP/RNB1R1K1 w k - 0 11 a4 Ne7 Rxe4 \n"
     ]
    },
    {
     "name": "stderr",
     "output_type": "stream",
     "text": [
      "\r",
      "138it [00:27,  5.18it/s]"
     ]
    },
    {
     "name": "stdout",
     "output_type": "stream",
     "text": [
      "6k1/5qp1/2R4p/1pQ1B3/4pP2/8/4rPPP/r1R3K1 w - - 1 32 Rxa1 g5 Rxh6 \n",
      "r5k1/pp3ppp/2pq1n2/3b4/3P2N1/2PQ4/PPB2PPP/4R1K1 b - - 0 22 a5 Nh6+ Kf8 \n",
      "3r1r1k/5Qpp/1qp3n1/p3p1N1/P2B4/3P4/B1P2P2/R4K2 b - - 2 25 Qb1+ Ke2 Rg8 \n"
     ]
    },
    {
     "name": "stderr",
     "output_type": "stream",
     "text": [
      "143it [00:27,  6.14it/s]"
     ]
    },
    {
     "name": "stdout",
     "output_type": "stream",
     "text": [
      "4r1k1/5ppp/n1R2b2/1B3P2/2Q2p1P/pP2qP2/P1P5/1K5R w - - 3 28 Re1 Qxb3+ Qxb3 \n",
      "8/3Q1kpp/8/3K4/6P1/8/7P/q7 b - - 9 46 Kf6 Qxg7+ Kxg7 \n",
      "1k1r4/ppp3r1/8/P1b5/4R3/7P/1PP5/R6K b - - 0 25 b5 Re8 b4 \n",
      "1k6/p3r3/1pK5/2n4R/4p3/8/8/8 b - - 8 52 a5 Kd6 e3 \n"
     ]
    },
    {
     "name": "stderr",
     "output_type": "stream",
     "text": [
      "\r",
      "145it [00:28,  6.55it/s]"
     ]
    },
    {
     "name": "stdout",
     "output_type": "stream",
     "text": [
      "r2k1bnr/p1pp1Bpp/1p3q2/4N1B1/3p4/2P5/PP2QPbP/RN2K2R b KQ - 2 10 a5 Be8 c5 \n",
      "5r1k/7P/pp6/q1p5/3pPrb1/1P1B3Q/2P1K1R1/7R w - - 0 46 Rxg4 c4 Rg8+ \n"
     ]
    },
    {
     "name": "stderr",
     "output_type": "stream",
     "text": [
      "150it [00:28,  8.43it/s]"
     ]
    },
    {
     "name": "stdout",
     "output_type": "stream",
     "text": [
      "r1bqk2r/pp4pp/3b1B2/3pNn2/4p3/2N5/PPP2PPP/R2QKB1R b KQkq - 0 11 a5 Be7 b5 \n",
      "2kr3r/4pBb1/Q2pNn1p/8/p3qP1n/P3B3/1PP2P2/R3K3 b Q - 5 25 Qb7 b4 Rhg8 \n",
      "4r1k1/1b1r1pPp/4p3/p5B1/5Q2/1P6/PbR3qP/6RK w - - 0 36 Rgxg2 Bxg2+ Rxg2 \n",
      "6rk/p1N2R1p/1n1Q4/2p1p3/8/7P/PPP3P1/4q2K w - - 1 33 Kh2 a5 Rf8 \n",
      "5r1k/p1q3pp/2p1Q1p1/8/8/5RN1/P1P3P1/6K1 b - - 1 26 Qb6+ Kh2 a5 \n",
      "1r4k1/3R1pbp/1p2p1p1/p1q5/P1P5/1B3Q2/5PPP/6K1 b - - 0 24 f5 Rd8+ Qf8 \n",
      "8/p2Q1p2/1p3p1p/2b1k3/5P2/8/PPBr1q1P/R6K b - - 0 31 Qxf4 Qe8+ Be7 \n"
     ]
    },
    {
     "name": "stderr",
     "output_type": "stream",
     "text": [
      "\r",
      "154it [00:30,  4.55it/s]"
     ]
    },
    {
     "name": "stdout",
     "output_type": "stream",
     "text": [
      "1n3r1k/p5pp/8/7Q/4P3/2NP4/PPPB2qP/R2KRr2 w - - 3 21 a4 Rxe1+ Bxe1 \n",
      "3r2k1/1bqPn1pp/p3pp2/1pp3PQ/8/8/PPP4P/1K1R1R2 b - - 1 28 g6 Qh6 b4 \n"
     ]
    },
    {
     "name": "stderr",
     "output_type": "stream",
     "text": [
      "\r",
      "156it [00:30,  4.97it/s]"
     ]
    },
    {
     "name": "stdout",
     "output_type": "stream",
     "text": [
      "r6k/4q1pp/1n1pBp2/2p1nP2/1p2R2Q/1P5P/r5P1/2B1R1K1 b - - 6 31 g5 Bg8 h5 \n"
     ]
    },
    {
     "name": "stderr",
     "output_type": "stream",
     "text": [
      "\r",
      "157it [00:31,  3.58it/s]"
     ]
    },
    {
     "name": "stdout",
     "output_type": "stream",
     "text": [
      "r2qk2r/ppp2pp1/2p2n2/7p/3bP1b1/2N3Q1/PPP2PPP/R1B1KB1R w KQkq - 0 9 a4 Bc8 Qxc7 \n",
      "3Q4/5pk1/5P2/4K2p/P2P4/2q1p3/5r2/8 b - - 0 52 Kg6 Qh8 e2 \n"
     ]
    },
    {
     "name": "stderr",
     "output_type": "stream",
     "text": [
      "\r",
      "159it [00:31,  3.80it/s]"
     ]
    },
    {
     "name": "stdout",
     "output_type": "stream",
     "text": [
      "5r1k/3p2bp/p4pp1/qp1br3/4P3/1Q4B1/PP2RPPP/4R1K1 w - - 0 23 a4 Ree8 exd5 \n",
      "2k5/p1p5/r6q/3b4/8/3P4/PPP2P1P/R1B2RK1 w - - 0 31 Bxh6 Rxh6 a4 \n"
     ]
    },
    {
     "name": "stderr",
     "output_type": "stream",
     "text": [
      "163it [00:32,  4.21it/s]"
     ]
    },
    {
     "name": "stdout",
     "output_type": "stream",
     "text": [
      "r1b2rk1/pp3pp1/3b3p/3Bn3/P2N1q2/2P4P/1P3PP1/RN1Q1RK1 w - - 1 17 b4 Kh8 Bxb7 \n",
      "6Rk/pp6/1bpN3p/4P1p1/7q/3Q3P/PP4P1/7K b - - 0 28 Kxg8 a4 Kh8 \n",
      "r5r1/pb2kp1Q/2p5/q1b1N2P/1p2P3/8/PnP1N3/1K1R4 b - - 0 24 b3 Qh8 f5 \n"
     ]
    },
    {
     "name": "stderr",
     "output_type": "stream",
     "text": [
      "\r",
      "166it [00:32,  6.23it/s]"
     ]
    },
    {
     "name": "stdout",
     "output_type": "stream",
     "text": [
      "8/3R3p/6pk/5p2/5PP1/1r5P/r2B1K2/8 b - - 0 46 g5 Rd8 Ra1 \n",
      "r2q3k/pp2R1pp/3p4/Q7/8/8/Pb3PPP/4R1K1 b - - 0 29 g5 Re8+ Kg7 \n",
      "r3r1k1/ppq1ppb1/2p3nN/2Pp3p/3Pn2N/1P2P2P/PB3QP1/R4RK1 b - - 9 23 Bxh6 Nxg6 a5 \n",
      "4k3/4P3/2p1KP2/2N5/7r/8/p7/8 b - - 4 42 Rh1 Kd6 Ra1 \n"
     ]
    },
    {
     "name": "stderr",
     "output_type": "stream",
     "text": [
      "\r",
      "168it [00:33,  5.42it/s]"
     ]
    },
    {
     "name": "stdout",
     "output_type": "stream",
     "text": [
      "5r1k/pp4p1/b1p1Q2p/3p4/PP1P2P1/6bP/4NPBq/R3RK2 w - - 1 29 b5 cxb5 Qxa6 \n"
     ]
    },
    {
     "name": "stderr",
     "output_type": "stream",
     "text": [
      "\r",
      "169it [00:33,  4.67it/s]"
     ]
    },
    {
     "name": "stdout",
     "output_type": "stream",
     "text": [
      "5rk1/3q1r1p/1p1bQ1p1/8/1P4R1/7P/3N2P1/5R1K w - - 5 34 g3 Qd8 Rxf7 \n"
     ]
    },
    {
     "name": "stderr",
     "output_type": "stream",
     "text": [
      "174it [00:34,  7.03it/s]"
     ]
    },
    {
     "name": "stdout",
     "output_type": "stream",
     "text": [
      "r2r2k1/p3qppp/1pb1p3/2p1P1N1/5n2/2P2N2/PPQ2PPP/R4RK1 b - - 7 16 a5 Ne4 f5 \n",
      "2r2k2/1R3p1p/6pP/P2p4/1p6/1P2RPP1/3r4/1K6 b - - 2 39 Rb2+ Kxb2 f5 \n",
      "8/8/8/1R3p2/1P6/6k1/r6p/7K w - - 2 50 Rc5 Kh4 Rxf5 \n",
      "2r3k1/p4q2/4N1pQ/1p1nP3/3P4/8/5PP1/6KR b - - 0 32 Qf3 Qh8+ Kf7 \n",
      "4rr2/ppp2q1k/3p2p1/2bP4/4RPP1/1RBQ4/P6P/7K b - - 0 32 a5 Re7 b5 \n"
     ]
    },
    {
     "name": "stderr",
     "output_type": "stream",
     "text": [
      "\r",
      "176it [00:34,  6.30it/s]"
     ]
    },
    {
     "name": "stdout",
     "output_type": "stream",
     "text": [
      "1k6/1p2R3/2p1B1r1/p6p/N4r2/8/PPP5/3R3K w - - 2 32 b4 Ka8 bxa5 \n",
      "3r4/p1k3q1/1p2p2p/2p1n1p1/2P1N3/P2R2Q1/1P3PPP/6K1 w - - 1 29 b4 Rh8 Qxe5+ \n"
     ]
    },
    {
     "name": "stderr",
     "output_type": "stream",
     "text": [
      "\r",
      "177it [00:34,  5.83it/s]"
     ]
    },
    {
     "name": "stdout",
     "output_type": "stream",
     "text": [
      "r3k2r/pp2bppp/2pQ4/2Bn4/6P1/3P4/PPP4P/1K2R1Nq b kq - 3 19 f5 Qd8+ Kf7 \n",
      "r4rk1/pppbq1pp/1b3p2/3Bp2R/3P4/2P3P1/PP3P1P/R1BQ2K1 b - - 0 16 Be6 Rh6 a5 \n",
      "r3r1k1/1ppQ1pp1/1p5p/1P6/3P4/2P5/3B1PPP/5qK1 w - - 0 22 Kxf1 Ra1+ Bc1 \n"
     ]
    },
    {
     "name": "stderr",
     "output_type": "stream",
     "text": [
      "\r",
      "181it [00:35,  7.30it/s]"
     ]
    },
    {
     "name": "stdout",
     "output_type": "stream",
     "text": [
      "7R/kb6/2pp1p2/4qP2/3pPN2/1QbP4/B1P5/2K5 w - - 1 38 Kb1 Bc8 Qxc3 \n",
      "R1b3k1/4pp1p/3p2p1/2pP4/2P1PP2/2Q2B1P/5qPK/1r6 b - - 9 27 Qg3+ Kxg3 e5 \n"
     ]
    },
    {
     "name": "stderr",
     "output_type": "stream",
     "text": [
      "186it [00:35,  8.64it/s]"
     ]
    },
    {
     "name": "stdout",
     "output_type": "stream",
     "text": [
      "6k1/pp4p1/7p/1PPp4/P2b2rq/5rN1/6PP/3QR2K w - - 0 30 Qxf3 a5 Qxd5+ \n",
      "8/8/p1pk1R2/1pp1rp2/8/1P1K4/P1P5/8 b - - 1 36 Re6 Rf8 b4 \n",
      "5rk1/p3Q1pp/2p5/3q4/4p1B1/6PP/4P1K1/8 b - - 3 31 h5 Qe8 a5 \n",
      "r4r1k/1p2q2p/1Qp5/p4p2/2b1p3/P1P1P2P/5P1N/1K1R2R1 b - - 0 27 h5 Qd8 b5 \n"
     ]
    },
    {
     "name": "stderr",
     "output_type": "stream",
     "text": [
      "\r",
      "187it [00:35,  8.00it/s]"
     ]
    },
    {
     "name": "stdout",
     "output_type": "stream",
     "text": [
      "Q1bk3r/2p2pNp/8/3PP3/2p3q1/B1P5/6BP/7K w - - 3 33 h4 Qxg7 Qxc8+ \n"
     ]
    },
    {
     "name": "stderr",
     "output_type": "stream",
     "text": [
      "189it [00:36,  6.22it/s]"
     ]
    },
    {
     "name": "stdout",
     "output_type": "stream",
     "text": [
      "8/q4k1r/p2pRbpp/5n2/1PP2P2/P2Q1N1P/6PK/4R3 w - - 12 30 g4 Rh8 gxf5 \n",
      "8/5p2/2rk4/3b4/7P/3Q2P1/5P2/6K1 w - - 3 48 f4 Ke7 Qxd5 \n"
     ]
    },
    {
     "name": "stderr",
     "output_type": "stream",
     "text": [
      "\r",
      "190it [00:37,  3.55it/s]"
     ]
    },
    {
     "name": "stdout",
     "output_type": "stream",
     "text": [
      "q4rk1/n2P1ppp/p7/6b1/Pp1B2P1/1Pp1RN1n/2Q2P2/R4K2 w - - 0 30 d8=N Kh8 Nxg5 \n",
      "r1b2rk1/ppp2p1p/6p1/1N1P2q1/1PPbBp2/6n1/1P2Q1PP/R1B2R1K w - - 5 18 hxg3 c5 Nc7 \n",
      "6k1/p5p1/2R3P1/3pr3/8/4P3/P7/5K2 b - - 0 32 a5 Rc8+ Re8 \n"
     ]
    },
    {
     "name": "stderr",
     "output_type": "stream",
     "text": [
      "195it [00:37,  6.66it/s]"
     ]
    },
    {
     "name": "stdout",
     "output_type": "stream",
     "text": [
      "8/R5R1/4p2p/3p4/4b1Pk/2r4P/5P1K/8 w - - 5 57 f4 Rxh3+ Kg1 \n",
      "2rn2k1/p2bRppp/8/3B2N1/8/8/P4PPP/R1r3K1 w - - 0 24 Rxc1 Rxc1+ Re1 \n",
      "6k1/1p4pp/p3r3/2b1r3/5N2/2P5/PP2n1PP/2B1RR1K w - - 4 26 a4 Kh8 Nxe6 \n",
      "5r1k/1pp2Npp/p6r/4pP2/2Q1Pq2/8/PP4PP/3R3K b - - 5 32 Kg8 a4 Re8 \n"
     ]
    },
    {
     "name": "stderr",
     "output_type": "stream",
     "text": [
      "\r",
      "198it [00:37,  9.12it/s]"
     ]
    },
    {
     "name": "stdout",
     "output_type": "stream",
     "text": [
      "r3qr2/2pn2bk/p2p1P2/1p4pp/3PN3/P2Q4/1PP2P2/2K4R b - - 0 22 c5 Ng3+ Qe4 \n",
      "8/2p5/3b2kp/3p2p1/P3p1K1/1P2R2P/1B4P1/8 w - - 2 36 g3 Kh7 Rxe4 \n",
      "2Q2rk1/p4ppp/1p3q2/3bR3/7N/P5P1/1P3P1P/4R1K1 b - - 0 23 Qxf2+ Kxf2 a5 \n",
      "5k1r/R5p1/b4n1p/5P1q/5B2/P2p4/6PP/4Q1K1 b - - 0 26 g5 Ra8+ Qe8 \n"
     ]
    },
    {
     "name": "stderr",
     "output_type": "stream",
     "text": [
      "\r",
      "201it [00:37,  8.96it/s]"
     ]
    },
    {
     "name": "stdout",
     "output_type": "stream",
     "text": [
      "3r3k/pQ2b1pp/8/8/2p2q1n/2B2p2/PP3P1P/1K4NN w - - 0 27 a4 Kg8 Qxe7 \n",
      "r5k1/4rpp1/p2b1R2/1ppPq1N1/8/2NQ3P/PP6/5RK1 b - - 0 24 b4 Rh6 f5 \n"
     ]
    },
    {
     "name": "stderr",
     "output_type": "stream",
     "text": [
      "\r",
      "203it [00:38,  7.98it/s]"
     ]
    },
    {
     "name": "stdout",
     "output_type": "stream",
     "text": [
      "r2q1r1k/4b1p1/p3b2p/4B1pQ/2p1P3/1P1p3P/P2P1P2/2KR2R1 b - - 0 22 c3 Qe8 c2 \n"
     ]
    },
    {
     "name": "stderr",
     "output_type": "stream",
     "text": [
      "\r",
      "204it [00:38,  5.66it/s]"
     ]
    },
    {
     "name": "stdout",
     "output_type": "stream",
     "text": [
      "3r1rk1/2p2ppp/p1n1p1bq/1pN4n/3P4/P1B2P2/1P2B1PP/2RQR2K w - - 6 20 b4 Kh8 Bxb5 \n"
     ]
    },
    {
     "name": "stderr",
     "output_type": "stream",
     "text": [
      "206it [00:39,  4.45it/s]"
     ]
    },
    {
     "name": "stdout",
     "output_type": "stream",
     "text": [
      "2kr3r/1bpp1ppp/1b4q1/p3Pn2/PpN5/1BpP1P2/1P1BQ1PP/R4R1K w - - 0 18 g4 Bxf3+ Rxf3 \n",
      "6r1/p1qk4/QbN5/3p1p2/8/4P1r1/P6P/1R2R1K1 w - - 0 32 hxg3 Bxe3+ Kh2 \n"
     ]
    },
    {
     "name": "stderr",
     "output_type": "stream",
     "text": [
      "209it [00:40,  3.75it/s]"
     ]
    },
    {
     "name": "stdout",
     "output_type": "stream",
     "text": [
      "2rr4/5pkp/2q1p1p1/1b6/p3P3/P3Q3/BP3PPP/2R3K1 w - - 6 28 b4 Rd1+ Rxd1 \n",
      "r4rk1/ppp1qpp1/1nn1b2p/2b1p3/4N3/2PQ1N1P/PPB2PP1/R1B2RK1 b - - 7 14 a5 Nf6+ Kh8 \n",
      "7k/8/8/2prp3/1p2Nnp1/1P6/P4RPP/7K w - - 0 40 Rf1 Ng6 Nxc5 \n"
     ]
    },
    {
     "name": "stderr",
     "output_type": "stream",
     "text": [
      "\r",
      "210it [00:40,  3.78it/s]"
     ]
    },
    {
     "name": "stdout",
     "output_type": "stream",
     "text": [
      "3nrr1k/1ppR2p1/p6p/6NQ/2B2p1P/1P6/P1PK1PP1/q6R b - - 2 22 b5 Rf7 c5 \n",
      "2r4k/pb4pp/1p6/3pP3/3Pn3/2PBq1NQ/PP5P/5R1K b - - 4 23 Qg1+ Rxg1 Kg8 \n"
     ]
    },
    {
     "name": "stderr",
     "output_type": "stream",
     "text": [
      "\r",
      "212it [00:41,  3.18it/s]"
     ]
    },
    {
     "name": "stdout",
     "output_type": "stream",
     "text": [
      "4r2r/p1p2kp1/2p2p2/2Qb4/8/2B3Nq/PPP2R1P/R5K1 w - - 10 30 Be1 Rxe1+ Rxe1 \n"
     ]
    },
    {
     "name": "stderr",
     "output_type": "stream",
     "text": [
      "214it [00:42,  3.27it/s]"
     ]
    },
    {
     "name": "stdout",
     "output_type": "stream",
     "text": [
      "3k3r/ppNb4/3B1p2/6pp/2B1P1n1/3P2K1/PPn3PP/7R w - - 0 19 a4 Rh7 b4 \n",
      "3r2k1/1q3n1p/6p1/2PB1p2/1P6/2Q1P3/2P2PPP/6K1 w - - 0 31 f4 Kf8 Bxb7 \n"
     ]
    },
    {
     "name": "stderr",
     "output_type": "stream",
     "text": [
      "\r",
      "215it [00:43,  2.23it/s]"
     ]
    },
    {
     "name": "stdout",
     "output_type": "stream",
     "text": [
      "r4rk1/p4ppp/Q7/3pb3/1B1Np2q/P3P3/4BPK1/1RR5 w - - 3 26 f4 Rfe8 fxe5 \n"
     ]
    },
    {
     "name": "stderr",
     "output_type": "stream",
     "text": [
      "\r",
      "216it [00:43,  2.01it/s]"
     ]
    },
    {
     "name": "stdout",
     "output_type": "stream",
     "text": [
      "r4rk1/pp3ppp/8/2P1q3/1Q1n4/1P2p3/b1PN1PPP/2KR1B1R w - - 0 17 f4 Qxf4 Qxd4 \n"
     ]
    },
    {
     "name": "stderr",
     "output_type": "stream",
     "text": [
      "\r",
      "217it [00:44,  2.22it/s]"
     ]
    },
    {
     "name": "stdout",
     "output_type": "stream",
     "text": [
      "2kr3r/ppp2ppp/2nbp3/6B1/P2P2n1/2N2N1q/1PP1BP2/R2QR1K1 w - - 2 14 d5 Rdg8 dxc6 \n"
     ]
    },
    {
     "name": "stderr",
     "output_type": "stream",
     "text": [
      "\r",
      "218it [00:44,  2.18it/s]"
     ]
    },
    {
     "name": "stdout",
     "output_type": "stream",
     "text": [
      "7r/5pk1/1Qp5/1p1p2P1/3P4/PP2P1Pq/3R4/2R3K1 w - - 1 34 g6 Kxg6 Rxc6+ \n"
     ]
    },
    {
     "name": "stderr",
     "output_type": "stream",
     "text": [
      "220it [00:45,  2.92it/s]"
     ]
    },
    {
     "name": "stdout",
     "output_type": "stream",
     "text": [
      "5rk1/2p3n1/3p3p/pPp5/P1q2bQ1/5R2/6PP/5R1K w - - 0 33 h4 Kh8 Rxf4 \n",
      "3r2rk/1pq2pp1/p2pbR1p/8/8/3B4/PPPQ1PPP/3R2K1 b - - 1 24 g5 Rg6 b5 \n"
     ]
    },
    {
     "name": "stderr",
     "output_type": "stream",
     "text": [
      "\r",
      "221it [00:45,  2.92it/s]"
     ]
    },
    {
     "name": "stdout",
     "output_type": "stream",
     "text": [
      "r4k2/1bp2pp1/1p1b3p/1N1P4/1pP5/P4B1P/4RPP1/6K1 w - - 0 30 g4 Bc5 axb4 \n"
     ]
    },
    {
     "name": "stderr",
     "output_type": "stream",
     "text": [
      "\r",
      "222it [00:45,  2.82it/s]"
     ]
    },
    {
     "name": "stdout",
     "output_type": "stream",
     "text": [
      "4r1k1/pp2rp1p/5Rp1/1q6/8/1P4Q1/P4PPP/5RK1 w - - 1 22 Re1 a5 Rxe7 \n"
     ]
    },
    {
     "name": "stderr",
     "output_type": "stream",
     "text": [
      "224it [00:46,  3.95it/s]"
     ]
    },
    {
     "name": "stdout",
     "output_type": "stream",
     "text": [
      "7k/p1q4p/5Pp1/1ppb4/3n1PQ1/2KP4/PP6/2R4R w - - 0 27 a4 Kg8 axb5 \n",
      "8/4rk1p/P4p2/5R2/3b4/1P5P/2P3P1/1K6 w - - 1 36 c4 Kg8 Rxf6 \n",
      "3Q3k/1pb2rpp/p5q1/3Q3n/8/1PN1P2P/1PP3P1/R6K b - - 0 30 Bxd8 g4 Kg8 \n",
      "1Q5k/6pp/p1n5/3R4/qpp1PP2/7P/PP3BP1/1K6 b - - 0 37 Nd8 g4 Kg8 \n",
      "1k6/1p6/pK4p1/7p/P1P5/4R1P1/6r1/8 b - - 1 35 h4 Kc5 b5 \n"
     ]
    },
    {
     "name": "stderr",
     "output_type": "stream",
     "text": [
      "230it [00:46,  7.90it/s]"
     ]
    },
    {
     "name": "stdout",
     "output_type": "stream",
     "text": [
      "6k1/3r2p1/p1b5/1p1qPp2/5B2/Q7/1P4PP/6RK w - - 10 44 e6 Kh8 exd7 \n",
      "rnb2r2/ppp2B1k/3p3p/2b4Q/4P3/3P4/PP1NKPPP/q7 b - - 0 14 Qd1+ Kxd1 a5 \n",
      "1k1r4/p7/1pQ1pP2/2p4q/P1P4P/8/1BP2PP1/6K1 w - - 1 27 f4 Rh8 Qxc5 \n"
     ]
    },
    {
     "name": "stderr",
     "output_type": "stream",
     "text": [
      "\r",
      "231it [00:47,  5.36it/s]"
     ]
    },
    {
     "name": "stdout",
     "output_type": "stream",
     "text": [
      "5rk1/p5pp/2ppp3/4p2R/4N1q1/5Q2/PPP3P1/1K6 w - - 3 22 a4 Re8 Qxg4 \n"
     ]
    }
   ],
   "source": [
    "from tqdm import tqdm\n",
    "correct = 0\n",
    "incorrect = 0\n",
    "for puzzle in tqdm(mate_in_2.iterrows()):\n",
    "    fen = puzzle[1]['FEN']\n",
    "    board = chess.Board(fen)\n",
    "    result = alphabet(fen, 3)\n",
    "    moves = ''\n",
    "    for move in result[1]:\n",
    "        # display(chess.svg.board(board, arrows=[chess.svg.Arrow(move.from_square, move.to_square)], size=400))\n",
    "        moves += board.san(move) + ' '\n",
    "        board.push(move)\n",
    "    if board.is_checkmate():\n",
    "        correct += 1\n",
    "    else:\n",
    "        incorrect += 1\n",
    "        print(fen, moves)\n",
    "print(correct, incorrect)"
   ]
  },
  {
   "cell_type": "code",
   "execution_count": null,
   "metadata": {},
   "outputs": [],
   "source": []
  }
 ],
 "metadata": {
  "kernelspec": {
   "display_name": "Python 3 (ipykernel)",
   "language": "python",
   "name": "python3"
  },
  "language_info": {
   "codemirror_mode": {
    "name": "ipython",
    "version": 3
   },
   "file_extension": ".py",
   "mimetype": "text/x-python",
   "name": "python",
   "nbconvert_exporter": "python",
   "pygments_lexer": "ipython3",
   "version": "3.10.12"
  }
 },
 "nbformat": 4,
 "nbformat_minor": 2
}
